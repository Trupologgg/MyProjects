{
 "cells": [
  {
   "cell_type": "markdown",
   "metadata": {},
   "source": [
    "# HSE 2022: Mathematical Methods for Data Analysis\n",
    "\n",
    "## Homework 1"
   ]
  },
  {
   "cell_type": "markdown",
   "metadata": {},
   "source": [
    "### Attention!\n",
    "* For tasks where <ins>text answer</ins> is required **Russian language** is **allowed**.\n",
    "* If a task asks you to describe something (make coclusions) then **text answer** is **mandatory** and **is** part of the task\n",
    "* **Do not** upload the dataset (titanic.csv) to the grading system (we already have it)\n",
    "* We **only** accept **ipynb** notebooks. If you use Google Colab then you'll have to download the notebook before passing the homework\n",
    "* **Do not** use python loops instead of NumPy vector operations over NumPy vectors - it significantly decreases performance (see why https://blog.paperspace.com/numpy-optimization-vectorization-and-broadcasting/), will be punished with -0.25 for **every** task. \n",
    "Loops are only allowed in part 1 (Tasks 1 - 4). \n",
    "* Some tasks contain tests. They only test you solution on a simple example, thus, passing the test does **not** guarantee you the full grade for the task. "
   ]
  },
  {
   "cell_type": "code",
   "execution_count": 1,
   "metadata": {},
   "outputs": [],
   "source": [
    "import pandas as pd\n",
    "%matplotlib inline\n",
    "import numpy as np"
   ]
  },
  {
   "cell_type": "markdown",
   "metadata": {},
   "source": [
    "# 1. Python (2 points)"
   ]
  },
  {
   "cell_type": "markdown",
   "metadata": {},
   "source": [
    "**Task 1** (0.5 points)<br/> \n",
    "Enter nonzero numbers `a`,  `r` and `N`. Find the first `N` members of geometric progression with the first member `a` and factor `r`, without using formula for the product."
   ]
  },
  {
   "cell_type": "code",
   "execution_count": 2,
   "metadata": {},
   "outputs": [
    {
     "name": "stdout",
     "output_type": "stream",
     "text": [
      "[2, 6, 18]\n"
     ]
    }
   ],
   "source": [
    "def find_product(a, r, N):\n",
    "    a_prev = a\n",
    "    arr_product = list()\n",
    "    arr_product.append(a)\n",
    "    for i in range(1, N):\n",
    "        a_cur = a_prev * r\n",
    "        arr_product.append(a_cur)\n",
    "        a_prev = a_cur\n",
    "    return arr_product\n",
    "\n",
    "\n",
    "a = 2\n",
    "r = 3\n",
    "N = 3\n",
    "print(find_product(a, r, N))"
   ]
  },
  {
   "cell_type": "markdown",
   "metadata": {},
   "source": [
    "**Task 2** (0.5 points) <br/> \n",
    "Enter an integer number `N`. Check if it is a palindrome number. It means that it can be read equally from left to right and from right to back. "
   ]
  },
  {
   "cell_type": "code",
   "execution_count": 3,
   "metadata": {},
   "outputs": [
    {
     "name": "stdout",
     "output_type": "stream",
     "text": [
      "3 True\n",
      "81 False\n",
      "111 True\n",
      "113 False\n",
      "810 False\n",
      "2022 False\n",
      "4774 True\n",
      "51315 True\n",
      "611816 False\n"
     ]
    }
   ],
   "source": [
    "def check_palindrome(N):\n",
    "    # rev_n = ''.join(reversed(str(N)))\n",
    "    if str(N) == ''.join(reversed(str(N))):\n",
    "        return True\n",
    "    else:\n",
    "        return False\n",
    "\n",
    "\n",
    "for N in [3, 81, 111, 113, 810, 2022, 4774, 51315, 611816]:\n",
    "    print(N, check_palindrome(N))"
   ]
  },
  {
   "cell_type": "markdown",
   "metadata": {},
   "source": [
    "**Task 3** (0.5 points) <br/> \n",
    "Find the first `N` palindrome numbers starting from 1000 (you may use the function from the precious task)."
   ]
  },
  {
   "cell_type": "code",
   "execution_count": 4,
   "metadata": {},
   "outputs": [
    {
     "name": "stdout",
     "output_type": "stream",
     "text": [
      "[1001, 1111, 1221, 1331, 1441]\n",
      "[1001, 1111, 1221, 1331, 1441, 1551, 1661, 1771, 1881, 1991]\n",
      "[1001, 1111, 1221, 1331, 1441, 1551, 1661, 1771, 1881, 1991, 2002, 2112, 2222, 2332, 2442, 2552, 2662, 2772, 2882, 2992]\n"
     ]
    }
   ],
   "source": [
    "def find_palindromes(N):\n",
    "    palindromes = list()\n",
    "    start = 1000\n",
    "    while N > 0:\n",
    "        if check_palindrome(start):\n",
    "            palindromes.append(start)\n",
    "            N -= 1\n",
    "        start += 1\n",
    "    return palindromes\n",
    "\n",
    "\n",
    "print(find_palindromes(5))\n",
    "print(find_palindromes(10))\n",
    "print(find_palindromes(20))"
   ]
  },
  {
   "cell_type": "markdown",
   "metadata": {},
   "source": [
    "**Task 4** (0.5 points) <br/>\n",
    "There are numbers: `a`, `b`, `c`. Without using functions `min`, `max` and other functions, find the minimum number."
   ]
  },
  {
   "cell_type": "code",
   "execution_count": 5,
   "metadata": {},
   "outputs": [
    {
     "name": "stdout",
     "output_type": "stream",
     "text": [
      "-88 -7 -90 \tMinimum: -90\n",
      "-3 -14 67 \tMinimum: -14\n",
      "-72 -55 21 \tMinimum: -72\n",
      "65 27 36 \tMinimum: 27\n",
      "89 11 -66 \tMinimum: 11\n",
      "-64 3 -46 \tMinimum: -64\n",
      "25 -43 46 \tMinimum: -43\n",
      "68 -50 67 \tMinimum: -50\n",
      "-86 -27 -57 \tMinimum: -86\n",
      "-94 -59 -76 \tMinimum: -94\n"
     ]
    }
   ],
   "source": [
    "from random import randint\n",
    "\n",
    "\n",
    "def find_min(a, b, c):\n",
    "    min_ = a\n",
    "    if min_ > b:\n",
    "        min_ = b\n",
    "    elif min_ > c:\n",
    "        min_ = c\n",
    "    return min_\n",
    "\n",
    "\n",
    "for i in range(10):\n",
    "    a = randint(-100, 100)\n",
    "    b = randint(-100, 100)\n",
    "    c = randint(-100, 100)\n",
    "\n",
    "    print(a, b, c, '\\tMinimum:', find_min(a, b, c))"
   ]
  },
  {
   "cell_type": "markdown",
   "metadata": {},
   "source": [
    "# 2. Numpy (4 points)"
   ]
  },
  {
   "cell_type": "markdown",
   "metadata": {},
   "source": [
    "**Task 1** (0.5 points) <br/>\n",
    "Create a random array (`np.random.rand()`) with length of 17 and with sum of its elements equals to 6."
   ]
  },
  {
   "cell_type": "code",
   "execution_count": 6,
   "metadata": {},
   "outputs": [
    {
     "name": "stdout",
     "output_type": "stream",
     "text": [
      "Length: 17\n",
      "Sum of elements: 6.0\n"
     ]
    }
   ],
   "source": [
    "k = np.random.rand(17)\n",
    "my_array =  np.array(k / sum(k) * 6)\n",
    "print(f'Length: {len(my_array)}')\n",
    "print(f'Sum of elements: {np.sum(my_array)}')"
   ]
  },
  {
   "cell_type": "markdown",
   "metadata": {},
   "source": [
    "**Task 2** (0.5 points) <br/>\n",
    "Create two random arrays $a$ and $b$ with the same length. \n",
    "\n",
    "Calculate the following distances between the arrays **without using special funcrion. You may only use basic numpy operations (`np.linalg.*` and other high-level ones are prohibited).**:\n",
    "\n",
    "* Manhattan Distance\n",
    "$$ d(a, b) = \\sum_i |a_i - b_i| $$\n",
    "* Euclidean Distance\n",
    "$$ d(a, b) = \\sqrt{\\sum_i (a_i - b_i)^2} $$\n",
    "* Chebyshev Distance\n",
    "$$ d(a, b) = \\underset{i}{max} |a_i - b_i| $$\n",
    "* Cosine Distance\n",
    "$$ d(a, b) = 1 - \\frac{a^\\top b}{||a||_2\\cdot||b||_2} $$\n"
   ]
  },
  {
   "cell_type": "code",
   "execution_count": 134,
   "metadata": {},
   "outputs": [],
   "source": [
    "def calculate_manhattan(a, b):\n",
    "    distance = np.sum(np.abs(a-b))\n",
    "    return distance\n",
    "\n",
    "\n",
    "def calculate_euclidean(a, b):\n",
    "    distance = np.sqrt(np.sum(np.square(a-b)))\n",
    "    return distance\n",
    "\n",
    "\n",
    "def calculate_chebyshev(a, b):\n",
    "    distance = np.abs(a-b).max()\n",
    "    return distance\n",
    "\n",
    "\n",
    "def calculate_cosine(a, b):\n",
    "    tmp_1 = np.abs(np.sqrt(np.sum(a ** 2)))\n",
    "    tmp_2 = np.abs(np.sqrt(np.sum(b ** 2)))\n",
    "    distance = np.dot(a,b) / (tmp_1 * tmp_2)\n",
    "    return distance\n",
    "\n",
    "def my_func(vector_a, vector_b):\n",
    "    return np.sum(abs(vector_a ** 2 - vector_b ** 2))"
   ]
  },
  {
   "cell_type": "code",
   "execution_count": 135,
   "metadata": {},
   "outputs": [
    {
     "name": "stdout",
     "output_type": "stream",
     "text": [
      "Manhattan distance: 4.781365040289065\n",
      "Euclidean distance: 1.6052761250063017\n",
      "Chebyshev distance: 0.7080753604373375\n",
      "Cosine distance: 0.546109029095079\n",
      "51\n"
     ]
    }
   ],
   "source": [
    "a = np.random.rand(10)\n",
    "b = np.random.rand(10)\n",
    "print(f'Manhattan distance: {calculate_manhattan(a, b)}')\n",
    "print(f'Euclidean distance: {calculate_euclidean(a, b)}')\n",
    "print(f'Chebyshev distance: {calculate_chebyshev(a, b)}')\n",
    "print(f'Cosine distance: {calculate_cosine(a, b)}')\n",
    "print(my_func(np.array([-1, -3]), np.array([-5, 6])))"
   ]
  },
  {
   "cell_type": "markdown",
   "metadata": {},
   "source": [
    "**Task 3** (0.5 points) <br/>\n",
    "Create a random array (`np.random.randint()`) with length of 76. Transform the array so that \n",
    "* Maximum element(s) value is -1\n",
    "* Minimum element(s) value is -4\n",
    "* Other values are in interval (-4; -1) with keeping the order"
   ]
  },
  {
   "cell_type": "code",
   "execution_count": 9,
   "metadata": {},
   "outputs": [],
   "source": [
    "def transform(array):\n",
    "    array[array > -1] = -1\n",
    "    array[array < -4] = -4\n",
    "    transformed_array = np.sort(array)\n",
    "    return transformed_array"
   ]
  },
  {
   "cell_type": "code",
   "execution_count": 10,
   "metadata": {},
   "outputs": [
    {
     "name": "stdout",
     "output_type": "stream",
     "text": [
      "Min: -4\n",
      "Max: -1\n",
      "Array:\n",
      "[-4 -4 -4 -4 -4 -4 -4 -4 -4 -4 -4 -4 -4 -4 -4 -4 -4 -4 -4 -4 -4 -4 -4 -4\n",
      " -4 -4 -4 -4 -4 -4 -4 -4 -4 -4 -4 -4 -4 -4 -3 -1 -1 -1 -1 -1 -1 -1 -1 -1\n",
      " -1 -1 -1 -1 -1 -1 -1 -1 -1 -1 -1 -1 -1 -1 -1 -1 -1 -1 -1 -1 -1 -1 -1 -1\n",
      " -1 -1 -1 -1]\n"
     ]
    }
   ],
   "source": [
    "my_array = np.random.randint(-100, 100, size=76)\n",
    "my_array = transform(my_array)\n",
    "print(f'Min: {np.min(my_array)}')\n",
    "print(f'Max: {np.max(my_array)}')\n",
    "print('Array:')\n",
    "print(my_array)"
   ]
  },
  {
   "cell_type": "markdown",
   "metadata": {},
   "source": [
    "**Task 4** (0.5 points) <br/>\n",
    "Create an array with shape of $8 \\times 5$ with integers from [-7, 43]. Print a column that contains the maximum element of the array."
   ]
  },
  {
   "cell_type": "code",
   "execution_count": 11,
   "metadata": {},
   "outputs": [
    {
     "name": "stdout",
     "output_type": "stream",
     "text": [
      "Shape:  (8, 5)\n",
      "Array:\n",
      "[[37  0 -3 30 27]\n",
      " [23  7 17 -1 16]\n",
      " [28 11  6 38 -7]\n",
      " [40 22 17 14  6]\n",
      " [-3 14 19 40 16]\n",
      " [39 29  2  8 13]\n",
      " [38 12  5 24 14]\n",
      " [40 11  1 -3  7]]\n"
     ]
    }
   ],
   "source": [
    "my_array =  np.random.randint(-7,43, size=(8,5))\n",
    "## Your code here\n",
    "tmp = np.argmax(np.max(my_array, axis=0))\n",
    "selected_column = my_array[:, tmp]\n",
    "## Your code here\n",
    "print('Shape: ', my_array.shape)\n",
    "print('Array:')\n",
    "print(my_array)"
   ]
  },
  {
   "cell_type": "markdown",
   "metadata": {},
   "source": [
    "**Task 5** (0.5 points) <br/>\n",
    "\n",
    "Replace all missing values in the following array with median."
   ]
  },
  {
   "cell_type": "code",
   "execution_count": 12,
   "metadata": {},
   "outputs": [
    {
     "name": "stdout",
     "output_type": "stream",
     "text": [
      "Array:\n",
      "[0.67549953 0.33411819        nan 0.99231092 0.59600831 0.81239151\n",
      " 0.31766103        nan 0.0582942         nan]\n"
     ]
    }
   ],
   "source": [
    "arr = np.random.rand(10)\n",
    "idx = np.random.randint(0, 10, 4)\n",
    "arr[idx] = np.nan\n",
    "\n",
    "print('Array:')\n",
    "print(arr)"
   ]
  },
  {
   "cell_type": "code",
   "execution_count": 13,
   "metadata": {},
   "outputs": [],
   "source": [
    "def replace_missing(arr):\n",
    "    arr[np.isnan(arr)] = np.nanmedian(arr)\n",
    "    array_without_missing = arr\n",
    "    return array_without_missing"
   ]
  },
  {
   "cell_type": "code",
   "execution_count": 14,
   "metadata": {},
   "outputs": [
    {
     "name": "stdout",
     "output_type": "stream",
     "text": [
      "Array with no missing values:\n",
      "[0.67549953 0.33411819 0.59600831 0.99231092 0.59600831 0.81239151\n",
      " 0.31766103 0.59600831 0.0582942  0.59600831]\n"
     ]
    }
   ],
   "source": [
    "arr = replace_missing(arr)\n",
    "print('Array with no missing values:')\n",
    "print(arr)"
   ]
  },
  {
   "cell_type": "markdown",
   "metadata": {},
   "source": [
    "**Task 6** (0.5 points) <br/>\n",
    "Create a function which takes an image ```X``` (3D array of the shape (n, m, 3)) as an input and returns the mean for all 3 channels (a vector of shape 3)."
   ]
  },
  {
   "cell_type": "code",
   "execution_count": 15,
   "metadata": {},
   "outputs": [],
   "source": [
    "def mean_channel(X):\n",
    "    mean_vector = np.mean(X, axis=tuple(range(X.ndim-1)))\n",
    "    return mean_vector"
   ]
  },
  {
   "cell_type": "code",
   "execution_count": 16,
   "metadata": {},
   "outputs": [
    {
     "name": "stdout",
     "output_type": "stream",
     "text": [
      "Vector of means: [-2.3020595  -1.7826087  -1.93363844]\n"
     ]
    }
   ],
   "source": [
    "n = 19\n",
    "m = 23\n",
    "X = np.random.randint(-11, 8, size=(n, m, 3))\n",
    "print(f'Vector of means: {mean_channel(X)}')"
   ]
  },
  {
   "cell_type": "markdown",
   "metadata": {},
   "source": [
    "### **Task 7** (1 points) <br/>\n",
    "Create a function which takes a 3D matrix ```X``` as an input and returns all its unique vertical (first axis) layers.\n",
    "\n",
    "Sample input:\n",
    "\n",
    "     ([[[1, 2, 3],\n",
    "        [1, 2, 3],\n",
    "        [1, 2, 3]],\n",
    "\n",
    "       [[4, 5, 6],\n",
    "        [4, 5, 7]\n",
    "        [4, 5, 6]],\n",
    "\n",
    "       [[7, 8, 9],\n",
    "        [7, 8, 9]\n",
    "        [7, 8, 9]]])\n",
    "        \n",
    "Sample output:\n",
    "\n",
    "     ([[[1, 2, 3],\n",
    "        [1, 2, 3]],\n",
    "\n",
    "       [[4, 5, 6],\n",
    "        [4, 5, 7]],\n",
    "\n",
    "       [[7, 8, 9],\n",
    "        [7, 8, 9]]])"
   ]
  },
  {
   "cell_type": "code",
   "execution_count": 17,
   "metadata": {},
   "outputs": [],
   "source": [
    "def get_unique_columns(X):\n",
    "    X_unique = np.unique(X, axis=1)\n",
    "    return X_unique"
   ]
  },
  {
   "cell_type": "code",
   "execution_count": 18,
   "metadata": {},
   "outputs": [
    {
     "name": "stdout",
     "output_type": "stream",
     "text": [
      "Matrix:\n",
      "[[[4 4 5]\n",
      "  [4 4 5]\n",
      "  [5 5 5]]\n",
      "\n",
      " [[4 5 5]\n",
      "  [4 4 4]\n",
      "  [4 4 4]]\n",
      "\n",
      " [[5 4 4]\n",
      "  [5 5 5]\n",
      "  [5 4 4]]\n",
      "\n",
      " [[5 4 5]\n",
      "  [4 5 5]\n",
      "  [4 5 4]]\n",
      "\n",
      " [[5 5 4]\n",
      "  [4 4 5]\n",
      "  [5 4 5]]\n",
      "\n",
      " [[4 5 5]\n",
      "  [5 4 5]\n",
      "  [4 4 5]]\n",
      "\n",
      " [[4 4 4]\n",
      "  [4 5 5]\n",
      "  [4 4 5]]\n",
      "\n",
      " [[5 4 5]\n",
      "  [4 5 4]\n",
      "  [5 5 4]]\n",
      "\n",
      " [[4 4 4]\n",
      "  [4 4 4]\n",
      "  [4 4 5]]\n",
      "\n",
      " [[5 5 4]\n",
      "  [4 4 5]\n",
      "  [4 4 5]]\n",
      "\n",
      " [[5 5 5]\n",
      "  [5 4 5]\n",
      "  [4 5 4]]\n",
      "\n",
      " [[5 4 5]\n",
      "  [4 4 4]\n",
      "  [5 4 5]]\n",
      "\n",
      " [[4 4 5]\n",
      "  [4 5 4]\n",
      "  [4 5 5]]\n",
      "\n",
      " [[4 5 5]\n",
      "  [5 4 5]\n",
      "  [4 4 4]]\n",
      "\n",
      " [[4 5 4]\n",
      "  [4 5 4]\n",
      "  [5 4 4]]\n",
      "\n",
      " [[5 4 5]\n",
      "  [5 4 5]\n",
      "  [5 4 4]]\n",
      "\n",
      " [[4 5 5]\n",
      "  [4 4 4]\n",
      "  [4 5 4]]\n",
      "\n",
      " [[4 4 4]\n",
      "  [5 5 4]\n",
      "  [5 4 4]]\n",
      "\n",
      " [[5 4 5]\n",
      "  [5 4 5]\n",
      "  [4 4 5]]]\n",
      "Unique columns:\n"
     ]
    },
    {
     "data": {
      "text/plain": "array([[[4, 4, 5],\n        [4, 4, 5],\n        [5, 5, 5]],\n\n       [[4, 4, 4],\n        [4, 5, 5],\n        [4, 4, 4]],\n\n       [[5, 5, 5],\n        [5, 4, 4],\n        [5, 4, 4]],\n\n       [[4, 5, 5],\n        [5, 4, 5],\n        [4, 5, 4]],\n\n       [[4, 4, 5],\n        [5, 5, 4],\n        [5, 4, 5]],\n\n       [[5, 4, 5],\n        [4, 5, 5],\n        [4, 4, 5]],\n\n       [[4, 5, 5],\n        [4, 4, 4],\n        [4, 4, 5]],\n\n       [[4, 5, 4],\n        [5, 4, 5],\n        [5, 5, 4]],\n\n       [[4, 4, 4],\n        [4, 4, 4],\n        [4, 4, 5]],\n\n       [[4, 4, 5],\n        [5, 5, 4],\n        [4, 4, 5]],\n\n       [[5, 4, 5],\n        [5, 5, 5],\n        [4, 5, 4]],\n\n       [[4, 4, 4],\n        [5, 4, 5],\n        [5, 4, 5]],\n\n       [[4, 5, 4],\n        [4, 4, 5],\n        [4, 5, 5]],\n\n       [[5, 4, 5],\n        [4, 5, 5],\n        [4, 4, 4]],\n\n       [[4, 5, 4],\n        [4, 5, 4],\n        [5, 4, 4]],\n\n       [[5, 4, 5],\n        [5, 4, 5],\n        [5, 4, 4]],\n\n       [[4, 4, 4],\n        [4, 5, 5],\n        [4, 5, 4]],\n\n       [[5, 5, 4],\n        [4, 4, 4],\n        [5, 4, 4]],\n\n       [[5, 4, 5],\n        [5, 4, 5],\n        [4, 4, 5]]])"
     },
     "execution_count": 18,
     "metadata": {},
     "output_type": "execute_result"
    }
   ],
   "source": [
    "X = np.random.randint(4, 6, size=(n, 3, 3))\n",
    "print('Matrix:')\n",
    "print(X)\n",
    "print('Unique columns:')\n",
    "get_unique_columns(X)"
   ]
  },
  {
   "cell_type": "markdown",
   "metadata": {},
   "source": [
    "# 3. Pandas & Visualization (4 points)\n"
   ]
  },
  {
   "cell_type": "markdown",
   "metadata": {},
   "source": [
    "You are going to work with *Titanic* dataset which contains information about passengers of Titanic:\n",
    "- **Survived** - 1 - survived, 0 - died (0); **Target variable**\n",
    "- **pclass** - passengers's class;\n",
    "- **sex** - passengers's sex\n",
    "- **Age** - passengers's age in years\n",
    "- **sibsp**    - is the passenger someones siblings   \n",
    "- **parch**    - is the passenger someones child or parent\n",
    "- **ticket** - ticket number    \n",
    "- **fare** - ticket price    \n",
    "- **cabin** - cabin number\n",
    "- **embarked** - port of Embarkation; C = Cherbourg, Q = Queenstown, S = Southampton\n",
    "\n",
    "**Note** for all visualizations use matplotlib or seaborn but NOT plotly! Plotly's graphics sometimes vanish after saving. In this case the task wont't be graded.\n",
    "\n",
    "**Note** support all your answers with necessary code, computations, vizualization, and explanation. Answers without code and explanation won't be graded.\n",
    "\n",
    "**Task 0** (0 points) \\\n",
    "Load the dataset and print first 5 rows"
   ]
  },
  {
   "cell_type": "code",
   "execution_count": 19,
   "metadata": {},
   "outputs": [],
   "source": [
    "import pandas as pd\n",
    "import matplotlib.pyplot as plt"
   ]
  },
  {
   "cell_type": "code",
   "execution_count": 20,
   "metadata": {},
   "outputs": [
    {
     "data": {
      "text/plain": "   PassengerId  Survived  Pclass  \\\n0            1         0       3   \n1            2         1       1   \n2            3         1       3   \n3            4         1       1   \n4            5         0       3   \n\n                                                Name     Sex   Age  SibSp  \\\n0                            Braund, Mr. Owen Harris    male  22.0      1   \n1  Cumings, Mrs. John Bradley (Florence Briggs Th...  female  38.0      1   \n2                             Heikkinen, Miss. Laina  female  26.0      0   \n3       Futrelle, Mrs. Jacques Heath (Lily May Peel)  female  35.0      1   \n4                           Allen, Mr. William Henry    male  35.0      0   \n\n   Parch            Ticket     Fare Cabin Embarked  \n0      0         A/5 21171   7.2500   NaN        S  \n1      0          PC 17599  71.2833   C85        C  \n2      0  STON/O2. 3101282   7.9250   NaN        S  \n3      0            113803  53.1000  C123        S  \n4      0            373450   8.0500   NaN        S  ",
      "text/html": "<div>\n<style scoped>\n    .dataframe tbody tr th:only-of-type {\n        vertical-align: middle;\n    }\n\n    .dataframe tbody tr th {\n        vertical-align: top;\n    }\n\n    .dataframe thead th {\n        text-align: right;\n    }\n</style>\n<table border=\"1\" class=\"dataframe\">\n  <thead>\n    <tr style=\"text-align: right;\">\n      <th></th>\n      <th>PassengerId</th>\n      <th>Survived</th>\n      <th>Pclass</th>\n      <th>Name</th>\n      <th>Sex</th>\n      <th>Age</th>\n      <th>SibSp</th>\n      <th>Parch</th>\n      <th>Ticket</th>\n      <th>Fare</th>\n      <th>Cabin</th>\n      <th>Embarked</th>\n    </tr>\n  </thead>\n  <tbody>\n    <tr>\n      <th>0</th>\n      <td>1</td>\n      <td>0</td>\n      <td>3</td>\n      <td>Braund, Mr. Owen Harris</td>\n      <td>male</td>\n      <td>22.0</td>\n      <td>1</td>\n      <td>0</td>\n      <td>A/5 21171</td>\n      <td>7.2500</td>\n      <td>NaN</td>\n      <td>S</td>\n    </tr>\n    <tr>\n      <th>1</th>\n      <td>2</td>\n      <td>1</td>\n      <td>1</td>\n      <td>Cumings, Mrs. John Bradley (Florence Briggs Th...</td>\n      <td>female</td>\n      <td>38.0</td>\n      <td>1</td>\n      <td>0</td>\n      <td>PC 17599</td>\n      <td>71.2833</td>\n      <td>C85</td>\n      <td>C</td>\n    </tr>\n    <tr>\n      <th>2</th>\n      <td>3</td>\n      <td>1</td>\n      <td>3</td>\n      <td>Heikkinen, Miss. Laina</td>\n      <td>female</td>\n      <td>26.0</td>\n      <td>0</td>\n      <td>0</td>\n      <td>STON/O2. 3101282</td>\n      <td>7.9250</td>\n      <td>NaN</td>\n      <td>S</td>\n    </tr>\n    <tr>\n      <th>3</th>\n      <td>4</td>\n      <td>1</td>\n      <td>1</td>\n      <td>Futrelle, Mrs. Jacques Heath (Lily May Peel)</td>\n      <td>female</td>\n      <td>35.0</td>\n      <td>1</td>\n      <td>0</td>\n      <td>113803</td>\n      <td>53.1000</td>\n      <td>C123</td>\n      <td>S</td>\n    </tr>\n    <tr>\n      <th>4</th>\n      <td>5</td>\n      <td>0</td>\n      <td>3</td>\n      <td>Allen, Mr. William Henry</td>\n      <td>male</td>\n      <td>35.0</td>\n      <td>0</td>\n      <td>0</td>\n      <td>373450</td>\n      <td>8.0500</td>\n      <td>NaN</td>\n      <td>S</td>\n    </tr>\n  </tbody>\n</table>\n</div>"
     },
     "execution_count": 20,
     "metadata": {},
     "output_type": "execute_result"
    }
   ],
   "source": [
    "data =  pd.read_csv('../datasets/titanic.csv')\n",
    "data.head()"
   ]
  },
  {
   "cell_type": "markdown",
   "metadata": {},
   "source": [
    "**Task 1** (1 points) <br/>\n",
    "Answer the following questions:\n",
    "    \n",
    "    * Are there any missing values? In what columns?\n",
    "    * What is the percentage of survived passengers? Are the classes balanced?\n",
    "    * Were there more males or females?\n",
    "    * What what the least popular port of embarkation?\n",
    "    * How many classes (pclass) were there on Tinanic?\n",
    "    * What is the overall average ticket fare? And for every class?\n",
    "Please, write not only the answers but the code, proving it."
   ]
  },
  {
   "cell_type": "markdown",
   "metadata": {},
   "source": [
    "Пропущенные значения имеются в столбцах <i>Age</i>, <i>Cabin</i> и <i>Embarked</i>\n"
   ]
  },
  {
   "cell_type": "code",
   "execution_count": 21,
   "metadata": {},
   "outputs": [
    {
     "data": {
      "text/plain": "PassengerId      0\nSurvived         0\nPclass           0\nName             0\nSex              0\nAge            177\nSibSp            0\nParch            0\nTicket           0\nFare             0\nCabin          687\nEmbarked         2\ndtype: int64"
     },
     "execution_count": 21,
     "metadata": {},
     "output_type": "execute_result"
    }
   ],
   "source": [
    "data.isna().sum()"
   ]
  },
  {
   "cell_type": "markdown",
   "source": [
    "Можно заметить, что проценты выживших людей в зависимости от класса сильно разняться. Чем выше цифра класса(чем дешевле) тем ниже процент выживаемости. Скорее всего люди из 1 класса были в приоритете на эвакуацию, чем люди из 3 класса."
   ],
   "metadata": {
    "collapsed": false
   }
  },
  {
   "cell_type": "code",
   "execution_count": 22,
   "metadata": {},
   "outputs": [
    {
     "data": {
      "text/plain": "Survived  Pclass\n0         1          80\n          2          97\n          3         372\n1         1         136\n          2          87\n          3         119\nName: Survived, dtype: int64"
     },
     "metadata": {},
     "output_type": "display_data"
    },
    {
     "name": "stdout",
     "output_type": "stream",
     "text": [
      "Процент выживших пассажиров: 0.3838383838383838\n",
      "Процент выживших пассажиров 1 класса: 0.6296296296296297\n",
      "Процент выживших пассажиров 2 класса: 0.37339055793991416\n",
      "Процент выживших пассажиров 3 класса: 0.234251968503937\n"
     ]
    }
   ],
   "source": [
    "grouped_data_per_class_and_surv_count = data.groupby(['Survived', 'Pclass'])['Survived'].count()\n",
    "display(grouped_data_per_class_and_surv_count)\n",
    "\n",
    "\n",
    "print(\"Процент выживших пассажиров:\", data['Survived'].sum() / data['Survived'].count())\n",
    "print(\"Процент выживших пассажиров 1 класса:\", grouped_data_per_class_and_surv_count[1][1] / (grouped_data_per_class_and_surv_count[1][1] + grouped_data_per_class_and_surv_count[0][1]))\n",
    "print(\"Процент выживших пассажиров 2 класса:\", grouped_data_per_class_and_surv_count[1][2] / (grouped_data_per_class_and_surv_count[1][1] + grouped_data_per_class_and_surv_count[0][2]))\n",
    "print(\"Процент выживших пассажиров 3 класса:\", grouped_data_per_class_and_surv_count[1][3] / (grouped_data_per_class_and_surv_count[1][1] + grouped_data_per_class_and_surv_count[0][3]))"
   ]
  },
  {
   "cell_type": "markdown",
   "metadata": {},
   "source": [
    "Мужчин было больше - 577, а женщин 314"
   ]
  },
  {
   "cell_type": "code",
   "execution_count": 23,
   "metadata": {},
   "outputs": [
    {
     "data": {
      "text/plain": "Sex\nfemale    314\nmale      577\nName: Sex, dtype: int64"
     },
     "execution_count": 23,
     "metadata": {},
     "output_type": "execute_result"
    }
   ],
   "source": [
    "grouped_data = data.groupby(\"Sex\")['Sex'].count()\n",
    "grouped_data"
   ]
  },
  {
   "cell_type": "markdown",
   "metadata": {},
   "source": [
    "Наименне популярный порт Q - Queenstown."
   ]
  },
  {
   "cell_type": "code",
   "execution_count": 24,
   "metadata": {},
   "outputs": [
    {
     "data": {
      "text/plain": "Embarked\nQ     77\nC    168\nS    644\nName: Embarked, dtype: int64"
     },
     "execution_count": 24,
     "metadata": {},
     "output_type": "execute_result"
    }
   ],
   "source": [
    "grouped_data = data.groupby('Embarked')['Embarked'].count().sort_values()\n",
    "grouped_data"
   ]
  },
  {
   "cell_type": "markdown",
   "metadata": {},
   "source": [
    "Всего было 3 класса."
   ]
  },
  {
   "cell_type": "code",
   "execution_count": 25,
   "metadata": {},
   "outputs": [
    {
     "name": "stdout",
     "output_type": "stream",
     "text": [
      "3\n"
     ]
    }
   ],
   "source": [
    "print(len(data['Pclass'].unique()))"
   ]
  },
  {
   "cell_type": "code",
   "execution_count": 26,
   "metadata": {},
   "outputs": [
    {
     "name": "stdout",
     "output_type": "stream",
     "text": [
      "Общая средняя цена: 32.2042079685746\n",
      "Средняя цена для 1 класса: 84.1546875\n",
      "Средняя цена для 2 класса: 20.662183152173913\n",
      "Средняя цена для 3 класса: 13.675550101832993\n"
     ]
    }
   ],
   "source": [
    "mean_price_all = data['Fare'].mean()\n",
    "print(\"Общая средняя цена:\", mean_price_all)\n",
    "median_price_per_class = data.groupby('Pclass')['Fare'].mean()\n",
    "print(\"Средняя цена для 1 класса:\", median_price_per_class[1])\n",
    "print(\"Средняя цена для 2 класса:\", median_price_per_class[2])\n",
    "print(\"Средняя цена для 3 класса:\", median_price_per_class[3])"
   ]
  },
  {
   "cell_type": "markdown",
   "metadata": {},
   "source": [
    "**Task 2** (0.5 points) <br/>\n",
    "Visualize age distribution (you may use a histogram, for example). \n",
    "\n",
    "    * What is the minimal and maximum ages of the passengers? Visualize it on the plot\n",
    "    * What is the mean age? And among males and females sepatately? Visualize it on the plot\n",
    "    * Make conclusions about what you see on the plot"
   ]
  },
  {
   "cell_type": "markdown",
   "metadata": {},
   "source": [
    "Минимальный возраст - 0.42 лет, максимальный - 80. Средний возраст по кораблю составляет 29.7, по мужчинам - 30.73, а по женщинам - 27.92.\n",
    "Людей с минимальным возрастом намного больше, чем людей с максимальным. Несмотря на то, что средний возраст по кораблю 29.69, пик возраста людей приходиться левее этого значения, это связано с тем, что присутствуют люди с 80 годами, так и с 0, что непосредственно влияет на средний возраст.\n"
   ]
  },
  {
   "cell_type": "code",
   "execution_count": 27,
   "metadata": {},
   "outputs": [
    {
     "name": "stdout",
     "output_type": "stream",
     "text": [
      "Минимальный возраст на корабле -  0.42 а максимальный -  80.0\n",
      "Средний возраст по кораблю: 29.69911764705882\n",
      "Средний возраст по кораблю среди мужчин: 30.72664459161148\n",
      "Средний возраст по кораблю среди женщин: 27.915708812260537\n"
     ]
    },
    {
     "data": {
      "text/plain": "<Figure size 1080x360 with 1 Axes>",
      "image/png": "[encoded data removed]"
     },
     "metadata": {
      "needs_background": "light"
     },
     "output_type": "display_data"
    }
   ],
   "source": [
    "data['Age'].plot(kind='hist', bins=len(data['Age'].unique()), figsize=(15, 5));\n",
    "print(\"Минимальный возраст на корабле - \", data['Age'].min(), 'а максимальный - ', data['Age'].max())\n",
    "print('Средний возраст по кораблю:', data['Age'].mean())\n",
    "print('Средний возраст по кораблю среди мужчин:', data.groupby(['Sex'])['Age'].mean()['male'])\n",
    "print('Средний возраст по кораблю среди женщин:', data.groupby(['Sex'])['Age'].mean()['female'])\n",
    "plt.axvline(x=data['Age'].min(), color='green')\n",
    "plt.axvline(x=data['Age'].max(), color='red')\n",
    "plt.axvline(x=data['Age'].mean(), color='purple')\n",
    "plt.axvline(x= data.groupby(['Sex'])['Age'].mean()['male'], color='brown')\n",
    "plt.axvline(x= data.groupby(['Sex'])['Age'].mean()['female'], color='black')\n",
    "plt.legend(['Возраст', 'Минимальный возраст', 'Максимальный возраст', 'Средний возраст', 'Средний возраст мужчин', 'Средний возраст женщин'], loc='upper right');"
   ]
  },
  {
   "cell_type": "markdown",
   "metadata": {},
   "source": [
    "**Task 3** (1 points) <br/>\n",
    "Find all the titles of the passengers (example, *Capt., Mr.,Mme.*), which are written in the column Name, and answer the following questions:\n",
    "\n",
    "    * How many are there unique titles?\n",
    "    * How many are there passengers with every title?\n",
    "    * What is the most popular man's title? And woman's title?\n",
    "    \n",
    "**Hint** You may select the title from the name as a word which contains a dot."
   ]
  },
  {
   "cell_type": "code",
   "execution_count": 28,
   "metadata": {},
   "outputs": [
    {
     "data": {
      "text/plain": "    PassengerId  Survived  Pclass  \\\n0             1         0       3   \n1             2         1       1   \n2             3         1       3   \n3             4         1       1   \n4             5         0       3   \n5             6         0       3   \n6             7         0       1   \n7             8         0       3   \n8             9         1       3   \n9            10         1       2   \n10           11         1       3   \n11           12         1       1   \n12           13         0       3   \n13           14         0       3   \n14           15         0       3   \n15           16         1       2   \n16           17         0       3   \n17           18         1       2   \n18           19         0       3   \n19           20         1       3   \n\n                                                 Name     Sex   Age  SibSp  \\\n0                             Braund, Mr. Owen Harris    male  22.0      1   \n1   Cumings, Mrs. John Bradley (Florence Briggs Th...  female  38.0      1   \n2                              Heikkinen, Miss. Laina  female  26.0      0   \n3        Futrelle, Mrs. Jacques Heath (Lily May Peel)  female  35.0      1   \n4                            Allen, Mr. William Henry    male  35.0      0   \n5                                    Moran, Mr. James    male   NaN      0   \n6                             McCarthy, Mr. Timothy J    male  54.0      0   \n7                      Palsson, Master. Gosta Leonard    male   2.0      3   \n8   Johnson, Mrs. Oscar W (Elisabeth Vilhelmina Berg)  female  27.0      0   \n9                 Nasser, Mrs. Nicholas (Adele Achem)  female  14.0      1   \n10                    Sandstrom, Miss. Marguerite Rut  female   4.0      1   \n11                           Bonnell, Miss. Elizabeth  female  58.0      0   \n12                     Saundercock, Mr. William Henry    male  20.0      0   \n13                        Andersson, Mr. Anders Johan    male  39.0      1   \n14               Vestrom, Miss. Hulda Amanda Adolfina  female  14.0      0   \n15                   Hewlett, Mrs. (Mary D Kingcome)   female  55.0      0   \n16                               Rice, Master. Eugene    male   2.0      4   \n17                       Williams, Mr. Charles Eugene    male   NaN      0   \n18  Vander Planke, Mrs. Julius (Emelia Maria Vande...  female  31.0      1   \n19                            Masselmani, Mrs. Fatima  female   NaN      0   \n\n    Parch            Ticket     Fare Cabin Embarked  \n0       0         A/5 21171   7.2500   NaN        S  \n1       0          PC 17599  71.2833   C85        C  \n2       0  STON/O2. 3101282   7.9250   NaN        S  \n3       0            113803  53.1000  C123        S  \n4       0            373450   8.0500   NaN        S  \n5       0            330877   8.4583   NaN        Q  \n6       0             17463  51.8625   E46        S  \n7       1            349909  21.0750   NaN        S  \n8       2            347742  11.1333   NaN        S  \n9       0            237736  30.0708   NaN        C  \n10      1           PP 9549  16.7000    G6        S  \n11      0            113783  26.5500  C103        S  \n12      0         A/5. 2151   8.0500   NaN        S  \n13      5            347082  31.2750   NaN        S  \n14      0            350406   7.8542   NaN        S  \n15      0            248706  16.0000   NaN        S  \n16      1            382652  29.1250   NaN        Q  \n17      0            244373  13.0000   NaN        S  \n18      0            345763  18.0000   NaN        S  \n19      0              2649   7.2250   NaN        C  ",
      "text/html": "<div>\n<style scoped>\n    .dataframe tbody tr th:only-of-type {\n        vertical-align: middle;\n    }\n\n    .dataframe tbody tr th {\n        vertical-align: top;\n    }\n\n    .dataframe thead th {\n        text-align: right;\n    }\n</style>\n<table border=\"1\" class=\"dataframe\">\n  <thead>\n    <tr style=\"text-align: right;\">\n      <th></th>\n      <th>PassengerId</th>\n      <th>Survived</th>\n      <th>Pclass</th>\n      <th>Name</th>\n      <th>Sex</th>\n      <th>Age</th>\n      <th>SibSp</th>\n      <th>Parch</th>\n      <th>Ticket</th>\n      <th>Fare</th>\n      <th>Cabin</th>\n      <th>Embarked</th>\n    </tr>\n  </thead>\n  <tbody>\n    <tr>\n      <th>0</th>\n      <td>1</td>\n      <td>0</td>\n      <td>3</td>\n      <td>Braund, Mr. Owen Harris</td>\n      <td>male</td>\n      <td>22.0</td>\n      <td>1</td>\n      <td>0</td>\n      <td>A/5 21171</td>\n      <td>7.2500</td>\n      <td>NaN</td>\n      <td>S</td>\n    </tr>\n    <tr>\n      <th>1</th>\n      <td>2</td>\n      <td>1</td>\n      <td>1</td>\n      <td>Cumings, Mrs. John Bradley (Florence Briggs Th...</td>\n      <td>female</td>\n      <td>38.0</td>\n      <td>1</td>\n      <td>0</td>\n      <td>PC 17599</td>\n      <td>71.2833</td>\n      <td>C85</td>\n      <td>C</td>\n    </tr>\n    <tr>\n      <th>2</th>\n      <td>3</td>\n      <td>1</td>\n      <td>3</td>\n      <td>Heikkinen, Miss. Laina</td>\n      <td>female</td>\n      <td>26.0</td>\n      <td>0</td>\n      <td>0</td>\n      <td>STON/O2. 3101282</td>\n      <td>7.9250</td>\n      <td>NaN</td>\n      <td>S</td>\n    </tr>\n    <tr>\n      <th>3</th>\n      <td>4</td>\n      <td>1</td>\n      <td>1</td>\n      <td>Futrelle, Mrs. Jacques Heath (Lily May Peel)</td>\n      <td>female</td>\n      <td>35.0</td>\n      <td>1</td>\n      <td>0</td>\n      <td>113803</td>\n      <td>53.1000</td>\n      <td>C123</td>\n      <td>S</td>\n    </tr>\n    <tr>\n      <th>4</th>\n      <td>5</td>\n      <td>0</td>\n      <td>3</td>\n      <td>Allen, Mr. William Henry</td>\n      <td>male</td>\n      <td>35.0</td>\n      <td>0</td>\n      <td>0</td>\n      <td>373450</td>\n      <td>8.0500</td>\n      <td>NaN</td>\n      <td>S</td>\n    </tr>\n    <tr>\n      <th>5</th>\n      <td>6</td>\n      <td>0</td>\n      <td>3</td>\n      <td>Moran, Mr. James</td>\n      <td>male</td>\n      <td>NaN</td>\n      <td>0</td>\n      <td>0</td>\n      <td>330877</td>\n      <td>8.4583</td>\n      <td>NaN</td>\n      <td>Q</td>\n    </tr>\n    <tr>\n      <th>6</th>\n      <td>7</td>\n      <td>0</td>\n      <td>1</td>\n      <td>McCarthy, Mr. Timothy J</td>\n      <td>male</td>\n      <td>54.0</td>\n      <td>0</td>\n      <td>0</td>\n      <td>17463</td>\n      <td>51.8625</td>\n      <td>E46</td>\n      <td>S</td>\n    </tr>\n    <tr>\n      <th>7</th>\n      <td>8</td>\n      <td>0</td>\n      <td>3</td>\n      <td>Palsson, Master. Gosta Leonard</td>\n      <td>male</td>\n      <td>2.0</td>\n      <td>3</td>\n      <td>1</td>\n      <td>349909</td>\n      <td>21.0750</td>\n      <td>NaN</td>\n      <td>S</td>\n    </tr>\n    <tr>\n      <th>8</th>\n      <td>9</td>\n      <td>1</td>\n      <td>3</td>\n      <td>Johnson, Mrs. Oscar W (Elisabeth Vilhelmina Berg)</td>\n      <td>female</td>\n      <td>27.0</td>\n      <td>0</td>\n      <td>2</td>\n      <td>347742</td>\n      <td>11.1333</td>\n      <td>NaN</td>\n      <td>S</td>\n    </tr>\n    <tr>\n      <th>9</th>\n      <td>10</td>\n      <td>1</td>\n      <td>2</td>\n      <td>Nasser, Mrs. Nicholas (Adele Achem)</td>\n      <td>female</td>\n      <td>14.0</td>\n      <td>1</td>\n      <td>0</td>\n      <td>237736</td>\n      <td>30.0708</td>\n      <td>NaN</td>\n      <td>C</td>\n    </tr>\n    <tr>\n      <th>10</th>\n      <td>11</td>\n      <td>1</td>\n      <td>3</td>\n      <td>Sandstrom, Miss. Marguerite Rut</td>\n      <td>female</td>\n      <td>4.0</td>\n      <td>1</td>\n      <td>1</td>\n      <td>PP 9549</td>\n      <td>16.7000</td>\n      <td>G6</td>\n      <td>S</td>\n    </tr>\n    <tr>\n      <th>11</th>\n      <td>12</td>\n      <td>1</td>\n      <td>1</td>\n      <td>Bonnell, Miss. Elizabeth</td>\n      <td>female</td>\n      <td>58.0</td>\n      <td>0</td>\n      <td>0</td>\n      <td>113783</td>\n      <td>26.5500</td>\n      <td>C103</td>\n      <td>S</td>\n    </tr>\n    <tr>\n      <th>12</th>\n      <td>13</td>\n      <td>0</td>\n      <td>3</td>\n      <td>Saundercock, Mr. William Henry</td>\n      <td>male</td>\n      <td>20.0</td>\n      <td>0</td>\n      <td>0</td>\n      <td>A/5. 2151</td>\n      <td>8.0500</td>\n      <td>NaN</td>\n      <td>S</td>\n    </tr>\n    <tr>\n      <th>13</th>\n      <td>14</td>\n      <td>0</td>\n      <td>3</td>\n      <td>Andersson, Mr. Anders Johan</td>\n      <td>male</td>\n      <td>39.0</td>\n      <td>1</td>\n      <td>5</td>\n      <td>347082</td>\n      <td>31.2750</td>\n      <td>NaN</td>\n      <td>S</td>\n    </tr>\n    <tr>\n      <th>14</th>\n      <td>15</td>\n      <td>0</td>\n      <td>3</td>\n      <td>Vestrom, Miss. Hulda Amanda Adolfina</td>\n      <td>female</td>\n      <td>14.0</td>\n      <td>0</td>\n      <td>0</td>\n      <td>350406</td>\n      <td>7.8542</td>\n      <td>NaN</td>\n      <td>S</td>\n    </tr>\n    <tr>\n      <th>15</th>\n      <td>16</td>\n      <td>1</td>\n      <td>2</td>\n      <td>Hewlett, Mrs. (Mary D Kingcome)</td>\n      <td>female</td>\n      <td>55.0</td>\n      <td>0</td>\n      <td>0</td>\n      <td>248706</td>\n      <td>16.0000</td>\n      <td>NaN</td>\n      <td>S</td>\n    </tr>\n    <tr>\n      <th>16</th>\n      <td>17</td>\n      <td>0</td>\n      <td>3</td>\n      <td>Rice, Master. Eugene</td>\n      <td>male</td>\n      <td>2.0</td>\n      <td>4</td>\n      <td>1</td>\n      <td>382652</td>\n      <td>29.1250</td>\n      <td>NaN</td>\n      <td>Q</td>\n    </tr>\n    <tr>\n      <th>17</th>\n      <td>18</td>\n      <td>1</td>\n      <td>2</td>\n      <td>Williams, Mr. Charles Eugene</td>\n      <td>male</td>\n      <td>NaN</td>\n      <td>0</td>\n      <td>0</td>\n      <td>244373</td>\n      <td>13.0000</td>\n      <td>NaN</td>\n      <td>S</td>\n    </tr>\n    <tr>\n      <th>18</th>\n      <td>19</td>\n      <td>0</td>\n      <td>3</td>\n      <td>Vander Planke, Mrs. Julius (Emelia Maria Vande...</td>\n      <td>female</td>\n      <td>31.0</td>\n      <td>1</td>\n      <td>0</td>\n      <td>345763</td>\n      <td>18.0000</td>\n      <td>NaN</td>\n      <td>S</td>\n    </tr>\n    <tr>\n      <th>19</th>\n      <td>20</td>\n      <td>1</td>\n      <td>3</td>\n      <td>Masselmani, Mrs. Fatima</td>\n      <td>female</td>\n      <td>NaN</td>\n      <td>0</td>\n      <td>0</td>\n      <td>2649</td>\n      <td>7.2250</td>\n      <td>NaN</td>\n      <td>C</td>\n    </tr>\n  </tbody>\n</table>\n</div>"
     },
     "execution_count": 28,
     "metadata": {},
     "output_type": "execute_result"
    }
   ],
   "source": [
    "data.head(20)"
   ]
  },
  {
   "cell_type": "markdown",
   "metadata": {},
   "source": [
    "Всего уникальных названий - 31. Самый популярный мужской титул - Mr. (502 раза), а женский - Miss. (179 раз)"
   ]
  },
  {
   "cell_type": "code",
   "execution_count": 130,
   "outputs": [],
   "source": [
    "def my_func(text):\n",
    "    my_dict = {'expensive':'exp.',\n",
    "               'information':'inf.'}\n",
    "    for word in text.split():\n",
    "        # print(word)\n",
    "        if word.strip('.') in my_dict.keys():\n",
    "            if word[len(word) - 1] == '.':\n",
    "                print(word)\n",
    "                text = text.replace(word.strip('.'), my_dict[word.strip('.')].strip('.'))\n",
    "            else:\n",
    "                text = text.replace(word, my_dict[word.strip('.')])\n",
    "\n",
    "\n",
    "\n",
    "\n",
    "    return text"
   ],
   "metadata": {
    "collapsed": false
   }
  },
  {
   "cell_type": "code",
   "execution_count": 131,
   "metadata": {},
   "outputs": [
    {
     "name": "stdout",
     "output_type": "stream",
     "text": [
      "expensive.\n",
      "expensive...\n",
      "I supposed that this inf. costs more exp. For real this inf. costs not so exp...\n"
     ]
    }
   ],
   "source": [
    "# tmp_arr = list()\n",
    "# for i in range(len(data['Name'].str.split(' '))):\n",
    "#     for word in data['Name'].str.split(' ')[i]:\n",
    "#         if '.' in word:\n",
    "#             tmp_arr.append(word)\n",
    "# titles = pd.Series(tmp_arr)\n",
    "# print('Кол-во уникальных титулов:', len(titles.unique()))\n",
    "# display(titles.value_counts())\n",
    "# print('Самый популярный титул:', titles.value_counts().index[0])\n",
    "# print('Самый НЕпопулярный титул:', titles.value_counts().index[17])\n",
    "\n",
    "print(my_func('I supposed that this information costs more expensive. For real this information costs not so expensive...'))"
   ]
  },
  {
   "cell_type": "markdown",
   "metadata": {},
   "source": [
    "**Task 4** (0.5 points) <br/>\n",
    "Is there correlation between *pclass* and *ticket price*? Calculate mean price for each port and visualize prize distribution for each port. Make conclusions about what you see on the plot\n",
    "\n",
    "Hint: you could make one or several plot types i.e.  box, violine, pair, histogram (see additional notebooks for Seminar 1 \"Visualization with Seaborn\"). main point here is to **choose** plots wisely and **make meaningful conclusions**\n",
    "\n"
   ]
  },
  {
   "cell_type": "markdown",
   "metadata": {},
   "source": [
    "Можно заметить, что для первого класса первые два пика находятся от 30 до 100, для второго от 10 до 30, а для третьего один пик возле 10, значит можно сказать, что присутствует корреляция, так как в зависимости от класса преобладают разные цены за билеты. У первого класса присутствуют билеты за 200 и 500, а например в 3 классе около 300 человек купили билет по 10, так как он является самым дешевым классом. Во втором классе около 60 человек купили билет по чуть дороже 10, что в общем намного дешевле 1 класса, и немного дороже 3 класса. Однако на всех графиках можно заметить, что чем дороже цена билета, тем меньше людей их купило. Средняя цена 1 класса очень сильно отличается от цены второго и третьего класса.\n",
    "\n",
    "Средняя цена для первого класса - 84.15\n",
    "Средняя цена для второго класса - 20.66\n",
    "Средняя цена для третьего класса - 13.67"
   ]
  },
  {
   "cell_type": "code",
   "execution_count": 30,
   "metadata": {},
   "outputs": [
    {
     "data": {
      "text/plain": "             Fare\nPclass           \n1       84.154687\n2       20.662183\n3       13.675550",
      "text/html": "<div>\n<style scoped>\n    .dataframe tbody tr th:only-of-type {\n        vertical-align: middle;\n    }\n\n    .dataframe tbody tr th {\n        vertical-align: top;\n    }\n\n    .dataframe thead th {\n        text-align: right;\n    }\n</style>\n<table border=\"1\" class=\"dataframe\">\n  <thead>\n    <tr style=\"text-align: right;\">\n      <th></th>\n      <th>Fare</th>\n    </tr>\n    <tr>\n      <th>Pclass</th>\n      <th></th>\n    </tr>\n  </thead>\n  <tbody>\n    <tr>\n      <th>1</th>\n      <td>84.154687</td>\n    </tr>\n    <tr>\n      <th>2</th>\n      <td>20.662183</td>\n    </tr>\n    <tr>\n      <th>3</th>\n      <td>13.675550</td>\n    </tr>\n  </tbody>\n</table>\n</div>"
     },
     "metadata": {},
     "output_type": "display_data"
    },
    {
     "data": {
      "text/plain": "<Figure size 432x288 with 1 Axes>",
      "image/png": "[encoded data removed]"
     },
     "metadata": {
      "needs_background": "light"
     },
     "output_type": "display_data"
    },
    {
     "data": {
      "text/plain": "<Figure size 432x288 with 1 Axes>",
      "image/png": "[encoded data removed]"
     },
     "metadata": {
      "needs_background": "light"
     },
     "output_type": "display_data"
    },
    {
     "data": {
      "text/plain": "<Figure size 432x288 with 1 Axes>",
      "image/png": "[encoded data removed]"
     },
     "metadata": {
      "needs_background": "light"
     },
     "output_type": "display_data"
    }
   ],
   "source": [
    "mean_fare = (\n",
    "    data.pivot_table(index='Pclass', values='Fare')\n",
    ")\n",
    "display(mean_fare)\n",
    "data[(data['Pclass'] == 1)]['Fare'].plot(kind='hist', bins=30, title='Класс ' + str(1));\n",
    "plt.axvline(x=mean_fare['Fare'][1], color='red')\n",
    "plt.legend(['Fare', 'Mean fare 1st class'])\n",
    "plt.show()\n",
    "data[(data['Pclass'] == 2)]['Fare'].plot(kind='hist', bins=30, title='Класс ' + str(2));\n",
    "plt.axvline(x=mean_fare['Fare'][2], color='red')\n",
    "plt.legend(['Fare', 'Mean fare 2nd class'])\n",
    "plt.show()\n",
    "data[(data['Pclass'] == 3)]['Fare'].plot(kind='hist', bins=30, title='Класс ' + str(3));\n",
    "plt.axvline(x=mean_fare['Fare'][3], color='red')\n",
    "plt.legend(['Fare', 'Mean fare 3d class'])\n",
    "plt.show()"
   ]
  },
  {
   "cell_type": "markdown",
   "metadata": {},
   "source": [
    "**Task 5** (0.5 points) <br/>\n",
    "The same question as in task 4 about correlation between *embarked* and *ticket priсe*."
   ]
  },
  {
   "cell_type": "markdown",
   "metadata": {},
   "source": [
    "Для всех портов пик находиться в самом начале, потому что в независимости от порта люди выбирали самые дешевые билеты. Конечно можно заметить, что в порту C есть билеты за 500 из 1 класса, однако это не говорит нам о том, что цена билетов как-то привязана к портам. Корреляция отсутствует.\n",
    "\n",
    "Средняя цена для порта C - 59.95\n",
    "Средняя цена для порта Q - 13.27\n",
    "Средняя цена для порта S - 27.07"
   ]
  },
  {
   "cell_type": "code",
   "execution_count": 31,
   "metadata": {},
   "outputs": [
    {
     "data": {
      "text/plain": "               Fare\nEmbarked           \nC         59.954144\nQ         13.276030\nS         27.079812",
      "text/html": "<div>\n<style scoped>\n    .dataframe tbody tr th:only-of-type {\n        vertical-align: middle;\n    }\n\n    .dataframe tbody tr th {\n        vertical-align: top;\n    }\n\n    .dataframe thead th {\n        text-align: right;\n    }\n</style>\n<table border=\"1\" class=\"dataframe\">\n  <thead>\n    <tr style=\"text-align: right;\">\n      <th></th>\n      <th>Fare</th>\n    </tr>\n    <tr>\n      <th>Embarked</th>\n      <th></th>\n    </tr>\n  </thead>\n  <tbody>\n    <tr>\n      <th>C</th>\n      <td>59.954144</td>\n    </tr>\n    <tr>\n      <th>Q</th>\n      <td>13.276030</td>\n    </tr>\n    <tr>\n      <th>S</th>\n      <td>27.079812</td>\n    </tr>\n  </tbody>\n</table>\n</div>"
     },
     "metadata": {},
     "output_type": "display_data"
    },
    {
     "data": {
      "text/plain": "<Figure size 432x288 with 1 Axes>",
      "image/png": "[encoded data removed]"
     },
     "metadata": {
      "needs_background": "light"
     },
     "output_type": "display_data"
    },
    {
     "data": {
      "text/plain": "<Figure size 432x288 with 1 Axes>",
      "image/png": "[encoded data removed]"
     },
     "metadata": {
      "needs_background": "light"
     },
     "output_type": "display_data"
    },
    {
     "data": {
      "text/plain": "<Figure size 432x288 with 1 Axes>",
      "image/png": "[encoded data removed]"
     },
     "metadata": {
      "needs_background": "light"
     },
     "output_type": "display_data"
    }
   ],
   "source": [
    "mean_fare = (\n",
    "    pd.pivot_table(data, index='Embarked', values='Fare')\n",
    ")\n",
    "display(mean_fare)\n",
    "for port in data[~data['Embarked'].isna()]['Embarked'].unique():\n",
    "    data[(data['Embarked'] == port)]['Fare'].plot(kind='hist', bins=30, title='Порт ' + port);\n",
    "    plt.show()"
   ]
  },
  {
   "cell_type": "markdown",
   "metadata": {},
   "source": [
    "**Task 6** (0.5 points) <br/>\n",
    "Visualize age distribution for survived and not survived passengers separately and calculate the mean age for each class. Are they different? Provide the same visualization for males and females separately. Make conclusions about what you see on the plots"
   ]
  },
  {
   "cell_type": "markdown",
   "source": [
    "Средний возраст выживших людей:\n",
    "- Общий: 28.34\n",
    "- Мужчины: 27.27\n",
    "- Женщины: 28.84\n",
    "- 1 класс: 35.36\n",
    "- 2 класс: 25.90\n",
    "- 3 класс: 20.64\n",
    "\n",
    "Средний возраст НЕвыживших людей:\n",
    "- Общий: 30.94\n",
    "- Мужчины: 31.61\n",
    "- Женщины: 25.04\n",
    "- 1 класс: 43.69\n",
    "- 2 класс: 33.54\n",
    "- 3 класс: 26.55\n",
    "\n",
    "\n",
    "Можно заметить, что практически на всех гистограммах пик находиться на линии среднего возраста. Также везде пик выживших и НЕвыживших людей в независимости от пола - примерно 30 лет. Также можно увидеть на гистограммах, что много выживших среди слишком молодых людей - 0-10 и пожилых людей, это также зеркально видно, что их очень мало среди НЕвыживших."
   ],
   "metadata": {
    "collapsed": false
   }
  },
  {
   "cell_type": "code",
   "execution_count": 32,
   "outputs": [
    {
     "data": {
      "text/plain": "Survived  Pclass\n0         1         43.695312\n          2         33.544444\n          3         26.555556\n1         1         35.368197\n          2         25.901566\n          3         20.646118\nName: Age, dtype: float64"
     },
     "metadata": {},
     "output_type": "display_data"
    }
   ],
   "source": [
    "grouped_data_per_class_and_surv = data.groupby(['Survived', 'Pclass'])['Age'].mean()\n",
    "display(grouped_data_per_class_and_surv)\n",
    "\n",
    "\n",
    "survived_mean_age = data[data['Survived'] == 1]['Age'].mean()\n",
    "not_survived_mean_age = data[data['Survived'] == 0]['Age'].mean()\n",
    "survived_mean_age_male = data[(data['Survived'] == 1) & (data['Sex'] == 'male')]['Age'].mean()\n",
    "survived_mean_age_female = data[(data['Survived'] == 1) & (data['Sex'] == 'female')]['Age'].mean()\n",
    "not_survived_mean_age_male = data[(data['Survived'] == 0) & (data['Sex'] == 'male')]['Age'].mean()\n",
    "not_survived_mean_age_female = data[(data['Survived'] == 0) & (data['Sex'] == 'female')]['Age'].mean()\n",
    "\n",
    "\n",
    "survived_mean_age_first_class = grouped_data_per_class_and_surv[1][1]\n",
    "survived_mean_age_second_class = grouped_data_per_class_and_surv[1][2]\n",
    "survived_mean_age_third_class = grouped_data_per_class_and_surv[1][3]\n",
    "not_survived_mean_age_first_class = grouped_data_per_class_and_surv[0][1]\n",
    "not_survived_mean_age_second_class = grouped_data_per_class_and_surv[0][2]\n",
    "not_survived_mean_age_third_class = grouped_data_per_class_and_surv[0][3]"
   ],
   "metadata": {
    "collapsed": false
   }
  },
  {
   "cell_type": "code",
   "execution_count": 33,
   "outputs": [
    {
     "name": "stdout",
     "output_type": "stream",
     "text": [
      "Средний возраст выживших: 28.343689655172415\n",
      "\n",
      "Средний возраст НЕвыживших: 30.62617924528302\n",
      "\n",
      "Средний возраст выживших мужчин: 27.276021505376345\n",
      "Средний возраст выживших женщин: 28.84771573604061\n",
      "\n",
      "Средний возраст НЕвыживших мужчин: 31.618055555555557\n",
      "Средний возраст НЕвыживших женщин: 25.046875\n",
      "\n",
      "Средний возраст выживших 1 класса: 35.36819672131148\n",
      "Средний возраст выживших 2 класса: 25.90156626506024\n",
      "Средний возраст выживших 3 класса: 20.646117647058823\n",
      "\n",
      "Средний возраст НЕвыживших 1 класса: 43.6953125\n",
      "Средний возраст НЕвыживших 2 класса: 33.544444444444444\n",
      "Средний возраст НЕвыживших 3 класса: 26.555555555555557\n"
     ]
    }
   ],
   "source": [
    "print('Средний возраст выживших:', survived_mean_age)\n",
    "print()\n",
    "print('Средний возраст НЕвыживших:', not_survived_mean_age)\n",
    "print()\n",
    "print('Средний возраст выживших мужчин:', survived_mean_age_male)\n",
    "print('Средний возраст выживших женщин:', survived_mean_age_female)\n",
    "print()\n",
    "print('Средний возраст НЕвыживших мужчин:', not_survived_mean_age_male)\n",
    "print('Средний возраст НЕвыживших женщин:', not_survived_mean_age_female)\n",
    "print()\n",
    "print('Средний возраст выживших 1 класса:', survived_mean_age_first_class)\n",
    "print('Средний возраст выживших 2 класса:', survived_mean_age_second_class)\n",
    "print('Средний возраст выживших 3 класса:', survived_mean_age_third_class)\n",
    "print()\n",
    "print('Средний возраст НЕвыживших 1 класса:', not_survived_mean_age_first_class)\n",
    "print('Средний возраст НЕвыживших 2 класса:', not_survived_mean_age_second_class)\n",
    "print('Средний возраст НЕвыживших 3 класса:', not_survived_mean_age_third_class)\n"
   ],
   "metadata": {
    "collapsed": false
   }
  },
  {
   "cell_type": "code",
   "execution_count": 34,
   "metadata": {},
   "outputs": [
    {
     "data": {
      "text/plain": "<Figure size 1080x360 with 1 Axes>",
      "image/png": "[encoded data removed]"
     },
     "metadata": {
      "needs_background": "light"
     },
     "output_type": "display_data"
    },
    {
     "data": {
      "text/plain": "<Figure size 1080x360 with 1 Axes>",
      "image/png": "[encoded data removed]"
     },
     "metadata": {
      "needs_background": "light"
     },
     "output_type": "display_data"
    },
    {
     "data": {
      "text/plain": "<Figure size 1080x360 with 1 Axes>",
      "image/png": "[encoded data removed]"
     },
     "metadata": {
      "needs_background": "light"
     },
     "output_type": "display_data"
    },
    {
     "data": {
      "text/plain": "<Figure size 1080x360 with 1 Axes>",
      "image/png": "[encoded data removed]"
     },
     "metadata": {
      "needs_background": "light"
     },
     "output_type": "display_data"
    },
    {
     "data": {
      "text/plain": "<Figure size 1080x360 with 1 Axes>",
      "image/png": "[encoded data removed]"
     },
     "metadata": {
      "needs_background": "light"
     },
     "output_type": "display_data"
    },
    {
     "data": {
      "text/plain": "<Figure size 1080x360 with 1 Axes>",
      "image/png": "[encoded data removed]"
     },
     "metadata": {
      "needs_background": "light"
     },
     "output_type": "display_data"
    }
   ],
   "source": [
    "data[data['Survived'] == 0]['Age'].plot(kind='hist', title='not Survived', figsize=(15, 5), bins=30);\n",
    "plt.axvline(x=not_survived_mean_age, color='red')\n",
    "plt.legend(['Age', 'Mean Age not Survived'])\n",
    "plt.show()\n",
    "data[data['Survived'] == 1]['Age'].plot(kind='hist', title='Survived', figsize=(15, 5), bins=30);\n",
    "plt.axvline(x=survived_mean_age, color='red')\n",
    "plt.legend(['Age', 'Mean Age Survived'])\n",
    "plt.show()\n",
    "\n",
    "\n",
    "\n",
    "data[(data['Survived'] == 0) & (data['Sex'] == 'male')]['Age'].plot(kind='hist', title='not Survived Male', figsize=(15, 5), bins=30);\n",
    "plt.axvline(x=not_survived_mean_age_male, color='red')\n",
    "plt.legend(['Age', 'Mean Age not Survived Male'])\n",
    "plt.show()\n",
    "data[(data['Survived'] == 0) & (data['Sex'] == 'female')]['Age'].plot(kind='hist', title='not Survived Female', figsize=(15, 5), bins=30);\n",
    "plt.axvline(x=not_survived_mean_age_female, color='red')\n",
    "plt.legend(['Age', 'Mean Age not Survived Female'])\n",
    "plt.show()\n",
    "\n",
    "\n",
    "\n",
    "data[(data['Survived'] == 1) & (data['Sex'] == 'male')]['Age'].plot(kind='hist', title='Survived Male', figsize=(15, 5), bins=30);\n",
    "plt.axvline(x=survived_mean_age_male, color='red')\n",
    "plt.legend(['Age', 'Mean Age Survived Male'])\n",
    "plt.show()\n",
    "data[(data['Survived'] == 1) & (data['Sex'] == 'female')]['Age'].plot(kind='hist', title='Survived Female', figsize=(15, 5), bins=30);\n",
    "plt.axvline(x=survived_mean_age_female, color='red')\n",
    "plt.legend(['Age', 'Mean Age Survived Female'])\n",
    "plt.show()"
   ]
  }
 ],
 "metadata": {
  "kernelspec": {
   "display_name": "Python 3 (ipykernel)",
   "language": "python",
   "name": "python3"
  },
  "language_info": {
   "codemirror_mode": {
    "name": "ipython",
    "version": 3
   },
   "file_extension": ".py",
   "mimetype": "text/x-python",
   "name": "python",
   "nbconvert_exporter": "python",
   "pygments_lexer": "ipython3",
   "version": "3.9.12"
  }
 },
 "nbformat": 4,
 "nbformat_minor": 4
}
