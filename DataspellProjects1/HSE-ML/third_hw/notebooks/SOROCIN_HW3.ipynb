{
 "cells": [
  {
   "cell_type": "markdown",
   "source": [
    "# HSE 2021: Mathematical Methods for Data Analysis\n",
    "\n",
    "## Homework 3\n",
    "\n",
    "**Warning 1**: some problems require (especially the lemmatization part) significant amount of time, so **it is better to start early (!)**\n",
    "\n",
    "**Warning 2**: it is critical to describe and explain what you are doing and why, use markdown cells"
   ],
   "metadata": {
    "collapsed": false
   }
  },
  {
   "cell_type": "code",
   "execution_count": 91,
   "outputs": [],
   "source": [
    "from typing import Tuple, List\n",
    "\n",
    "import matplotlib.pyplot as plt\n",
    "import numpy as np\n",
    "import seaborn as sns\n",
    "%matplotlib inline\n",
    "\n",
    "sns.set(style=\"darkgrid\")"
   ],
   "metadata": {
    "collapsed": false
   }
  },
  {
   "cell_type": "markdown",
   "source": [
    "## PART 1: Logit model"
   ],
   "metadata": {
    "collapsed": false
   }
  },
  {
   "cell_type": "markdown",
   "source": [
    "We consider a binary classification problem. For prediction, we would like to use a logistic regression model. For regularization we add a combination of the $l_2$ and $l_1$ penalties (Elastic Net).\n",
    "\n",
    "Each object in the training dataset is indexed with $i$ and described by pair: features $x_i\\in\\mathbb{R}^{K}$ and binary labels $y_i$. The model parametrized with bias $w_0\\in\\mathbb{R}$ and weights $w\\in\\mathbb{R}^K$.\n",
    "\n",
    "The optimization problem with respect to the $w_0, w$ is the following (Elastic Net Loss):\n",
    "\n",
    "$$L(w, w_0) = \\frac{1}{N} \\sum_{i=1}^N \\ln(1+\\exp(-y_i(w^\\top x_i+w_0))) + \\gamma \\|w\\|_1 + \\beta \\|w\\|_2^2$$."
   ],
   "metadata": {
    "collapsed": false
   }
  },
  {
   "cell_type": "markdown",
   "source": [
    "#### 1. [0.5 points]  Find the gradient of the Elastic Net loss and write its formulas (better in latex format)"
   ],
   "metadata": {
    "collapsed": false
   }
  },
  {
   "cell_type": "markdown",
   "source": [
    "##### Put your markdown formulas here\n",
    "\n",
    "$$\\nabla_w L(w,w_0)= -\\frac{1}{N} \\sum_i^N \\frac{y_i x_i \\cdot exp(-y_i (w^Tx_i+w_0))}{1+exp(-y_i (w^Tx_i+w_0))} + \\gamma \\dfrac{w_k}{| w_k |}+ 2 \\cdot \\beta \\cdot w $$\n",
    "\n",
    "$$\\nabla_{w_0} L(w,w_0)= -\\frac{1}{N} \\sum_i^N \\frac{y_i exp(-y_i (w^Tx_i+w_0))}{1+exp(-y_i (w^Tx_i+w_0))} $$"
   ],
   "metadata": {
    "collapsed": false
   }
  },
  {
   "cell_type": "markdown",
   "source": [
    "#### 2. [0.25 points] Implement the Elastic Net loss (as a function)"
   ],
   "metadata": {
    "collapsed": false
   }
  },
  {
   "cell_type": "code",
   "execution_count": 92,
   "outputs": [],
   "source": [
    "def loss(X, y, w: List[float], w0: float, gamma=1., beta=1.) -> float:\n",
    "    return (1 / len(X)) * np.sum(1 + np.exp(-y * (np.dot(X, np.transpose(w)) + w0))) + gamma * np.linalg.norm(w,\n",
    "                                                                                                              1) + beta * np.linalg.norm(\n",
    "        w ** 2, 2)\n"
   ],
   "metadata": {
    "collapsed": false
   }
  },
  {
   "cell_type": "markdown",
   "source": [
    "#### 3. [0.25 points] Implement the gradient (as a function)"
   ],
   "metadata": {
    "collapsed": false
   }
  },
  {
   "cell_type": "code",
   "execution_count": 93,
   "outputs": [],
   "source": [
    "def get_grad_w0(X, w, w0, y):\n",
    "    return 1 / len(X) * np.sum(y * (1 / (1 + np.exp(-y * (np.dot(X, w) + w0))) - 1))\n",
    "\n",
    "\n",
    "def get_grad_w(X, beta, gamma, w, w0, y):\n",
    "    return 1 / len(X) * np.dot(y * (1 / (1 + np.exp(-y * (np.dot(X, w) + w0))) - 1), X) + gamma * np.sign(\n",
    "        w) + 2 * beta * w\n",
    "\n",
    "\n",
    "def get_grad(X, y, w: List[float], w0: float, gamma=1., beta=1.) -> Tuple[List[float], float]:\n",
    "    grad_w0 = get_grad_w0(X, w, w0, y)\n",
    "    grad_w = get_grad_w(X, beta, gamma, w, w0, y)\n",
    "\n",
    "    return grad_w, grad_w0"
   ],
   "metadata": {
    "collapsed": false
   }
  },
  {
   "cell_type": "markdown",
   "source": [
    "#### Check yourself"
   ],
   "metadata": {
    "collapsed": false
   }
  },
  {
   "cell_type": "code",
   "execution_count": 94,
   "outputs": [],
   "source": [
    "np.random.seed(42)\n",
    "X = np.random.multivariate_normal(np.arange(5), np.eye(5), size=10)\n",
    "y = np.random.binomial(1, 0.42, size=10)\n",
    "w, w0 = np.random.normal(size=5), np.random.normal()\n",
    "\n",
    "grad_w, grad_w0 = get_grad(X, y, w, w0)\n",
    "assert (np.allclose(grad_w,\n",
    "                    [-2.73262076, -1.87176281, 1.30051144, 2.53598941, -2.71198109],\n",
    "                    rtol=1e-2) & np.allclose(grad_w0,\n",
    "                                             -0.2078231418067844,\n",
    "                                             rtol=1e-2)\n",
    "        )"
   ],
   "metadata": {
    "collapsed": false
   }
  },
  {
   "cell_type": "markdown",
   "source": [
    "####  4. [1 point]  Implement gradient descent which works for both tol level and max_iter stop criteria and plot the decision boundary of the result"
   ],
   "metadata": {
    "collapsed": false
   }
  },
  {
   "cell_type": "markdown",
   "source": [
    "The template provides basic sklearn API class. You are free to modify it in any convenient way."
   ],
   "metadata": {
    "collapsed": false
   }
  },
  {
   "cell_type": "code",
   "execution_count": 95,
   "outputs": [],
   "source": [
    "from sklearn.base import BaseEstimator, ClassifierMixin"
   ],
   "metadata": {
    "collapsed": false
   }
  },
  {
   "cell_type": "code",
   "execution_count": 96,
   "outputs": [],
   "source": [
    "class Logit(BaseEstimator, ClassifierMixin):\n",
    "    def __init__(self, beta=1.0, gamma=1.0, lr=1e-2, tolerance=0.0001, max_iter=1000, random_state=116):\n",
    "        # self.learning_rate = 1e-3\n",
    "        # self.tolerance = 0.01\n",
    "        self.beta = beta\n",
    "        self.gamma = gamma\n",
    "        self.tolerance = tolerance\n",
    "        self.max_iter = max_iter\n",
    "        self.learning_rate = lr\n",
    "        self.random_state = random_state\n",
    "        self.l_history = list()\n",
    "        # you may be additional properties if you wish\n",
    "\n",
    "    def fit(self, X, y):\n",
    "        np.random.seed(self.random_state)\n",
    "        self.w = np.random.normal(size=X.shape[1])\n",
    "        self.w0 = np.random.normal(size=1)\n",
    "        for i in range(self.max_iter):\n",
    "            self.loop_action(X, y)\n",
    "            if self.toler_norm() < self.tolerance:\n",
    "                break\n",
    "\n",
    "        # add weights and bias and optimize Elastic Net loss over (X,y) dataset\n",
    "        # save history of optimization steps\n",
    "\n",
    "        # your code here\n",
    "\n",
    "        return self\n",
    "\n",
    "    def toler_norm(self):\n",
    "        return np.linalg.norm(-self.learning_rate * grad_w)\n",
    "\n",
    "    def loop_action(self, X, y):\n",
    "        grad_w, grad_w0 = get_grad(X, y, self.w, self.w0, self.gamma, self.beta)\n",
    "        self.w = self.w - self.learning_rate * grad_w\n",
    "        self.w0 = self.w0 - self.learning_rate * grad_w0\n",
    "        self.l_history.append(loss(X, y, self.w, self.w0, self.gamma, self.beta))\n",
    "\n",
    "    def predict(self, X):\n",
    "        # return vector of predicted labels for each object from X\n",
    "        # your code here\n",
    "        default_threshold = 0.5\n",
    "        predict_x, predict_y = self.predict_proba(X)\n",
    "        predict_x[predict_x <= default_threshold] = -1\n",
    "        predict_x[predict_x > default_threshold] = 1\n",
    "        predict = predict_x\n",
    "        return predict\n",
    "\n",
    "    def predict_proba(self, X):\n",
    "        return np.array([1 / (1 + np.exp(np.dot(X, self.w) + self.w0)), 1 / (1 + np.exp(-np.dot(X, self.w) - self.w0))])"
   ],
   "metadata": {
    "collapsed": false
   }
  },
  {
   "cell_type": "code",
   "execution_count": 97,
   "outputs": [],
   "source": [
    "# sample data to test your model\n",
    "from sklearn.datasets import make_classification\n",
    "\n",
    "X, y = make_classification(n_samples=180, n_features=2, n_redundant=0, n_informative=2,\n",
    "                           random_state=42, n_clusters_per_class=1)"
   ],
   "metadata": {
    "collapsed": false
   }
  },
  {
   "cell_type": "code",
   "execution_count": 98,
   "outputs": [],
   "source": [
    "# a function to plot the decision boundary\n",
    "def plot_decision_boundary(model, X, y):\n",
    "    fig = plt.figure()\n",
    "    X1min, X2min = X.min(axis=0)\n",
    "    X1max, X2max = X.max(axis=0)\n",
    "    x1, x2 = np.meshgrid(np.linspace(X1min, X1max, 200),\n",
    "                         np.linspace(X2min, X2max, 200))\n",
    "    ypred = model.predict(np.c_[x1.ravel(), x2.ravel()])\n",
    "    ypred = ypred.reshape(x1.shape)\n",
    "\n",
    "    plt.contourf(x1, x2, ypred, alpha=.4)\n",
    "    plt.scatter(X[:, 0], X[:, 1], c=y)"
   ],
   "metadata": {
    "collapsed": false
   }
  },
  {
   "cell_type": "code",
   "execution_count": 99,
   "outputs": [
    {
     "data": {
      "text/plain": "<Figure size 432x288 with 1 Axes>",
      "image/png": "[encoded data removed]"
     },
     "metadata": {},
     "output_type": "display_data"
    }
   ],
   "source": [
    "model = Logit(0, 0)\n",
    "y[y == 0] = -1\n",
    "model.fit(X, y)\n",
    "plot_decision_boundary(model, X, y)"
   ],
   "metadata": {
    "collapsed": false
   }
  },
  {
   "cell_type": "markdown",
   "source": [
    "#### 5. [0.25 points] Plot loss diagram for the model, i.e. show the dependence of the loss function from the gradient descent steps"
   ],
   "metadata": {
    "collapsed": false
   }
  },
  {
   "cell_type": "markdown",
   "source": [
    "Если не менять данные при инициализации, то увидеть что-то тут не получиться, поэтому инициализация была изменена в lr и tolerance."
   ],
   "metadata": {
    "collapsed": false
   }
  },
  {
   "cell_type": "code",
   "execution_count": 100,
   "outputs": [
    {
     "data": {
      "text/plain": "<Figure size 432x288 with 1 Axes>",
      "image/png": "[encoded data removed]"
     },
     "metadata": {},
     "output_type": "display_data"
    }
   ],
   "source": [
    "# your code here\n",
    "plt.plot(model.l_history);"
   ],
   "metadata": {
    "collapsed": false
   }
  },
  {
   "cell_type": "markdown",
   "source": [
    "## PART 2: Support Vector Machines"
   ],
   "metadata": {
    "collapsed": false
   }
  },
  {
   "cell_type": "markdown",
   "source": [
    "#### 6. [2 point] Using the same dataset, train SVM Classifier from Sklearn.\n",
    "Investigate how different parameters influence the quality of the solution:\n",
    "+ Try several kernels: Linear, Polynomial, RBF (and others if you wish). Some Kernels have hypermeters: don't forget to try different.\n",
    "+ Regularization coefficient\n",
    "\n",
    "Show how these parameters affect accuracy, roc_auc and f1 score.\n",
    "Make plots for the dependencies between metrics and parameters.\n",
    "Try to formulate conclusions from the observations. How sensitive are kernels to hyperparameters? How sensitive is a solution to the regularization? Which kernel is prone to overfitting?"
   ],
   "metadata": {
    "collapsed": false
   }
  },
  {
   "cell_type": "code",
   "execution_count": 101,
   "outputs": [],
   "source": [
    "from sklearn.metrics import accuracy_score, roc_auc_score, f1_score\n",
    "from sklearn.svm import SVC\n",
    "from sklearn.model_selection import train_test_split\n",
    "import pandas as pd\n",
    "\n",
    "x_train, x_test, y_train, y_test = train_test_split(X, y, test_size=0.25, random_state=42)\n",
    "kernels = ['linear', 'poly', 'rbf']\n",
    "\n",
    "\n",
    "def appending_lists():\n",
    "    for i in range(2):\n",
    "        linear_list.append([])\n",
    "    for i in range(2):\n",
    "        polynomial_list.append([])\n",
    "    for i in range(2):\n",
    "        rbf_list.append([])\n",
    "\n",
    "\n",
    "linear_list = [[]]\n",
    "polynomial_list = [[]]\n",
    "rbf_list = [[]]\n",
    "\n",
    "appending_lists()"
   ],
   "metadata": {
    "collapsed": false
   }
  },
  {
   "cell_type": "code",
   "execution_count": 102,
   "outputs": [],
   "source": [
    "def kernel_model_actions():\n",
    "    global kernel_predicted\n",
    "    kernel_model = SVC(kernel=kernel, C=hyperparam)\n",
    "    kernel_model.fit(x_train, y_train)\n",
    "    kernel_predicted = kernel_model.predict(x_test)"
   ],
   "metadata": {
    "collapsed": false
   }
  },
  {
   "cell_type": "code",
   "execution_count": 103,
   "outputs": [],
   "source": [
    "def linear_list_func():\n",
    "    linear_list[0].append(accuracy_score(y_test, kernel_predicted))\n",
    "    linear_list[1].append(roc_auc_score(y_test, kernel_predicted))\n",
    "    linear_list[2].append(f1_score(y_test, kernel_predicted))\n",
    "\n",
    "\n",
    "def poly_list_func():\n",
    "    polynomial_list[0].append(accuracy_score(y_test, kernel_predicted))\n",
    "    polynomial_list[1].append(roc_auc_score(y_test, kernel_predicted))\n",
    "    polynomial_list[2].append(f1_score(y_test, kernel_predicted))\n",
    "\n",
    "\n",
    "def rbf_list_func():\n",
    "    rbf_list[0].append(accuracy_score(y_test, kernel_predicted))\n",
    "    rbf_list[1].append(roc_auc_score(y_test, kernel_predicted))\n",
    "    rbf_list[2].append(f1_score(y_test, kernel_predicted))\n"
   ],
   "metadata": {
    "collapsed": false
   }
  },
  {
   "cell_type": "code",
   "execution_count": 104,
   "outputs": [],
   "source": [
    "for hyperparam in np.arange(0.001, 5, 0.1):\n",
    "    for kernel in kernels:\n",
    "        kernel_model_actions()\n",
    "        if kernel == kernels[0]:\n",
    "            linear_list_func()\n",
    "        if kernel == kernels[1]:\n",
    "            poly_list_func()\n",
    "        if kernel == kernels[2]:\n",
    "            rbf_list_func()"
   ],
   "metadata": {
    "collapsed": false
   }
  },
  {
   "cell_type": "code",
   "execution_count": 105,
   "outputs": [],
   "source": [
    "def tmp_plotting():\n",
    "    plt.ylim(0.95, 1.03)\n",
    "    plt.xlim(0, 10)\n",
    "    plt.legend()\n",
    "    plt.show()\n",
    "\n",
    "\n",
    "def plotting_accuracy():\n",
    "    plt.plot(pd.Series(linear_list[0]), label=kernels[0], color='orange')\n",
    "    plt.plot(pd.Series(polynomial_list[0]), label=kernels[1], color='red')\n",
    "    plt.plot(pd.Series(rbf_list[0]), label=kernels[2], color='green')\n",
    "    tmp_plotting()\n",
    "\n",
    "\n",
    "def plotting_auc_score():\n",
    "    plt.plot(linear_list[1], label=kernels[0], color='orange')\n",
    "    plt.plot(polynomial_list[1], label=kernels[1], color='red')\n",
    "    plt.plot(rbf_list[1], label=kernels[2], color='green')\n",
    "    tmp_plotting()\n",
    "\n",
    "\n",
    "def plotting_f1_score():\n",
    "    plt.plot(linear_list[2], label=kernels[0], color='orange')\n",
    "    plt.plot(polynomial_list[2], label=kernels[1], color='red')\n",
    "    plt.plot(rbf_list[2], label=kernels[2], color='green')\n",
    "    tmp_plotting()"
   ],
   "metadata": {
    "collapsed": false
   }
  },
  {
   "cell_type": "code",
   "execution_count": 106,
   "outputs": [
    {
     "data": {
      "text/plain": "<Figure size 432x288 with 1 Axes>",
      "image/png": "[encoded data removed]"
     },
     "metadata": {},
     "output_type": "display_data"
    },
    {
     "data": {
      "text/plain": "<Figure size 432x288 with 1 Axes>",
      "image/png": "[encoded data removed]"
     },
     "metadata": {},
     "output_type": "display_data"
    },
    {
     "data": {
      "text/plain": "<Figure size 432x288 with 1 Axes>",
      "image/png": "[encoded data removed]"
     },
     "metadata": {},
     "output_type": "display_data"
    }
   ],
   "source": [
    "# pd.Series(linear_list[0]).value_counts().plot(kind='bar')\n",
    "# data = pd.DataFrame([], columns=['tmp', 'linear'])\n",
    "# data['tmp'] = np.arange(0.001, 5, 0.1)\n",
    "# data['linear'] = linear_list[0]\n",
    "# display(data)\n",
    "# data.plot(x=data['tmp'], y=data['linear'], kind='scatter')\n",
    "plotting_accuracy()\n",
    "plotting_auc_score()\n",
    "plotting_f1_score()"
   ],
   "metadata": {
    "collapsed": false
   }
  },
  {
   "cell_type": "markdown",
   "source": [
    "## PART 3: Natural Language Processing"
   ],
   "metadata": {
    "collapsed": false
   }
  },
  {
   "cell_type": "markdown",
   "source": [
    "#### 7. [1.75 point] Form the dataset\n",
    "\n",
    "We are going to form a dataset that we will use in the following tasks for binary and multiclass classification\n",
    "\n",
    "0. Choose **six** authors that you like (specify who you've chosen) and download the <a href=\"https://www.kaggle.com/d0rj3228/russian-literature?select=prose\">relevant data</a> from **prose** section\n",
    "1. Build your own dataset for these authors:\n",
    "    * divide each text into sentences such that we will have two columns: *sentence* and *target author*, each row will contain one sentence and one target\n",
    "    * drop sentences where N symbols in a sentence < 15\n",
    "    * fix random state and randomly choose sentences in the folowing proportion \"5k : 15k : 8k : 11k : 20k : 3k\" for the authors respectively\n",
    "\n",
    "    sample data may look like:\n",
    "\n",
    "    <center>\n",
    "    <table>\n",
    "        <tr>\n",
    "            <th> sentence </th>\n",
    "            <th> author </th>\n",
    "        </tr>\n",
    "        <tr><td> Несколько лет тому назад в одном из своих поместий жил старинный русской барин, Кирила Петрович Троекуров. </td><td> Пушкин </td><td>\n",
    "        <tr><td> Уже более недели приезжий господин жил в городе, разъезжая по вечеринкам и обедам и таким образом проводя, как говорится, очень приятно время. </td><td> Гоголь </td><td>\n",
    "        <tr><td> ... </td><td> ... </td><td>\n",
    "        <tr><td> Я жил недорослем, гоняя голубей и играя в чехарду с дворовыми мальчишками. </td><td> Пушкин </td><td>\n",
    "    </table>\n",
    "</center>\n",
    "\n",
    "2. Preprocess (tokenize and clean) the dataset\n",
    "    * tokenize, remove all stop words (nltk.corpus.stopwords), punctuation (string.punctuation) and numbers\n",
    "    * convert to lower case and apply either stemming or lemmatization of the words (on your choice)\n",
    "    * vectorize words using both **bag of words** and **tf-idf** (use sklearn)\n",
    "    * observe and describe the difference between vectorized output (what do numbers look like after transformations and what do they represent?)"
   ],
   "metadata": {
    "collapsed": false
   }
  },
  {
   "cell_type": "code",
   "execution_count": 107,
   "outputs": [],
   "source": [
    "# your code here"
   ],
   "metadata": {
    "collapsed": false
   }
  },
  {
   "cell_type": "markdown",
   "source": [
    "###  Binary classification\n",
    "\n",
    "#### 8. [2 point] Train model using Logistic Regression (your own) and SVC (SVM can be taken from sklearn)\n",
    "\n",
    "* choose *two* authors from the dataset that you have formed in the previous task\n",
    "* check the balance of the classes\n",
    "* divide the data into train and test samples with 0.7 split rate (don't forget to fix the random state)\n",
    "* using GridSearchCV - find the best parameters for the models (by F1 score) and use it in the next tasks\n",
    "* make several plots to address the dependence between F1 score and parameters\n",
    "* plot confusion matrix for train and test samples\n",
    "* compute some relevant metrics for test sample (useful to check the seminars 5 and 6, use sklearn)\n",
    "* make conclusions about the performance of your models\n"
   ],
   "metadata": {
    "collapsed": false
   }
  },
  {
   "cell_type": "code",
   "execution_count": 108,
   "outputs": [],
   "source": [
    "# your code here"
   ],
   "metadata": {
    "collapsed": false
   }
  },
  {
   "cell_type": "markdown",
   "source": [
    "#### 9. [1 point] Analysing ROC AUC\n",
    "\n",
    "It is possible to control the proportion of statistical errors of different types using different thresholds for choosing a class. Plot ROC curves for Logistic Regression and SVC, show the threshold on ROC curve plots. Choose such a threshold that your models have no more than 30% of false positive errors rate. Pay attention to `thresholds` parameter in sklearn roc_curve"
   ],
   "metadata": {
    "collapsed": false
   }
  },
  {
   "cell_type": "code",
   "execution_count": 109,
   "outputs": [],
   "source": [
    "# your code here"
   ],
   "metadata": {
    "collapsed": false
   }
  },
  {
   "cell_type": "markdown",
   "source": [
    "### Multiclass logit"
   ],
   "metadata": {
    "collapsed": false
   }
  },
  {
   "cell_type": "markdown",
   "source": [
    "#### 10. [1 point] Take the One-VS-One classifier (use sklearn) and apply to Logit model (one you've made in the 4th task) in order to get multiclass linear classifier\n",
    "\n",
    "<a href=\"https://scikit-learn.org/stable/modules/generated/sklearn.multiclass.OneVsOneClassifier.html\">OneVsOneClassifier</a>\n",
    "\n",
    "* use the data you got at the previous step for 6 authors\n",
    "* divide the data into train and test samples with 0.7 split rate\n",
    "* using GridSearchCV - find the best parameters for the models (by F1 score)\n",
    "* plot confusion matrix for train and test samples\n",
    "* compute all possible and relevant metrics for test sample (use sklearn)"
   ],
   "metadata": {
    "collapsed": false
   }
  },
  {
   "cell_type": "code",
   "execution_count": 110,
   "outputs": [],
   "source": [
    "# your code here"
   ],
   "metadata": {
    "collapsed": false
   }
  }
 ],
 "metadata": {
  "kernelspec": {
   "display_name": "Python 3",
   "language": "python",
   "name": "python3"
  },
  "language_info": {
   "codemirror_mode": {
    "name": "ipython",
    "version": 2
   },
   "file_extension": ".py",
   "mimetype": "text/x-python",
   "name": "python",
   "nbconvert_exporter": "python",
   "pygments_lexer": "ipython2",
   "version": "2.7.6"
  }
 },
 "nbformat": 4,
 "nbformat_minor": 0
}
