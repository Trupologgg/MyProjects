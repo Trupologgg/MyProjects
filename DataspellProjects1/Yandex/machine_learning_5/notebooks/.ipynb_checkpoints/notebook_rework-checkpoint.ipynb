{
 "cells": [
  {
   "cell_type": "markdown",
   "metadata": {},
   "source": [
    "<div class=\"alert alert-info\">\n",
    "<font size=\"5\"><b>Комментарий ревьюера</b></font>\n",
    "\n",
    "Привет! Меня зовут Марат, и я буду твоим ревьюером. Спешу сообщить что все ключевые этапы в работе выполнены,  с задачей тебе удалось справиться. По поводу обращения - в IT сфере принято общаться на «ты» :) Но, если привычней на «вы», дай знать. Как ревьюера моя задача помочь тебе в развитии, дав хорошие советы. Я внимательно посмотрю твой код, ознакомлюсь с твоими выводами и оставлю комментарии. Где то могу предложить небольшие исправление в коде, но ненавязчиво. Где потребуются уточнения, я оставлю много наводящих вопросов. Они помогут тебя с поиском верного решения.\n",
    "\n",
    "Все мои комментарии размечены по цветам, для лучшего восприятия. \n",
    "    \n",
    "<div class=\"alert alert-success\">Зеленым цветом и 👍, словом «Успех» отмечены особо удачные и элегантные решения, которыми ты можешь гордиться. </div>\n",
    "        \n",
    "<div class=\"alert alert-warning\">Желтым и 🤔, словом «Совет», помечены решения у которых есть альтернативные решения, более оптимальные. Ты можешь найти их сразу и доработать проект, или отложить это на потом, для будущих проектах. Проект будет принят и без их доработки. </div>\n",
    "        \n",
    "<div class=\"alert alert-danger\"> Красным цветом и значком ❌, словом «Ошибка» помечу твои решения, на которые стоит обратить внимание прежде всего. После их доработки проект будет принят. </div>\n",
    "        \n",
    "Залог успеха - работа сообща, взаимное уважение и работа в диалоге. Поэтому, помечай свои ответные комментарии на мои реплики заметным цветом или курсивом, так мне будет легче их отслеживать. Пожалуйста, не изменяй и не удаляй мои комментарии. Все это поможет выполнить повторную проверку быстрей.\n",
    "\n",
    "</div>"
   ]
  },
  {
   "cell_type": "code",
   "execution_count": 11,
   "metadata": {},
   "outputs": [],
   "source": [
    "import pandas as pd\n",
    "import numpy as np\n",
    "import matplotlib.pyplot as plt\n",
    "from sklearn.linear_model import LinearRegression\n",
    "from sklearn.model_selection import train_test_split\n",
    "\n",
    "%matplotlib inline"
   ]
  },
  {
   "cell_type": "markdown",
   "metadata": {},
   "source": [
    "\n",
    "<div class=\"alert alert-success\">\n",
    "<font size=\"5\"><b>Комментарий ревьюера</b></font>\n",
    "\n",
    "Успех:\n",
    "\n",
    "Собираем все импорты в верхней части, чтобы легче было ориентироваться и добавлять новые по необходимости. \n",
    "\n",
    "\n",
    "<div class=\"alert alert-warning\">\n",
    "\n",
    "Совет:     \n",
    "    \n",
    "\n",
    "\n",
    "- кстати есть рекомендации PEP-8 при написании кода, в том числе и для импортов. Если интересно можешь почитать [тут](https://pythonworld.ru/osnovy/pep-8-rukovodstvo-po-napisaniyu-koda-na-python.html), это на будущее \n",
    "\n"
   ]
  },
  {
   "cell_type": "markdown",
   "metadata": {
    "toc": true
   },
   "source": [
    "<h1>Содержание<span class=\"tocSkip\"></span></h1>\n",
    "<div class=\"toc\"><ul class=\"toc-item\"><li><span><a href=\"#Загрузка-данных\" data-toc-modified-id=\"Загрузка-данных-1\"><span class=\"toc-item-num\">1&nbsp;&nbsp;</span>Загрузка данных</a></span></li><li><span><a href=\"#Умножение-матриц\" data-toc-modified-id=\"Умножение-матриц-2\"><span class=\"toc-item-num\">2&nbsp;&nbsp;</span>Умножение матриц</a></span></li><li><span><a href=\"#Алгоритм-преобразования\" data-toc-modified-id=\"Алгоритм-преобразования-3\"><span class=\"toc-item-num\">3&nbsp;&nbsp;</span>Алгоритм преобразования</a></span></li><li><span><a href=\"#Проверка-алгоритма\" data-toc-modified-id=\"Проверка-алгоритма-4\"><span class=\"toc-item-num\">4&nbsp;&nbsp;</span>Проверка алгоритма</a></span></li><li><span><a href=\"#Теперь-реализуем-собственный-алгоритм.\" data-toc-modified-id=\"Теперь-реализуем-собственный-алгоритм.-5\"><span class=\"toc-item-num\">5&nbsp;&nbsp;</span>Теперь реализуем собственный алгоритм.</a></span></li><li><span><a href=\"#Чек-лист-проверки\" data-toc-modified-id=\"Чек-лист-проверки-6\"><span class=\"toc-item-num\">6&nbsp;&nbsp;</span>Чек-лист проверки</a></span></li></ul></div>"
   ]
  },
  {
   "cell_type": "markdown",
   "metadata": {},
   "source": [
    "# Защита персональных данных клиентов"
   ]
  },
  {
   "cell_type": "markdown",
   "metadata": {},
   "source": [
    "Вам нужно защитить данные клиентов страховой компании «Хоть потоп». Разработайте такой метод преобразования данных, чтобы по ним было сложно восстановить персональную информацию. Обоснуйте корректность его работы.\n",
    "\n",
    "Нужно защитить данные, чтобы при преобразовании качество моделей машинного обучения не ухудшилось. Подбирать наилучшую модель не требуется."
   ]
  },
  {
   "cell_type": "markdown",
   "metadata": {},
   "source": [
    "<div class=\"alert alert-success\">\n",
    "<font size=\"5\"><b>Комментарий ревьюера</b></font>\n",
    "\n",
    "Успех 👍:\n",
    "\n",
    "\n",
    "Вступление в работу очень важно, так человек, который смотрит твой проект (и на работе в том числе) будет сразу введен в курс дела.\n",
    "\n",
    "\n",
    "\n",
    "\n",
    "\n",
    "</div>"
   ]
  },
  {
   "cell_type": "markdown",
   "metadata": {},
   "source": [
    "## Загрузка данных"
   ]
  },
  {
   "cell_type": "markdown",
   "metadata": {},
   "source": [
    "Загрузим данные и посмотрим, имеются ли пропуски или данные столбцов приведены не к тому типу."
   ]
  },
  {
   "cell_type": "code",
   "execution_count": 12,
   "metadata": {},
   "outputs": [
    {
     "name": "stdout",
     "output_type": "stream",
     "text": [
      "<class 'pandas.core.frame.DataFrame'>\n",
      "RangeIndex: 5000 entries, 0 to 4999\n",
      "Data columns (total 5 columns):\n",
      " #   Column             Non-Null Count  Dtype  \n",
      "---  ------             --------------  -----  \n",
      " 0   Пол                5000 non-null   int64  \n",
      " 1   Возраст            5000 non-null   float64\n",
      " 2   Зарплата           5000 non-null   float64\n",
      " 3   Члены семьи        5000 non-null   int64  \n",
      " 4   Страховые выплаты  5000 non-null   int64  \n",
      "dtypes: float64(2), int64(3)\n",
      "memory usage: 195.4 KB\n"
     ]
    },
    {
     "data": {
      "text/html": [
       "<div>\n",
       "<style scoped>\n",
       "    .dataframe tbody tr th:only-of-type {\n",
       "        vertical-align: middle;\n",
       "    }\n",
       "\n",
       "    .dataframe tbody tr th {\n",
       "        vertical-align: top;\n",
       "    }\n",
       "\n",
       "    .dataframe thead th {\n",
       "        text-align: right;\n",
       "    }\n",
       "</style>\n",
       "<table border=\"1\" class=\"dataframe\">\n",
       "  <thead>\n",
       "    <tr style=\"text-align: right;\">\n",
       "      <th></th>\n",
       "      <th>Пол</th>\n",
       "      <th>Возраст</th>\n",
       "      <th>Зарплата</th>\n",
       "      <th>Члены семьи</th>\n",
       "      <th>Страховые выплаты</th>\n",
       "    </tr>\n",
       "  </thead>\n",
       "  <tbody>\n",
       "    <tr>\n",
       "      <th>count</th>\n",
       "      <td>5000.000000</td>\n",
       "      <td>5000.000000</td>\n",
       "      <td>5000.000000</td>\n",
       "      <td>5000.000000</td>\n",
       "      <td>5000.000000</td>\n",
       "    </tr>\n",
       "    <tr>\n",
       "      <th>mean</th>\n",
       "      <td>0.499000</td>\n",
       "      <td>30.952800</td>\n",
       "      <td>39916.360000</td>\n",
       "      <td>1.194200</td>\n",
       "      <td>0.148000</td>\n",
       "    </tr>\n",
       "    <tr>\n",
       "      <th>std</th>\n",
       "      <td>0.500049</td>\n",
       "      <td>8.440807</td>\n",
       "      <td>9900.083569</td>\n",
       "      <td>1.091387</td>\n",
       "      <td>0.463183</td>\n",
       "    </tr>\n",
       "    <tr>\n",
       "      <th>min</th>\n",
       "      <td>0.000000</td>\n",
       "      <td>18.000000</td>\n",
       "      <td>5300.000000</td>\n",
       "      <td>0.000000</td>\n",
       "      <td>0.000000</td>\n",
       "    </tr>\n",
       "    <tr>\n",
       "      <th>25%</th>\n",
       "      <td>0.000000</td>\n",
       "      <td>24.000000</td>\n",
       "      <td>33300.000000</td>\n",
       "      <td>0.000000</td>\n",
       "      <td>0.000000</td>\n",
       "    </tr>\n",
       "    <tr>\n",
       "      <th>50%</th>\n",
       "      <td>0.000000</td>\n",
       "      <td>30.000000</td>\n",
       "      <td>40200.000000</td>\n",
       "      <td>1.000000</td>\n",
       "      <td>0.000000</td>\n",
       "    </tr>\n",
       "    <tr>\n",
       "      <th>75%</th>\n",
       "      <td>1.000000</td>\n",
       "      <td>37.000000</td>\n",
       "      <td>46600.000000</td>\n",
       "      <td>2.000000</td>\n",
       "      <td>0.000000</td>\n",
       "    </tr>\n",
       "    <tr>\n",
       "      <th>max</th>\n",
       "      <td>1.000000</td>\n",
       "      <td>65.000000</td>\n",
       "      <td>79000.000000</td>\n",
       "      <td>6.000000</td>\n",
       "      <td>5.000000</td>\n",
       "    </tr>\n",
       "  </tbody>\n",
       "</table>\n",
       "</div>"
      ],
      "text/plain": [
       "               Пол      Возраст      Зарплата  Члены семьи  Страховые выплаты\n",
       "count  5000.000000  5000.000000   5000.000000  5000.000000        5000.000000\n",
       "mean      0.499000    30.952800  39916.360000     1.194200           0.148000\n",
       "std       0.500049     8.440807   9900.083569     1.091387           0.463183\n",
       "min       0.000000    18.000000   5300.000000     0.000000           0.000000\n",
       "25%       0.000000    24.000000  33300.000000     0.000000           0.000000\n",
       "50%       0.000000    30.000000  40200.000000     1.000000           0.000000\n",
       "75%       1.000000    37.000000  46600.000000     2.000000           0.000000\n",
       "max       1.000000    65.000000  79000.000000     6.000000           5.000000"
      ]
     },
     "execution_count": 12,
     "metadata": {},
     "output_type": "execute_result"
    }
   ],
   "source": [
    "data = pd.read_csv('../datasets/insurance.csv')\n",
    "data.info()\n",
    "data.describe()"
   ]
  },
  {
   "cell_type": "markdown",
   "metadata": {},
   "source": [
    "<div class=\"alert alert-danger\">\n",
    "<font size=\"5\"><b>Комментарий ревьюера</b></font>\n",
    "\n",
    "Ошибка:\n",
    "    \n",
    "Мне пришлось подправить твой код чтобы запустилось. Для некоторых особо строгих ревьюеров это основание завернуть работу без проверки, так что будь внимательней в следующий раз )\n",
    "    \n",
    "Совет - используй конструкцию try except:    \n",
    "  \n",
    "    try:\n",
    "\n",
    "        data = pd.read_csv('C:/your_project/users_behavior.csv')\n",
    "    except:\n",
    "\n",
    "\n",
    "        data = pd.read_csv('/datasets/insurance.csv')    \n",
    "    \n",
    "</div>"
   ]
  },
  {
   "cell_type": "markdown",
   "metadata": {},
   "source": [
    "Повезло, данные в полном порядке и пропусков нет!"
   ]
  },
  {
   "cell_type": "markdown",
   "metadata": {},
   "source": [
    "<div class=\"alert alert-success\">\n",
    "<font size=\"5\"><b>Комментарий ревьюера</b></font>\n",
    "\n",
    "Успех 👍: \n",
    "    \n",
    "EDA проведено.  \n",
    "\n",
    "\n",
    "\n",
    "    \n",
    "<div class=\"alert alert-warning\">\n",
    "\n",
    "\n",
    "Совет 🤔: \n",
    "    \n",
    "    \n",
    "- Кроме того можно посмотреть на    корреляцию признаков. Известно ли тебе понятие мультиколлиниарность, какие 2 типа проблемы вызывает она и для каких моделей, и почему для данного проекта было бы интересно на нее глянуть? \n",
    "\n",
    "</div>\n",
    "\n"
   ]
  },
  {
   "cell_type": "markdown",
   "metadata": {},
   "source": [
    "## Умножение матриц"
   ]
  },
  {
   "cell_type": "markdown",
   "metadata": {},
   "source": [
    "В этом задании вы можете записывать формулы в *Jupyter Notebook.*\n",
    "\n",
    "Чтобы записать формулу внутри текста, окружите её символами доллара \\\\$; если снаружи —  двойными символами \\\\$\\\\$. Эти формулы записываются на языке вёрстки *LaTeX.* \n",
    "\n",
    "Для примера мы записали формулы линейной регрессии. Можете их скопировать и отредактировать, чтобы решить задачу.\n",
    "\n",
    "Работать в *LaTeX* необязательно."
   ]
  },
  {
   "cell_type": "markdown",
   "metadata": {},
   "source": [
    "Обозначения:\n",
    "\n",
    "- $X$ — матрица признаков (нулевой столбец состоит из единиц)\n",
    "\n",
    "- $y$ — вектор целевого признака\n",
    "\n",
    "- $P$ — матрица, на которую умножаются признаки\n",
    "\n",
    "- $w$ — вектор весов линейной регрессии (нулевой элемент равен сдвигу)"
   ]
  },
  {
   "cell_type": "markdown",
   "metadata": {},
   "source": [
    "Предсказания:\n",
    "\n",
    "$$\n",
    "a = Xw\n",
    "$$\n",
    "\n",
    "Задача обучения:\n",
    "\n",
    "$$\n",
    "w = \\arg\\min_w MSE(Xw, y)\n",
    "$$\n",
    "\n",
    "Формула обучения:\n",
    "\n",
    "$$\n",
    "w = (X^T X)^{-1} X^T y\n",
    "$$"
   ]
  },
  {
   "cell_type": "markdown",
   "metadata": {},
   "source": [
    "**Ответ:** Нет, не изменится.\n",
    "\n",
    "**Обоснование:**\n",
    "\n",
    "###### Шаг 1. Введем матрицу Z.\n",
    "Пусть Z - наша новая матрица $$Z = XP$$\n",
    "<br></br>\n",
    "###### Шаг 2. Выведем обновленную формулу для предсказания\n",
    "$$a1 = Zw = Z (Z^T Z)^{-1} Z^T y $$\n",
    "###### Шаг 3. Раскроем нашу матрицу Z\n",
    "$$a1 = XP ((XP)^{T} XP))^{-1} (XP)^T y$$\n",
    "###### Шаг 4. Преобразовываем выражения $$(XP)^T = P^T X^T$$и упрощаем\n",
    "$$a1 = X(X^T X)^{-1} X^T y  $$\n",
    "###### Шаг 4. Сопоставляем\n",
    "$$a1 = a$$\n",
    "так как\n",
    "$$(X^T X)^{-1} X^T y = w$$\n",
    "по условию и $$Xw = X(X^T X)^{-1} X^T y$$\n",
    "Формула обучения не изменилась - качество линейной регрессии не изменится.\n"
   ]
  },
  {
   "cell_type": "markdown",
   "metadata": {},
   "source": [
    "\n",
    "<div class=\"alert alert-danger\">\n",
    "<font size=\"5\"><b>Комментарий ревьюера</b></font>\n",
    "\n",
    "Ошибка ❌:\n",
    "    \n",
    "1\n",
    "\n",
    "  \n",
    "Нет ответа на \"как связаны параметры линейной регрессии в исходной задаче и в преобразованной\"\n",
    "\n",
    "\n",
    "\n",
    "2\n",
    "\n",
    "  \n",
    "Направление твоего доказательства верное - берем формулу, подставляем, немножко математической магии: открываем скобки, сокращаем итп итд, как в обычной арифметике и вуаля! Вообще тут много аналогий:  в \"мире матриц\" умножив единичную матрица на вектор или матрицу получаем тот же самый вектор или матрицу, в \"мире цифр\" это как умножив число на 1, получить тоже самое число. Если умножить матрицу на обратную ей матрицу получаем единичную матрицу, точно также если умножить число на обратное ей число получаем единицу. Только как-то ты очень быстро преобразовал, можешь расписать переход от\n",
    "    \n",
    "    \n",
    "$$a1 = XP ((XP)^{T} XP))^{-1} (XP)^T y$$\n",
    "к\n",
    "$$a1 = X(X^T X)^{-1} X^T y  $$    \n",
    "    "
   ]
  },
  {
   "cell_type": "markdown",
   "metadata": {},
   "source": [
    "## Алгоритм преобразования"
   ]
  },
  {
   "cell_type": "markdown",
   "metadata": {},
   "source": [
    "**Алгоритм**\n",
    "\n",
    "Алгоритм шифрования, суть которого умножить матрицу признаков на обратимую матрицу.\n",
    "<br></br>\n",
    "- Генерируем и фиксируем случайную квадратную матрицу в качестве ключа шифрования размером, равному количеству признаков, не учитывая целевой.\n",
    "<br></br>\n",
    "- Скалярно умножаем матрицу признаков на нашу обратимую квадратную матрицу, полученную в первом шаге.\n",
    "<br></br>\n",
    "- Используем полученное произведение в качестве features для разбития данных и обучения модели."
   ]
  },
  {
   "cell_type": "markdown",
   "metadata": {},
   "source": [
    "\n",
    "<div class=\"alert alert-success\">\n",
    "<font size=\"5\"><b>Комментарий ревьюера</b></font>\n",
    "\n",
    "Успех 👍:\n",
    "\n",
    "\n",
    "Все верно.\n",
    "\n",
    "\n",
    "\n",
    "<div class=\"alert alert-warning\">\n",
    "\n",
    "Совет 🤔:\n",
    "\n",
    "- А если с сгенерирования матрица будет необратимой? Тут можно расписать порядок действий на все случаи в том числе на этот \n",
    "\n",
    "    \n",
    "    \n",
    "    \n",
    "</div>\n"
   ]
  },
  {
   "cell_type": "markdown",
   "metadata": {},
   "source": [
    "**Обоснование**\n",
    "\n",
    "Мы производим умножение каждого набора признаков из features на одинаковые наборы векторов (столбец - вектор) из квадратной обратимой матрицы и записываем их в новый вектор - строку. Соответственно итоговые веса каждого такого вектора будут равны весам набора признаков.\n",
    "\n",
    "В Пункте 2 мы уже доказали, почему качество не снизиться - выражения тождественны."
   ]
  },
  {
   "cell_type": "markdown",
   "metadata": {},
   "source": [
    "## Проверка алгоритма"
   ]
  },
  {
   "cell_type": "markdown",
   "metadata": {},
   "source": [
    "Обозначим целевой и нецелевые признаки. Как нам известно, целевым считается признак *Страховые выплаты*."
   ]
  },
  {
   "cell_type": "code",
   "execution_count": 13,
   "metadata": {},
   "outputs": [],
   "source": [
    "features = data.drop('Страховые выплаты', axis=1)\n",
    "target = data['Страховые выплаты']"
   ]
  },
  {
   "cell_type": "markdown",
   "metadata": {},
   "source": [
    "Разобьем данные на обучающую и тестовую выборки в соотношении 3:1."
   ]
  },
  {
   "cell_type": "code",
   "execution_count": 14,
   "metadata": {},
   "outputs": [],
   "source": [
    "features_train, features_test, target_train, target_test = train_test_split(features, target, test_size=0.2,\n",
    "                                                                            random_state=12345)"
   ]
  },
  {
   "cell_type": "markdown",
   "metadata": {},
   "source": [
    "<div class=\"alert alert-success\">\n",
    "<font size=\"5\"><b>Комментарий ревьюера</b></font>\n",
    "\n",
    "Успех 👍:\n",
    "\n",
    "Все правильно, помним о стандартах ML при моделировании\n",
    "\n",
    "\n",
    "<div>\n",
    "\n"
   ]
  },
  {
   "cell_type": "markdown",
   "metadata": {},
   "source": [
    "Обучим модель и подсчитаем метрику *r2 score*.\n"
   ]
  },
  {
   "cell_type": "code",
   "execution_count": 15,
   "metadata": {},
   "outputs": [
    {
     "name": "stdout",
     "output_type": "stream",
     "text": [
      "R2 score =  0.41177\n"
     ]
    }
   ],
   "source": [
    "from sklearn.metrics import r2_score\n",
    "\n",
    "model = LinearRegression()\n",
    "model.fit(features_train, target_train)\n",
    "predictions = model.predict(features_test)\n",
    "print('R2 score = ', np.round(r2_score(y_true=target_test, y_pred=predictions), 5))"
   ]
  },
  {
   "cell_type": "markdown",
   "metadata": {},
   "source": [
    "## Теперь реализуем собственный алгоритм."
   ]
  },
  {
   "cell_type": "markdown",
   "metadata": {},
   "source": [
    "Создадим квадратную обратимую матрицу методом np.random.normal, при использовании этого метода вероятность получить необратимую матрицу близка к нулю.\n",
    "В size передадим размер признаков - 1, так как один из них целевой."
   ]
  },
  {
   "cell_type": "code",
   "execution_count": 16,
   "metadata": {},
   "outputs": [
    {
     "data": {
      "text/plain": [
       "array([[ 1.82617214, -0.73836141, -0.37960678,  1.04919874],\n",
       "       [ 1.05229045, -0.38446076, -0.56045003,  1.29973879],\n",
       "       [ 1.7339306 ,  0.58863018, -0.3935632 ,  0.32024176],\n",
       "       [ 0.33926505, -0.18585268,  0.24044548,  1.11146192]])"
      ]
     },
     "execution_count": 16,
     "metadata": {},
     "output_type": "execute_result"
    }
   ],
   "source": [
    "square_matrix = np.random.normal(size=(data.shape[1] - 1, data.shape[1] - 1))\n",
    "square_matrix\n",
    "#TODO Добавить маркдауны с обьяснениями и отретишировать код в целом, сверится с чек-листом."
   ]
  },
  {
   "cell_type": "markdown",
   "metadata": {},
   "source": [
    "Здесь мы проверим, что получаем единичную матрицу при перемножении матрицы на её обратную."
   ]
  },
  {
   "cell_type": "code",
   "execution_count": 17,
   "metadata": {},
   "outputs": [
    {
     "data": {
      "text/plain": [
       "array([[ 1.00000000e+00,  0.00000000e+00, -6.07153217e-18,\n",
       "         0.00000000e+00],\n",
       "       [-1.11022302e-16,  1.00000000e+00,  4.25007252e-17,\n",
       "         0.00000000e+00],\n",
       "       [-1.66533454e-16, -1.38777878e-16,  1.00000000e+00,\n",
       "         0.00000000e+00],\n",
       "       [ 1.11022302e-16, -2.22044605e-16,  1.04083409e-17,\n",
       "         1.00000000e+00]])"
      ]
     },
     "execution_count": 17,
     "metadata": {},
     "output_type": "execute_result"
    }
   ],
   "source": [
    "inverse_square_matrix = np.linalg.inv(square_matrix)\n",
    "square_matrix @ inverse_square_matrix"
   ]
  },
  {
   "cell_type": "markdown",
   "metadata": {},
   "source": [
    "\n",
    "\n",
    "\n",
    "<div class=\"alert alert-warning\">\n",
    "<font size=\"5\"><b>Комментарий ревьюера</b></font>\n",
    "\n",
    "Совет 🤔:\n",
    "\n",
    "\n",
    "- ты проверяешь    матрицу на обратимость (np.linalg.inv(square_matrix) - иначе тут будет ошибка) - отлично, но если она необратимая выскочит ошибка, код не исполнится до конца\n",
    "    \n",
    "Можно здесь было сделать похитрей - генерирум матрицу пока не получим обратимную и наш код  гарантированно полностью отработает. Добиться этого можно например так:\n",
    "\n",
    "\n",
    "    \n",
    "    def get_rand_matrix():\n",
    "        det = 0\n",
    "        while det == 0:\n",
    "            matrix = np.random.normal(size=(data.shape[1], data.shape[1]))\n",
    "            det = np.linalg.det(matrix)\n",
    "        return matrix\n",
    "\n",
    "C помощью рекурсии\n",
    "\n",
    "    def func(dim):\n",
    "        transform_matrix = np.random.rand(dim, dim)\n",
    "        try: \n",
    "            inv = np.linalg.inv(transform_matrix)\n",
    "            return transform_matrix, inv\n",
    "        except:\n",
    "            func(dim)  \n",
    "    \n"
   ]
  },
  {
   "cell_type": "markdown",
   "metadata": {},
   "source": [
    "Создадим наши зашифрованные признаки путем скалярного умножения на обратимую матрицу."
   ]
  },
  {
   "cell_type": "code",
   "execution_count": 18,
   "metadata": {},
   "outputs": [],
   "source": [
    "new_features = features @ square_matrix"
   ]
  },
  {
   "cell_type": "markdown",
   "metadata": {},
   "source": [
    "Разбиваем данные."
   ]
  },
  {
   "cell_type": "code",
   "execution_count": 19,
   "metadata": {},
   "outputs": [],
   "source": [
    "new_features_train, new_features_test, new_target_train, new_target_test = train_test_split(new_features, target,\n",
    "                                                                                            test_size=0.2,\n",
    "                                                                                            random_state=12345)"
   ]
  },
  {
   "cell_type": "markdown",
   "metadata": {},
   "source": [
    "И наконец считаем метрику."
   ]
  },
  {
   "cell_type": "code",
   "execution_count": 20,
   "metadata": {},
   "outputs": [
    {
     "name": "stdout",
     "output_type": "stream",
     "text": [
      "R2 score =  0.41177\n"
     ]
    }
   ],
   "source": [
    "new_model = LinearRegression()\n",
    "new_model.fit(new_features_train, new_target_train)\n",
    "new_predictions = new_model.predict(new_features_test)\n",
    "print('R2 score = ', np.round(r2_score(y_true=new_target_test, y_pred=new_predictions), 5))"
   ]
  },
  {
   "cell_type": "markdown",
   "metadata": {},
   "source": [
    "Метрика Линейной Регрессии по умолчании и метрика с учетом нашим зашифрованных данных равны! То бишь наш алгоритм никак не повлиял на качество."
   ]
  },
  {
   "cell_type": "markdown",
   "metadata": {},
   "source": [
    "\n",
    "\n",
    "<div class=\"alert alert-success\">\n",
    "<font size=\"5\"><b>Комментарий ревьюера</b></font>\n",
    "\n",
    "Успех 👍:\n",
    "    \n",
    "Все сошлось. \n",
    "    \n",
    "    \n",
    "- универсальность кода: код отработает для любой размерности матрицы обьект-признак  \n",
    "\n",
    "\n",
    "- использование `@`, а не `.dot()`   \n",
    "\n",
    "\n",
    "- использование train_test_split - все правильно, помним о стандартах ML при моделировании\n",
    "\n",
    "    \n",
    "    "
   ]
  },
  {
   "cell_type": "markdown",
   "metadata": {},
   "source": [
    "\n",
    "\n",
    "\n",
    "<div class=\"alert alert-danger\">\n",
    "<font size=\"5\"><b>Комментарий ревьюера</b></font>\n",
    "\n",
    "Ошибка ❌:\n",
    "\n",
    "Было бы замечательно, в конце немножко о данных, работе с ними, моделировании и полученных результатах, доказательствах. Это важно потому что когда проект захочет посмотреть будущий работодатель (или начальник), у него может не быть времени на подробный разбор кода. Вероятнее всего он бегло просмотрит код, а из общего вывода захочет получить представление о всей работе. Вырабатывай рефлексы правильного формления проектов )\n",
    "\n",
    "\n",
    "</div>"
   ]
  },
  {
   "cell_type": "markdown",
   "metadata": {},
   "source": [
    "\n",
    "<div class=\"alert alert-info\">\n",
    "<font size=\"5\"><b>Комментарий ревьюера</b></font>\n",
    "\n",
    "\n",
    "У тебя старательно выполненная работа, все четко, осмысленно. Отмечаю уровень твоей программистской подготовки. \n",
    "\n",
    "\n",
    "\n",
    "\n",
    "Я оставил небольшие советы и вопросики (если есть время и желание можешь воспользоваться/ответить)\n",
    "    \n",
    "\n",
    "\n",
    "Обязательное к исправлению:\n",
    "\n",
    "\n",
    "\n",
    "    \n",
    "- Неверно прописан путь    \n",
    "    \n",
    "    \n",
    "    \n",
    "    \n",
    "- дорабатываем теоретическое доказательство, с учетом моих комментариев   \n",
    "\n",
    "\n",
    " \n",
    "    \n",
    " \n",
    "    \n",
    "- рекомендую добавить общий вывод (лицо проекта)\n",
    "\n",
    "\n",
    "\n",
    "Жду исправлений, для принятия проекта. Если какие то вопросы, то сразу спрашивай ) \n",
    "\n",
    "</div>\n",
    "\n"
   ]
  },
  {
   "cell_type": "markdown",
   "metadata": {},
   "source": [
    "## Чек-лист проверки"
   ]
  },
  {
   "cell_type": "markdown",
   "metadata": {},
   "source": [
    "Поставьте 'x' в выполненных пунктах. Далее нажмите Shift+Enter."
   ]
  },
  {
   "cell_type": "markdown",
   "metadata": {},
   "source": [
    "- [x]  Jupyter Notebook открыт\n",
    "- [x]  Весь код выполняется без ошибок\n",
    "- [x]  Ячейки с кодом расположены в порядке исполнения\n",
    "- [x]  Выполнен шаг 1: данные загружены\n",
    "- [x]  Выполнен шаг 2: получен ответ на вопрос об умножении матриц\n",
    "    - [x]  Указан правильный вариант ответа\n",
    "    - [x]  Вариант обоснован\n",
    "- [x]  Выполнен шаг 3: предложен алгоритм преобразования\n",
    "    - [x]  Алгоритм описан\n",
    "    - [x]  Алгоритм обоснован\n",
    "- [x]  Выполнен шаг 4: алгоритм проверен\n",
    "    - [x]  Алгоритм реализован\n",
    "    - [x]  Проведено сравнение качества моделей до и после преобразования"
   ]
  },
  {
   "cell_type": "code",
   "execution_count": 20,
   "metadata": {},
   "outputs": [],
   "source": []
  }
 ],
 "metadata": {
  "ExecuteTimeLog": [
   {
    "duration": 80,
    "start_time": "2022-12-15T12:14:08.118Z"
   },
   {
    "duration": 1795,
    "start_time": "2022-12-15T12:20:49.925Z"
   },
   {
    "duration": 107,
    "start_time": "2022-12-15T12:20:51.722Z"
   },
   {
    "duration": 0,
    "start_time": "2022-12-15T12:20:51.830Z"
   },
   {
    "duration": 0,
    "start_time": "2022-12-15T12:20:51.831Z"
   },
   {
    "duration": 0,
    "start_time": "2022-12-15T12:20:51.832Z"
   },
   {
    "duration": 0,
    "start_time": "2022-12-15T12:20:51.833Z"
   },
   {
    "duration": 0,
    "start_time": "2022-12-15T12:20:51.835Z"
   },
   {
    "duration": 0,
    "start_time": "2022-12-15T12:20:51.836Z"
   },
   {
    "duration": 0,
    "start_time": "2022-12-15T12:20:51.837Z"
   },
   {
    "duration": 0,
    "start_time": "2022-12-15T12:20:51.838Z"
   },
   {
    "duration": 1940,
    "start_time": "2022-12-15T12:21:41.062Z"
   },
   {
    "duration": 130,
    "start_time": "2022-12-15T12:21:43.004Z"
   },
   {
    "duration": 3,
    "start_time": "2022-12-15T12:21:43.136Z"
   },
   {
    "duration": 9,
    "start_time": "2022-12-15T12:21:43.141Z"
   },
   {
    "duration": 10,
    "start_time": "2022-12-15T12:21:43.152Z"
   },
   {
    "duration": 16,
    "start_time": "2022-12-15T12:21:43.164Z"
   },
   {
    "duration": 10,
    "start_time": "2022-12-15T12:21:43.182Z"
   },
   {
    "duration": 9,
    "start_time": "2022-12-15T12:21:43.194Z"
   },
   {
    "duration": 76,
    "start_time": "2022-12-15T12:21:43.205Z"
   },
   {
    "duration": 14,
    "start_time": "2022-12-15T12:21:43.283Z"
   }
  ],
  "kernelspec": {
   "display_name": "Python 3 (ipykernel)",
   "language": "python",
   "name": "python3"
  },
  "language_info": {
   "codemirror_mode": {
    "name": "ipython",
    "version": 3
   },
   "file_extension": ".py",
   "mimetype": "text/x-python",
   "name": "python",
   "nbconvert_exporter": "python",
   "pygments_lexer": "ipython3",
   "version": "3.9.13"
  },
  "toc": {
   "base_numbering": 1,
   "nav_menu": {},
   "number_sections": true,
   "sideBar": true,
   "skip_h1_title": true,
   "title_cell": "Содержание",
   "title_sidebar": "Contents",
   "toc_cell": true,
   "toc_position": {},
   "toc_section_display": true,
   "toc_window_display": false
  }
 },
 "nbformat": 4,
 "nbformat_minor": 2
}
