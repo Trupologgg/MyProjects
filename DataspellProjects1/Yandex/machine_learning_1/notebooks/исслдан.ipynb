{
 "cells": [
  {
   "cell_type": "markdown",
   "metadata": {
    "pycharm": {
     "name": "#%% md\n"
    }
   },
   "source": [
    "# Исследование объявлений о продаже квартир\n",
    "\n",
    "В вашем распоряжении данные сервиса Яндекс.Недвижимость — архив объявлений о продаже квартир в Санкт-Петербурге и соседних населённых пунктов за несколько лет. Нужно научиться определять рыночную стоимость объектов недвижимости. Ваша задача — установить параметры. Это позволит построить автоматизированную систему: она отследит аномалии и мошенническую деятельность. \n",
    "\n",
    "По каждой квартире на продажу доступны два вида данных. Первые вписаны пользователем, вторые — получены автоматически на основе картографических данных. Например, расстояние до центра, аэропорта, ближайшего парка и водоёма. "
   ]
  },
  {
   "cell_type": "markdown",
   "metadata": {
    "pycharm": {
     "name": "#%% md\n"
    }
   },
   "source": [
    "### Откройте файл с данными и изучите общую информацию."
   ]
  },
  {
   "cell_type": "code",
   "execution_count": 20,
   "outputs": [],
   "source": [
    "import matplotlib.pyplot as plt\n",
    "import numpy as np\n",
    "import pandas as pd"
   ],
   "metadata": {
    "collapsed": false,
    "pycharm": {
     "name": "#%%\n"
    }
   }
  },
  {
   "cell_type": "code",
   "execution_count": 21,
   "metadata": {
    "pycharm": {
     "name": "#%%\n"
    }
   },
   "outputs": [
    {
     "data": {
      "text/plain": "    total_images  last_price  total_area first_day_exposition  rooms  \\\n0             20  13000000.0      108.00  2019-03-07T00:00:00      3   \n1              7   3350000.0       40.40  2018-12-04T00:00:00      1   \n2             10   5196000.0       56.00  2015-08-20T00:00:00      2   \n3              0  64900000.0      159.00  2015-07-24T00:00:00      3   \n4              2  10000000.0      100.00  2018-06-19T00:00:00      2   \n5             10   2890000.0       30.40  2018-09-10T00:00:00      1   \n6              6   3700000.0       37.30  2017-11-02T00:00:00      1   \n7              5   7915000.0       71.60  2019-04-18T00:00:00      2   \n8             20   2900000.0       33.16  2018-05-23T00:00:00      1   \n9             18   5400000.0       61.00  2017-02-26T00:00:00      3   \n10             5   5050000.0       39.60  2017-11-16T00:00:00      1   \n11             9   3300000.0       44.00  2018-08-27T00:00:00      2   \n12            10   3890000.0       54.00  2016-06-30T00:00:00      2   \n13            20   3550000.0       42.80  2017-07-01T00:00:00      2   \n14             1   4400000.0       36.00  2016-06-23T00:00:00      1   \n15            16   4650000.0       39.00  2017-11-18T00:00:00      1   \n16            11   6700000.0       82.00  2017-11-23T00:00:00      3   \n17             6   4180000.0       36.00  2016-09-09T00:00:00      1   \n18             8   3250000.0       31.00  2017-01-27T00:00:00      1   \n19            16  14200000.0      121.00  2019-01-09T00:00:00      3   \n\n    ceiling_height  floors_total  living_area  floor is_apartment  ...  \\\n0             2.70          16.0        51.00      8          NaN  ...   \n1              NaN          11.0        18.60      1          NaN  ...   \n2              NaN           5.0        34.30      4          NaN  ...   \n3              NaN          14.0          NaN      9          NaN  ...   \n4             3.03          14.0        32.00     13          NaN  ...   \n5              NaN          12.0        14.40      5          NaN  ...   \n6              NaN          26.0        10.60      6          NaN  ...   \n7              NaN          24.0          NaN     22          NaN  ...   \n8              NaN          27.0        15.43     26          NaN  ...   \n9             2.50           9.0        43.60      7          NaN  ...   \n10            2.67          12.0        20.30      3          NaN  ...   \n11             NaN           5.0        31.00      4        False  ...   \n12             NaN           5.0        30.00      5          NaN  ...   \n13            2.56           5.0        27.00      5          NaN  ...   \n14             NaN           6.0        17.00      1          NaN  ...   \n15             NaN          14.0        20.50      5          NaN  ...   \n16            3.05           5.0        55.60      1          NaN  ...   \n17             NaN          17.0        16.50      7          NaN  ...   \n18            2.50           5.0        19.40      2          NaN  ...   \n19            2.75          16.0        76.00      8          NaN  ...   \n\n    kitchen_area  balcony              locality_name  airports_nearest  \\\n0          25.00      NaN            Санкт-Петербург           18863.0   \n1          11.00      2.0             посёлок Шушары           12817.0   \n2           8.30      0.0            Санкт-Петербург           21741.0   \n3            NaN      0.0            Санкт-Петербург           28098.0   \n4          41.00      NaN            Санкт-Петербург           31856.0   \n5           9.10      NaN  городской посёлок Янино-1               NaN   \n6          14.40      1.0          посёлок Парголово           52996.0   \n7          18.90      2.0            Санкт-Петербург           23982.0   \n8           8.81      NaN             посёлок Мурино               NaN   \n9           6.50      2.0            Санкт-Петербург           50898.0   \n10          8.50      NaN            Санкт-Петербург           38357.0   \n11          6.00      1.0                  Ломоносов           48252.0   \n12          9.00      0.0                  Сертолово               NaN   \n13          5.20      1.0                   Петергоф           37868.0   \n14          8.00      0.0                     Пушкин           20782.0   \n15          7.60      1.0            Санкт-Петербург           12900.0   \n16          9.00      NaN            Санкт-Петербург           22108.0   \n17         11.00      1.0            Санкт-Петербург           33564.0   \n18          5.60      1.0            Санкт-Петербург           44060.0   \n19         12.00      NaN            Санкт-Петербург           38900.0   \n\n   cityCenters_nearest  parks_around3000  parks_nearest  ponds_around3000  \\\n0              16028.0               1.0          482.0               2.0   \n1              18603.0               0.0            NaN               0.0   \n2              13933.0               1.0           90.0               2.0   \n3               6800.0               2.0           84.0               3.0   \n4               8098.0               2.0          112.0               1.0   \n5                  NaN               NaN            NaN               NaN   \n6              19143.0               0.0            NaN               0.0   \n7              11634.0               0.0            NaN               0.0   \n8                  NaN               NaN            NaN               NaN   \n9              15008.0               0.0            NaN               0.0   \n10             13878.0               1.0          310.0               2.0   \n11             51677.0               0.0            NaN               0.0   \n12                 NaN               NaN            NaN               NaN   \n13             33058.0               1.0          294.0               3.0   \n14             30759.0               0.0            NaN               1.0   \n15             14259.0               1.0          590.0               1.0   \n16             10698.0               3.0          420.0               0.0   \n17             14616.0               0.0            NaN               1.0   \n18             10842.0               1.0          759.0               0.0   \n19             12843.0               0.0            NaN               0.0   \n\n    ponds_nearest  days_exposition  \n0           755.0              NaN  \n1             NaN             81.0  \n2           574.0            558.0  \n3           234.0            424.0  \n4            48.0            121.0  \n5             NaN             55.0  \n6             NaN            155.0  \n7             NaN              NaN  \n8             NaN            189.0  \n9             NaN            289.0  \n10          553.0            137.0  \n11            NaN              7.0  \n12            NaN             90.0  \n13          298.0            366.0  \n14           96.0            203.0  \n15          296.0             19.0  \n16            NaN            397.0  \n17          859.0            571.0  \n18            NaN            168.0  \n19            NaN             97.0  \n\n[20 rows x 22 columns]",
      "text/html": "<div>\n<style scoped>\n    .dataframe tbody tr th:only-of-type {\n        vertical-align: middle;\n    }\n\n    .dataframe tbody tr th {\n        vertical-align: top;\n    }\n\n    .dataframe thead th {\n        text-align: right;\n    }\n</style>\n<table border=\"1\" class=\"dataframe\">\n  <thead>\n    <tr style=\"text-align: right;\">\n      <th></th>\n      <th>total_images</th>\n      <th>last_price</th>\n      <th>total_area</th>\n      <th>first_day_exposition</th>\n      <th>rooms</th>\n      <th>ceiling_height</th>\n      <th>floors_total</th>\n      <th>living_area</th>\n      <th>floor</th>\n      <th>is_apartment</th>\n      <th>...</th>\n      <th>kitchen_area</th>\n      <th>balcony</th>\n      <th>locality_name</th>\n      <th>airports_nearest</th>\n      <th>cityCenters_nearest</th>\n      <th>parks_around3000</th>\n      <th>parks_nearest</th>\n      <th>ponds_around3000</th>\n      <th>ponds_nearest</th>\n      <th>days_exposition</th>\n    </tr>\n  </thead>\n  <tbody>\n    <tr>\n      <th>0</th>\n      <td>20</td>\n      <td>13000000.0</td>\n      <td>108.00</td>\n      <td>2019-03-07T00:00:00</td>\n      <td>3</td>\n      <td>2.70</td>\n      <td>16.0</td>\n      <td>51.00</td>\n      <td>8</td>\n      <td>NaN</td>\n      <td>...</td>\n      <td>25.00</td>\n      <td>NaN</td>\n      <td>Санкт-Петербург</td>\n      <td>18863.0</td>\n      <td>16028.0</td>\n      <td>1.0</td>\n      <td>482.0</td>\n      <td>2.0</td>\n      <td>755.0</td>\n      <td>NaN</td>\n    </tr>\n    <tr>\n      <th>1</th>\n      <td>7</td>\n      <td>3350000.0</td>\n      <td>40.40</td>\n      <td>2018-12-04T00:00:00</td>\n      <td>1</td>\n      <td>NaN</td>\n      <td>11.0</td>\n      <td>18.60</td>\n      <td>1</td>\n      <td>NaN</td>\n      <td>...</td>\n      <td>11.00</td>\n      <td>2.0</td>\n      <td>посёлок Шушары</td>\n      <td>12817.0</td>\n      <td>18603.0</td>\n      <td>0.0</td>\n      <td>NaN</td>\n      <td>0.0</td>\n      <td>NaN</td>\n      <td>81.0</td>\n    </tr>\n    <tr>\n      <th>2</th>\n      <td>10</td>\n      <td>5196000.0</td>\n      <td>56.00</td>\n      <td>2015-08-20T00:00:00</td>\n      <td>2</td>\n      <td>NaN</td>\n      <td>5.0</td>\n      <td>34.30</td>\n      <td>4</td>\n      <td>NaN</td>\n      <td>...</td>\n      <td>8.30</td>\n      <td>0.0</td>\n      <td>Санкт-Петербург</td>\n      <td>21741.0</td>\n      <td>13933.0</td>\n      <td>1.0</td>\n      <td>90.0</td>\n      <td>2.0</td>\n      <td>574.0</td>\n      <td>558.0</td>\n    </tr>\n    <tr>\n      <th>3</th>\n      <td>0</td>\n      <td>64900000.0</td>\n      <td>159.00</td>\n      <td>2015-07-24T00:00:00</td>\n      <td>3</td>\n      <td>NaN</td>\n      <td>14.0</td>\n      <td>NaN</td>\n      <td>9</td>\n      <td>NaN</td>\n      <td>...</td>\n      <td>NaN</td>\n      <td>0.0</td>\n      <td>Санкт-Петербург</td>\n      <td>28098.0</td>\n      <td>6800.0</td>\n      <td>2.0</td>\n      <td>84.0</td>\n      <td>3.0</td>\n      <td>234.0</td>\n      <td>424.0</td>\n    </tr>\n    <tr>\n      <th>4</th>\n      <td>2</td>\n      <td>10000000.0</td>\n      <td>100.00</td>\n      <td>2018-06-19T00:00:00</td>\n      <td>2</td>\n      <td>3.03</td>\n      <td>14.0</td>\n      <td>32.00</td>\n      <td>13</td>\n      <td>NaN</td>\n      <td>...</td>\n      <td>41.00</td>\n      <td>NaN</td>\n      <td>Санкт-Петербург</td>\n      <td>31856.0</td>\n      <td>8098.0</td>\n      <td>2.0</td>\n      <td>112.0</td>\n      <td>1.0</td>\n      <td>48.0</td>\n      <td>121.0</td>\n    </tr>\n    <tr>\n      <th>5</th>\n      <td>10</td>\n      <td>2890000.0</td>\n      <td>30.40</td>\n      <td>2018-09-10T00:00:00</td>\n      <td>1</td>\n      <td>NaN</td>\n      <td>12.0</td>\n      <td>14.40</td>\n      <td>5</td>\n      <td>NaN</td>\n      <td>...</td>\n      <td>9.10</td>\n      <td>NaN</td>\n      <td>городской посёлок Янино-1</td>\n      <td>NaN</td>\n      <td>NaN</td>\n      <td>NaN</td>\n      <td>NaN</td>\n      <td>NaN</td>\n      <td>NaN</td>\n      <td>55.0</td>\n    </tr>\n    <tr>\n      <th>6</th>\n      <td>6</td>\n      <td>3700000.0</td>\n      <td>37.30</td>\n      <td>2017-11-02T00:00:00</td>\n      <td>1</td>\n      <td>NaN</td>\n      <td>26.0</td>\n      <td>10.60</td>\n      <td>6</td>\n      <td>NaN</td>\n      <td>...</td>\n      <td>14.40</td>\n      <td>1.0</td>\n      <td>посёлок Парголово</td>\n      <td>52996.0</td>\n      <td>19143.0</td>\n      <td>0.0</td>\n      <td>NaN</td>\n      <td>0.0</td>\n      <td>NaN</td>\n      <td>155.0</td>\n    </tr>\n    <tr>\n      <th>7</th>\n      <td>5</td>\n      <td>7915000.0</td>\n      <td>71.60</td>\n      <td>2019-04-18T00:00:00</td>\n      <td>2</td>\n      <td>NaN</td>\n      <td>24.0</td>\n      <td>NaN</td>\n      <td>22</td>\n      <td>NaN</td>\n      <td>...</td>\n      <td>18.90</td>\n      <td>2.0</td>\n      <td>Санкт-Петербург</td>\n      <td>23982.0</td>\n      <td>11634.0</td>\n      <td>0.0</td>\n      <td>NaN</td>\n      <td>0.0</td>\n      <td>NaN</td>\n      <td>NaN</td>\n    </tr>\n    <tr>\n      <th>8</th>\n      <td>20</td>\n      <td>2900000.0</td>\n      <td>33.16</td>\n      <td>2018-05-23T00:00:00</td>\n      <td>1</td>\n      <td>NaN</td>\n      <td>27.0</td>\n      <td>15.43</td>\n      <td>26</td>\n      <td>NaN</td>\n      <td>...</td>\n      <td>8.81</td>\n      <td>NaN</td>\n      <td>посёлок Мурино</td>\n      <td>NaN</td>\n      <td>NaN</td>\n      <td>NaN</td>\n      <td>NaN</td>\n      <td>NaN</td>\n      <td>NaN</td>\n      <td>189.0</td>\n    </tr>\n    <tr>\n      <th>9</th>\n      <td>18</td>\n      <td>5400000.0</td>\n      <td>61.00</td>\n      <td>2017-02-26T00:00:00</td>\n      <td>3</td>\n      <td>2.50</td>\n      <td>9.0</td>\n      <td>43.60</td>\n      <td>7</td>\n      <td>NaN</td>\n      <td>...</td>\n      <td>6.50</td>\n      <td>2.0</td>\n      <td>Санкт-Петербург</td>\n      <td>50898.0</td>\n      <td>15008.0</td>\n      <td>0.0</td>\n      <td>NaN</td>\n      <td>0.0</td>\n      <td>NaN</td>\n      <td>289.0</td>\n    </tr>\n    <tr>\n      <th>10</th>\n      <td>5</td>\n      <td>5050000.0</td>\n      <td>39.60</td>\n      <td>2017-11-16T00:00:00</td>\n      <td>1</td>\n      <td>2.67</td>\n      <td>12.0</td>\n      <td>20.30</td>\n      <td>3</td>\n      <td>NaN</td>\n      <td>...</td>\n      <td>8.50</td>\n      <td>NaN</td>\n      <td>Санкт-Петербург</td>\n      <td>38357.0</td>\n      <td>13878.0</td>\n      <td>1.0</td>\n      <td>310.0</td>\n      <td>2.0</td>\n      <td>553.0</td>\n      <td>137.0</td>\n    </tr>\n    <tr>\n      <th>11</th>\n      <td>9</td>\n      <td>3300000.0</td>\n      <td>44.00</td>\n      <td>2018-08-27T00:00:00</td>\n      <td>2</td>\n      <td>NaN</td>\n      <td>5.0</td>\n      <td>31.00</td>\n      <td>4</td>\n      <td>False</td>\n      <td>...</td>\n      <td>6.00</td>\n      <td>1.0</td>\n      <td>Ломоносов</td>\n      <td>48252.0</td>\n      <td>51677.0</td>\n      <td>0.0</td>\n      <td>NaN</td>\n      <td>0.0</td>\n      <td>NaN</td>\n      <td>7.0</td>\n    </tr>\n    <tr>\n      <th>12</th>\n      <td>10</td>\n      <td>3890000.0</td>\n      <td>54.00</td>\n      <td>2016-06-30T00:00:00</td>\n      <td>2</td>\n      <td>NaN</td>\n      <td>5.0</td>\n      <td>30.00</td>\n      <td>5</td>\n      <td>NaN</td>\n      <td>...</td>\n      <td>9.00</td>\n      <td>0.0</td>\n      <td>Сертолово</td>\n      <td>NaN</td>\n      <td>NaN</td>\n      <td>NaN</td>\n      <td>NaN</td>\n      <td>NaN</td>\n      <td>NaN</td>\n      <td>90.0</td>\n    </tr>\n    <tr>\n      <th>13</th>\n      <td>20</td>\n      <td>3550000.0</td>\n      <td>42.80</td>\n      <td>2017-07-01T00:00:00</td>\n      <td>2</td>\n      <td>2.56</td>\n      <td>5.0</td>\n      <td>27.00</td>\n      <td>5</td>\n      <td>NaN</td>\n      <td>...</td>\n      <td>5.20</td>\n      <td>1.0</td>\n      <td>Петергоф</td>\n      <td>37868.0</td>\n      <td>33058.0</td>\n      <td>1.0</td>\n      <td>294.0</td>\n      <td>3.0</td>\n      <td>298.0</td>\n      <td>366.0</td>\n    </tr>\n    <tr>\n      <th>14</th>\n      <td>1</td>\n      <td>4400000.0</td>\n      <td>36.00</td>\n      <td>2016-06-23T00:00:00</td>\n      <td>1</td>\n      <td>NaN</td>\n      <td>6.0</td>\n      <td>17.00</td>\n      <td>1</td>\n      <td>NaN</td>\n      <td>...</td>\n      <td>8.00</td>\n      <td>0.0</td>\n      <td>Пушкин</td>\n      <td>20782.0</td>\n      <td>30759.0</td>\n      <td>0.0</td>\n      <td>NaN</td>\n      <td>1.0</td>\n      <td>96.0</td>\n      <td>203.0</td>\n    </tr>\n    <tr>\n      <th>15</th>\n      <td>16</td>\n      <td>4650000.0</td>\n      <td>39.00</td>\n      <td>2017-11-18T00:00:00</td>\n      <td>1</td>\n      <td>NaN</td>\n      <td>14.0</td>\n      <td>20.50</td>\n      <td>5</td>\n      <td>NaN</td>\n      <td>...</td>\n      <td>7.60</td>\n      <td>1.0</td>\n      <td>Санкт-Петербург</td>\n      <td>12900.0</td>\n      <td>14259.0</td>\n      <td>1.0</td>\n      <td>590.0</td>\n      <td>1.0</td>\n      <td>296.0</td>\n      <td>19.0</td>\n    </tr>\n    <tr>\n      <th>16</th>\n      <td>11</td>\n      <td>6700000.0</td>\n      <td>82.00</td>\n      <td>2017-11-23T00:00:00</td>\n      <td>3</td>\n      <td>3.05</td>\n      <td>5.0</td>\n      <td>55.60</td>\n      <td>1</td>\n      <td>NaN</td>\n      <td>...</td>\n      <td>9.00</td>\n      <td>NaN</td>\n      <td>Санкт-Петербург</td>\n      <td>22108.0</td>\n      <td>10698.0</td>\n      <td>3.0</td>\n      <td>420.0</td>\n      <td>0.0</td>\n      <td>NaN</td>\n      <td>397.0</td>\n    </tr>\n    <tr>\n      <th>17</th>\n      <td>6</td>\n      <td>4180000.0</td>\n      <td>36.00</td>\n      <td>2016-09-09T00:00:00</td>\n      <td>1</td>\n      <td>NaN</td>\n      <td>17.0</td>\n      <td>16.50</td>\n      <td>7</td>\n      <td>NaN</td>\n      <td>...</td>\n      <td>11.00</td>\n      <td>1.0</td>\n      <td>Санкт-Петербург</td>\n      <td>33564.0</td>\n      <td>14616.0</td>\n      <td>0.0</td>\n      <td>NaN</td>\n      <td>1.0</td>\n      <td>859.0</td>\n      <td>571.0</td>\n    </tr>\n    <tr>\n      <th>18</th>\n      <td>8</td>\n      <td>3250000.0</td>\n      <td>31.00</td>\n      <td>2017-01-27T00:00:00</td>\n      <td>1</td>\n      <td>2.50</td>\n      <td>5.0</td>\n      <td>19.40</td>\n      <td>2</td>\n      <td>NaN</td>\n      <td>...</td>\n      <td>5.60</td>\n      <td>1.0</td>\n      <td>Санкт-Петербург</td>\n      <td>44060.0</td>\n      <td>10842.0</td>\n      <td>1.0</td>\n      <td>759.0</td>\n      <td>0.0</td>\n      <td>NaN</td>\n      <td>168.0</td>\n    </tr>\n    <tr>\n      <th>19</th>\n      <td>16</td>\n      <td>14200000.0</td>\n      <td>121.00</td>\n      <td>2019-01-09T00:00:00</td>\n      <td>3</td>\n      <td>2.75</td>\n      <td>16.0</td>\n      <td>76.00</td>\n      <td>8</td>\n      <td>NaN</td>\n      <td>...</td>\n      <td>12.00</td>\n      <td>NaN</td>\n      <td>Санкт-Петербург</td>\n      <td>38900.0</td>\n      <td>12843.0</td>\n      <td>0.0</td>\n      <td>NaN</td>\n      <td>0.0</td>\n      <td>NaN</td>\n      <td>97.0</td>\n    </tr>\n  </tbody>\n</table>\n<p>20 rows × 22 columns</p>\n</div>"
     },
     "metadata": {},
     "output_type": "display_data"
    },
    {
     "data": {
      "text/plain": "23699"
     },
     "metadata": {},
     "output_type": "display_data"
    }
   ],
   "source": [
    "dataset = pd.read_csv('C:/Users/Александр/DataspellProjects/Yandex/machine_learning_1/datasets/real_estate_data.csv',\n",
    "                      sep='\\t')\n",
    "pd.set_option('display.max_rows', 30)\n",
    "display(dataset.head(20))\n",
    "display(dataset.shape[0])"
   ]
  },
  {
   "cell_type": "markdown",
   "source": [
    "После просмотра первых 20 строк, можно уже заметить много пропущенных значений(например высота потолков), хотя для такой таблицы эти данные одни из самых важных. Также можно обратить на то, что кол-во данных достаточно много (23699 строк)."
   ],
   "metadata": {
    "collapsed": false,
    "pycharm": {
     "name": "#%% md\n"
    }
   }
  },
  {
   "cell_type": "markdown",
   "metadata": {
    "pycharm": {
     "name": "#%% md\n"
    }
   },
   "source": [
    "### Предобработка данных"
   ]
  },
  {
   "cell_type": "code",
   "execution_count": 22,
   "metadata": {
    "pycharm": {
     "name": "#%%\n"
    }
   },
   "outputs": [
    {
     "data": {
      "text/plain": "total_images                0\nlast_price                  0\ntotal_area                  0\nfirst_day_exposition        0\nrooms                       0\nceiling_height           9195\nfloors_total               86\nliving_area              1903\nfloor                       0\nis_apartment            20924\nstudio                      0\nopen_plan                   0\nkitchen_area             2278\nbalcony                 11519\nlocality_name              49\nairports_nearest         5542\ncityCenters_nearest      5519\nparks_around3000         5518\nparks_nearest           15620\nponds_around3000         5518\nponds_nearest           14589\ndays_exposition          3181\ndtype: int64"
     },
     "metadata": {},
     "output_type": "display_data"
    }
   ],
   "source": [
    "#display(dataset.info())\n",
    "display(dataset.isna().sum())"
   ]
  },
  {
   "cell_type": "markdown",
   "source": [],
   "metadata": {
    "collapsed": false,
    "pycharm": {
     "name": "#%% md\n"
    }
   }
  },
  {
   "cell_type": "markdown",
   "source": [
    "###  1.Найдите и изучите пропущенные значения в столбцах:\n",
    "\n",
    "\n",
    "Можно заметить следующие пропущеные значения, которые можно заполнить:\n",
    " - ceiling_height(высота потолков) - можно заполнить медианным значением\n",
    "  - floors_total(кол-во комнат) - количество этих пропущенных значений небольшое, составляет всего 0.3% от общих данных, поэтому их можно удалить\n",
    "  - lvivng_area(жилая площадь) - числовое значение, поэтому можно заполнить медианой\n",
    "  - is_apartment(явл ли апартаментами) - категориальное значение, некоторые значение заполнены true или false, поэтому пропущенные можно заполнить false\n",
    "  - kitchen_area также можно заполнить медианой\n",
    "   - balcony -имеет целые числовые значения. Некоторые ячейки имеют значение 0, значит можно заполнить пропущенные 0.\n",
    "  - locality_name можно заполнить пустой строкой\n",
    "  - parks_around3000 - возможно если не указано кол-во,значит парка в радиусе 3000 нет и можно заполнить нулями.Аналогично с ponds\n"
   ],
   "metadata": {
    "collapsed": false,
    "pycharm": {
     "name": "#%% md\n"
    }
   }
  },
  {
   "cell_type": "code",
   "execution_count": 23,
   "outputs": [
    {
     "data": {
      "text/plain": "       total_images  last_price  total_area first_day_exposition  rooms  \\\n0                20  13000000.0      108.00  2019-03-07T00:00:00      3   \n1                 7   3350000.0       40.40  2018-12-04T00:00:00      1   \n2                10   5196000.0       56.00  2015-08-20T00:00:00      2   \n3                 0  64900000.0      159.00  2015-07-24T00:00:00      3   \n4                 2  10000000.0      100.00  2018-06-19T00:00:00      2   \n...             ...         ...         ...                  ...    ...   \n23694             9   9700000.0      133.81  2017-03-21T00:00:00      3   \n23695            14   3100000.0       59.00  2018-01-15T00:00:00      3   \n23696            18   2500000.0       56.70  2018-02-11T00:00:00      2   \n23697            13  11475000.0       76.75  2017-03-28T00:00:00      2   \n23698             4   1350000.0       32.30  2017-07-21T00:00:00      1   \n\n       ceiling_height  floors_total  living_area  floor  is_apartment  ...  \\\n0                2.70          16.0         51.0      8         False  ...   \n1                2.65          11.0         18.6      1         False  ...   \n2                2.65           5.0         34.3      4         False  ...   \n3                2.65          14.0         30.0      9         False  ...   \n4                3.03          14.0         32.0     13         False  ...   \n...               ...           ...          ...    ...           ...  ...   \n23694            3.70           5.0         73.3      3         False  ...   \n23695            2.65           5.0         38.0      4         False  ...   \n23696            2.65           3.0         29.7      1         False  ...   \n23697            3.00          17.0         30.0     12         False  ...   \n23698            2.50           5.0         12.3      1         False  ...   \n\n       kitchen_area  balcony        locality_name  airports_nearest  \\\n0             25.00      0.0      Санкт-Петербург           18863.0   \n1             11.00      2.0       посёлок Шушары           12817.0   \n2              8.30      0.0      Санкт-Петербург           21741.0   \n3              9.10      0.0      Санкт-Петербург           28098.0   \n4             41.00      0.0      Санкт-Петербург           31856.0   \n...             ...      ...                  ...               ...   \n23694         13.83      0.0      Санкт-Петербург           24665.0   \n23695          8.50      0.0                Тосно               NaN   \n23696          9.10      0.0     село Рождествено               NaN   \n23697         23.30      2.0      Санкт-Петербург           39140.0   \n23698          9.00      0.0  поселок Новый Учхоз               NaN   \n\n      cityCenters_nearest  parks_around3000  parks_nearest  ponds_around3000  \\\n0                 16028.0               1.0          482.0               2.0   \n1                 18603.0               0.0            NaN               0.0   \n2                 13933.0               1.0           90.0               2.0   \n3                  6800.0               2.0           84.0               3.0   \n4                  8098.0               2.0          112.0               1.0   \n...                   ...               ...            ...               ...   \n23694              4232.0               1.0          796.0               3.0   \n23695                 NaN               0.0            NaN               0.0   \n23696                 NaN               0.0            NaN               0.0   \n23697             10364.0               2.0          173.0               3.0   \n23698                 NaN               0.0            NaN               0.0   \n\n       ponds_nearest  days_exposition  \n0              755.0              NaN  \n1                NaN             81.0  \n2              574.0            558.0  \n3              234.0            424.0  \n4               48.0            121.0  \n...              ...              ...  \n23694          381.0              NaN  \n23695            NaN             45.0  \n23696            NaN              NaN  \n23697          196.0            602.0  \n23698            NaN              NaN  \n\n[23613 rows x 22 columns]",
      "text/html": "<div>\n<style scoped>\n    .dataframe tbody tr th:only-of-type {\n        vertical-align: middle;\n    }\n\n    .dataframe tbody tr th {\n        vertical-align: top;\n    }\n\n    .dataframe thead th {\n        text-align: right;\n    }\n</style>\n<table border=\"1\" class=\"dataframe\">\n  <thead>\n    <tr style=\"text-align: right;\">\n      <th></th>\n      <th>total_images</th>\n      <th>last_price</th>\n      <th>total_area</th>\n      <th>first_day_exposition</th>\n      <th>rooms</th>\n      <th>ceiling_height</th>\n      <th>floors_total</th>\n      <th>living_area</th>\n      <th>floor</th>\n      <th>is_apartment</th>\n      <th>...</th>\n      <th>kitchen_area</th>\n      <th>balcony</th>\n      <th>locality_name</th>\n      <th>airports_nearest</th>\n      <th>cityCenters_nearest</th>\n      <th>parks_around3000</th>\n      <th>parks_nearest</th>\n      <th>ponds_around3000</th>\n      <th>ponds_nearest</th>\n      <th>days_exposition</th>\n    </tr>\n  </thead>\n  <tbody>\n    <tr>\n      <th>0</th>\n      <td>20</td>\n      <td>13000000.0</td>\n      <td>108.00</td>\n      <td>2019-03-07T00:00:00</td>\n      <td>3</td>\n      <td>2.70</td>\n      <td>16.0</td>\n      <td>51.0</td>\n      <td>8</td>\n      <td>False</td>\n      <td>...</td>\n      <td>25.00</td>\n      <td>0.0</td>\n      <td>Санкт-Петербург</td>\n      <td>18863.0</td>\n      <td>16028.0</td>\n      <td>1.0</td>\n      <td>482.0</td>\n      <td>2.0</td>\n      <td>755.0</td>\n      <td>NaN</td>\n    </tr>\n    <tr>\n      <th>1</th>\n      <td>7</td>\n      <td>3350000.0</td>\n      <td>40.40</td>\n      <td>2018-12-04T00:00:00</td>\n      <td>1</td>\n      <td>2.65</td>\n      <td>11.0</td>\n      <td>18.6</td>\n      <td>1</td>\n      <td>False</td>\n      <td>...</td>\n      <td>11.00</td>\n      <td>2.0</td>\n      <td>посёлок Шушары</td>\n      <td>12817.0</td>\n      <td>18603.0</td>\n      <td>0.0</td>\n      <td>NaN</td>\n      <td>0.0</td>\n      <td>NaN</td>\n      <td>81.0</td>\n    </tr>\n    <tr>\n      <th>2</th>\n      <td>10</td>\n      <td>5196000.0</td>\n      <td>56.00</td>\n      <td>2015-08-20T00:00:00</td>\n      <td>2</td>\n      <td>2.65</td>\n      <td>5.0</td>\n      <td>34.3</td>\n      <td>4</td>\n      <td>False</td>\n      <td>...</td>\n      <td>8.30</td>\n      <td>0.0</td>\n      <td>Санкт-Петербург</td>\n      <td>21741.0</td>\n      <td>13933.0</td>\n      <td>1.0</td>\n      <td>90.0</td>\n      <td>2.0</td>\n      <td>574.0</td>\n      <td>558.0</td>\n    </tr>\n    <tr>\n      <th>3</th>\n      <td>0</td>\n      <td>64900000.0</td>\n      <td>159.00</td>\n      <td>2015-07-24T00:00:00</td>\n      <td>3</td>\n      <td>2.65</td>\n      <td>14.0</td>\n      <td>30.0</td>\n      <td>9</td>\n      <td>False</td>\n      <td>...</td>\n      <td>9.10</td>\n      <td>0.0</td>\n      <td>Санкт-Петербург</td>\n      <td>28098.0</td>\n      <td>6800.0</td>\n      <td>2.0</td>\n      <td>84.0</td>\n      <td>3.0</td>\n      <td>234.0</td>\n      <td>424.0</td>\n    </tr>\n    <tr>\n      <th>4</th>\n      <td>2</td>\n      <td>10000000.0</td>\n      <td>100.00</td>\n      <td>2018-06-19T00:00:00</td>\n      <td>2</td>\n      <td>3.03</td>\n      <td>14.0</td>\n      <td>32.0</td>\n      <td>13</td>\n      <td>False</td>\n      <td>...</td>\n      <td>41.00</td>\n      <td>0.0</td>\n      <td>Санкт-Петербург</td>\n      <td>31856.0</td>\n      <td>8098.0</td>\n      <td>2.0</td>\n      <td>112.0</td>\n      <td>1.0</td>\n      <td>48.0</td>\n      <td>121.0</td>\n    </tr>\n    <tr>\n      <th>...</th>\n      <td>...</td>\n      <td>...</td>\n      <td>...</td>\n      <td>...</td>\n      <td>...</td>\n      <td>...</td>\n      <td>...</td>\n      <td>...</td>\n      <td>...</td>\n      <td>...</td>\n      <td>...</td>\n      <td>...</td>\n      <td>...</td>\n      <td>...</td>\n      <td>...</td>\n      <td>...</td>\n      <td>...</td>\n      <td>...</td>\n      <td>...</td>\n      <td>...</td>\n      <td>...</td>\n    </tr>\n    <tr>\n      <th>23694</th>\n      <td>9</td>\n      <td>9700000.0</td>\n      <td>133.81</td>\n      <td>2017-03-21T00:00:00</td>\n      <td>3</td>\n      <td>3.70</td>\n      <td>5.0</td>\n      <td>73.3</td>\n      <td>3</td>\n      <td>False</td>\n      <td>...</td>\n      <td>13.83</td>\n      <td>0.0</td>\n      <td>Санкт-Петербург</td>\n      <td>24665.0</td>\n      <td>4232.0</td>\n      <td>1.0</td>\n      <td>796.0</td>\n      <td>3.0</td>\n      <td>381.0</td>\n      <td>NaN</td>\n    </tr>\n    <tr>\n      <th>23695</th>\n      <td>14</td>\n      <td>3100000.0</td>\n      <td>59.00</td>\n      <td>2018-01-15T00:00:00</td>\n      <td>3</td>\n      <td>2.65</td>\n      <td>5.0</td>\n      <td>38.0</td>\n      <td>4</td>\n      <td>False</td>\n      <td>...</td>\n      <td>8.50</td>\n      <td>0.0</td>\n      <td>Тосно</td>\n      <td>NaN</td>\n      <td>NaN</td>\n      <td>0.0</td>\n      <td>NaN</td>\n      <td>0.0</td>\n      <td>NaN</td>\n      <td>45.0</td>\n    </tr>\n    <tr>\n      <th>23696</th>\n      <td>18</td>\n      <td>2500000.0</td>\n      <td>56.70</td>\n      <td>2018-02-11T00:00:00</td>\n      <td>2</td>\n      <td>2.65</td>\n      <td>3.0</td>\n      <td>29.7</td>\n      <td>1</td>\n      <td>False</td>\n      <td>...</td>\n      <td>9.10</td>\n      <td>0.0</td>\n      <td>село Рождествено</td>\n      <td>NaN</td>\n      <td>NaN</td>\n      <td>0.0</td>\n      <td>NaN</td>\n      <td>0.0</td>\n      <td>NaN</td>\n      <td>NaN</td>\n    </tr>\n    <tr>\n      <th>23697</th>\n      <td>13</td>\n      <td>11475000.0</td>\n      <td>76.75</td>\n      <td>2017-03-28T00:00:00</td>\n      <td>2</td>\n      <td>3.00</td>\n      <td>17.0</td>\n      <td>30.0</td>\n      <td>12</td>\n      <td>False</td>\n      <td>...</td>\n      <td>23.30</td>\n      <td>2.0</td>\n      <td>Санкт-Петербург</td>\n      <td>39140.0</td>\n      <td>10364.0</td>\n      <td>2.0</td>\n      <td>173.0</td>\n      <td>3.0</td>\n      <td>196.0</td>\n      <td>602.0</td>\n    </tr>\n    <tr>\n      <th>23698</th>\n      <td>4</td>\n      <td>1350000.0</td>\n      <td>32.30</td>\n      <td>2017-07-21T00:00:00</td>\n      <td>1</td>\n      <td>2.50</td>\n      <td>5.0</td>\n      <td>12.3</td>\n      <td>1</td>\n      <td>False</td>\n      <td>...</td>\n      <td>9.00</td>\n      <td>0.0</td>\n      <td>поселок Новый Учхоз</td>\n      <td>NaN</td>\n      <td>NaN</td>\n      <td>0.0</td>\n      <td>NaN</td>\n      <td>0.0</td>\n      <td>NaN</td>\n      <td>NaN</td>\n    </tr>\n  </tbody>\n</table>\n<p>23613 rows × 22 columns</p>\n</div>"
     },
     "metadata": {},
     "output_type": "display_data"
    },
    {
     "data": {
      "text/plain": "total_images                0\nlast_price                  0\ntotal_area                  0\nfirst_day_exposition        0\nrooms                       0\nceiling_height              0\nfloors_total                0\nliving_area                 0\nfloor                       0\nis_apartment                0\nstudio                      0\nopen_plan                   0\nkitchen_area                0\nbalcony                     0\nlocality_name               0\nairports_nearest         5532\ncityCenters_nearest      5509\nparks_around3000            0\nparks_nearest           15568\nponds_around3000            0\nponds_nearest           14552\ndays_exposition          3172\ndtype: int64"
     },
     "metadata": {},
     "output_type": "display_data"
    },
    {
     "name": "stdout",
     "output_type": "stream",
     "text": [
      "<class 'pandas.core.frame.DataFrame'>\n",
      "Int64Index: 23613 entries, 0 to 23698\n",
      "Data columns (total 22 columns):\n",
      " #   Column                Non-Null Count  Dtype  \n",
      "---  ------                --------------  -----  \n",
      " 0   total_images          23613 non-null  int64  \n",
      " 1   last_price            23613 non-null  float64\n",
      " 2   total_area            23613 non-null  float64\n",
      " 3   first_day_exposition  23613 non-null  object \n",
      " 4   rooms                 23613 non-null  int64  \n",
      " 5   ceiling_height        23613 non-null  float64\n",
      " 6   floors_total          23613 non-null  float64\n",
      " 7   living_area           23613 non-null  float64\n",
      " 8   floor                 23613 non-null  int64  \n",
      " 9   is_apartment          23613 non-null  bool   \n",
      " 10  studio                23613 non-null  bool   \n",
      " 11  open_plan             23613 non-null  bool   \n",
      " 12  kitchen_area          23613 non-null  float64\n",
      " 13  balcony               23613 non-null  float64\n",
      " 14  locality_name         23613 non-null  object \n",
      " 15  airports_nearest      18081 non-null  float64\n",
      " 16  cityCenters_nearest   18104 non-null  float64\n",
      " 17  parks_around3000      23613 non-null  float64\n",
      " 18  parks_nearest         8045 non-null   float64\n",
      " 19  ponds_around3000      23613 non-null  float64\n",
      " 20  ponds_nearest         9061 non-null   float64\n",
      " 21  days_exposition       20441 non-null  float64\n",
      "dtypes: bool(3), float64(14), int64(3), object(2)\n",
      "memory usage: 3.7+ MB\n"
     ]
    },
    {
     "data": {
      "text/plain": "None"
     },
     "metadata": {},
     "output_type": "display_data"
    }
   ],
   "source": [
    "#dataset['ceiling_height'] = dataset['ceiling_height'].fillna(dataset.groupby('rooms')['ceiling_height'].transform('median'))\n",
    "dataset['ceiling_height'] = dataset['ceiling_height'].fillna(dataset['ceiling_height'].median())\n",
    "dataset = dataset[dataset['floors_total'].notna()]\n",
    "dataset['living_area'] = dataset['living_area'].fillna(dataset['living_area'].median())\n",
    "dataset['is_apartment'] = dataset['is_apartment'].fillna(False)\n",
    "dataset['kitchen_area'] = dataset['kitchen_area'].fillna(dataset['kitchen_area'].median())\n",
    "dataset['balcony'] = dataset['balcony'].fillna(0)\n",
    "#?\n",
    "dataset['locality_name'] = dataset['locality_name'].fillna('')\n",
    "dataset['parks_around3000'] = dataset['parks_around3000'].fillna(0)\n",
    "dataset['ponds_around3000'] = dataset['ponds_around3000'].fillna(0)\n",
    "\n",
    "display(dataset)\n",
    "display(dataset.isna().sum())\n",
    "display(dataset.info())"
   ],
   "metadata": {
    "collapsed": false,
    "pycharm": {
     "name": "#%%\n"
    }
   }
  },
  {
   "cell_type": "markdown",
   "source": [
    "### 2. Рассмотрите типы данных в каждом столбце:\n",
    "Те значения, которым стоит изменить тип данных:\n",
    " - first_day_exposition - содержит значения времени, поэтому тип datetime\n",
    " - floors_total - должна содержать значения int64\n",
    " - Аналогично parks_around3000 и ponds_arounds3000"
   ],
   "metadata": {
    "collapsed": false,
    "pycharm": {
     "name": "#%% md\n"
    }
   }
  },
  {
   "cell_type": "code",
   "execution_count": 35,
   "outputs": [
    {
     "name": "stdout",
     "output_type": "stream",
     "text": [
      "<class 'pandas.core.frame.DataFrame'>\n",
      "Int64Index: 23613 entries, 0 to 23698\n",
      "Data columns (total 29 columns):\n",
      " #   Column                Non-Null Count  Dtype         \n",
      "---  ------                --------------  -----         \n",
      " 0   total_images          23613 non-null  int64         \n",
      " 1   last_price            23613 non-null  float64       \n",
      " 2   total_area            23613 non-null  float64       \n",
      " 3   first_day_exposition  23613 non-null  datetime64[ns]\n",
      " 4   rooms                 23414 non-null  float64       \n",
      " 5   ceiling_height        23609 non-null  float64       \n",
      " 6   floors_total          23613 non-null  int64         \n",
      " 7   living_area           23613 non-null  float64       \n",
      " 8   floor                 23613 non-null  int64         \n",
      " 9   is_apartment          23613 non-null  bool          \n",
      " 10  studio                23613 non-null  bool          \n",
      " 11  open_plan             23613 non-null  bool          \n",
      " 12  kitchen_area          23613 non-null  float64       \n",
      " 13  balcony               23613 non-null  float64       \n",
      " 14  locality_name         23613 non-null  object        \n",
      " 15  airports_nearest      18081 non-null  float64       \n",
      " 16  cityCenters_nearest   18104 non-null  float64       \n",
      " 17  parks_around3000      23613 non-null  int64         \n",
      " 18  parks_nearest         7622 non-null   float64       \n",
      " 19  ponds_around3000      23613 non-null  int64         \n",
      " 20  ponds_nearest         9061 non-null   float64       \n",
      " 21  days_exposition       20441 non-null  float64       \n",
      " 22  one_price             23613 non-null  float64       \n",
      " 23  day_of_week           23613 non-null  int64         \n",
      " 24  month_of_exposition   23613 non-null  int64         \n",
      " 25  year_of_exposition    23613 non-null  int64         \n",
      " 26  type_of_floor         23613 non-null  object        \n",
      " 27  cityCentre_km         18104 non-null  float64       \n",
      " 28  day                   23613 non-null  int64         \n",
      "dtypes: bool(3), datetime64[ns](1), float64(14), int64(9), object(2)\n",
      "memory usage: 4.9+ MB\n"
     ]
    },
    {
     "data": {
      "text/plain": "None"
     },
     "metadata": {},
     "output_type": "display_data"
    }
   ],
   "source": [
    "dataset['first_day_exposition'] = pd.to_datetime(dataset['first_day_exposition'], format='%Y-%m-%dT%H:%M:%S')\n",
    "dataset['floors_total'] = dataset['floors_total'].astype('int64')\n",
    "dataset['floor'] = dataset['floor'].astype('int64')\n",
    "dataset['parks_around3000'] = dataset['parks_around3000'].astype('int64')\n",
    "dataset['ponds_around3000'] = dataset['ponds_around3000'].astype('int64')\n",
    "#dataset['days_exposition'] = dataset['days_exposition'].astype('int64')\n",
    "dataset.info()"
   ],
   "metadata": {
    "collapsed": false,
    "pycharm": {
     "name": "#%%\n"
    }
   }
  },
  {
   "cell_type": "code",
   "execution_count": 25,
   "outputs": [
    {
     "data": {
      "text/plain": "       total_images  last_price  total_area first_day_exposition  rooms  \\\n0                20  13000000.0      108.00           2019-03-07      3   \n1                 7   3350000.0       40.40           2018-12-04      1   \n2                10   5196000.0       56.00           2015-08-20      2   \n3                 0  64900000.0      159.00           2015-07-24      3   \n4                 2  10000000.0      100.00           2018-06-19      2   \n...             ...         ...         ...                  ...    ...   \n23694             9   9700000.0      133.81           2017-03-21      3   \n23695            14   3100000.0       59.00           2018-01-15      3   \n23696            18   2500000.0       56.70           2018-02-11      2   \n23697            13  11475000.0       76.75           2017-03-28      2   \n23698             4   1350000.0       32.30           2017-07-21      1   \n\n       ceiling_height  floors_total  living_area  floor  is_apartment  ...  \\\n0                2.70            16         51.0      8         False  ...   \n1                2.65            11         18.6      1         False  ...   \n2                2.65             5         34.3      4         False  ...   \n3                2.65            14         30.0      9         False  ...   \n4                3.03            14         32.0     13         False  ...   \n...               ...           ...          ...    ...           ...  ...   \n23694            3.70             5         73.3      3         False  ...   \n23695            2.65             5         38.0      4         False  ...   \n23696            2.65             3         29.7      1         False  ...   \n23697            3.00            17         30.0     12         False  ...   \n23698            2.50             5         12.3      1         False  ...   \n\n       kitchen_area  balcony        locality_name  airports_nearest  \\\n0             25.00      0.0      Санкт-Петербург           18863.0   \n1             11.00      2.0       посёлок Шушары           12817.0   \n2              8.30      0.0      Санкт-Петербург           21741.0   \n3              9.10      0.0      Санкт-Петербург           28098.0   \n4             41.00      0.0      Санкт-Петербург           31856.0   \n...             ...      ...                  ...               ...   \n23694         13.83      0.0      Санкт-Петербург           24665.0   \n23695          8.50      0.0                Тосно               NaN   \n23696          9.10      0.0     село Рождествено               NaN   \n23697         23.30      2.0      Санкт-Петербург           39140.0   \n23698          9.00      0.0  поселок Новый Учхоз               NaN   \n\n      cityCenters_nearest  parks_around3000  parks_nearest  ponds_around3000  \\\n0                 16028.0                 1          482.0                 2   \n1                 18603.0                 0            NaN                 0   \n2                 13933.0                 1           90.0                 2   \n3                  6800.0                 2           84.0                 3   \n4                  8098.0                 2          112.0                 1   \n...                   ...               ...            ...               ...   \n23694              4232.0                 1          796.0                 3   \n23695                 NaN                 0            NaN                 0   \n23696                 NaN                 0            NaN                 0   \n23697             10364.0                 2          173.0                 3   \n23698                 NaN                 0            NaN                 0   \n\n       ponds_nearest  days_exposition  \n0              755.0              NaN  \n1                NaN             81.0  \n2              574.0            558.0  \n3              234.0            424.0  \n4               48.0            121.0  \n...              ...              ...  \n23694          381.0              NaN  \n23695            NaN             45.0  \n23696            NaN              NaN  \n23697          196.0            602.0  \n23698            NaN              NaN  \n\n[23613 rows x 22 columns]",
      "text/html": "<div>\n<style scoped>\n    .dataframe tbody tr th:only-of-type {\n        vertical-align: middle;\n    }\n\n    .dataframe tbody tr th {\n        vertical-align: top;\n    }\n\n    .dataframe thead th {\n        text-align: right;\n    }\n</style>\n<table border=\"1\" class=\"dataframe\">\n  <thead>\n    <tr style=\"text-align: right;\">\n      <th></th>\n      <th>total_images</th>\n      <th>last_price</th>\n      <th>total_area</th>\n      <th>first_day_exposition</th>\n      <th>rooms</th>\n      <th>ceiling_height</th>\n      <th>floors_total</th>\n      <th>living_area</th>\n      <th>floor</th>\n      <th>is_apartment</th>\n      <th>...</th>\n      <th>kitchen_area</th>\n      <th>balcony</th>\n      <th>locality_name</th>\n      <th>airports_nearest</th>\n      <th>cityCenters_nearest</th>\n      <th>parks_around3000</th>\n      <th>parks_nearest</th>\n      <th>ponds_around3000</th>\n      <th>ponds_nearest</th>\n      <th>days_exposition</th>\n    </tr>\n  </thead>\n  <tbody>\n    <tr>\n      <th>0</th>\n      <td>20</td>\n      <td>13000000.0</td>\n      <td>108.00</td>\n      <td>2019-03-07</td>\n      <td>3</td>\n      <td>2.70</td>\n      <td>16</td>\n      <td>51.0</td>\n      <td>8</td>\n      <td>False</td>\n      <td>...</td>\n      <td>25.00</td>\n      <td>0.0</td>\n      <td>Санкт-Петербург</td>\n      <td>18863.0</td>\n      <td>16028.0</td>\n      <td>1</td>\n      <td>482.0</td>\n      <td>2</td>\n      <td>755.0</td>\n      <td>NaN</td>\n    </tr>\n    <tr>\n      <th>1</th>\n      <td>7</td>\n      <td>3350000.0</td>\n      <td>40.40</td>\n      <td>2018-12-04</td>\n      <td>1</td>\n      <td>2.65</td>\n      <td>11</td>\n      <td>18.6</td>\n      <td>1</td>\n      <td>False</td>\n      <td>...</td>\n      <td>11.00</td>\n      <td>2.0</td>\n      <td>посёлок Шушары</td>\n      <td>12817.0</td>\n      <td>18603.0</td>\n      <td>0</td>\n      <td>NaN</td>\n      <td>0</td>\n      <td>NaN</td>\n      <td>81.0</td>\n    </tr>\n    <tr>\n      <th>2</th>\n      <td>10</td>\n      <td>5196000.0</td>\n      <td>56.00</td>\n      <td>2015-08-20</td>\n      <td>2</td>\n      <td>2.65</td>\n      <td>5</td>\n      <td>34.3</td>\n      <td>4</td>\n      <td>False</td>\n      <td>...</td>\n      <td>8.30</td>\n      <td>0.0</td>\n      <td>Санкт-Петербург</td>\n      <td>21741.0</td>\n      <td>13933.0</td>\n      <td>1</td>\n      <td>90.0</td>\n      <td>2</td>\n      <td>574.0</td>\n      <td>558.0</td>\n    </tr>\n    <tr>\n      <th>3</th>\n      <td>0</td>\n      <td>64900000.0</td>\n      <td>159.00</td>\n      <td>2015-07-24</td>\n      <td>3</td>\n      <td>2.65</td>\n      <td>14</td>\n      <td>30.0</td>\n      <td>9</td>\n      <td>False</td>\n      <td>...</td>\n      <td>9.10</td>\n      <td>0.0</td>\n      <td>Санкт-Петербург</td>\n      <td>28098.0</td>\n      <td>6800.0</td>\n      <td>2</td>\n      <td>84.0</td>\n      <td>3</td>\n      <td>234.0</td>\n      <td>424.0</td>\n    </tr>\n    <tr>\n      <th>4</th>\n      <td>2</td>\n      <td>10000000.0</td>\n      <td>100.00</td>\n      <td>2018-06-19</td>\n      <td>2</td>\n      <td>3.03</td>\n      <td>14</td>\n      <td>32.0</td>\n      <td>13</td>\n      <td>False</td>\n      <td>...</td>\n      <td>41.00</td>\n      <td>0.0</td>\n      <td>Санкт-Петербург</td>\n      <td>31856.0</td>\n      <td>8098.0</td>\n      <td>2</td>\n      <td>112.0</td>\n      <td>1</td>\n      <td>48.0</td>\n      <td>121.0</td>\n    </tr>\n    <tr>\n      <th>...</th>\n      <td>...</td>\n      <td>...</td>\n      <td>...</td>\n      <td>...</td>\n      <td>...</td>\n      <td>...</td>\n      <td>...</td>\n      <td>...</td>\n      <td>...</td>\n      <td>...</td>\n      <td>...</td>\n      <td>...</td>\n      <td>...</td>\n      <td>...</td>\n      <td>...</td>\n      <td>...</td>\n      <td>...</td>\n      <td>...</td>\n      <td>...</td>\n      <td>...</td>\n      <td>...</td>\n    </tr>\n    <tr>\n      <th>23694</th>\n      <td>9</td>\n      <td>9700000.0</td>\n      <td>133.81</td>\n      <td>2017-03-21</td>\n      <td>3</td>\n      <td>3.70</td>\n      <td>5</td>\n      <td>73.3</td>\n      <td>3</td>\n      <td>False</td>\n      <td>...</td>\n      <td>13.83</td>\n      <td>0.0</td>\n      <td>Санкт-Петербург</td>\n      <td>24665.0</td>\n      <td>4232.0</td>\n      <td>1</td>\n      <td>796.0</td>\n      <td>3</td>\n      <td>381.0</td>\n      <td>NaN</td>\n    </tr>\n    <tr>\n      <th>23695</th>\n      <td>14</td>\n      <td>3100000.0</td>\n      <td>59.00</td>\n      <td>2018-01-15</td>\n      <td>3</td>\n      <td>2.65</td>\n      <td>5</td>\n      <td>38.0</td>\n      <td>4</td>\n      <td>False</td>\n      <td>...</td>\n      <td>8.50</td>\n      <td>0.0</td>\n      <td>Тосно</td>\n      <td>NaN</td>\n      <td>NaN</td>\n      <td>0</td>\n      <td>NaN</td>\n      <td>0</td>\n      <td>NaN</td>\n      <td>45.0</td>\n    </tr>\n    <tr>\n      <th>23696</th>\n      <td>18</td>\n      <td>2500000.0</td>\n      <td>56.70</td>\n      <td>2018-02-11</td>\n      <td>2</td>\n      <td>2.65</td>\n      <td>3</td>\n      <td>29.7</td>\n      <td>1</td>\n      <td>False</td>\n      <td>...</td>\n      <td>9.10</td>\n      <td>0.0</td>\n      <td>село Рождествено</td>\n      <td>NaN</td>\n      <td>NaN</td>\n      <td>0</td>\n      <td>NaN</td>\n      <td>0</td>\n      <td>NaN</td>\n      <td>NaN</td>\n    </tr>\n    <tr>\n      <th>23697</th>\n      <td>13</td>\n      <td>11475000.0</td>\n      <td>76.75</td>\n      <td>2017-03-28</td>\n      <td>2</td>\n      <td>3.00</td>\n      <td>17</td>\n      <td>30.0</td>\n      <td>12</td>\n      <td>False</td>\n      <td>...</td>\n      <td>23.30</td>\n      <td>2.0</td>\n      <td>Санкт-Петербург</td>\n      <td>39140.0</td>\n      <td>10364.0</td>\n      <td>2</td>\n      <td>173.0</td>\n      <td>3</td>\n      <td>196.0</td>\n      <td>602.0</td>\n    </tr>\n    <tr>\n      <th>23698</th>\n      <td>4</td>\n      <td>1350000.0</td>\n      <td>32.30</td>\n      <td>2017-07-21</td>\n      <td>1</td>\n      <td>2.50</td>\n      <td>5</td>\n      <td>12.3</td>\n      <td>1</td>\n      <td>False</td>\n      <td>...</td>\n      <td>9.00</td>\n      <td>0.0</td>\n      <td>поселок Новый Учхоз</td>\n      <td>NaN</td>\n      <td>NaN</td>\n      <td>0</td>\n      <td>NaN</td>\n      <td>0</td>\n      <td>NaN</td>\n      <td>NaN</td>\n    </tr>\n  </tbody>\n</table>\n<p>23613 rows × 22 columns</p>\n</div>"
     },
     "execution_count": 25,
     "metadata": {},
     "output_type": "execute_result"
    }
   ],
   "source": [
    "dataset"
   ],
   "metadata": {
    "collapsed": false,
    "pycharm": {
     "name": "#%%\n"
    }
   }
  },
  {
   "cell_type": "markdown",
   "source": [
    "### 3.Изучите уникальные значения в столбце с названиями и устраните неявные дубликаты.\n",
    "\n",
    "Так как начало значений locality_name имеет в самом начале неявные дубликаты, а уникальные значения только в конце, можно оставить только суть, то есть последнее слово значений столбца locality_name"
   ],
   "metadata": {
    "collapsed": false,
    "pycharm": {
     "name": "#%% md\n"
    }
   }
  },
  {
   "cell_type": "code",
   "execution_count": 39,
   "outputs": [
    {
     "name": "stdout",
     "output_type": "stream",
     "text": [
      "['' 'Агалатово' 'Александровская' 'Алексеевка' 'Аннино' 'Аро' 'Барышево'\n",
      " 'Батово' 'Бегуницы' 'Белогорка' 'Белоостров' 'Бокситогорск' 'Бор' 'Бугры'\n",
      " 'Будогощь' 'Ваганово' 'Важины' 'Вартемяги' 'Верево' 'Вещево' 'Виллози'\n",
      " 'Вознесенье' 'Возрождение' 'Войсковицы' 'Войскорово' 'Володарское'\n",
      " 'Волосово' 'Волхов' 'Вруда' 'Всеволожск' 'Выборг' 'Вырица' 'Выскатка'\n",
      " 'Высокоключевой' 'Высоцк' 'Гаврилово' 'Гарболово' 'Гатчина' 'Гладкое'\n",
      " 'Глажево' 'Глебычево' 'Глинка' 'Гончарово' 'Горбунки' 'Горка' 'Гостилицы'\n",
      " 'Грива' 'Громово' 'Девяткино' 'Дзержинского' 'Долина' 'Дружноселье'\n",
      " 'Дубровка' 'Елизаветино' 'Ефимовский' 'Жилгородок' 'Жилпосёлок' 'Житково'\n",
      " 'Заводской' 'Заклинье' 'Заневка' 'Запорожское' 'Зеленогорск' 'Зимитицы'\n",
      " 'Ивангород' 'Ижора' 'Извара' 'Ильичёво' 'Иссад' 'Калитино' 'Каложицы'\n",
      " 'Кальтино' 'Каменногорск' 'Камышовка' 'Кара' 'Карлино' 'Каськово'\n",
      " 'Келози' 'Кикерино' 'Кингисепп' 'Кингисеппский' 'Кипень' 'Кириши'\n",
      " 'Кировск' 'Кирпичное' 'Кисельня' 'Кобралово' 'Кобринское' 'Колпаны'\n",
      " 'Колпино' 'Колтуши' 'Коммунар' 'Коммунары' 'Кондратьево' 'Копорье'\n",
      " 'Коркино' 'Корнево' 'Коробицыно' 'Котельский' 'Котлы' 'Красносельское'\n",
      " 'Кривко' 'Кронштадт' 'Кудрово' 'Кузнечное' 'Кузьмолово' 'Кузьмоловский'\n",
      " 'Курковицы' 'Куровицы' 'Куттузи' 'Лаврики' 'Лаголово' 'Ладога' 'Лампово'\n",
      " 'Лебяжье' 'Левашово' 'Ленинское' 'Лесколово' 'Лесное' 'Лесогорский'\n",
      " 'Ломоносов' 'Лопухинка' 'Луга' 'Лужайка' 'Лукаши' 'Лупполово' 'Любань'\n",
      " 'Малукса' 'Мануйлово' 'Мга' 'Мельниково' 'Меньково' 'Металлострой' 'Мины'\n",
      " 'Мистолово' 'Мичуринское' 'Молодцово' 'Молодёжное' 'Морозова' 'Мурино'\n",
      " 'Мыза-Ивановка' 'Назия' 'Ненимяки' 'Нижняя' 'Низино' 'Никольский'\n",
      " 'Никольское' 'Новогорелово' 'Новолисино' 'Новоселье' 'Нос' 'Нурма'\n",
      " 'Оредеж' 'Оржицы' 'Осельки' 'Отрадное' 'Павлово' 'Павловск' 'Парголово'\n",
      " 'Парицы' 'Паша' 'Пельгора' 'Пеники' 'Первомайское' 'Перово' 'Песочный'\n",
      " 'Петергоф' 'Петро-Славянка' 'Петровское' 'Пижма' 'Пикалёво' 'Пикколово'\n",
      " 'Плодовое' 'Плоское' 'Победа' 'Подпорожье' 'Поле' 'Поляна' 'Поляны'\n",
      " 'Понтонный' 'Почап' 'Починок' 'Приветнинское' 'Пригородный'\n",
      " 'Приладожский' 'Приморск' 'Приозерск' 'Пудомяги' 'Пудость' 'Пустомержа'\n",
      " 'Пустошь' 'Пустынка' 'Путилово' 'Пушкин' 'Пушное' 'Пчева' 'Пчевжа'\n",
      " 'Рабитицы' 'Разбегаево' 'Раздолье' 'Разметелево' 'Рапполово' 'Рахья'\n",
      " 'Реброво' 'Рейзино' 'Репино' 'Рождествено' 'Романовка' 'Ромашки' 'Ропша'\n",
      " 'Рощино' 'Русско' 'Русско-Высоцкое' 'Рябово' 'Сабск' 'Садко'\n",
      " 'Санкт-Петербург' 'Сапёрное' 'Сапёрный' 'Свердлова' 'Свет' 'Светогорск'\n",
      " 'Свирь' 'Свирьстрой' 'Севастьяново' 'Север' 'Селезнёво' 'Село' 'Сельцо'\n",
      " 'Семиозерье' 'Семрино' 'Серебрянский' 'Сертолово' 'Сестрорецк'\n",
      " 'Сиверский' 'Сижно' 'Синявино' 'Сланцы' 'Снегирёвка' 'Советский'\n",
      " 'Совхозный' 'Сосново' 'Старая' 'Старополье' 'Старосиверская' 'Стеклянный'\n",
      " 'Стрельна' 'Суйда' 'Сумино' 'Суоранда' 'Суходолье' 'Счастье' 'Сяськелево'\n",
      " 'Сясьстрой' 'Тайцы' 'Тарасово' 'Тельмана' 'Терволово' 'Терпилицы'\n",
      " 'Тихвин' 'Тихковицы' 'Тойворово' 'Токсово' 'Торковичи' 'Торосово'\n",
      " 'Торошковичи' 'Торфяное' 'Тосно' 'Тёсово-4' 'Углово' 'Ульяновка'\n",
      " 'Усть-Ижора' 'Усть-Луга' 'Учхоз' 'Ушаки' 'Фалилеево' 'Форносово'\n",
      " 'Фёдоровское' 'Хапо-Ое' 'Хинколово' 'Хязельки' 'Цвелодубово' 'Цвылёво'\n",
      " 'Шлиссельбург' 'Шпаньково' 'Шугозеро' 'Шум' 'Шушары' 'Щеглово' 'Юкки'\n",
      " 'Ялгино' 'Яльгелево' 'Ям-Тесово' 'Янино-1' 'километр']\n"
     ]
    },
    {
     "data": {
      "text/plain": "       total_images  last_price  total_area first_day_exposition  rooms  \\\n1097              3   8600000.0        81.7           2016-04-15    3.0   \n2033              6   5398000.0        80.0           2017-05-30    3.0   \n2603             20   3351765.0        42.7           2015-09-20    1.0   \n2632              2   5130593.0        62.4           2015-10-11    2.0   \n3574             10   4200000.0        46.5           2016-05-28    2.0   \n...             ...         ...         ...                  ...    ...   \n21898             2   5886750.0        83.5           2018-07-30    2.0   \n22474             7  24000000.0       128.0           2015-07-24    4.0   \n22717             9   3000000.0        35.0           2018-01-02    1.0   \n22933            20   3176015.0        33.3           2015-04-22    1.0   \n23214             3   7990000.0        56.0           2016-05-31    2.0   \n\n       ceiling_height  floors_total  living_area  floor  is_apartment  ...  \\\n1097             3.55             5         50.8      2         False  ...   \n2033             2.65             4         42.6      2         False  ...   \n2603             2.65            24         15.6      3         False  ...   \n2632             2.65            24         33.1     21         False  ...   \n3574             2.65             5         30.8      5         False  ...   \n...               ...           ...          ...    ...           ...  ...   \n21898            2.65             9         36.6      2         False  ...   \n22474            2.75             6         68.4      6         False  ...   \n22717            2.60            16         16.0      7         False  ...   \n22933            2.65            23         15.4     22         False  ...   \n23214            2.65             6         30.0      5         False  ...   \n\n       ponds_around3000  ponds_nearest  days_exposition      one_price  \\\n1097                  0            NaN            147.0  105263.157895   \n2033                  0            NaN             34.0   67475.000000   \n2603                  1          374.0            276.0   78495.667447   \n2632                  1          374.0            256.0   82221.041667   \n3574                  1          603.0             45.0   90322.580645   \n...                 ...            ...              ...            ...   \n21898                 0            NaN            169.0   70500.000000   \n22474                 3          561.0            436.0  187500.000000   \n22717                 0            NaN             75.0   85714.285714   \n22933                 1          374.0            427.0   95375.825826   \n23214                 0            NaN             70.0  142678.571429   \n\n      day_of_week  month_of_exposition  year_of_exposition  type_of_floor  \\\n1097            4                    4                2016         другое   \n2033            1                    5                2017         другое   \n2603            6                    9                2015         другое   \n2632            6                   10                2015         другое   \n3574            5                    5                2016      последний   \n...           ...                  ...                 ...            ...   \n21898           0                    7                2018         другое   \n22474           4                    7                2015      последний   \n22717           1                    1                2018         другое   \n22933           2                    4                2015         другое   \n23214           1                    5                2016         другое   \n\n       cityCentre_km  day  \n1097             4.0   15  \n2033             NaN   30  \n2603            17.0   20  \n2632            17.0   11  \n3574             8.0   28  \n...              ...  ...  \n21898            NaN   30  \n22474            2.0   24  \n22717            NaN    2  \n22933           17.0   22  \n23214            9.0   31  \n\n[48 rows x 29 columns]",
      "text/html": "<div>\n<style scoped>\n    .dataframe tbody tr th:only-of-type {\n        vertical-align: middle;\n    }\n\n    .dataframe tbody tr th {\n        vertical-align: top;\n    }\n\n    .dataframe thead th {\n        text-align: right;\n    }\n</style>\n<table border=\"1\" class=\"dataframe\">\n  <thead>\n    <tr style=\"text-align: right;\">\n      <th></th>\n      <th>total_images</th>\n      <th>last_price</th>\n      <th>total_area</th>\n      <th>first_day_exposition</th>\n      <th>rooms</th>\n      <th>ceiling_height</th>\n      <th>floors_total</th>\n      <th>living_area</th>\n      <th>floor</th>\n      <th>is_apartment</th>\n      <th>...</th>\n      <th>ponds_around3000</th>\n      <th>ponds_nearest</th>\n      <th>days_exposition</th>\n      <th>one_price</th>\n      <th>day_of_week</th>\n      <th>month_of_exposition</th>\n      <th>year_of_exposition</th>\n      <th>type_of_floor</th>\n      <th>cityCentre_km</th>\n      <th>day</th>\n    </tr>\n  </thead>\n  <tbody>\n    <tr>\n      <th>1097</th>\n      <td>3</td>\n      <td>8600000.0</td>\n      <td>81.7</td>\n      <td>2016-04-15</td>\n      <td>3.0</td>\n      <td>3.55</td>\n      <td>5</td>\n      <td>50.8</td>\n      <td>2</td>\n      <td>False</td>\n      <td>...</td>\n      <td>0</td>\n      <td>NaN</td>\n      <td>147.0</td>\n      <td>105263.157895</td>\n      <td>4</td>\n      <td>4</td>\n      <td>2016</td>\n      <td>другое</td>\n      <td>4.0</td>\n      <td>15</td>\n    </tr>\n    <tr>\n      <th>2033</th>\n      <td>6</td>\n      <td>5398000.0</td>\n      <td>80.0</td>\n      <td>2017-05-30</td>\n      <td>3.0</td>\n      <td>2.65</td>\n      <td>4</td>\n      <td>42.6</td>\n      <td>2</td>\n      <td>False</td>\n      <td>...</td>\n      <td>0</td>\n      <td>NaN</td>\n      <td>34.0</td>\n      <td>67475.000000</td>\n      <td>1</td>\n      <td>5</td>\n      <td>2017</td>\n      <td>другое</td>\n      <td>NaN</td>\n      <td>30</td>\n    </tr>\n    <tr>\n      <th>2603</th>\n      <td>20</td>\n      <td>3351765.0</td>\n      <td>42.7</td>\n      <td>2015-09-20</td>\n      <td>1.0</td>\n      <td>2.65</td>\n      <td>24</td>\n      <td>15.6</td>\n      <td>3</td>\n      <td>False</td>\n      <td>...</td>\n      <td>1</td>\n      <td>374.0</td>\n      <td>276.0</td>\n      <td>78495.667447</td>\n      <td>6</td>\n      <td>9</td>\n      <td>2015</td>\n      <td>другое</td>\n      <td>17.0</td>\n      <td>20</td>\n    </tr>\n    <tr>\n      <th>2632</th>\n      <td>2</td>\n      <td>5130593.0</td>\n      <td>62.4</td>\n      <td>2015-10-11</td>\n      <td>2.0</td>\n      <td>2.65</td>\n      <td>24</td>\n      <td>33.1</td>\n      <td>21</td>\n      <td>False</td>\n      <td>...</td>\n      <td>1</td>\n      <td>374.0</td>\n      <td>256.0</td>\n      <td>82221.041667</td>\n      <td>6</td>\n      <td>10</td>\n      <td>2015</td>\n      <td>другое</td>\n      <td>17.0</td>\n      <td>11</td>\n    </tr>\n    <tr>\n      <th>3574</th>\n      <td>10</td>\n      <td>4200000.0</td>\n      <td>46.5</td>\n      <td>2016-05-28</td>\n      <td>2.0</td>\n      <td>2.65</td>\n      <td>5</td>\n      <td>30.8</td>\n      <td>5</td>\n      <td>False</td>\n      <td>...</td>\n      <td>1</td>\n      <td>603.0</td>\n      <td>45.0</td>\n      <td>90322.580645</td>\n      <td>5</td>\n      <td>5</td>\n      <td>2016</td>\n      <td>последний</td>\n      <td>8.0</td>\n      <td>28</td>\n    </tr>\n    <tr>\n      <th>...</th>\n      <td>...</td>\n      <td>...</td>\n      <td>...</td>\n      <td>...</td>\n      <td>...</td>\n      <td>...</td>\n      <td>...</td>\n      <td>...</td>\n      <td>...</td>\n      <td>...</td>\n      <td>...</td>\n      <td>...</td>\n      <td>...</td>\n      <td>...</td>\n      <td>...</td>\n      <td>...</td>\n      <td>...</td>\n      <td>...</td>\n      <td>...</td>\n      <td>...</td>\n      <td>...</td>\n    </tr>\n    <tr>\n      <th>21898</th>\n      <td>2</td>\n      <td>5886750.0</td>\n      <td>83.5</td>\n      <td>2018-07-30</td>\n      <td>2.0</td>\n      <td>2.65</td>\n      <td>9</td>\n      <td>36.6</td>\n      <td>2</td>\n      <td>False</td>\n      <td>...</td>\n      <td>0</td>\n      <td>NaN</td>\n      <td>169.0</td>\n      <td>70500.000000</td>\n      <td>0</td>\n      <td>7</td>\n      <td>2018</td>\n      <td>другое</td>\n      <td>NaN</td>\n      <td>30</td>\n    </tr>\n    <tr>\n      <th>22474</th>\n      <td>7</td>\n      <td>24000000.0</td>\n      <td>128.0</td>\n      <td>2015-07-24</td>\n      <td>4.0</td>\n      <td>2.75</td>\n      <td>6</td>\n      <td>68.4</td>\n      <td>6</td>\n      <td>False</td>\n      <td>...</td>\n      <td>3</td>\n      <td>561.0</td>\n      <td>436.0</td>\n      <td>187500.000000</td>\n      <td>4</td>\n      <td>7</td>\n      <td>2015</td>\n      <td>последний</td>\n      <td>2.0</td>\n      <td>24</td>\n    </tr>\n    <tr>\n      <th>22717</th>\n      <td>9</td>\n      <td>3000000.0</td>\n      <td>35.0</td>\n      <td>2018-01-02</td>\n      <td>1.0</td>\n      <td>2.60</td>\n      <td>16</td>\n      <td>16.0</td>\n      <td>7</td>\n      <td>False</td>\n      <td>...</td>\n      <td>0</td>\n      <td>NaN</td>\n      <td>75.0</td>\n      <td>85714.285714</td>\n      <td>1</td>\n      <td>1</td>\n      <td>2018</td>\n      <td>другое</td>\n      <td>NaN</td>\n      <td>2</td>\n    </tr>\n    <tr>\n      <th>22933</th>\n      <td>20</td>\n      <td>3176015.0</td>\n      <td>33.3</td>\n      <td>2015-04-22</td>\n      <td>1.0</td>\n      <td>2.65</td>\n      <td>23</td>\n      <td>15.4</td>\n      <td>22</td>\n      <td>False</td>\n      <td>...</td>\n      <td>1</td>\n      <td>374.0</td>\n      <td>427.0</td>\n      <td>95375.825826</td>\n      <td>2</td>\n      <td>4</td>\n      <td>2015</td>\n      <td>другое</td>\n      <td>17.0</td>\n      <td>22</td>\n    </tr>\n    <tr>\n      <th>23214</th>\n      <td>3</td>\n      <td>7990000.0</td>\n      <td>56.0</td>\n      <td>2016-05-31</td>\n      <td>2.0</td>\n      <td>2.65</td>\n      <td>6</td>\n      <td>30.0</td>\n      <td>5</td>\n      <td>False</td>\n      <td>...</td>\n      <td>0</td>\n      <td>NaN</td>\n      <td>70.0</td>\n      <td>142678.571429</td>\n      <td>1</td>\n      <td>5</td>\n      <td>2016</td>\n      <td>другое</td>\n      <td>9.0</td>\n      <td>31</td>\n    </tr>\n  </tbody>\n</table>\n<p>48 rows × 29 columns</p>\n</div>"
     },
     "execution_count": 39,
     "metadata": {},
     "output_type": "execute_result"
    }
   ],
   "source": [
    "dataset.drop_duplicates()\n",
    "dataset['locality_name'].unique()\n",
    "dataset['locality_name'] = dataset['locality_name'].str.split(' ').str[-1]\n",
    "print(dataset['locality_name'].sort_values().unique())\n",
    "dataset\n",
    "tmp = dataset.query('locality_name == \"\"')\n",
    "tmp"
   ],
   "metadata": {
    "collapsed": false,
    "pycharm": {
     "name": "#%%\n"
    }
   }
  },
  {
   "cell_type": "markdown",
   "source": [
    "### 4.Найдите и устраните редкие и выбивающиеся значения.\n",
    "\n",
    "В случае с ceiling_height изменяются строки, где потолки больше 15 метров(деляться на 10). Также найден такой размер потолков как 1 метр или 11,12,13,14 метров. Можно заменить данные значения на максимум(9) или минимум(2 метра), а можно заменить на нулевое значение, чтобы не запутаться и не испортить дальнейший анализ. Также решено было назвать кол-во комнат, равное 0 и большее 12 аномальным. Выведя уникальные значения parks_nearest, можно увидеть необычо огромные значения. Поэтому решено было просто отбросить значения больше 100(не знаю насколько это правильно..).Остальные значения в норме."
   ],
   "metadata": {
    "collapsed": false,
    "pycharm": {
     "name": "#%% md\n"
    }
   }
  },
  {
   "cell_type": "code",
   "execution_count": 42,
   "outputs": [
    {
     "name": "stdout",
     "output_type": "stream",
     "text": [
      "[ 101.  102.  103.  104.  105.  106.  107.  108.  109.  110.  112.  113.\n",
      "  114.  115.  116.  117.  118.  119.  120.  121.  122.  123.  124.  125.\n",
      "  126.  127.  128.  129.  130.  131.  132.  133.  134.  135.  136.  137.\n",
      "  138.  139.  140.  141.  142.  144.  145.  146.  147.  148.  149.  150.\n",
      "  151.  152.  153.  154.  155.  156.  157.  158.  159.  160.  161.  162.\n",
      "  163.  164.  165.  166.  167.  168.  169.  170.  171.  172.  173.  174.\n",
      "  175.  176.  177.  178.  179.  180.  181.  182.  183.  184.  185.  186.\n",
      "  187.  188.  189.  190.  191.  192.  193.  194.  195.  196.  197.  198.\n",
      "  199.  200.  201.  202.  203.  204.  205.  206.  207.  208.  209.  210.\n",
      "  211.  212.  213.  215.  216.  217.  218.  219.  220.  221.  222.  223.\n",
      "  224.  225.  226.  227.  228.  229.  230.  231.  232.  233.  234.  235.\n",
      "  236.  237.  238.  239.  240.  241.  242.  243.  244.  245.  246.  247.\n",
      "  248.  249.  250.  251.  252.  253.  254.  255.  256.  257.  258.  259.\n",
      "  260.  261.  262.  263.  264.  265.  266.  267.  268.  269.  270.  271.\n",
      "  272.  273.  274.  275.  276.  277.  278.  279.  280.  281.  282.  283.\n",
      "  284.  285.  286.  287.  288.  289.  290.  291.  292.  293.  294.  295.\n",
      "  296.  297.  298.  299.  300.  301.  302.  303.  304.  305.  306.  307.\n",
      "  308.  309.  310.  311.  312.  313.  314.  315.  316.  317.  318.  319.\n",
      "  320.  321.  322.  323.  324.  325.  326.  327.  328.  329.  330.  331.\n",
      "  332.  333.  334.  335.  336.  337.  338.  339.  340.  341.  342.  343.\n",
      "  344.  345.  346.  347.  348.  349.  350.  351.  352.  353.  354.  355.\n",
      "  356.  357.  358.  359.  360.  361.  362.  363.  364.  365.  366.  367.\n",
      "  368.  369.  370.  371.  372.  373.  374.  375.  376.  377.  378.  379.\n",
      "  380.  381.  382.  383.  384.  385.  386.  387.  388.  389.  390.  391.\n",
      "  392.  393.  394.  395.  396.  397.  398.  399.  400.  401.  402.  403.\n",
      "  404.  405.  406.  407.  408.  409.  410.  411.  412.  413.  414.  415.\n",
      "  416.  417.  418.  419.  420.  421.  422.  423.  424.  425.  426.  427.\n",
      "  428.  429.  430.  431.  432.  433.  434.  435.  436.  437.  438.  439.\n",
      "  440.  441.  442.  443.  444.  445.  446.  447.  448.  449.  450.  451.\n",
      "  452.  453.  454.  455.  456.  457.  458.  459.  460.  461.  462.  463.\n",
      "  464.  465.  466.  467.  468.  469.  470.  471.  472.  473.  474.  475.\n",
      "  476.  477.  478.  479.  480.  481.  482.  483.  484.  485.  486.  487.\n",
      "  488.  489.  490.  491.  492.  493.  494.  495.  496.  497.  498.  499.\n",
      "  500.  501.  502.  503.  504.  505.  506.  507.  508.  509.  510.  511.\n",
      "  512.  513.  514.  515.  516.  517.  518.  519.  520.  521.  522.  523.\n",
      "  524.  525.  526.  527.  528.  529.  530.  531.  532.  533.  534.  535.\n",
      "  536.  537.  538.  539.  540.  541.  542.  543.  544.  545.  546.  547.\n",
      "  548.  549.  550.  551.  552.  553.  554.  555.  556.  557.  558.  559.\n",
      "  560.  561.  562.  563.  564.  565.  566.  567.  568.  569.  570.  571.\n",
      "  572.  573.  574.  575.  576.  577.  578.  579.  580.  581.  582.  583.\n",
      "  584.  585.  586.  587.  588.  589.  590.  591.  592.  593.  594.  595.\n",
      "  596.  597.  598.  599.  600.  601.  602.  603.  604.  605.  606.  607.\n",
      "  608.  609.  610.  611.  612.  613.  614.  615.  616.  617.  618.  619.\n",
      "  620.  621.  622.  623.  624.  625.  626.  627.  628.  629.  630.  631.\n",
      "  632.  633.  634.  635.  636.  637.  638.  639.  640.  641.  642.  643.\n",
      "  644.  645.  646.  647.  648.  649.  650.  651.  652.  653.  654.  655.\n",
      "  656.  657.  658.  659.  660.  661.  662.  663.  664.  665.  666.  667.\n",
      "  668.  669.  670.  671.  672.  673.  674.  675.  676.  677.  678.  679.\n",
      "  680.  681.  682.  683.  684.  685.  686.  687.  688.  689.  690.  691.\n",
      "  692.  693.  694.  695.  696.  697.  698.  699.  700.  701.  702.  703.\n",
      "  704.  705.  706.  707.  708.  709.  710.  711.  712.  713.  714.  715.\n",
      "  716.  717.  718.  719.  721.  722.  723.  724.  725.  726.  727.  728.\n",
      "  729.  730.  731.  732.  733.  735.  736.  737.  738.  739.  740.  741.\n",
      "  742.  744.  745.  746.  748.  749.  751.  753.  754.  755.  756.  757.\n",
      "  758.  759.  760.  761.  762.  763.  764.  765.  766.  767.  768.  769.\n",
      "  770.  771.  775.  778.  779.  780.  782.  783.  784.  786.  787.  788.\n",
      "  789.  790.  791.  792.  793.  794.  796.  797.  798.  799.  800.  801.\n",
      "  802.  803.  804.  805.  806.  808.  809.  811.  812.  814.  816.  817.\n",
      "  820.  822.  823.  826.  827.  828.  829.  830.  831.  832.  834.  835.\n",
      "  839.  841.  842.  843.  845.  846.  847.  848.  850.  852.  853.  856.\n",
      "  858.  859.  860.  861.  862.  863.  866.  867.  868.  869.  870.  873.\n",
      "  875.  879.  885.  886.  887.  888.  889.  890.  893.  898.  903.  904.\n",
      "  906.  909.  913.  915.  916.  917.  919.  920.  921.  927.  929.  932.\n",
      "  933.  934.  936.  937.  938.  941.  942.  943.  945.  951.  952.  956.\n",
      "  961.  963.  965.  966.  967.  968.  969.  973.  974.  979.  980.  981.\n",
      "  985.  993.  997. 1007. 1008. 1011. 1021. 1022. 1028. 1040. 1041. 1049.\n",
      " 1053. 1057. 1061. 1064. 1065. 1069. 1073. 1074. 1077. 1079. 1086. 1094.\n",
      " 1097. 1098. 1103. 1114. 1120. 1133. 1145. 1148. 1150. 1167. 1181. 1186.\n",
      " 1188. 1190. 1191. 1199. 1200. 1205. 1211. 1213. 1215. 1228. 1248. 1256.\n",
      " 1262. 1264. 1270. 1272. 1299. 1304. 1312. 1326. 1329. 1342. 1354. 1361.\n",
      " 1362. 1364. 1400. 1416. 1423. 1424. 1443. 1477. 1481. 1496. 1499. 1501.\n",
      " 1510. 1514. 1562. 1564. 1568. 1586. 1596. 1620. 1648. 1657. 1722. 1731.\n",
      " 1756. 1767. 1790. 1798. 1802. 1809. 1887. 1909. 1942. 1951. 2009. 2026.\n",
      " 2066. 2102. 2131. 2137. 2209. 2218. 2245. 2276. 2295. 2348. 2409. 2416.\n",
      " 2427. 2467. 2489. 2532. 2555. 2633. 2665. 2711. 2747. 2768. 2847. 2880.\n",
      " 2888. 2905. 2984. 3013. 3064. 3190.   nan]\n"
     ]
    }
   ],
   "source": [
    "dataset['ceiling_height'] = dataset['ceiling_height'].where(dataset['ceiling_height'] <= 15,\n",
    "                                                            np.round(dataset['ceiling_height'] / 10, 1))\n",
    "dataset['rooms'] = dataset['rooms'].where(~(dataset['rooms'] > 12), np.nan)\n",
    "dataset['rooms'] = dataset['rooms'].where(dataset['rooms'] > 0, np.nan)\n",
    "dataset['ceiling_height'] = dataset['ceiling_height'].where(\n",
    "    (dataset['ceiling_height'] > 1) & (dataset['ceiling_height'] < 10), np.nan)\n",
    "# dataset['parks_nearest'] = dataset['parks_nearest'].where(dataset['parks_nearest']>100,np.nan)\n",
    "\n",
    "\n",
    "#data['rooms'] = data['rooms'].astype('Int64')\n",
    "#display(dataset['rooms'].sort_values().unique())\n",
    "#display(dataset['parks_around3000'].sort_values().unique())\n",
    "#display(dataset['ponds_around3000'].sort_values().unique())\n",
    "#display(dataset['ceiling_height'].sort_values().unique())\n",
    "# спросить про странно большие значения\n",
    "print(dataset['parks_nearest'].sort_values().unique())\n",
    "#display(dataset['airports_nearest'].sort_values().unique())\n",
    "#display(dataset['total_area'].sort_values().unique())"
   ],
   "metadata": {
    "collapsed": false,
    "pycharm": {
     "name": "#%%\n"
    }
   }
  },
  {
   "cell_type": "markdown",
   "metadata": {
    "pycharm": {
     "name": "#%% md\n"
    }
   },
   "source": [
    "### Посчитайте и добавьте в таблицу новые столбцы"
   ]
  },
  {
   "cell_type": "code",
   "execution_count": 28,
   "outputs": [
    {
     "data": {
      "text/plain": "       total_images  last_price  total_area first_day_exposition  rooms  \\\n0                20  13000000.0      108.00           2019-03-07    3.0   \n1                 7   3350000.0       40.40           2018-12-04    1.0   \n2                10   5196000.0       56.00           2015-08-20    2.0   \n3                 0  64900000.0      159.00           2015-07-24    3.0   \n4                 2  10000000.0      100.00           2018-06-19    2.0   \n...             ...         ...         ...                  ...    ...   \n23694             9   9700000.0      133.81           2017-03-21    3.0   \n23695            14   3100000.0       59.00           2018-01-15    3.0   \n23696            18   2500000.0       56.70           2018-02-11    2.0   \n23697            13  11475000.0       76.75           2017-03-28    2.0   \n23698             4   1350000.0       32.30           2017-07-21    1.0   \n\n       ceiling_height  floors_total  living_area  floor  is_apartment  ...  \\\n0                2.70            16         51.0      8         False  ...   \n1                2.65            11         18.6      1         False  ...   \n2                2.65             5         34.3      4         False  ...   \n3                2.65            14         30.0      9         False  ...   \n4                3.03            14         32.0     13         False  ...   \n...               ...           ...          ...    ...           ...  ...   \n23694            3.70             5         73.3      3         False  ...   \n23695            2.65             5         38.0      4         False  ...   \n23696            2.65             3         29.7      1         False  ...   \n23697            3.00            17         30.0     12         False  ...   \n23698            2.50             5         12.3      1         False  ...   \n\n       parks_nearest  ponds_around3000  ponds_nearest  days_exposition  \\\n0              482.0                 2          755.0              NaN   \n1                NaN                 0            NaN             81.0   \n2                NaN                 2          574.0            558.0   \n3                NaN                 3          234.0            424.0   \n4              112.0                 1           48.0            121.0   \n...              ...               ...            ...              ...   \n23694          796.0                 3          381.0              NaN   \n23695            NaN                 0            NaN             45.0   \n23696            NaN                 0            NaN              NaN   \n23697          173.0                 3          196.0            602.0   \n23698            NaN                 0            NaN              NaN   \n\n           one_price  day_of_week  month_of_exposition  year_of_exposition  \\\n0      120370.370370            3                    3                2019   \n1       82920.792079            1                   12                2018   \n2       92785.714286            3                    8                2015   \n3      408176.100629            4                    7                2015   \n4      100000.000000            1                    6                2018   \n...              ...          ...                  ...                 ...   \n23694   72490.845228            1                    3                2017   \n23695   52542.372881            0                    1                2018   \n23696   44091.710758            6                    2                2018   \n23697  149511.400651            1                    3                2017   \n23698   41795.665635            4                    7                2017   \n\n       type_of_floor  cityCentre_km  \n0             другое           16.0  \n1             первый           19.0  \n2             другое           14.0  \n3             другое            7.0  \n4             другое            8.0  \n...              ...            ...  \n23694         другое            4.0  \n23695         другое            NaN  \n23696         первый            NaN  \n23697         другое           10.0  \n23698         первый            NaN  \n\n[23613 rows x 28 columns]",
      "text/html": "<div>\n<style scoped>\n    .dataframe tbody tr th:only-of-type {\n        vertical-align: middle;\n    }\n\n    .dataframe tbody tr th {\n        vertical-align: top;\n    }\n\n    .dataframe thead th {\n        text-align: right;\n    }\n</style>\n<table border=\"1\" class=\"dataframe\">\n  <thead>\n    <tr style=\"text-align: right;\">\n      <th></th>\n      <th>total_images</th>\n      <th>last_price</th>\n      <th>total_area</th>\n      <th>first_day_exposition</th>\n      <th>rooms</th>\n      <th>ceiling_height</th>\n      <th>floors_total</th>\n      <th>living_area</th>\n      <th>floor</th>\n      <th>is_apartment</th>\n      <th>...</th>\n      <th>parks_nearest</th>\n      <th>ponds_around3000</th>\n      <th>ponds_nearest</th>\n      <th>days_exposition</th>\n      <th>one_price</th>\n      <th>day_of_week</th>\n      <th>month_of_exposition</th>\n      <th>year_of_exposition</th>\n      <th>type_of_floor</th>\n      <th>cityCentre_km</th>\n    </tr>\n  </thead>\n  <tbody>\n    <tr>\n      <th>0</th>\n      <td>20</td>\n      <td>13000000.0</td>\n      <td>108.00</td>\n      <td>2019-03-07</td>\n      <td>3.0</td>\n      <td>2.70</td>\n      <td>16</td>\n      <td>51.0</td>\n      <td>8</td>\n      <td>False</td>\n      <td>...</td>\n      <td>482.0</td>\n      <td>2</td>\n      <td>755.0</td>\n      <td>NaN</td>\n      <td>120370.370370</td>\n      <td>3</td>\n      <td>3</td>\n      <td>2019</td>\n      <td>другое</td>\n      <td>16.0</td>\n    </tr>\n    <tr>\n      <th>1</th>\n      <td>7</td>\n      <td>3350000.0</td>\n      <td>40.40</td>\n      <td>2018-12-04</td>\n      <td>1.0</td>\n      <td>2.65</td>\n      <td>11</td>\n      <td>18.6</td>\n      <td>1</td>\n      <td>False</td>\n      <td>...</td>\n      <td>NaN</td>\n      <td>0</td>\n      <td>NaN</td>\n      <td>81.0</td>\n      <td>82920.792079</td>\n      <td>1</td>\n      <td>12</td>\n      <td>2018</td>\n      <td>первый</td>\n      <td>19.0</td>\n    </tr>\n    <tr>\n      <th>2</th>\n      <td>10</td>\n      <td>5196000.0</td>\n      <td>56.00</td>\n      <td>2015-08-20</td>\n      <td>2.0</td>\n      <td>2.65</td>\n      <td>5</td>\n      <td>34.3</td>\n      <td>4</td>\n      <td>False</td>\n      <td>...</td>\n      <td>NaN</td>\n      <td>2</td>\n      <td>574.0</td>\n      <td>558.0</td>\n      <td>92785.714286</td>\n      <td>3</td>\n      <td>8</td>\n      <td>2015</td>\n      <td>другое</td>\n      <td>14.0</td>\n    </tr>\n    <tr>\n      <th>3</th>\n      <td>0</td>\n      <td>64900000.0</td>\n      <td>159.00</td>\n      <td>2015-07-24</td>\n      <td>3.0</td>\n      <td>2.65</td>\n      <td>14</td>\n      <td>30.0</td>\n      <td>9</td>\n      <td>False</td>\n      <td>...</td>\n      <td>NaN</td>\n      <td>3</td>\n      <td>234.0</td>\n      <td>424.0</td>\n      <td>408176.100629</td>\n      <td>4</td>\n      <td>7</td>\n      <td>2015</td>\n      <td>другое</td>\n      <td>7.0</td>\n    </tr>\n    <tr>\n      <th>4</th>\n      <td>2</td>\n      <td>10000000.0</td>\n      <td>100.00</td>\n      <td>2018-06-19</td>\n      <td>2.0</td>\n      <td>3.03</td>\n      <td>14</td>\n      <td>32.0</td>\n      <td>13</td>\n      <td>False</td>\n      <td>...</td>\n      <td>112.0</td>\n      <td>1</td>\n      <td>48.0</td>\n      <td>121.0</td>\n      <td>100000.000000</td>\n      <td>1</td>\n      <td>6</td>\n      <td>2018</td>\n      <td>другое</td>\n      <td>8.0</td>\n    </tr>\n    <tr>\n      <th>...</th>\n      <td>...</td>\n      <td>...</td>\n      <td>...</td>\n      <td>...</td>\n      <td>...</td>\n      <td>...</td>\n      <td>...</td>\n      <td>...</td>\n      <td>...</td>\n      <td>...</td>\n      <td>...</td>\n      <td>...</td>\n      <td>...</td>\n      <td>...</td>\n      <td>...</td>\n      <td>...</td>\n      <td>...</td>\n      <td>...</td>\n      <td>...</td>\n      <td>...</td>\n      <td>...</td>\n    </tr>\n    <tr>\n      <th>23694</th>\n      <td>9</td>\n      <td>9700000.0</td>\n      <td>133.81</td>\n      <td>2017-03-21</td>\n      <td>3.0</td>\n      <td>3.70</td>\n      <td>5</td>\n      <td>73.3</td>\n      <td>3</td>\n      <td>False</td>\n      <td>...</td>\n      <td>796.0</td>\n      <td>3</td>\n      <td>381.0</td>\n      <td>NaN</td>\n      <td>72490.845228</td>\n      <td>1</td>\n      <td>3</td>\n      <td>2017</td>\n      <td>другое</td>\n      <td>4.0</td>\n    </tr>\n    <tr>\n      <th>23695</th>\n      <td>14</td>\n      <td>3100000.0</td>\n      <td>59.00</td>\n      <td>2018-01-15</td>\n      <td>3.0</td>\n      <td>2.65</td>\n      <td>5</td>\n      <td>38.0</td>\n      <td>4</td>\n      <td>False</td>\n      <td>...</td>\n      <td>NaN</td>\n      <td>0</td>\n      <td>NaN</td>\n      <td>45.0</td>\n      <td>52542.372881</td>\n      <td>0</td>\n      <td>1</td>\n      <td>2018</td>\n      <td>другое</td>\n      <td>NaN</td>\n    </tr>\n    <tr>\n      <th>23696</th>\n      <td>18</td>\n      <td>2500000.0</td>\n      <td>56.70</td>\n      <td>2018-02-11</td>\n      <td>2.0</td>\n      <td>2.65</td>\n      <td>3</td>\n      <td>29.7</td>\n      <td>1</td>\n      <td>False</td>\n      <td>...</td>\n      <td>NaN</td>\n      <td>0</td>\n      <td>NaN</td>\n      <td>NaN</td>\n      <td>44091.710758</td>\n      <td>6</td>\n      <td>2</td>\n      <td>2018</td>\n      <td>первый</td>\n      <td>NaN</td>\n    </tr>\n    <tr>\n      <th>23697</th>\n      <td>13</td>\n      <td>11475000.0</td>\n      <td>76.75</td>\n      <td>2017-03-28</td>\n      <td>2.0</td>\n      <td>3.00</td>\n      <td>17</td>\n      <td>30.0</td>\n      <td>12</td>\n      <td>False</td>\n      <td>...</td>\n      <td>173.0</td>\n      <td>3</td>\n      <td>196.0</td>\n      <td>602.0</td>\n      <td>149511.400651</td>\n      <td>1</td>\n      <td>3</td>\n      <td>2017</td>\n      <td>другое</td>\n      <td>10.0</td>\n    </tr>\n    <tr>\n      <th>23698</th>\n      <td>4</td>\n      <td>1350000.0</td>\n      <td>32.30</td>\n      <td>2017-07-21</td>\n      <td>1.0</td>\n      <td>2.50</td>\n      <td>5</td>\n      <td>12.3</td>\n      <td>1</td>\n      <td>False</td>\n      <td>...</td>\n      <td>NaN</td>\n      <td>0</td>\n      <td>NaN</td>\n      <td>NaN</td>\n      <td>41795.665635</td>\n      <td>4</td>\n      <td>7</td>\n      <td>2017</td>\n      <td>первый</td>\n      <td>NaN</td>\n    </tr>\n  </tbody>\n</table>\n<p>23613 rows × 28 columns</p>\n</div>"
     },
     "execution_count": 28,
     "metadata": {},
     "output_type": "execute_result"
    }
   ],
   "source": [
    "dataset['one_price'] = dataset['last_price'] / dataset['total_area']\n",
    "dataset['day_of_week'] = dataset['first_day_exposition'].dt.dayofweek\n",
    "dataset['month_of_exposition'] = dataset['first_day_exposition'].dt.month\n",
    "dataset['year_of_exposition'] = dataset['first_day_exposition'].dt.year\n",
    "dataset['type_of_floor'] = 'другое'\n",
    "dataset['type_of_floor'] = dataset['type_of_floor'].where(dataset['floor'] > 1, 'первый')\n",
    "dataset['type_of_floor'] = dataset['type_of_floor'].where(dataset['floor'] < dataset['floors_total'], 'последний')\n",
    "dataset['cityCentre_km'] = round(dataset['cityCenters_nearest'] / 1000)\n",
    "dataset"
   ],
   "metadata": {
    "collapsed": false,
    "pycharm": {
     "name": "#%%\n"
    }
   }
  },
  {
   "cell_type": "markdown",
   "metadata": {
    "pycharm": {
     "name": "#%% md\n"
    }
   },
   "source": [
    "### Проведите исследовательский анализ данных"
   ]
  },
  {
   "cell_type": "markdown",
   "source": [
    "### 1.Изучите следующие параметры объектов:"
   ],
   "metadata": {
    "collapsed": false,
    "pycharm": {
     "name": "#%% md\n"
    }
   }
  },
  {
   "cell_type": "code",
   "execution_count": 29,
   "outputs": [
    {
     "data": {
      "text/plain": "<Figure size 2160x2160 with 25 Axes>",
      "image/png": "[encoded data removed]"
     },
     "metadata": {
      "needs_background": "light"
     },
     "output_type": "display_data"
    }
   ],
   "source": [
    "dataset.hist(figsize=(30, 30), bins=35);\n"
   ],
   "metadata": {
    "collapsed": false,
    "pycharm": {
     "name": "#%%\n"
    }
   }
  },
  {
   "cell_type": "code",
   "execution_count": 44,
   "outputs": [
    {
     "data": {
      "text/plain": "<Figure size 432x288 with 1 Axes>",
      "image/png": "[encoded data removed]"
     },
     "metadata": {
      "needs_background": "light"
     },
     "output_type": "display_data"
    },
    {
     "data": {
      "text/plain": "<Figure size 432x288 with 1 Axes>",
      "image/png": "[encoded data removed]"
     },
     "metadata": {
      "needs_background": "light"
     },
     "output_type": "display_data"
    },
    {
     "data": {
      "text/plain": "<Figure size 432x288 with 1 Axes>",
      "image/png": "[encoded data removed]"
     },
     "metadata": {
      "needs_background": "light"
     },
     "output_type": "display_data"
    },
    {
     "data": {
      "text/plain": "<Figure size 432x288 with 1 Axes>",
      "image/png": "[encoded data removed]"
     },
     "metadata": {
      "needs_background": "light"
     },
     "output_type": "display_data"
    }
   ],
   "source": [
    "dataset['last_price'].plot(kind='hist', bins=[200000, 250000, 500000, 1000000, 1500000, 2000000, 5000000, 10000000])\n",
    "plt.show()\n",
    "dataset['type_of_floor'].value_counts().plot(kind='bar')\n",
    "plt.show()\n",
    "dataset['month_of_exposition'].plot(kind='hist', y='month', bins=20)\n",
    "plt.show()\n",
    "dataset['day'] = pd.DatetimeIndex(dataset['first_day_exposition']).day\n",
    "dataset['day'].plot(kind='hist', y='day', bins=20)\n",
    "plt.show()"
   ],
   "metadata": {
    "collapsed": false,
    "pycharm": {
     "name": "#%%\n"
    }
   }
  },
  {
   "cell_type": "markdown",
   "source": [
    "#### Выводы по графику:\n",
    " - пик общей  площади(total area) приходиться на примерно 50\n",
    "  - пик жилой площади(living area) приходиться на примерное 25\n",
    "  - значение общего кол-ва этажей (floors_total) не превосходит 30. Самое распространенное кол-во этаэей в квартире -5-6\n",
    "  - пик площади кухни приходитя на 10\n",
    "   - last_price - На графике, построенном с другими корзинами,можно заметить что явный пик находится на 5 миллионах рублей.\n",
    "  - Почти одинаково распространены однокомнотные и двухкомнатные квартиры. Но больше все-таки 1. После таких квартир, остальные, с кол-вом комнат 4, 5 и тд все меньше и меньше.\n",
    "  - В основном распространена высота потолков 2.5 метра(ceiling height)\n",
    "  - Пик этажа квартиры находиться на 2,3 этажах.Такие квартиры больше всего распространены Реже всего встречается квартиры на 25 этаже и выше.\n",
    " - Пик расстояния до центра при ходится примрно на 15000 метрах. Далее, кол-во квартир идет на спад.\n",
    "  - Естественно, кол-во \"других\" этажей большей, чем первых и последних)\n",
    "  - Нормальное распределение можно четко заметить на значениях total_area,Total_images,floor,first_day_exposition,airports_nearest,cityCentre_nearest,parks_nearest,ponds_nearest,cityCentre_km\n",
    "    - Примерно в феврале и примерно 12 числа был пик выставления квартир на продажу."
   ],
   "metadata": {
    "collapsed": false,
    "pycharm": {
     "name": "#%% md\n"
    }
   }
  },
  {
   "cell_type": "markdown",
   "source": [
    "### 2.Изучите, как быстро продавались квартиры (столбец days_exposition)."
   ],
   "metadata": {
    "collapsed": false,
    "pycharm": {
     "name": "#%% md\n"
    }
   }
  },
  {
   "cell_type": "code",
   "execution_count": 31,
   "outputs": [
    {
     "data": {
      "text/plain": "95.0"
     },
     "metadata": {},
     "output_type": "display_data"
    },
    {
     "data": {
      "text/plain": "<Figure size 432x288 with 1 Axes>",
      "image/png": "[encoded data removed]"
     },
     "metadata": {
      "needs_background": "light"
     },
     "output_type": "display_data"
    }
   ],
   "source": [
    "dataset['days_exposition'].hist(bins=100)\n",
    "days_exposion_median = dataset['days_exposition'].median()\n",
    "days_exposion_mean = dataset['days_exposition'].mean()\n",
    "plt.axvline(x=days_exposion_median, color='green')\n",
    "plt.axvline(x=days_exposion_mean, color='red')\n",
    "display(days_exposion_median)"
   ],
   "metadata": {
    "collapsed": false,
    "pycharm": {
     "name": "#%%\n"
    }
   }
  },
  {
   "cell_type": "markdown",
   "source": [
    "Среднее кол-во дней продажи - 95 дней. Поэтому, все, что меньше этого значения является можно считать быстрыми продажами.Их большое кол-во как можно заметить по гарфику. Редки случаи, где кол-во дней составляет от 800 дней и больше. Самые редкие те, что больше 1000.Они являются необычно долгими"
   ],
   "metadata": {
    "collapsed": false,
    "pycharm": {
     "name": "#%% md\n"
    }
   }
  },
  {
   "cell_type": "markdown",
   "source": [
    "### 3.Какие факторы больше всего влияют на общую (полную) стоимость объекта?"
   ],
   "metadata": {
    "collapsed": false,
    "pycharm": {
     "name": "#%% md\n"
    }
   }
  },
  {
   "cell_type": "code",
   "execution_count": 45,
   "outputs": [
    {
     "data": {
      "text/plain": "<AxesSubplot:xlabel='last_price', ylabel='first_day_exposition'>"
     },
     "execution_count": 45,
     "metadata": {},
     "output_type": "execute_result"
    },
    {
     "data": {
      "text/plain": "<Figure size 432x288 with 1 Axes>",
      "image/png": "[encoded data removed]"
     },
     "metadata": {
      "needs_background": "light"
     },
     "output_type": "display_data"
    },
    {
     "data": {
      "text/plain": "<Figure size 432x288 with 1 Axes>",
      "image/png": "[encoded data removed]"
     },
     "metadata": {
      "needs_background": "light"
     },
     "output_type": "display_data"
    },
    {
     "data": {
      "text/plain": "<Figure size 432x288 with 1 Axes>",
      "image/png": "[encoded data removed]"
     },
     "metadata": {
      "needs_background": "light"
     },
     "output_type": "display_data"
    },
    {
     "data": {
      "text/plain": "<Figure size 432x288 with 1 Axes>",
      "image/png": "[encoded data removed]"
     },
     "metadata": {
      "needs_background": "light"
     },
     "output_type": "display_data"
    },
    {
     "data": {
      "text/plain": "<Figure size 432x288 with 1 Axes>",
      "image/png": "[encoded data removed]"
     },
     "metadata": {
      "needs_background": "light"
     },
     "output_type": "display_data"
    },
    {
     "data": {
      "text/plain": "<Figure size 432x288 with 1 Axes>",
      "image/png": "[encoded data removed]"
     },
     "metadata": {
      "needs_background": "light"
     },
     "output_type": "display_data"
    }
   ],
   "source": [
    "dataset.plot.scatter(x='last_price', y='total_area', grid=True, alpha=0.3)\n",
    "dataset.plot.scatter(x='last_price', y='living_area', grid=True)\n",
    "dataset.plot.scatter(x='last_price', y='kitchen_area', grid=True)\n",
    "dataset.plot.scatter(x='last_price', y='rooms', grid=True)\n",
    "dataset.plot.scatter(x='floor', y='last_price', grid=True)\n",
    "dataset.plot.scatter(x='last_price', y='first_day_exposition', grid=True)"
   ],
   "metadata": {
    "collapsed": false,
    "pycharm": {
     "name": "#%%\n"
    }
   }
  },
  {
   "cell_type": "markdown",
   "source": [
    "По построенным графикам можно сделать выводы о том, что цена:\n",
    " - достаточно сильно зависит от общей, жилой площади, а также площади кухни\n",
    "  - сильно зависит от кол-ва комнат, этажа\n",
    "   - не очень сильно зависит от даты размещения"
   ],
   "metadata": {
    "collapsed": false,
    "pycharm": {
     "name": "#%% md\n"
    }
   }
  },
  {
   "cell_type": "markdown",
   "source": [
    "### 4.Посчитайте среднюю цену одного квадратного метра в 10 населённых пунктах с наибольшим числом объявлений."
   ],
   "metadata": {
    "collapsed": false,
    "pycharm": {
     "name": "#%% md\n"
    }
   }
  },
  {
   "cell_type": "code",
   "execution_count": 33,
   "outputs": [
    {
     "data": {
      "text/plain": "                    count           mean\n                one_price      one_price\nlocality_name                           \nСанкт-Петербург     15651  114868.877341\nМурино                586   86041.116064\nКудрово               470   95260.846171\nШушары                439   78551.344545\nВсеволожск            398   68654.473986\nПушкин                369  103125.819291\nКолпино               338   75424.579098\nПарголово             327   90175.913458\nГатчина               307   68746.146763\nВыборг                237   58141.909153",
      "text/html": "<div>\n<style scoped>\n    .dataframe tbody tr th:only-of-type {\n        vertical-align: middle;\n    }\n\n    .dataframe tbody tr th {\n        vertical-align: top;\n    }\n\n    .dataframe thead tr th {\n        text-align: left;\n    }\n\n    .dataframe thead tr:last-of-type th {\n        text-align: right;\n    }\n</style>\n<table border=\"1\" class=\"dataframe\">\n  <thead>\n    <tr>\n      <th></th>\n      <th>count</th>\n      <th>mean</th>\n    </tr>\n    <tr>\n      <th></th>\n      <th>one_price</th>\n      <th>one_price</th>\n    </tr>\n    <tr>\n      <th>locality_name</th>\n      <th></th>\n      <th></th>\n    </tr>\n  </thead>\n  <tbody>\n    <tr>\n      <th>Санкт-Петербург</th>\n      <td>15651</td>\n      <td>114868.877341</td>\n    </tr>\n    <tr>\n      <th>Мурино</th>\n      <td>586</td>\n      <td>86041.116064</td>\n    </tr>\n    <tr>\n      <th>Кудрово</th>\n      <td>470</td>\n      <td>95260.846171</td>\n    </tr>\n    <tr>\n      <th>Шушары</th>\n      <td>439</td>\n      <td>78551.344545</td>\n    </tr>\n    <tr>\n      <th>Всеволожск</th>\n      <td>398</td>\n      <td>68654.473986</td>\n    </tr>\n    <tr>\n      <th>Пушкин</th>\n      <td>369</td>\n      <td>103125.819291</td>\n    </tr>\n    <tr>\n      <th>Колпино</th>\n      <td>338</td>\n      <td>75424.579098</td>\n    </tr>\n    <tr>\n      <th>Парголово</th>\n      <td>327</td>\n      <td>90175.913458</td>\n    </tr>\n    <tr>\n      <th>Гатчина</th>\n      <td>307</td>\n      <td>68746.146763</td>\n    </tr>\n    <tr>\n      <th>Выборг</th>\n      <td>237</td>\n      <td>58141.909153</td>\n    </tr>\n  </tbody>\n</table>\n</div>"
     },
     "metadata": {},
     "output_type": "display_data"
    },
    {
     "name": "stdout",
     "output_type": "stream",
     "text": [
      "Самая высокая цена за кв метр: 12971    Санкт-Петербург\n",
      "Name: locality_name, dtype: object\n",
      "Самая низкая цена за кв метр: 8793    Санкт-Петербург\n",
      "Name: locality_name, dtype: object\n"
     ]
    }
   ],
   "source": [
    "df = dataset.pivot_table(index='locality_name', values='one_price', aggfunc=['count', 'mean'])\n",
    "display(df.sort_values(by=df.columns[0], ascending=False).head(10))\n",
    "dataset_max = dataset['one_price'].max()\n",
    "dataset_min = dataset['one_price'].min()\n",
    "print('Самая высокая цена за кв метр:', dataset.query('one_price==@dataset_max')['locality_name'])\n",
    "print('Самая низкая цена за кв метр:', dataset.query('one_price==@dataset_min')['locality_name'])"
   ],
   "metadata": {
    "collapsed": false,
    "pycharm": {
     "name": "#%%\n"
    }
   }
  },
  {
   "cell_type": "markdown",
   "source": [
    "### 5.Ранее вы посчитали расстояние до центра в километрах. Теперь выделите квартиры в Санкт-Петербурге с помощью столбца locality_name и вычислите среднюю цену каждого километра"
   ],
   "metadata": {
    "collapsed": false,
    "pycharm": {
     "name": "#%% md\n"
    }
   }
  },
  {
   "cell_type": "code",
   "execution_count": 34,
   "outputs": [
    {
     "data": {
      "text/plain": "<AxesSubplot:xlabel='cityCentre_km'>"
     },
     "execution_count": 34,
     "metadata": {},
     "output_type": "execute_result"
    },
    {
     "data": {
      "text/plain": "<Figure size 432x288 with 1 Axes>",
      "image/png": "[encoded data removed]"
     },
     "metadata": {
      "needs_background": "light"
     },
     "output_type": "display_data"
    }
   ],
   "source": [
    "dataset.query('locality_name==\"Санкт-Петербург\"').pivot_table(index='cityCentre_km', values='one_price',\n",
    "                                                              aggfunc='mean').plot()"
   ],
   "metadata": {
    "collapsed": false,
    "pycharm": {
     "name": "#%%\n"
    }
   }
  },
  {
   "cell_type": "markdown",
   "source": [
    "Вывод: чем дальше от цента, тем дешевле.После 2-3 км цена начинает резко идти вниз, что значит о том, что это пиковое значение. Далее спад идет плавно."
   ],
   "metadata": {
    "collapsed": false,
    "pycharm": {
     "name": "#%% md\n"
    }
   }
  },
  {
   "cell_type": "markdown",
   "metadata": {
    "pycharm": {
     "name": "#%% md\n"
    }
   },
   "source": [
    "### Общий вывод"
   ]
  },
  {
   "cell_type": "markdown",
   "source": [
    "Была проведена предобработка данных. Это немалая работа по очищению лишних, аномальных(например ceiling_height), пропущенных данных и дубликатов или, также по замене их на другие данные, опираясь на просмотр и наблюдение за данными. Также было проведено иследнование данных. Тут  было важно внимательно изучить графики, пики, распределение а также найти зависимоти и сделать логические выводы. Было выяснено, что все-таки цена очень сильно зависит от расположения(кол-во ближайших парков и прудов), кол-ва комнат, этажа и конечно же, очень сильно зависит от расположения к центру.Удивительно, что немало квартир находится рядом с прудами(пик в 400м) и рядом с парками(пик в 500м). Также по мнению крокера 3км- это центр.2"
   ],
   "metadata": {
    "collapsed": false,
    "pycharm": {
     "name": "#%% md\n"
    }
   }
  },
  {
   "cell_type": "markdown",
   "metadata": {
    "pycharm": {
     "name": "#%% md\n"
    }
   },
   "source": [
    "**Чек-лист готовности проекта**\n",
    "\n",
    "Поставьте 'x' в выполненных пунктах. Далее нажмите Shift+Enter."
   ]
  },
  {
   "cell_type": "markdown",
   "metadata": {
    "pycharm": {
     "name": "#%% md\n"
    }
   },
   "source": [
    "- [+]  открыт файл\n",
    "- [+]  файлы изучены (выведены первые строки, метод `info()`, гистограммы и т.д.)\n",
    "- [+]  определены пропущенные значения\n",
    "- [+]  заполнены пропущенные значения там, где это возможно\n",
    "- [+]  есть пояснение, какие пропущенные значения обнаружены\n",
    "- [+]  изменены типы данных\n",
    "- [+]  есть пояснение, в каких столбцах изменены типы и почему\n",
    "- [+]  устранены неявные дубликаты в названиях населённых пунктов\n",
    "- [+]  устранены редкие и выбивающиеся значения (аномалии) во всех столбцах\n",
    "- [+]  посчитано и добавлено в таблицу: цена одного квадратного метра\n",
    "- [+]  посчитано и добавлено в таблицу: день публикации объявления (0 - понедельник, 1 - вторник и т.д.)\n",
    "- [+]  посчитано и добавлено в таблицу: месяц публикации объявления\n",
    "- [+]  посчитано и добавлено в таблицу: год публикации объявления\n",
    "- [+]  посчитано и добавлено в таблицу: тип этажа квартиры (значения — «первый», «последний», «другой»)\n",
    "- [+]  посчитано и добавлено в таблицу: расстояние в км до центра города\n",
    "- [+]  изучены и описаны следующие параметры:\n",
    "        - общая площадь;\n",
    "        - жилая площадь;\n",
    "        - площадь кухни;\n",
    "        - цена объекта;\n",
    "        - количество комнат;\n",
    "        - высота потолков;\n",
    "        - этаж квартиры;\n",
    "        - тип этажа квартиры («первый», «последний», «другой»);\n",
    "        - общее количество этажей в доме;\n",
    "        - расстояние до центра города в метрах;\n",
    "        - расстояние до ближайшего аэропорта;\n",
    "        - расстояние до ближайшего парка;\n",
    "        - день и месяц публикации объявления\n",
    "- [+]  построены гистограммы для каждого параметра\n",
    "- [+]  выполнено задание: \"Изучите, как быстро продавались квартиры (столбец days_exposition). Этот параметр показывает, сколько дней «висело» каждое объявление.\n",
    "    - Постройте гистограмму.\n",
    "    - Посчитайте среднее и медиану.\n",
    "    - В ячейке типа markdown опишите, сколько обычно занимает продажа. Какие продажи можно считать быстрыми, а какие — необычно долгими?\"\n",
    "- [+]  выполнено задание: \"Какие факторы больше всего влияют на общую (полную) стоимость объекта? Постройте графики, которые покажут зависимость цены от указанных ниже параметров. Для подготовки данных перед визуализацией вы можете использовать сводные таблицы.\"\n",
    "        - общей площади;\n",
    "        - жилой площади;\n",
    "        - площади кухни;\n",
    "        - количество комнат;\n",
    "        - типа этажа, на котором расположена квартира (первый, последний, другой);\n",
    "        - даты размещения (день недели, месяц, год);\n",
    "- [+]  выполнено задание: \"Посчитайте среднюю цену одного квадратного метра в 10 населённых пунктах с наибольшим числом объявлений. Выделите населённые пункты с самой высокой и низкой стоимостью квадратного метра. Эти данные можно найти по имени в столбце `locality_name`.\"\n",
    "- [+]  выполнено задание: \"Ранее вы посчитали расстояние до центра в километрах. Теперь выделите квартиры в Санкт-Петербурге с помощью столбца `locality_name` и вычислите среднюю цену каждого километра. Опишите, как стоимость объектов зависит от расстояния до центра города.\"\n",
    "- [+]  в каждом этапе есть промежуточные выводы\n",
    "- [+]  есть общий вывод"
   ]
  }
 ],
 "metadata": {
  "ExecuteTimeLog": [
   {
    "duration": 732,
    "start_time": "2022-08-19T20:48:16.717Z"
   },
   {
    "duration": 1099,
    "start_time": "2022-08-19T20:48:43.175Z"
   },
   {
    "duration": 107,
    "start_time": "2022-08-19T20:48:53.661Z"
   },
   {
    "duration": 985,
    "start_time": "2022-08-19T20:49:36.015Z"
   },
   {
    "duration": 89,
    "start_time": "2022-08-19T20:49:39.944Z"
   },
   {
    "duration": 100,
    "start_time": "2022-08-19T20:50:20.532Z"
   },
   {
    "duration": 2190,
    "start_time": "2022-08-19T20:50:44.938Z"
   },
   {
    "duration": 17,
    "start_time": "2022-08-19T20:52:41.106Z"
   },
   {
    "duration": 7,
    "start_time": "2022-08-19T20:52:46.198Z"
   },
   {
    "duration": 14,
    "start_time": "2022-08-19T20:57:15.573Z"
   },
   {
    "duration": 63,
    "start_time": "2022-08-19T20:58:12.779Z"
   },
   {
    "duration": 24,
    "start_time": "2022-08-19T20:58:25.808Z"
   },
   {
    "duration": 26,
    "start_time": "2022-08-19T20:58:34.939Z"
   },
   {
    "duration": 36,
    "start_time": "2022-08-19T20:58:53.307Z"
   },
   {
    "duration": 44,
    "start_time": "2022-08-19T21:03:59.745Z"
   },
   {
    "duration": 45,
    "start_time": "2022-08-19T21:04:08.962Z"
   },
   {
    "duration": 60,
    "start_time": "2022-08-19T21:04:16.718Z"
   },
   {
    "duration": 48,
    "start_time": "2022-08-19T21:04:28.639Z"
   },
   {
    "duration": 38,
    "start_time": "2022-08-19T21:05:58.079Z"
   },
   {
    "duration": 23,
    "start_time": "2022-08-19T21:08:02.621Z"
   },
   {
    "duration": 35,
    "start_time": "2022-08-19T21:10:36.483Z"
   },
   {
    "duration": 42,
    "start_time": "2022-08-19T21:11:32.991Z"
   },
   {
    "duration": 45,
    "start_time": "2022-08-19T21:12:01.412Z"
   },
   {
    "duration": 39,
    "start_time": "2022-08-19T21:12:27.777Z"
   },
   {
    "duration": 37,
    "start_time": "2022-08-19T21:12:32.930Z"
   },
   {
    "duration": 45,
    "start_time": "2022-08-19T21:12:36.890Z"
   },
   {
    "duration": 33,
    "start_time": "2022-08-19T22:15:42.758Z"
   },
   {
    "duration": 49,
    "start_time": "2022-08-19T22:16:23.132Z"
   },
   {
    "duration": 42,
    "start_time": "2022-08-19T22:17:36.279Z"
   },
   {
    "duration": 29,
    "start_time": "2022-08-19T22:18:07.018Z"
   },
   {
    "duration": 33,
    "start_time": "2022-08-19T22:18:41.621Z"
   },
   {
    "duration": 11,
    "start_time": "2022-08-19T22:23:07.668Z"
   },
   {
    "duration": 10,
    "start_time": "2022-08-19T22:23:13.364Z"
   },
   {
    "duration": 11,
    "start_time": "2022-08-19T22:23:16.722Z"
   },
   {
    "duration": 1966,
    "start_time": "2022-08-19T22:23:23.227Z"
   },
   {
    "duration": 13,
    "start_time": "2022-08-19T22:23:25.195Z"
   },
   {
    "duration": 56,
    "start_time": "2022-08-19T22:23:25.209Z"
   },
   {
    "duration": 7,
    "start_time": "2022-08-19T22:23:25.268Z"
   },
   {
    "duration": 4,
    "start_time": "2022-08-19T22:23:25.276Z"
   },
   {
    "duration": 7,
    "start_time": "2022-08-19T22:25:35.134Z"
   },
   {
    "duration": 13,
    "start_time": "2022-08-19T22:28:34.951Z"
   },
   {
    "duration": 10,
    "start_time": "2022-08-19T22:30:17.563Z"
   },
   {
    "duration": 6,
    "start_time": "2022-08-19T22:32:40.020Z"
   },
   {
    "duration": 19,
    "start_time": "2022-08-19T22:40:10.537Z"
   },
   {
    "duration": 20,
    "start_time": "2022-08-19T22:41:11.235Z"
   },
   {
    "duration": 15,
    "start_time": "2022-08-19T22:41:28.044Z"
   },
   {
    "duration": 63,
    "start_time": "2022-08-19T22:41:51.589Z"
   },
   {
    "duration": 55,
    "start_time": "2022-08-19T22:43:52.038Z"
   },
   {
    "duration": 16,
    "start_time": "2022-08-19T22:44:03.764Z"
   },
   {
    "duration": 31,
    "start_time": "2022-08-19T22:44:16.245Z"
   },
   {
    "duration": 3267,
    "start_time": "2022-08-20T16:02:53.868Z"
   },
   {
    "duration": 12,
    "start_time": "2022-08-20T16:02:57.136Z"
   },
   {
    "duration": 95,
    "start_time": "2022-08-20T16:02:57.150Z"
   },
   {
    "duration": 0,
    "start_time": "2022-08-20T16:02:57.247Z"
   },
   {
    "duration": 0,
    "start_time": "2022-08-20T16:02:57.248Z"
   },
   {
    "duration": 0,
    "start_time": "2022-08-20T16:02:57.249Z"
   },
   {
    "duration": 2819,
    "start_time": "2022-08-20T16:03:14.545Z"
   },
   {
    "duration": 9,
    "start_time": "2022-08-20T16:03:17.366Z"
   },
   {
    "duration": 84,
    "start_time": "2022-08-20T16:03:17.376Z"
   },
   {
    "duration": 0,
    "start_time": "2022-08-20T16:03:17.462Z"
   },
   {
    "duration": 0,
    "start_time": "2022-08-20T16:03:17.463Z"
   },
   {
    "duration": 0,
    "start_time": "2022-08-20T16:03:17.464Z"
   },
   {
    "duration": 15,
    "start_time": "2022-08-20T16:04:05.904Z"
   },
   {
    "duration": 2161,
    "start_time": "2022-08-20T16:04:08.541Z"
   },
   {
    "duration": 11,
    "start_time": "2022-08-20T16:04:17.041Z"
   },
   {
    "duration": 18,
    "start_time": "2022-08-20T16:04:20.103Z"
   },
   {
    "duration": 36,
    "start_time": "2022-08-20T16:04:42.792Z"
   },
   {
    "duration": 8,
    "start_time": "2022-08-20T16:04:50.631Z"
   },
   {
    "duration": 43,
    "start_time": "2022-08-20T16:04:52.727Z"
   },
   {
    "duration": 12,
    "start_time": "2022-08-20T16:04:56.563Z"
   },
   {
    "duration": 13,
    "start_time": "2022-08-20T16:05:09.414Z"
   },
   {
    "duration": 10,
    "start_time": "2022-08-20T16:05:37.340Z"
   },
   {
    "duration": 8,
    "start_time": "2022-08-20T16:06:05.522Z"
   },
   {
    "duration": 8,
    "start_time": "2022-08-20T16:06:25.672Z"
   },
   {
    "duration": 13,
    "start_time": "2022-08-20T16:06:36.124Z"
   },
   {
    "duration": 8,
    "start_time": "2022-08-20T16:07:01.625Z"
   },
   {
    "duration": 11,
    "start_time": "2022-08-20T16:07:14.249Z"
   },
   {
    "duration": 18,
    "start_time": "2022-08-20T16:07:42.795Z"
   },
   {
    "duration": 11,
    "start_time": "2022-08-20T16:10:23.704Z"
   },
   {
    "duration": 12,
    "start_time": "2022-08-20T16:50:27.528Z"
   },
   {
    "duration": 14,
    "start_time": "2022-08-20T17:12:35.252Z"
   },
   {
    "duration": 13,
    "start_time": "2022-08-20T17:12:57.552Z"
   },
   {
    "duration": 18,
    "start_time": "2022-08-20T17:13:04.870Z"
   },
   {
    "duration": 33,
    "start_time": "2022-08-20T17:13:12.031Z"
   },
   {
    "duration": 15,
    "start_time": "2022-08-20T17:13:53.259Z"
   },
   {
    "duration": 18,
    "start_time": "2022-08-20T17:14:05.106Z"
   },
   {
    "duration": 19,
    "start_time": "2022-08-20T17:20:26.812Z"
   },
   {
    "duration": 21,
    "start_time": "2022-08-20T17:24:14.778Z"
   },
   {
    "duration": 12,
    "start_time": "2022-08-20T17:24:27.664Z"
   },
   {
    "duration": 39,
    "start_time": "2022-08-20T17:25:05.228Z"
   },
   {
    "duration": 23,
    "start_time": "2022-08-20T17:25:17.443Z"
   },
   {
    "duration": 15,
    "start_time": "2022-08-20T17:25:30.116Z"
   },
   {
    "duration": 9,
    "start_time": "2022-08-20T17:27:12.860Z"
   },
   {
    "duration": 16,
    "start_time": "2022-08-20T17:27:18.305Z"
   },
   {
    "duration": 17,
    "start_time": "2022-08-20T17:30:29.648Z"
   },
   {
    "duration": 22,
    "start_time": "2022-08-20T17:30:35.343Z"
   },
   {
    "duration": 15,
    "start_time": "2022-08-20T17:31:54.647Z"
   },
   {
    "duration": 9,
    "start_time": "2022-08-20T17:31:59.954Z"
   },
   {
    "duration": 13,
    "start_time": "2022-08-20T17:32:32.755Z"
   },
   {
    "duration": 16,
    "start_time": "2022-08-20T17:32:44.029Z"
   },
   {
    "duration": 23,
    "start_time": "2022-08-20T17:32:56.884Z"
   },
   {
    "duration": 2232,
    "start_time": "2022-08-20T17:33:07.683Z"
   },
   {
    "duration": 14,
    "start_time": "2022-08-20T17:33:09.917Z"
   },
   {
    "duration": 49,
    "start_time": "2022-08-20T17:33:09.933Z"
   },
   {
    "duration": 40,
    "start_time": "2022-08-20T17:33:09.986Z"
   },
   {
    "duration": 49,
    "start_time": "2022-08-20T17:33:10.028Z"
   },
   {
    "duration": 30,
    "start_time": "2022-08-20T17:33:10.079Z"
   },
   {
    "duration": 10,
    "start_time": "2022-08-20T17:33:27.258Z"
   },
   {
    "duration": 23,
    "start_time": "2022-08-20T17:33:33.980Z"
   },
   {
    "duration": 23,
    "start_time": "2022-08-20T17:34:01.577Z"
   },
   {
    "duration": 2906,
    "start_time": "2022-08-20T17:34:06.942Z"
   },
   {
    "duration": 11,
    "start_time": "2022-08-20T17:34:09.851Z"
   },
   {
    "duration": 24,
    "start_time": "2022-08-20T17:34:09.864Z"
   },
   {
    "duration": 13,
    "start_time": "2022-08-20T17:34:09.894Z"
   },
   {
    "duration": 16,
    "start_time": "2022-08-20T17:34:09.911Z"
   },
   {
    "duration": 14,
    "start_time": "2022-08-20T17:34:09.929Z"
   },
   {
    "duration": 15,
    "start_time": "2022-08-20T17:34:38.048Z"
   },
   {
    "duration": 18,
    "start_time": "2022-08-20T17:34:53.649Z"
   },
   {
    "duration": 16,
    "start_time": "2022-08-20T17:34:59.723Z"
   },
   {
    "duration": 17,
    "start_time": "2022-08-20T17:35:36.546Z"
   },
   {
    "duration": 16,
    "start_time": "2022-08-20T17:36:00.413Z"
   },
   {
    "duration": 22,
    "start_time": "2022-08-20T17:36:30.307Z"
   },
   {
    "duration": 18,
    "start_time": "2022-08-20T17:36:35.121Z"
   },
   {
    "duration": 3013,
    "start_time": "2022-08-20T17:36:40.767Z"
   },
   {
    "duration": 12,
    "start_time": "2022-08-20T17:36:43.781Z"
   },
   {
    "duration": 44,
    "start_time": "2022-08-20T17:36:43.797Z"
   },
   {
    "duration": 9,
    "start_time": "2022-08-20T17:36:43.843Z"
   },
   {
    "duration": 14,
    "start_time": "2022-08-20T17:36:43.853Z"
   },
   {
    "duration": 31,
    "start_time": "2022-08-20T17:36:43.898Z"
   },
   {
    "duration": 24,
    "start_time": "2022-08-20T17:36:49.510Z"
   },
   {
    "duration": 22,
    "start_time": "2022-08-20T17:38:42.212Z"
   },
   {
    "duration": 28,
    "start_time": "2022-08-20T17:38:50.879Z"
   },
   {
    "duration": 5,
    "start_time": "2022-08-20T17:39:13.075Z"
   },
   {
    "duration": 14,
    "start_time": "2022-08-20T17:39:57.911Z"
   },
   {
    "duration": 21,
    "start_time": "2022-08-20T17:40:31.600Z"
   },
   {
    "duration": 2114,
    "start_time": "2022-08-20T17:40:55.934Z"
   },
   {
    "duration": 7,
    "start_time": "2022-08-20T17:40:58.050Z"
   },
   {
    "duration": 27,
    "start_time": "2022-08-20T17:40:58.059Z"
   },
   {
    "duration": 14,
    "start_time": "2022-08-20T17:40:58.088Z"
   },
   {
    "duration": 19,
    "start_time": "2022-08-20T17:40:58.112Z"
   },
   {
    "duration": 26,
    "start_time": "2022-08-20T17:40:58.132Z"
   },
   {
    "duration": 12,
    "start_time": "2022-08-20T17:41:02.322Z"
   },
   {
    "duration": 27,
    "start_time": "2022-08-20T17:41:16.586Z"
   },
   {
    "duration": 15,
    "start_time": "2022-08-20T17:58:42.296Z"
   },
   {
    "duration": 17,
    "start_time": "2022-08-20T17:59:09.812Z"
   },
   {
    "duration": 19,
    "start_time": "2022-08-20T18:01:26.979Z"
   },
   {
    "duration": 56,
    "start_time": "2022-08-20T18:05:38.215Z"
   },
   {
    "duration": 6,
    "start_time": "2022-08-20T18:05:43.106Z"
   },
   {
    "duration": 2573,
    "start_time": "2022-08-20T18:05:54.851Z"
   },
   {
    "duration": 9,
    "start_time": "2022-08-20T18:05:57.426Z"
   },
   {
    "duration": 19,
    "start_time": "2022-08-20T18:05:57.437Z"
   },
   {
    "duration": 7,
    "start_time": "2022-08-20T18:05:57.458Z"
   },
   {
    "duration": 23,
    "start_time": "2022-08-20T18:05:57.466Z"
   },
   {
    "duration": 28,
    "start_time": "2022-08-20T18:05:57.495Z"
   },
   {
    "duration": 54,
    "start_time": "2022-08-20T18:05:57.524Z"
   },
   {
    "duration": 6,
    "start_time": "2022-08-20T18:06:31.044Z"
   },
   {
    "duration": 69,
    "start_time": "2022-08-20T18:06:43.097Z"
   },
   {
    "duration": 13,
    "start_time": "2022-08-20T18:06:45.277Z"
   },
   {
    "duration": 7,
    "start_time": "2022-08-20T18:06:48.133Z"
   },
   {
    "duration": 5,
    "start_time": "2022-08-20T18:15:03.714Z"
   },
   {
    "duration": 2770,
    "start_time": "2022-08-20T18:16:05.622Z"
   },
   {
    "duration": 153,
    "start_time": "2022-08-20T18:16:20.380Z"
   },
   {
    "duration": 151,
    "start_time": "2022-08-20T18:16:33.464Z"
   },
   {
    "duration": 1526,
    "start_time": "2022-08-20T18:16:35.971Z"
   },
   {
    "duration": 953,
    "start_time": "2022-08-20T18:17:16.182Z"
   },
   {
    "duration": 17,
    "start_time": "2022-08-20T18:17:43.097Z"
   },
   {
    "duration": 2763,
    "start_time": "2022-08-20T18:17:59.097Z"
   },
   {
    "duration": 9,
    "start_time": "2022-08-20T18:18:01.861Z"
   },
   {
    "duration": 49,
    "start_time": "2022-08-20T18:18:01.871Z"
   },
   {
    "duration": 8,
    "start_time": "2022-08-20T18:18:01.922Z"
   },
   {
    "duration": 25,
    "start_time": "2022-08-20T18:18:01.931Z"
   },
   {
    "duration": 41,
    "start_time": "2022-08-20T18:18:01.958Z"
   },
   {
    "duration": 102,
    "start_time": "2022-08-20T18:18:02.000Z"
   },
   {
    "duration": 1391,
    "start_time": "2022-08-20T18:18:25.911Z"
   },
   {
    "duration": 1510,
    "start_time": "2022-08-20T18:18:41.796Z"
   },
   {
    "duration": 16,
    "start_time": "2022-08-20T18:21:01.805Z"
   },
   {
    "duration": 1488,
    "start_time": "2022-08-20T18:21:07.608Z"
   },
   {
    "duration": 10,
    "start_time": "2022-08-20T18:22:06.437Z"
   },
   {
    "duration": 12,
    "start_time": "2022-08-20T18:22:41.139Z"
   },
   {
    "duration": 10,
    "start_time": "2022-08-20T18:24:01.035Z"
   },
   {
    "duration": 10,
    "start_time": "2022-08-20T18:24:16.693Z"
   },
   {
    "duration": 10,
    "start_time": "2022-08-20T18:24:21.857Z"
   },
   {
    "duration": 1991,
    "start_time": "2022-08-20T18:24:47.381Z"
   },
   {
    "duration": 15,
    "start_time": "2022-08-20T18:24:49.374Z"
   },
   {
    "duration": 15,
    "start_time": "2022-08-20T18:24:49.391Z"
   },
   {
    "duration": 6,
    "start_time": "2022-08-20T18:24:49.408Z"
   },
   {
    "duration": 5,
    "start_time": "2022-08-20T18:24:49.417Z"
   },
   {
    "duration": 62,
    "start_time": "2022-08-20T18:24:49.423Z"
   },
   {
    "duration": 1572,
    "start_time": "2022-08-20T18:24:57.631Z"
   },
   {
    "duration": 194,
    "start_time": "2022-08-20T18:25:12.443Z"
   },
   {
    "duration": 1491,
    "start_time": "2022-08-20T18:26:11.253Z"
   },
   {
    "duration": 1637,
    "start_time": "2022-08-20T18:26:23.583Z"
   },
   {
    "duration": 1609,
    "start_time": "2022-08-20T18:26:54.588Z"
   },
   {
    "duration": 1576,
    "start_time": "2022-08-20T18:27:09.612Z"
   },
   {
    "duration": 1558,
    "start_time": "2022-08-20T18:27:44.227Z"
   },
   {
    "duration": 1460,
    "start_time": "2022-08-20T18:27:51.267Z"
   },
   {
    "duration": 1620,
    "start_time": "2022-08-20T18:27:58.767Z"
   },
   {
    "duration": 1601,
    "start_time": "2022-08-20T18:28:02.285Z"
   },
   {
    "duration": 54,
    "start_time": "2022-08-20T18:28:09.142Z"
   },
   {
    "duration": 1539,
    "start_time": "2022-08-20T18:28:12.688Z"
   },
   {
    "duration": 10,
    "start_time": "2022-08-20T18:33:35.066Z"
   },
   {
    "duration": 11,
    "start_time": "2022-08-20T18:33:57.561Z"
   },
   {
    "duration": 1539,
    "start_time": "2022-08-20T18:34:01.656Z"
   },
   {
    "duration": 10,
    "start_time": "2022-08-20T18:34:11.804Z"
   },
   {
    "duration": 9,
    "start_time": "2022-08-20T18:34:16.387Z"
   },
   {
    "duration": 1553,
    "start_time": "2022-08-20T18:34:25.561Z"
   },
   {
    "duration": 201,
    "start_time": "2022-08-20T18:35:30.859Z"
   },
   {
    "duration": 211,
    "start_time": "2022-08-20T18:35:48.850Z"
   },
   {
    "duration": 9,
    "start_time": "2022-08-20T18:36:29.193Z"
   },
   {
    "duration": 197,
    "start_time": "2022-08-20T18:37:29.223Z"
   },
   {
    "duration": 213,
    "start_time": "2022-08-20T18:38:23.555Z"
   },
   {
    "duration": 202,
    "start_time": "2022-08-20T18:43:19.979Z"
   },
   {
    "duration": 2525,
    "start_time": "2022-08-20T18:44:13.747Z"
   },
   {
    "duration": 7,
    "start_time": "2022-08-20T18:44:16.274Z"
   },
   {
    "duration": 17,
    "start_time": "2022-08-20T18:44:16.283Z"
   },
   {
    "duration": 6,
    "start_time": "2022-08-20T18:44:16.301Z"
   },
   {
    "duration": 7,
    "start_time": "2022-08-20T18:44:16.308Z"
   },
   {
    "duration": 25,
    "start_time": "2022-08-20T18:44:16.316Z"
   },
   {
    "duration": 200,
    "start_time": "2022-08-20T18:44:16.343Z"
   },
   {
    "duration": 189,
    "start_time": "2022-08-20T18:44:52.414Z"
   },
   {
    "duration": 200,
    "start_time": "2022-08-20T18:45:54.540Z"
   },
   {
    "duration": 150,
    "start_time": "2022-08-20T18:45:59.533Z"
   },
   {
    "duration": 155,
    "start_time": "2022-08-20T18:46:11.917Z"
   },
   {
    "duration": 177,
    "start_time": "2022-08-20T18:48:20.211Z"
   },
   {
    "duration": 2521,
    "start_time": "2022-08-20T18:48:34.478Z"
   },
   {
    "duration": 8,
    "start_time": "2022-08-20T18:48:37.001Z"
   },
   {
    "duration": 17,
    "start_time": "2022-08-20T18:48:37.010Z"
   },
   {
    "duration": 6,
    "start_time": "2022-08-20T18:48:37.028Z"
   },
   {
    "duration": 7,
    "start_time": "2022-08-20T18:48:37.036Z"
   },
   {
    "duration": 27,
    "start_time": "2022-08-20T18:48:37.044Z"
   },
   {
    "duration": 956,
    "start_time": "2022-08-20T18:48:37.085Z"
   },
   {
    "duration": 169,
    "start_time": "2022-08-20T18:50:20.306Z"
   },
   {
    "duration": 177,
    "start_time": "2022-08-20T18:53:38.117Z"
   },
   {
    "duration": 3,
    "start_time": "2022-08-20T19:00:15.359Z"
   },
   {
    "duration": 2752,
    "start_time": "2022-08-20T19:06:57.616Z"
   },
   {
    "duration": 7,
    "start_time": "2022-08-20T19:07:00.370Z"
   },
   {
    "duration": 26,
    "start_time": "2022-08-20T19:07:00.379Z"
   },
   {
    "duration": 21,
    "start_time": "2022-08-20T19:07:00.406Z"
   },
   {
    "duration": 26,
    "start_time": "2022-08-20T19:07:00.429Z"
   },
   {
    "duration": 23,
    "start_time": "2022-08-20T19:07:00.457Z"
   },
   {
    "duration": 99,
    "start_time": "2022-08-20T19:07:00.482Z"
   },
   {
    "duration": 0,
    "start_time": "2022-08-20T19:07:00.584Z"
   },
   {
    "duration": 2726,
    "start_time": "2022-08-20T19:10:34.930Z"
   },
   {
    "duration": 10,
    "start_time": "2022-08-20T19:10:37.658Z"
   },
   {
    "duration": 14,
    "start_time": "2022-08-20T19:10:37.669Z"
   },
   {
    "duration": 8,
    "start_time": "2022-08-20T19:10:37.686Z"
   },
   {
    "duration": 16,
    "start_time": "2022-08-20T19:10:37.695Z"
   },
   {
    "duration": 7,
    "start_time": "2022-08-20T19:10:37.713Z"
   },
   {
    "duration": 18,
    "start_time": "2022-08-20T19:10:37.721Z"
   },
   {
    "duration": 216,
    "start_time": "2022-08-20T19:10:37.741Z"
   },
   {
    "duration": 11,
    "start_time": "2022-08-20T19:15:25.641Z"
   },
   {
    "duration": 11,
    "start_time": "2022-08-20T19:18:09.020Z"
   },
   {
    "duration": 2671,
    "start_time": "2022-08-20T19:18:16.537Z"
   },
   {
    "duration": 8,
    "start_time": "2022-08-20T19:18:19.210Z"
   },
   {
    "duration": 15,
    "start_time": "2022-08-20T19:18:19.219Z"
   },
   {
    "duration": 10,
    "start_time": "2022-08-20T19:18:19.236Z"
   },
   {
    "duration": 5,
    "start_time": "2022-08-20T19:18:19.248Z"
   },
   {
    "duration": 8,
    "start_time": "2022-08-20T19:18:19.254Z"
   },
   {
    "duration": 29,
    "start_time": "2022-08-20T19:18:19.263Z"
   },
   {
    "duration": 202,
    "start_time": "2022-08-20T19:18:19.293Z"
   },
   {
    "duration": 2753,
    "start_time": "2022-08-20T19:19:45.951Z"
   },
   {
    "duration": 8,
    "start_time": "2022-08-20T19:19:48.706Z"
   },
   {
    "duration": 17,
    "start_time": "2022-08-20T19:19:48.715Z"
   },
   {
    "duration": 48,
    "start_time": "2022-08-20T19:19:48.733Z"
   },
   {
    "duration": 0,
    "start_time": "2022-08-20T19:19:48.782Z"
   },
   {
    "duration": 0,
    "start_time": "2022-08-20T19:19:48.784Z"
   },
   {
    "duration": 0,
    "start_time": "2022-08-20T19:19:48.785Z"
   },
   {
    "duration": 0,
    "start_time": "2022-08-20T19:19:48.786Z"
   },
   {
    "duration": 20,
    "start_time": "2022-08-20T19:20:16.013Z"
   },
   {
    "duration": 13,
    "start_time": "2022-08-20T19:27:22.746Z"
   },
   {
    "duration": 16,
    "start_time": "2022-08-20T19:28:53.500Z"
   },
   {
    "duration": 15,
    "start_time": "2022-08-20T19:29:00.229Z"
   },
   {
    "duration": 15,
    "start_time": "2022-08-20T19:29:11.501Z"
   },
   {
    "duration": 18,
    "start_time": "2022-08-20T19:34:26.561Z"
   },
   {
    "duration": 2793,
    "start_time": "2022-08-20T19:36:00.199Z"
   },
   {
    "duration": 10,
    "start_time": "2022-08-20T19:36:02.994Z"
   },
   {
    "duration": 12,
    "start_time": "2022-08-20T19:36:03.006Z"
   },
   {
    "duration": 19,
    "start_time": "2022-08-20T19:36:03.020Z"
   },
   {
    "duration": 5,
    "start_time": "2022-08-20T19:36:03.041Z"
   },
   {
    "duration": 37,
    "start_time": "2022-08-20T19:36:03.048Z"
   },
   {
    "duration": 21,
    "start_time": "2022-08-20T19:36:03.088Z"
   },
   {
    "duration": 228,
    "start_time": "2022-08-20T19:36:03.110Z"
   },
   {
    "duration": 2739,
    "start_time": "2022-08-20T19:36:41.153Z"
   },
   {
    "duration": 8,
    "start_time": "2022-08-20T19:36:43.893Z"
   },
   {
    "duration": 13,
    "start_time": "2022-08-20T19:36:43.902Z"
   },
   {
    "duration": 22,
    "start_time": "2022-08-20T19:36:43.917Z"
   },
   {
    "duration": 6,
    "start_time": "2022-08-20T19:36:43.941Z"
   },
   {
    "duration": 37,
    "start_time": "2022-08-20T19:36:43.949Z"
   },
   {
    "duration": 19,
    "start_time": "2022-08-20T19:36:43.988Z"
   },
   {
    "duration": 231,
    "start_time": "2022-08-20T19:36:44.009Z"
   },
   {
    "duration": 20,
    "start_time": "2022-08-20T19:39:05.903Z"
   },
   {
    "duration": 19,
    "start_time": "2022-08-20T19:41:19.468Z"
   },
   {
    "duration": 20,
    "start_time": "2022-08-20T19:42:34.913Z"
   },
   {
    "duration": 68,
    "start_time": "2022-08-20T19:42:44.840Z"
   },
   {
    "duration": 12,
    "start_time": "2022-08-20T19:42:53.216Z"
   },
   {
    "duration": 2700,
    "start_time": "2022-08-20T19:43:05.736Z"
   },
   {
    "duration": 8,
    "start_time": "2022-08-20T19:43:08.438Z"
   },
   {
    "duration": 20,
    "start_time": "2022-08-20T19:43:08.448Z"
   },
   {
    "duration": 26,
    "start_time": "2022-08-20T19:43:08.470Z"
   },
   {
    "duration": 11,
    "start_time": "2022-08-20T19:43:08.497Z"
   },
   {
    "duration": 14,
    "start_time": "2022-08-20T19:43:08.509Z"
   },
   {
    "duration": 19,
    "start_time": "2022-08-20T19:43:08.525Z"
   },
   {
    "duration": 211,
    "start_time": "2022-08-20T19:43:08.546Z"
   },
   {
    "duration": 71,
    "start_time": "2022-08-20T19:45:39.579Z"
   },
   {
    "duration": 2651,
    "start_time": "2022-08-20T19:45:48.752Z"
   },
   {
    "duration": 8,
    "start_time": "2022-08-20T19:45:51.405Z"
   },
   {
    "duration": 14,
    "start_time": "2022-08-20T19:45:51.414Z"
   },
   {
    "duration": 21,
    "start_time": "2022-08-20T19:45:51.430Z"
   },
   {
    "duration": 6,
    "start_time": "2022-08-20T19:45:51.453Z"
   },
   {
    "duration": 26,
    "start_time": "2022-08-20T19:45:51.460Z"
   },
   {
    "duration": 28,
    "start_time": "2022-08-20T19:45:51.487Z"
   },
   {
    "duration": 229,
    "start_time": "2022-08-20T19:45:51.517Z"
   },
   {
    "duration": 2833,
    "start_time": "2022-08-20T19:50:50.667Z"
   },
   {
    "duration": 8,
    "start_time": "2022-08-20T19:50:53.501Z"
   },
   {
    "duration": 12,
    "start_time": "2022-08-20T19:50:53.510Z"
   },
   {
    "duration": 18,
    "start_time": "2022-08-20T19:50:53.523Z"
   },
   {
    "duration": 5,
    "start_time": "2022-08-20T19:50:53.542Z"
   },
   {
    "duration": 8,
    "start_time": "2022-08-20T19:50:53.548Z"
   },
   {
    "duration": 53,
    "start_time": "2022-08-20T19:50:53.557Z"
   },
   {
    "duration": 219,
    "start_time": "2022-08-20T19:50:53.612Z"
   },
   {
    "duration": 2780,
    "start_time": "2022-08-20T20:22:25.276Z"
   },
   {
    "duration": 9,
    "start_time": "2022-08-20T20:22:28.058Z"
   },
   {
    "duration": 22,
    "start_time": "2022-08-20T20:22:28.068Z"
   },
   {
    "duration": 21,
    "start_time": "2022-08-20T20:22:28.092Z"
   },
   {
    "duration": 5,
    "start_time": "2022-08-20T20:22:28.115Z"
   },
   {
    "duration": 8,
    "start_time": "2022-08-20T20:22:28.122Z"
   },
   {
    "duration": 59,
    "start_time": "2022-08-20T20:22:28.132Z"
   },
   {
    "duration": 213,
    "start_time": "2022-08-20T20:22:28.193Z"
   },
   {
    "duration": 2740,
    "start_time": "2022-08-20T20:22:48.519Z"
   },
   {
    "duration": 10,
    "start_time": "2022-08-20T20:22:51.262Z"
   },
   {
    "duration": 20,
    "start_time": "2022-08-20T20:22:51.273Z"
   },
   {
    "duration": 20,
    "start_time": "2022-08-20T20:22:51.295Z"
   },
   {
    "duration": 5,
    "start_time": "2022-08-20T20:22:51.317Z"
   },
   {
    "duration": 31,
    "start_time": "2022-08-20T20:22:51.323Z"
   },
   {
    "duration": 40,
    "start_time": "2022-08-20T20:22:51.356Z"
   },
   {
    "duration": 210,
    "start_time": "2022-08-20T20:22:51.398Z"
   },
   {
    "duration": 2720,
    "start_time": "2022-08-20T20:24:09.300Z"
   },
   {
    "duration": 8,
    "start_time": "2022-08-20T20:24:12.022Z"
   },
   {
    "duration": 24,
    "start_time": "2022-08-20T20:24:12.031Z"
   },
   {
    "duration": 19,
    "start_time": "2022-08-20T20:24:12.057Z"
   },
   {
    "duration": 8,
    "start_time": "2022-08-20T20:24:12.077Z"
   },
   {
    "duration": 11,
    "start_time": "2022-08-20T20:24:12.087Z"
   },
   {
    "duration": 70,
    "start_time": "2022-08-20T20:24:12.099Z"
   },
   {
    "duration": 194,
    "start_time": "2022-08-20T20:24:12.170Z"
   },
   {
    "duration": 2817,
    "start_time": "2022-08-20T20:24:31.395Z"
   },
   {
    "duration": 9,
    "start_time": "2022-08-20T20:24:34.213Z"
   },
   {
    "duration": 16,
    "start_time": "2022-08-20T20:24:34.223Z"
   },
   {
    "duration": 24,
    "start_time": "2022-08-20T20:24:34.240Z"
   },
   {
    "duration": 5,
    "start_time": "2022-08-20T20:24:34.266Z"
   },
   {
    "duration": 12,
    "start_time": "2022-08-20T20:24:34.273Z"
   },
   {
    "duration": 35,
    "start_time": "2022-08-20T20:24:34.286Z"
   },
   {
    "duration": 249,
    "start_time": "2022-08-20T20:24:34.323Z"
   },
   {
    "duration": 2856,
    "start_time": "2022-08-20T20:28:43.347Z"
   },
   {
    "duration": 7,
    "start_time": "2022-08-20T20:28:46.206Z"
   },
   {
    "duration": 11,
    "start_time": "2022-08-20T20:28:46.215Z"
   },
   {
    "duration": 18,
    "start_time": "2022-08-20T20:28:46.228Z"
   },
   {
    "duration": 5,
    "start_time": "2022-08-20T20:28:46.248Z"
   },
   {
    "duration": 6,
    "start_time": "2022-08-20T20:28:46.255Z"
   },
   {
    "duration": 35,
    "start_time": "2022-08-20T20:28:46.262Z"
   },
   {
    "duration": 212,
    "start_time": "2022-08-20T20:28:46.299Z"
   },
   {
    "duration": 41,
    "start_time": "2022-08-20T20:29:03.502Z"
   },
   {
    "duration": 2904,
    "start_time": "2022-08-20T20:29:30.798Z"
   },
   {
    "duration": 7,
    "start_time": "2022-08-20T20:29:33.704Z"
   },
   {
    "duration": 12,
    "start_time": "2022-08-20T20:29:33.714Z"
   },
   {
    "duration": 18,
    "start_time": "2022-08-20T20:29:33.727Z"
   },
   {
    "duration": 5,
    "start_time": "2022-08-20T20:29:33.746Z"
   },
   {
    "duration": 36,
    "start_time": "2022-08-20T20:29:33.752Z"
   },
   {
    "duration": 32,
    "start_time": "2022-08-20T20:29:33.789Z"
   },
   {
    "duration": 220,
    "start_time": "2022-08-20T20:29:33.823Z"
   },
   {
    "duration": 2847,
    "start_time": "2022-08-20T20:29:53.225Z"
   },
   {
    "duration": 9,
    "start_time": "2022-08-20T20:29:56.074Z"
   },
   {
    "duration": 19,
    "start_time": "2022-08-20T20:29:56.085Z"
   },
   {
    "duration": 24,
    "start_time": "2022-08-20T20:29:56.107Z"
   },
   {
    "duration": 6,
    "start_time": "2022-08-20T20:29:56.133Z"
   },
   {
    "duration": 20,
    "start_time": "2022-08-20T20:29:56.141Z"
   },
   {
    "duration": 55,
    "start_time": "2022-08-20T20:29:56.163Z"
   },
   {
    "duration": 236,
    "start_time": "2022-08-20T20:29:56.220Z"
   },
   {
    "duration": 21,
    "start_time": "2022-08-20T20:31:21.935Z"
   },
   {
    "duration": 77,
    "start_time": "2022-08-20T20:35:45.839Z"
   },
   {
    "duration": 11,
    "start_time": "2022-08-20T20:35:59.898Z"
   },
   {
    "duration": 20,
    "start_time": "2022-08-20T20:36:07.334Z"
   },
   {
    "duration": 237,
    "start_time": "2022-08-20T20:37:28.963Z"
   },
   {
    "duration": 14,
    "start_time": "2022-08-20T20:37:36.526Z"
   },
   {
    "duration": 23,
    "start_time": "2022-08-20T20:39:03.179Z"
   },
   {
    "duration": 30,
    "start_time": "2022-08-20T20:40:54.916Z"
   },
   {
    "duration": 68,
    "start_time": "2022-08-20T20:41:24.273Z"
   },
   {
    "duration": 40,
    "start_time": "2022-08-20T20:41:40.695Z"
   },
   {
    "duration": 70,
    "start_time": "2022-08-20T20:41:54.663Z"
   },
   {
    "duration": 111,
    "start_time": "2022-08-20T20:42:08.039Z"
   },
   {
    "duration": 2208,
    "start_time": "2022-08-20T20:42:21.842Z"
   },
   {
    "duration": 7,
    "start_time": "2022-08-20T20:42:24.052Z"
   },
   {
    "duration": 24,
    "start_time": "2022-08-20T20:42:24.061Z"
   },
   {
    "duration": 33,
    "start_time": "2022-08-20T20:42:24.087Z"
   },
   {
    "duration": 6,
    "start_time": "2022-08-20T20:42:24.122Z"
   },
   {
    "duration": 11,
    "start_time": "2022-08-20T20:42:24.130Z"
   },
   {
    "duration": 70,
    "start_time": "2022-08-20T20:42:24.143Z"
   },
   {
    "duration": 246,
    "start_time": "2022-08-20T20:42:24.219Z"
   },
   {
    "duration": 132,
    "start_time": "2022-08-20T20:42:28.037Z"
   },
   {
    "duration": 89,
    "start_time": "2022-08-20T20:43:03.848Z"
   },
   {
    "duration": 112,
    "start_time": "2022-08-20T20:46:22.820Z"
   },
   {
    "duration": 2726,
    "start_time": "2022-08-20T20:46:47.151Z"
   },
   {
    "duration": 7,
    "start_time": "2022-08-20T20:46:49.884Z"
   },
   {
    "duration": 12,
    "start_time": "2022-08-20T20:46:49.895Z"
   },
   {
    "duration": 18,
    "start_time": "2022-08-20T20:46:49.909Z"
   },
   {
    "duration": 5,
    "start_time": "2022-08-20T20:46:49.928Z"
   },
   {
    "duration": 6,
    "start_time": "2022-08-20T20:46:49.934Z"
   },
   {
    "duration": 69,
    "start_time": "2022-08-20T20:46:49.942Z"
   },
   {
    "duration": 217,
    "start_time": "2022-08-20T20:46:50.013Z"
   },
   {
    "duration": 117,
    "start_time": "2022-08-20T20:46:50.232Z"
   },
   {
    "duration": 84,
    "start_time": "2022-08-20T20:46:50.350Z"
   },
   {
    "duration": 2874,
    "start_time": "2022-08-20T21:01:39.742Z"
   },
   {
    "duration": 9,
    "start_time": "2022-08-20T21:01:42.618Z"
   },
   {
    "duration": 3,
    "start_time": "2022-08-20T21:01:42.629Z"
   },
   {
    "duration": 7,
    "start_time": "2022-08-20T21:01:42.633Z"
   },
   {
    "duration": 32,
    "start_time": "2022-08-20T21:01:42.641Z"
   },
   {
    "duration": 231,
    "start_time": "2022-08-20T21:01:42.675Z"
   },
   {
    "duration": 102,
    "start_time": "2022-08-20T21:01:42.908Z"
   },
   {
    "duration": 76,
    "start_time": "2022-08-20T21:01:43.012Z"
   },
   {
    "duration": 2711,
    "start_time": "2022-08-20T21:09:18.229Z"
   },
   {
    "duration": 8,
    "start_time": "2022-08-20T21:09:20.942Z"
   },
   {
    "duration": 3,
    "start_time": "2022-08-20T21:09:20.954Z"
   },
   {
    "duration": 15,
    "start_time": "2022-08-20T21:09:20.959Z"
   },
   {
    "duration": 21,
    "start_time": "2022-08-20T21:09:20.975Z"
   },
   {
    "duration": 196,
    "start_time": "2022-08-20T21:09:20.998Z"
   },
   {
    "duration": 69,
    "start_time": "2022-08-20T21:09:21.195Z"
   },
   {
    "duration": 81,
    "start_time": "2022-08-20T21:09:21.266Z"
   },
   {
    "duration": 2967,
    "start_time": "2022-08-20T21:10:02.973Z"
   },
   {
    "duration": 7,
    "start_time": "2022-08-20T21:10:05.942Z"
   },
   {
    "duration": 3,
    "start_time": "2022-08-20T21:10:05.950Z"
   },
   {
    "duration": 10,
    "start_time": "2022-08-20T21:10:05.954Z"
   },
   {
    "duration": 15,
    "start_time": "2022-08-20T21:10:05.966Z"
   },
   {
    "duration": 188,
    "start_time": "2022-08-20T21:10:05.984Z"
   },
   {
    "duration": 21,
    "start_time": "2022-08-20T21:10:06.173Z"
   },
   {
    "duration": 7,
    "start_time": "2022-08-20T21:13:33.799Z"
   },
   {
    "duration": 98,
    "start_time": "2022-08-20T21:15:21.276Z"
   },
   {
    "duration": 13,
    "start_time": "2022-08-20T21:15:46.005Z"
   },
   {
    "duration": 17,
    "start_time": "2022-08-20T21:16:06.507Z"
   },
   {
    "duration": 15,
    "start_time": "2022-08-20T21:16:59.454Z"
   },
   {
    "duration": 19,
    "start_time": "2022-08-20T21:18:07.904Z"
   },
   {
    "duration": 19,
    "start_time": "2022-08-20T21:19:19.477Z"
   },
   {
    "duration": 17,
    "start_time": "2022-08-20T21:20:19.992Z"
   },
   {
    "duration": 16,
    "start_time": "2022-08-20T21:20:25.223Z"
   },
   {
    "duration": 15,
    "start_time": "2022-08-20T21:20:57.224Z"
   },
   {
    "duration": 2803,
    "start_time": "2022-08-20T21:23:53.443Z"
   },
   {
    "duration": 8,
    "start_time": "2022-08-20T21:23:56.248Z"
   },
   {
    "duration": 5,
    "start_time": "2022-08-20T21:23:56.257Z"
   },
   {
    "duration": 9,
    "start_time": "2022-08-20T21:23:56.264Z"
   },
   {
    "duration": 19,
    "start_time": "2022-08-20T21:23:56.274Z"
   },
   {
    "duration": 195,
    "start_time": "2022-08-20T21:23:56.294Z"
   },
   {
    "duration": 15,
    "start_time": "2022-08-20T21:23:56.491Z"
   },
   {
    "duration": 92,
    "start_time": "2022-08-20T21:23:56.507Z"
   },
   {
    "duration": 16,
    "start_time": "2022-08-20T21:27:43.172Z"
   },
   {
    "duration": 17,
    "start_time": "2022-08-20T21:27:56.021Z"
   },
   {
    "duration": 18,
    "start_time": "2022-08-20T21:28:27.554Z"
   },
   {
    "duration": 22,
    "start_time": "2022-08-20T21:28:51.022Z"
   },
   {
    "duration": 2726,
    "start_time": "2022-08-20T21:28:58.182Z"
   },
   {
    "duration": 8,
    "start_time": "2022-08-20T21:29:00.910Z"
   },
   {
    "duration": 19,
    "start_time": "2022-08-20T21:29:00.920Z"
   },
   {
    "duration": 23,
    "start_time": "2022-08-20T21:29:00.941Z"
   },
   {
    "duration": 21,
    "start_time": "2022-08-20T21:29:00.966Z"
   },
   {
    "duration": 201,
    "start_time": "2022-08-20T21:29:00.988Z"
   },
   {
    "duration": 17,
    "start_time": "2022-08-20T21:29:01.191Z"
   },
   {
    "duration": 98,
    "start_time": "2022-08-20T21:29:01.210Z"
   },
   {
    "duration": 2087,
    "start_time": "2022-08-20T21:30:30.805Z"
   },
   {
    "duration": 10,
    "start_time": "2022-08-20T21:30:32.895Z"
   },
   {
    "duration": 4,
    "start_time": "2022-08-20T21:30:32.906Z"
   },
   {
    "duration": 8,
    "start_time": "2022-08-20T21:30:32.912Z"
   },
   {
    "duration": 17,
    "start_time": "2022-08-20T21:30:32.921Z"
   },
   {
    "duration": 224,
    "start_time": "2022-08-20T21:30:32.940Z"
   },
   {
    "duration": 24,
    "start_time": "2022-08-20T21:30:33.165Z"
   },
   {
    "duration": 56,
    "start_time": "2022-08-20T21:30:33.986Z"
   },
   {
    "duration": 71,
    "start_time": "2022-08-20T21:30:49.683Z"
   },
   {
    "duration": 25,
    "start_time": "2022-08-20T21:31:36.607Z"
   },
   {
    "duration": 23,
    "start_time": "2022-08-20T21:31:58.593Z"
   },
   {
    "duration": 2697,
    "start_time": "2022-08-20T21:36:34.975Z"
   },
   {
    "duration": 11,
    "start_time": "2022-08-20T21:36:37.674Z"
   },
   {
    "duration": 4,
    "start_time": "2022-08-20T21:36:37.687Z"
   },
   {
    "duration": 9,
    "start_time": "2022-08-20T21:36:37.693Z"
   },
   {
    "duration": 18,
    "start_time": "2022-08-20T21:36:37.703Z"
   },
   {
    "duration": 223,
    "start_time": "2022-08-20T21:36:37.723Z"
   },
   {
    "duration": 17,
    "start_time": "2022-08-20T21:36:37.948Z"
   },
   {
    "duration": 38,
    "start_time": "2022-08-20T21:36:37.967Z"
   },
   {
    "duration": 2078,
    "start_time": "2022-08-20T21:39:22.374Z"
   },
   {
    "duration": 8,
    "start_time": "2022-08-20T21:39:24.454Z"
   },
   {
    "duration": 22,
    "start_time": "2022-08-20T21:39:24.463Z"
   },
   {
    "duration": 8,
    "start_time": "2022-08-20T21:39:24.487Z"
   },
   {
    "duration": 22,
    "start_time": "2022-08-20T21:39:24.497Z"
   },
   {
    "duration": 201,
    "start_time": "2022-08-20T21:39:24.521Z"
   },
   {
    "duration": 16,
    "start_time": "2022-08-20T21:39:24.724Z"
   },
   {
    "duration": 93,
    "start_time": "2022-08-20T21:39:24.742Z"
   },
   {
    "duration": 21,
    "start_time": "2022-08-20T21:41:01.322Z"
   },
   {
    "duration": 2092,
    "start_time": "2022-08-20T21:41:10.387Z"
   },
   {
    "duration": 9,
    "start_time": "2022-08-20T21:41:12.481Z"
   },
   {
    "duration": 5,
    "start_time": "2022-08-20T21:41:12.492Z"
   },
   {
    "duration": 9,
    "start_time": "2022-08-20T21:41:12.498Z"
   },
   {
    "duration": 16,
    "start_time": "2022-08-20T21:41:12.509Z"
   },
   {
    "duration": 215,
    "start_time": "2022-08-20T21:41:12.526Z"
   },
   {
    "duration": 14,
    "start_time": "2022-08-20T21:41:12.743Z"
   },
   {
    "duration": 23,
    "start_time": "2022-08-20T21:41:12.969Z"
   },
   {
    "duration": 17,
    "start_time": "2022-08-20T22:05:29.718Z"
   },
   {
    "duration": 20,
    "start_time": "2022-08-20T22:36:23.997Z"
   },
   {
    "duration": 21,
    "start_time": "2022-08-20T22:36:53.738Z"
   },
   {
    "duration": 17,
    "start_time": "2022-08-20T22:37:27.415Z"
   },
   {
    "duration": 17,
    "start_time": "2022-08-20T22:37:34.327Z"
   },
   {
    "duration": 21,
    "start_time": "2022-08-20T22:37:41.394Z"
   },
   {
    "duration": 24,
    "start_time": "2022-08-20T22:38:00.127Z"
   },
   {
    "duration": 20,
    "start_time": "2022-08-20T22:38:08.471Z"
   },
   {
    "duration": 24,
    "start_time": "2022-08-20T22:38:14.168Z"
   },
   {
    "duration": 16,
    "start_time": "2022-08-20T22:38:43.838Z"
   },
   {
    "duration": 18,
    "start_time": "2022-08-20T22:39:00.671Z"
   },
   {
    "duration": 22,
    "start_time": "2022-08-20T22:39:11.537Z"
   },
   {
    "duration": 2648,
    "start_time": "2022-08-20T22:39:37.632Z"
   },
   {
    "duration": 9,
    "start_time": "2022-08-20T22:39:40.282Z"
   },
   {
    "duration": 4,
    "start_time": "2022-08-20T22:39:40.292Z"
   },
   {
    "duration": 12,
    "start_time": "2022-08-20T22:39:40.298Z"
   },
   {
    "duration": 18,
    "start_time": "2022-08-20T22:39:40.313Z"
   },
   {
    "duration": 224,
    "start_time": "2022-08-20T22:39:40.333Z"
   },
   {
    "duration": 27,
    "start_time": "2022-08-20T22:39:40.559Z"
   },
   {
    "duration": 25,
    "start_time": "2022-08-20T22:39:40.588Z"
   },
   {
    "duration": 66,
    "start_time": "2022-08-20T22:40:46.114Z"
   },
   {
    "duration": 17,
    "start_time": "2022-08-20T22:40:59.411Z"
   },
   {
    "duration": 7,
    "start_time": "2022-08-20T22:41:33.672Z"
   },
   {
    "duration": 6,
    "start_time": "2022-08-20T22:41:40.370Z"
   },
   {
    "duration": 7,
    "start_time": "2022-08-20T22:41:49.486Z"
   },
   {
    "duration": 608,
    "start_time": "2022-08-20T22:41:54.811Z"
   },
   {
    "duration": 7,
    "start_time": "2022-08-20T22:42:04.129Z"
   },
   {
    "duration": 6,
    "start_time": "2022-08-20T22:42:09.789Z"
   },
   {
    "duration": 11,
    "start_time": "2022-08-20T22:42:13.021Z"
   },
   {
    "duration": 35,
    "start_time": "2022-08-20T22:42:15.011Z"
   },
   {
    "duration": 7,
    "start_time": "2022-08-20T22:42:24.012Z"
   },
   {
    "duration": 17,
    "start_time": "2022-08-20T22:42:34.588Z"
   },
   {
    "duration": 7,
    "start_time": "2022-08-20T22:53:52.000Z"
   },
   {
    "duration": 9,
    "start_time": "2022-08-20T22:54:09.425Z"
   },
   {
    "duration": 5,
    "start_time": "2022-08-20T22:54:20.263Z"
   },
   {
    "duration": 6,
    "start_time": "2022-08-20T22:54:39.728Z"
   },
   {
    "duration": 20,
    "start_time": "2022-08-20T23:01:31.554Z"
   },
   {
    "duration": 34,
    "start_time": "2022-08-20T23:01:56.185Z"
   },
   {
    "duration": 33,
    "start_time": "2022-08-20T23:02:05.786Z"
   },
   {
    "duration": 69,
    "start_time": "2022-08-20T23:08:07.493Z"
   },
   {
    "duration": 53,
    "start_time": "2022-08-20T23:09:07.222Z"
   },
   {
    "duration": 79,
    "start_time": "2022-08-20T23:09:12.744Z"
   },
   {
    "duration": 58,
    "start_time": "2022-08-20T23:09:34.352Z"
   },
   {
    "duration": 85,
    "start_time": "2022-08-20T23:12:55.637Z"
   },
   {
    "duration": 60,
    "start_time": "2022-08-20T23:13:13.626Z"
   },
   {
    "duration": 65,
    "start_time": "2022-08-20T23:13:53.662Z"
   },
   {
    "duration": 68,
    "start_time": "2022-08-20T23:14:26.237Z"
   },
   {
    "duration": 24,
    "start_time": "2022-08-20T23:14:39.653Z"
   },
   {
    "duration": 23,
    "start_time": "2022-08-20T23:14:52.522Z"
   },
   {
    "duration": 31,
    "start_time": "2022-08-20T23:15:02.290Z"
   },
   {
    "duration": 18,
    "start_time": "2022-08-20T23:15:07.537Z"
   },
   {
    "duration": 12,
    "start_time": "2022-08-20T23:15:11.132Z"
   },
   {
    "duration": 11,
    "start_time": "2022-08-20T23:15:23.286Z"
   },
   {
    "duration": 11,
    "start_time": "2022-08-20T23:15:58.942Z"
   },
   {
    "duration": 11,
    "start_time": "2022-08-20T23:16:02.425Z"
   },
   {
    "duration": 10,
    "start_time": "2022-08-20T23:16:08.829Z"
   },
   {
    "duration": 11,
    "start_time": "2022-08-20T23:16:10.949Z"
   },
   {
    "duration": 12,
    "start_time": "2022-08-20T23:16:14.074Z"
   },
   {
    "duration": 22,
    "start_time": "2022-08-20T23:16:24.420Z"
   },
   {
    "duration": 23,
    "start_time": "2022-08-20T23:16:36.575Z"
   },
   {
    "duration": 74,
    "start_time": "2022-08-20T23:16:55.192Z"
   },
   {
    "duration": 12,
    "start_time": "2022-08-20T23:16:59.119Z"
   },
   {
    "duration": 13,
    "start_time": "2022-08-20T23:17:16.133Z"
   },
   {
    "duration": 13,
    "start_time": "2022-08-20T23:17:23.651Z"
   },
   {
    "duration": 12,
    "start_time": "2022-08-20T23:17:27.258Z"
   },
   {
    "duration": 13,
    "start_time": "2022-08-20T23:17:32.505Z"
   },
   {
    "duration": 12,
    "start_time": "2022-08-20T23:17:35.529Z"
   },
   {
    "duration": 17,
    "start_time": "2022-08-20T23:17:41.617Z"
   },
   {
    "duration": 18,
    "start_time": "2022-08-20T23:17:46.890Z"
   },
   {
    "duration": 14,
    "start_time": "2022-08-20T23:18:01.388Z"
   },
   {
    "duration": 13,
    "start_time": "2022-08-20T23:18:16.862Z"
   },
   {
    "duration": 19,
    "start_time": "2022-08-20T23:18:30.286Z"
   },
   {
    "duration": 16,
    "start_time": "2022-08-20T23:18:35.665Z"
   },
   {
    "duration": 12,
    "start_time": "2022-08-20T23:18:53.819Z"
   },
   {
    "duration": 13,
    "start_time": "2022-08-20T23:19:08.561Z"
   },
   {
    "duration": 25,
    "start_time": "2022-08-20T23:22:30.786Z"
   },
   {
    "duration": 10280,
    "start_time": "2022-08-20T23:22:47.916Z"
   },
   {
    "duration": 10638,
    "start_time": "2022-08-20T23:23:03.645Z"
   },
   {
    "duration": 2731,
    "start_time": "2022-08-20T23:23:51.828Z"
   },
   {
    "duration": 8,
    "start_time": "2022-08-20T23:23:54.561Z"
   },
   {
    "duration": 3,
    "start_time": "2022-08-20T23:23:54.570Z"
   },
   {
    "duration": 14,
    "start_time": "2022-08-20T23:23:54.575Z"
   },
   {
    "duration": 17,
    "start_time": "2022-08-20T23:23:54.590Z"
   },
   {
    "duration": 194,
    "start_time": "2022-08-20T23:23:54.609Z"
   },
   {
    "duration": 16,
    "start_time": "2022-08-20T23:23:54.805Z"
   },
   {
    "duration": 24,
    "start_time": "2022-08-20T23:23:54.823Z"
   },
   {
    "duration": 10213,
    "start_time": "2022-08-20T23:24:14.924Z"
   },
   {
    "duration": 2055,
    "start_time": "2022-08-20T23:27:23.466Z"
   },
   {
    "duration": 8,
    "start_time": "2022-08-20T23:27:25.523Z"
   },
   {
    "duration": 5,
    "start_time": "2022-08-20T23:27:25.532Z"
   },
   {
    "duration": 9,
    "start_time": "2022-08-20T23:27:25.539Z"
   },
   {
    "duration": 40,
    "start_time": "2022-08-20T23:27:25.549Z"
   },
   {
    "duration": 181,
    "start_time": "2022-08-20T23:27:25.591Z"
   },
   {
    "duration": 21,
    "start_time": "2022-08-20T23:27:25.774Z"
   },
   {
    "duration": 21,
    "start_time": "2022-08-20T23:27:25.797Z"
   },
   {
    "duration": 9945,
    "start_time": "2022-08-20T23:27:25.819Z"
   },
   {
    "duration": 10476,
    "start_time": "2022-08-20T23:27:35.766Z"
   },
   {
    "duration": 66,
    "start_time": "2022-08-20T23:29:10.284Z"
   },
   {
    "duration": 10,
    "start_time": "2022-08-20T23:29:14.596Z"
   },
   {
    "duration": 10565,
    "start_time": "2022-08-20T23:29:37.046Z"
   },
   {
    "duration": 10504,
    "start_time": "2022-08-20T23:30:33.614Z"
   },
   {
    "duration": 2671,
    "start_time": "2022-08-20T23:30:46.713Z"
   },
   {
    "duration": 8,
    "start_time": "2022-08-20T23:30:49.385Z"
   },
   {
    "duration": 6,
    "start_time": "2022-08-20T23:30:49.394Z"
   },
   {
    "duration": 8,
    "start_time": "2022-08-20T23:30:49.402Z"
   },
   {
    "duration": 15,
    "start_time": "2022-08-20T23:30:49.412Z"
   },
   {
    "duration": 197,
    "start_time": "2022-08-20T23:30:49.429Z"
   },
   {
    "duration": 15,
    "start_time": "2022-08-20T23:30:49.628Z"
   },
   {
    "duration": 20,
    "start_time": "2022-08-20T23:30:49.645Z"
   },
   {
    "duration": 9885,
    "start_time": "2022-08-20T23:30:49.685Z"
   },
   {
    "duration": 2716,
    "start_time": "2022-08-20T23:32:18.652Z"
   },
   {
    "duration": 7,
    "start_time": "2022-08-20T23:32:21.370Z"
   },
   {
    "duration": 3,
    "start_time": "2022-08-20T23:32:21.378Z"
   },
   {
    "duration": 7,
    "start_time": "2022-08-20T23:32:21.383Z"
   },
   {
    "duration": 27,
    "start_time": "2022-08-20T23:32:21.392Z"
   },
   {
    "duration": 179,
    "start_time": "2022-08-20T23:32:21.421Z"
   },
   {
    "duration": 16,
    "start_time": "2022-08-20T23:32:21.601Z"
   },
   {
    "duration": 21,
    "start_time": "2022-08-20T23:32:21.619Z"
   },
   {
    "duration": 9955,
    "start_time": "2022-08-20T23:32:21.641Z"
   },
   {
    "duration": 10375,
    "start_time": "2022-08-20T23:32:55.398Z"
   },
   {
    "duration": 10412,
    "start_time": "2022-08-20T23:33:07.312Z"
   },
   {
    "duration": 10527,
    "start_time": "2022-08-20T23:34:02.312Z"
   },
   {
    "duration": 10555,
    "start_time": "2022-08-20T23:35:58.196Z"
   },
   {
    "duration": 875,
    "start_time": "2022-08-20T23:38:14.143Z"
   },
   {
    "duration": 6,
    "start_time": "2022-08-20T23:38:21.599Z"
   },
   {
    "duration": 6,
    "start_time": "2022-08-20T23:38:29.216Z"
   },
   {
    "duration": 8,
    "start_time": "2022-08-20T23:38:35.788Z"
   },
   {
    "duration": 14,
    "start_time": "2022-08-20T23:40:25.521Z"
   },
   {
    "duration": 13,
    "start_time": "2022-08-20T23:42:48.750Z"
   },
   {
    "duration": 241,
    "start_time": "2022-08-20T23:44:10.110Z"
   },
   {
    "duration": 19,
    "start_time": "2022-08-20T23:44:19.343Z"
   },
   {
    "duration": 15,
    "start_time": "2022-08-20T23:44:38.133Z"
   },
   {
    "duration": 15,
    "start_time": "2022-08-20T23:44:49.060Z"
   },
   {
    "duration": 17,
    "start_time": "2022-08-20T23:44:53.188Z"
   },
   {
    "duration": 15,
    "start_time": "2022-08-20T23:45:01.752Z"
   },
   {
    "duration": 16,
    "start_time": "2022-08-20T23:45:09.686Z"
   },
   {
    "duration": 2177,
    "start_time": "2022-08-20T23:45:12.214Z"
   },
   {
    "duration": 7,
    "start_time": "2022-08-20T23:45:14.393Z"
   },
   {
    "duration": 5,
    "start_time": "2022-08-20T23:45:14.402Z"
   },
   {
    "duration": 10,
    "start_time": "2022-08-20T23:45:14.408Z"
   },
   {
    "duration": 30,
    "start_time": "2022-08-20T23:45:14.420Z"
   },
   {
    "duration": 214,
    "start_time": "2022-08-20T23:45:14.485Z"
   },
   {
    "duration": 17,
    "start_time": "2022-08-20T23:45:14.701Z"
   },
   {
    "duration": 20,
    "start_time": "2022-08-20T23:45:14.719Z"
   },
   {
    "duration": 10447,
    "start_time": "2022-08-20T23:45:14.741Z"
   },
   {
    "duration": 29,
    "start_time": "2022-08-20T23:45:25.205Z"
   },
   {
    "duration": 14,
    "start_time": "2022-08-20T23:45:38.633Z"
   },
   {
    "duration": 2780,
    "start_time": "2022-08-20T23:46:37.444Z"
   },
   {
    "duration": 8,
    "start_time": "2022-08-20T23:46:40.226Z"
   },
   {
    "duration": 17,
    "start_time": "2022-08-20T23:46:40.235Z"
   },
   {
    "duration": 14,
    "start_time": "2022-08-20T23:46:40.254Z"
   },
   {
    "duration": 31,
    "start_time": "2022-08-20T23:46:40.271Z"
   },
   {
    "duration": 205,
    "start_time": "2022-08-20T23:46:40.304Z"
   },
   {
    "duration": 17,
    "start_time": "2022-08-20T23:46:40.510Z"
   },
   {
    "duration": 21,
    "start_time": "2022-08-20T23:46:40.529Z"
   },
   {
    "duration": 10101,
    "start_time": "2022-08-20T23:46:40.552Z"
   },
   {
    "duration": 17,
    "start_time": "2022-08-20T23:46:50.654Z"
   },
   {
    "duration": 13,
    "start_time": "2022-08-21T00:09:51.059Z"
   },
   {
    "duration": 4,
    "start_time": "2022-08-21T00:10:21.170Z"
   },
   {
    "duration": 4,
    "start_time": "2022-08-21T00:10:26.227Z"
   },
   {
    "duration": 5,
    "start_time": "2022-08-21T00:10:37.620Z"
   },
   {
    "duration": 4,
    "start_time": "2022-08-21T00:10:48.899Z"
   },
   {
    "duration": 4,
    "start_time": "2022-08-21T00:11:37.490Z"
   },
   {
    "duration": 8,
    "start_time": "2022-08-21T00:11:53.423Z"
   },
   {
    "duration": 7,
    "start_time": "2022-08-21T00:11:59.160Z"
   },
   {
    "duration": 10,
    "start_time": "2022-08-21T00:12:40.010Z"
   },
   {
    "duration": 2630,
    "start_time": "2022-08-21T00:13:10.668Z"
   },
   {
    "duration": 2636,
    "start_time": "2022-08-21T00:15:24.800Z"
   },
   {
    "duration": 2574,
    "start_time": "2022-08-21T00:15:32.340Z"
   },
   {
    "duration": 2530,
    "start_time": "2022-08-21T00:16:12.888Z"
   },
   {
    "duration": 5390,
    "start_time": "2022-08-21T00:16:51.322Z"
   },
   {
    "duration": 2676,
    "start_time": "2022-08-21T00:17:26.346Z"
   },
   {
    "duration": 2441,
    "start_time": "2022-08-21T00:17:46.753Z"
   },
   {
    "duration": 2109,
    "start_time": "2022-08-21T00:17:53.550Z"
   },
   {
    "duration": 8,
    "start_time": "2022-08-21T00:17:55.661Z"
   },
   {
    "duration": 16,
    "start_time": "2022-08-21T00:17:55.670Z"
   },
   {
    "duration": 8,
    "start_time": "2022-08-21T00:17:55.687Z"
   },
   {
    "duration": 15,
    "start_time": "2022-08-21T00:17:55.696Z"
   },
   {
    "duration": 194,
    "start_time": "2022-08-21T00:17:55.712Z"
   },
   {
    "duration": 15,
    "start_time": "2022-08-21T00:17:55.908Z"
   },
   {
    "duration": 17,
    "start_time": "2022-08-21T00:17:55.925Z"
   },
   {
    "duration": 10117,
    "start_time": "2022-08-21T00:17:55.944Z"
   },
   {
    "duration": 22,
    "start_time": "2022-08-21T00:18:06.063Z"
   },
   {
    "duration": 13,
    "start_time": "2022-08-21T00:18:06.087Z"
   },
   {
    "duration": 2527,
    "start_time": "2022-08-21T00:18:10.467Z"
   },
   {
    "duration": 5,
    "start_time": "2022-08-21T00:20:13.823Z"
   },
   {
    "duration": 8,
    "start_time": "2022-08-21T00:20:33.949Z"
   },
   {
    "duration": 6,
    "start_time": "2022-08-21T00:20:40.543Z"
   },
   {
    "duration": 239,
    "start_time": "2022-08-21T00:20:54.298Z"
   },
   {
    "duration": 780,
    "start_time": "2022-08-21T00:21:15.857Z"
   },
   {
    "duration": 152,
    "start_time": "2022-08-21T00:21:19.756Z"
   },
   {
    "duration": 8,
    "start_time": "2022-08-21T00:21:40.196Z"
   },
   {
    "duration": 12,
    "start_time": "2022-08-21T00:22:03.904Z"
   },
   {
    "duration": 163,
    "start_time": "2022-08-21T00:22:14.748Z"
   },
   {
    "duration": 8,
    "start_time": "2022-08-21T00:22:25.155Z"
   },
   {
    "duration": 85,
    "start_time": "2022-08-21T00:22:47.209Z"
   },
   {
    "duration": 80,
    "start_time": "2022-08-21T00:23:28.024Z"
   },
   {
    "duration": 10,
    "start_time": "2022-08-21T00:23:43.224Z"
   },
   {
    "duration": 1012,
    "start_time": "2022-08-21T00:23:57.083Z"
   },
   {
    "duration": 909,
    "start_time": "2022-08-21T00:24:46.492Z"
   },
   {
    "duration": 878,
    "start_time": "2022-08-21T00:25:03.207Z"
   },
   {
    "duration": 10,
    "start_time": "2022-08-21T00:25:59.879Z"
   },
   {
    "duration": 115,
    "start_time": "2022-08-21T00:26:08.287Z"
   },
   {
    "duration": 13,
    "start_time": "2022-08-21T00:27:07.726Z"
   },
   {
    "duration": 15,
    "start_time": "2022-08-21T00:27:11.324Z"
   },
   {
    "duration": 107,
    "start_time": "2022-08-21T00:27:14.195Z"
   },
   {
    "duration": 13,
    "start_time": "2022-08-21T00:27:18.113Z"
   },
   {
    "duration": 18,
    "start_time": "2022-08-21T00:27:21.233Z"
   },
   {
    "duration": 78,
    "start_time": "2022-08-21T00:27:23.245Z"
   },
   {
    "duration": 13,
    "start_time": "2022-08-21T00:27:42.020Z"
   },
   {
    "duration": 1840,
    "start_time": "2022-08-21T00:27:47.161Z"
   },
   {
    "duration": 14,
    "start_time": "2022-08-21T00:27:57.748Z"
   },
   {
    "duration": 103,
    "start_time": "2022-08-21T00:28:33.007Z"
   },
   {
    "duration": 91,
    "start_time": "2022-08-21T00:28:57.844Z"
   },
   {
    "duration": 11,
    "start_time": "2022-08-21T00:29:07.752Z"
   },
   {
    "duration": 124,
    "start_time": "2022-08-21T00:29:14.565Z"
   },
   {
    "duration": 139,
    "start_time": "2022-08-21T00:29:30.269Z"
   },
   {
    "duration": 8,
    "start_time": "2022-08-21T00:31:00.643Z"
   },
   {
    "duration": 3281,
    "start_time": "2022-08-21T11:02:25.674Z"
   },
   {
    "duration": 8,
    "start_time": "2022-08-21T11:02:28.957Z"
   },
   {
    "duration": 4,
    "start_time": "2022-08-21T11:02:28.966Z"
   },
   {
    "duration": 14,
    "start_time": "2022-08-21T11:02:28.971Z"
   },
   {
    "duration": 16,
    "start_time": "2022-08-21T11:02:28.987Z"
   },
   {
    "duration": 196,
    "start_time": "2022-08-21T11:02:29.005Z"
   },
   {
    "duration": 16,
    "start_time": "2022-08-21T11:02:29.203Z"
   },
   {
    "duration": 21,
    "start_time": "2022-08-21T11:02:29.221Z"
   },
   {
    "duration": 27,
    "start_time": "2022-08-21T11:02:32.740Z"
   },
   {
    "duration": 17,
    "start_time": "2022-08-21T11:02:46.232Z"
   },
   {
    "duration": 23,
    "start_time": "2022-08-21T11:05:46.281Z"
   },
   {
    "duration": 2097,
    "start_time": "2022-08-21T11:07:08.376Z"
   },
   {
    "duration": 12,
    "start_time": "2022-08-21T11:07:10.475Z"
   },
   {
    "duration": 5,
    "start_time": "2022-08-21T11:07:10.489Z"
   },
   {
    "duration": 8,
    "start_time": "2022-08-21T11:07:10.496Z"
   },
   {
    "duration": 16,
    "start_time": "2022-08-21T11:07:10.506Z"
   },
   {
    "duration": 195,
    "start_time": "2022-08-21T11:07:10.523Z"
   },
   {
    "duration": 15,
    "start_time": "2022-08-21T11:07:10.719Z"
   },
   {
    "duration": 18,
    "start_time": "2022-08-21T11:07:10.735Z"
   },
   {
    "duration": 45,
    "start_time": "2022-08-21T11:07:10.754Z"
   },
   {
    "duration": 7,
    "start_time": "2022-08-21T11:07:10.800Z"
   },
   {
    "duration": 16,
    "start_time": "2022-08-21T11:07:10.809Z"
   },
   {
    "duration": 9,
    "start_time": "2022-08-21T11:07:10.826Z"
   },
   {
    "duration": 5,
    "start_time": "2022-08-21T11:08:04.050Z"
   },
   {
    "duration": 14,
    "start_time": "2022-08-21T11:08:11.405Z"
   },
   {
    "duration": 5,
    "start_time": "2022-08-21T11:08:41.369Z"
   },
   {
    "duration": 32,
    "start_time": "2022-08-21T11:09:16.570Z"
   },
   {
    "duration": 22,
    "start_time": "2022-08-21T11:12:35.566Z"
   },
   {
    "duration": 35,
    "start_time": "2022-08-21T11:23:54.364Z"
   },
   {
    "duration": 40,
    "start_time": "2022-08-21T11:24:03.539Z"
   },
   {
    "duration": 42,
    "start_time": "2022-08-21T11:24:26.219Z"
   },
   {
    "duration": 902,
    "start_time": "2022-08-21T11:24:49.456Z"
   },
   {
    "duration": 1208,
    "start_time": "2022-08-21T11:25:03.264Z"
   },
   {
    "duration": 43,
    "start_time": "2022-08-21T11:25:08.764Z"
   },
   {
    "duration": 55,
    "start_time": "2022-08-21T11:25:32.098Z"
   },
   {
    "duration": 68,
    "start_time": "2022-08-21T11:49:45.825Z"
   },
   {
    "duration": 70,
    "start_time": "2022-08-21T11:49:50.630Z"
   },
   {
    "duration": 51,
    "start_time": "2022-08-21T11:49:54.829Z"
   },
   {
    "duration": 58,
    "start_time": "2022-08-21T11:50:02.832Z"
   },
   {
    "duration": 46,
    "start_time": "2022-08-21T11:51:06.181Z"
   },
   {
    "duration": 62,
    "start_time": "2022-08-21T11:57:09.703Z"
   },
   {
    "duration": 321,
    "start_time": "2022-08-21T11:57:13.111Z"
   },
   {
    "duration": 506,
    "start_time": "2022-08-21T11:58:16.274Z"
   },
   {
    "duration": 335,
    "start_time": "2022-08-21T12:00:08.032Z"
   },
   {
    "duration": 601,
    "start_time": "2022-08-21T12:02:40.397Z"
   },
   {
    "duration": 311,
    "start_time": "2022-08-21T12:03:28.370Z"
   },
   {
    "duration": 32,
    "start_time": "2022-08-21T12:07:21.941Z"
   },
   {
    "duration": 39,
    "start_time": "2022-08-21T12:08:12.172Z"
   },
   {
    "duration": 34,
    "start_time": "2022-08-21T12:08:17.378Z"
   },
   {
    "duration": 14,
    "start_time": "2022-08-21T12:08:27.659Z"
   },
   {
    "duration": 139,
    "start_time": "2022-08-21T12:11:53.131Z"
   },
   {
    "duration": 325,
    "start_time": "2022-08-21T12:12:05.771Z"
   },
   {
    "duration": 207,
    "start_time": "2022-08-21T12:12:28.600Z"
   },
   {
    "duration": 236,
    "start_time": "2022-08-21T12:12:39.269Z"
   },
   {
    "duration": 772,
    "start_time": "2022-08-21T12:15:03.738Z"
   },
   {
    "duration": 2734,
    "start_time": "2022-08-21T12:15:09.826Z"
   },
   {
    "duration": 8,
    "start_time": "2022-08-21T12:15:12.561Z"
   },
   {
    "duration": 4,
    "start_time": "2022-08-21T12:15:12.570Z"
   },
   {
    "duration": 12,
    "start_time": "2022-08-21T12:15:12.576Z"
   },
   {
    "duration": 15,
    "start_time": "2022-08-21T12:15:12.589Z"
   },
   {
    "duration": 204,
    "start_time": "2022-08-21T12:15:12.605Z"
   },
   {
    "duration": 16,
    "start_time": "2022-08-21T12:15:12.810Z"
   },
   {
    "duration": 27,
    "start_time": "2022-08-21T12:15:12.828Z"
   },
   {
    "duration": 48,
    "start_time": "2022-08-21T12:15:12.857Z"
   },
   {
    "duration": 9,
    "start_time": "2022-08-21T12:15:12.908Z"
   },
   {
    "duration": 19,
    "start_time": "2022-08-21T12:15:12.918Z"
   },
   {
    "duration": 8,
    "start_time": "2022-08-21T12:15:12.939Z"
   },
   {
    "duration": 388,
    "start_time": "2022-08-21T12:15:12.949Z"
   },
   {
    "duration": 0,
    "start_time": "2022-08-21T12:15:13.339Z"
   },
   {
    "duration": 2864,
    "start_time": "2022-08-21T12:15:22.812Z"
   },
   {
    "duration": 10,
    "start_time": "2022-08-21T12:15:25.678Z"
   },
   {
    "duration": 21,
    "start_time": "2022-08-21T12:15:25.689Z"
   },
   {
    "duration": 11,
    "start_time": "2022-08-21T12:15:25.713Z"
   },
   {
    "duration": 18,
    "start_time": "2022-08-21T12:15:25.726Z"
   },
   {
    "duration": 198,
    "start_time": "2022-08-21T12:15:25.746Z"
   },
   {
    "duration": 15,
    "start_time": "2022-08-21T12:15:25.946Z"
   },
   {
    "duration": 33,
    "start_time": "2022-08-21T12:15:25.962Z"
   },
   {
    "duration": 23,
    "start_time": "2022-08-21T12:15:25.997Z"
   },
   {
    "duration": 8,
    "start_time": "2022-08-21T12:15:26.022Z"
   },
   {
    "duration": 13,
    "start_time": "2022-08-21T12:15:26.031Z"
   },
   {
    "duration": 8,
    "start_time": "2022-08-21T12:15:26.046Z"
   },
   {
    "duration": 377,
    "start_time": "2022-08-21T12:15:26.084Z"
   },
   {
    "duration": 0,
    "start_time": "2022-08-21T12:15:26.463Z"
   },
   {
    "duration": 2149,
    "start_time": "2022-08-21T12:15:31.675Z"
   },
   {
    "duration": 7,
    "start_time": "2022-08-21T12:15:33.827Z"
   },
   {
    "duration": 5,
    "start_time": "2022-08-21T12:15:33.835Z"
   },
   {
    "duration": 8,
    "start_time": "2022-08-21T12:15:33.842Z"
   },
   {
    "duration": 36,
    "start_time": "2022-08-21T12:15:33.852Z"
   },
   {
    "duration": 196,
    "start_time": "2022-08-21T12:15:33.890Z"
   },
   {
    "duration": 17,
    "start_time": "2022-08-21T12:15:34.087Z"
   },
   {
    "duration": 20,
    "start_time": "2022-08-21T12:15:34.106Z"
   },
   {
    "duration": 24,
    "start_time": "2022-08-21T12:15:34.128Z"
   },
   {
    "duration": 36,
    "start_time": "2022-08-21T12:15:34.154Z"
   },
   {
    "duration": 15,
    "start_time": "2022-08-21T12:15:34.192Z"
   },
   {
    "duration": 8,
    "start_time": "2022-08-21T12:15:34.208Z"
   },
   {
    "duration": 410,
    "start_time": "2022-08-21T12:15:36.985Z"
   },
   {
    "duration": 370,
    "start_time": "2022-08-21T12:18:01.014Z"
   },
   {
    "duration": 2765,
    "start_time": "2022-08-21T12:18:18.850Z"
   },
   {
    "duration": 8,
    "start_time": "2022-08-21T12:18:21.617Z"
   },
   {
    "duration": 12,
    "start_time": "2022-08-21T12:18:21.626Z"
   },
   {
    "duration": 14,
    "start_time": "2022-08-21T12:18:21.640Z"
   },
   {
    "duration": 16,
    "start_time": "2022-08-21T12:18:21.655Z"
   },
   {
    "duration": 184,
    "start_time": "2022-08-21T12:18:21.673Z"
   },
   {
    "duration": 17,
    "start_time": "2022-08-21T12:18:21.858Z"
   },
   {
    "duration": 22,
    "start_time": "2022-08-21T12:18:21.884Z"
   },
   {
    "duration": 25,
    "start_time": "2022-08-21T12:18:21.908Z"
   },
   {
    "duration": 8,
    "start_time": "2022-08-21T12:18:21.935Z"
   },
   {
    "duration": 40,
    "start_time": "2022-08-21T12:18:21.945Z"
   },
   {
    "duration": 8,
    "start_time": "2022-08-21T12:18:21.987Z"
   },
   {
    "duration": 353,
    "start_time": "2022-08-21T12:18:21.996Z"
   },
   {
    "duration": 0,
    "start_time": "2022-08-21T12:18:22.351Z"
   },
   {
    "duration": 350,
    "start_time": "2022-08-21T12:20:58.201Z"
   },
   {
    "duration": 300,
    "start_time": "2022-08-21T12:21:09.664Z"
   },
   {
    "duration": 308,
    "start_time": "2022-08-21T12:22:31.338Z"
   },
   {
    "duration": 279,
    "start_time": "2022-08-21T12:22:50.157Z"
   },
   {
    "duration": 415,
    "start_time": "2022-08-21T12:23:02.027Z"
   },
   {
    "duration": 2707,
    "start_time": "2022-08-21T12:23:48.745Z"
   },
   {
    "duration": 8,
    "start_time": "2022-08-21T12:23:51.455Z"
   },
   {
    "duration": 4,
    "start_time": "2022-08-21T12:23:51.465Z"
   },
   {
    "duration": 8,
    "start_time": "2022-08-21T12:23:51.471Z"
   },
   {
    "duration": 16,
    "start_time": "2022-08-21T12:23:51.481Z"
   },
   {
    "duration": 195,
    "start_time": "2022-08-21T12:23:51.499Z"
   },
   {
    "duration": 18,
    "start_time": "2022-08-21T12:23:51.695Z"
   },
   {
    "duration": 21,
    "start_time": "2022-08-21T12:23:51.715Z"
   },
   {
    "duration": 47,
    "start_time": "2022-08-21T12:23:51.738Z"
   },
   {
    "duration": 7,
    "start_time": "2022-08-21T12:23:51.786Z"
   },
   {
    "duration": 17,
    "start_time": "2022-08-21T12:23:51.794Z"
   },
   {
    "duration": 11,
    "start_time": "2022-08-21T12:23:51.814Z"
   },
   {
    "duration": 401,
    "start_time": "2022-08-21T12:23:51.827Z"
   },
   {
    "duration": 0,
    "start_time": "2022-08-21T12:23:52.231Z"
   },
   {
    "duration": 478,
    "start_time": "2022-08-21T12:24:29.495Z"
   },
   {
    "duration": 6203,
    "start_time": "2022-08-21T12:26:13.530Z"
   },
   {
    "duration": 6716,
    "start_time": "2022-08-21T12:26:34.395Z"
   },
   {
    "duration": 2864,
    "start_time": "2022-08-21T12:27:52.224Z"
   },
   {
    "duration": 7,
    "start_time": "2022-08-21T12:27:55.090Z"
   },
   {
    "duration": 8,
    "start_time": "2022-08-21T12:27:55.098Z"
   },
   {
    "duration": 8,
    "start_time": "2022-08-21T12:27:55.108Z"
   },
   {
    "duration": 16,
    "start_time": "2022-08-21T12:27:55.118Z"
   },
   {
    "duration": 190,
    "start_time": "2022-08-21T12:27:55.135Z"
   },
   {
    "duration": 15,
    "start_time": "2022-08-21T12:27:55.326Z"
   },
   {
    "duration": 21,
    "start_time": "2022-08-21T12:27:55.342Z"
   },
   {
    "duration": 39,
    "start_time": "2022-08-21T12:27:55.365Z"
   },
   {
    "duration": 8,
    "start_time": "2022-08-21T12:27:55.406Z"
   },
   {
    "duration": 12,
    "start_time": "2022-08-21T12:27:55.416Z"
   },
   {
    "duration": 8,
    "start_time": "2022-08-21T12:27:55.430Z"
   },
   {
    "duration": 6417,
    "start_time": "2022-08-21T12:27:55.440Z"
   },
   {
    "duration": 250,
    "start_time": "2022-08-21T12:28:01.858Z"
   },
   {
    "duration": 371,
    "start_time": "2022-08-21T12:28:03.281Z"
   },
   {
    "duration": 397,
    "start_time": "2022-08-21T12:28:30.506Z"
   },
   {
    "duration": 373,
    "start_time": "2022-08-21T12:30:18.420Z"
   },
   {
    "duration": 2690,
    "start_time": "2022-08-21T12:30:45.921Z"
   },
   {
    "duration": 7,
    "start_time": "2022-08-21T12:30:48.613Z"
   },
   {
    "duration": 5,
    "start_time": "2022-08-21T12:30:48.622Z"
   },
   {
    "duration": 8,
    "start_time": "2022-08-21T12:30:48.628Z"
   },
   {
    "duration": 16,
    "start_time": "2022-08-21T12:30:48.637Z"
   },
   {
    "duration": 175,
    "start_time": "2022-08-21T12:30:48.654Z"
   },
   {
    "duration": 16,
    "start_time": "2022-08-21T12:30:48.830Z"
   },
   {
    "duration": 19,
    "start_time": "2022-08-21T12:30:48.847Z"
   },
   {
    "duration": 31,
    "start_time": "2022-08-21T12:30:48.868Z"
   },
   {
    "duration": 6,
    "start_time": "2022-08-21T12:30:48.901Z"
   },
   {
    "duration": 15,
    "start_time": "2022-08-21T12:30:48.908Z"
   },
   {
    "duration": 7,
    "start_time": "2022-08-21T12:30:48.924Z"
   },
   {
    "duration": 363,
    "start_time": "2022-08-21T12:30:48.933Z"
   },
   {
    "duration": 265,
    "start_time": "2022-08-21T12:30:49.297Z"
   },
   {
    "duration": 379,
    "start_time": "2022-08-21T12:31:10.415Z"
   },
   {
    "duration": 299,
    "start_time": "2022-08-21T12:32:35.742Z"
   },
   {
    "duration": 312,
    "start_time": "2022-08-21T12:32:58.901Z"
   },
   {
    "duration": 399,
    "start_time": "2022-08-21T12:33:06.100Z"
   },
   {
    "duration": 358,
    "start_time": "2022-08-21T12:33:46.087Z"
   },
   {
    "duration": 2807,
    "start_time": "2022-08-21T12:33:52.944Z"
   },
   {
    "duration": 8,
    "start_time": "2022-08-21T12:33:55.753Z"
   },
   {
    "duration": 5,
    "start_time": "2022-08-21T12:33:55.763Z"
   },
   {
    "duration": 7,
    "start_time": "2022-08-21T12:33:55.769Z"
   },
   {
    "duration": 16,
    "start_time": "2022-08-21T12:33:55.778Z"
   },
   {
    "duration": 205,
    "start_time": "2022-08-21T12:33:55.795Z"
   },
   {
    "duration": 16,
    "start_time": "2022-08-21T12:33:56.002Z"
   },
   {
    "duration": 23,
    "start_time": "2022-08-21T12:33:56.019Z"
   },
   {
    "duration": 46,
    "start_time": "2022-08-21T12:33:56.044Z"
   },
   {
    "duration": 8,
    "start_time": "2022-08-21T12:33:56.092Z"
   },
   {
    "duration": 19,
    "start_time": "2022-08-21T12:33:56.101Z"
   },
   {
    "duration": 8,
    "start_time": "2022-08-21T12:33:56.123Z"
   },
   {
    "duration": 417,
    "start_time": "2022-08-21T12:33:56.133Z"
   },
   {
    "duration": 229,
    "start_time": "2022-08-21T12:33:56.552Z"
   },
   {
    "duration": 2824,
    "start_time": "2022-08-21T12:34:15.563Z"
   },
   {
    "duration": 8,
    "start_time": "2022-08-21T12:34:18.389Z"
   },
   {
    "duration": 5,
    "start_time": "2022-08-21T12:34:18.398Z"
   },
   {
    "duration": 10,
    "start_time": "2022-08-21T12:34:18.404Z"
   },
   {
    "duration": 19,
    "start_time": "2022-08-21T12:34:18.415Z"
   },
   {
    "duration": 198,
    "start_time": "2022-08-21T12:34:18.436Z"
   },
   {
    "duration": 15,
    "start_time": "2022-08-21T12:34:18.636Z"
   },
   {
    "duration": 19,
    "start_time": "2022-08-21T12:34:18.652Z"
   },
   {
    "duration": 22,
    "start_time": "2022-08-21T12:34:18.685Z"
   },
   {
    "duration": 7,
    "start_time": "2022-08-21T12:34:18.709Z"
   },
   {
    "duration": 12,
    "start_time": "2022-08-21T12:34:18.717Z"
   },
   {
    "duration": 9,
    "start_time": "2022-08-21T12:34:18.730Z"
   },
   {
    "duration": 344,
    "start_time": "2022-08-21T12:34:18.740Z"
   },
   {
    "duration": 249,
    "start_time": "2022-08-21T12:34:19.086Z"
   },
   {
    "duration": 381,
    "start_time": "2022-08-21T13:03:56.359Z"
   },
   {
    "duration": 305,
    "start_time": "2022-08-21T13:04:28.719Z"
   },
   {
    "duration": 310,
    "start_time": "2022-08-21T13:04:50.323Z"
   },
   {
    "duration": 2714,
    "start_time": "2022-08-21T13:04:58.546Z"
   },
   {
    "duration": 8,
    "start_time": "2022-08-21T13:05:01.261Z"
   },
   {
    "duration": 29,
    "start_time": "2022-08-21T13:05:01.271Z"
   },
   {
    "duration": 41,
    "start_time": "2022-08-21T13:05:01.302Z"
   },
   {
    "duration": 25,
    "start_time": "2022-08-21T13:05:01.344Z"
   },
   {
    "duration": 177,
    "start_time": "2022-08-21T13:05:01.371Z"
   },
   {
    "duration": 16,
    "start_time": "2022-08-21T13:05:01.549Z"
   },
   {
    "duration": 29,
    "start_time": "2022-08-21T13:05:01.567Z"
   },
   {
    "duration": 22,
    "start_time": "2022-08-21T13:05:01.598Z"
   },
   {
    "duration": 15,
    "start_time": "2022-08-21T13:05:01.622Z"
   },
   {
    "duration": 11,
    "start_time": "2022-08-21T13:05:01.638Z"
   },
   {
    "duration": 7,
    "start_time": "2022-08-21T13:05:01.651Z"
   },
   {
    "duration": 99,
    "start_time": "2022-08-21T13:05:01.659Z"
   },
   {
    "duration": 0,
    "start_time": "2022-08-21T13:05:01.760Z"
   },
   {
    "duration": 2052,
    "start_time": "2022-08-21T13:05:27.667Z"
   },
   {
    "duration": 7,
    "start_time": "2022-08-21T13:05:29.721Z"
   },
   {
    "duration": 3,
    "start_time": "2022-08-21T13:05:29.730Z"
   },
   {
    "duration": 8,
    "start_time": "2022-08-21T13:05:29.735Z"
   },
   {
    "duration": 16,
    "start_time": "2022-08-21T13:05:29.745Z"
   },
   {
    "duration": 188,
    "start_time": "2022-08-21T13:05:29.784Z"
   },
   {
    "duration": 18,
    "start_time": "2022-08-21T13:05:29.973Z"
   },
   {
    "duration": 19,
    "start_time": "2022-08-21T13:05:29.993Z"
   },
   {
    "duration": 24,
    "start_time": "2022-08-21T13:05:30.014Z"
   },
   {
    "duration": 8,
    "start_time": "2022-08-21T13:05:30.040Z"
   },
   {
    "duration": 42,
    "start_time": "2022-08-21T13:05:30.049Z"
   },
   {
    "duration": 9,
    "start_time": "2022-08-21T13:05:30.094Z"
   },
   {
    "duration": 384,
    "start_time": "2022-08-21T13:05:30.105Z"
   },
   {
    "duration": 2741,
    "start_time": "2022-08-21T13:06:14.819Z"
   },
   {
    "duration": 8,
    "start_time": "2022-08-21T13:06:17.561Z"
   },
   {
    "duration": 5,
    "start_time": "2022-08-21T13:06:17.570Z"
   },
   {
    "duration": 8,
    "start_time": "2022-08-21T13:06:17.577Z"
   },
   {
    "duration": 21,
    "start_time": "2022-08-21T13:06:17.588Z"
   },
   {
    "duration": 191,
    "start_time": "2022-08-21T13:06:17.611Z"
   },
   {
    "duration": 15,
    "start_time": "2022-08-21T13:06:17.804Z"
   },
   {
    "duration": 20,
    "start_time": "2022-08-21T13:06:17.821Z"
   },
   {
    "duration": 43,
    "start_time": "2022-08-21T13:06:17.843Z"
   },
   {
    "duration": 8,
    "start_time": "2022-08-21T13:06:17.888Z"
   },
   {
    "duration": 14,
    "start_time": "2022-08-21T13:06:17.898Z"
   },
   {
    "duration": 8,
    "start_time": "2022-08-21T13:06:17.913Z"
   },
   {
    "duration": 385,
    "start_time": "2022-08-21T13:06:17.923Z"
   },
   {
    "duration": 218,
    "start_time": "2022-08-21T13:06:18.311Z"
   },
   {
    "duration": 469,
    "start_time": "2022-08-21T13:07:42.523Z"
   },
   {
    "duration": 269,
    "start_time": "2022-08-21T13:07:58.252Z"
   },
   {
    "duration": 270,
    "start_time": "2022-08-21T13:08:06.779Z"
   },
   {
    "duration": 416,
    "start_time": "2022-08-21T13:08:10.022Z"
   },
   {
    "duration": 332,
    "start_time": "2022-08-21T13:08:17.587Z"
   },
   {
    "duration": 376,
    "start_time": "2022-08-21T13:10:08.844Z"
   },
   {
    "duration": 19,
    "start_time": "2022-08-21T13:12:30.987Z"
   },
   {
    "duration": 19,
    "start_time": "2022-08-21T13:12:45.535Z"
   },
   {
    "duration": 330,
    "start_time": "2022-08-21T13:12:49.888Z"
   },
   {
    "duration": 2708,
    "start_time": "2022-08-21T13:13:26.816Z"
   },
   {
    "duration": 7,
    "start_time": "2022-08-21T13:13:29.526Z"
   },
   {
    "duration": 3,
    "start_time": "2022-08-21T13:13:29.537Z"
   },
   {
    "duration": 9,
    "start_time": "2022-08-21T13:13:29.542Z"
   },
   {
    "duration": 19,
    "start_time": "2022-08-21T13:13:29.552Z"
   },
   {
    "duration": 188,
    "start_time": "2022-08-21T13:13:29.572Z"
   },
   {
    "duration": 23,
    "start_time": "2022-08-21T13:13:29.762Z"
   },
   {
    "duration": 23,
    "start_time": "2022-08-21T13:13:29.787Z"
   },
   {
    "duration": 26,
    "start_time": "2022-08-21T13:13:29.812Z"
   },
   {
    "duration": 8,
    "start_time": "2022-08-21T13:13:29.840Z"
   },
   {
    "duration": 39,
    "start_time": "2022-08-21T13:13:29.850Z"
   },
   {
    "duration": 8,
    "start_time": "2022-08-21T13:13:29.891Z"
   },
   {
    "duration": 356,
    "start_time": "2022-08-21T13:13:29.900Z"
   },
   {
    "duration": 234,
    "start_time": "2022-08-21T13:13:30.258Z"
   },
   {
    "duration": 403,
    "start_time": "2022-08-21T13:13:46.323Z"
   },
   {
    "duration": 3212,
    "start_time": "2022-08-21T13:41:40.012Z"
   },
   {
    "duration": 8,
    "start_time": "2022-08-21T13:41:43.226Z"
   },
   {
    "duration": 5,
    "start_time": "2022-08-21T13:41:43.236Z"
   },
   {
    "duration": 15,
    "start_time": "2022-08-21T13:41:43.243Z"
   },
   {
    "duration": 20,
    "start_time": "2022-08-21T13:41:43.260Z"
   },
   {
    "duration": 212,
    "start_time": "2022-08-21T13:41:43.281Z"
   },
   {
    "duration": 16,
    "start_time": "2022-08-21T13:41:43.495Z"
   },
   {
    "duration": 23,
    "start_time": "2022-08-21T13:41:43.512Z"
   },
   {
    "duration": 48,
    "start_time": "2022-08-21T13:41:43.537Z"
   },
   {
    "duration": 9,
    "start_time": "2022-08-21T13:41:43.588Z"
   },
   {
    "duration": 17,
    "start_time": "2022-08-21T13:41:43.598Z"
   },
   {
    "duration": 11,
    "start_time": "2022-08-21T13:41:43.616Z"
   },
   {
    "duration": 418,
    "start_time": "2022-08-21T13:41:43.629Z"
   },
   {
    "duration": 283,
    "start_time": "2022-08-21T13:41:44.048Z"
   },
   {
    "duration": 545,
    "start_time": "2022-08-21T13:42:34.007Z"
   },
   {
    "duration": 3329,
    "start_time": "2022-08-21T13:42:42.419Z"
   },
   {
    "duration": 8,
    "start_time": "2022-08-21T13:42:45.750Z"
   },
   {
    "duration": 8,
    "start_time": "2022-08-21T13:42:45.760Z"
   },
   {
    "duration": 9,
    "start_time": "2022-08-21T13:42:45.770Z"
   },
   {
    "duration": 17,
    "start_time": "2022-08-21T13:42:45.781Z"
   },
   {
    "duration": 232,
    "start_time": "2022-08-21T13:42:45.799Z"
   },
   {
    "duration": 19,
    "start_time": "2022-08-21T13:42:46.032Z"
   },
   {
    "duration": 37,
    "start_time": "2022-08-21T13:42:46.053Z"
   },
   {
    "duration": 33,
    "start_time": "2022-08-21T13:42:46.091Z"
   },
   {
    "duration": 10,
    "start_time": "2022-08-21T13:42:46.127Z"
   },
   {
    "duration": 47,
    "start_time": "2022-08-21T13:42:46.139Z"
   },
   {
    "duration": 10,
    "start_time": "2022-08-21T13:42:46.188Z"
   },
   {
    "duration": 373,
    "start_time": "2022-08-21T13:42:46.199Z"
   },
   {
    "duration": 0,
    "start_time": "2022-08-21T13:42:46.574Z"
   },
   {
    "duration": 423,
    "start_time": "2022-08-21T13:43:40.496Z"
   },
   {
    "duration": 3084,
    "start_time": "2022-08-21T13:43:55.308Z"
   },
   {
    "duration": 9,
    "start_time": "2022-08-21T13:43:58.393Z"
   },
   {
    "duration": 6,
    "start_time": "2022-08-21T13:43:58.403Z"
   },
   {
    "duration": 17,
    "start_time": "2022-08-21T13:43:58.412Z"
   },
   {
    "duration": 30,
    "start_time": "2022-08-21T13:43:58.431Z"
   },
   {
    "duration": 208,
    "start_time": "2022-08-21T13:43:58.463Z"
   },
   {
    "duration": 21,
    "start_time": "2022-08-21T13:43:58.673Z"
   },
   {
    "duration": 25,
    "start_time": "2022-08-21T13:43:58.696Z"
   },
   {
    "duration": 29,
    "start_time": "2022-08-21T13:43:58.723Z"
   },
   {
    "duration": 35,
    "start_time": "2022-08-21T13:43:58.755Z"
   },
   {
    "duration": 15,
    "start_time": "2022-08-21T13:43:58.792Z"
   },
   {
    "duration": 11,
    "start_time": "2022-08-21T13:43:58.808Z"
   },
   {
    "duration": 413,
    "start_time": "2022-08-21T13:43:58.821Z"
   },
   {
    "duration": 276,
    "start_time": "2022-08-21T13:43:59.236Z"
   },
   {
    "duration": 92,
    "start_time": "2022-08-21T13:44:36.408Z"
   },
   {
    "duration": 436,
    "start_time": "2022-08-21T13:44:42.029Z"
   },
   {
    "duration": 407,
    "start_time": "2022-08-21T13:44:48.389Z"
   },
   {
    "duration": 2473,
    "start_time": "2022-08-21T13:44:53.868Z"
   },
   {
    "duration": 9,
    "start_time": "2022-08-21T13:44:56.343Z"
   },
   {
    "duration": 8,
    "start_time": "2022-08-21T13:44:56.354Z"
   },
   {
    "duration": 22,
    "start_time": "2022-08-21T13:44:56.364Z"
   },
   {
    "duration": 19,
    "start_time": "2022-08-21T13:44:56.388Z"
   },
   {
    "duration": 217,
    "start_time": "2022-08-21T13:44:56.408Z"
   },
   {
    "duration": 15,
    "start_time": "2022-08-21T13:44:56.627Z"
   },
   {
    "duration": 21,
    "start_time": "2022-08-21T13:44:56.644Z"
   },
   {
    "duration": 42,
    "start_time": "2022-08-21T13:44:56.667Z"
   },
   {
    "duration": 8,
    "start_time": "2022-08-21T13:44:56.711Z"
   },
   {
    "duration": 16,
    "start_time": "2022-08-21T13:44:56.721Z"
   },
   {
    "duration": 8,
    "start_time": "2022-08-21T13:44:56.739Z"
   },
   {
    "duration": 384,
    "start_time": "2022-08-21T13:44:57.149Z"
   },
   {
    "duration": 512,
    "start_time": "2022-08-21T13:45:12.970Z"
   },
   {
    "duration": 25,
    "start_time": "2022-08-21T13:45:22.636Z"
   },
   {
    "duration": 22,
    "start_time": "2022-08-21T13:45:29.019Z"
   },
   {
    "duration": 295,
    "start_time": "2022-08-21T13:45:35.317Z"
   },
   {
    "duration": 151,
    "start_time": "2022-08-21T19:50:11.915Z"
   },
   {
    "duration": 59,
    "start_time": "2022-08-21T19:50:15.585Z"
   },
   {
    "duration": 3961,
    "start_time": "2022-08-21T19:50:22.919Z"
   },
   {
    "duration": 11,
    "start_time": "2022-08-21T19:50:26.883Z"
   },
   {
    "duration": 30,
    "start_time": "2022-08-21T19:50:26.896Z"
   },
   {
    "duration": 8,
    "start_time": "2022-08-21T19:50:26.929Z"
   },
   {
    "duration": 20,
    "start_time": "2022-08-21T19:50:26.940Z"
   },
   {
    "duration": 233,
    "start_time": "2022-08-21T19:50:26.962Z"
   },
   {
    "duration": 24,
    "start_time": "2022-08-21T19:50:27.197Z"
   },
   {
    "duration": 23,
    "start_time": "2022-08-21T19:50:27.223Z"
   },
   {
    "duration": 54,
    "start_time": "2022-08-21T19:50:27.247Z"
   },
   {
    "duration": 12,
    "start_time": "2022-08-21T19:50:27.303Z"
   },
   {
    "duration": 34,
    "start_time": "2022-08-21T19:50:27.316Z"
   },
   {
    "duration": 12,
    "start_time": "2022-08-21T19:50:27.352Z"
   },
   {
    "duration": 536,
    "start_time": "2022-08-21T19:50:27.366Z"
   },
   {
    "duration": 3499,
    "start_time": "2022-08-21T19:51:04.980Z"
   },
   {
    "duration": 12,
    "start_time": "2022-08-21T19:51:08.481Z"
   },
   {
    "duration": 20,
    "start_time": "2022-08-21T19:51:08.495Z"
   },
   {
    "duration": 13,
    "start_time": "2022-08-21T19:51:08.518Z"
   },
   {
    "duration": 25,
    "start_time": "2022-08-21T19:51:08.534Z"
   },
   {
    "duration": 244,
    "start_time": "2022-08-21T19:51:08.561Z"
   },
   {
    "duration": 19,
    "start_time": "2022-08-21T19:51:08.807Z"
   },
   {
    "duration": 24,
    "start_time": "2022-08-21T19:51:08.828Z"
   },
   {
    "duration": 65,
    "start_time": "2022-08-21T19:51:08.853Z"
   },
   {
    "duration": 9,
    "start_time": "2022-08-21T19:51:08.921Z"
   },
   {
    "duration": 14,
    "start_time": "2022-08-21T19:51:08.931Z"
   },
   {
    "duration": 8,
    "start_time": "2022-08-21T19:51:08.947Z"
   },
   {
    "duration": 530,
    "start_time": "2022-08-21T19:51:08.957Z"
   },
   {
    "duration": 287,
    "start_time": "2022-08-21T19:51:09.491Z"
   },
   {
    "duration": 368,
    "start_time": "2022-08-21T20:09:09.772Z"
   },
   {
    "duration": 258,
    "start_time": "2022-08-21T20:09:15.391Z"
   },
   {
    "duration": 274,
    "start_time": "2022-08-21T20:09:20.772Z"
   },
   {
    "duration": 268,
    "start_time": "2022-08-21T20:09:24.461Z"
   },
   {
    "duration": 251,
    "start_time": "2022-08-21T20:09:34.550Z"
   },
   {
    "duration": 119,
    "start_time": "2022-08-21T20:34:35.524Z"
   },
   {
    "duration": 394,
    "start_time": "2022-08-21T20:34:39.477Z"
   },
   {
    "duration": 152,
    "start_time": "2022-08-21T20:34:45.286Z"
   },
   {
    "duration": 146,
    "start_time": "2022-08-21T20:34:57.470Z"
   },
   {
    "duration": 137,
    "start_time": "2022-08-21T20:35:06.517Z"
   },
   {
    "duration": 125,
    "start_time": "2022-08-21T20:35:34.816Z"
   },
   {
    "duration": 190,
    "start_time": "2022-08-21T20:35:41.863Z"
   },
   {
    "duration": 134,
    "start_time": "2022-08-21T20:35:49.182Z"
   },
   {
    "duration": 128,
    "start_time": "2022-08-21T20:35:55.932Z"
   },
   {
    "duration": 153,
    "start_time": "2022-08-21T20:36:15.791Z"
   },
   {
    "duration": 156,
    "start_time": "2022-08-21T20:36:21.017Z"
   },
   {
    "duration": 46,
    "start_time": "2022-08-22T13:05:46.424Z"
   },
   {
    "duration": 3155,
    "start_time": "2022-08-22T13:05:50.430Z"
   },
   {
    "duration": 7,
    "start_time": "2022-08-22T13:05:53.587Z"
   },
   {
    "duration": 3,
    "start_time": "2022-08-22T13:05:53.596Z"
   },
   {
    "duration": 17,
    "start_time": "2022-08-22T13:05:53.600Z"
   },
   {
    "duration": 16,
    "start_time": "2022-08-22T13:05:53.619Z"
   },
   {
    "duration": 186,
    "start_time": "2022-08-22T13:05:53.637Z"
   },
   {
    "duration": 15,
    "start_time": "2022-08-22T13:05:53.825Z"
   },
   {
    "duration": 29,
    "start_time": "2022-08-22T13:05:53.841Z"
   },
   {
    "duration": 23,
    "start_time": "2022-08-22T13:05:53.871Z"
   },
   {
    "duration": 8,
    "start_time": "2022-08-22T13:05:53.896Z"
   },
   {
    "duration": 24,
    "start_time": "2022-08-22T13:05:53.905Z"
   },
   {
    "duration": 11,
    "start_time": "2022-08-22T13:05:53.930Z"
   },
   {
    "duration": 415,
    "start_time": "2022-08-22T13:05:53.942Z"
   },
   {
    "duration": 139,
    "start_time": "2022-08-22T13:05:54.359Z"
   },
   {
    "duration": 24,
    "start_time": "2022-08-22T13:05:58.352Z"
   },
   {
    "duration": 194,
    "start_time": "2022-08-22T13:06:53.195Z"
   },
   {
    "duration": 104,
    "start_time": "2022-08-22T13:07:07.799Z"
   },
   {
    "duration": 2853,
    "start_time": "2022-08-22T13:09:57.976Z"
   },
   {
    "duration": 9,
    "start_time": "2022-08-22T13:10:00.832Z"
   },
   {
    "duration": 64,
    "start_time": "2022-08-22T13:10:00.843Z"
   },
   {
    "duration": 44,
    "start_time": "2022-08-22T13:10:00.909Z"
   },
   {
    "duration": 36,
    "start_time": "2022-08-22T13:10:00.955Z"
   },
   {
    "duration": 193,
    "start_time": "2022-08-22T13:10:00.993Z"
   },
   {
    "duration": 16,
    "start_time": "2022-08-22T13:10:01.188Z"
   },
   {
    "duration": 107,
    "start_time": "2022-08-22T13:10:01.206Z"
   },
   {
    "duration": 26,
    "start_time": "2022-08-22T13:10:01.315Z"
   },
   {
    "duration": 38,
    "start_time": "2022-08-22T13:10:01.345Z"
   },
   {
    "duration": 74,
    "start_time": "2022-08-22T13:10:01.385Z"
   },
   {
    "duration": 36,
    "start_time": "2022-08-22T13:10:01.462Z"
   },
   {
    "duration": 423,
    "start_time": "2022-08-22T13:10:01.501Z"
   },
   {
    "duration": 144,
    "start_time": "2022-08-22T13:10:01.926Z"
   },
   {
    "duration": 124,
    "start_time": "2022-08-22T13:10:02.072Z"
   },
   {
    "duration": 153,
    "start_time": "2022-08-22T13:10:07.352Z"
   },
   {
    "duration": 7,
    "start_time": "2022-08-22T13:10:42.557Z"
   },
   {
    "duration": 129,
    "start_time": "2022-08-22T13:11:00.251Z"
   },
   {
    "duration": 111,
    "start_time": "2022-08-22T13:11:18.002Z"
   },
   {
    "duration": 101,
    "start_time": "2022-08-22T13:11:32.618Z"
   },
   {
    "duration": 153,
    "start_time": "2022-08-22T13:12:37.217Z"
   },
   {
    "duration": 110,
    "start_time": "2022-08-22T13:12:48.750Z"
   },
   {
    "duration": 119,
    "start_time": "2022-08-22T13:12:57.143Z"
   },
   {
    "duration": 119,
    "start_time": "2022-08-22T13:13:01.622Z"
   },
   {
    "duration": 113,
    "start_time": "2022-08-22T13:13:06.554Z"
   },
   {
    "duration": 133,
    "start_time": "2022-08-22T13:13:13.042Z"
   },
   {
    "duration": 122,
    "start_time": "2022-08-22T13:13:47.897Z"
   },
   {
    "duration": 121,
    "start_time": "2022-08-22T13:14:01.539Z"
   },
   {
    "duration": 143,
    "start_time": "2022-08-22T13:14:05.402Z"
   },
   {
    "duration": 103,
    "start_time": "2022-08-22T13:14:11.690Z"
   },
   {
    "duration": 126,
    "start_time": "2022-08-22T13:15:43.295Z"
   },
   {
    "duration": 102,
    "start_time": "2022-08-22T13:16:24.817Z"
   },
   {
    "duration": 170,
    "start_time": "2022-08-22T13:16:28.162Z"
   },
   {
    "duration": 129,
    "start_time": "2022-08-22T13:16:34.201Z"
   },
   {
    "duration": 121,
    "start_time": "2022-08-22T13:17:09.123Z"
   },
   {
    "duration": 128,
    "start_time": "2022-08-22T13:18:26.037Z"
   },
   {
    "duration": 130,
    "start_time": "2022-08-22T13:18:41.078Z"
   },
   {
    "duration": 124,
    "start_time": "2022-08-22T13:18:45.963Z"
   },
   {
    "duration": 131,
    "start_time": "2022-08-22T13:18:51.230Z"
   },
   {
    "duration": 116,
    "start_time": "2022-08-22T13:18:53.941Z"
   },
   {
    "duration": 102,
    "start_time": "2022-08-22T13:18:58.387Z"
   },
   {
    "duration": 119,
    "start_time": "2022-08-22T13:19:04.268Z"
   },
   {
    "duration": 120,
    "start_time": "2022-08-22T13:19:40.679Z"
   },
   {
    "duration": 121,
    "start_time": "2022-08-22T13:19:57.650Z"
   },
   {
    "duration": 126,
    "start_time": "2022-08-22T13:20:02.379Z"
   },
   {
    "duration": 134,
    "start_time": "2022-08-22T13:20:10.369Z"
   },
   {
    "duration": 124,
    "start_time": "2022-08-22T13:20:59.169Z"
   },
   {
    "duration": 123,
    "start_time": "2022-08-22T13:21:39.099Z"
   },
   {
    "duration": 114,
    "start_time": "2022-08-22T13:21:52.776Z"
   },
   {
    "duration": 2866,
    "start_time": "2022-08-22T13:22:26.787Z"
   },
   {
    "duration": 8,
    "start_time": "2022-08-22T13:22:29.655Z"
   },
   {
    "duration": 13,
    "start_time": "2022-08-22T13:22:29.668Z"
   },
   {
    "duration": 42,
    "start_time": "2022-08-22T13:22:29.683Z"
   },
   {
    "duration": 35,
    "start_time": "2022-08-22T13:22:29.727Z"
   },
   {
    "duration": 203,
    "start_time": "2022-08-22T13:22:29.764Z"
   },
   {
    "duration": 19,
    "start_time": "2022-08-22T13:22:29.968Z"
   },
   {
    "duration": 26,
    "start_time": "2022-08-22T13:22:29.989Z"
   },
   {
    "duration": 48,
    "start_time": "2022-08-22T13:22:30.018Z"
   },
   {
    "duration": 13,
    "start_time": "2022-08-22T13:22:30.067Z"
   },
   {
    "duration": 32,
    "start_time": "2022-08-22T13:22:30.082Z"
   },
   {
    "duration": 16,
    "start_time": "2022-08-22T13:22:30.115Z"
   },
   {
    "duration": 428,
    "start_time": "2022-08-22T13:22:30.132Z"
   },
   {
    "duration": 144,
    "start_time": "2022-08-22T13:22:30.561Z"
   },
   {
    "duration": 146,
    "start_time": "2022-08-22T13:22:30.707Z"
   },
   {
    "duration": 189,
    "start_time": "2022-08-22T13:22:30.856Z"
   },
   {
    "duration": 153,
    "start_time": "2022-08-22T13:22:31.047Z"
   },
   {
    "duration": 66,
    "start_time": "2022-08-22T13:22:55.024Z"
   },
   {
    "duration": 16,
    "start_time": "2022-08-22T13:23:03.266Z"
   },
   {
    "duration": 16,
    "start_time": "2022-08-22T13:23:18.278Z"
   },
   {
    "duration": 25,
    "start_time": "2022-08-22T13:23:25.190Z"
   },
   {
    "duration": 14,
    "start_time": "2022-08-22T13:23:42.106Z"
   },
   {
    "duration": 78,
    "start_time": "2022-08-22T13:23:55.842Z"
   },
   {
    "duration": 142,
    "start_time": "2022-08-22T13:23:59.278Z"
   },
   {
    "duration": 124,
    "start_time": "2022-08-22T13:24:21.574Z"
   },
   {
    "duration": 111,
    "start_time": "2022-08-22T13:24:25.992Z"
   },
   {
    "duration": 135,
    "start_time": "2022-08-22T13:24:30.214Z"
   },
   {
    "duration": 305,
    "start_time": "2022-08-22T13:24:55.492Z"
   },
   {
    "duration": 159,
    "start_time": "2022-08-22T13:25:04.626Z"
   },
   {
    "duration": 151,
    "start_time": "2022-08-22T13:25:21.957Z"
   },
   {
    "duration": 200,
    "start_time": "2022-08-22T13:25:39.159Z"
   },
   {
    "duration": 170,
    "start_time": "2022-08-22T13:25:59.195Z"
   },
   {
    "duration": 155,
    "start_time": "2022-08-22T13:26:07.522Z"
   },
   {
    "duration": 15,
    "start_time": "2022-08-22T13:27:36.667Z"
   },
   {
    "duration": 16,
    "start_time": "2022-08-22T13:27:41.079Z"
   },
   {
    "duration": 169,
    "start_time": "2022-08-22T13:27:59.944Z"
   },
   {
    "duration": 189,
    "start_time": "2022-08-22T13:28:05.242Z"
   },
   {
    "duration": 130,
    "start_time": "2022-08-22T13:28:17.687Z"
   },
   {
    "duration": 146,
    "start_time": "2022-08-22T13:28:29.351Z"
   },
   {
    "duration": 135,
    "start_time": "2022-08-22T13:29:13.379Z"
   },
   {
    "duration": 234,
    "start_time": "2022-08-22T13:30:19.367Z"
   },
   {
    "duration": 158,
    "start_time": "2022-08-22T13:30:25.703Z"
   },
   {
    "duration": 12,
    "start_time": "2022-08-22T13:31:00.204Z"
   },
   {
    "duration": 11,
    "start_time": "2022-08-22T13:31:41.650Z"
   },
   {
    "duration": 2186,
    "start_time": "2022-08-22T13:31:44.660Z"
   },
   {
    "duration": 8,
    "start_time": "2022-08-22T13:31:46.856Z"
   },
   {
    "duration": 12,
    "start_time": "2022-08-22T13:31:46.865Z"
   },
   {
    "duration": 16,
    "start_time": "2022-08-22T13:31:46.879Z"
   },
   {
    "duration": 22,
    "start_time": "2022-08-22T13:31:46.898Z"
   },
   {
    "duration": 301,
    "start_time": "2022-08-22T13:31:46.922Z"
   },
   {
    "duration": 19,
    "start_time": "2022-08-22T13:31:47.225Z"
   },
   {
    "duration": 29,
    "start_time": "2022-08-22T13:31:47.258Z"
   },
   {
    "duration": 35,
    "start_time": "2022-08-22T13:31:47.289Z"
   },
   {
    "duration": 8,
    "start_time": "2022-08-22T13:31:47.326Z"
   },
   {
    "duration": 34,
    "start_time": "2022-08-22T13:31:47.336Z"
   },
   {
    "duration": 2152,
    "start_time": "2022-08-22T13:31:49.809Z"
   },
   {
    "duration": 9,
    "start_time": "2022-08-22T13:31:51.964Z"
   },
   {
    "duration": 8,
    "start_time": "2022-08-22T13:31:51.975Z"
   },
   {
    "duration": 10,
    "start_time": "2022-08-22T13:31:51.985Z"
   },
   {
    "duration": 16,
    "start_time": "2022-08-22T13:31:51.998Z"
   },
   {
    "duration": 212,
    "start_time": "2022-08-22T13:31:52.016Z"
   },
   {
    "duration": 16,
    "start_time": "2022-08-22T13:31:52.230Z"
   },
   {
    "duration": 21,
    "start_time": "2022-08-22T13:31:52.257Z"
   },
   {
    "duration": 24,
    "start_time": "2022-08-22T13:31:52.280Z"
   },
   {
    "duration": 7,
    "start_time": "2022-08-22T13:31:52.306Z"
   },
   {
    "duration": 16,
    "start_time": "2022-08-22T13:31:52.315Z"
   },
   {
    "duration": 32,
    "start_time": "2022-08-22T13:31:52.332Z"
   },
   {
    "duration": 514,
    "start_time": "2022-08-22T13:31:52.366Z"
   },
   {
    "duration": 138,
    "start_time": "2022-08-22T13:31:52.883Z"
   },
   {
    "duration": 129,
    "start_time": "2022-08-22T13:31:53.022Z"
   },
   {
    "duration": 131,
    "start_time": "2022-08-22T13:31:53.153Z"
   },
   {
    "duration": 150,
    "start_time": "2022-08-22T13:31:53.286Z"
   },
   {
    "duration": 136,
    "start_time": "2022-08-22T13:31:58.547Z"
   },
   {
    "duration": 15,
    "start_time": "2022-08-22T13:32:23.265Z"
   },
   {
    "duration": 13,
    "start_time": "2022-08-22T13:32:28.028Z"
   },
   {
    "duration": 14,
    "start_time": "2022-08-22T13:32:29.422Z"
   },
   {
    "duration": 14,
    "start_time": "2022-08-22T13:32:36.082Z"
   },
   {
    "duration": 2878,
    "start_time": "2022-08-22T13:32:42.371Z"
   },
   {
    "duration": 10,
    "start_time": "2022-08-22T13:32:45.252Z"
   },
   {
    "duration": 13,
    "start_time": "2022-08-22T13:32:45.264Z"
   },
   {
    "duration": 9,
    "start_time": "2022-08-22T13:32:45.278Z"
   },
   {
    "duration": 22,
    "start_time": "2022-08-22T13:32:45.288Z"
   },
   {
    "duration": 263,
    "start_time": "2022-08-22T13:32:45.312Z"
   },
   {
    "duration": 19,
    "start_time": "2022-08-22T13:32:45.577Z"
   },
   {
    "duration": 25,
    "start_time": "2022-08-22T13:32:45.598Z"
   },
   {
    "duration": 42,
    "start_time": "2022-08-22T13:32:45.625Z"
   },
   {
    "duration": 13,
    "start_time": "2022-08-22T13:32:45.670Z"
   },
   {
    "duration": 39,
    "start_time": "2022-08-22T13:32:45.685Z"
   },
   {
    "duration": 13,
    "start_time": "2022-08-22T13:32:45.726Z"
   },
   {
    "duration": 414,
    "start_time": "2022-08-22T13:32:45.741Z"
   },
   {
    "duration": 137,
    "start_time": "2022-08-22T13:32:46.158Z"
   },
   {
    "duration": 130,
    "start_time": "2022-08-22T13:32:46.297Z"
   },
   {
    "duration": 188,
    "start_time": "2022-08-22T13:32:46.429Z"
   },
   {
    "duration": 135,
    "start_time": "2022-08-22T13:32:46.618Z"
   },
   {
    "duration": 135,
    "start_time": "2022-08-22T13:32:46.756Z"
   },
   {
    "duration": 22,
    "start_time": "2022-08-22T13:33:25.179Z"
   },
   {
    "duration": 2973,
    "start_time": "2022-08-22T13:34:13.460Z"
   },
   {
    "duration": 12,
    "start_time": "2022-08-22T13:34:16.436Z"
   },
   {
    "duration": 11,
    "start_time": "2022-08-22T13:34:16.450Z"
   },
   {
    "duration": 20,
    "start_time": "2022-08-22T13:34:16.463Z"
   },
   {
    "duration": 28,
    "start_time": "2022-08-22T13:34:16.485Z"
   },
   {
    "duration": 191,
    "start_time": "2022-08-22T13:34:16.515Z"
   },
   {
    "duration": 17,
    "start_time": "2022-08-22T13:34:16.708Z"
   },
   {
    "duration": 30,
    "start_time": "2022-08-22T13:34:16.727Z"
   },
   {
    "duration": 22,
    "start_time": "2022-08-22T13:34:16.759Z"
   },
   {
    "duration": 9,
    "start_time": "2022-08-22T13:34:16.783Z"
   },
   {
    "duration": 22,
    "start_time": "2022-08-22T13:34:16.793Z"
   },
   {
    "duration": 15,
    "start_time": "2022-08-22T13:34:16.817Z"
   },
   {
    "duration": 428,
    "start_time": "2022-08-22T13:34:16.834Z"
   },
   {
    "duration": 135,
    "start_time": "2022-08-22T13:34:17.263Z"
   },
   {
    "duration": 127,
    "start_time": "2022-08-22T13:34:17.400Z"
   },
   {
    "duration": 177,
    "start_time": "2022-08-22T13:34:17.529Z"
   },
   {
    "duration": 138,
    "start_time": "2022-08-22T13:34:17.707Z"
   },
   {
    "duration": 144,
    "start_time": "2022-08-22T13:34:17.847Z"
   },
   {
    "duration": 133,
    "start_time": "2022-08-22T13:35:26.507Z"
   },
   {
    "duration": 137,
    "start_time": "2022-08-22T13:35:30.576Z"
   },
   {
    "duration": 194,
    "start_time": "2022-08-22T13:35:35.244Z"
   },
   {
    "duration": 138,
    "start_time": "2022-08-22T13:35:44.507Z"
   },
   {
    "duration": 144,
    "start_time": "2022-08-22T13:35:47.050Z"
   },
   {
    "duration": 122,
    "start_time": "2022-08-22T13:35:54.041Z"
   },
   {
    "duration": 143,
    "start_time": "2022-08-22T13:36:00.323Z"
   },
   {
    "duration": 136,
    "start_time": "2022-08-22T13:38:17.510Z"
   },
   {
    "duration": 113,
    "start_time": "2022-08-22T13:38:23.098Z"
   },
   {
    "duration": 161,
    "start_time": "2022-08-22T13:38:25.250Z"
   },
   {
    "duration": 122,
    "start_time": "2022-08-22T13:38:38.883Z"
   },
   {
    "duration": 120,
    "start_time": "2022-08-22T13:39:14.903Z"
   },
   {
    "duration": 240,
    "start_time": "2022-08-22T13:40:09.884Z"
   },
   {
    "duration": 140,
    "start_time": "2022-08-22T13:40:54.526Z"
   },
   {
    "duration": 105,
    "start_time": "2022-08-22T13:41:51.445Z"
   },
   {
    "duration": 14,
    "start_time": "2022-08-22T13:42:01.103Z"
   },
   {
    "duration": 117,
    "start_time": "2022-08-22T13:42:20.520Z"
   },
   {
    "duration": 146,
    "start_time": "2022-08-22T13:42:40.685Z"
   },
   {
    "duration": 131,
    "start_time": "2022-08-22T13:43:09.704Z"
   },
   {
    "duration": 127,
    "start_time": "2022-08-22T13:43:23.250Z"
   },
   {
    "duration": 159,
    "start_time": "2022-08-22T13:44:37.508Z"
   },
   {
    "duration": 322,
    "start_time": "2022-08-22T13:45:03.379Z"
   },
   {
    "duration": 258,
    "start_time": "2022-08-22T13:45:22.936Z"
   },
   {
    "duration": 127,
    "start_time": "2022-08-22T13:45:37.252Z"
   },
   {
    "duration": 49,
    "start_time": "2022-08-22T13:45:51.269Z"
   },
   {
    "duration": 127,
    "start_time": "2022-08-22T13:45:54.781Z"
   },
   {
    "duration": 210,
    "start_time": "2022-08-22T13:46:06.981Z"
   },
   {
    "duration": 139,
    "start_time": "2022-08-22T13:46:21.794Z"
   },
   {
    "duration": 137,
    "start_time": "2022-08-22T13:46:29.623Z"
   },
   {
    "duration": 118,
    "start_time": "2022-08-22T13:46:41.857Z"
   },
   {
    "duration": 128,
    "start_time": "2022-08-22T13:46:48.202Z"
   },
   {
    "duration": 128,
    "start_time": "2022-08-22T13:46:53.784Z"
   },
   {
    "duration": 151,
    "start_time": "2022-08-22T13:47:03.140Z"
   },
   {
    "duration": 146,
    "start_time": "2022-08-22T13:47:13.164Z"
   },
   {
    "duration": 135,
    "start_time": "2022-08-22T13:47:27.670Z"
   },
   {
    "duration": 189,
    "start_time": "2022-08-22T13:47:35.280Z"
   },
   {
    "duration": 156,
    "start_time": "2022-08-22T13:47:45.567Z"
   },
   {
    "duration": 145,
    "start_time": "2022-08-22T13:47:49.112Z"
   },
   {
    "duration": 151,
    "start_time": "2022-08-22T13:48:06.490Z"
   },
   {
    "duration": 125,
    "start_time": "2022-08-22T13:48:20.371Z"
   },
   {
    "duration": 130,
    "start_time": "2022-08-22T13:49:02.787Z"
   },
   {
    "duration": 151,
    "start_time": "2022-08-22T13:49:11.083Z"
   },
   {
    "duration": 143,
    "start_time": "2022-08-22T13:49:21.457Z"
   },
   {
    "duration": 152,
    "start_time": "2022-08-22T13:49:27.116Z"
   },
   {
    "duration": 148,
    "start_time": "2022-08-22T13:50:21.106Z"
   },
   {
    "duration": 132,
    "start_time": "2022-08-22T13:50:40.709Z"
   },
   {
    "duration": 130,
    "start_time": "2022-08-22T13:51:06.902Z"
   },
   {
    "duration": 291,
    "start_time": "2022-08-22T13:51:10.057Z"
   },
   {
    "duration": 114,
    "start_time": "2022-08-22T13:51:58.985Z"
   },
   {
    "duration": 140,
    "start_time": "2022-08-22T13:52:08.624Z"
   },
   {
    "duration": 130,
    "start_time": "2022-08-22T13:52:15.957Z"
   },
   {
    "duration": 158,
    "start_time": "2022-08-22T13:52:23.924Z"
   },
   {
    "duration": 162,
    "start_time": "2022-08-22T13:58:02.215Z"
   },
   {
    "duration": 269,
    "start_time": "2022-08-22T13:58:10.377Z"
   },
   {
    "duration": 218,
    "start_time": "2022-08-22T14:00:18.153Z"
   },
   {
    "duration": 335,
    "start_time": "2022-08-22T14:01:55.359Z"
   },
   {
    "duration": 196,
    "start_time": "2022-08-22T14:02:02.516Z"
   },
   {
    "duration": 1506,
    "start_time": "2022-08-22T14:02:19.165Z"
   },
   {
    "duration": 186,
    "start_time": "2022-08-22T14:02:27.506Z"
   },
   {
    "duration": 290,
    "start_time": "2022-08-22T14:04:11.844Z"
   },
   {
    "duration": 115,
    "start_time": "2022-08-22T14:04:22.128Z"
   },
   {
    "duration": 115,
    "start_time": "2022-08-22T14:04:26.222Z"
   },
   {
    "duration": 137,
    "start_time": "2022-08-22T14:04:32.441Z"
   },
   {
    "duration": 122,
    "start_time": "2022-08-22T14:04:36.586Z"
   },
   {
    "duration": 125,
    "start_time": "2022-08-22T14:05:11.067Z"
   },
   {
    "duration": 97,
    "start_time": "2022-08-22T14:06:07.094Z"
   },
   {
    "duration": 115,
    "start_time": "2022-08-22T14:06:10.599Z"
   },
   {
    "duration": 120,
    "start_time": "2022-08-22T14:07:57.682Z"
   },
   {
    "duration": 112,
    "start_time": "2022-08-22T14:08:22.232Z"
   },
   {
    "duration": 124,
    "start_time": "2022-08-22T14:08:35.756Z"
   },
   {
    "duration": 115,
    "start_time": "2022-08-22T14:08:45.983Z"
   },
   {
    "duration": 114,
    "start_time": "2022-08-22T14:09:04.919Z"
   },
   {
    "duration": 112,
    "start_time": "2022-08-22T14:09:15.946Z"
   },
   {
    "duration": 109,
    "start_time": "2022-08-22T14:09:18.628Z"
   },
   {
    "duration": 134,
    "start_time": "2022-08-22T14:09:24.208Z"
   },
   {
    "duration": 129,
    "start_time": "2022-08-22T14:09:35.819Z"
   },
   {
    "duration": 121,
    "start_time": "2022-08-22T14:09:49.551Z"
   },
   {
    "duration": 115,
    "start_time": "2022-08-22T14:10:05.836Z"
   },
   {
    "duration": 140,
    "start_time": "2022-08-22T14:11:30.833Z"
   },
   {
    "duration": 226,
    "start_time": "2022-08-22T14:11:39.060Z"
   },
   {
    "duration": 139,
    "start_time": "2022-08-22T14:11:41.927Z"
   },
   {
    "duration": 123,
    "start_time": "2022-08-22T14:12:12.856Z"
   },
   {
    "duration": 91,
    "start_time": "2022-08-22T14:12:23.436Z"
   },
   {
    "duration": 118,
    "start_time": "2022-08-22T14:12:27.884Z"
   },
   {
    "duration": 113,
    "start_time": "2022-08-22T14:12:38.185Z"
   },
   {
    "duration": 123,
    "start_time": "2022-08-22T14:12:42.787Z"
   },
   {
    "duration": 125,
    "start_time": "2022-08-22T14:12:53.533Z"
   },
   {
    "duration": 129,
    "start_time": "2022-08-22T14:13:00.997Z"
   },
   {
    "duration": 137,
    "start_time": "2022-08-22T14:13:46.492Z"
   },
   {
    "duration": 257,
    "start_time": "2022-08-22T14:13:49.929Z"
   },
   {
    "duration": 145,
    "start_time": "2022-08-22T14:13:58.503Z"
   },
   {
    "duration": 138,
    "start_time": "2022-08-22T14:16:22.194Z"
   },
   {
    "duration": 361,
    "start_time": "2022-08-22T14:16:27.230Z"
   },
   {
    "duration": 166,
    "start_time": "2022-08-22T14:19:53.420Z"
   },
   {
    "duration": 126,
    "start_time": "2022-08-22T14:34:32.057Z"
   },
   {
    "duration": 122,
    "start_time": "2022-08-22T14:37:30.943Z"
   },
   {
    "duration": 71,
    "start_time": "2022-08-22T14:46:07.607Z"
   },
   {
    "duration": 127,
    "start_time": "2022-08-22T14:46:09.830Z"
   },
   {
    "duration": 119,
    "start_time": "2022-08-22T14:46:58.794Z"
   },
   {
    "duration": 122,
    "start_time": "2022-08-22T14:47:49.900Z"
   },
   {
    "duration": 112,
    "start_time": "2022-08-22T14:48:04.727Z"
   },
   {
    "duration": 123,
    "start_time": "2022-08-22T14:48:24.089Z"
   },
   {
    "duration": 129,
    "start_time": "2022-08-22T14:48:38.506Z"
   },
   {
    "duration": 142,
    "start_time": "2022-08-22T14:48:45.007Z"
   },
   {
    "duration": 136,
    "start_time": "2022-08-22T14:48:49.038Z"
   },
   {
    "duration": 156,
    "start_time": "2022-08-22T14:49:44.510Z"
   },
   {
    "duration": 141,
    "start_time": "2022-08-22T14:50:40.935Z"
   },
   {
    "duration": 141,
    "start_time": "2022-08-22T14:51:13.470Z"
   },
   {
    "duration": 150,
    "start_time": "2022-08-22T14:52:13.456Z"
   },
   {
    "duration": 15,
    "start_time": "2022-08-22T15:09:06.176Z"
   },
   {
    "duration": 12,
    "start_time": "2022-08-22T15:09:13.288Z"
   },
   {
    "duration": 15,
    "start_time": "2022-08-22T15:09:18.287Z"
   },
   {
    "duration": 16,
    "start_time": "2022-08-22T15:10:18.418Z"
   },
   {
    "duration": 17,
    "start_time": "2022-08-22T15:10:53.094Z"
   },
   {
    "duration": 144,
    "start_time": "2022-08-22T15:11:26.373Z"
   },
   {
    "duration": 202,
    "start_time": "2022-08-22T15:14:31.146Z"
   },
   {
    "duration": 182,
    "start_time": "2022-08-22T15:15:00.350Z"
   },
   {
    "duration": 928,
    "start_time": "2022-08-22T15:17:11.490Z"
   },
   {
    "duration": 21,
    "start_time": "2022-08-22T15:17:34.519Z"
   },
   {
    "duration": 199,
    "start_time": "2022-08-22T15:17:50.654Z"
   },
   {
    "duration": 165,
    "start_time": "2022-08-22T15:28:58.413Z"
   },
   {
    "duration": 155,
    "start_time": "2022-08-22T15:41:43.630Z"
   },
   {
    "duration": 145,
    "start_time": "2022-08-22T15:41:55.885Z"
   },
   {
    "duration": 170,
    "start_time": "2022-08-22T15:42:05.515Z"
   },
   {
    "duration": 155,
    "start_time": "2022-08-22T15:42:14.241Z"
   },
   {
    "duration": 203,
    "start_time": "2022-08-22T15:45:06.585Z"
   },
   {
    "duration": 206,
    "start_time": "2022-08-22T15:49:56.321Z"
   },
   {
    "duration": 153,
    "start_time": "2022-08-22T15:51:23.862Z"
   },
   {
    "duration": 190,
    "start_time": "2022-08-22T15:51:51.635Z"
   },
   {
    "duration": 216,
    "start_time": "2022-08-22T15:52:30.543Z"
   },
   {
    "duration": 351,
    "start_time": "2022-08-22T15:53:00.403Z"
   },
   {
    "duration": 319,
    "start_time": "2022-08-22T15:53:06.069Z"
   },
   {
    "duration": 1280,
    "start_time": "2022-08-22T15:54:01.868Z"
   },
   {
    "duration": 957,
    "start_time": "2022-08-22T15:54:15.163Z"
   },
   {
    "duration": 196,
    "start_time": "2022-08-22T15:54:51.970Z"
   },
   {
    "duration": 118,
    "start_time": "2022-08-22T15:56:55.733Z"
   },
   {
    "duration": 153,
    "start_time": "2022-08-22T15:57:09.273Z"
   },
   {
    "duration": 174,
    "start_time": "2022-08-22T15:57:20.519Z"
   },
   {
    "duration": 186,
    "start_time": "2022-08-22T15:58:50.099Z"
   },
   {
    "duration": 160,
    "start_time": "2022-08-22T15:59:03.322Z"
   },
   {
    "duration": 163,
    "start_time": "2022-08-22T16:00:04.540Z"
   },
   {
    "duration": 202,
    "start_time": "2022-08-22T16:00:10.532Z"
   },
   {
    "duration": 195,
    "start_time": "2022-08-22T16:00:15.540Z"
   },
   {
    "duration": 164,
    "start_time": "2022-08-22T16:00:28.160Z"
   },
   {
    "duration": 399,
    "start_time": "2022-08-22T16:00:40.365Z"
   },
   {
    "duration": 122,
    "start_time": "2022-08-22T16:01:40.503Z"
   },
   {
    "duration": 199,
    "start_time": "2022-08-22T16:03:13.517Z"
   },
   {
    "duration": 214,
    "start_time": "2022-08-22T16:03:46.482Z"
   },
   {
    "duration": 300,
    "start_time": "2022-08-22T16:05:21.852Z"
   },
   {
    "duration": 7,
    "start_time": "2022-08-22T16:10:16.815Z"
   },
   {
    "duration": 8,
    "start_time": "2022-08-22T16:10:28.139Z"
   },
   {
    "duration": 8,
    "start_time": "2022-08-22T16:10:30.349Z"
   },
   {
    "duration": 8,
    "start_time": "2022-08-22T16:11:48.792Z"
   },
   {
    "duration": 5,
    "start_time": "2022-08-22T16:11:57.306Z"
   },
   {
    "duration": 8,
    "start_time": "2022-08-22T16:12:03.444Z"
   },
   {
    "duration": 210,
    "start_time": "2022-08-22T16:17:35.360Z"
   },
   {
    "duration": 904,
    "start_time": "2022-08-22T16:17:47.311Z"
   },
   {
    "duration": 25,
    "start_time": "2022-08-22T16:31:46.078Z"
   },
   {
    "duration": 45,
    "start_time": "2022-08-22T16:31:56.673Z"
   },
   {
    "duration": 26,
    "start_time": "2022-08-22T16:32:55.695Z"
   },
   {
    "duration": 18,
    "start_time": "2022-08-22T16:33:23.856Z"
   },
   {
    "duration": 36,
    "start_time": "2022-08-22T16:33:39.446Z"
   },
   {
    "duration": 16,
    "start_time": "2022-08-22T16:34:25.976Z"
   },
   {
    "duration": 17,
    "start_time": "2022-08-22T16:35:09.488Z"
   },
   {
    "duration": 24,
    "start_time": "2022-08-22T16:35:25.324Z"
   },
   {
    "duration": 17,
    "start_time": "2022-08-22T16:35:38.477Z"
   },
   {
    "duration": 16,
    "start_time": "2022-08-22T16:35:44.612Z"
   },
   {
    "duration": 26,
    "start_time": "2022-08-22T16:35:58.634Z"
   },
   {
    "duration": 18,
    "start_time": "2022-08-22T16:36:00.245Z"
   },
   {
    "duration": 17,
    "start_time": "2022-08-22T16:36:07.376Z"
   },
   {
    "duration": 24,
    "start_time": "2022-08-22T16:36:13.108Z"
   },
   {
    "duration": 18,
    "start_time": "2022-08-22T16:36:33.071Z"
   },
   {
    "duration": 18,
    "start_time": "2022-08-22T16:37:33.454Z"
   },
   {
    "duration": 13,
    "start_time": "2022-08-22T16:37:37.209Z"
   },
   {
    "duration": 17,
    "start_time": "2022-08-22T16:37:53.028Z"
   },
   {
    "duration": 11,
    "start_time": "2022-08-22T16:43:40.392Z"
   },
   {
    "duration": 36,
    "start_time": "2022-08-22T16:45:50.507Z"
   },
   {
    "duration": 27,
    "start_time": "2022-08-22T16:46:01.373Z"
   },
   {
    "duration": 28,
    "start_time": "2022-08-22T16:46:45.616Z"
   },
   {
    "duration": 25,
    "start_time": "2022-08-22T16:47:02.341Z"
   },
   {
    "duration": 33,
    "start_time": "2022-08-22T16:47:18.860Z"
   },
   {
    "duration": 23,
    "start_time": "2022-08-22T16:47:27.153Z"
   },
   {
    "duration": 23,
    "start_time": "2022-08-22T16:47:46.489Z"
   },
   {
    "duration": 916,
    "start_time": "2022-08-22T16:48:12.459Z"
   },
   {
    "duration": 45,
    "start_time": "2022-08-22T16:48:43.166Z"
   },
   {
    "duration": 29,
    "start_time": "2022-08-22T16:48:47.880Z"
   },
   {
    "duration": 34,
    "start_time": "2022-08-22T16:49:06.587Z"
   },
   {
    "duration": 999,
    "start_time": "2022-08-22T16:49:09.943Z"
   },
   {
    "duration": 36,
    "start_time": "2022-08-22T16:49:15.858Z"
   },
   {
    "duration": 27,
    "start_time": "2022-08-22T16:49:25.481Z"
   },
   {
    "duration": 34,
    "start_time": "2022-08-22T16:50:02.076Z"
   },
   {
    "duration": 55,
    "start_time": "2022-08-22T16:50:37.976Z"
   },
   {
    "duration": 43,
    "start_time": "2022-08-22T16:51:03.443Z"
   },
   {
    "duration": 45,
    "start_time": "2022-08-22T16:51:28.736Z"
   },
   {
    "duration": 35,
    "start_time": "2022-08-22T16:51:42.960Z"
   },
   {
    "duration": 56,
    "start_time": "2022-08-22T17:13:30.156Z"
   },
   {
    "duration": 39,
    "start_time": "2022-08-22T17:13:53.006Z"
   },
   {
    "duration": 25,
    "start_time": "2022-08-22T17:13:59.229Z"
   },
   {
    "duration": 34,
    "start_time": "2022-08-22T17:15:57.183Z"
   },
   {
    "duration": 34,
    "start_time": "2022-08-22T17:16:16.147Z"
   },
   {
    "duration": 34,
    "start_time": "2022-08-22T17:16:20.981Z"
   },
   {
    "duration": 15,
    "start_time": "2022-08-22T17:21:31.498Z"
   },
   {
    "duration": 32,
    "start_time": "2022-08-22T17:23:07.069Z"
   },
   {
    "duration": 19,
    "start_time": "2022-08-22T17:24:11.697Z"
   },
   {
    "duration": 19,
    "start_time": "2022-08-22T17:24:23.858Z"
   },
   {
    "duration": 151,
    "start_time": "2022-08-22T17:27:45.915Z"
   },
   {
    "duration": 132,
    "start_time": "2022-08-22T17:28:09.617Z"
   },
   {
    "duration": 155,
    "start_time": "2022-08-22T17:28:24.922Z"
   },
   {
    "duration": 181,
    "start_time": "2022-08-22T17:29:35.860Z"
   },
   {
    "duration": 156,
    "start_time": "2022-08-22T17:30:09.865Z"
   },
   {
    "duration": 144,
    "start_time": "2022-08-22T17:30:44.386Z"
   },
   {
    "duration": 2783,
    "start_time": "2022-08-22T17:32:53.998Z"
   },
   {
    "duration": 7,
    "start_time": "2022-08-22T17:32:56.783Z"
   },
   {
    "duration": 8,
    "start_time": "2022-08-22T17:32:56.791Z"
   },
   {
    "duration": 7,
    "start_time": "2022-08-22T17:32:56.800Z"
   },
   {
    "duration": 17,
    "start_time": "2022-08-22T17:32:56.808Z"
   },
   {
    "duration": 183,
    "start_time": "2022-08-22T17:32:56.827Z"
   },
   {
    "duration": 15,
    "start_time": "2022-08-22T17:32:57.012Z"
   },
   {
    "duration": 34,
    "start_time": "2022-08-22T17:32:57.029Z"
   },
   {
    "duration": 10,
    "start_time": "2022-08-22T17:32:57.064Z"
   },
   {
    "duration": 13,
    "start_time": "2022-08-22T17:32:57.076Z"
   },
   {
    "duration": 13,
    "start_time": "2022-08-22T17:32:57.090Z"
   },
   {
    "duration": 13,
    "start_time": "2022-08-22T17:32:57.104Z"
   },
   {
    "duration": 421,
    "start_time": "2022-08-22T17:32:57.118Z"
   },
   {
    "duration": 109,
    "start_time": "2022-08-22T17:32:57.541Z"
   },
   {
    "duration": 123,
    "start_time": "2022-08-22T17:32:57.651Z"
   },
   {
    "duration": 175,
    "start_time": "2022-08-22T17:32:57.776Z"
   },
   {
    "duration": 136,
    "start_time": "2022-08-22T17:32:57.952Z"
   },
   {
    "duration": 139,
    "start_time": "2022-08-22T17:32:58.089Z"
   },
   {
    "duration": 129,
    "start_time": "2022-08-22T17:32:58.230Z"
   },
   {
    "duration": 114,
    "start_time": "2022-08-22T17:32:58.361Z"
   },
   {
    "duration": 126,
    "start_time": "2022-08-22T17:32:58.477Z"
   },
   {
    "duration": 163,
    "start_time": "2022-08-22T17:32:58.604Z"
   },
   {
    "duration": 230,
    "start_time": "2022-08-22T17:32:58.769Z"
   },
   {
    "duration": 225,
    "start_time": "2022-08-22T17:32:59.001Z"
   },
   {
    "duration": 192,
    "start_time": "2022-08-22T17:32:59.227Z"
   },
   {
    "duration": 120,
    "start_time": "2022-08-22T17:32:59.421Z"
   },
   {
    "duration": 157,
    "start_time": "2022-08-22T17:32:59.542Z"
   },
   {
    "duration": 198,
    "start_time": "2022-08-22T17:32:59.703Z"
   },
   {
    "duration": 206,
    "start_time": "2022-08-22T17:32:59.902Z"
   },
   {
    "duration": 187,
    "start_time": "2022-08-22T17:33:00.110Z"
   },
   {
    "duration": 174,
    "start_time": "2022-08-22T17:33:00.298Z"
   },
   {
    "duration": 136,
    "start_time": "2022-08-22T17:33:00.474Z"
   },
   {
    "duration": 136,
    "start_time": "2022-08-22T17:33:00.612Z"
   },
   {
    "duration": 226,
    "start_time": "2022-08-22T17:33:00.757Z"
   },
   {
    "duration": 34,
    "start_time": "2022-08-22T17:33:00.985Z"
   },
   {
    "duration": 169,
    "start_time": "2022-08-22T17:33:01.021Z"
   },
   {
    "duration": 2712,
    "start_time": "2022-08-22T17:53:25.769Z"
   },
   {
    "duration": 7,
    "start_time": "2022-08-22T17:53:28.483Z"
   },
   {
    "duration": 7,
    "start_time": "2022-08-22T17:53:28.492Z"
   },
   {
    "duration": 7,
    "start_time": "2022-08-22T17:53:28.501Z"
   },
   {
    "duration": 16,
    "start_time": "2022-08-22T17:53:28.510Z"
   },
   {
    "duration": 200,
    "start_time": "2022-08-22T17:53:28.527Z"
   },
   {
    "duration": 16,
    "start_time": "2022-08-22T17:53:28.729Z"
   },
   {
    "duration": 24,
    "start_time": "2022-08-22T17:53:28.758Z"
   },
   {
    "duration": 12,
    "start_time": "2022-08-22T17:53:28.783Z"
   },
   {
    "duration": 10,
    "start_time": "2022-08-22T17:53:28.798Z"
   },
   {
    "duration": 13,
    "start_time": "2022-08-22T17:53:28.809Z"
   },
   {
    "duration": 37,
    "start_time": "2022-08-22T17:53:28.824Z"
   },
   {
    "duration": 424,
    "start_time": "2022-08-22T17:53:28.864Z"
   },
   {
    "duration": 130,
    "start_time": "2022-08-22T17:53:29.290Z"
   },
   {
    "duration": 138,
    "start_time": "2022-08-22T17:53:29.422Z"
   },
   {
    "duration": 187,
    "start_time": "2022-08-22T17:53:29.561Z"
   },
   {
    "duration": 147,
    "start_time": "2022-08-22T17:53:29.757Z"
   },
   {
    "duration": 158,
    "start_time": "2022-08-22T17:53:29.906Z"
   },
   {
    "duration": 143,
    "start_time": "2022-08-22T17:53:30.065Z"
   },
   {
    "duration": 135,
    "start_time": "2022-08-22T17:53:30.210Z"
   },
   {
    "duration": 143,
    "start_time": "2022-08-22T17:53:30.347Z"
   },
   {
    "duration": 180,
    "start_time": "2022-08-22T17:53:30.492Z"
   },
   {
    "duration": 274,
    "start_time": "2022-08-22T17:53:30.674Z"
   },
   {
    "duration": 231,
    "start_time": "2022-08-22T17:53:30.950Z"
   },
   {
    "duration": 207,
    "start_time": "2022-08-22T17:53:31.183Z"
   },
   {
    "duration": 132,
    "start_time": "2022-08-22T17:53:31.391Z"
   },
   {
    "duration": 153,
    "start_time": "2022-08-22T17:53:31.525Z"
   },
   {
    "duration": 196,
    "start_time": "2022-08-22T17:53:31.681Z"
   },
   {
    "duration": 216,
    "start_time": "2022-08-22T17:53:31.879Z"
   },
   {
    "duration": 192,
    "start_time": "2022-08-22T17:53:32.097Z"
   },
   {
    "duration": 181,
    "start_time": "2022-08-22T17:53:32.291Z"
   },
   {
    "duration": 159,
    "start_time": "2022-08-22T17:53:32.474Z"
   },
   {
    "duration": 144,
    "start_time": "2022-08-22T17:53:32.636Z"
   },
   {
    "duration": 245,
    "start_time": "2022-08-22T17:53:32.782Z"
   },
   {
    "duration": 44,
    "start_time": "2022-08-22T17:53:33.028Z"
   },
   {
    "duration": 159,
    "start_time": "2022-08-22T17:53:33.074Z"
   },
   {
    "duration": 377,
    "start_time": "2022-08-22T17:58:05.850Z"
   },
   {
    "duration": 545,
    "start_time": "2022-08-22T17:58:32.040Z"
   },
   {
    "duration": 2171,
    "start_time": "2022-08-22T17:58:44.882Z"
   },
   {
    "duration": 8,
    "start_time": "2022-08-22T17:58:47.056Z"
   },
   {
    "duration": 7,
    "start_time": "2022-08-22T17:58:47.066Z"
   },
   {
    "duration": 8,
    "start_time": "2022-08-22T17:58:47.075Z"
   },
   {
    "duration": 14,
    "start_time": "2022-08-22T17:58:47.084Z"
   },
   {
    "duration": 323,
    "start_time": "2022-08-22T17:58:47.099Z"
   },
   {
    "duration": 16,
    "start_time": "2022-08-22T17:58:47.424Z"
   },
   {
    "duration": 39,
    "start_time": "2022-08-22T17:58:47.441Z"
   },
   {
    "duration": 11,
    "start_time": "2022-08-22T17:58:47.482Z"
   },
   {
    "duration": 19,
    "start_time": "2022-08-22T17:58:47.495Z"
   },
   {
    "duration": 13,
    "start_time": "2022-08-22T17:58:47.515Z"
   },
   {
    "duration": 434,
    "start_time": "2022-08-22T17:59:01.602Z"
   },
   {
    "duration": 127,
    "start_time": "2022-08-22T18:01:23.526Z"
   },
   {
    "duration": 3860,
    "start_time": "2022-08-23T17:57:54.307Z"
   },
   {
    "duration": 9,
    "start_time": "2022-08-23T17:57:58.170Z"
   },
   {
    "duration": 13,
    "start_time": "2022-08-23T17:57:58.180Z"
   },
   {
    "duration": 25,
    "start_time": "2022-08-23T17:57:58.197Z"
   },
   {
    "duration": 22,
    "start_time": "2022-08-23T17:57:58.224Z"
   },
   {
    "duration": 234,
    "start_time": "2022-08-23T17:57:58.249Z"
   },
   {
    "duration": 27,
    "start_time": "2022-08-23T17:57:58.485Z"
   },
   {
    "duration": 28,
    "start_time": "2022-08-23T17:57:58.514Z"
   },
   {
    "duration": 12,
    "start_time": "2022-08-23T17:57:58.544Z"
   },
   {
    "duration": 34,
    "start_time": "2022-08-23T17:57:58.559Z"
   },
   {
    "duration": 29,
    "start_time": "2022-08-23T17:57:58.596Z"
   },
   {
    "duration": 524,
    "start_time": "2022-08-23T17:57:58.628Z"
   },
   {
    "duration": 129,
    "start_time": "2022-08-23T17:57:59.154Z"
   },
   {
    "duration": 272,
    "start_time": "2022-08-23T17:57:59.292Z"
   },
   {
    "duration": 154,
    "start_time": "2022-08-23T17:57:59.566Z"
   },
   {
    "duration": 162,
    "start_time": "2022-08-23T17:57:59.722Z"
   },
   {
    "duration": 199,
    "start_time": "2022-08-23T17:57:59.886Z"
   },
   {
    "duration": 170,
    "start_time": "2022-08-23T17:58:00.087Z"
   },
   {
    "duration": 164,
    "start_time": "2022-08-23T17:58:00.259Z"
   },
   {
    "duration": 189,
    "start_time": "2022-08-23T17:58:00.426Z"
   },
   {
    "duration": 206,
    "start_time": "2022-08-23T17:58:00.617Z"
   },
   {
    "duration": 294,
    "start_time": "2022-08-23T17:58:00.824Z"
   },
   {
    "duration": 367,
    "start_time": "2022-08-23T17:58:01.120Z"
   },
   {
    "duration": 157,
    "start_time": "2022-08-23T17:58:01.489Z"
   },
   {
    "duration": 184,
    "start_time": "2022-08-23T17:58:01.648Z"
   },
   {
    "duration": 233,
    "start_time": "2022-08-23T17:58:01.834Z"
   },
   {
    "duration": 263,
    "start_time": "2022-08-23T17:58:02.069Z"
   },
   {
    "duration": 252,
    "start_time": "2022-08-23T17:58:02.337Z"
   },
   {
    "duration": 230,
    "start_time": "2022-08-23T17:58:02.597Z"
   },
   {
    "duration": 206,
    "start_time": "2022-08-23T17:58:02.829Z"
   },
   {
    "duration": 180,
    "start_time": "2022-08-23T17:58:03.037Z"
   },
   {
    "duration": 168,
    "start_time": "2022-08-23T17:58:03.219Z"
   },
   {
    "duration": 286,
    "start_time": "2022-08-23T17:58:03.391Z"
   },
   {
    "duration": 59,
    "start_time": "2022-08-23T17:58:03.679Z"
   },
   {
    "duration": 206,
    "start_time": "2022-08-23T17:58:03.740Z"
   },
   {
    "duration": 3630,
    "start_time": "2022-08-23T17:58:35.594Z"
   },
   {
    "duration": 9,
    "start_time": "2022-08-23T17:58:39.226Z"
   },
   {
    "duration": 9,
    "start_time": "2022-08-23T17:58:39.236Z"
   },
   {
    "duration": 9,
    "start_time": "2022-08-23T17:58:39.247Z"
   },
   {
    "duration": 19,
    "start_time": "2022-08-23T17:58:39.259Z"
   },
   {
    "duration": 282,
    "start_time": "2022-08-23T17:58:39.280Z"
   },
   {
    "duration": 19,
    "start_time": "2022-08-23T17:58:39.564Z"
   },
   {
    "duration": 35,
    "start_time": "2022-08-23T17:58:39.593Z"
   },
   {
    "duration": 12,
    "start_time": "2022-08-23T17:58:39.630Z"
   },
   {
    "duration": 17,
    "start_time": "2022-08-23T17:58:39.644Z"
   },
   {
    "duration": 47,
    "start_time": "2022-08-23T17:58:39.663Z"
   },
   {
    "duration": 545,
    "start_time": "2022-08-23T17:58:39.712Z"
   },
   {
    "duration": 170,
    "start_time": "2022-08-23T17:58:40.259Z"
   },
   {
    "duration": 154,
    "start_time": "2022-08-23T17:58:40.432Z"
   },
   {
    "duration": 235,
    "start_time": "2022-08-23T17:58:40.588Z"
   },
   {
    "duration": 155,
    "start_time": "2022-08-23T17:58:40.825Z"
   },
   {
    "duration": 191,
    "start_time": "2022-08-23T17:58:40.982Z"
   },
   {
    "duration": 166,
    "start_time": "2022-08-23T17:58:41.174Z"
   },
   {
    "duration": 165,
    "start_time": "2022-08-23T17:58:41.342Z"
   },
   {
    "duration": 168,
    "start_time": "2022-08-23T17:58:41.509Z"
   },
   {
    "duration": 243,
    "start_time": "2022-08-23T17:58:41.679Z"
   },
   {
    "duration": 370,
    "start_time": "2022-08-23T17:58:41.924Z"
   },
   {
    "duration": 286,
    "start_time": "2022-08-23T17:58:42.295Z"
   },
   {
    "duration": 252,
    "start_time": "2022-08-23T17:58:42.582Z"
   },
   {
    "duration": 148,
    "start_time": "2022-08-23T17:58:42.836Z"
   },
   {
    "duration": 196,
    "start_time": "2022-08-23T17:58:42.986Z"
   },
   {
    "duration": 247,
    "start_time": "2022-08-23T17:58:43.184Z"
   },
   {
    "duration": 253,
    "start_time": "2022-08-23T17:58:43.432Z"
   },
   {
    "duration": 214,
    "start_time": "2022-08-23T17:58:43.695Z"
   },
   {
    "duration": 215,
    "start_time": "2022-08-23T17:58:43.912Z"
   },
   {
    "duration": 191,
    "start_time": "2022-08-23T17:58:44.129Z"
   },
   {
    "duration": 167,
    "start_time": "2022-08-23T17:58:44.321Z"
   },
   {
    "duration": 293,
    "start_time": "2022-08-23T17:58:44.491Z"
   },
   {
    "duration": 48,
    "start_time": "2022-08-23T17:58:44.786Z"
   },
   {
    "duration": 238,
    "start_time": "2022-08-23T17:58:44.836Z"
   },
   {
    "duration": 11,
    "start_time": "2022-08-23T18:06:42.109Z"
   },
   {
    "duration": 19,
    "start_time": "2022-08-23T18:07:14.109Z"
   },
   {
    "duration": 200,
    "start_time": "2022-08-23T18:07:17.507Z"
   },
   {
    "duration": 231,
    "start_time": "2022-08-23T18:07:19.921Z"
   },
   {
    "duration": 7,
    "start_time": "2022-08-23T18:09:47.073Z"
   },
   {
    "duration": 3180,
    "start_time": "2022-08-23T19:36:59.373Z"
   },
   {
    "duration": 8,
    "start_time": "2022-08-23T19:37:02.555Z"
   },
   {
    "duration": 70,
    "start_time": "2022-08-23T19:37:02.564Z"
   },
   {
    "duration": 57,
    "start_time": "2022-08-23T19:37:02.636Z"
   },
   {
    "duration": 13,
    "start_time": "2022-08-23T19:37:02.695Z"
   },
   {
    "duration": 185,
    "start_time": "2022-08-23T19:37:02.709Z"
   },
   {
    "duration": 16,
    "start_time": "2022-08-23T19:37:02.895Z"
   },
   {
    "duration": 22,
    "start_time": "2022-08-23T19:37:02.913Z"
   },
   {
    "duration": 23,
    "start_time": "2022-08-23T19:37:02.937Z"
   },
   {
    "duration": 7,
    "start_time": "2022-08-23T19:37:02.962Z"
   },
   {
    "duration": 19,
    "start_time": "2022-08-23T19:37:02.971Z"
   },
   {
    "duration": 448,
    "start_time": "2022-08-23T19:37:02.992Z"
   },
   {
    "duration": 119,
    "start_time": "2022-08-23T19:37:03.441Z"
   },
   {
    "duration": 226,
    "start_time": "2022-08-23T19:37:03.562Z"
   },
   {
    "duration": 134,
    "start_time": "2022-08-23T19:37:03.789Z"
   },
   {
    "duration": 132,
    "start_time": "2022-08-23T19:37:03.925Z"
   },
   {
    "duration": 139,
    "start_time": "2022-08-23T19:37:04.058Z"
   },
   {
    "duration": 132,
    "start_time": "2022-08-23T19:37:04.198Z"
   },
   {
    "duration": 120,
    "start_time": "2022-08-23T19:37:04.332Z"
   },
   {
    "duration": 136,
    "start_time": "2022-08-23T19:37:04.456Z"
   },
   {
    "duration": 170,
    "start_time": "2022-08-23T19:37:04.594Z"
   },
   {
    "duration": 247,
    "start_time": "2022-08-23T19:37:04.765Z"
   },
   {
    "duration": 365,
    "start_time": "2022-08-23T19:37:05.013Z"
   },
   {
    "duration": 135,
    "start_time": "2022-08-23T19:37:05.380Z"
   },
   {
    "duration": 126,
    "start_time": "2022-08-23T19:37:05.517Z"
   },
   {
    "duration": 158,
    "start_time": "2022-08-23T19:37:05.645Z"
   },
   {
    "duration": 184,
    "start_time": "2022-08-23T19:37:05.805Z"
   },
   {
    "duration": 209,
    "start_time": "2022-08-23T19:37:05.992Z"
   },
   {
    "duration": 187,
    "start_time": "2022-08-23T19:37:06.202Z"
   },
   {
    "duration": 183,
    "start_time": "2022-08-23T19:37:06.390Z"
   },
   {
    "duration": 145,
    "start_time": "2022-08-23T19:37:06.575Z"
   },
   {
    "duration": 194,
    "start_time": "2022-08-23T19:37:08.773Z"
   },
   {
    "duration": 225,
    "start_time": "2022-08-23T19:37:21.288Z"
   },
   {
    "duration": 41,
    "start_time": "2022-08-23T20:47:02.098Z"
   },
   {
    "duration": 2126,
    "start_time": "2022-08-23T20:47:39.179Z"
   },
   {
    "duration": 2224,
    "start_time": "2022-08-23T20:47:50.758Z"
   },
   {
    "duration": 51,
    "start_time": "2022-08-23T20:47:58.882Z"
   },
   {
    "duration": 2269,
    "start_time": "2022-08-23T20:48:01.928Z"
   },
   {
    "duration": 1952,
    "start_time": "2022-08-23T20:49:20.576Z"
   },
   {
    "duration": 2,
    "start_time": "2022-08-23T20:49:23.662Z"
   },
   {
    "duration": 9,
    "start_time": "2022-08-23T20:53:27.746Z"
   },
   {
    "duration": 19,
    "start_time": "2022-08-23T21:04:32.298Z"
   },
   {
    "duration": 24,
    "start_time": "2022-08-23T21:04:38.217Z"
   },
   {
    "duration": 39,
    "start_time": "2022-08-23T21:04:57.533Z"
   },
   {
    "duration": 28,
    "start_time": "2022-08-23T21:08:04.089Z"
   },
   {
    "duration": 249,
    "start_time": "2022-08-23T21:08:12.240Z"
   },
   {
    "duration": 30,
    "start_time": "2022-08-23T21:08:52.841Z"
   },
   {
    "duration": 28,
    "start_time": "2022-08-23T21:08:57.890Z"
   },
   {
    "duration": 28,
    "start_time": "2022-08-23T21:09:05.075Z"
   },
   {
    "duration": 28,
    "start_time": "2022-08-23T21:09:14.509Z"
   },
   {
    "duration": 28,
    "start_time": "2022-08-23T21:09:18.616Z"
   },
   {
    "duration": 29,
    "start_time": "2022-08-23T21:09:21.254Z"
   },
   {
    "duration": 23,
    "start_time": "2022-08-23T21:10:06.482Z"
   },
   {
    "duration": 2,
    "start_time": "2022-08-23T21:10:27.165Z"
   },
   {
    "duration": 2046,
    "start_time": "2022-08-23T21:10:27.169Z"
   },
   {
    "duration": 53,
    "start_time": "2022-08-23T21:10:29.217Z"
   },
   {
    "duration": 6,
    "start_time": "2022-08-23T21:10:29.273Z"
   },
   {
    "duration": 21,
    "start_time": "2022-08-23T21:10:29.281Z"
   },
   {
    "duration": 7,
    "start_time": "2022-08-23T21:10:29.303Z"
   },
   {
    "duration": 13,
    "start_time": "2022-08-23T21:10:29.311Z"
   },
   {
    "duration": 183,
    "start_time": "2022-08-23T21:10:29.325Z"
   },
   {
    "duration": 16,
    "start_time": "2022-08-23T21:10:29.510Z"
   },
   {
    "duration": 32,
    "start_time": "2022-08-23T21:10:29.527Z"
   },
   {
    "duration": 10,
    "start_time": "2022-08-23T21:10:29.560Z"
   },
   {
    "duration": 11,
    "start_time": "2022-08-23T21:10:29.571Z"
   },
   {
    "duration": 21,
    "start_time": "2022-08-23T21:10:29.584Z"
   },
   {
    "duration": 25,
    "start_time": "2022-08-23T21:10:31.633Z"
   },
   {
    "duration": 371,
    "start_time": "2022-08-23T21:10:36.866Z"
   },
   {
    "duration": 2330,
    "start_time": "2022-08-23T21:10:37.239Z"
   },
   {
    "duration": 42,
    "start_time": "2022-08-23T21:10:39.573Z"
   },
   {
    "duration": 6,
    "start_time": "2022-08-23T21:10:39.618Z"
   },
   {
    "duration": 46,
    "start_time": "2022-08-23T21:10:39.625Z"
   },
   {
    "duration": 15,
    "start_time": "2022-08-23T21:10:39.673Z"
   },
   {
    "duration": 64,
    "start_time": "2022-08-23T21:10:39.689Z"
   },
   {
    "duration": 215,
    "start_time": "2022-08-23T21:10:39.755Z"
   },
   {
    "duration": 16,
    "start_time": "2022-08-23T21:10:39.972Z"
   },
   {
    "duration": 19,
    "start_time": "2022-08-23T21:10:39.990Z"
   },
   {
    "duration": 10,
    "start_time": "2022-08-23T21:10:40.010Z"
   },
   {
    "duration": 28,
    "start_time": "2022-08-23T21:10:40.021Z"
   },
   {
    "duration": 55,
    "start_time": "2022-08-23T21:10:40.051Z"
   },
   {
    "duration": 438,
    "start_time": "2022-08-23T21:10:40.108Z"
   },
   {
    "duration": 124,
    "start_time": "2022-08-23T21:10:40.547Z"
   },
   {
    "duration": 127,
    "start_time": "2022-08-23T21:10:40.672Z"
   },
   {
    "duration": 189,
    "start_time": "2022-08-23T21:10:40.801Z"
   },
   {
    "duration": 122,
    "start_time": "2022-08-23T21:10:40.991Z"
   },
   {
    "duration": 152,
    "start_time": "2022-08-23T21:10:41.115Z"
   },
   {
    "duration": 129,
    "start_time": "2022-08-23T21:10:41.269Z"
   },
   {
    "duration": 115,
    "start_time": "2022-08-23T21:10:41.399Z"
   },
   {
    "duration": 127,
    "start_time": "2022-08-23T21:10:41.515Z"
   },
   {
    "duration": 151,
    "start_time": "2022-08-23T21:10:41.644Z"
   },
   {
    "duration": 226,
    "start_time": "2022-08-23T21:10:41.797Z"
   },
   {
    "duration": 228,
    "start_time": "2022-08-23T21:10:42.024Z"
   },
   {
    "duration": 168,
    "start_time": "2022-08-23T21:10:42.254Z"
   },
   {
    "duration": 118,
    "start_time": "2022-08-23T21:10:42.424Z"
   },
   {
    "duration": 142,
    "start_time": "2022-08-23T21:10:42.544Z"
   },
   {
    "duration": 176,
    "start_time": "2022-08-23T21:10:42.687Z"
   },
   {
    "duration": 200,
    "start_time": "2022-08-23T21:10:42.864Z"
   },
   {
    "duration": 171,
    "start_time": "2022-08-23T21:10:43.065Z"
   },
   {
    "duration": 160,
    "start_time": "2022-08-23T21:10:43.238Z"
   },
   {
    "duration": 130,
    "start_time": "2022-08-23T21:10:43.400Z"
   },
   {
    "duration": 228,
    "start_time": "2022-08-23T21:10:43.531Z"
   },
   {
    "duration": 217,
    "start_time": "2022-08-23T21:10:43.761Z"
   },
   {
    "duration": 31,
    "start_time": "2022-08-23T21:10:43.980Z"
   },
   {
    "duration": 156,
    "start_time": "2022-08-23T21:10:44.012Z"
   },
   {
    "duration": 25,
    "start_time": "2022-08-23T21:11:09.664Z"
   },
   {
    "duration": 354,
    "start_time": "2022-08-23T21:11:16.920Z"
   },
   {
    "duration": 2389,
    "start_time": "2022-08-23T21:11:17.276Z"
   },
   {
    "duration": 44,
    "start_time": "2022-08-23T21:11:19.668Z"
   },
   {
    "duration": 7,
    "start_time": "2022-08-23T21:11:19.713Z"
   },
   {
    "duration": 14,
    "start_time": "2022-08-23T21:11:19.721Z"
   },
   {
    "duration": 5,
    "start_time": "2022-08-23T21:11:19.737Z"
   },
   {
    "duration": 22,
    "start_time": "2022-08-23T21:11:19.744Z"
   },
   {
    "duration": 184,
    "start_time": "2022-08-23T21:11:19.767Z"
   },
   {
    "duration": 16,
    "start_time": "2022-08-23T21:11:19.957Z"
   },
   {
    "duration": 21,
    "start_time": "2022-08-23T21:11:19.974Z"
   },
   {
    "duration": 10,
    "start_time": "2022-08-23T21:11:19.997Z"
   },
   {
    "duration": 10,
    "start_time": "2022-08-23T21:11:20.009Z"
   },
   {
    "duration": 48,
    "start_time": "2022-08-23T21:11:20.021Z"
   },
   {
    "duration": 397,
    "start_time": "2022-08-23T21:11:20.071Z"
   },
   {
    "duration": 129,
    "start_time": "2022-08-23T21:11:20.469Z"
   },
   {
    "duration": 119,
    "start_time": "2022-08-23T21:11:20.600Z"
   },
   {
    "duration": 188,
    "start_time": "2022-08-23T21:11:20.720Z"
   },
   {
    "duration": 124,
    "start_time": "2022-08-23T21:11:20.910Z"
   },
   {
    "duration": 149,
    "start_time": "2022-08-23T21:11:21.036Z"
   },
   {
    "duration": 131,
    "start_time": "2022-08-23T21:11:21.186Z"
   },
   {
    "duration": 116,
    "start_time": "2022-08-23T21:11:21.319Z"
   },
   {
    "duration": 129,
    "start_time": "2022-08-23T21:11:21.437Z"
   },
   {
    "duration": 154,
    "start_time": "2022-08-23T21:11:21.567Z"
   },
   {
    "duration": 216,
    "start_time": "2022-08-23T21:11:21.723Z"
   },
   {
    "duration": 211,
    "start_time": "2022-08-23T21:11:21.940Z"
   },
   {
    "duration": 163,
    "start_time": "2022-08-23T21:11:22.153Z"
   },
   {
    "duration": 117,
    "start_time": "2022-08-23T21:11:22.319Z"
   },
   {
    "duration": 146,
    "start_time": "2022-08-23T21:11:22.438Z"
   },
   {
    "duration": 171,
    "start_time": "2022-08-23T21:11:22.586Z"
   },
   {
    "duration": 195,
    "start_time": "2022-08-23T21:11:22.759Z"
   },
   {
    "duration": 173,
    "start_time": "2022-08-23T21:11:22.957Z"
   },
   {
    "duration": 167,
    "start_time": "2022-08-23T21:11:23.132Z"
   },
   {
    "duration": 129,
    "start_time": "2022-08-23T21:11:23.300Z"
   },
   {
    "duration": 249,
    "start_time": "2022-08-23T21:11:23.430Z"
   },
   {
    "duration": 229,
    "start_time": "2022-08-23T21:11:23.680Z"
   },
   {
    "duration": 33,
    "start_time": "2022-08-23T21:11:23.911Z"
   },
   {
    "duration": 154,
    "start_time": "2022-08-23T21:11:23.958Z"
   },
   {
    "duration": 25,
    "start_time": "2022-08-23T21:11:46.168Z"
   },
   {
    "duration": 28,
    "start_time": "2022-08-23T21:12:03.589Z"
   },
   {
    "duration": 26,
    "start_time": "2022-08-23T21:12:09.740Z"
   },
   {
    "duration": 41,
    "start_time": "2022-08-23T21:13:18.113Z"
   },
   {
    "duration": 38,
    "start_time": "2022-08-23T21:13:28.762Z"
   },
   {
    "duration": 104,
    "start_time": "2022-08-23T21:14:07.071Z"
   },
   {
    "duration": 42,
    "start_time": "2022-08-23T21:14:20.203Z"
   },
   {
    "duration": 28,
    "start_time": "2022-08-23T21:15:50.063Z"
   },
   {
    "duration": 25,
    "start_time": "2022-08-23T21:15:55.901Z"
   },
   {
    "duration": 4,
    "start_time": "2022-08-23T21:16:10.067Z"
   },
   {
    "duration": 2190,
    "start_time": "2022-08-23T21:16:10.073Z"
   },
   {
    "duration": 42,
    "start_time": "2022-08-23T21:16:12.269Z"
   },
   {
    "duration": 7,
    "start_time": "2022-08-23T21:16:12.312Z"
   },
   {
    "duration": 10,
    "start_time": "2022-08-23T21:16:12.322Z"
   },
   {
    "duration": 28,
    "start_time": "2022-08-23T21:16:12.333Z"
   },
   {
    "duration": 21,
    "start_time": "2022-08-23T21:16:12.363Z"
   },
   {
    "duration": 180,
    "start_time": "2022-08-23T21:16:12.385Z"
   },
   {
    "duration": 18,
    "start_time": "2022-08-23T21:16:12.568Z"
   },
   {
    "duration": 21,
    "start_time": "2022-08-23T21:16:12.587Z"
   },
   {
    "duration": 10,
    "start_time": "2022-08-23T21:16:12.609Z"
   },
   {
    "duration": 12,
    "start_time": "2022-08-23T21:16:12.620Z"
   },
   {
    "duration": 28,
    "start_time": "2022-08-23T21:16:15.606Z"
   },
   {
    "duration": 122,
    "start_time": "2022-08-23T21:19:06.095Z"
   },
   {
    "duration": 144,
    "start_time": "2022-08-23T21:19:26.755Z"
   },
   {
    "duration": 245,
    "start_time": "2022-08-23T21:21:12.617Z"
   },
   {
    "duration": 119,
    "start_time": "2022-08-23T21:22:38.508Z"
   },
   {
    "duration": 108,
    "start_time": "2022-08-23T21:22:47.548Z"
   },
   {
    "duration": 124,
    "start_time": "2022-08-23T21:22:53.576Z"
   },
   {
    "duration": 115,
    "start_time": "2022-08-23T21:22:58.048Z"
   },
   {
    "duration": 22,
    "start_time": "2022-08-23T21:38:53.219Z"
   },
   {
    "duration": 3,
    "start_time": "2022-08-23T21:39:05.018Z"
   },
   {
    "duration": 2141,
    "start_time": "2022-08-23T21:39:05.023Z"
   },
   {
    "duration": 38,
    "start_time": "2022-08-23T21:39:07.166Z"
   },
   {
    "duration": 7,
    "start_time": "2022-08-23T21:39:07.206Z"
   },
   {
    "duration": 12,
    "start_time": "2022-08-23T21:39:07.214Z"
   },
   {
    "duration": 7,
    "start_time": "2022-08-23T21:39:07.228Z"
   },
   {
    "duration": 11,
    "start_time": "2022-08-23T21:39:07.257Z"
   },
   {
    "duration": 189,
    "start_time": "2022-08-23T21:39:07.269Z"
   },
   {
    "duration": 15,
    "start_time": "2022-08-23T21:39:07.461Z"
   },
   {
    "duration": 20,
    "start_time": "2022-08-23T21:39:07.477Z"
   },
   {
    "duration": 10,
    "start_time": "2022-08-23T21:39:07.499Z"
   },
   {
    "duration": 9,
    "start_time": "2022-08-23T21:39:07.510Z"
   },
   {
    "duration": 43,
    "start_time": "2022-08-23T21:39:07.521Z"
   },
   {
    "duration": 414,
    "start_time": "2022-08-23T21:39:07.565Z"
   },
   {
    "duration": 127,
    "start_time": "2022-08-23T21:39:07.980Z"
   },
   {
    "duration": 118,
    "start_time": "2022-08-23T21:39:08.109Z"
   },
   {
    "duration": 116,
    "start_time": "2022-08-23T21:39:08.228Z"
   },
   {
    "duration": 128,
    "start_time": "2022-08-23T21:39:08.345Z"
   },
   {
    "duration": 244,
    "start_time": "2022-08-23T21:39:08.474Z"
   },
   {
    "duration": 124,
    "start_time": "2022-08-23T21:39:08.720Z"
   },
   {
    "duration": 130,
    "start_time": "2022-08-23T21:39:08.845Z"
   },
   {
    "duration": 135,
    "start_time": "2022-08-23T21:39:08.976Z"
   },
   {
    "duration": 160,
    "start_time": "2022-08-23T21:39:09.113Z"
   },
   {
    "duration": 222,
    "start_time": "2022-08-23T21:39:09.276Z"
   },
   {
    "duration": 208,
    "start_time": "2022-08-23T21:39:09.499Z"
   },
   {
    "duration": 109,
    "start_time": "2022-08-23T21:39:09.708Z"
   },
   {
    "duration": 118,
    "start_time": "2022-08-23T21:39:09.818Z"
   },
   {
    "duration": 124,
    "start_time": "2022-08-23T21:39:09.938Z"
   },
   {
    "duration": 147,
    "start_time": "2022-08-23T21:39:10.064Z"
   },
   {
    "duration": 280,
    "start_time": "2022-08-23T21:39:10.212Z"
   },
   {
    "duration": 198,
    "start_time": "2022-08-23T21:39:10.494Z"
   },
   {
    "duration": 169,
    "start_time": "2022-08-23T21:39:10.693Z"
   },
   {
    "duration": 160,
    "start_time": "2022-08-23T21:39:10.864Z"
   },
   {
    "duration": 133,
    "start_time": "2022-08-23T21:39:11.026Z"
   },
   {
    "duration": 248,
    "start_time": "2022-08-23T21:39:11.161Z"
   },
   {
    "duration": 219,
    "start_time": "2022-08-23T21:39:13.617Z"
   },
   {
    "duration": 157,
    "start_time": "2022-08-23T21:39:29.412Z"
   },
   {
    "duration": 149,
    "start_time": "2022-08-23T21:41:03.920Z"
   },
   {
    "duration": 146,
    "start_time": "2022-08-23T21:44:15.468Z"
   },
   {
    "duration": 8,
    "start_time": "2022-08-23T21:47:50.582Z"
   },
   {
    "duration": 165,
    "start_time": "2022-08-23T21:48:02.420Z"
   },
   {
    "duration": 352,
    "start_time": "2022-08-23T21:48:22.818Z"
   },
   {
    "duration": 2429,
    "start_time": "2022-08-23T21:48:23.172Z"
   },
   {
    "duration": 51,
    "start_time": "2022-08-23T21:48:25.603Z"
   },
   {
    "duration": 10,
    "start_time": "2022-08-23T21:48:25.655Z"
   },
   {
    "duration": 25,
    "start_time": "2022-08-23T21:48:25.668Z"
   },
   {
    "duration": 7,
    "start_time": "2022-08-23T21:48:25.695Z"
   },
   {
    "duration": 19,
    "start_time": "2022-08-23T21:48:25.706Z"
   },
   {
    "duration": 183,
    "start_time": "2022-08-23T21:48:25.726Z"
   },
   {
    "duration": 14,
    "start_time": "2022-08-23T21:48:25.911Z"
   },
   {
    "duration": 31,
    "start_time": "2022-08-23T21:48:25.926Z"
   },
   {
    "duration": 10,
    "start_time": "2022-08-23T21:48:25.959Z"
   },
   {
    "duration": 10,
    "start_time": "2022-08-23T21:48:25.970Z"
   },
   {
    "duration": 20,
    "start_time": "2022-08-23T21:48:25.981Z"
   },
   {
    "duration": 407,
    "start_time": "2022-08-23T21:48:26.004Z"
   },
   {
    "duration": 122,
    "start_time": "2022-08-23T21:48:26.413Z"
   },
   {
    "duration": 124,
    "start_time": "2022-08-23T21:48:26.537Z"
   },
   {
    "duration": 201,
    "start_time": "2022-08-23T21:48:26.664Z"
   },
   {
    "duration": 122,
    "start_time": "2022-08-23T21:48:26.867Z"
   },
   {
    "duration": 143,
    "start_time": "2022-08-23T21:48:26.990Z"
   },
   {
    "duration": 140,
    "start_time": "2022-08-23T21:48:27.135Z"
   },
   {
    "duration": 121,
    "start_time": "2022-08-23T21:48:27.277Z"
   },
   {
    "duration": 130,
    "start_time": "2022-08-23T21:48:27.400Z"
   },
   {
    "duration": 175,
    "start_time": "2022-08-23T21:48:27.531Z"
   },
   {
    "duration": 233,
    "start_time": "2022-08-23T21:48:27.708Z"
   },
   {
    "duration": 222,
    "start_time": "2022-08-23T21:48:27.942Z"
   },
   {
    "duration": 187,
    "start_time": "2022-08-23T21:48:28.166Z"
   },
   {
    "duration": 122,
    "start_time": "2022-08-23T21:48:28.358Z"
   },
   {
    "duration": 123,
    "start_time": "2022-08-23T21:48:28.482Z"
   },
   {
    "duration": 143,
    "start_time": "2022-08-23T21:48:28.606Z"
   },
   {
    "duration": 179,
    "start_time": "2022-08-23T21:48:28.756Z"
   },
   {
    "duration": 203,
    "start_time": "2022-08-23T21:48:28.936Z"
   },
   {
    "duration": 184,
    "start_time": "2022-08-23T21:48:29.140Z"
   },
   {
    "duration": 171,
    "start_time": "2022-08-23T21:48:29.325Z"
   },
   {
    "duration": 126,
    "start_time": "2022-08-23T21:48:29.498Z"
   },
   {
    "duration": 235,
    "start_time": "2022-08-23T21:48:29.626Z"
   },
   {
    "duration": 166,
    "start_time": "2022-08-23T21:48:29.863Z"
   },
   {
    "duration": 166,
    "start_time": "2022-08-23T21:48:30.030Z"
   },
   {
    "duration": 179,
    "start_time": "2022-08-23T21:48:30.198Z"
   },
   {
    "duration": 294,
    "start_time": "2022-08-23T21:48:30.379Z"
   },
   {
    "duration": 0,
    "start_time": "2022-08-23T21:48:30.675Z"
   },
   {
    "duration": 0,
    "start_time": "2022-08-23T21:48:30.677Z"
   },
   {
    "duration": 262,
    "start_time": "2022-08-23T21:49:08.130Z"
   },
   {
    "duration": 194,
    "start_time": "2022-08-23T21:51:09.360Z"
   },
   {
    "duration": 25,
    "start_time": "2022-08-23T21:52:35.781Z"
   },
   {
    "duration": 22,
    "start_time": "2022-08-23T21:52:41.498Z"
   },
   {
    "duration": 22,
    "start_time": "2022-08-23T21:52:47.997Z"
   },
   {
    "duration": 278,
    "start_time": "2022-08-23T21:53:32.895Z"
   },
   {
    "duration": 34,
    "start_time": "2022-08-23T21:53:49.457Z"
   },
   {
    "duration": 402,
    "start_time": "2022-08-23T21:54:32.485Z"
   },
   {
    "duration": 2564,
    "start_time": "2022-08-23T21:54:32.889Z"
   },
   {
    "duration": 44,
    "start_time": "2022-08-23T21:54:35.454Z"
   },
   {
    "duration": 6,
    "start_time": "2022-08-23T21:54:35.500Z"
   },
   {
    "duration": 11,
    "start_time": "2022-08-23T21:54:35.507Z"
   },
   {
    "duration": 6,
    "start_time": "2022-08-23T21:54:35.519Z"
   },
   {
    "duration": 11,
    "start_time": "2022-08-23T21:54:35.526Z"
   },
   {
    "duration": 218,
    "start_time": "2022-08-23T21:54:35.539Z"
   },
   {
    "duration": 16,
    "start_time": "2022-08-23T21:54:35.759Z"
   },
   {
    "duration": 18,
    "start_time": "2022-08-23T21:54:35.777Z"
   },
   {
    "duration": 9,
    "start_time": "2022-08-23T21:54:35.797Z"
   },
   {
    "duration": 10,
    "start_time": "2022-08-23T21:54:35.808Z"
   },
   {
    "duration": 40,
    "start_time": "2022-08-23T21:54:35.819Z"
   },
   {
    "duration": 400,
    "start_time": "2022-08-23T21:54:35.861Z"
   },
   {
    "duration": 133,
    "start_time": "2022-08-23T21:54:36.263Z"
   },
   {
    "duration": 125,
    "start_time": "2022-08-23T21:54:36.399Z"
   },
   {
    "duration": 202,
    "start_time": "2022-08-23T21:54:36.525Z"
   },
   {
    "duration": 157,
    "start_time": "2022-08-23T21:54:36.729Z"
   },
   {
    "duration": 154,
    "start_time": "2022-08-23T21:54:36.888Z"
   },
   {
    "duration": 124,
    "start_time": "2022-08-23T21:54:37.044Z"
   },
   {
    "duration": 117,
    "start_time": "2022-08-23T21:54:37.170Z"
   },
   {
    "duration": 127,
    "start_time": "2022-08-23T21:54:37.288Z"
   },
   {
    "duration": 161,
    "start_time": "2022-08-23T21:54:37.417Z"
   },
   {
    "duration": 240,
    "start_time": "2022-08-23T21:54:37.579Z"
   },
   {
    "duration": 219,
    "start_time": "2022-08-23T21:54:37.820Z"
   },
   {
    "duration": 170,
    "start_time": "2022-08-23T21:54:38.041Z"
   },
   {
    "duration": 124,
    "start_time": "2022-08-23T21:54:38.213Z"
   },
   {
    "duration": 146,
    "start_time": "2022-08-23T21:54:38.340Z"
   },
   {
    "duration": 147,
    "start_time": "2022-08-23T21:54:38.489Z"
   },
   {
    "duration": 176,
    "start_time": "2022-08-23T21:54:38.638Z"
   },
   {
    "duration": 199,
    "start_time": "2022-08-23T21:54:38.815Z"
   },
   {
    "duration": 203,
    "start_time": "2022-08-23T21:54:39.016Z"
   },
   {
    "duration": 172,
    "start_time": "2022-08-23T21:54:39.222Z"
   },
   {
    "duration": 133,
    "start_time": "2022-08-23T21:54:39.396Z"
   },
   {
    "duration": 230,
    "start_time": "2022-08-23T21:54:39.531Z"
   },
   {
    "duration": 175,
    "start_time": "2022-08-23T21:54:39.763Z"
   },
   {
    "duration": 158,
    "start_time": "2022-08-23T21:54:39.939Z"
   },
   {
    "duration": 160,
    "start_time": "2022-08-23T21:54:40.099Z"
   },
   {
    "duration": 331,
    "start_time": "2022-08-23T21:54:40.261Z"
   },
   {
    "duration": 0,
    "start_time": "2022-08-23T21:54:40.594Z"
   },
   {
    "duration": 0,
    "start_time": "2022-08-23T21:54:40.595Z"
   },
   {
    "duration": 390,
    "start_time": "2022-08-23T21:57:47.828Z"
   },
   {
    "duration": 2317,
    "start_time": "2022-08-23T21:57:48.220Z"
   },
   {
    "duration": 47,
    "start_time": "2022-08-23T21:57:50.541Z"
   },
   {
    "duration": 6,
    "start_time": "2022-08-23T21:57:50.590Z"
   },
   {
    "duration": 13,
    "start_time": "2022-08-23T21:57:50.598Z"
   },
   {
    "duration": 7,
    "start_time": "2022-08-23T21:57:50.612Z"
   },
   {
    "duration": 21,
    "start_time": "2022-08-23T21:57:50.621Z"
   },
   {
    "duration": 195,
    "start_time": "2022-08-23T21:57:50.644Z"
   },
   {
    "duration": 22,
    "start_time": "2022-08-23T21:57:50.842Z"
   },
   {
    "duration": 22,
    "start_time": "2022-08-23T21:57:50.865Z"
   },
   {
    "duration": 10,
    "start_time": "2022-08-23T21:57:50.889Z"
   },
   {
    "duration": 9,
    "start_time": "2022-08-23T21:57:50.901Z"
   },
   {
    "duration": 46,
    "start_time": "2022-08-23T21:57:50.912Z"
   },
   {
    "duration": 426,
    "start_time": "2022-08-23T21:57:50.960Z"
   },
   {
    "duration": 140,
    "start_time": "2022-08-23T21:57:51.388Z"
   },
   {
    "duration": 151,
    "start_time": "2022-08-23T21:57:51.530Z"
   },
   {
    "duration": 219,
    "start_time": "2022-08-23T21:57:51.683Z"
   },
   {
    "duration": 132,
    "start_time": "2022-08-23T21:57:51.904Z"
   },
   {
    "duration": 147,
    "start_time": "2022-08-23T21:57:52.038Z"
   },
   {
    "duration": 134,
    "start_time": "2022-08-23T21:57:52.186Z"
   },
   {
    "duration": 124,
    "start_time": "2022-08-23T21:57:52.321Z"
   },
   {
    "duration": 140,
    "start_time": "2022-08-23T21:57:52.447Z"
   },
   {
    "duration": 168,
    "start_time": "2022-08-23T21:57:52.589Z"
   },
   {
    "duration": 223,
    "start_time": "2022-08-23T21:57:52.759Z"
   },
   {
    "duration": 211,
    "start_time": "2022-08-23T21:57:52.984Z"
   },
   {
    "duration": 182,
    "start_time": "2022-08-23T21:57:53.197Z"
   },
   {
    "duration": 117,
    "start_time": "2022-08-23T21:57:53.381Z"
   },
   {
    "duration": 127,
    "start_time": "2022-08-23T21:57:53.499Z"
   },
   {
    "duration": 144,
    "start_time": "2022-08-23T21:57:53.628Z"
   },
   {
    "duration": 173,
    "start_time": "2022-08-23T21:57:53.774Z"
   },
   {
    "duration": 194,
    "start_time": "2022-08-23T21:57:53.956Z"
   },
   {
    "duration": 174,
    "start_time": "2022-08-23T21:57:54.152Z"
   },
   {
    "duration": 158,
    "start_time": "2022-08-23T21:57:54.328Z"
   },
   {
    "duration": 131,
    "start_time": "2022-08-23T21:57:54.487Z"
   },
   {
    "duration": 241,
    "start_time": "2022-08-23T21:57:54.620Z"
   },
   {
    "duration": 164,
    "start_time": "2022-08-23T21:57:54.862Z"
   },
   {
    "duration": 160,
    "start_time": "2022-08-23T21:57:55.027Z"
   },
   {
    "duration": 188,
    "start_time": "2022-08-23T21:57:55.189Z"
   },
   {
    "duration": 229,
    "start_time": "2022-08-23T21:57:55.379Z"
   },
   {
    "duration": 0,
    "start_time": "2022-08-23T21:57:55.610Z"
   },
   {
    "duration": 0,
    "start_time": "2022-08-23T21:57:55.611Z"
   },
   {
    "duration": 304,
    "start_time": "2022-08-23T22:00:33.365Z"
   },
   {
    "duration": 498,
    "start_time": "2022-08-23T22:00:40.260Z"
   },
   {
    "duration": 51,
    "start_time": "2022-08-23T22:04:39.620Z"
   },
   {
    "duration": 414,
    "start_time": "2022-08-23T22:05:43.030Z"
   },
   {
    "duration": 2440,
    "start_time": "2022-08-23T22:05:43.445Z"
   },
   {
    "duration": 44,
    "start_time": "2022-08-23T22:05:45.886Z"
   },
   {
    "duration": 6,
    "start_time": "2022-08-23T22:05:45.932Z"
   },
   {
    "duration": 13,
    "start_time": "2022-08-23T22:05:45.940Z"
   },
   {
    "duration": 11,
    "start_time": "2022-08-23T22:05:45.954Z"
   },
   {
    "duration": 14,
    "start_time": "2022-08-23T22:05:45.966Z"
   },
   {
    "duration": 181,
    "start_time": "2022-08-23T22:05:45.981Z"
   },
   {
    "duration": 15,
    "start_time": "2022-08-23T22:05:46.164Z"
   },
   {
    "duration": 19,
    "start_time": "2022-08-23T22:05:46.181Z"
   },
   {
    "duration": 9,
    "start_time": "2022-08-23T22:05:46.202Z"
   },
   {
    "duration": 10,
    "start_time": "2022-08-23T22:05:46.212Z"
   },
   {
    "duration": 49,
    "start_time": "2022-08-23T22:05:46.223Z"
   },
   {
    "duration": 397,
    "start_time": "2022-08-23T22:05:46.274Z"
   },
   {
    "duration": 131,
    "start_time": "2022-08-23T22:05:46.673Z"
   },
   {
    "duration": 131,
    "start_time": "2022-08-23T22:05:46.806Z"
   },
   {
    "duration": 195,
    "start_time": "2022-08-23T22:05:46.939Z"
   },
   {
    "duration": 130,
    "start_time": "2022-08-23T22:05:47.135Z"
   },
   {
    "duration": 144,
    "start_time": "2022-08-23T22:05:47.267Z"
   },
   {
    "duration": 129,
    "start_time": "2022-08-23T22:05:47.413Z"
   },
   {
    "duration": 130,
    "start_time": "2022-08-23T22:05:47.544Z"
   },
   {
    "duration": 129,
    "start_time": "2022-08-23T22:05:47.676Z"
   },
   {
    "duration": 159,
    "start_time": "2022-08-23T22:05:47.806Z"
   },
   {
    "duration": 225,
    "start_time": "2022-08-23T22:05:47.967Z"
   },
   {
    "duration": 210,
    "start_time": "2022-08-23T22:05:48.194Z"
   },
   {
    "duration": 182,
    "start_time": "2022-08-23T22:05:48.405Z"
   },
   {
    "duration": 123,
    "start_time": "2022-08-23T22:05:48.589Z"
   },
   {
    "duration": 130,
    "start_time": "2022-08-23T22:05:48.716Z"
   },
   {
    "duration": 152,
    "start_time": "2022-08-23T22:05:48.848Z"
   },
   {
    "duration": 176,
    "start_time": "2022-08-23T22:05:49.001Z"
   },
   {
    "duration": 199,
    "start_time": "2022-08-23T22:05:49.179Z"
   },
   {
    "duration": 171,
    "start_time": "2022-08-23T22:05:49.379Z"
   },
   {
    "duration": 159,
    "start_time": "2022-08-23T22:05:49.551Z"
   },
   {
    "duration": 133,
    "start_time": "2022-08-23T22:05:49.712Z"
   },
   {
    "duration": 259,
    "start_time": "2022-08-23T22:05:49.847Z"
   },
   {
    "duration": 174,
    "start_time": "2022-08-23T22:05:50.108Z"
   },
   {
    "duration": 170,
    "start_time": "2022-08-23T22:05:50.283Z"
   },
   {
    "duration": 164,
    "start_time": "2022-08-23T22:05:50.458Z"
   },
   {
    "duration": 66,
    "start_time": "2022-08-23T22:05:50.624Z"
   },
   {
    "duration": 35,
    "start_time": "2022-08-23T22:05:50.691Z"
   },
   {
    "duration": 179,
    "start_time": "2022-08-23T22:05:50.729Z"
   },
   {
    "duration": 339,
    "start_time": "2022-08-23T22:07:42.134Z"
   },
   {
    "duration": 179,
    "start_time": "2022-08-23T22:09:08.862Z"
   },
   {
    "duration": 185,
    "start_time": "2022-08-23T22:09:23.036Z"
   },
   {
    "duration": 319,
    "start_time": "2022-08-23T22:09:41.002Z"
   },
   {
    "duration": 16,
    "start_time": "2022-08-23T22:09:59.260Z"
   },
   {
    "duration": 25,
    "start_time": "2022-08-23T22:10:14.096Z"
   },
   {
    "duration": 203,
    "start_time": "2022-08-23T22:10:21.430Z"
   },
   {
    "duration": 171,
    "start_time": "2022-08-23T22:11:14.617Z"
   },
   {
    "duration": 250,
    "start_time": "2022-08-23T22:11:24.555Z"
   },
   {
    "duration": 191,
    "start_time": "2022-08-23T22:11:31.975Z"
   },
   {
    "duration": 23,
    "start_time": "2022-08-23T22:11:42.287Z"
   },
   {
    "duration": 185,
    "start_time": "2022-08-23T22:12:47.328Z"
   },
   {
    "duration": 376,
    "start_time": "2022-08-23T22:13:03.906Z"
   },
   {
    "duration": 2532,
    "start_time": "2022-08-23T22:13:04.285Z"
   },
   {
    "duration": 46,
    "start_time": "2022-08-23T22:13:06.819Z"
   },
   {
    "duration": 6,
    "start_time": "2022-08-23T22:13:06.867Z"
   },
   {
    "duration": 11,
    "start_time": "2022-08-23T22:13:06.875Z"
   },
   {
    "duration": 6,
    "start_time": "2022-08-23T22:13:06.887Z"
   },
   {
    "duration": 15,
    "start_time": "2022-08-23T22:13:06.894Z"
   },
   {
    "duration": 203,
    "start_time": "2022-08-23T22:13:06.910Z"
   },
   {
    "duration": 15,
    "start_time": "2022-08-23T22:13:07.114Z"
   },
   {
    "duration": 30,
    "start_time": "2022-08-23T22:13:07.132Z"
   },
   {
    "duration": 10,
    "start_time": "2022-08-23T22:13:07.164Z"
   },
   {
    "duration": 10,
    "start_time": "2022-08-23T22:13:07.175Z"
   },
   {
    "duration": 23,
    "start_time": "2022-08-23T22:13:07.187Z"
   },
   {
    "duration": 437,
    "start_time": "2022-08-23T22:13:07.212Z"
   },
   {
    "duration": 130,
    "start_time": "2022-08-23T22:13:07.651Z"
   },
   {
    "duration": 130,
    "start_time": "2022-08-23T22:13:07.783Z"
   },
   {
    "duration": 204,
    "start_time": "2022-08-23T22:13:07.915Z"
   },
   {
    "duration": 136,
    "start_time": "2022-08-23T22:13:08.121Z"
   },
   {
    "duration": 142,
    "start_time": "2022-08-23T22:13:08.258Z"
   },
   {
    "duration": 131,
    "start_time": "2022-08-23T22:13:08.402Z"
   },
   {
    "duration": 126,
    "start_time": "2022-08-23T22:13:08.535Z"
   },
   {
    "duration": 139,
    "start_time": "2022-08-23T22:13:08.663Z"
   },
   {
    "duration": 158,
    "start_time": "2022-08-23T22:13:08.804Z"
   },
   {
    "duration": 230,
    "start_time": "2022-08-23T22:13:08.964Z"
   },
   {
    "duration": 221,
    "start_time": "2022-08-23T22:13:09.196Z"
   },
   {
    "duration": 174,
    "start_time": "2022-08-23T22:13:09.419Z"
   },
   {
    "duration": 124,
    "start_time": "2022-08-23T22:13:09.595Z"
   },
   {
    "duration": 125,
    "start_time": "2022-08-23T22:13:09.722Z"
   },
   {
    "duration": 156,
    "start_time": "2022-08-23T22:13:09.857Z"
   },
   {
    "duration": 189,
    "start_time": "2022-08-23T22:13:10.015Z"
   },
   {
    "duration": 218,
    "start_time": "2022-08-23T22:13:10.205Z"
   },
   {
    "duration": 170,
    "start_time": "2022-08-23T22:13:10.424Z"
   },
   {
    "duration": 168,
    "start_time": "2022-08-23T22:13:10.595Z"
   },
   {
    "duration": 134,
    "start_time": "2022-08-23T22:13:10.765Z"
   },
   {
    "duration": 241,
    "start_time": "2022-08-23T22:13:10.901Z"
   },
   {
    "duration": 173,
    "start_time": "2022-08-23T22:13:11.144Z"
   },
   {
    "duration": 153,
    "start_time": "2022-08-23T22:13:11.319Z"
   },
   {
    "duration": 178,
    "start_time": "2022-08-23T22:13:11.474Z"
   },
   {
    "duration": 247,
    "start_time": "2022-08-23T22:13:11.654Z"
   },
   {
    "duration": 0,
    "start_time": "2022-08-23T22:13:11.903Z"
   },
   {
    "duration": 0,
    "start_time": "2022-08-23T22:13:11.904Z"
   },
   {
    "duration": 144,
    "start_time": "2022-08-23T22:16:44.130Z"
   },
   {
    "duration": 386,
    "start_time": "2022-08-23T22:16:50.559Z"
   },
   {
    "duration": 2410,
    "start_time": "2022-08-23T22:16:50.947Z"
   },
   {
    "duration": 44,
    "start_time": "2022-08-23T22:16:53.358Z"
   },
   {
    "duration": 6,
    "start_time": "2022-08-23T22:16:53.404Z"
   },
   {
    "duration": 11,
    "start_time": "2022-08-23T22:16:53.411Z"
   },
   {
    "duration": 6,
    "start_time": "2022-08-23T22:16:53.423Z"
   },
   {
    "duration": 34,
    "start_time": "2022-08-23T22:16:53.430Z"
   },
   {
    "duration": 182,
    "start_time": "2022-08-23T22:16:53.466Z"
   },
   {
    "duration": 18,
    "start_time": "2022-08-23T22:16:53.650Z"
   },
   {
    "duration": 19,
    "start_time": "2022-08-23T22:16:53.670Z"
   },
   {
    "duration": 11,
    "start_time": "2022-08-23T22:16:53.690Z"
   },
   {
    "duration": 10,
    "start_time": "2022-08-23T22:16:53.702Z"
   },
   {
    "duration": 44,
    "start_time": "2022-08-23T22:16:53.713Z"
   },
   {
    "duration": 396,
    "start_time": "2022-08-23T22:16:53.759Z"
   },
   {
    "duration": 128,
    "start_time": "2022-08-23T22:16:54.158Z"
   },
   {
    "duration": 132,
    "start_time": "2022-08-23T22:16:54.288Z"
   },
   {
    "duration": 199,
    "start_time": "2022-08-23T22:16:54.422Z"
   },
   {
    "duration": 142,
    "start_time": "2022-08-23T22:16:54.623Z"
   },
   {
    "duration": 141,
    "start_time": "2022-08-23T22:16:54.766Z"
   },
   {
    "duration": 132,
    "start_time": "2022-08-23T22:16:54.908Z"
   },
   {
    "duration": 128,
    "start_time": "2022-08-23T22:16:55.042Z"
   },
   {
    "duration": 194,
    "start_time": "2022-08-23T22:16:55.172Z"
   },
   {
    "duration": 156,
    "start_time": "2022-08-23T22:16:55.367Z"
   },
   {
    "duration": 267,
    "start_time": "2022-08-23T22:16:55.525Z"
   },
   {
    "duration": 213,
    "start_time": "2022-08-23T22:16:55.794Z"
   },
   {
    "duration": 175,
    "start_time": "2022-08-23T22:16:56.009Z"
   },
   {
    "duration": 119,
    "start_time": "2022-08-23T22:16:56.185Z"
   },
   {
    "duration": 130,
    "start_time": "2022-08-23T22:16:56.307Z"
   },
   {
    "duration": 143,
    "start_time": "2022-08-23T22:16:56.438Z"
   },
   {
    "duration": 176,
    "start_time": "2022-08-23T22:16:56.583Z"
   },
   {
    "duration": 201,
    "start_time": "2022-08-23T22:16:56.761Z"
   },
   {
    "duration": 176,
    "start_time": "2022-08-23T22:16:56.964Z"
   },
   {
    "duration": 163,
    "start_time": "2022-08-23T22:16:57.142Z"
   },
   {
    "duration": 133,
    "start_time": "2022-08-23T22:16:57.307Z"
   },
   {
    "duration": 240,
    "start_time": "2022-08-23T22:16:57.441Z"
   },
   {
    "duration": 159,
    "start_time": "2022-08-23T22:16:57.683Z"
   },
   {
    "duration": 156,
    "start_time": "2022-08-23T22:16:57.843Z"
   },
   {
    "duration": 156,
    "start_time": "2022-08-23T22:16:58.001Z"
   },
   {
    "duration": 251,
    "start_time": "2022-08-23T22:16:58.159Z"
   },
   {
    "duration": 0,
    "start_time": "2022-08-23T22:16:58.411Z"
   },
   {
    "duration": 0,
    "start_time": "2022-08-23T22:16:58.413Z"
   },
   {
    "duration": 32,
    "start_time": "2022-08-23T22:18:27.540Z"
   },
   {
    "duration": 828,
    "start_time": "2022-08-23T22:19:36.446Z"
   },
   {
    "duration": 991,
    "start_time": "2022-08-23T22:20:03.501Z"
   },
   {
    "duration": 33,
    "start_time": "2022-08-23T22:21:29.561Z"
   },
   {
    "duration": 34,
    "start_time": "2022-08-23T22:21:39.811Z"
   },
   {
    "duration": 44,
    "start_time": "2022-08-23T22:21:45.320Z"
   },
   {
    "duration": 800,
    "start_time": "2022-08-23T22:22:53.826Z"
   },
   {
    "duration": 40,
    "start_time": "2022-08-23T22:24:09.041Z"
   },
   {
    "duration": 38,
    "start_time": "2022-08-23T22:24:34.894Z"
   },
   {
    "duration": 30,
    "start_time": "2022-08-23T22:24:38.109Z"
   },
   {
    "duration": 26,
    "start_time": "2022-08-23T22:24:46.780Z"
   },
   {
    "duration": 30,
    "start_time": "2022-08-23T22:25:00.890Z"
   },
   {
    "duration": 77,
    "start_time": "2022-08-23T22:25:47.653Z"
   },
   {
    "duration": 24,
    "start_time": "2022-08-23T22:27:17.967Z"
   },
   {
    "duration": 34,
    "start_time": "2022-08-23T22:28:10.510Z"
   },
   {
    "duration": 32,
    "start_time": "2022-08-23T22:28:49.791Z"
   },
   {
    "duration": 32,
    "start_time": "2022-08-23T22:29:17.614Z"
   },
   {
    "duration": 32,
    "start_time": "2022-08-23T22:29:36.756Z"
   },
   {
    "duration": 144,
    "start_time": "2022-08-23T22:31:38.598Z"
   },
   {
    "duration": 392,
    "start_time": "2022-08-23T22:36:03.261Z"
   },
   {
    "duration": 2396,
    "start_time": "2022-08-23T22:36:03.655Z"
   },
   {
    "duration": 43,
    "start_time": "2022-08-23T22:36:06.055Z"
   },
   {
    "duration": 8,
    "start_time": "2022-08-23T22:36:06.100Z"
   },
   {
    "duration": 12,
    "start_time": "2022-08-23T22:36:06.110Z"
   },
   {
    "duration": 7,
    "start_time": "2022-08-23T22:36:06.123Z"
   },
   {
    "duration": 32,
    "start_time": "2022-08-23T22:36:06.131Z"
   },
   {
    "duration": 178,
    "start_time": "2022-08-23T22:36:06.165Z"
   },
   {
    "duration": 20,
    "start_time": "2022-08-23T22:36:06.345Z"
   },
   {
    "duration": 19,
    "start_time": "2022-08-23T22:36:06.367Z"
   },
   {
    "duration": 9,
    "start_time": "2022-08-23T22:36:06.388Z"
   },
   {
    "duration": 23,
    "start_time": "2022-08-23T22:36:06.398Z"
   },
   {
    "duration": 26,
    "start_time": "2022-08-23T22:36:06.422Z"
   },
   {
    "duration": 405,
    "start_time": "2022-08-23T22:36:06.449Z"
   },
   {
    "duration": 127,
    "start_time": "2022-08-23T22:36:06.857Z"
   },
   {
    "duration": 115,
    "start_time": "2022-08-23T22:36:06.986Z"
   },
   {
    "duration": 207,
    "start_time": "2022-08-23T22:36:07.103Z"
   },
   {
    "duration": 125,
    "start_time": "2022-08-23T22:36:07.312Z"
   },
   {
    "duration": 142,
    "start_time": "2022-08-23T22:36:07.438Z"
   },
   {
    "duration": 125,
    "start_time": "2022-08-23T22:36:07.582Z"
   },
   {
    "duration": 117,
    "start_time": "2022-08-23T22:36:07.709Z"
   },
   {
    "duration": 124,
    "start_time": "2022-08-23T22:36:07.828Z"
   },
   {
    "duration": 154,
    "start_time": "2022-08-23T22:36:07.954Z"
   },
   {
    "duration": 221,
    "start_time": "2022-08-23T22:36:08.110Z"
   },
   {
    "duration": 206,
    "start_time": "2022-08-23T22:36:08.333Z"
   },
   {
    "duration": 165,
    "start_time": "2022-08-23T22:36:08.541Z"
   },
   {
    "duration": 112,
    "start_time": "2022-08-23T22:36:08.710Z"
   },
   {
    "duration": 123,
    "start_time": "2022-08-23T22:36:08.823Z"
   },
   {
    "duration": 145,
    "start_time": "2022-08-23T22:36:08.948Z"
   },
   {
    "duration": 174,
    "start_time": "2022-08-23T22:36:09.095Z"
   },
   {
    "duration": 196,
    "start_time": "2022-08-23T22:36:09.271Z"
   },
   {
    "duration": 173,
    "start_time": "2022-08-23T22:36:09.469Z"
   },
   {
    "duration": 164,
    "start_time": "2022-08-23T22:36:09.644Z"
   },
   {
    "duration": 126,
    "start_time": "2022-08-23T22:36:09.809Z"
   },
   {
    "duration": 231,
    "start_time": "2022-08-23T22:36:09.937Z"
   },
   {
    "duration": 177,
    "start_time": "2022-08-23T22:36:10.170Z"
   },
   {
    "duration": 153,
    "start_time": "2022-08-23T22:36:10.349Z"
   },
   {
    "duration": 147,
    "start_time": "2022-08-23T22:36:10.504Z"
   },
   {
    "duration": 253,
    "start_time": "2022-08-23T22:36:10.657Z"
   },
   {
    "duration": 0,
    "start_time": "2022-08-23T22:36:10.912Z"
   },
   {
    "duration": 0,
    "start_time": "2022-08-23T22:36:10.914Z"
   },
   {
    "duration": 402,
    "start_time": "2022-08-24T20:10:45.149Z"
   },
   {
    "duration": 2274,
    "start_time": "2022-08-24T20:10:45.553Z"
   },
   {
    "duration": 46,
    "start_time": "2022-08-24T20:10:47.828Z"
   },
   {
    "duration": 6,
    "start_time": "2022-08-24T20:10:47.876Z"
   },
   {
    "duration": 27,
    "start_time": "2022-08-24T20:10:47.883Z"
   },
   {
    "duration": 13,
    "start_time": "2022-08-24T20:10:47.911Z"
   },
   {
    "duration": 20,
    "start_time": "2022-08-24T20:10:47.925Z"
   },
   {
    "duration": 190,
    "start_time": "2022-08-24T20:10:47.946Z"
   },
   {
    "duration": 15,
    "start_time": "2022-08-24T20:10:48.137Z"
   },
   {
    "duration": 18,
    "start_time": "2022-08-24T20:10:48.158Z"
   },
   {
    "duration": 9,
    "start_time": "2022-08-24T20:10:48.178Z"
   },
   {
    "duration": 9,
    "start_time": "2022-08-24T20:10:48.188Z"
   },
   {
    "duration": 20,
    "start_time": "2022-08-24T20:10:48.198Z"
   },
   {
    "duration": 397,
    "start_time": "2022-08-24T20:10:48.220Z"
   },
   {
    "duration": 124,
    "start_time": "2022-08-24T20:10:48.619Z"
   },
   {
    "duration": 122,
    "start_time": "2022-08-24T20:10:48.745Z"
   },
   {
    "duration": 193,
    "start_time": "2022-08-24T20:10:48.869Z"
   },
   {
    "duration": 124,
    "start_time": "2022-08-24T20:10:49.063Z"
   },
   {
    "duration": 149,
    "start_time": "2022-08-24T20:10:49.189Z"
   },
   {
    "duration": 125,
    "start_time": "2022-08-24T20:10:49.339Z"
   },
   {
    "duration": 114,
    "start_time": "2022-08-24T20:10:49.466Z"
   },
   {
    "duration": 121,
    "start_time": "2022-08-24T20:10:49.581Z"
   },
   {
    "duration": 149,
    "start_time": "2022-08-24T20:10:49.703Z"
   },
   {
    "duration": 222,
    "start_time": "2022-08-24T20:10:49.856Z"
   },
   {
    "duration": 215,
    "start_time": "2022-08-24T20:10:50.080Z"
   },
   {
    "duration": 167,
    "start_time": "2022-08-24T20:10:50.297Z"
   },
   {
    "duration": 113,
    "start_time": "2022-08-24T20:10:50.465Z"
   },
   {
    "duration": 120,
    "start_time": "2022-08-24T20:10:50.581Z"
   },
   {
    "duration": 131,
    "start_time": "2022-08-24T20:10:50.703Z"
   },
   {
    "duration": 166,
    "start_time": "2022-08-24T20:10:50.835Z"
   },
   {
    "duration": 200,
    "start_time": "2022-08-24T20:10:51.003Z"
   },
   {
    "duration": 190,
    "start_time": "2022-08-24T20:10:51.205Z"
   },
   {
    "duration": 170,
    "start_time": "2022-08-24T20:10:51.397Z"
   },
   {
    "duration": 135,
    "start_time": "2022-08-24T20:10:51.569Z"
   },
   {
    "duration": 247,
    "start_time": "2022-08-24T20:10:51.706Z"
   },
   {
    "duration": 166,
    "start_time": "2022-08-24T20:10:51.954Z"
   },
   {
    "duration": 157,
    "start_time": "2022-08-24T20:10:52.122Z"
   },
   {
    "duration": 170,
    "start_time": "2022-08-24T20:10:52.281Z"
   },
   {
    "duration": 312,
    "start_time": "2022-08-24T20:10:52.453Z"
   },
   {
    "duration": 0,
    "start_time": "2022-08-24T20:10:52.767Z"
   },
   {
    "duration": 0,
    "start_time": "2022-08-24T20:10:52.769Z"
   },
   {
    "duration": 14,
    "start_time": "2022-08-24T20:12:07.176Z"
   },
   {
    "duration": 153,
    "start_time": "2022-08-24T20:12:10.568Z"
   },
   {
    "duration": 13,
    "start_time": "2022-08-24T20:13:49.042Z"
   },
   {
    "duration": 34,
    "start_time": "2022-08-24T20:16:02.532Z"
   },
   {
    "duration": 143,
    "start_time": "2022-08-24T20:16:14.388Z"
   },
   {
    "duration": 43,
    "start_time": "2022-08-24T20:22:14.954Z"
   },
   {
    "duration": 386,
    "start_time": "2022-08-24T20:22:20.027Z"
   },
   {
    "duration": 3101,
    "start_time": "2022-08-24T20:22:20.414Z"
   },
   {
    "duration": 42,
    "start_time": "2022-08-24T20:22:23.517Z"
   },
   {
    "duration": 6,
    "start_time": "2022-08-24T20:22:23.561Z"
   },
   {
    "duration": 13,
    "start_time": "2022-08-24T20:22:23.568Z"
   },
   {
    "duration": 6,
    "start_time": "2022-08-24T20:22:23.584Z"
   },
   {
    "duration": 15,
    "start_time": "2022-08-24T20:22:23.592Z"
   },
   {
    "duration": 213,
    "start_time": "2022-08-24T20:22:23.608Z"
   },
   {
    "duration": 16,
    "start_time": "2022-08-24T20:22:23.823Z"
   },
   {
    "duration": 20,
    "start_time": "2022-08-24T20:22:23.842Z"
   },
   {
    "duration": 11,
    "start_time": "2022-08-24T20:22:23.885Z"
   },
   {
    "duration": 10,
    "start_time": "2022-08-24T20:22:23.897Z"
   },
   {
    "duration": 23,
    "start_time": "2022-08-24T20:22:23.908Z"
   },
   {
    "duration": 436,
    "start_time": "2022-08-24T20:22:23.933Z"
   },
   {
    "duration": 167,
    "start_time": "2022-08-24T20:22:24.371Z"
   },
   {
    "duration": 218,
    "start_time": "2022-08-24T20:22:24.540Z"
   },
   {
    "duration": 129,
    "start_time": "2022-08-24T20:22:24.760Z"
   },
   {
    "duration": 132,
    "start_time": "2022-08-24T20:22:24.891Z"
   },
   {
    "duration": 154,
    "start_time": "2022-08-24T20:22:25.025Z"
   },
   {
    "duration": 139,
    "start_time": "2022-08-24T20:22:25.185Z"
   },
   {
    "duration": 129,
    "start_time": "2022-08-24T20:22:25.326Z"
   },
   {
    "duration": 137,
    "start_time": "2022-08-24T20:22:25.457Z"
   },
   {
    "duration": 155,
    "start_time": "2022-08-24T20:22:25.596Z"
   },
   {
    "duration": 224,
    "start_time": "2022-08-24T20:22:25.753Z"
   },
   {
    "duration": 281,
    "start_time": "2022-08-24T20:22:25.979Z"
   },
   {
    "duration": 110,
    "start_time": "2022-08-24T20:22:26.262Z"
   },
   {
    "duration": 132,
    "start_time": "2022-08-24T20:22:26.374Z"
   },
   {
    "duration": 130,
    "start_time": "2022-08-24T20:22:26.510Z"
   },
   {
    "duration": 152,
    "start_time": "2022-08-24T20:22:26.642Z"
   },
   {
    "duration": 191,
    "start_time": "2022-08-24T20:22:26.796Z"
   },
   {
    "duration": 189,
    "start_time": "2022-08-24T20:22:26.989Z"
   },
   {
    "duration": 167,
    "start_time": "2022-08-24T20:22:27.179Z"
   },
   {
    "duration": 154,
    "start_time": "2022-08-24T20:22:27.347Z"
   },
   {
    "duration": 126,
    "start_time": "2022-08-24T20:22:27.503Z"
   },
   {
    "duration": 244,
    "start_time": "2022-08-24T20:22:27.630Z"
   },
   {
    "duration": 172,
    "start_time": "2022-08-24T20:22:27.875Z"
   },
   {
    "duration": 164,
    "start_time": "2022-08-24T20:22:28.049Z"
   },
   {
    "duration": 227,
    "start_time": "2022-08-24T20:22:28.215Z"
   },
   {
    "duration": 20,
    "start_time": "2022-08-24T20:22:29.146Z"
   },
   {
    "duration": 47,
    "start_time": "2022-08-24T20:24:06.789Z"
   },
   {
    "duration": 175,
    "start_time": "2022-08-24T20:24:20.504Z"
   },
   {
    "duration": 22,
    "start_time": "2022-08-24T20:24:53.601Z"
   },
   {
    "duration": 25,
    "start_time": "2022-08-24T20:25:12.819Z"
   },
   {
    "duration": 728,
    "start_time": "2022-08-24T20:25:20.657Z"
   },
   {
    "duration": 29,
    "start_time": "2022-08-24T20:25:30.441Z"
   },
   {
    "duration": 745,
    "start_time": "2022-08-24T20:25:55.916Z"
   },
   {
    "duration": 718,
    "start_time": "2022-08-24T20:26:11.521Z"
   },
   {
    "duration": 852,
    "start_time": "2022-08-24T20:26:16.033Z"
   },
   {
    "duration": 28,
    "start_time": "2022-08-24T20:26:37.580Z"
   },
   {
    "duration": 29,
    "start_time": "2022-08-24T20:27:02.381Z"
   },
   {
    "duration": 18,
    "start_time": "2022-08-24T20:27:20.881Z"
   },
   {
    "duration": 18,
    "start_time": "2022-08-24T20:27:22.738Z"
   },
   {
    "duration": 20,
    "start_time": "2022-08-24T20:27:38.047Z"
   },
   {
    "duration": 14,
    "start_time": "2022-08-24T20:27:40.958Z"
   },
   {
    "duration": 9,
    "start_time": "2022-08-24T20:27:57.782Z"
   },
   {
    "duration": 12,
    "start_time": "2022-08-24T20:28:14.450Z"
   },
   {
    "duration": 383,
    "start_time": "2022-08-25T19:31:56.877Z"
   },
   {
    "duration": 2241,
    "start_time": "2022-08-25T19:31:57.262Z"
   },
   {
    "duration": 44,
    "start_time": "2022-08-25T19:31:59.504Z"
   },
   {
    "duration": 8,
    "start_time": "2022-08-25T19:31:59.551Z"
   },
   {
    "duration": 13,
    "start_time": "2022-08-25T19:31:59.560Z"
   },
   {
    "duration": 7,
    "start_time": "2022-08-25T19:31:59.575Z"
   },
   {
    "duration": 12,
    "start_time": "2022-08-25T19:31:59.612Z"
   },
   {
    "duration": 217,
    "start_time": "2022-08-25T19:31:59.626Z"
   },
   {
    "duration": 16,
    "start_time": "2022-08-25T19:31:59.845Z"
   },
   {
    "duration": 19,
    "start_time": "2022-08-25T19:31:59.865Z"
   },
   {
    "duration": 33,
    "start_time": "2022-08-25T19:31:59.885Z"
   },
   {
    "duration": 8,
    "start_time": "2022-08-25T19:31:59.920Z"
   },
   {
    "duration": 22,
    "start_time": "2022-08-25T19:31:59.930Z"
   },
   {
    "duration": 430,
    "start_time": "2022-08-25T19:31:59.954Z"
   },
   {
    "duration": 116,
    "start_time": "2022-08-25T19:32:00.385Z"
   },
   {
    "duration": 117,
    "start_time": "2022-08-25T19:32:00.511Z"
   },
   {
    "duration": 182,
    "start_time": "2022-08-25T19:32:00.630Z"
   },
   {
    "duration": 126,
    "start_time": "2022-08-25T19:32:00.814Z"
   },
   {
    "duration": 152,
    "start_time": "2022-08-25T19:32:00.941Z"
   },
   {
    "duration": 127,
    "start_time": "2022-08-25T19:32:01.095Z"
   },
   {
    "duration": 118,
    "start_time": "2022-08-25T19:32:01.223Z"
   },
   {
    "duration": 129,
    "start_time": "2022-08-25T19:32:01.343Z"
   },
   {
    "duration": 148,
    "start_time": "2022-08-25T19:32:01.474Z"
   },
   {
    "duration": 210,
    "start_time": "2022-08-25T19:32:01.623Z"
   },
   {
    "duration": 205,
    "start_time": "2022-08-25T19:32:01.835Z"
   },
   {
    "duration": 171,
    "start_time": "2022-08-25T19:32:02.041Z"
   },
   {
    "duration": 108,
    "start_time": "2022-08-25T19:32:02.214Z"
   },
   {
    "duration": 117,
    "start_time": "2022-08-25T19:32:02.324Z"
   },
   {
    "duration": 149,
    "start_time": "2022-08-25T19:32:02.443Z"
   },
   {
    "duration": 225,
    "start_time": "2022-08-25T19:32:02.593Z"
   },
   {
    "duration": 205,
    "start_time": "2022-08-25T19:32:02.822Z"
   },
   {
    "duration": 177,
    "start_time": "2022-08-25T19:32:03.028Z"
   },
   {
    "duration": 160,
    "start_time": "2022-08-25T19:32:03.207Z"
   },
   {
    "duration": 133,
    "start_time": "2022-08-25T19:32:03.368Z"
   },
   {
    "duration": 236,
    "start_time": "2022-08-25T19:32:03.502Z"
   },
   {
    "duration": 159,
    "start_time": "2022-08-25T19:32:03.739Z"
   },
   {
    "duration": 156,
    "start_time": "2022-08-25T19:32:03.900Z"
   },
   {
    "duration": 153,
    "start_time": "2022-08-25T19:32:04.058Z"
   },
   {
    "duration": 9,
    "start_time": "2022-08-25T19:32:04.212Z"
   },
   {
    "duration": 39,
    "start_time": "2022-08-25T19:32:04.222Z"
   },
   {
    "duration": 162,
    "start_time": "2022-08-25T19:32:04.263Z"
   },
   {
    "duration": 362,
    "start_time": "2022-08-25T19:32:42.925Z"
   },
   {
    "duration": 496,
    "start_time": "2022-08-25T19:34:27.872Z"
   },
   {
    "duration": 244,
    "start_time": "2022-08-25T19:34:38.158Z"
   },
   {
    "duration": 14,
    "start_time": "2022-08-25T19:34:51.834Z"
   },
   {
    "duration": 7,
    "start_time": "2022-08-25T19:35:24.590Z"
   },
   {
    "duration": 8,
    "start_time": "2022-08-25T19:35:32.641Z"
   },
   {
    "duration": 7,
    "start_time": "2022-08-25T19:35:38.727Z"
   },
   {
    "duration": 12,
    "start_time": "2022-08-25T19:35:50.724Z"
   },
   {
    "duration": 11,
    "start_time": "2022-08-25T19:35:53.676Z"
   },
   {
    "duration": 6,
    "start_time": "2022-08-25T19:36:36.397Z"
   },
   {
    "duration": 374,
    "start_time": "2022-08-25T19:36:47.524Z"
   },
   {
    "duration": 14,
    "start_time": "2022-08-25T19:36:59.223Z"
   },
   {
    "duration": 4,
    "start_time": "2022-08-25T19:37:38.693Z"
   },
   {
    "duration": 14,
    "start_time": "2022-08-25T19:37:39.659Z"
   },
   {
    "duration": 249,
    "start_time": "2022-08-25T19:37:44.274Z"
   },
   {
    "duration": 15,
    "start_time": "2022-08-25T19:38:28.099Z"
   },
   {
    "duration": 5,
    "start_time": "2022-08-25T19:40:08.950Z"
   },
   {
    "duration": 399,
    "start_time": "2022-08-25T19:41:01.489Z"
   },
   {
    "duration": 2365,
    "start_time": "2022-08-25T19:41:01.890Z"
   },
   {
    "duration": 39,
    "start_time": "2022-08-25T19:41:04.256Z"
   },
   {
    "duration": 19,
    "start_time": "2022-08-25T19:41:04.297Z"
   },
   {
    "duration": 12,
    "start_time": "2022-08-25T19:41:04.317Z"
   },
   {
    "duration": 13,
    "start_time": "2022-08-25T19:41:04.331Z"
   },
   {
    "duration": 24,
    "start_time": "2022-08-25T19:41:04.346Z"
   },
   {
    "duration": 199,
    "start_time": "2022-08-25T19:41:04.372Z"
   },
   {
    "duration": 14,
    "start_time": "2022-08-25T19:41:04.573Z"
   },
   {
    "duration": 28,
    "start_time": "2022-08-25T19:41:04.590Z"
   },
   {
    "duration": 10,
    "start_time": "2022-08-25T19:41:04.619Z"
   },
   {
    "duration": 12,
    "start_time": "2022-08-25T19:41:04.631Z"
   },
   {
    "duration": 22,
    "start_time": "2022-08-25T19:41:04.644Z"
   },
   {
    "duration": 453,
    "start_time": "2022-08-25T19:41:04.668Z"
   },
   {
    "duration": 131,
    "start_time": "2022-08-25T19:41:05.123Z"
   },
   {
    "duration": 121,
    "start_time": "2022-08-25T19:41:05.256Z"
   },
   {
    "duration": 198,
    "start_time": "2022-08-25T19:41:05.378Z"
   },
   {
    "duration": 120,
    "start_time": "2022-08-25T19:41:05.577Z"
   },
   {
    "duration": 152,
    "start_time": "2022-08-25T19:41:05.699Z"
   },
   {
    "duration": 131,
    "start_time": "2022-08-25T19:41:05.853Z"
   },
   {
    "duration": 120,
    "start_time": "2022-08-25T19:41:05.985Z"
   },
   {
    "duration": 152,
    "start_time": "2022-08-25T19:41:06.111Z"
   },
   {
    "duration": 159,
    "start_time": "2022-08-25T19:41:06.264Z"
   },
   {
    "duration": 229,
    "start_time": "2022-08-25T19:41:06.425Z"
   },
   {
    "duration": 220,
    "start_time": "2022-08-25T19:41:06.655Z"
   },
   {
    "duration": 200,
    "start_time": "2022-08-25T19:41:06.876Z"
   },
   {
    "duration": 164,
    "start_time": "2022-08-25T19:41:07.078Z"
   },
   {
    "duration": 181,
    "start_time": "2022-08-25T19:41:07.246Z"
   },
   {
    "duration": 191,
    "start_time": "2022-08-25T19:41:07.429Z"
   },
   {
    "duration": 194,
    "start_time": "2022-08-25T19:41:07.622Z"
   },
   {
    "duration": 206,
    "start_time": "2022-08-25T19:41:07.818Z"
   },
   {
    "duration": 179,
    "start_time": "2022-08-25T19:41:08.026Z"
   },
   {
    "duration": 193,
    "start_time": "2022-08-25T19:41:08.206Z"
   },
   {
    "duration": 173,
    "start_time": "2022-08-25T19:41:08.402Z"
   },
   {
    "duration": 319,
    "start_time": "2022-08-25T19:41:08.577Z"
   },
   {
    "duration": 173,
    "start_time": "2022-08-25T19:41:08.898Z"
   },
   {
    "duration": 196,
    "start_time": "2022-08-25T19:41:09.073Z"
   },
   {
    "duration": 173,
    "start_time": "2022-08-25T19:41:09.271Z"
   },
   {
    "duration": 12,
    "start_time": "2022-08-25T19:41:09.446Z"
   },
   {
    "duration": 11,
    "start_time": "2022-08-25T19:41:09.461Z"
   },
   {
    "duration": 54,
    "start_time": "2022-08-25T19:41:09.474Z"
   },
   {
    "duration": 163,
    "start_time": "2022-08-25T19:41:09.530Z"
   }
  ],
  "kernelspec": {
   "display_name": "Python 3 (ipykernel)",
   "language": "python",
   "name": "python3"
  },
  "language_info": {
   "codemirror_mode": {
    "name": "ipython",
    "version": 3
   },
   "file_extension": ".py",
   "mimetype": "text/x-python",
   "name": "python",
   "nbconvert_exporter": "python",
   "pygments_lexer": "ipython3",
   "version": "3.9.5"
  },
  "toc": {
   "base_numbering": 1,
   "nav_menu": {},
   "number_sections": true,
   "sideBar": true,
   "skip_h1_title": true,
   "title_cell": "Table of Contents",
   "title_sidebar": "Contents",
   "toc_cell": false,
   "toc_position": {},
   "toc_section_display": true,
   "toc_window_display": false
  }
 },
 "nbformat": 4,
 "nbformat_minor": 2
}