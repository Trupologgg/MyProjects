{
 "cells": [
  {
   "cell_type": "markdown",
   "metadata": {},
   "source": [
    "Привет! 👋\n",
    "<br> Меня зовут Дуолан) Буду проверять твой проект. Давай вместе доведем его до идеала 😉\n",
    "<br> Дальнейшее общение будет происходить на «ты», если это не вызывает никаких проблем.\n",
    "<br> Желательно реагировать на каждый мой комментарий («исправил», «не понятно как исправить ошибку», ...)\n",
    "<br> Пожалуйста, не удаляй мои комментарии, они будут необходимы для повторного ревью.\n",
    "\n",
    "Комментарии будут в <font color='green'>зеленой</font>, <font color='blue'>синей</font> или <font color='red'>красной</font> рамках:\n",
    "\n",
    "<div class=\"alert alert-block alert-success\">\n",
    "<b>✔️ Успех:</b> Если все сделано отлично\n",
    "</div>\n",
    "\n",
    "<div class=\"alert alert-block alert-warning\">\n",
    "<b>⚠️ Совет:</b> Если можно немного улучшить\n",
    "</div>\n",
    "\n",
    "<div class=\"alert alert-block alert-danger\">\n",
    "<b>❌ Замечание:</b> Если требуются исправления\n",
    "</div>\n",
    "\n",
    "Работа не может быть принята с красными комментариями.\n",
    "\n",
    "-------------------\n",
    "\n",
    "Будет очень хорошо, если ты будешь помечать свои действия следующим образом:\n",
    "\n",
    "<div class=\"alert alert-block alert-info\">\n",
    "<b>Комментарий студента:</b> ...\n",
    "</div>\n",
    "\n",
    "<div class=\"alert alert-block alert-info\">\n",
    "<b>Изменения:</b> Были внесены следующие изменения ...\n",
    "</div>"
   ]
  },
  {
   "cell_type": "markdown",
   "metadata": {
    "toc": true
   },
   "source": [
    "<h1>Содержание<span class=\"tocSkip\"></span></h1>\n",
    "<div class=\"toc\"><ul class=\"toc-item\"><li><span><a href=\"#Подготовка-данных\" data-toc-modified-id=\"Подготовка-данных-1\"><span class=\"toc-item-num\">1&nbsp;&nbsp;</span>Подготовка данных</a></span></li><li><span><a href=\"#Исследование-задачи\" data-toc-modified-id=\"Исследование-задачи-2\"><span class=\"toc-item-num\">2&nbsp;&nbsp;</span>Исследование задачи</a></span></li><li><span><a href=\"#Борьба-с-дисбалансом\" data-toc-modified-id=\"Борьба-с-дисбалансом-3\"><span class=\"toc-item-num\">3&nbsp;&nbsp;</span>Борьба с дисбалансом</a></span></li><li><span><a href=\"#Тестирование-модели\" data-toc-modified-id=\"Тестирование-модели-4\"><span class=\"toc-item-num\">4&nbsp;&nbsp;</span>Тестирование модели</a></span></li><li><span><a href=\"#Чек-лист-готовности-проекта\" data-toc-modified-id=\"Чек-лист-готовности-проекта-5\"><span class=\"toc-item-num\">5&nbsp;&nbsp;</span>Чек-лист готовности проекта</a></span></li></ul></div>"
   ]
  },
  {
   "cell_type": "markdown",
   "metadata": {},
   "source": [
    "# Отток клиентов"
   ]
  },
  {
   "cell_type": "markdown",
   "metadata": {},
   "source": [
    "Из «Бета-Банка» стали уходить клиенты. Каждый месяц. Немного, но заметно. Банковские маркетологи посчитали: сохранять текущих клиентов дешевле, чем привлекать новых.\n",
    "\n",
    "Нужно спрогнозировать, уйдёт клиент из банка в ближайшее время или нет. Вам предоставлены исторические данные о поведении клиентов и расторжении договоров с банком. \n",
    "\n",
    "Постройте модель с предельно большим значением *F1*-меры. Чтобы сдать проект успешно, нужно довести метрику до 0.59. Проверьте *F1*-меру на тестовой выборке самостоятельно.\n",
    "\n",
    "Дополнительно измеряйте *AUC-ROC*, сравнивайте её значение с *F1*-мерой.\n",
    "\n",
    "Источник данных: [https://www.kaggle.com/barelydedicated/bank-customer-churn-modeling](https://www.kaggle.com/barelydedicated/bank-customer-churn-modeling)"
   ]
  },
  {
   "cell_type": "markdown",
   "metadata": {},
   "source": [
    "<div class=\"alert alert-block alert-warning\">\n",
    "<b>⚠️ Совет:</b> \n",
    "\n",
    "Важно чтобы в проектах было подробное описание: когда потенциальные работодатели будут смотреть твой проект в портфолио, им нужно будет понимать задачу, чтобы можно было оценить её решение. Вот что можно добавить:\n",
    "    \n",
    "* Описание целей и задачи проекта\n",
    "* Описание данных\n",
    "* План работы\n",
    "\n",
    "И рекомендую писать введение от первого лица множественного числа. Так работа выглядит более самостоятельной)\n",
    "</div>"
   ]
  },
  {
   "cell_type": "markdown",
   "metadata": {},
   "source": [
    "## Подготовка данных"
   ]
  },
  {
   "cell_type": "code",
   "execution_count": 1,
   "metadata": {},
   "outputs": [],
   "source": [
    "import pandas as pd\n",
    "import numpy as np\n",
    "import matplotlib.pyplot as plt\n",
    "from sklearn.tree import DecisionTreeClassifier\n",
    "from sklearn.ensemble import RandomForestClassifier\n",
    "from sklearn.linear_model import LogisticRegression\n",
    "from sklearn.model_selection import train_test_split\n",
    "from sklearn.metrics import f1_score\n",
    "from sklearn.utils import shuffle\n",
    "from sklearn.metrics import roc_curve\n",
    "from sklearn.metrics import roc_auc_score\n",
    "from sklearn.preprocessing import StandardScaler"
   ]
  },
  {
   "cell_type": "code",
   "execution_count": 2,
   "metadata": {},
   "outputs": [
    {
     "name": "stdout",
     "output_type": "stream",
     "text": [
      "<class 'pandas.core.frame.DataFrame'>\n",
      "RangeIndex: 10000 entries, 0 to 9999\n",
      "Data columns (total 14 columns):\n",
      " #   Column           Non-Null Count  Dtype  \n",
      "---  ------           --------------  -----  \n",
      " 0   RowNumber        10000 non-null  int64  \n",
      " 1   CustomerId       10000 non-null  int64  \n",
      " 2   Surname          10000 non-null  object \n",
      " 3   CreditScore      10000 non-null  int64  \n",
      " 4   Geography        10000 non-null  object \n",
      " 5   Gender           10000 non-null  object \n",
      " 6   Age              10000 non-null  int64  \n",
      " 7   Tenure           9091 non-null   float64\n",
      " 8   Balance          10000 non-null  float64\n",
      " 9   NumOfProducts    10000 non-null  int64  \n",
      " 10  HasCrCard        10000 non-null  int64  \n",
      " 11  IsActiveMember   10000 non-null  int64  \n",
      " 12  EstimatedSalary  10000 non-null  float64\n",
      " 13  Exited           10000 non-null  int64  \n",
      "dtypes: float64(3), int64(8), object(3)\n",
      "memory usage: 1.1+ MB\n"
     ]
    },
    {
     "data": {
      "text/plain": "    RowNumber  CustomerId    Surname  CreditScore Geography  Gender  Age  \\\n0           1    15634602   Hargrave          619    France  Female   42   \n1           2    15647311       Hill          608     Spain  Female   41   \n2           3    15619304       Onio          502    France  Female   42   \n3           4    15701354       Boni          699    France  Female   39   \n4           5    15737888   Mitchell          850     Spain  Female   43   \n5           6    15574012        Chu          645     Spain    Male   44   \n6           7    15592531   Bartlett          822    France    Male   50   \n7           8    15656148     Obinna          376   Germany  Female   29   \n8           9    15792365         He          501    France    Male   44   \n9          10    15592389         H?          684    France    Male   27   \n10         11    15767821     Bearce          528    France    Male   31   \n11         12    15737173    Andrews          497     Spain    Male   24   \n12         13    15632264        Kay          476    France  Female   34   \n13         14    15691483       Chin          549    France  Female   25   \n14         15    15600882      Scott          635     Spain  Female   35   \n15         16    15643966    Goforth          616   Germany    Male   45   \n16         17    15737452      Romeo          653   Germany    Male   58   \n17         18    15788218  Henderson          549     Spain  Female   24   \n18         19    15661507    Muldrow          587     Spain    Male   45   \n19         20    15568982        Hao          726    France  Female   24   \n\n    Tenure    Balance  NumOfProducts  HasCrCard  IsActiveMember  \\\n0      2.0       0.00              1          1               1   \n1      1.0   83807.86              1          0               1   \n2      8.0  159660.80              3          1               0   \n3      1.0       0.00              2          0               0   \n4      2.0  125510.82              1          1               1   \n5      8.0  113755.78              2          1               0   \n6      7.0       0.00              2          1               1   \n7      4.0  115046.74              4          1               0   \n8      4.0  142051.07              2          0               1   \n9      2.0  134603.88              1          1               1   \n10     6.0  102016.72              2          0               0   \n11     3.0       0.00              2          1               0   \n12    10.0       0.00              2          1               0   \n13     5.0       0.00              2          0               0   \n14     7.0       0.00              2          1               1   \n15     3.0  143129.41              2          0               1   \n16     1.0  132602.88              1          1               0   \n17     9.0       0.00              2          1               1   \n18     6.0       0.00              1          0               0   \n19     6.0       0.00              2          1               1   \n\n    EstimatedSalary  Exited  \n0         101348.88       1  \n1         112542.58       0  \n2         113931.57       1  \n3          93826.63       0  \n4          79084.10       0  \n5         149756.71       1  \n6          10062.80       0  \n7         119346.88       1  \n8          74940.50       0  \n9          71725.73       0  \n10         80181.12       0  \n11         76390.01       0  \n12         26260.98       0  \n13        190857.79       0  \n14         65951.65       0  \n15         64327.26       0  \n16          5097.67       1  \n17         14406.41       0  \n18        158684.81       0  \n19         54724.03       0  ",
      "text/html": "<div>\n<style scoped>\n    .dataframe tbody tr th:only-of-type {\n        vertical-align: middle;\n    }\n\n    .dataframe tbody tr th {\n        vertical-align: top;\n    }\n\n    .dataframe thead th {\n        text-align: right;\n    }\n</style>\n<table border=\"1\" class=\"dataframe\">\n  <thead>\n    <tr style=\"text-align: right;\">\n      <th></th>\n      <th>RowNumber</th>\n      <th>CustomerId</th>\n      <th>Surname</th>\n      <th>CreditScore</th>\n      <th>Geography</th>\n      <th>Gender</th>\n      <th>Age</th>\n      <th>Tenure</th>\n      <th>Balance</th>\n      <th>NumOfProducts</th>\n      <th>HasCrCard</th>\n      <th>IsActiveMember</th>\n      <th>EstimatedSalary</th>\n      <th>Exited</th>\n    </tr>\n  </thead>\n  <tbody>\n    <tr>\n      <th>0</th>\n      <td>1</td>\n      <td>15634602</td>\n      <td>Hargrave</td>\n      <td>619</td>\n      <td>France</td>\n      <td>Female</td>\n      <td>42</td>\n      <td>2.0</td>\n      <td>0.00</td>\n      <td>1</td>\n      <td>1</td>\n      <td>1</td>\n      <td>101348.88</td>\n      <td>1</td>\n    </tr>\n    <tr>\n      <th>1</th>\n      <td>2</td>\n      <td>15647311</td>\n      <td>Hill</td>\n      <td>608</td>\n      <td>Spain</td>\n      <td>Female</td>\n      <td>41</td>\n      <td>1.0</td>\n      <td>83807.86</td>\n      <td>1</td>\n      <td>0</td>\n      <td>1</td>\n      <td>112542.58</td>\n      <td>0</td>\n    </tr>\n    <tr>\n      <th>2</th>\n      <td>3</td>\n      <td>15619304</td>\n      <td>Onio</td>\n      <td>502</td>\n      <td>France</td>\n      <td>Female</td>\n      <td>42</td>\n      <td>8.0</td>\n      <td>159660.80</td>\n      <td>3</td>\n      <td>1</td>\n      <td>0</td>\n      <td>113931.57</td>\n      <td>1</td>\n    </tr>\n    <tr>\n      <th>3</th>\n      <td>4</td>\n      <td>15701354</td>\n      <td>Boni</td>\n      <td>699</td>\n      <td>France</td>\n      <td>Female</td>\n      <td>39</td>\n      <td>1.0</td>\n      <td>0.00</td>\n      <td>2</td>\n      <td>0</td>\n      <td>0</td>\n      <td>93826.63</td>\n      <td>0</td>\n    </tr>\n    <tr>\n      <th>4</th>\n      <td>5</td>\n      <td>15737888</td>\n      <td>Mitchell</td>\n      <td>850</td>\n      <td>Spain</td>\n      <td>Female</td>\n      <td>43</td>\n      <td>2.0</td>\n      <td>125510.82</td>\n      <td>1</td>\n      <td>1</td>\n      <td>1</td>\n      <td>79084.10</td>\n      <td>0</td>\n    </tr>\n    <tr>\n      <th>5</th>\n      <td>6</td>\n      <td>15574012</td>\n      <td>Chu</td>\n      <td>645</td>\n      <td>Spain</td>\n      <td>Male</td>\n      <td>44</td>\n      <td>8.0</td>\n      <td>113755.78</td>\n      <td>2</td>\n      <td>1</td>\n      <td>0</td>\n      <td>149756.71</td>\n      <td>1</td>\n    </tr>\n    <tr>\n      <th>6</th>\n      <td>7</td>\n      <td>15592531</td>\n      <td>Bartlett</td>\n      <td>822</td>\n      <td>France</td>\n      <td>Male</td>\n      <td>50</td>\n      <td>7.0</td>\n      <td>0.00</td>\n      <td>2</td>\n      <td>1</td>\n      <td>1</td>\n      <td>10062.80</td>\n      <td>0</td>\n    </tr>\n    <tr>\n      <th>7</th>\n      <td>8</td>\n      <td>15656148</td>\n      <td>Obinna</td>\n      <td>376</td>\n      <td>Germany</td>\n      <td>Female</td>\n      <td>29</td>\n      <td>4.0</td>\n      <td>115046.74</td>\n      <td>4</td>\n      <td>1</td>\n      <td>0</td>\n      <td>119346.88</td>\n      <td>1</td>\n    </tr>\n    <tr>\n      <th>8</th>\n      <td>9</td>\n      <td>15792365</td>\n      <td>He</td>\n      <td>501</td>\n      <td>France</td>\n      <td>Male</td>\n      <td>44</td>\n      <td>4.0</td>\n      <td>142051.07</td>\n      <td>2</td>\n      <td>0</td>\n      <td>1</td>\n      <td>74940.50</td>\n      <td>0</td>\n    </tr>\n    <tr>\n      <th>9</th>\n      <td>10</td>\n      <td>15592389</td>\n      <td>H?</td>\n      <td>684</td>\n      <td>France</td>\n      <td>Male</td>\n      <td>27</td>\n      <td>2.0</td>\n      <td>134603.88</td>\n      <td>1</td>\n      <td>1</td>\n      <td>1</td>\n      <td>71725.73</td>\n      <td>0</td>\n    </tr>\n    <tr>\n      <th>10</th>\n      <td>11</td>\n      <td>15767821</td>\n      <td>Bearce</td>\n      <td>528</td>\n      <td>France</td>\n      <td>Male</td>\n      <td>31</td>\n      <td>6.0</td>\n      <td>102016.72</td>\n      <td>2</td>\n      <td>0</td>\n      <td>0</td>\n      <td>80181.12</td>\n      <td>0</td>\n    </tr>\n    <tr>\n      <th>11</th>\n      <td>12</td>\n      <td>15737173</td>\n      <td>Andrews</td>\n      <td>497</td>\n      <td>Spain</td>\n      <td>Male</td>\n      <td>24</td>\n      <td>3.0</td>\n      <td>0.00</td>\n      <td>2</td>\n      <td>1</td>\n      <td>0</td>\n      <td>76390.01</td>\n      <td>0</td>\n    </tr>\n    <tr>\n      <th>12</th>\n      <td>13</td>\n      <td>15632264</td>\n      <td>Kay</td>\n      <td>476</td>\n      <td>France</td>\n      <td>Female</td>\n      <td>34</td>\n      <td>10.0</td>\n      <td>0.00</td>\n      <td>2</td>\n      <td>1</td>\n      <td>0</td>\n      <td>26260.98</td>\n      <td>0</td>\n    </tr>\n    <tr>\n      <th>13</th>\n      <td>14</td>\n      <td>15691483</td>\n      <td>Chin</td>\n      <td>549</td>\n      <td>France</td>\n      <td>Female</td>\n      <td>25</td>\n      <td>5.0</td>\n      <td>0.00</td>\n      <td>2</td>\n      <td>0</td>\n      <td>0</td>\n      <td>190857.79</td>\n      <td>0</td>\n    </tr>\n    <tr>\n      <th>14</th>\n      <td>15</td>\n      <td>15600882</td>\n      <td>Scott</td>\n      <td>635</td>\n      <td>Spain</td>\n      <td>Female</td>\n      <td>35</td>\n      <td>7.0</td>\n      <td>0.00</td>\n      <td>2</td>\n      <td>1</td>\n      <td>1</td>\n      <td>65951.65</td>\n      <td>0</td>\n    </tr>\n    <tr>\n      <th>15</th>\n      <td>16</td>\n      <td>15643966</td>\n      <td>Goforth</td>\n      <td>616</td>\n      <td>Germany</td>\n      <td>Male</td>\n      <td>45</td>\n      <td>3.0</td>\n      <td>143129.41</td>\n      <td>2</td>\n      <td>0</td>\n      <td>1</td>\n      <td>64327.26</td>\n      <td>0</td>\n    </tr>\n    <tr>\n      <th>16</th>\n      <td>17</td>\n      <td>15737452</td>\n      <td>Romeo</td>\n      <td>653</td>\n      <td>Germany</td>\n      <td>Male</td>\n      <td>58</td>\n      <td>1.0</td>\n      <td>132602.88</td>\n      <td>1</td>\n      <td>1</td>\n      <td>0</td>\n      <td>5097.67</td>\n      <td>1</td>\n    </tr>\n    <tr>\n      <th>17</th>\n      <td>18</td>\n      <td>15788218</td>\n      <td>Henderson</td>\n      <td>549</td>\n      <td>Spain</td>\n      <td>Female</td>\n      <td>24</td>\n      <td>9.0</td>\n      <td>0.00</td>\n      <td>2</td>\n      <td>1</td>\n      <td>1</td>\n      <td>14406.41</td>\n      <td>0</td>\n    </tr>\n    <tr>\n      <th>18</th>\n      <td>19</td>\n      <td>15661507</td>\n      <td>Muldrow</td>\n      <td>587</td>\n      <td>Spain</td>\n      <td>Male</td>\n      <td>45</td>\n      <td>6.0</td>\n      <td>0.00</td>\n      <td>1</td>\n      <td>0</td>\n      <td>0</td>\n      <td>158684.81</td>\n      <td>0</td>\n    </tr>\n    <tr>\n      <th>19</th>\n      <td>20</td>\n      <td>15568982</td>\n      <td>Hao</td>\n      <td>726</td>\n      <td>France</td>\n      <td>Female</td>\n      <td>24</td>\n      <td>6.0</td>\n      <td>0.00</td>\n      <td>2</td>\n      <td>1</td>\n      <td>1</td>\n      <td>54724.03</td>\n      <td>0</td>\n    </tr>\n  </tbody>\n</table>\n</div>"
     },
     "metadata": {},
     "output_type": "display_data"
    },
    {
     "data": {
      "text/plain": "         RowNumber    CustomerId   CreditScore           Age       Tenure  \\\ncount  10000.00000  1.000000e+04  10000.000000  10000.000000  9091.000000   \nmean    5000.50000  1.569094e+07    650.528800     38.921800     4.997690   \nstd     2886.89568  7.193619e+04     96.653299     10.487806     2.894723   \nmin        1.00000  1.556570e+07    350.000000     18.000000     0.000000   \n25%     2500.75000  1.562853e+07    584.000000     32.000000     2.000000   \n50%     5000.50000  1.569074e+07    652.000000     37.000000     5.000000   \n75%     7500.25000  1.575323e+07    718.000000     44.000000     7.000000   \nmax    10000.00000  1.581569e+07    850.000000     92.000000    10.000000   \n\n             Balance  NumOfProducts    HasCrCard  IsActiveMember  \\\ncount   10000.000000   10000.000000  10000.00000    10000.000000   \nmean    76485.889288       1.530200      0.70550        0.515100   \nstd     62397.405202       0.581654      0.45584        0.499797   \nmin         0.000000       1.000000      0.00000        0.000000   \n25%         0.000000       1.000000      0.00000        0.000000   \n50%     97198.540000       1.000000      1.00000        1.000000   \n75%    127644.240000       2.000000      1.00000        1.000000   \nmax    250898.090000       4.000000      1.00000        1.000000   \n\n       EstimatedSalary        Exited  \ncount     10000.000000  10000.000000  \nmean     100090.239881      0.203700  \nstd       57510.492818      0.402769  \nmin          11.580000      0.000000  \n25%       51002.110000      0.000000  \n50%      100193.915000      0.000000  \n75%      149388.247500      0.000000  \nmax      199992.480000      1.000000  ",
      "text/html": "<div>\n<style scoped>\n    .dataframe tbody tr th:only-of-type {\n        vertical-align: middle;\n    }\n\n    .dataframe tbody tr th {\n        vertical-align: top;\n    }\n\n    .dataframe thead th {\n        text-align: right;\n    }\n</style>\n<table border=\"1\" class=\"dataframe\">\n  <thead>\n    <tr style=\"text-align: right;\">\n      <th></th>\n      <th>RowNumber</th>\n      <th>CustomerId</th>\n      <th>CreditScore</th>\n      <th>Age</th>\n      <th>Tenure</th>\n      <th>Balance</th>\n      <th>NumOfProducts</th>\n      <th>HasCrCard</th>\n      <th>IsActiveMember</th>\n      <th>EstimatedSalary</th>\n      <th>Exited</th>\n    </tr>\n  </thead>\n  <tbody>\n    <tr>\n      <th>count</th>\n      <td>10000.00000</td>\n      <td>1.000000e+04</td>\n      <td>10000.000000</td>\n      <td>10000.000000</td>\n      <td>9091.000000</td>\n      <td>10000.000000</td>\n      <td>10000.000000</td>\n      <td>10000.00000</td>\n      <td>10000.000000</td>\n      <td>10000.000000</td>\n      <td>10000.000000</td>\n    </tr>\n    <tr>\n      <th>mean</th>\n      <td>5000.50000</td>\n      <td>1.569094e+07</td>\n      <td>650.528800</td>\n      <td>38.921800</td>\n      <td>4.997690</td>\n      <td>76485.889288</td>\n      <td>1.530200</td>\n      <td>0.70550</td>\n      <td>0.515100</td>\n      <td>100090.239881</td>\n      <td>0.203700</td>\n    </tr>\n    <tr>\n      <th>std</th>\n      <td>2886.89568</td>\n      <td>7.193619e+04</td>\n      <td>96.653299</td>\n      <td>10.487806</td>\n      <td>2.894723</td>\n      <td>62397.405202</td>\n      <td>0.581654</td>\n      <td>0.45584</td>\n      <td>0.499797</td>\n      <td>57510.492818</td>\n      <td>0.402769</td>\n    </tr>\n    <tr>\n      <th>min</th>\n      <td>1.00000</td>\n      <td>1.556570e+07</td>\n      <td>350.000000</td>\n      <td>18.000000</td>\n      <td>0.000000</td>\n      <td>0.000000</td>\n      <td>1.000000</td>\n      <td>0.00000</td>\n      <td>0.000000</td>\n      <td>11.580000</td>\n      <td>0.000000</td>\n    </tr>\n    <tr>\n      <th>25%</th>\n      <td>2500.75000</td>\n      <td>1.562853e+07</td>\n      <td>584.000000</td>\n      <td>32.000000</td>\n      <td>2.000000</td>\n      <td>0.000000</td>\n      <td>1.000000</td>\n      <td>0.00000</td>\n      <td>0.000000</td>\n      <td>51002.110000</td>\n      <td>0.000000</td>\n    </tr>\n    <tr>\n      <th>50%</th>\n      <td>5000.50000</td>\n      <td>1.569074e+07</td>\n      <td>652.000000</td>\n      <td>37.000000</td>\n      <td>5.000000</td>\n      <td>97198.540000</td>\n      <td>1.000000</td>\n      <td>1.00000</td>\n      <td>1.000000</td>\n      <td>100193.915000</td>\n      <td>0.000000</td>\n    </tr>\n    <tr>\n      <th>75%</th>\n      <td>7500.25000</td>\n      <td>1.575323e+07</td>\n      <td>718.000000</td>\n      <td>44.000000</td>\n      <td>7.000000</td>\n      <td>127644.240000</td>\n      <td>2.000000</td>\n      <td>1.00000</td>\n      <td>1.000000</td>\n      <td>149388.247500</td>\n      <td>0.000000</td>\n    </tr>\n    <tr>\n      <th>max</th>\n      <td>10000.00000</td>\n      <td>1.581569e+07</td>\n      <td>850.000000</td>\n      <td>92.000000</td>\n      <td>10.000000</td>\n      <td>250898.090000</td>\n      <td>4.000000</td>\n      <td>1.00000</td>\n      <td>1.000000</td>\n      <td>199992.480000</td>\n      <td>1.000000</td>\n    </tr>\n  </tbody>\n</table>\n</div>"
     },
     "execution_count": 2,
     "metadata": {},
     "output_type": "execute_result"
    }
   ],
   "source": [
    "data = pd.read_csv('../datasets/Churn.csv')\n",
    "data.info()\n",
    "display(data.head(20))\n",
    "data.describe()"
   ]
  },
  {
   "cell_type": "markdown",
   "metadata": {},
   "source": [
    "Все данные выгружены успешно. Все типы столбцов приведены к верному типу данных, однако можно заметить пропуски в столбце 'Tenure', которые нужно будет заполнить, все остальное в порядке. Получается, предобработка не займет много времени и можно сразу приступить к разбивке выборок."
   ]
  },
  {
   "cell_type": "markdown",
   "metadata": {},
   "source": [
    "<div class=\"alert alert-block alert-warning\">\n",
    "<b>⚠️ Совет:</b>\n",
    "\n",
    "Чтобы включить в таблицу категориальные признаки, в параметрах можно указать `include='all'`\n",
    "</div>"
   ]
  },
  {
   "cell_type": "markdown",
   "metadata": {},
   "source": [
    "Заполним пропуски в столбце *Tenure* нулями, так как этот признак означает \"сколько лет человек является клиентом банка\", а если это значение не указано, значит, клиент только начал сотрудничество и кол-во лет равно 0."
   ]
  },
  {
   "cell_type": "code",
   "execution_count": 3,
   "metadata": {},
   "outputs": [],
   "source": [
    "data['Tenure'] = data['Tenure'].fillna(0)"
   ]
  },
  {
   "cell_type": "markdown",
   "metadata": {},
   "source": [
    "<div class=\"alert alert-block alert-success\">\n",
    "<b>✔️ Успех:</b>\n",
    "    \n",
    "Согласен с таким заполнением 👍\n",
    "</div>"
   ]
  },
  {
   "cell_type": "markdown",
   "metadata": {},
   "source": [
    "На самом деле *RowNumber*, *CustomerID*, *Surname* - признаки, абсолютно никак не влияющие на значение целевого признака из логических соображений, в первых двух признаках все значения уникальны, а предположить, что фамилия влияет на результат - более чем странно. Удалим их, чтобы не замедляли время обучения модели."
   ]
  },
  {
   "cell_type": "code",
   "execution_count": 4,
   "metadata": {},
   "outputs": [
    {
     "data": {
      "text/plain": "      CreditScore Geography  Gender  Age  Tenure    Balance  NumOfProducts  \\\n0             619    France  Female   42     2.0       0.00              1   \n1             608     Spain  Female   41     1.0   83807.86              1   \n2             502    France  Female   42     8.0  159660.80              3   \n3             699    France  Female   39     1.0       0.00              2   \n4             850     Spain  Female   43     2.0  125510.82              1   \n...           ...       ...     ...  ...     ...        ...            ...   \n9995          771    France    Male   39     5.0       0.00              2   \n9996          516    France    Male   35    10.0   57369.61              1   \n9997          709    France  Female   36     7.0       0.00              1   \n9998          772   Germany    Male   42     3.0   75075.31              2   \n9999          792    France  Female   28     0.0  130142.79              1   \n\n      HasCrCard  IsActiveMember  EstimatedSalary  Exited  \n0             1               1        101348.88       1  \n1             0               1        112542.58       0  \n2             1               0        113931.57       1  \n3             0               0         93826.63       0  \n4             1               1         79084.10       0  \n...         ...             ...              ...     ...  \n9995          1               0         96270.64       0  \n9996          1               1        101699.77       0  \n9997          0               1         42085.58       1  \n9998          1               0         92888.52       1  \n9999          1               0         38190.78       0  \n\n[10000 rows x 11 columns]",
      "text/html": "<div>\n<style scoped>\n    .dataframe tbody tr th:only-of-type {\n        vertical-align: middle;\n    }\n\n    .dataframe tbody tr th {\n        vertical-align: top;\n    }\n\n    .dataframe thead th {\n        text-align: right;\n    }\n</style>\n<table border=\"1\" class=\"dataframe\">\n  <thead>\n    <tr style=\"text-align: right;\">\n      <th></th>\n      <th>CreditScore</th>\n      <th>Geography</th>\n      <th>Gender</th>\n      <th>Age</th>\n      <th>Tenure</th>\n      <th>Balance</th>\n      <th>NumOfProducts</th>\n      <th>HasCrCard</th>\n      <th>IsActiveMember</th>\n      <th>EstimatedSalary</th>\n      <th>Exited</th>\n    </tr>\n  </thead>\n  <tbody>\n    <tr>\n      <th>0</th>\n      <td>619</td>\n      <td>France</td>\n      <td>Female</td>\n      <td>42</td>\n      <td>2.0</td>\n      <td>0.00</td>\n      <td>1</td>\n      <td>1</td>\n      <td>1</td>\n      <td>101348.88</td>\n      <td>1</td>\n    </tr>\n    <tr>\n      <th>1</th>\n      <td>608</td>\n      <td>Spain</td>\n      <td>Female</td>\n      <td>41</td>\n      <td>1.0</td>\n      <td>83807.86</td>\n      <td>1</td>\n      <td>0</td>\n      <td>1</td>\n      <td>112542.58</td>\n      <td>0</td>\n    </tr>\n    <tr>\n      <th>2</th>\n      <td>502</td>\n      <td>France</td>\n      <td>Female</td>\n      <td>42</td>\n      <td>8.0</td>\n      <td>159660.80</td>\n      <td>3</td>\n      <td>1</td>\n      <td>0</td>\n      <td>113931.57</td>\n      <td>1</td>\n    </tr>\n    <tr>\n      <th>3</th>\n      <td>699</td>\n      <td>France</td>\n      <td>Female</td>\n      <td>39</td>\n      <td>1.0</td>\n      <td>0.00</td>\n      <td>2</td>\n      <td>0</td>\n      <td>0</td>\n      <td>93826.63</td>\n      <td>0</td>\n    </tr>\n    <tr>\n      <th>4</th>\n      <td>850</td>\n      <td>Spain</td>\n      <td>Female</td>\n      <td>43</td>\n      <td>2.0</td>\n      <td>125510.82</td>\n      <td>1</td>\n      <td>1</td>\n      <td>1</td>\n      <td>79084.10</td>\n      <td>0</td>\n    </tr>\n    <tr>\n      <th>...</th>\n      <td>...</td>\n      <td>...</td>\n      <td>...</td>\n      <td>...</td>\n      <td>...</td>\n      <td>...</td>\n      <td>...</td>\n      <td>...</td>\n      <td>...</td>\n      <td>...</td>\n      <td>...</td>\n    </tr>\n    <tr>\n      <th>9995</th>\n      <td>771</td>\n      <td>France</td>\n      <td>Male</td>\n      <td>39</td>\n      <td>5.0</td>\n      <td>0.00</td>\n      <td>2</td>\n      <td>1</td>\n      <td>0</td>\n      <td>96270.64</td>\n      <td>0</td>\n    </tr>\n    <tr>\n      <th>9996</th>\n      <td>516</td>\n      <td>France</td>\n      <td>Male</td>\n      <td>35</td>\n      <td>10.0</td>\n      <td>57369.61</td>\n      <td>1</td>\n      <td>1</td>\n      <td>1</td>\n      <td>101699.77</td>\n      <td>0</td>\n    </tr>\n    <tr>\n      <th>9997</th>\n      <td>709</td>\n      <td>France</td>\n      <td>Female</td>\n      <td>36</td>\n      <td>7.0</td>\n      <td>0.00</td>\n      <td>1</td>\n      <td>0</td>\n      <td>1</td>\n      <td>42085.58</td>\n      <td>1</td>\n    </tr>\n    <tr>\n      <th>9998</th>\n      <td>772</td>\n      <td>Germany</td>\n      <td>Male</td>\n      <td>42</td>\n      <td>3.0</td>\n      <td>75075.31</td>\n      <td>2</td>\n      <td>1</td>\n      <td>0</td>\n      <td>92888.52</td>\n      <td>1</td>\n    </tr>\n    <tr>\n      <th>9999</th>\n      <td>792</td>\n      <td>France</td>\n      <td>Female</td>\n      <td>28</td>\n      <td>0.0</td>\n      <td>130142.79</td>\n      <td>1</td>\n      <td>1</td>\n      <td>0</td>\n      <td>38190.78</td>\n      <td>0</td>\n    </tr>\n  </tbody>\n</table>\n<p>10000 rows × 11 columns</p>\n</div>"
     },
     "execution_count": 4,
     "metadata": {},
     "output_type": "execute_result"
    }
   ],
   "source": [
    "data = data.drop(['RowNumber', 'CustomerId', 'Surname'], axis=1)\n",
    "data"
   ]
  },
  {
   "cell_type": "markdown",
   "metadata": {},
   "source": [
    "<div class=\"alert alert-block alert-success\">\n",
    "<b>✔️ Успех:</b>\n",
    "\n",
    "Удалить неинформативные признаки - хорошее решение 👍\n",
    "</div>"
   ]
  },
  {
   "cell_type": "markdown",
   "metadata": {},
   "source": [
    "Приведем столбца к нормальному виду."
   ]
  },
  {
   "cell_type": "code",
   "execution_count": 5,
   "metadata": {},
   "outputs": [],
   "source": [
    "data.columns = data.columns.str.lower()\n"
   ]
  },
  {
   "cell_type": "markdown",
   "metadata": {},
   "source": [
    "<div class=\"alert alert-block alert-warning\">\n",
    "<b>⚠️ Совет:</b> \n",
    "\n",
    "Для удобства в дальнейшем анализе можно названия столбцов привести в более читаемый стиль snake_case. Здесь мы используем регулярные выражения.\n",
    "\n",
    "Полезная <a href='https://habr.com/ru/post/545150/'>статья</a> про regex для начала\n",
    "    \n",
    "Этот блогер хорошо объясняет в своем <a href='https://www.youtube.com/watch?v=sHw5hLYFaIw&t=247s'>видео</a>\n",
    "</div>\n",
    "\n",
    "```python\n",
    "df.columns = df.columns.str.replace(r\"([A-Z])\", r\" \\1\").str.lower().str.replace(' ', '_').str[1:]\n",
    "```\n",
    "</div>"
   ]
  },
  {
   "cell_type": "markdown",
   "metadata": {},
   "source": [
    "При обучении модели возникнут трудности, поскольку не все признаки являются численными. Воспользуемся One-hot-encode для кодирования количественных переменный. Также не забудем про дамми-ловушку."
   ]
  },
  {
   "cell_type": "code",
   "execution_count": 6,
   "metadata": {},
   "outputs": [],
   "source": [
    "data_ohe = pd.get_dummies(data, drop_first=True)\n",
    "features = data_ohe.drop('exited', axis=1)\n",
    "target = data_ohe['exited']"
   ]
  },
  {
   "cell_type": "markdown",
   "metadata": {},
   "source": [
    "<div class=\"alert alert-block alert-success\">\n",
    "<b>✔️ Успех:</b>\n",
    "\n",
    "В данном случае это наиболее подходящий способ закодировать категориальные колонки 👍\n",
    "</div>"
   ]
  },
  {
   "cell_type": "markdown",
   "metadata": {},
   "source": [
    "Так как тестовой выборки у нас нет, создадим ее сами из существующей."
   ]
  },
  {
   "cell_type": "code",
   "execution_count": 7,
   "metadata": {},
   "outputs": [],
   "source": [
    "features_for_split, features_test, target_for_split, target_test = train_test_split(features, target, test_size=0.2, random_state=12345, stratify=target)\n",
    "\n",
    "features_train, features_valid, target_train, target_valid = train_test_split(features_for_split, target_for_split, test_size=0.25, random_state=12345, stratify=target_for_split)"
   ]
  },
  {
   "cell_type": "markdown",
   "metadata": {},
   "source": [
    "<div class=\"alert alert-block alert-success\">\n",
    "<b>✔️ Успех:</b> \n",
    "\n",
    "Данные поделены верно, пропорции выбраны адекватные 👍\n",
    "</div>"
   ]
  },
  {
   "cell_type": "markdown",
   "metadata": {},
   "source": [
    "## Исследование задачи"
   ]
  },
  {
   "cell_type": "markdown",
   "metadata": {},
   "source": [
    "Заранее узнаем, насколько сбалансированы классы."
   ]
  },
  {
   "cell_type": "code",
   "execution_count": 8,
   "metadata": {},
   "outputs": [
    {
     "data": {
      "text/plain": "0    0.7963\n1    0.2037\nName: exited, dtype: float64"
     },
     "execution_count": 8,
     "metadata": {},
     "output_type": "execute_result"
    }
   ],
   "source": [
    "class_frequency = data_ohe['exited'].value_counts(normalize=True)\n",
    "class_frequency"
   ]
  },
  {
   "cell_type": "markdown",
   "metadata": {},
   "source": [
    "Класс 0 встречается почти в 4 раза чаще, чем класс 1!"
   ]
  },
  {
   "cell_type": "markdown",
   "metadata": {},
   "source": [
    "<div class=\"alert alert-block alert-success\">\n",
    "<b>✔️ Успех:</b>\n",
    "\n",
    "Виден явный дисбаланс классов в пользу отрицательного класса. Если мы будем всех людей прогнозировать, что они не уйдут из банка, то в 80% случаев мы будем правы.\n",
    "</div>"
   ]
  },
  {
   "cell_type": "markdown",
   "metadata": {},
   "source": [
    "Подберем гиперпараметры в цикле. Воспользуемся двумя циклами:\n",
    "\n",
    "<code>for depth in range(24, 30, 1):\n",
    "    for trees in range(20, 101, 20):\n",
    "        model = RandomForestClassifier(random_state=12345, n_estimators=trees, max_depth=depth)\n",
    "        model.fit(features_train, target_train)\n",
    "        predicted_valid = model.predict(features_valid)\n",
    "        print(f1_score(target_valid, predicted_valid))\n",
    "        print('Depth:', depth)\n",
    "        print('Trees:', trees)\n",
    "        print()\n",
    "        if best_f1 < f1_score(target_valid, predicted_valid):\n",
    "            best_f1 = f1_score(target_valid, predicted_valid)\n",
    "            best_depth = depth\n",
    "            best_trees = trees\n",
    "            best_model = model\n",
    "</code>"
   ]
  },
  {
   "cell_type": "code",
   "execution_count": 9,
   "metadata": {},
   "outputs": [
    {
     "name": "stdout",
     "output_type": "stream",
     "text": [
      "F1 score valid: 0.5674418604651164\n",
      "CPU times: user 223 ms, sys: 5.6 ms, total: 229 ms\n",
      "Wall time: 234 ms\n"
     ]
    }
   ],
   "source": [
    "%%time\n",
    "model = RandomForestClassifier(max_depth=27, n_estimators=40, random_state=12345)\n",
    "model.fit(features_train, target_train)\n",
    "predicted_valid = model.predict(features_valid)\n",
    "print('F1 score valid:', f1_score(y_true=target_valid, y_pred=predicted_valid))"
   ]
  },
  {
   "cell_type": "markdown",
   "metadata": {},
   "source": [
    "F1 метрика составляет 0.56, но оно и не удивительно, просто в лоб обучили модель, не балансируя классы. Поднять F1 без использования балансирования классов не представляется возможным, это необходимый этап для достижения хорошей качественной модели."
   ]
  },
  {
   "cell_type": "markdown",
   "metadata": {},
   "source": [
    "## Борьба с дисбалансом"
   ]
  },
  {
   "cell_type": "markdown",
   "metadata": {},
   "source": [
    "Первым делом для улучшения нашей модели стандартизируем наши признаки. В разных признаках есть разный разброс значений, поэтому, что наш алгоритм обучения не подумал, что какие-то признаки важнее, стандартизируем!"
   ]
  },
  {
   "cell_type": "code",
   "execution_count": 10,
   "metadata": {},
   "outputs": [],
   "source": [
    "scaler = StandardScaler()\n",
    "numerics = ['creditscore', 'age', 'tenure', 'balance', 'numofproducts', 'estimatedsalary']\n",
    "scaler.fit(features_train[numerics])\n",
    "features_test[numerics] = scaler.transform(features_test[numerics])\n",
    "features_train[numerics] = scaler.transform(features_train[numerics])\n",
    "features_valid[numerics] = scaler.transform(features_valid[numerics])"
   ]
  },
  {
   "cell_type": "markdown",
   "metadata": {},
   "source": [
    "<div class=\"alert alert-block alert-success\">\n",
    "<b>✔️ Успех:</b>\n",
    "\n",
    "Отлично, признаки масштабированы 👍 Не забыли, что fit нужно делать только на train выборке.\n",
    "</div>"
   ]
  },
  {
   "cell_type": "markdown",
   "metadata": {},
   "source": [
    "Поскольку класс 1 встречается в 4 раза реже класса 0, воспользуемся техникой **upsampling**, увеличив выборку."
   ]
  },
  {
   "cell_type": "code",
   "execution_count": 11,
   "metadata": {},
   "outputs": [],
   "source": [
    "def upsample(features, target, repeat):\n",
    "    features_zeros = features[target == 0]\n",
    "    features_ones = features[target == 1]\n",
    "    target_zeros = target[target == 0]\n",
    "    target_ones = target[target == 1]\n",
    "\n",
    "    features_upsampled = pd.concat([features_zeros] + [features_ones] * repeat)\n",
    "    target_upsampled = pd.concat([target_zeros] + [target_ones] * repeat)\n",
    "\n",
    "    features_upsampled, target_upsampled = shuffle(\n",
    "        features_upsampled, target_upsampled, random_state=12345)\n",
    "    return features_upsampled, target_upsampled"
   ]
  },
  {
   "cell_type": "markdown",
   "metadata": {},
   "source": [
    "Получим обновленные признаки."
   ]
  },
  {
   "cell_type": "code",
   "execution_count": 12,
   "metadata": {},
   "outputs": [],
   "source": [
    "features_upsampled, target_upsampled = upsample(features_train, target_train, 4)"
   ]
  },
  {
   "cell_type": "markdown",
   "metadata": {},
   "source": [
    "<div class=\"alert alert-block alert-success\">\n",
    "<b>✔️ Успех:</b>\n",
    "\n",
    "Увеличение выборки выполнено верно - классы сбалансированы 👍 \n",
    "</div>"
   ]
  },
  {
   "cell_type": "markdown",
   "metadata": {},
   "source": [
    "Подберем в цикле гиперпараметры. Обучаем модель уже на увеличенной выборке техникой **upsampling**.\n",
    "\n",
    "\n",
    "\n",
    "(Закоментил цикл, ибо он работает 5 минут:))"
   ]
  },
  {
   "cell_type": "code",
   "execution_count": 13,
   "metadata": {},
   "outputs": [
    {
     "name": "stdout",
     "output_type": "stream",
     "text": [
      "Best model with f1 0.6371257485029941, depth 12, trees 140\n",
      "CPU times: user 957 ms, sys: 12.1 ms, total: 969 ms\n",
      "Wall time: 973 ms\n"
     ]
    }
   ],
   "source": [
    "%%time\n",
    "\n",
    "# best_f1 = 0\n",
    "# best_trees = 0\n",
    "# best_depth = 0\n",
    "# best_model = None\n",
    "\n",
    "# for depth in range(1, 30, 1):\n",
    "#     for trees in range(20, 200, 20):\n",
    "#         model = RandomForestClassifier(random_state=12345, n_estimators=trees, max_depth=depth)\n",
    "#         model.fit(features_upsampled, target_upsampled)\n",
    "#         predicted_valid = model.predict(features_valid)\n",
    "#         print(f1_score(target_valid, predicted_valid))\n",
    "#         print('Depth:', depth)\n",
    "#         print('Trees:', trees)\n",
    "#         print()\n",
    "#         if best_f1 < f1_score(target_valid, predicted_valid):\n",
    "#             best_f1 = f1_score(target_valid, predicted_valid)\n",
    "#             best_depth = depth\n",
    "#             best_trees = trees\n",
    "#             best_model = model\n",
    "best_depth = 12\n",
    "best_trees = 140\n",
    "best_model = RandomForestClassifier(random_state=12345, max_depth=best_depth, n_estimators=best_trees)\n",
    "best_model.fit(features_upsampled, target_upsampled)\n",
    "predicted_valid = best_model.predict(features_valid)\n",
    "best_f1 = f1_score(y_true=target_valid, y_pred=predicted_valid)\n",
    "# Best model with f1 0.6371257485029941, depth 12, trees 140\n",
    "# CPU times: total: 5min 2s\n",
    "# Wall time: 5min 3s\n",
    "print(f'Best model with f1 {best_f1}, depth {best_depth}, trees {best_trees}')"
   ]
  },
  {
   "cell_type": "markdown",
   "metadata": {},
   "source": [
    "Теперь F1 результат на валидационной выборке уже составляет 0.63! Отличный результат."
   ]
  },
  {
   "cell_type": "markdown",
   "metadata": {},
   "source": [
    "Построим кривую ROC и узнаем как обстоят дела там."
   ]
  },
  {
   "cell_type": "code",
   "execution_count": 14,
   "metadata": {},
   "outputs": [
    {
     "data": {
      "text/plain": "<Figure size 640x480 with 1 Axes>",
      "image/png": "[encoded data removed]"
     },
     "metadata": {},
     "output_type": "display_data"
    },
    {
     "name": "stdout",
     "output_type": "stream",
     "text": [
      "Площадь под кривой ROC составляет: 0.8621441163814045\n"
     ]
    }
   ],
   "source": [
    "probabilities_valid = best_model.predict_proba(features_valid)\n",
    "probabilities_one_valid = probabilities_valid[:, 1]\n",
    "fpr, tpr, thresholds = roc_curve(target_valid, probabilities_one_valid)\n",
    "plt.figure();\n",
    "\n",
    "plt.plot(fpr, tpr);\n",
    "plt.xlim([0.0, 1.0]);\n",
    "plt.ylim([0.0, 1.0]);\n",
    "plt.xlabel('False Positive Rate');\n",
    "plt.ylabel('True Positive Rate');\n",
    "plt.title('ROC-кривая');\n",
    "plt.show()\n",
    "auc_roc = roc_auc_score(target_valid, probabilities_one_valid)\n",
    "print('Площадь под кривой ROC составляет:', auc_roc)"
   ]
  },
  {
   "cell_type": "markdown",
   "metadata": {},
   "source": [
    "Из графика можно заметить, что наша модель намного лучше случайной, а также площадь в 0.86 говорит нам о том, что наша модель достаточно хороша, однако до единички еще довольно далеко."
   ]
  },
  {
   "cell_type": "markdown",
   "metadata": {},
   "source": [
    "<div class=\"alert alert-block alert-danger\">\n",
    "<b>❌ Замечание:</b>\n",
    "\n",
    "Можешь исследовать еще один метод борьбы с дисбалансом? Их всего три: балансировка весов классов, увеличение выборки и уменьшение выборки.\n",
    "</div>"
   ]
  },
  {
   "cell_type": "markdown",
   "metadata": {},
   "source": [
    "<div class=\"alert alert-block alert-danger\">\n",
    "<b>❌ Замечание:</b>\n",
    "\n",
    "В обучении стоит использовать хотя бы две модели)\n",
    "</div>"
   ]
  },
  {
   "cell_type": "markdown",
   "metadata": {},
   "source": [
    "<div class=\"alert alert-block alert-info\">\n",
    "<b>Изменения:</b> Реализована техника уменьшения выборки.\n",
    "</div>"
   ]
  },
  {
   "cell_type": "markdown",
   "metadata": {},
   "source": [
    "С техникой увеличения выборки разобрались. Попробуем альтернативный вариант: уменьшить выборку!"
   ]
  },
  {
   "cell_type": "code",
   "execution_count": 15,
   "metadata": {},
   "outputs": [],
   "source": [
    "def downsample(features, target, fraction):\n",
    "    features_zeros = features[target == 0]\n",
    "    features_ones = features[target == 1]\n",
    "    target_zeros = target[target == 0]\n",
    "    target_ones = target[target == 1]\n",
    "    \n",
    "    features_downsampled = pd.concat([features_zeros.sample(frac=fraction, random_state=12345)] + [features_ones])\n",
    "    target_downsampled = pd.concat([target_zeros.sample(frac=fraction, random_state=12345)] + [target_ones])\n",
    "    \n",
    "    features_downsampled, target_downsampled = shuffle(\n",
    "    features_downsampled, target_downsampled, random_state=12345\n",
    "    )\n",
    "    return features_downsampled, target_downsampled"
   ]
  },
  {
   "cell_type": "code",
   "execution_count": 16,
   "metadata": {},
   "outputs": [],
   "source": [
    "features_downsampled, target_downsampled = downsample(features_train, target_train, 0.25)"
   ]
  },
  {
   "cell_type": "code",
   "execution_count": 17,
   "metadata": {},
   "outputs": [
    {
     "name": "stdout",
     "output_type": "stream",
     "text": [
      "Best model with f1 0.5967894239848914, depth 12, trees 140\n"
     ]
    }
   ],
   "source": [
    "best_depth = 12\n",
    "best_trees = 140\n",
    "best_model_down = RandomForestClassifier(random_state=12345, max_depth=best_depth, n_estimators=best_trees)\n",
    "best_model_down.fit(features_downsampled, target_downsampled)\n",
    "predicted_valid = best_model_down.predict(features_valid)\n",
    "best_f1 = f1_score(y_true=target_valid, y_pred=predicted_valid)\n",
    "print(f'Best model with f1 {best_f1}, depth {best_depth}, trees {best_trees}')"
   ]
  },
  {
   "cell_type": "markdown",
   "metadata": {},
   "source": [
    "Значение F1 метрики стало ниже, скорее всего это связано с уменьшением размера выборки и модель недостаточно обучилась."
   ]
  },
  {
   "cell_type": "markdown",
   "metadata": {},
   "source": [
    "И снова построим ROC - кривую и подсчитаем площадь под ней."
   ]
  },
  {
   "cell_type": "code",
   "execution_count": 18,
   "metadata": {},
   "outputs": [
    {
     "data": {
      "text/plain": "<Figure size 640x480 with 1 Axes>",
      "image/png": "[encoded data removed]"
     },
     "metadata": {},
     "output_type": "display_data"
    },
    {
     "name": "stdout",
     "output_type": "stream",
     "text": [
      "Площадь под кривой ROC составляет: 0.8660532643583492\n"
     ]
    }
   ],
   "source": [
    "probabilities_valid = best_model_down.predict_proba(features_valid)\n",
    "probabilities_one_valid = probabilities_valid[:, 1]\n",
    "\n",
    "fpr, tpr, thresholds = roc_curve(target_valid, probabilities_one_valid)\n",
    "plt.figure();\n",
    "\n",
    "plt.plot(fpr, tpr);\n",
    "plt.xlim([0.0, 1.0]);\n",
    "plt.ylim([0.0, 1.0]);\n",
    "plt.xlabel('False Positive Rate');\n",
    "plt.ylabel('True Positive Rate');\n",
    "plt.title('ROC-кривая');\n",
    "plt.show()\n",
    "auc_roc = roc_auc_score(target_valid, probabilities_one_valid)\n",
    "print('Площадь под кривой ROC составляет:', auc_roc)"
   ]
  },
  {
   "cell_type": "markdown",
   "metadata": {},
   "source": [
    "Площадь стала чуть больше, чем на технике увеличения выборки."
   ]
  },
  {
   "cell_type": "markdown",
   "metadata": {},
   "source": [
    "<div class=\"alert alert-block alert-info\">\n",
    "<b>Комментарий студента:</b> При umsampling F1 метрика была f1 0.637125 и площадь AUC 0.86214.\n",
    "При downsampling F1 метрика была f1 0.59678 и площадь AUC 0.86605.\n",
    "Вопрос: А почему так произошло? По F1 первая модель же лучше второй, но площадь у второй больше. Какая метрика приоритетнее?\n",
    "</div>"
   ]
  },
  {
   "cell_type": "markdown",
   "metadata": {},
   "source": [
    "## Тестирование модели"
   ]
  },
  {
   "cell_type": "markdown",
   "metadata": {},
   "source": [
    "Теперь, после того, как наши модели обучены, все проверены на тестовой выборке, а валидационная выборка сделала свою работу, объединим тренировочную и валидационную выборки, и уже обучим модели с нашими подобранными гиперпараметрами на этой увеличенной выборке."
   ]
  },
  {
   "cell_type": "code",
   "execution_count": 19,
   "metadata": {},
   "outputs": [
    {
     "name": "stdout",
     "output_type": "stream",
     "text": [
      "F1 score на тестовой выборке составил: 0.6135831381733021\n"
     ]
    }
   ],
   "source": [
    "predicted_test = best_model.predict(features_test)\n",
    "\n",
    "print('F1 score на тестовой выборке составил:', f1_score(y_true=target_test, y_pred=predicted_test))"
   ]
  },
  {
   "cell_type": "code",
   "execution_count": 20,
   "metadata": {},
   "outputs": [
    {
     "data": {
      "text/plain": "<Figure size 640x480 with 1 Axes>",
      "image/png": "[encoded data removed]"
     },
     "metadata": {},
     "output_type": "display_data"
    },
    {
     "name": "stdout",
     "output_type": "stream",
     "text": [
      "Площадь под кривой ROC составляет: 0.8618726584828278\n"
     ]
    }
   ],
   "source": [
    "probabilities_test = best_model.predict_proba(features_test)\n",
    "probabilities_one_test = probabilities_test[:, 1]\n",
    "\n",
    "fpr, tpr, thresholds = roc_curve(target_test, probabilities_one_test)\n",
    "plt.figure();\n",
    "\n",
    "plt.plot(fpr, tpr);\n",
    "plt.xlim([0.0, 1.0]);\n",
    "plt.ylim([0.0, 1.0]);\n",
    "plt.xlabel('False Positive Rate');\n",
    "plt.ylabel('True Positive Rate');\n",
    "plt.title('ROC-кривая');\n",
    "plt.show()\n",
    "auc_roc = roc_auc_score(target_test, probabilities_one_test)\n",
    "print('Площадь под кривой ROC составляет:', auc_roc)"
   ]
  },
  {
   "cell_type": "markdown",
   "metadata": {},
   "source": [
    "Снова построили ROC - кривую. Тут результат совсем на капельку лучше."
   ]
  },
  {
   "cell_type": "markdown",
   "metadata": {},
   "source": [
    "Теперь, после того, как наши модели обучены, все проверены на тестовой выборке, а валидационная выборка сделала свою работу, объединим тренировочную и валидационную выборки, и уже обучим модели с нашими подобранными гиперпараметрами на этой увеличенной выборке. Вдруг результат будет лучше?"
   ]
  },
  {
   "cell_type": "code",
   "execution_count": 21,
   "metadata": {},
   "outputs": [
    {
     "name": "stdout",
     "output_type": "stream",
     "text": [
      "F1 score на тестовой выборке из большой выборки составил: 0.6250000000000001\n"
     ]
    }
   ],
   "source": [
    "features_full_train = pd.concat([features_upsampled, features_valid])\n",
    "target_full_train = pd.concat([target_upsampled, target_valid])\n",
    "model = RandomForestClassifier(random_state=12345, max_depth=12, n_estimators=140)\n",
    "model.fit(features_full_train, target_full_train)\n",
    "predicted_full_test = model.predict(features_test)\n",
    "print('F1 score на тестовой выборке из большой выборки составил:', f1_score(y_true=target_test, y_pred=predicted_full_test))"
   ]
  },
  {
   "cell_type": "markdown",
   "metadata": {},
   "source": [
    "Результат немного поднялся. Супер!"
   ]
  },
  {
   "cell_type": "markdown",
   "metadata": {},
   "source": [
    "<div class=\"alert alert-block alert-success\">\n",
    "<b>✔️ Успех:</b>\n",
    "\n",
    "Отличный результат 👍 \n",
    "</div>"
   ]
  },
  {
   "cell_type": "markdown",
   "metadata": {},
   "source": [
    "# Вывод\n"
   ]
  },
  {
   "cell_type": "markdown",
   "metadata": {},
   "source": [
    "Проделанная работа включала в себя загрузку и изучение данных, учитывая отсутствие тестовой выборки было необходимо правильно разбить данные для эффективного обучения моделей. Также был встречен признак с пропусками, которые пришлось заполнить. Поскольку в нашем датасете были количественные признаки, пришлось воспользоваться One-hot-encode, чтобы перевести их в численные. Было обучено несколько моделей случайного леса, каждая из которых сопровождалась графиками кривой ROC, подсчетом площади, а также выведены результаты F1 метрики. Перед началом обучения были выкинуты признаки, не влияющие на целевой признак. Был рассмотрен диссбаланс классов целевого признака, и как оказалось, один класс встречался в 4 раза чаще другого! Однако была обучена модель без учета диссбаланса классов, полученная F1 метрика равнялась 0.56, что нельзя назвать хорошим результатом, а уже потом обученая с учетом диссбаланса, применив технику **upsampling**, а также масштабируя все численные признаки, после чего результаты F1 метрики улучшились на валидационной выборке, а затем и на тестовой себя неплохо показала наша модель. Также в надежде на улучшение результата были объеденины тренировочные и тестовые выборки, а затем снова обучена модель, результат стал лучше."
   ]
  },
  {
   "cell_type": "markdown",
   "metadata": {},
   "source": [
    "<div class=\"alert alert-block alert-success\">\n",
    "<b>✔️ Успех:</b>\n",
    "\n",
    "Вывод соответствует исследованию 👍\n",
    "</div>"
   ]
  },
  {
   "cell_type": "markdown",
   "metadata": {},
   "source": [
    "# <font color='orange'>Общее впечатление</font>\n",
    "* Этот проект выполнен очень хорошо\n",
    "* Видно, что приложено много усилий\n",
    "* Молодец, что структурируешь ноутбук, приятно проверять такие работы\n",
    "* У тебя чистый и лаконичный код\n",
    "* Мне было интересно читать твои промежуточные выводы\n",
    "* Твой уровень подачи материала находится на высоком уровне\n",
    "* Исправь, пожалуйста, мои замечания. Затем отправляй на повторную проверку\n",
    "* Жду новую версию проекта 👋"
   ]
  },
  {
   "cell_type": "markdown",
   "metadata": {},
   "source": [
    "# <font color='orange'>Рекомендации 🔥</font>\n",
    "* Анализ данных на python и pandas https://www.youtube.com/watch?v=dd3RcafdOQk&t=82s\n",
    "* Курс \"Введение в машинное обучение\" https://stepik.org/course/4852\n",
    "* Разумные способы кодирования категориальных данных для машинного обучения https://machinelearningmastery.ru/smarter-ways-to-encode-categorical-data-for-machine-learning-part-1-of-3-6dca2f71b159/\n",
    "* Статья про \"непонятную\" метрику ROC-AUC https://dyakonov.org/2017/07/28/auc-roc-площадь-под-кривой-ошибок/\n",
    "* Хочешь подтянуть математику для DS?) https://academy.stepik.org/math-for-data-science\n",
    "* Результаты обучения моделей можно визуализировать 😎 https://www.datatechnotes.com/2019/08/elasticnet-regression-example-in-python.html\n",
    "* В нашем деле нужно быть всегда в курсе всех новинок, новостей и тд, вот тут публикуют новости в области DS: https://www.infoq.com/data-analysis/news/\n",
    "* Всем аналитикам данных рекомендую книгу Даниела Канемана \"Думай медленно, решай быстро\""
   ]
  },
  {
   "cell_type": "markdown",
   "metadata": {},
   "source": [
    "## Чек-лист готовности проекта"
   ]
  },
  {
   "cell_type": "markdown",
   "metadata": {},
   "source": [
    "Поставьте 'x' в выполненных пунктах. Далее нажмите Shift+Enter."
   ]
  },
  {
   "cell_type": "markdown",
   "metadata": {},
   "source": [
    "- [x]  Jupyter Notebook открыт\n",
    "- [x]  Весь код выполняется без ошибок\n",
    "- [x]  Ячейки с кодом расположены в порядке исполнения\n",
    "- [x]  Выполнен шаг 1: данные подготовлены\n",
    "- [x]  Выполнен шаг 2: задача исследована\n",
    "    - [x]  Исследован баланс классов\n",
    "    - [x]  Изучены модели без учёта дисбаланса\n",
    "    - [x]  Написаны выводы по результатам исследования\n",
    "- [x]  Выполнен шаг 3: учтён дисбаланс\n",
    "    - [x]  Применено несколько способов борьбы с дисбалансом\n",
    "    - [x]  Написаны выводы по результатам исследования\n",
    "- [x]  Выполнен шаг 4: проведено тестирование\n",
    "- [x]  Удалось достичь *F1*-меры не менее 0.59\n",
    "- [x]  Исследована метрика *AUC-ROC*"
   ]
  },
  {
   "cell_type": "code",
   "execution_count": 22,
   "outputs": [
    {
     "data": {
      "text/plain": "1    0.9\n2    0.8\n4    0.5\n3    0.3\n0    0.2\n5    0.1\ndtype: float64"
     },
     "metadata": {},
     "output_type": "display_data"
    },
    {
     "data": {
      "text/plain": "Int64Index([1, 2, 4, 3, 0, 5], dtype='int64')"
     },
     "metadata": {},
     "output_type": "display_data"
    },
    {
     "name": "stdout",
     "output_type": "stream",
     "text": [
      "Отсек\n"
     ]
    },
    {
     "data": {
      "text/plain": "1    1\n2    0\n4    1\n3    0\n0    1\n5    0\ndtype: int64"
     },
     "metadata": {},
     "output_type": "display_data"
    },
    {
     "name": "stdout",
     "output_type": "stream",
     "text": [
      "Отсек\n"
     ]
    },
    {
     "data": {
      "text/plain": "1    1\n2    0\n4    1\ndtype: int64"
     },
     "metadata": {},
     "output_type": "display_data"
    },
    {
     "name": "stdout",
     "output_type": "stream",
     "text": [
      "2000\n"
     ]
    }
   ],
   "source": [
    "import pandas as pd\n",
    "\n",
    "def revenue(target, probabilities, count):\n",
    "    probs_sorted = probabilities.sort_values(ascending=False)\n",
    "    display(probs_sorted)\n",
    "    selected = target[probs_sorted.index][:count]\n",
    "    display(probs_sorted.index)\n",
    "    print('Отсек')\n",
    "    display(target[probs_sorted.index])\n",
    "    print('Отсек')\n",
    "    display(selected)\n",
    "    return 1000 * len(selected[selected != 0])\n",
    "\n",
    "target = pd.Series([1,   1,   0,   0,  1,    0])\n",
    "probab = pd.Series([0.2, 0.9, 0.8, 0.3, 0.5, 0.1])\n",
    "\n",
    "res = revenue(target, probab, 3)\n",
    "\n",
    "print(res)"
   ],
   "metadata": {
    "collapsed": false
   }
  },
  {
   "cell_type": "code",
   "execution_count": 23,
   "outputs": [],
   "source": [
    "import pandas as pd\n",
    "data = pd.read_csv('../datasets/heart_labeled.csv')"
   ],
   "metadata": {
    "collapsed": false
   }
  },
  {
   "cell_type": "code",
   "execution_count": 24,
   "outputs": [
    {
     "name": "stdout",
     "output_type": "stream",
     "text": [
      "   age  sex  cp  trestbps  chol  fbs  restecg  thalach  exang  oldpeak  slope  \\\n",
      "0   50    1   0       150   243    0        0      128      0      2.6      1   \n",
      "1   55    0   1       135   250    0        0      161      0      1.4      1   \n",
      "2   54    1   0       140   239    0        1      160      0      1.2      2   \n",
      "3   59    1   3       178   270    0        0      145      0      4.2      0   \n",
      "4   70    1   2       160   269    0        1      112      1      2.9      1   \n",
      "\n",
      "   ca  thal  label_1  label_2  label_3  target  \n",
      "0   0     3        0        0        1       0  \n",
      "1   0     2        1        1        1       1  \n",
      "2   0     2        1        0        1       1  \n",
      "3   0     3        1        0        1       1  \n",
      "4   1     3        1        0        0       0  \n"
     ]
    }
   ],
   "source": [
    "labels = data.loc[:, 'label_1':'label_3']\n",
    "target = labels.sum(axis=1) >= 2\n",
    "# target = target.where(target == True, 0)\n",
    "# target = target.where(target == True, 0)\n",
    "data['target'] = target.astype('int')\n",
    "print(data.head())"
   ],
   "metadata": {
    "collapsed": false
   }
  },
  {
   "cell_type": "code",
   "execution_count": 25,
   "outputs": [
    {
     "data": {
      "text/plain": "0"
     },
     "execution_count": 25,
     "metadata": {},
     "output_type": "execute_result"
    }
   ],
   "source": [
    "int(False)"
   ],
   "metadata": {
    "collapsed": false
   }
  },
  {
   "cell_type": "code",
   "execution_count": 25,
   "outputs": [],
   "source": [],
   "metadata": {
    "collapsed": false
   }
  }
 ],
 "metadata": {
  "ExecuteTimeLog": [
   {
    "duration": 1532,
    "start_time": "2022-10-17T14:37:17.050Z"
   },
   {
    "duration": 132,
    "start_time": "2022-10-17T14:37:18.584Z"
   },
   {
    "duration": 0,
    "start_time": "2022-10-17T14:37:18.719Z"
   },
   {
    "duration": 0,
    "start_time": "2022-10-17T14:37:18.721Z"
   },
   {
    "duration": 0,
    "start_time": "2022-10-17T14:37:18.722Z"
   },
   {
    "duration": 0,
    "start_time": "2022-10-17T14:37:18.723Z"
   },
   {
    "duration": 0,
    "start_time": "2022-10-17T14:37:18.733Z"
   },
   {
    "duration": 0,
    "start_time": "2022-10-17T14:37:18.735Z"
   },
   {
    "duration": 0,
    "start_time": "2022-10-17T14:37:18.736Z"
   },
   {
    "duration": 0,
    "start_time": "2022-10-17T14:37:18.738Z"
   },
   {
    "duration": 0,
    "start_time": "2022-10-17T14:37:18.739Z"
   },
   {
    "duration": 0,
    "start_time": "2022-10-17T14:37:18.740Z"
   },
   {
    "duration": 0,
    "start_time": "2022-10-17T14:37:18.741Z"
   },
   {
    "duration": 0,
    "start_time": "2022-10-17T14:37:18.743Z"
   },
   {
    "duration": 0,
    "start_time": "2022-10-17T14:37:18.744Z"
   },
   {
    "duration": 0,
    "start_time": "2022-10-17T14:37:18.746Z"
   },
   {
    "duration": 0,
    "start_time": "2022-10-17T14:37:18.747Z"
   },
   {
    "duration": 0,
    "start_time": "2022-10-17T14:37:18.749Z"
   },
   {
    "duration": 0,
    "start_time": "2022-10-17T14:37:18.751Z"
   },
   {
    "duration": 0,
    "start_time": "2022-10-17T14:37:18.752Z"
   },
   {
    "duration": 4,
    "start_time": "2022-10-17T14:37:25.145Z"
   },
   {
    "duration": 17,
    "start_time": "2022-10-17T14:37:25.151Z"
   },
   {
    "duration": 0,
    "start_time": "2022-10-17T14:37:25.170Z"
   },
   {
    "duration": 0,
    "start_time": "2022-10-17T14:37:25.171Z"
   },
   {
    "duration": 0,
    "start_time": "2022-10-17T14:37:25.173Z"
   },
   {
    "duration": 0,
    "start_time": "2022-10-17T14:37:25.174Z"
   },
   {
    "duration": 0,
    "start_time": "2022-10-17T14:37:25.175Z"
   },
   {
    "duration": 0,
    "start_time": "2022-10-17T14:37:25.176Z"
   },
   {
    "duration": 0,
    "start_time": "2022-10-17T14:37:25.177Z"
   },
   {
    "duration": 0,
    "start_time": "2022-10-17T14:37:25.178Z"
   },
   {
    "duration": 0,
    "start_time": "2022-10-17T14:37:25.179Z"
   },
   {
    "duration": 0,
    "start_time": "2022-10-17T14:37:25.180Z"
   },
   {
    "duration": 0,
    "start_time": "2022-10-17T14:37:25.181Z"
   },
   {
    "duration": 0,
    "start_time": "2022-10-17T14:37:25.182Z"
   },
   {
    "duration": 0,
    "start_time": "2022-10-17T14:37:25.183Z"
   },
   {
    "duration": 0,
    "start_time": "2022-10-17T14:37:25.184Z"
   },
   {
    "duration": 0,
    "start_time": "2022-10-17T14:37:25.186Z"
   },
   {
    "duration": 9,
    "start_time": "2022-10-17T14:37:25.188Z"
   },
   {
    "duration": 0,
    "start_time": "2022-10-17T14:37:25.233Z"
   },
   {
    "duration": 0,
    "start_time": "2022-10-17T14:37:25.235Z"
   },
   {
    "duration": 1305,
    "start_time": "2022-10-17T14:38:01.621Z"
   },
   {
    "duration": 115,
    "start_time": "2022-10-17T14:38:02.928Z"
   },
   {
    "duration": 0,
    "start_time": "2022-10-17T14:38:03.047Z"
   },
   {
    "duration": 0,
    "start_time": "2022-10-17T14:38:03.049Z"
   },
   {
    "duration": 0,
    "start_time": "2022-10-17T14:38:03.050Z"
   },
   {
    "duration": 0,
    "start_time": "2022-10-17T14:38:03.051Z"
   },
   {
    "duration": 0,
    "start_time": "2022-10-17T14:38:03.052Z"
   },
   {
    "duration": 0,
    "start_time": "2022-10-17T14:38:03.054Z"
   },
   {
    "duration": 0,
    "start_time": "2022-10-17T14:38:03.055Z"
   },
   {
    "duration": 0,
    "start_time": "2022-10-17T14:38:03.057Z"
   },
   {
    "duration": 1,
    "start_time": "2022-10-17T14:38:03.058Z"
   },
   {
    "duration": 0,
    "start_time": "2022-10-17T14:38:03.060Z"
   },
   {
    "duration": 0,
    "start_time": "2022-10-17T14:38:03.062Z"
   },
   {
    "duration": 0,
    "start_time": "2022-10-17T14:38:03.063Z"
   },
   {
    "duration": 0,
    "start_time": "2022-10-17T14:38:03.064Z"
   },
   {
    "duration": 0,
    "start_time": "2022-10-17T14:38:03.066Z"
   },
   {
    "duration": 0,
    "start_time": "2022-10-17T14:38:03.067Z"
   },
   {
    "duration": 0,
    "start_time": "2022-10-17T14:38:03.069Z"
   },
   {
    "duration": 0,
    "start_time": "2022-10-17T14:38:03.071Z"
   },
   {
    "duration": 0,
    "start_time": "2022-10-17T14:38:03.073Z"
   },
   {
    "duration": 121,
    "start_time": "2022-10-17T14:38:13.318Z"
   },
   {
    "duration": 4,
    "start_time": "2022-10-17T14:38:15.723Z"
   },
   {
    "duration": 115,
    "start_time": "2022-10-17T14:38:15.729Z"
   },
   {
    "duration": 3,
    "start_time": "2022-10-17T14:38:15.845Z"
   },
   {
    "duration": 22,
    "start_time": "2022-10-17T14:38:15.850Z"
   },
   {
    "duration": 4,
    "start_time": "2022-10-17T14:38:15.874Z"
   },
   {
    "duration": 14,
    "start_time": "2022-10-17T14:38:15.880Z"
   },
   {
    "duration": 11,
    "start_time": "2022-10-17T14:38:15.896Z"
   },
   {
    "duration": 29,
    "start_time": "2022-10-17T14:38:15.908Z"
   },
   {
    "duration": 299,
    "start_time": "2022-10-17T14:38:15.938Z"
   },
   {
    "duration": 34,
    "start_time": "2022-10-17T14:38:16.240Z"
   },
   {
    "duration": 5,
    "start_time": "2022-10-17T14:38:16.276Z"
   },
   {
    "duration": 22,
    "start_time": "2022-10-17T14:38:16.284Z"
   },
   {
    "duration": 1238,
    "start_time": "2022-10-17T14:38:16.308Z"
   },
   {
    "duration": 195,
    "start_time": "2022-10-17T14:38:17.548Z"
   },
   {
    "duration": 4,
    "start_time": "2022-10-17T14:38:17.745Z"
   },
   {
    "duration": 13,
    "start_time": "2022-10-17T14:38:17.750Z"
   },
   {
    "duration": 2,
    "start_time": "2022-10-17T14:38:17.765Z"
   },
   {
    "duration": 92,
    "start_time": "2022-10-17T14:38:17.769Z"
   },
   {
    "duration": 186,
    "start_time": "2022-10-17T14:38:17.862Z"
   },
   {
    "duration": 1438,
    "start_time": "2022-10-17T14:38:18.050Z"
   },
   {
    "duration": 4,
    "start_time": "2022-10-17T14:38:48.547Z"
   },
   {
    "duration": 11,
    "start_time": "2022-10-17T14:39:11.572Z"
   },
   {
    "duration": 16,
    "start_time": "2022-10-17T14:39:22.743Z"
   },
   {
    "duration": 11,
    "start_time": "2022-10-17T14:39:38.680Z"
   },
   {
    "duration": 6,
    "start_time": "2022-10-17T14:40:34.761Z"
   },
   {
    "duration": 6,
    "start_time": "2022-10-17T14:40:45.360Z"
   },
   {
    "duration": 4,
    "start_time": "2022-10-17T14:41:00.198Z"
   },
   {
    "duration": 10,
    "start_time": "2022-10-17T14:41:00.471Z"
   },
   {
    "duration": 7,
    "start_time": "2022-10-17T14:41:00.784Z"
   },
   {
    "duration": 6,
    "start_time": "2022-10-17T14:42:07.908Z"
   },
   {
    "duration": 11,
    "start_time": "2022-10-17T14:42:08.477Z"
   },
   {
    "duration": 7,
    "start_time": "2022-10-17T14:42:15.823Z"
   },
   {
    "duration": 4,
    "start_time": "2022-10-17T14:42:23.564Z"
   },
   {
    "duration": 11,
    "start_time": "2022-10-17T14:42:23.911Z"
   },
   {
    "duration": 11,
    "start_time": "2022-10-17T14:42:24.315Z"
   },
   {
    "duration": 7,
    "start_time": "2022-10-17T14:42:24.763Z"
   },
   {
    "duration": 6,
    "start_time": "2022-10-17T14:42:30.291Z"
   },
   {
    "duration": 7,
    "start_time": "2022-10-17T14:42:30.743Z"
   },
   {
    "duration": 8,
    "start_time": "2022-10-17T14:42:30.947Z"
   },
   {
    "duration": 6,
    "start_time": "2022-10-17T14:42:31.134Z"
   },
   {
    "duration": 7,
    "start_time": "2022-10-17T14:42:31.330Z"
   },
   {
    "duration": 7,
    "start_time": "2022-10-17T14:42:31.464Z"
   },
   {
    "duration": 73,
    "start_time": "2022-10-17T14:42:35.714Z"
   },
   {
    "duration": 184,
    "start_time": "2022-10-17T14:42:36.541Z"
   },
   {
    "duration": 1498,
    "start_time": "2022-10-17T14:42:37.913Z"
   },
   {
    "duration": 7,
    "start_time": "2022-10-17T14:43:19.902Z"
   },
   {
    "duration": 4,
    "start_time": "2022-10-17T14:44:17.170Z"
   },
   {
    "duration": 11,
    "start_time": "2022-10-17T14:44:17.650Z"
   },
   {
    "duration": 7,
    "start_time": "2022-10-17T14:44:18.021Z"
   },
   {
    "duration": 4,
    "start_time": "2022-10-17T14:44:20.659Z"
   },
   {
    "duration": 91,
    "start_time": "2022-10-17T14:44:20.665Z"
   },
   {
    "duration": 4,
    "start_time": "2022-10-17T14:44:20.757Z"
   },
   {
    "duration": 22,
    "start_time": "2022-10-17T14:44:20.762Z"
   },
   {
    "duration": 6,
    "start_time": "2022-10-17T14:44:20.785Z"
   },
   {
    "duration": 17,
    "start_time": "2022-10-17T14:44:20.793Z"
   },
   {
    "duration": 22,
    "start_time": "2022-10-17T14:44:20.811Z"
   },
   {
    "duration": 6,
    "start_time": "2022-10-17T14:44:20.835Z"
   },
   {
    "duration": 292,
    "start_time": "2022-10-17T14:44:20.842Z"
   },
   {
    "duration": 27,
    "start_time": "2022-10-17T14:44:21.136Z"
   },
   {
    "duration": 3,
    "start_time": "2022-10-17T14:44:21.166Z"
   },
   {
    "duration": 12,
    "start_time": "2022-10-17T14:44:21.171Z"
   },
   {
    "duration": 1237,
    "start_time": "2022-10-17T14:44:21.184Z"
   },
   {
    "duration": 182,
    "start_time": "2022-10-17T14:44:22.422Z"
   },
   {
    "duration": 4,
    "start_time": "2022-10-17T14:44:22.606Z"
   },
   {
    "duration": 24,
    "start_time": "2022-10-17T14:44:22.612Z"
   },
   {
    "duration": 6,
    "start_time": "2022-10-17T14:44:22.638Z"
   },
   {
    "duration": 69,
    "start_time": "2022-10-17T14:44:22.645Z"
   },
   {
    "duration": 190,
    "start_time": "2022-10-17T14:44:22.716Z"
   },
   {
    "duration": 1516,
    "start_time": "2022-10-17T14:44:22.908Z"
   },
   {
    "duration": 4,
    "start_time": "2022-10-17T14:44:57.243Z"
   },
   {
    "duration": 6,
    "start_time": "2022-10-17T14:44:58.521Z"
   },
   {
    "duration": 12,
    "start_time": "2022-10-17T14:44:59.009Z"
   },
   {
    "duration": 25,
    "start_time": "2022-10-17T14:45:38.633Z"
   },
   {
    "duration": 28,
    "start_time": "2022-10-17T14:45:39.334Z"
   }
  ],
  "kernelspec": {
   "display_name": "Python 3 (ipykernel)",
   "language": "python",
   "name": "python3"
  },
  "language_info": {
   "codemirror_mode": {
    "name": "ipython",
    "version": 3
   },
   "file_extension": ".py",
   "mimetype": "text/x-python",
   "name": "python",
   "nbconvert_exporter": "python",
   "pygments_lexer": "ipython3",
   "version": "3.9.12"
  },
  "toc": {
   "base_numbering": 1,
   "nav_menu": {},
   "number_sections": true,
   "sideBar": true,
   "skip_h1_title": true,
   "title_cell": "Содержание",
   "title_sidebar": "Contents",
   "toc_cell": true,
   "toc_position": {
    "height": "calc(100% - 180px)",
    "left": "10px",
    "top": "150px",
    "width": "165px"
   },
   "toc_section_display": true,
   "toc_window_display": true
  }
 },
 "nbformat": 4,
 "nbformat_minor": 2
}
