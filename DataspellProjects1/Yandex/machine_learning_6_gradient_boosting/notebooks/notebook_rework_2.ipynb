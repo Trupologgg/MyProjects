{
 "cells": [
  {
   "cell_type": "markdown",
   "metadata": {},
   "source": [
    "<div style=\"border:solid Chocolate 2px; padding: 40px\">\n",
    "    \n",
    " <b>Добрый день, Александр!</b>\n",
    "Меня зовут Ксения Цыганова, и я буду комментировать твою работу и помогать тебе сделать ее сильнее. В Практикуме мы общаемся на «ты», но если тебе это будет некомфортно, пожалуйста, скажи, и мы будем обращаться друг к другу на «вы».\n",
    "    \n",
    "Все мои комментарии делятся на три вида:\n",
    "\n",
    "    \n",
    "👍 Здесь все отлично, идем дальше! - <font color='green'> зеленый цвет </font>\n",
    "    \n",
    "💡 Все хорошо, однако, можно оптимизировать или рассмотреть другие способы (необязательно для исполнения, чтобы пройти дальше) - <font color='gold'>желтый цвет</font>\n",
    "    \n",
    "🤔 Необходимо внести исправления, без которых я не смогу принять проект - <font color='red'>красный цвет</font>\n",
    "    \n",
    "    \n",
    "Свои комментарии я буду выделять заголовком «комментарий ревьюера». Пожалуйста, не удаляй их, это поможет сократить время проверки на повторных ревью.Ты также можешь писать свои комментарии к моим и выделять их любым понравившимся способом, отличным от моего. Если у тебя будут возникать вопросы в течение нашей работы, я с радостью на них отвечу.\n",
    "\n",
    "Цель моего ревью не критика и не возможность дать тебе готовые ответы, это способ привести тебя в нужное русло, чтобы ты смог развить собственные идеи и решения. Твой будущий работодатель будет поступать похожим образом. \n",
    "        \n",
    "   <b>У тебя все получится!</b>"
   ]
  },
  {
   "cell_type": "code",
   "execution_count": 225,
   "metadata": {},
   "outputs": [],
   "source": [
    "import pandas as pd\n",
    "import numpy as np\n",
    "import matplotlib.pyplot as plt\n",
    "from catboost import CatBoostClassifier\n",
    "from sklearn.model_selection import train_test_split, GridSearchCV\n",
    "from sklearn.preprocessing import StandardScaler  #%%\n",
    "import pandas as pd\n",
    "import numpy as np\n",
    "import matplotlib.pyplot as plt\n",
    "from catboost import CatBoostClassifier\n",
    "from sklearn.model_selection import train_test_split, GridSearchCV\n",
    "from sklearn.preprocessing import StandardScaler\n",
    "from sklearn.linear_model import LinearRegression\n",
    "from sklearn.metrics import mean_squared_error\n",
    "from sklearn.ensemble import RandomForestRegressor\n",
    "from catboost import Pool, CatBoostRegressor\n",
    "from sklearn.preprocessing import OrdinalEncoder\n",
    "from sklearn.model_selection import cross_val_score\n",
    "from sklearn.preprocessing import OneHotEncoder\n",
    "from sklearn.pipeline import Pipeline\n"
   ]
  },
  {
   "cell_type": "markdown",
   "metadata": {},
   "source": [
    "<div class=\"alert alert-success\">\n",
    "<h2> Комментарий ревьюера <a class=\"tocSkip\"> </h2>\n",
    "\n",
    "<b>Все отлично!👍:</b> \n",
    "    \n",
    "Отлично, что все импорты собраны в одном месте в начале проекта. Это поможет в случае чего сразу увидеть, какие библиотеки следует доустановить."
   ]
  },
  {
   "cell_type": "markdown",
   "metadata": {},
   "source": [
    "<div class=\"alert alert-warning\">\n",
    "    <h2> Комментарий ревьюера <a class=\"tocSkip\"> </h2>\n",
    "    \n",
    "<b>Некоторые замечания и рекомендации💡:</b> \n",
    "        \n",
    "Стоит учитывать рекомендации PEP-8 при оформлении проекта, в том числе импортов. С ними можно познакомиться по ссылке: https://pythonworld.ru/osnovy/pep-8-rukovodstvo-po-napisaniyu-koda-na-python.html"
   ]
  },
  {
   "cell_type": "markdown",
   "metadata": {},
   "source": [
    "# Определение стоимости автомобилей"
   ]
  },
  {
   "cell_type": "markdown",
   "metadata": {},
   "source": [
    "Сервис по продаже автомобилей с пробегом «Не бит, не крашен» разрабатывает приложение для привлечения новых клиентов. В нём можно быстро узнать рыночную стоимость своего автомобиля. В вашем распоряжении исторические данные: технические характеристики, комплектации и цены автомобилей. Вам нужно построить модель для определения стоимости.\n",
    "\n",
    "Заказчику важны:\n",
    "\n",
    "- качество предсказания;\n",
    "- скорость предсказания;\n",
    "- время обучения."
   ]
  },
  {
   "cell_type": "markdown",
   "metadata": {},
   "source": [
    "<div class=\"alert alert-success\">\n",
    "<h2> Комментарий ревьюера <a class=\"tocSkip\"> </h2>\n",
    "\n",
    "<b>Все отлично!👍:</b> \n",
    "    \n",
    "Отлично, что есть вступительный комментарий."
   ]
  },
  {
   "cell_type": "markdown",
   "metadata": {},
   "source": [
    "<div class=\"alert alert-warning\">\n",
    "    <h2> Комментарий ревьюера <a class=\"tocSkip\"> </h2>\n",
    "    \n",
    "<b>Некоторые замечания и рекомендации💡:</b> \n",
    "        \n",
    "Также можно добавить содержание для более легкой навигации по проекту."
   ]
  },
  {
   "cell_type": "markdown",
   "metadata": {},
   "source": [
    "## Подготовка данных"
   ]
  },
  {
   "cell_type": "markdown",
   "metadata": {},
   "source": [
    "Загрузим данные и сделаем первичный осмотр."
   ]
  },
  {
   "cell_type": "code",
   "execution_count": 226,
   "metadata": {},
   "outputs": [
    {
     "data": {
      "text/plain": "                DateCrawled  Price  VehicleType  RegistrationYear Gearbox  \\\n0       2016-03-24 11:52:17    480          NaN              1993  manual   \n1       2016-03-24 10:58:45  18300        coupe              2011  manual   \n2       2016-03-14 12:52:21   9800          suv              2004    auto   \n3       2016-03-17 16:54:04   1500        small              2001  manual   \n4       2016-03-31 17:25:20   3600        small              2008  manual   \n...                     ...    ...          ...               ...     ...   \n354364  2016-03-21 09:50:58      0          NaN              2005  manual   \n354365  2016-03-14 17:48:27   2200          NaN              2005     NaN   \n354366  2016-03-05 19:56:21   1199  convertible              2000    auto   \n354367  2016-03-19 18:57:12   9200          bus              1996  manual   \n354368  2016-03-20 19:41:08   3400        wagon              2002  manual   \n\n        Power        Model  Kilometer  RegistrationMonth  FuelType  \\\n0           0         golf     150000                  0    petrol   \n1         190          NaN     125000                  5  gasoline   \n2         163        grand     125000                  8  gasoline   \n3          75         golf     150000                  6    petrol   \n4          69        fabia      90000                  7  gasoline   \n...       ...          ...        ...                ...       ...   \n354364      0         colt     150000                  7    petrol   \n354365      0          NaN      20000                  1       NaN   \n354366    101       fortwo     125000                  3    petrol   \n354367    102  transporter     150000                  3  gasoline   \n354368    100         golf     150000                  6  gasoline   \n\n                 Brand Repaired          DateCreated  NumberOfPictures  \\\n0           volkswagen      NaN  2016-03-24 00:00:00                 0   \n1                 audi      yes  2016-03-24 00:00:00                 0   \n2                 jeep      NaN  2016-03-14 00:00:00                 0   \n3           volkswagen       no  2016-03-17 00:00:00                 0   \n4                skoda       no  2016-03-31 00:00:00                 0   \n...                ...      ...                  ...               ...   \n354364      mitsubishi      yes  2016-03-21 00:00:00                 0   \n354365  sonstige_autos      NaN  2016-03-14 00:00:00                 0   \n354366           smart       no  2016-03-05 00:00:00                 0   \n354367      volkswagen       no  2016-03-19 00:00:00                 0   \n354368      volkswagen      NaN  2016-03-20 00:00:00                 0   \n\n        PostalCode             LastSeen  \n0            70435  2016-04-07 03:16:57  \n1            66954  2016-04-07 01:46:50  \n2            90480  2016-04-05 12:47:46  \n3            91074  2016-03-17 17:40:17  \n4            60437  2016-04-06 10:17:21  \n...            ...                  ...  \n354364        2694  2016-03-21 10:42:49  \n354365       39576  2016-04-06 00:46:52  \n354366       26135  2016-03-11 18:17:12  \n354367       87439  2016-04-07 07:15:26  \n354368       40764  2016-03-24 12:45:21  \n\n[354369 rows x 16 columns]",
      "text/html": "<div>\n<style scoped>\n    .dataframe tbody tr th:only-of-type {\n        vertical-align: middle;\n    }\n\n    .dataframe tbody tr th {\n        vertical-align: top;\n    }\n\n    .dataframe thead th {\n        text-align: right;\n    }\n</style>\n<table border=\"1\" class=\"dataframe\">\n  <thead>\n    <tr style=\"text-align: right;\">\n      <th></th>\n      <th>DateCrawled</th>\n      <th>Price</th>\n      <th>VehicleType</th>\n      <th>RegistrationYear</th>\n      <th>Gearbox</th>\n      <th>Power</th>\n      <th>Model</th>\n      <th>Kilometer</th>\n      <th>RegistrationMonth</th>\n      <th>FuelType</th>\n      <th>Brand</th>\n      <th>Repaired</th>\n      <th>DateCreated</th>\n      <th>NumberOfPictures</th>\n      <th>PostalCode</th>\n      <th>LastSeen</th>\n    </tr>\n  </thead>\n  <tbody>\n    <tr>\n      <th>0</th>\n      <td>2016-03-24 11:52:17</td>\n      <td>480</td>\n      <td>NaN</td>\n      <td>1993</td>\n      <td>manual</td>\n      <td>0</td>\n      <td>golf</td>\n      <td>150000</td>\n      <td>0</td>\n      <td>petrol</td>\n      <td>volkswagen</td>\n      <td>NaN</td>\n      <td>2016-03-24 00:00:00</td>\n      <td>0</td>\n      <td>70435</td>\n      <td>2016-04-07 03:16:57</td>\n    </tr>\n    <tr>\n      <th>1</th>\n      <td>2016-03-24 10:58:45</td>\n      <td>18300</td>\n      <td>coupe</td>\n      <td>2011</td>\n      <td>manual</td>\n      <td>190</td>\n      <td>NaN</td>\n      <td>125000</td>\n      <td>5</td>\n      <td>gasoline</td>\n      <td>audi</td>\n      <td>yes</td>\n      <td>2016-03-24 00:00:00</td>\n      <td>0</td>\n      <td>66954</td>\n      <td>2016-04-07 01:46:50</td>\n    </tr>\n    <tr>\n      <th>2</th>\n      <td>2016-03-14 12:52:21</td>\n      <td>9800</td>\n      <td>suv</td>\n      <td>2004</td>\n      <td>auto</td>\n      <td>163</td>\n      <td>grand</td>\n      <td>125000</td>\n      <td>8</td>\n      <td>gasoline</td>\n      <td>jeep</td>\n      <td>NaN</td>\n      <td>2016-03-14 00:00:00</td>\n      <td>0</td>\n      <td>90480</td>\n      <td>2016-04-05 12:47:46</td>\n    </tr>\n    <tr>\n      <th>3</th>\n      <td>2016-03-17 16:54:04</td>\n      <td>1500</td>\n      <td>small</td>\n      <td>2001</td>\n      <td>manual</td>\n      <td>75</td>\n      <td>golf</td>\n      <td>150000</td>\n      <td>6</td>\n      <td>petrol</td>\n      <td>volkswagen</td>\n      <td>no</td>\n      <td>2016-03-17 00:00:00</td>\n      <td>0</td>\n      <td>91074</td>\n      <td>2016-03-17 17:40:17</td>\n    </tr>\n    <tr>\n      <th>4</th>\n      <td>2016-03-31 17:25:20</td>\n      <td>3600</td>\n      <td>small</td>\n      <td>2008</td>\n      <td>manual</td>\n      <td>69</td>\n      <td>fabia</td>\n      <td>90000</td>\n      <td>7</td>\n      <td>gasoline</td>\n      <td>skoda</td>\n      <td>no</td>\n      <td>2016-03-31 00:00:00</td>\n      <td>0</td>\n      <td>60437</td>\n      <td>2016-04-06 10:17:21</td>\n    </tr>\n    <tr>\n      <th>...</th>\n      <td>...</td>\n      <td>...</td>\n      <td>...</td>\n      <td>...</td>\n      <td>...</td>\n      <td>...</td>\n      <td>...</td>\n      <td>...</td>\n      <td>...</td>\n      <td>...</td>\n      <td>...</td>\n      <td>...</td>\n      <td>...</td>\n      <td>...</td>\n      <td>...</td>\n      <td>...</td>\n    </tr>\n    <tr>\n      <th>354364</th>\n      <td>2016-03-21 09:50:58</td>\n      <td>0</td>\n      <td>NaN</td>\n      <td>2005</td>\n      <td>manual</td>\n      <td>0</td>\n      <td>colt</td>\n      <td>150000</td>\n      <td>7</td>\n      <td>petrol</td>\n      <td>mitsubishi</td>\n      <td>yes</td>\n      <td>2016-03-21 00:00:00</td>\n      <td>0</td>\n      <td>2694</td>\n      <td>2016-03-21 10:42:49</td>\n    </tr>\n    <tr>\n      <th>354365</th>\n      <td>2016-03-14 17:48:27</td>\n      <td>2200</td>\n      <td>NaN</td>\n      <td>2005</td>\n      <td>NaN</td>\n      <td>0</td>\n      <td>NaN</td>\n      <td>20000</td>\n      <td>1</td>\n      <td>NaN</td>\n      <td>sonstige_autos</td>\n      <td>NaN</td>\n      <td>2016-03-14 00:00:00</td>\n      <td>0</td>\n      <td>39576</td>\n      <td>2016-04-06 00:46:52</td>\n    </tr>\n    <tr>\n      <th>354366</th>\n      <td>2016-03-05 19:56:21</td>\n      <td>1199</td>\n      <td>convertible</td>\n      <td>2000</td>\n      <td>auto</td>\n      <td>101</td>\n      <td>fortwo</td>\n      <td>125000</td>\n      <td>3</td>\n      <td>petrol</td>\n      <td>smart</td>\n      <td>no</td>\n      <td>2016-03-05 00:00:00</td>\n      <td>0</td>\n      <td>26135</td>\n      <td>2016-03-11 18:17:12</td>\n    </tr>\n    <tr>\n      <th>354367</th>\n      <td>2016-03-19 18:57:12</td>\n      <td>9200</td>\n      <td>bus</td>\n      <td>1996</td>\n      <td>manual</td>\n      <td>102</td>\n      <td>transporter</td>\n      <td>150000</td>\n      <td>3</td>\n      <td>gasoline</td>\n      <td>volkswagen</td>\n      <td>no</td>\n      <td>2016-03-19 00:00:00</td>\n      <td>0</td>\n      <td>87439</td>\n      <td>2016-04-07 07:15:26</td>\n    </tr>\n    <tr>\n      <th>354368</th>\n      <td>2016-03-20 19:41:08</td>\n      <td>3400</td>\n      <td>wagon</td>\n      <td>2002</td>\n      <td>manual</td>\n      <td>100</td>\n      <td>golf</td>\n      <td>150000</td>\n      <td>6</td>\n      <td>gasoline</td>\n      <td>volkswagen</td>\n      <td>NaN</td>\n      <td>2016-03-20 00:00:00</td>\n      <td>0</td>\n      <td>40764</td>\n      <td>2016-03-24 12:45:21</td>\n    </tr>\n  </tbody>\n</table>\n<p>354369 rows × 16 columns</p>\n</div>"
     },
     "execution_count": 226,
     "metadata": {},
     "output_type": "execute_result"
    }
   ],
   "source": [
    "data = pd.read_csv('../datasets/autos.csv')\n",
    "data_copy = data\n",
    "data"
   ]
  },
  {
   "cell_type": "markdown",
   "metadata": {},
   "source": [
    "<div class=\"alert alert-warning\">\n",
    "    <h2> Комментарий ревьюера <a class=\"tocSkip\"> </h2>\n",
    "    \n",
    "<b>Некоторые замечания и рекомендации💡:</b> \n",
    "        \n",
    "Для загрузки данных можно использовать библиотеку os или констукцию try/except. Это поможет работать работать с проектом как локально, так и через Jupyter Hub, не внося дополнительных правок.\n",
    "        \n",
    "Также была ошибка в пути к файлу, я поправила. Пожалуйста, в следующий раз, будь более внимателен к этому."
   ]
  },
  {
   "cell_type": "code",
   "execution_count": 227,
   "metadata": {},
   "outputs": [
    {
     "name": "stdout",
     "output_type": "stream",
     "text": [
      "<class 'pandas.core.frame.DataFrame'>\n",
      "RangeIndex: 354369 entries, 0 to 354368\n",
      "Data columns (total 16 columns):\n",
      " #   Column             Non-Null Count   Dtype \n",
      "---  ------             --------------   ----- \n",
      " 0   DateCrawled        354369 non-null  object\n",
      " 1   Price              354369 non-null  int64 \n",
      " 2   VehicleType        316879 non-null  object\n",
      " 3   RegistrationYear   354369 non-null  int64 \n",
      " 4   Gearbox            334536 non-null  object\n",
      " 5   Power              354369 non-null  int64 \n",
      " 6   Model              334664 non-null  object\n",
      " 7   Kilometer          354369 non-null  int64 \n",
      " 8   RegistrationMonth  354369 non-null  int64 \n",
      " 9   FuelType           321474 non-null  object\n",
      " 10  Brand              354369 non-null  object\n",
      " 11  Repaired           283215 non-null  object\n",
      " 12  DateCreated        354369 non-null  object\n",
      " 13  NumberOfPictures   354369 non-null  int64 \n",
      " 14  PostalCode         354369 non-null  int64 \n",
      " 15  LastSeen           354369 non-null  object\n",
      "dtypes: int64(7), object(9)\n",
      "memory usage: 43.3+ MB\n"
     ]
    }
   ],
   "source": [
    "data.info()"
   ]
  },
  {
   "cell_type": "markdown",
   "metadata": {},
   "source": [
    "Данные не в чистом виде, присутсвуют как и ошибки приведения типов, так и пропуски в данных, будем исправлять!"
   ]
  },
  {
   "cell_type": "code",
   "execution_count": 228,
   "metadata": {},
   "outputs": [
    {
     "data": {
      "text/plain": "               Price  RegistrationYear          Power      Kilometer  \\\ncount  354369.000000     354369.000000  354369.000000  354369.000000   \nmean     4416.656776       2004.234448     110.094337  128211.172535   \nstd      4514.158514         90.227958     189.850405   37905.341530   \nmin         0.000000       1000.000000       0.000000    5000.000000   \n25%      1050.000000       1999.000000      69.000000  125000.000000   \n50%      2700.000000       2003.000000     105.000000  150000.000000   \n75%      6400.000000       2008.000000     143.000000  150000.000000   \nmax     20000.000000       9999.000000   20000.000000  150000.000000   \n\n       RegistrationMonth  NumberOfPictures     PostalCode  \ncount      354369.000000          354369.0  354369.000000  \nmean            5.714645               0.0   50508.689087  \nstd             3.726421               0.0   25783.096248  \nmin             0.000000               0.0    1067.000000  \n25%             3.000000               0.0   30165.000000  \n50%             6.000000               0.0   49413.000000  \n75%             9.000000               0.0   71083.000000  \nmax            12.000000               0.0   99998.000000  ",
      "text/html": "<div>\n<style scoped>\n    .dataframe tbody tr th:only-of-type {\n        vertical-align: middle;\n    }\n\n    .dataframe tbody tr th {\n        vertical-align: top;\n    }\n\n    .dataframe thead th {\n        text-align: right;\n    }\n</style>\n<table border=\"1\" class=\"dataframe\">\n  <thead>\n    <tr style=\"text-align: right;\">\n      <th></th>\n      <th>Price</th>\n      <th>RegistrationYear</th>\n      <th>Power</th>\n      <th>Kilometer</th>\n      <th>RegistrationMonth</th>\n      <th>NumberOfPictures</th>\n      <th>PostalCode</th>\n    </tr>\n  </thead>\n  <tbody>\n    <tr>\n      <th>count</th>\n      <td>354369.000000</td>\n      <td>354369.000000</td>\n      <td>354369.000000</td>\n      <td>354369.000000</td>\n      <td>354369.000000</td>\n      <td>354369.0</td>\n      <td>354369.000000</td>\n    </tr>\n    <tr>\n      <th>mean</th>\n      <td>4416.656776</td>\n      <td>2004.234448</td>\n      <td>110.094337</td>\n      <td>128211.172535</td>\n      <td>5.714645</td>\n      <td>0.0</td>\n      <td>50508.689087</td>\n    </tr>\n    <tr>\n      <th>std</th>\n      <td>4514.158514</td>\n      <td>90.227958</td>\n      <td>189.850405</td>\n      <td>37905.341530</td>\n      <td>3.726421</td>\n      <td>0.0</td>\n      <td>25783.096248</td>\n    </tr>\n    <tr>\n      <th>min</th>\n      <td>0.000000</td>\n      <td>1000.000000</td>\n      <td>0.000000</td>\n      <td>5000.000000</td>\n      <td>0.000000</td>\n      <td>0.0</td>\n      <td>1067.000000</td>\n    </tr>\n    <tr>\n      <th>25%</th>\n      <td>1050.000000</td>\n      <td>1999.000000</td>\n      <td>69.000000</td>\n      <td>125000.000000</td>\n      <td>3.000000</td>\n      <td>0.0</td>\n      <td>30165.000000</td>\n    </tr>\n    <tr>\n      <th>50%</th>\n      <td>2700.000000</td>\n      <td>2003.000000</td>\n      <td>105.000000</td>\n      <td>150000.000000</td>\n      <td>6.000000</td>\n      <td>0.0</td>\n      <td>49413.000000</td>\n    </tr>\n    <tr>\n      <th>75%</th>\n      <td>6400.000000</td>\n      <td>2008.000000</td>\n      <td>143.000000</td>\n      <td>150000.000000</td>\n      <td>9.000000</td>\n      <td>0.0</td>\n      <td>71083.000000</td>\n    </tr>\n    <tr>\n      <th>max</th>\n      <td>20000.000000</td>\n      <td>9999.000000</td>\n      <td>20000.000000</td>\n      <td>150000.000000</td>\n      <td>12.000000</td>\n      <td>0.0</td>\n      <td>99998.000000</td>\n    </tr>\n  </tbody>\n</table>\n</div>"
     },
     "execution_count": 228,
     "metadata": {},
     "output_type": "execute_result"
    }
   ],
   "source": [
    "data.describe()"
   ]
  },
  {
   "cell_type": "markdown",
   "metadata": {},
   "source": [
    "<div class=\"alert alert-success\">\n",
    "<h2> Комментарий ревьюера <a class=\"tocSkip\"> </h2>\n",
    "\n",
    "<b>Все отлично!👍:</b> \n",
    "    \n",
    "Молодец, что используешь средства для знакомства с основными характеристиками датасета."
   ]
  },
  {
   "cell_type": "markdown",
   "metadata": {},
   "source": [
    "Проанализируем конкретно в каких признаках у нас имеются пропуски."
   ]
  },
  {
   "cell_type": "code",
   "execution_count": 229,
   "metadata": {},
   "outputs": [
    {
     "data": {
      "text/plain": "DateCrawled              0\nPrice                    0\nVehicleType          37490\nRegistrationYear         0\nGearbox              19833\nPower                    0\nModel                19705\nKilometer                0\nRegistrationMonth        0\nFuelType             32895\nBrand                    0\nRepaired             71154\nDateCreated              0\nNumberOfPictures         0\nPostalCode               0\nLastSeen                 0\ndtype: int64"
     },
     "execution_count": 229,
     "metadata": {},
     "output_type": "execute_result"
    }
   ],
   "source": [
    "data.isna().sum()"
   ]
  },
  {
   "cell_type": "markdown",
   "metadata": {},
   "source": [
    "Первым делом исправим самую явную ошибку приведения типов - признак *Repaired*, его следует привести к типу Bool, предварительно заполним пропуски значением False, так как если поле пустой - скорее всего пользователи имели в виду, что она не чинилась, поэтому ничего и не вводили."
   ]
  },
  {
   "cell_type": "code",
   "execution_count": 230,
   "metadata": {},
   "outputs": [],
   "source": [
    "tmp_repaired = [True if i == 'yes' else False for i in data['Repaired']]"
   ]
  },
  {
   "cell_type": "code",
   "execution_count": 231,
   "metadata": {},
   "outputs": [],
   "source": [
    "data['Repaired'] = tmp_repaired"
   ]
  },
  {
   "cell_type": "markdown",
   "metadata": {},
   "source": [
    "<div class=\"alert alert-success\">\n",
    "<h2> Комментарий ревьюера <a class=\"tocSkip\"> </h2>\n",
    "\n",
    "<b>Все отлично!👍</b> \n",
    "    \n",
    "Здесь согласна с заполнением."
   ]
  },
  {
   "cell_type": "markdown",
   "metadata": {},
   "source": [
    "Удалим признаки: *NumberOfPictures* - он содержит только нули и никакой информации не несёт, *DateCrawled*, *DateCreated*, *LastSeen*, *PostalCode* - признаки, никак не влияющие на цену."
   ]
  },
  {
   "cell_type": "code",
   "execution_count": 232,
   "metadata": {},
   "outputs": [],
   "source": [
    "data = data.drop([\"DateCrawled\", \"DateCreated\", \"LastSeen\", \"NumberOfPictures\", \"PostalCode\"], axis=1)"
   ]
  },
  {
   "cell_type": "markdown",
   "metadata": {},
   "source": [
    "<div class=\"alert alert-success\">\n",
    "<h2> Комментарий ревьюера <a class=\"tocSkip\"> </h2>\n",
    "\n",
    "<b>Все отлично!👍:</b> \n",
    "    \n",
    "Отлично, что удаляешь неинформативные признаки."
   ]
  },
  {
   "cell_type": "markdown",
   "metadata": {},
   "source": [
    "С остальными признаками чуть тяжелее - они все категориальные. Конечно, можно попытаться восстановить их на основе других данных, например восстановить тип техники по бренду и мощности двигателя, но такую группировку лучше согласовывать с заказчиком или спросить у более опытных коллег. Поэтому пока заполним пропуски \"unknown\"."
   ]
  },
  {
   "cell_type": "code",
   "execution_count": 233,
   "metadata": {},
   "outputs": [],
   "source": [
    "data['VehicleType'] = data['VehicleType'].fillna('unknown')\n",
    "data['Gearbox'] = data['Gearbox'].fillna('unknown')\n",
    "data['Model'] = data['Model'].fillna('unknown')\n",
    "data['FuelType'] = data['FuelType'].fillna('unknown')"
   ]
  },
  {
   "cell_type": "markdown",
   "metadata": {},
   "source": [
    "<div class=\"alert alert-info\">\n",
    "<font size=\"5\"><b>Комментарий ученика </b></font>\n",
    "<div>Обработал аномальные значения и выбросы.</div>\n",
    "</div>"
   ]
  },
  {
   "cell_type": "markdown",
   "metadata": {},
   "source": [
    "Настало время разобраться с аномальными значениями."
   ]
  },
  {
   "cell_type": "markdown",
   "source": [
    "<div class=\"alert alert-info\">\n",
    "<font size=\"5\"><b>Комментарий ученика V2</b></font>\n",
    "<div>Исправил верхнюю границу</div>\n",
    "</div>"
   ],
   "metadata": {
    "collapsed": false
   }
  },
  {
   "cell_type": "code",
   "execution_count": 234,
   "outputs": [
    {
     "data": {
      "text/plain": "0         1993\n1         2011\n2         2004\n3         2001\n4         2008\n          ... \n354364    2005\n354365    2005\n354366    2000\n354367    1996\n354368    2002\nName: RegistrationYear, Length: 354369, dtype: int64"
     },
     "execution_count": 234,
     "metadata": {},
     "output_type": "execute_result"
    }
   ],
   "source": [
    "data['RegistrationYear']"
   ],
   "metadata": {
    "collapsed": false
   }
  },
  {
   "cell_type": "code",
   "execution_count": 235,
   "metadata": {},
   "outputs": [],
   "source": [
    "data.loc[data['RegistrationMonth'] == 0, 'RegistrationMonth'] = 1\n",
    "data.loc[data['Power'] > 3000, 'Power'] = 3000\n",
    "data[\"RegistrationYear\"] = data[\"RegistrationYear\"].where(\n",
    "    data[\"RegistrationYear\"] < pd.to_datetime(data_copy['DateCreated']).dt.year,\n",
    "    pd.to_datetime(data_copy['DateCreated']).dt.year)\n",
    "data[\"RegistrationYear\"] = data[\"RegistrationYear\"].where(data[\"RegistrationYear\"] > 1940, 1940)"
   ]
  },
  {
   "cell_type": "code",
   "execution_count": 236,
   "outputs": [
    {
     "data": {
      "text/plain": "33638     1940\n117371    1940\n225151    1940\n26216     1940\n79120     1940\n          ... \n275220    2016\n127981    2016\n176228    2016\n71083     2016\n289428    2016\nName: RegistrationYear, Length: 354369, dtype: int64"
     },
     "execution_count": 236,
     "metadata": {},
     "output_type": "execute_result"
    }
   ],
   "source": [
    "data['RegistrationYear'].sort_values()"
   ],
   "metadata": {
    "collapsed": false
   }
  },
  {
   "cell_type": "markdown",
   "metadata": {},
   "source": [
    "<div class=\"alert alert-success\">\n",
    "<h2> Комментарий ревьюера №2<a class=\"tocSkip\"> </h2>\n",
    "\n",
    "<b>Все отлично!👍:</b> \n",
    "    \n",
    "Отлично, что заметил аномальные значения в RegistrationMonth"
   ]
  },
  {
   "cell_type": "markdown",
   "metadata": {},
   "source": [
    "<div class=\"alert alert-block alert-danger\">\n",
    "<h2> Комментарий ревьюера №2<a class=\"tocSkip\"></h2>\n",
    "\n",
    "    \n",
    "<b>На доработку🤔:</b>\n",
    "    \n",
    "Верхнюю границу года регистрации стоит выбирать, исходя из дат, которые представлены в датасете.\n",
    "    \n",
    "Например, год регистрации автомобиля не может превышать дату выгрузки анкеты. Если это так, то данные можно считать некорректными."
   ]
  },
  {
   "cell_type": "markdown",
   "metadata": {},
   "source": [
    "Теперь разберемся с выбросами. Построим диаграмму размаха и оценим ситуацию."
   ]
  },
  {
   "cell_type": "code",
   "execution_count": 237,
   "metadata": {},
   "outputs": [
    {
     "data": {
      "text/plain": "(-50.0, 20000.0)"
     },
     "execution_count": 237,
     "metadata": {},
     "output_type": "execute_result"
    }
   ],
   "source": [
    "data.boxplot()\n",
    "plt.ylim(-50, 20000)"
   ]
  },
  {
   "cell_type": "markdown",
   "metadata": {},
   "source": [
    "Как оказалось, выбросов очень много, нужно обрабатывать в признаках *Price* и *Power*.\n"
   ]
  },
  {
   "cell_type": "markdown",
   "metadata": {},
   "source": [
    "Обработаем выбросы."
   ]
  },
  {
   "cell_type": "code",
   "execution_count": 238,
   "metadata": {},
   "outputs": [],
   "source": [
    "count = 0\n",
    "index_del = []\n",
    "for column in [\"Price\", \"Power\"]:\n",
    "    q25 = np.array(data[column].quantile(0.25))\n",
    "    q75 = np.array(data[column].quantile(0.75))\n",
    "    first_part = q25 - 1.5 * (q75 - q25)\n",
    "    second_part = q75 + 1.5 * (q75 - q25)\n",
    "    for index_value, value in zip(data[column].index, data[column]):\n",
    "        if second_part <= value or value <= first_part:\n",
    "            index_del.append(index_value)\n",
    "    count += len(index_del)\n",
    "    data = data.drop(index_del, axis=0)\n",
    "    index_del = []"
   ]
  },
  {
   "cell_type": "markdown",
   "metadata": {},
   "source": [
    "<div class=\"alert alert-success\">\n",
    "<h2> Комментарий ревьюера №2<a class=\"tocSkip\"> </h2>\n",
    "\n",
    "<b>Все отлично!👍:</b> \n",
    "    \n",
    "Отлично, что обрабатываешm выбросы в целевом признаке."
   ]
  },
  {
   "cell_type": "markdown",
   "metadata": {},
   "source": []
  },
  {
   "cell_type": "markdown",
   "metadata": {},
   "source": [
    "<div class=\"alert alert-success\">\n",
    "<h2> Комментарий ревьюера <a class=\"tocSkip\"> </h2>\n",
    "\n",
    "<b>Все отлично!👍:</b> \n",
    "    \n",
    "Отлично, что пишешь обоснование."
   ]
  },
  {
   "cell_type": "markdown",
   "metadata": {},
   "source": [
    "<div class=\"alert alert-warning\">\n",
    "    <h2> Комментарий ревьюера <a class=\"tocSkip\"> </h2>\n",
    "    \n",
    "<b>Некоторые замечания и рекомендации💡:</b> \n",
    "        \n",
    "Также можно использовать визуализацию для отображения корреляционной зависимости между численными признаками.\n",
    "        \n",
    "Можно посмотреть на распределения признаков, на боксплоты. Более подробно изучить уникальные значения.\n",
    "        \n",
    "Признак Kilometer, например, обладает только строго определенными значениями. Возможно, это связано с особенностями заполнения анкеты. В данном случае можно считать, что признак категориальный.\n",
    "        \n",
    "Также можно проверить данные на дубликаты.\n",
    "        "
   ]
  },
  {
   "cell_type": "markdown",
   "metadata": {},
   "source": [
    "<div class=\"alert alert-block alert-danger\">\n",
    "<h2> Комментарий ревьюера <a class=\"tocSkip\"></h2>\n",
    "\n",
    "    \n",
    "<b>На доработку🤔:</b>\n",
    "    \n",
    "Из обязательного, что здесь нужно сделать, - это не только обработать пропуски, но также и аномальные значения в численных признаках."
   ]
  },
  {
   "cell_type": "markdown",
   "metadata": {},
   "source": [
    "## Обучение моделей"
   ]
  },
  {
   "cell_type": "markdown",
   "metadata": {},
   "source": [
    "Для начала закодируем все категориальные переменные OneHotEncoding."
   ]
  },
  {
   "cell_type": "markdown",
   "metadata": {},
   "source": [
    "<div class=\"alert alert-block alert-danger\">\n",
    "<h2> Комментарий ревьюера №2<a class=\"tocSkip\"></h2>\n",
    "\n",
    "    \n",
    "<b>На доработку🤔:</b>\n",
    "    \n",
    "Кодировать с помощью кодеров (OrdinalEncoder, OneHotEncoder и т.д.) стоит уже после разделения на выборки.\n",
    "Обучаем кодер только на тренировочной части, трансформируем все. По аналогии с масштабированием.\n",
    "    \n",
    "Таким образом мы избегаем утечки данных через кодирование из теста и валидации в трейн, а также иммитируем работу с реальными данными, когда могут встретиться новые категории, которых не было в тренировочной части, и нужно уметь их обрабатывать.\n",
    "    \n",
    "У OrdinalEncoder есть параметры, которые отвечают за обработку новых категорий, можно посмотреть в документации:\n",
    "    \n",
    "https://scikit-learn.org/stable/modules/generated/sklearn.preprocessing.OrdinalEncoder.html\n",
    "    \n"
   ]
  },
  {
   "cell_type": "markdown",
   "metadata": {},
   "source": [
    "<div class=\"alert alert-warning\">\n",
    "    <h2> Комментарий ревьюера <a class=\"tocSkip\"> </h2>\n",
    "    \n",
    "<b>Некоторые замечания и рекомендации💡:</b> \n",
    "        \n",
    "В теории тренажера в данный момент предлагается использовать get_dummies, однако, это впоследствии приводит к сложностям поэтому стоит использовать класс <a href=\"https://scikit-learn.org/stable/modules/generated/sklearn.preprocessing.OneHotEncoder.html\">OHE из sklearn</a>. По аналогии с масштабированием делать fit только на трейне, а transform на всех выборках.\n",
    "<hr>\n",
    "get_dummies подходит для анализа данных, а для машинного обучения более предпочтителен OHE, т.к. он позоволяет избежать ряд ошибок при обучении моделей, в том числе может работать с неизвестными ранее уровнями категорий, которых не было изначально (например, если появится еще одна модель машины).\n",
    "        \n",
    "get_dummies также нельзя использовать вместе с pipeline, column_transformer, ecли появляется новая выборка и ее нужно кодировать, то обязательно стоит выполнить проверку, чтобы получившиеся фичи были такие же.\n",
    "        \n",
    "Прочитать об этом более подробно можно здесь:\n",
    "\n",
    "https://colab.research.google.com/drive/1_gAMXcQKoCShB_l8FNtYEejMnosm9mvt?usp=sharing"
   ]
  },
  {
   "cell_type": "markdown",
   "metadata": {},
   "source": [
    "Разделим на фичи и таргет."
   ]
  },
  {
   "cell_type": "code",
   "execution_count": 239,
   "metadata": {},
   "outputs": [],
   "source": [
    "features = data.drop('Price', axis=1)\n",
    "target = data['Price']"
   ]
  },
  {
   "cell_type": "markdown",
   "metadata": {},
   "source": [
    "Теперь поделим данные на обучающую и тестовую выборки в соотношении 3:1."
   ]
  },
  {
   "cell_type": "code",
   "execution_count": 240,
   "metadata": {},
   "outputs": [],
   "source": [
    "features_train, features_test, target_train, target_test = train_test_split(features, target, test_size=0.2,\n",
    "                                                                            random_state=12345)"
   ]
  },
  {
   "cell_type": "markdown",
   "source": [
    "<div class=\"alert alert-info\">\n",
    "<font size=\"5\"><b>Комментарий ученика V2</b></font>\n",
    "<div>Никогда не просили кодировать после разбития данных, от чего вылезает ошибка,которую я не знаю как исправить при масштабировании. И не очень понимаю что делаеют параметры handle_unknown. Модели вообще перестали обучаться, просто вечный запуск ячейки и я не представляю что не так, но видимо с кодированием, потому что при кодировании до разбиения на выборки все было отлично. В общем весь проект поломался, потому что теперь у меня RMSE около 1500, когда условно у леса он был всего 300</div>\n",
    "</div>"
   ],
   "metadata": {
    "collapsed": false
   }
  },
  {
   "cell_type": "code",
   "execution_count": 241,
   "outputs": [],
   "source": [
    "# enc = OneHotEncoder(handle_unknown = 'ignore')\n",
    "# enc.fit(features_train_ohe)\n",
    "# features_train_ohe = enc.transform(features_train_ohe)\n",
    "# features_test_ohe = enc.transform(features_test_ohe)"
   ],
   "metadata": {
    "collapsed": false
   }
  },
  {
   "cell_type": "code",
   "execution_count": 242,
   "outputs": [],
   "source": [
    "# encoder = OrdinalEncoder(handle_unknown='use_encoded_value', unknown_value=-1)\n",
    "# encoder.fit(features_train_ordinal)\n",
    "# features_train_ordinal = encoder.transform(features_train_ordinal)\n",
    "# features_test_ordinal = encoder.transform(features_test_ordinal)"
   ],
   "metadata": {
    "collapsed": false
   }
  },
  {
   "cell_type": "code",
   "execution_count": 243,
   "outputs": [
    {
     "data": {
      "text/plain": "       VehicleType  RegistrationYear Gearbox  Power        Model  Kilometer  \\\n126278       wagon              1995  manual     60  transporter     150000   \n134917       sedan              1997  manual    101         golf     150000   \n318177     unknown              2016  manual    136       vectra     150000   \n211889         bus              2012  manual    163        other     100000   \n192546       wagon              1989  manual    118        other     150000   \n...            ...               ...     ...    ...          ...        ...   \n170560     unknown              2016    auto      0        corsa      30000   \n51443        small              2005  manual     64         polo     125000   \n92695        sedan              2002    auto    115      unknown     150000   \n82886          bus              2006    auto    150         vito     150000   \n233532       sedan              1974    auto    185     s_klasse     150000   \n\n        RegistrationMonth  FuelType          Brand  Repaired  \n126278                  3  gasoline     volkswagen     False  \n134917                 10    petrol     volkswagen     False  \n318177                 12   unknown           opel      True  \n211889                  1  gasoline      chevrolet     False  \n192546                  7    petrol  mercedes_benz      True  \n...                   ...       ...            ...       ...  \n170560                  1   unknown           opel     False  \n51443                   3    petrol     volkswagen     False  \n92695                   1       lpg           opel     False  \n82886                   4  gasoline  mercedes_benz     False  \n233532                 10    petrol  mercedes_benz     False  \n\n[264189 rows x 10 columns]",
      "text/html": "<div>\n<style scoped>\n    .dataframe tbody tr th:only-of-type {\n        vertical-align: middle;\n    }\n\n    .dataframe tbody tr th {\n        vertical-align: top;\n    }\n\n    .dataframe thead th {\n        text-align: right;\n    }\n</style>\n<table border=\"1\" class=\"dataframe\">\n  <thead>\n    <tr style=\"text-align: right;\">\n      <th></th>\n      <th>VehicleType</th>\n      <th>RegistrationYear</th>\n      <th>Gearbox</th>\n      <th>Power</th>\n      <th>Model</th>\n      <th>Kilometer</th>\n      <th>RegistrationMonth</th>\n      <th>FuelType</th>\n      <th>Brand</th>\n      <th>Repaired</th>\n    </tr>\n  </thead>\n  <tbody>\n    <tr>\n      <th>126278</th>\n      <td>wagon</td>\n      <td>1995</td>\n      <td>manual</td>\n      <td>60</td>\n      <td>transporter</td>\n      <td>150000</td>\n      <td>3</td>\n      <td>gasoline</td>\n      <td>volkswagen</td>\n      <td>False</td>\n    </tr>\n    <tr>\n      <th>134917</th>\n      <td>sedan</td>\n      <td>1997</td>\n      <td>manual</td>\n      <td>101</td>\n      <td>golf</td>\n      <td>150000</td>\n      <td>10</td>\n      <td>petrol</td>\n      <td>volkswagen</td>\n      <td>False</td>\n    </tr>\n    <tr>\n      <th>318177</th>\n      <td>unknown</td>\n      <td>2016</td>\n      <td>manual</td>\n      <td>136</td>\n      <td>vectra</td>\n      <td>150000</td>\n      <td>12</td>\n      <td>unknown</td>\n      <td>opel</td>\n      <td>True</td>\n    </tr>\n    <tr>\n      <th>211889</th>\n      <td>bus</td>\n      <td>2012</td>\n      <td>manual</td>\n      <td>163</td>\n      <td>other</td>\n      <td>100000</td>\n      <td>1</td>\n      <td>gasoline</td>\n      <td>chevrolet</td>\n      <td>False</td>\n    </tr>\n    <tr>\n      <th>192546</th>\n      <td>wagon</td>\n      <td>1989</td>\n      <td>manual</td>\n      <td>118</td>\n      <td>other</td>\n      <td>150000</td>\n      <td>7</td>\n      <td>petrol</td>\n      <td>mercedes_benz</td>\n      <td>True</td>\n    </tr>\n    <tr>\n      <th>...</th>\n      <td>...</td>\n      <td>...</td>\n      <td>...</td>\n      <td>...</td>\n      <td>...</td>\n      <td>...</td>\n      <td>...</td>\n      <td>...</td>\n      <td>...</td>\n      <td>...</td>\n    </tr>\n    <tr>\n      <th>170560</th>\n      <td>unknown</td>\n      <td>2016</td>\n      <td>auto</td>\n      <td>0</td>\n      <td>corsa</td>\n      <td>30000</td>\n      <td>1</td>\n      <td>unknown</td>\n      <td>opel</td>\n      <td>False</td>\n    </tr>\n    <tr>\n      <th>51443</th>\n      <td>small</td>\n      <td>2005</td>\n      <td>manual</td>\n      <td>64</td>\n      <td>polo</td>\n      <td>125000</td>\n      <td>3</td>\n      <td>petrol</td>\n      <td>volkswagen</td>\n      <td>False</td>\n    </tr>\n    <tr>\n      <th>92695</th>\n      <td>sedan</td>\n      <td>2002</td>\n      <td>auto</td>\n      <td>115</td>\n      <td>unknown</td>\n      <td>150000</td>\n      <td>1</td>\n      <td>lpg</td>\n      <td>opel</td>\n      <td>False</td>\n    </tr>\n    <tr>\n      <th>82886</th>\n      <td>bus</td>\n      <td>2006</td>\n      <td>auto</td>\n      <td>150</td>\n      <td>vito</td>\n      <td>150000</td>\n      <td>4</td>\n      <td>gasoline</td>\n      <td>mercedes_benz</td>\n      <td>False</td>\n    </tr>\n    <tr>\n      <th>233532</th>\n      <td>sedan</td>\n      <td>1974</td>\n      <td>auto</td>\n      <td>185</td>\n      <td>s_klasse</td>\n      <td>150000</td>\n      <td>10</td>\n      <td>petrol</td>\n      <td>mercedes_benz</td>\n      <td>False</td>\n    </tr>\n  </tbody>\n</table>\n<p>264189 rows × 10 columns</p>\n</div>"
     },
     "execution_count": 243,
     "metadata": {},
     "output_type": "execute_result"
    }
   ],
   "source": [
    "features_train"
   ],
   "metadata": {
    "collapsed": false
   }
  },
  {
   "cell_type": "code",
   "execution_count": 243,
   "outputs": [],
   "source": [],
   "metadata": {
    "collapsed": false
   }
  },
  {
   "cell_type": "code",
   "execution_count": 243,
   "outputs": [],
   "source": [],
   "metadata": {
    "collapsed": false
   }
  },
  {
   "cell_type": "code",
   "execution_count": 243,
   "outputs": [],
   "source": [],
   "metadata": {
    "collapsed": false
   }
  },
  {
   "cell_type": "code",
   "execution_count": 243,
   "outputs": [],
   "source": [],
   "metadata": {
    "collapsed": false
   }
  },
  {
   "cell_type": "code",
   "execution_count": 243,
   "outputs": [],
   "source": [],
   "metadata": {
    "collapsed": false
   }
  },
  {
   "cell_type": "code",
   "execution_count": 243,
   "outputs": [],
   "source": [],
   "metadata": {
    "collapsed": false
   }
  },
  {
   "cell_type": "markdown",
   "metadata": {},
   "source": []
  },
  {
   "cell_type": "markdown",
   "metadata": {},
   "source": [
    "Теперь приступим к обучению моделей, начнём с малого - Линейная Регрессия. Но для начала - отмасштабируем данные."
   ]
  },
  {
   "cell_type": "code",
   "execution_count": 244,
   "metadata": {},
   "outputs": [
    {
     "name": "stdout",
     "output_type": "stream",
     "text": [
      "<class 'pandas.core.frame.DataFrame'>\n",
      "Int64Index: 330237 entries, 0 to 354368\n",
      "Data columns (total 11 columns):\n",
      " #   Column             Non-Null Count   Dtype \n",
      "---  ------             --------------   ----- \n",
      " 0   Price              330237 non-null  int64 \n",
      " 1   VehicleType        330237 non-null  object\n",
      " 2   RegistrationYear   330237 non-null  int64 \n",
      " 3   Gearbox            330237 non-null  object\n",
      " 4   Power              330237 non-null  int64 \n",
      " 5   Model              330237 non-null  object\n",
      " 6   Kilometer          330237 non-null  int64 \n",
      " 7   RegistrationMonth  330237 non-null  int64 \n",
      " 8   FuelType           330237 non-null  object\n",
      " 9   Brand              330237 non-null  object\n",
      " 10  Repaired           330237 non-null  bool  \n",
      "dtypes: bool(1), int64(5), object(5)\n",
      "memory usage: 28.0+ MB\n"
     ]
    }
   ],
   "source": [
    "data.info()"
   ]
  },
  {
   "cell_type": "markdown",
   "metadata": {},
   "source": [
    "<div class=\"alert alert-info\">\n",
    "<font size=\"5\"><b>Комментарий ученика</b></font>\n",
    "<div>Выполнил масштабирование!\n",
    "\n",
    "\n",
    "ТАКЖЕ ВО ВСЕХ БЛОКАХ ПОМЕНЯЛ ПРЕДИКТ НА ОБУЧАЮЩЕЙ ВЫБОРКЕ ВМЕСТО ТЕСТОВОЙ.\n",
    "</div>\n",
    "</div>"
   ]
  },
  {
   "cell_type": "markdown",
   "source": [
    "<div class=\"alert alert-info\">\n",
    "<font size=\"5\"><b>Комментарий ученика V2</b></font>\n",
    "<div>Не получается исправить</div>\n",
    "</div>"
   ],
   "metadata": {
    "collapsed": false
   }
  },
  {
   "cell_type": "code",
   "execution_count": 245,
   "metadata": {},
   "outputs": [],
   "source": [
    "# numeric = ['RegistrationYear', 'Power', 'Kilometer', 'RegistrationMonth']\n",
    "# features_train_ohe"
   ]
  },
  {
   "cell_type": "code",
   "execution_count": 246,
   "outputs": [],
   "source": [
    "# scaler = StandardScaler()\n",
    "# features_train_ohe = features_train_ohe.astype('float')\n",
    "# scaler.fit(features_train_ohe[numeric])\n",
    "# features_train_scaled = features_train_ohe\n",
    "# features_test_scaled = features_test_ohe\n",
    "# features_train_scaled[numeric] = scaler.transform(features_train_ohe[numeric])\n",
    "# features_test_scaled[numeric] = scaler.transform(features_test_ohe[numeric])"
   ],
   "metadata": {
    "collapsed": false
   }
  },
  {
   "cell_type": "markdown",
   "metadata": {},
   "source": [
    "<div class=\"alert alert-success\">\n",
    "<h2> Комментарий ревьюера №2<a class=\"tocSkip\"> </h2>\n",
    "\n",
    "<b>Все отлично!👍</b> \n",
    "    \n",
    "Масштабирование проведено корректно."
   ]
  },
  {
   "cell_type": "code",
   "execution_count": 247,
   "metadata": {},
   "outputs": [],
   "source": [
    "# %%time\n",
    "#\n",
    "# model_regression = LinearRegression()\n",
    "#\n",
    "# model_regression.fit(features_train_scaled, target_train_ohe)\n",
    "# scores = cross_val_score(model_regression, features_train_scaled, target_train_ohe, cv=5, verbose=True, n_jobs=-1,\n",
    "#                          scoring='neg_root_mean_squared_error')\n",
    "# final_score = sum(scores) / len(scores)\n",
    "#\n",
    "# print('Средняя оценка качества модели:', final_score)"
   ]
  },
  {
   "cell_type": "code",
   "execution_count": 248,
   "metadata": {},
   "outputs": [],
   "source": [
    "# % % time\n",
    "#\n",
    "# print('RMSE:', mean_squared_error(y_true=target_train_ohe, y_pred=model_regression.predict(features_train_scaled),\n",
    "#                                   squared=False))"
   ]
  },
  {
   "cell_type": "markdown",
   "metadata": {},
   "source": [
    "<div class=\"alert alert-block alert-danger\">\n",
    "<h2> Комментарий ревьюера <a class=\"tocSkip\"></h2>\n",
    "\n",
    "    \n",
    "<b>На доработку🤔:</b>\n",
    "    \n",
    "    \n",
    "1. Перед использованием линейной регрессии стоит отмасштабировать численные признаки.\n",
    "    \n",
    "2. Кроме того, если ты делишь данные только на 2 выборки (трейн и тест) без валидационной выборки, то стоит качество моделей проверять на кросс-валидации, а время на предикт измерять на тренировочной выборке. \n",
    "    \n",
    "3. Для каждой исследуемой модели стоит отдельно измерить время на fit и на predict\n",
    "    \n",
    "4. Тестовая выборка нужна только для того, чтобы в конце анализа, после того, как выбрана лучшая модель, проверить ее на тесте. Мы не сравниваем качество моделей на тестовой выборке. Так как тестовая выборка нужна для иммитации новых данных."
   ]
  },
  {
   "cell_type": "markdown",
   "metadata": {},
   "source": [
    "Теперь воспользуемся случайным лесом с подбором гипперпараметров."
   ]
  },
  {
   "cell_type": "markdown",
   "metadata": {},
   "source": [
    "<div class=\"alert alert-warning\">\n",
    "    <h2> Комментарий ревьюера <a class=\"tocSkip\"> </h2>\n",
    "    \n",
    "<b>Некоторые замечания и рекомендации💡:</b> \n",
    "        \n",
    "Для моделей на основе деревьев решений  можно использовать порядковое кодирование. "
   ]
  },
  {
   "cell_type": "markdown",
   "metadata": {},
   "source": [
    "Fitting 5 folds for each of 20 candidates, totalling 100 fits\n",
    "Лучшие параметры: {'max_depth': 40, 'n_estimators': 9}\n",
    "Лучший счет: -1812.5861995571854"
   ]
  },
  {
   "cell_type": "code",
   "execution_count": 249,
   "metadata": {},
   "outputs": [],
   "source": [
    "# model_forest = RandomForestRegressor(random_state=12345)\n",
    "# params = {'max_depth': range (10, 41, 10), 'n_estimators': range(1, 11, 2)}\n",
    "# grid = GridSearchCV(model_forest, params, cv=5, scoring='neg_root_mean_squared_error', n_jobs=-1, verbose=10)\n",
    "# grid.fit(features_train, target_train)\n",
    "# print('Лучшие параметры:', grid.best_params_)\n",
    "# print('Лучший счет:', grid.best_score_)"
   ]
  },
  {
   "cell_type": "markdown",
   "metadata": {},
   "source": [
    "<div class=\"alert alert-success\">\n",
    "<h2> Комментарий ревьюера <a class=\"tocSkip\"> </h2>\n",
    "\n",
    "<b>Все отлично!👍:</b> \n",
    "    \n",
    "Отлично, что перебираешь параметры."
   ]
  },
  {
   "cell_type": "code",
   "execution_count": 250,
   "metadata": {},
   "outputs": [],
   "source": [
    "# % % time\n",
    "# #**grid.best_params_\n",
    "# model_forest = RandomForestRegressor(random_state=42, n_estimators=100, n_jobs=-1, criterion='mse')\n",
    "# model_forest.fit(features_train_ohe, target_train)"
   ]
  },
  {
   "cell_type": "code",
   "execution_count": 251,
   "metadata": {},
   "outputs": [],
   "source": [
    "# % % time\n",
    "# predictions_forest = model_forest.predict(features_train_ohe)"
   ]
  },
  {
   "cell_type": "code",
   "execution_count": 252,
   "metadata": {},
   "outputs": [],
   "source": [
    "# print('RMSE:', mean_squared_error(y_true=target_train_ohe, y_pred=predictions_forest, squared=False))"
   ]
  },
  {
   "cell_type": "code",
   "execution_count": 253,
   "outputs": [],
   "source": [
    "# from sklearn.pipeline import Pipeline, FeatureUnion\n",
    "#\n",
    "# model_lin_pipeline = Pipeline(steps=[('feature_union', FeatureUnion([                                                                                   ('ohe',                                                OneHotEncoder(handle_unknown='ignore')),\n",
    "#                                     ('scaler', StandardScaler())])),\n",
    "#                                      ('linear', LinearRegression())])\n",
    "#\n",
    "# model_lin_pipeline.fit(features_train, target_train)\n",
    "# print('RMSE:',\n",
    "#       mean_squared_error(y_true=target_train, y_pred=model_lin_pipeline.predict(features_train), squared=False))"
   ],
   "metadata": {
    "collapsed": false
   }
  },
  {
   "cell_type": "code",
   "execution_count": 254,
   "outputs": [
    {
     "name": "stdout",
     "output_type": "stream",
     "text": [
      "<class 'pandas.core.frame.DataFrame'>\n",
      "Int64Index: 330237 entries, 0 to 354368\n",
      "Data columns (total 10 columns):\n",
      " #   Column             Non-Null Count   Dtype \n",
      "---  ------             --------------   ----- \n",
      " 0   VehicleType        330237 non-null  object\n",
      " 1   RegistrationYear   330237 non-null  int64 \n",
      " 2   Gearbox            330237 non-null  object\n",
      " 3   Power              330237 non-null  int64 \n",
      " 4   Model              330237 non-null  object\n",
      " 5   Kilometer          330237 non-null  int64 \n",
      " 6   RegistrationMonth  330237 non-null  int64 \n",
      " 7   FuelType           330237 non-null  object\n",
      " 8   Brand              330237 non-null  object\n",
      " 9   Repaired           330237 non-null  bool  \n",
      "dtypes: bool(1), int64(4), object(5)\n",
      "memory usage: 25.5+ MB\n"
     ]
    }
   ],
   "source": [
    "features.info()"
   ],
   "metadata": {
    "collapsed": false
   }
  },
  {
   "cell_type": "code",
   "execution_count": 255,
   "outputs": [
    {
     "data": {
      "text/plain": "Index(['RegistrationYear', 'Power', 'Kilometer', 'RegistrationMonth'], dtype='object')"
     },
     "execution_count": 255,
     "metadata": {},
     "output_type": "execute_result"
    }
   ],
   "source": [
    "categorial = features.select_dtypes(include=\"object\").columns\n",
    "numeric = features.select_dtypes(include=\"int64\").columns\n",
    "numeric"
   ],
   "metadata": {
    "collapsed": false
   }
  },
  {
   "cell_type": "code",
   "execution_count": 256,
   "outputs": [],
   "source": [
    "numeric_feats = numeric  # apply scaling\n",
    "categorical_feats = categorial  # apply one-hot encoding\n",
    "passthrough_feats = ['Repaired']  # do not apply any transformation\n",
    " # do not include these features in modeling"
   ],
   "metadata": {
    "collapsed": false
   }
  },
  {
   "cell_type": "code",
   "execution_count": 257,
   "outputs": [],
   "source": [
    "from sklearn.compose import ColumnTransformer\n",
    "#\n",
    "# ct = ColumnTransformer(\n",
    "#     [\n",
    "#         (\"scaling\", StandardScaler(), numeric_feats),\n",
    "#         (\"onehot\", OneHotEncoder(handle_unknown='ignore'), categorical_feats),\n",
    "#     ]\n",
    "# )\n",
    "# features_train = ct.fit_transform(features_train)\n",
    "# features_test= ct.fit_transform(features_test)"
   ],
   "metadata": {
    "collapsed": false
   }
  },
  {
   "cell_type": "code",
   "execution_count": 257,
   "outputs": [],
   "source": [],
   "metadata": {
    "collapsed": false
   }
  },
  {
   "cell_type": "code",
   "execution_count": 258,
   "outputs": [],
   "source": [
    "# %%time\n",
    "#\n",
    "# model_regression = LinearRegression()\n",
    "#\n",
    "# model_regression.fit(features_train, target_train)\n",
    "# scores = cross_val_score(model_regression, features_train, target_train, cv=5, verbose=True, n_jobs=-1,\n",
    "#                          scoring='neg_root_mean_squared_error')\n",
    "# final_score = sum(scores) / len(scores)\n",
    "#\n",
    "# print('Средняя оценка качества модели:', final_score)"
   ],
   "metadata": {
    "collapsed": false
   }
  },
  {
   "cell_type": "code",
   "execution_count": 259,
   "outputs": [],
   "source": [
    "\n",
    "#cat_pipe = Pipeline([('ohe', OneHotEncoder(handle_unknown='ignore'))])\n",
    "#num_pipe = Pipeline([('scaler', StandardScaler())])"
   ],
   "metadata": {
    "collapsed": false
   }
  },
  {
   "cell_type": "code",
   "execution_count": 260,
   "outputs": [],
   "source": [
    "# preprocessor = ColumnTransformer([('cat', cat_pipe, categorial), ('num', num_pipe, numeric)], remainder='passthrough')\n",
    "#\n",
    "# pipe = Pipeline([('preprocessor', preprocessor), ('model', LinearRegression())])"
   ],
   "metadata": {
    "collapsed": false
   }
  },
  {
   "cell_type": "code",
   "execution_count": 261,
   "outputs": [],
   "source": [
    "# pipe.fit(features_train, target_train)\n",
    "# scores = cross_val_score(pipe, features_train, target_train, cv=5, verbose=True, n_jobs=-1,\n",
    "#                          scoring='neg_root_mean_squared_error')\n",
    "# final_score = sum(scores) / len(scores)\n",
    "#\n",
    "# print('Средняя оценка качества модели:', final_score)"
   ],
   "metadata": {
    "collapsed": false
   }
  },
  {
   "cell_type": "code",
   "execution_count": 261,
   "outputs": [],
   "source": [],
   "metadata": {
    "collapsed": false
   }
  },
  {
   "cell_type": "code",
   "execution_count": 262,
   "outputs": [],
   "source": [
    "# %%time\n",
    "# #**grid.best_params_\n",
    "# pipe_forest = Pipeline([('preprocessor', preprocessor), ('model', RandomForestRegressor(random_state=42, n_estimators=100, n_jobs=-1, criterion='mse'))])\n",
    "# pipe_forest.fit(features_train, target_train)"
   ],
   "metadata": {
    "collapsed": false
   }
  },
  {
   "cell_type": "code",
   "execution_count": 263,
   "outputs": [],
   "source": [
    "# %%time\n",
    "# predictions_forest = pipe_forest.predict(features_train)"
   ],
   "metadata": {
    "collapsed": false
   }
  },
  {
   "cell_type": "code",
   "execution_count": 264,
   "outputs": [],
   "source": [
    "# print('RMSE:', mean_squared_error(y_true=target_train, y_pred=predictions_forest, squared=False))"
   ],
   "metadata": {
    "collapsed": false
   }
  },
  {
   "cell_type": "code",
   "execution_count": 265,
   "outputs": [],
   "source": [
    "# %%time\n",
    "# forest_pipe = Pipeline([('ohe', OneHotEncoder()), ('model', RandomForestRegressor(n_estimators=100))])\n",
    "# forest_pipe.fit(features_train, target_train)"
   ],
   "metadata": {
    "collapsed": false
   }
  },
  {
   "cell_type": "code",
   "execution_count": 266,
   "outputs": [],
   "source": [
    "# %%time\n",
    "# predictions_forest = forest_pipe.predict(features_train)"
   ],
   "metadata": {
    "collapsed": false
   }
  },
  {
   "cell_type": "code",
   "execution_count": 267,
   "outputs": [],
   "source": [
    "# print('RMSE:', mean_squared_error(y_true=target_train, y_pred=predictions_forest, squared=False))"
   ],
   "metadata": {
    "collapsed": false
   }
  },
  {
   "cell_type": "code",
   "execution_count": 267,
   "outputs": [],
   "source": [],
   "metadata": {
    "collapsed": false
   }
  },
  {
   "cell_type": "code",
   "execution_count": 267,
   "outputs": [],
   "source": [],
   "metadata": {
    "collapsed": false
   }
  },
  {
   "cell_type": "code",
   "execution_count": 267,
   "outputs": [],
   "source": [],
   "metadata": {
    "collapsed": false
   }
  },
  {
   "cell_type": "code",
   "execution_count": 268,
   "outputs": [
    {
     "name": "stderr",
     "output_type": "stream",
     "text": [
      "/Users/trupolog/opt/anaconda3/lib/python3.9/site-packages/sklearn/ensemble/_forest.py:396: FutureWarning: Criterion 'mse' was deprecated in v1.0 and will be removed in version 1.2. Use `criterion='squared_error'` which is equivalent.\n",
      "  warn(\n"
     ]
    },
    {
     "ename": "KeyboardInterrupt",
     "evalue": "",
     "output_type": "error",
     "traceback": [
      "\u001B[0;31m---------------------------------------------------------------------------\u001B[0m",
      "\u001B[0;31mKeyboardInterrupt\u001B[0m                         Traceback (most recent call last)",
      "\u001B[0;32m<timed exec>\u001B[0m in \u001B[0;36m<module>\u001B[0;34m\u001B[0m\n",
      "\u001B[0;32m~/opt/anaconda3/lib/python3.9/site-packages/sklearn/ensemble/_forest.py\u001B[0m in \u001B[0;36mfit\u001B[0;34m(self, X, y, sample_weight)\u001B[0m\n\u001B[1;32m    448\u001B[0m             \u001B[0;31m# parallel_backend contexts set at a higher level,\u001B[0m\u001B[0;34m\u001B[0m\u001B[0;34m\u001B[0m\u001B[0m\n\u001B[1;32m    449\u001B[0m             \u001B[0;31m# since correctness does not rely on using threads.\u001B[0m\u001B[0;34m\u001B[0m\u001B[0;34m\u001B[0m\u001B[0m\n\u001B[0;32m--> 450\u001B[0;31m             trees = Parallel(\n\u001B[0m\u001B[1;32m    451\u001B[0m                 \u001B[0mn_jobs\u001B[0m\u001B[0;34m=\u001B[0m\u001B[0mself\u001B[0m\u001B[0;34m.\u001B[0m\u001B[0mn_jobs\u001B[0m\u001B[0;34m,\u001B[0m\u001B[0;34m\u001B[0m\u001B[0;34m\u001B[0m\u001B[0m\n\u001B[1;32m    452\u001B[0m                 \u001B[0mverbose\u001B[0m\u001B[0;34m=\u001B[0m\u001B[0mself\u001B[0m\u001B[0;34m.\u001B[0m\u001B[0mverbose\u001B[0m\u001B[0;34m,\u001B[0m\u001B[0;34m\u001B[0m\u001B[0;34m\u001B[0m\u001B[0m\n",
      "\u001B[0;32m~/opt/anaconda3/lib/python3.9/site-packages/joblib/parallel.py\u001B[0m in \u001B[0;36m__call__\u001B[0;34m(self, iterable)\u001B[0m\n\u001B[1;32m   1059\u001B[0m \u001B[0;34m\u001B[0m\u001B[0m\n\u001B[1;32m   1060\u001B[0m             \u001B[0;32mwith\u001B[0m \u001B[0mself\u001B[0m\u001B[0;34m.\u001B[0m\u001B[0m_backend\u001B[0m\u001B[0;34m.\u001B[0m\u001B[0mretrieval_context\u001B[0m\u001B[0;34m(\u001B[0m\u001B[0;34m)\u001B[0m\u001B[0;34m:\u001B[0m\u001B[0;34m\u001B[0m\u001B[0;34m\u001B[0m\u001B[0m\n\u001B[0;32m-> 1061\u001B[0;31m                 \u001B[0mself\u001B[0m\u001B[0;34m.\u001B[0m\u001B[0mretrieve\u001B[0m\u001B[0;34m(\u001B[0m\u001B[0;34m)\u001B[0m\u001B[0;34m\u001B[0m\u001B[0;34m\u001B[0m\u001B[0m\n\u001B[0m\u001B[1;32m   1062\u001B[0m             \u001B[0;31m# Make sure that we get a last message telling us we are done\u001B[0m\u001B[0;34m\u001B[0m\u001B[0;34m\u001B[0m\u001B[0m\n\u001B[1;32m   1063\u001B[0m             \u001B[0melapsed_time\u001B[0m \u001B[0;34m=\u001B[0m \u001B[0mtime\u001B[0m\u001B[0;34m.\u001B[0m\u001B[0mtime\u001B[0m\u001B[0;34m(\u001B[0m\u001B[0;34m)\u001B[0m \u001B[0;34m-\u001B[0m \u001B[0mself\u001B[0m\u001B[0;34m.\u001B[0m\u001B[0m_start_time\u001B[0m\u001B[0;34m\u001B[0m\u001B[0;34m\u001B[0m\u001B[0m\n",
      "\u001B[0;32m~/opt/anaconda3/lib/python3.9/site-packages/joblib/parallel.py\u001B[0m in \u001B[0;36mretrieve\u001B[0;34m(self)\u001B[0m\n\u001B[1;32m    936\u001B[0m             \u001B[0;32mtry\u001B[0m\u001B[0;34m:\u001B[0m\u001B[0;34m\u001B[0m\u001B[0;34m\u001B[0m\u001B[0m\n\u001B[1;32m    937\u001B[0m                 \u001B[0;32mif\u001B[0m \u001B[0mgetattr\u001B[0m\u001B[0;34m(\u001B[0m\u001B[0mself\u001B[0m\u001B[0;34m.\u001B[0m\u001B[0m_backend\u001B[0m\u001B[0;34m,\u001B[0m \u001B[0;34m'supports_timeout'\u001B[0m\u001B[0;34m,\u001B[0m \u001B[0;32mFalse\u001B[0m\u001B[0;34m)\u001B[0m\u001B[0;34m:\u001B[0m\u001B[0;34m\u001B[0m\u001B[0;34m\u001B[0m\u001B[0m\n\u001B[0;32m--> 938\u001B[0;31m                     \u001B[0mself\u001B[0m\u001B[0;34m.\u001B[0m\u001B[0m_output\u001B[0m\u001B[0;34m.\u001B[0m\u001B[0mextend\u001B[0m\u001B[0;34m(\u001B[0m\u001B[0mjob\u001B[0m\u001B[0;34m.\u001B[0m\u001B[0mget\u001B[0m\u001B[0;34m(\u001B[0m\u001B[0mtimeout\u001B[0m\u001B[0;34m=\u001B[0m\u001B[0mself\u001B[0m\u001B[0;34m.\u001B[0m\u001B[0mtimeout\u001B[0m\u001B[0;34m)\u001B[0m\u001B[0;34m)\u001B[0m\u001B[0;34m\u001B[0m\u001B[0;34m\u001B[0m\u001B[0m\n\u001B[0m\u001B[1;32m    939\u001B[0m                 \u001B[0;32melse\u001B[0m\u001B[0;34m:\u001B[0m\u001B[0;34m\u001B[0m\u001B[0;34m\u001B[0m\u001B[0m\n\u001B[1;32m    940\u001B[0m                     \u001B[0mself\u001B[0m\u001B[0;34m.\u001B[0m\u001B[0m_output\u001B[0m\u001B[0;34m.\u001B[0m\u001B[0mextend\u001B[0m\u001B[0;34m(\u001B[0m\u001B[0mjob\u001B[0m\u001B[0;34m.\u001B[0m\u001B[0mget\u001B[0m\u001B[0;34m(\u001B[0m\u001B[0;34m)\u001B[0m\u001B[0;34m)\u001B[0m\u001B[0;34m\u001B[0m\u001B[0;34m\u001B[0m\u001B[0m\n",
      "\u001B[0;32m~/opt/anaconda3/lib/python3.9/multiprocessing/pool.py\u001B[0m in \u001B[0;36mget\u001B[0;34m(self, timeout)\u001B[0m\n\u001B[1;32m    763\u001B[0m \u001B[0;34m\u001B[0m\u001B[0m\n\u001B[1;32m    764\u001B[0m     \u001B[0;32mdef\u001B[0m \u001B[0mget\u001B[0m\u001B[0;34m(\u001B[0m\u001B[0mself\u001B[0m\u001B[0;34m,\u001B[0m \u001B[0mtimeout\u001B[0m\u001B[0;34m=\u001B[0m\u001B[0;32mNone\u001B[0m\u001B[0;34m)\u001B[0m\u001B[0;34m:\u001B[0m\u001B[0;34m\u001B[0m\u001B[0;34m\u001B[0m\u001B[0m\n\u001B[0;32m--> 765\u001B[0;31m         \u001B[0mself\u001B[0m\u001B[0;34m.\u001B[0m\u001B[0mwait\u001B[0m\u001B[0;34m(\u001B[0m\u001B[0mtimeout\u001B[0m\u001B[0;34m)\u001B[0m\u001B[0;34m\u001B[0m\u001B[0;34m\u001B[0m\u001B[0m\n\u001B[0m\u001B[1;32m    766\u001B[0m         \u001B[0;32mif\u001B[0m \u001B[0;32mnot\u001B[0m \u001B[0mself\u001B[0m\u001B[0;34m.\u001B[0m\u001B[0mready\u001B[0m\u001B[0;34m(\u001B[0m\u001B[0;34m)\u001B[0m\u001B[0;34m:\u001B[0m\u001B[0;34m\u001B[0m\u001B[0;34m\u001B[0m\u001B[0m\n\u001B[1;32m    767\u001B[0m             \u001B[0;32mraise\u001B[0m \u001B[0mTimeoutError\u001B[0m\u001B[0;34m\u001B[0m\u001B[0;34m\u001B[0m\u001B[0m\n",
      "\u001B[0;32m~/opt/anaconda3/lib/python3.9/multiprocessing/pool.py\u001B[0m in \u001B[0;36mwait\u001B[0;34m(self, timeout)\u001B[0m\n\u001B[1;32m    760\u001B[0m \u001B[0;34m\u001B[0m\u001B[0m\n\u001B[1;32m    761\u001B[0m     \u001B[0;32mdef\u001B[0m \u001B[0mwait\u001B[0m\u001B[0;34m(\u001B[0m\u001B[0mself\u001B[0m\u001B[0;34m,\u001B[0m \u001B[0mtimeout\u001B[0m\u001B[0;34m=\u001B[0m\u001B[0;32mNone\u001B[0m\u001B[0;34m)\u001B[0m\u001B[0;34m:\u001B[0m\u001B[0;34m\u001B[0m\u001B[0;34m\u001B[0m\u001B[0m\n\u001B[0;32m--> 762\u001B[0;31m         \u001B[0mself\u001B[0m\u001B[0;34m.\u001B[0m\u001B[0m_event\u001B[0m\u001B[0;34m.\u001B[0m\u001B[0mwait\u001B[0m\u001B[0;34m(\u001B[0m\u001B[0mtimeout\u001B[0m\u001B[0;34m)\u001B[0m\u001B[0;34m\u001B[0m\u001B[0;34m\u001B[0m\u001B[0m\n\u001B[0m\u001B[1;32m    763\u001B[0m \u001B[0;34m\u001B[0m\u001B[0m\n\u001B[1;32m    764\u001B[0m     \u001B[0;32mdef\u001B[0m \u001B[0mget\u001B[0m\u001B[0;34m(\u001B[0m\u001B[0mself\u001B[0m\u001B[0;34m,\u001B[0m \u001B[0mtimeout\u001B[0m\u001B[0;34m=\u001B[0m\u001B[0;32mNone\u001B[0m\u001B[0;34m)\u001B[0m\u001B[0;34m:\u001B[0m\u001B[0;34m\u001B[0m\u001B[0;34m\u001B[0m\u001B[0m\n",
      "\u001B[0;32m~/opt/anaconda3/lib/python3.9/threading.py\u001B[0m in \u001B[0;36mwait\u001B[0;34m(self, timeout)\u001B[0m\n\u001B[1;32m    579\u001B[0m             \u001B[0msignaled\u001B[0m \u001B[0;34m=\u001B[0m \u001B[0mself\u001B[0m\u001B[0;34m.\u001B[0m\u001B[0m_flag\u001B[0m\u001B[0;34m\u001B[0m\u001B[0;34m\u001B[0m\u001B[0m\n\u001B[1;32m    580\u001B[0m             \u001B[0;32mif\u001B[0m \u001B[0;32mnot\u001B[0m \u001B[0msignaled\u001B[0m\u001B[0;34m:\u001B[0m\u001B[0;34m\u001B[0m\u001B[0;34m\u001B[0m\u001B[0m\n\u001B[0;32m--> 581\u001B[0;31m                 \u001B[0msignaled\u001B[0m \u001B[0;34m=\u001B[0m \u001B[0mself\u001B[0m\u001B[0;34m.\u001B[0m\u001B[0m_cond\u001B[0m\u001B[0;34m.\u001B[0m\u001B[0mwait\u001B[0m\u001B[0;34m(\u001B[0m\u001B[0mtimeout\u001B[0m\u001B[0;34m)\u001B[0m\u001B[0;34m\u001B[0m\u001B[0;34m\u001B[0m\u001B[0m\n\u001B[0m\u001B[1;32m    582\u001B[0m             \u001B[0;32mreturn\u001B[0m \u001B[0msignaled\u001B[0m\u001B[0;34m\u001B[0m\u001B[0;34m\u001B[0m\u001B[0m\n\u001B[1;32m    583\u001B[0m \u001B[0;34m\u001B[0m\u001B[0m\n",
      "\u001B[0;32m~/opt/anaconda3/lib/python3.9/threading.py\u001B[0m in \u001B[0;36mwait\u001B[0;34m(self, timeout)\u001B[0m\n\u001B[1;32m    310\u001B[0m         \u001B[0;32mtry\u001B[0m\u001B[0;34m:\u001B[0m    \u001B[0;31m# restore state no matter what (e.g., KeyboardInterrupt)\u001B[0m\u001B[0;34m\u001B[0m\u001B[0;34m\u001B[0m\u001B[0m\n\u001B[1;32m    311\u001B[0m             \u001B[0;32mif\u001B[0m \u001B[0mtimeout\u001B[0m \u001B[0;32mis\u001B[0m \u001B[0;32mNone\u001B[0m\u001B[0;34m:\u001B[0m\u001B[0;34m\u001B[0m\u001B[0;34m\u001B[0m\u001B[0m\n\u001B[0;32m--> 312\u001B[0;31m                 \u001B[0mwaiter\u001B[0m\u001B[0;34m.\u001B[0m\u001B[0macquire\u001B[0m\u001B[0;34m(\u001B[0m\u001B[0;34m)\u001B[0m\u001B[0;34m\u001B[0m\u001B[0;34m\u001B[0m\u001B[0m\n\u001B[0m\u001B[1;32m    313\u001B[0m                 \u001B[0mgotit\u001B[0m \u001B[0;34m=\u001B[0m \u001B[0;32mTrue\u001B[0m\u001B[0;34m\u001B[0m\u001B[0;34m\u001B[0m\u001B[0m\n\u001B[1;32m    314\u001B[0m             \u001B[0;32melse\u001B[0m\u001B[0;34m:\u001B[0m\u001B[0;34m\u001B[0m\u001B[0;34m\u001B[0m\u001B[0m\n",
      "\u001B[0;31mKeyboardInterrupt\u001B[0m: "
     ]
    }
   ],
   "source": [
    "%%time\n",
    "ohe = OneHotEncoder(handle_unknown='ignore')\n",
    "features_train = ohe.fit_transform(features_train)\n",
    "features_test = ohe.transform(features_test)\n",
    "\n",
    "forest = RandomForestRegressor(n_estimators=100, n_jobs=-1, criterion='mse')\n",
    "forest.fit(features_train, target_train)"
   ],
   "metadata": {
    "collapsed": false
   }
  },
  {
   "cell_type": "code",
   "execution_count": 269,
   "outputs": [
    {
     "name": "stderr",
     "output_type": "stream",
     "text": [
      "/Users/trupolog/opt/anaconda3/lib/python3.9/site-packages/sklearn/ensemble/_forest.py:993: RuntimeWarning: invalid value encountered in true_divide\n",
      "  y_hat /= len(self.estimators_)\n"
     ]
    },
    {
     "ename": "ValueError",
     "evalue": "Input contains NaN, infinity or a value too large for dtype('float64').",
     "output_type": "error",
     "traceback": [
      "\u001B[0;31m---------------------------------------------------------------------------\u001B[0m",
      "\u001B[0;31mValueError\u001B[0m                                Traceback (most recent call last)",
      "\u001B[0;32m/var/folders/47/4y0ypxc92dz4v_h0jyn8jqpw0000gn/T/ipykernel_13553/3592446512.py\u001B[0m in \u001B[0;36m<module>\u001B[0;34m\u001B[0m\n\u001B[0;32m----> 1\u001B[0;31m \u001B[0mprint\u001B[0m\u001B[0;34m(\u001B[0m\u001B[0;34m'RMSE:'\u001B[0m\u001B[0;34m,\u001B[0m \u001B[0mmean_squared_error\u001B[0m\u001B[0;34m(\u001B[0m\u001B[0my_true\u001B[0m\u001B[0;34m=\u001B[0m\u001B[0mtarget_train\u001B[0m\u001B[0;34m,\u001B[0m \u001B[0my_pred\u001B[0m\u001B[0;34m=\u001B[0m\u001B[0mforest\u001B[0m\u001B[0;34m.\u001B[0m\u001B[0mpredict\u001B[0m\u001B[0;34m(\u001B[0m\u001B[0mfeatures_train\u001B[0m\u001B[0;34m)\u001B[0m\u001B[0;34m,\u001B[0m \u001B[0msquared\u001B[0m\u001B[0;34m=\u001B[0m\u001B[0;32mFalse\u001B[0m\u001B[0;34m)\u001B[0m\u001B[0;34m)\u001B[0m\u001B[0;34m\u001B[0m\u001B[0;34m\u001B[0m\u001B[0m\n\u001B[0m\u001B[1;32m      2\u001B[0m \u001B[0;34m\u001B[0m\u001B[0m\n",
      "\u001B[0;32m~/opt/anaconda3/lib/python3.9/site-packages/sklearn/metrics/_regression.py\u001B[0m in \u001B[0;36mmean_squared_error\u001B[0;34m(y_true, y_pred, sample_weight, multioutput, squared)\u001B[0m\n\u001B[1;32m    436\u001B[0m     \u001B[0;36m0.825\u001B[0m\u001B[0;34m...\u001B[0m\u001B[0;34m\u001B[0m\u001B[0;34m\u001B[0m\u001B[0m\n\u001B[1;32m    437\u001B[0m     \"\"\"\n\u001B[0;32m--> 438\u001B[0;31m     y_type, y_true, y_pred, multioutput = _check_reg_targets(\n\u001B[0m\u001B[1;32m    439\u001B[0m         \u001B[0my_true\u001B[0m\u001B[0;34m,\u001B[0m \u001B[0my_pred\u001B[0m\u001B[0;34m,\u001B[0m \u001B[0mmultioutput\u001B[0m\u001B[0;34m\u001B[0m\u001B[0;34m\u001B[0m\u001B[0m\n\u001B[1;32m    440\u001B[0m     )\n",
      "\u001B[0;32m~/opt/anaconda3/lib/python3.9/site-packages/sklearn/metrics/_regression.py\u001B[0m in \u001B[0;36m_check_reg_targets\u001B[0;34m(y_true, y_pred, multioutput, dtype)\u001B[0m\n\u001B[1;32m     94\u001B[0m     \u001B[0mcheck_consistent_length\u001B[0m\u001B[0;34m(\u001B[0m\u001B[0my_true\u001B[0m\u001B[0;34m,\u001B[0m \u001B[0my_pred\u001B[0m\u001B[0;34m)\u001B[0m\u001B[0;34m\u001B[0m\u001B[0;34m\u001B[0m\u001B[0m\n\u001B[1;32m     95\u001B[0m     \u001B[0my_true\u001B[0m \u001B[0;34m=\u001B[0m \u001B[0mcheck_array\u001B[0m\u001B[0;34m(\u001B[0m\u001B[0my_true\u001B[0m\u001B[0;34m,\u001B[0m \u001B[0mensure_2d\u001B[0m\u001B[0;34m=\u001B[0m\u001B[0;32mFalse\u001B[0m\u001B[0;34m,\u001B[0m \u001B[0mdtype\u001B[0m\u001B[0;34m=\u001B[0m\u001B[0mdtype\u001B[0m\u001B[0;34m)\u001B[0m\u001B[0;34m\u001B[0m\u001B[0;34m\u001B[0m\u001B[0m\n\u001B[0;32m---> 96\u001B[0;31m     \u001B[0my_pred\u001B[0m \u001B[0;34m=\u001B[0m \u001B[0mcheck_array\u001B[0m\u001B[0;34m(\u001B[0m\u001B[0my_pred\u001B[0m\u001B[0;34m,\u001B[0m \u001B[0mensure_2d\u001B[0m\u001B[0;34m=\u001B[0m\u001B[0;32mFalse\u001B[0m\u001B[0;34m,\u001B[0m \u001B[0mdtype\u001B[0m\u001B[0;34m=\u001B[0m\u001B[0mdtype\u001B[0m\u001B[0;34m)\u001B[0m\u001B[0;34m\u001B[0m\u001B[0;34m\u001B[0m\u001B[0m\n\u001B[0m\u001B[1;32m     97\u001B[0m \u001B[0;34m\u001B[0m\u001B[0m\n\u001B[1;32m     98\u001B[0m     \u001B[0;32mif\u001B[0m \u001B[0my_true\u001B[0m\u001B[0;34m.\u001B[0m\u001B[0mndim\u001B[0m \u001B[0;34m==\u001B[0m \u001B[0;36m1\u001B[0m\u001B[0;34m:\u001B[0m\u001B[0;34m\u001B[0m\u001B[0;34m\u001B[0m\u001B[0m\n",
      "\u001B[0;32m~/opt/anaconda3/lib/python3.9/site-packages/sklearn/utils/validation.py\u001B[0m in \u001B[0;36mcheck_array\u001B[0;34m(array, accept_sparse, accept_large_sparse, dtype, order, copy, force_all_finite, ensure_2d, allow_nd, ensure_min_samples, ensure_min_features, estimator)\u001B[0m\n\u001B[1;32m    798\u001B[0m \u001B[0;34m\u001B[0m\u001B[0m\n\u001B[1;32m    799\u001B[0m         \u001B[0;32mif\u001B[0m \u001B[0mforce_all_finite\u001B[0m\u001B[0;34m:\u001B[0m\u001B[0;34m\u001B[0m\u001B[0;34m\u001B[0m\u001B[0m\n\u001B[0;32m--> 800\u001B[0;31m             \u001B[0m_assert_all_finite\u001B[0m\u001B[0;34m(\u001B[0m\u001B[0marray\u001B[0m\u001B[0;34m,\u001B[0m \u001B[0mallow_nan\u001B[0m\u001B[0;34m=\u001B[0m\u001B[0mforce_all_finite\u001B[0m \u001B[0;34m==\u001B[0m \u001B[0;34m\"allow-nan\"\u001B[0m\u001B[0;34m)\u001B[0m\u001B[0;34m\u001B[0m\u001B[0;34m\u001B[0m\u001B[0m\n\u001B[0m\u001B[1;32m    801\u001B[0m \u001B[0;34m\u001B[0m\u001B[0m\n\u001B[1;32m    802\u001B[0m     \u001B[0;32mif\u001B[0m \u001B[0mensure_min_samples\u001B[0m \u001B[0;34m>\u001B[0m \u001B[0;36m0\u001B[0m\u001B[0;34m:\u001B[0m\u001B[0;34m\u001B[0m\u001B[0;34m\u001B[0m\u001B[0m\n",
      "\u001B[0;32m~/opt/anaconda3/lib/python3.9/site-packages/sklearn/utils/validation.py\u001B[0m in \u001B[0;36m_assert_all_finite\u001B[0;34m(X, allow_nan, msg_dtype)\u001B[0m\n\u001B[1;32m    112\u001B[0m         ):\n\u001B[1;32m    113\u001B[0m             \u001B[0mtype_err\u001B[0m \u001B[0;34m=\u001B[0m \u001B[0;34m\"infinity\"\u001B[0m \u001B[0;32mif\u001B[0m \u001B[0mallow_nan\u001B[0m \u001B[0;32melse\u001B[0m \u001B[0;34m\"NaN, infinity\"\u001B[0m\u001B[0;34m\u001B[0m\u001B[0;34m\u001B[0m\u001B[0m\n\u001B[0;32m--> 114\u001B[0;31m             raise ValueError(\n\u001B[0m\u001B[1;32m    115\u001B[0m                 msg_err.format(\n\u001B[1;32m    116\u001B[0m                     \u001B[0mtype_err\u001B[0m\u001B[0;34m,\u001B[0m \u001B[0mmsg_dtype\u001B[0m \u001B[0;32mif\u001B[0m \u001B[0mmsg_dtype\u001B[0m \u001B[0;32mis\u001B[0m \u001B[0;32mnot\u001B[0m \u001B[0;32mNone\u001B[0m \u001B[0;32melse\u001B[0m \u001B[0mX\u001B[0m\u001B[0;34m.\u001B[0m\u001B[0mdtype\u001B[0m\u001B[0;34m\u001B[0m\u001B[0;34m\u001B[0m\u001B[0m\n",
      "\u001B[0;31mValueError\u001B[0m: Input contains NaN, infinity or a value too large for dtype('float64')."
     ]
    }
   ],
   "source": [
    "\n",
    "print('RMSE:', mean_squared_error(y_true=target_train, y_pred=forest.predict(features_train), squared=False))\n"
   ],
   "metadata": {
    "collapsed": false
   }
  },
  {
   "cell_type": "code",
   "execution_count": null,
   "outputs": [],
   "source": [
    "# data_ohe = pd.get_dummies(data, drop_first=True)\n",
    "# features_ohe = data_ohe.drop('Price', axis=1)\n",
    "# target_ohe = data_ohe['Price']"
   ],
   "metadata": {
    "collapsed": false
   }
  },
  {
   "cell_type": "code",
   "execution_count": null,
   "outputs": [],
   "source": [
    "# features_train_ohe, features_test_ohe, target_train_ohe, target_test_ohe = train_test_split(features_ohe, target_ohe, test_size=0.2, random_state=12345)\n"
   ],
   "metadata": {
    "collapsed": false
   }
  },
  {
   "cell_type": "code",
   "execution_count": null,
   "outputs": [],
   "source": [
    "# %%time\n",
    "#\n",
    "# forest_ohe = RandomForestRegressor(random_state=42, n_estimators = 100, criterion='mse')\n",
    "# forest_ohe.fit(features_train_ohe, target_train_ohe)"
   ],
   "metadata": {
    "collapsed": false
   }
  },
  {
   "cell_type": "code",
   "execution_count": null,
   "outputs": [],
   "source": [
    "# print('RMSE:', mean_squared_error(y_true=target_train_ohe, y_pred=forest_ohe.predict(features_train_ohe), squared=False))\n"
   ],
   "metadata": {
    "collapsed": false
   }
  },
  {
   "cell_type": "code",
   "execution_count": null,
   "outputs": [],
   "source": [
    "##TODO ошибка не в методе обработки данных а где-то до"
   ],
   "metadata": {
    "collapsed": false
   }
  },
  {
   "cell_type": "markdown",
   "metadata": {},
   "source": [
    "Теперь воспользуемся *Catboost*."
   ]
  },
  {
   "cell_type": "markdown",
   "metadata": {},
   "source": [
    "\n",
    "bestTest = 1725.410008\n",
    "bestIteration = 999\n",
    "\n",
    "CPU times: user 1h 29min 6s, sys: 6min 4s, total: 1h 35min 11s\n",
    "Wall time: 17min 1s"
   ]
  },
  {
   "cell_type": "markdown",
   "metadata": {},
   "source": [
    "<div class=\"alert alert-info\">\n",
    "<font size=\"5\"><b>Комментарий ученика</b></font>\n",
    "<div>Не стал запускать CatBoost так как сейчас нахожусь с другого устройства и будет обучаться очень долго:(\n",
    "</div>\n",
    "</div>"
   ]
  },
  {
   "cell_type": "code",
   "execution_count": null,
   "metadata": {},
   "outputs": [],
   "source": [
    "# %%time\n",
    "# catboost = CatBoostRegressor(loss_function='RMSE')\n",
    "# parameters_cat = {'depth':[5,10], 'learning_rate':np.arange(0.1,1,0.2)}\n",
    "# catboost_grid = catboost.grid_search(parameters_cat,\n",
    "#                                      Pool(features_train_cat, target_train_cat, cat_features=[\"VehicleType\",\"Gearbox\",\n",
    "#                                                                                       \"Model\",\"FuelType\",\n",
    "#                                                                                       \"Brand\",\"Repaired\"]),\n",
    "#                                      cv=3,\n",
    "#                                      verbose=True,\n",
    "#                                      plot=False)"
   ]
  },
  {
   "cell_type": "code",
   "execution_count": null,
   "metadata": {},
   "outputs": [],
   "source": [
    "model_catboost = CatBoostRegressor(depth=catboost_grid[\"params\"][\"depth\"],\n",
    "                                   learning_rate=catboost_grid[\"params\"]['learning_rate'], loss_function='RMSE')\n",
    "model_catboost.fit(features_train_cat, target_train_cat, cat_features=[\"VehicleType\", \"Gearbox\",\n",
    "                                                                       \"Model\", \"FuelType\",\n",
    "                                                                       \"Brand\", \"Repaired\"])\n"
   ]
  },
  {
   "cell_type": "markdown",
   "metadata": {},
   "source": [
    "<div class=\"alert alert-success\">\n",
    "<h2> Комментарий ревьюера <a class=\"tocSkip\"> </h2>\n",
    "\n",
    "<b>Все отлично!👍:</b> \n",
    "    \n",
    "Отлично, что для CatBoost используешь незакодированные заранее фичи, чтобы использовать внутренний алгоритм кодирования."
   ]
  },
  {
   "cell_type": "code",
   "execution_count": null,
   "metadata": {},
   "outputs": [],
   "source": [
    "% % time\n",
    "predictions_cat = model_catboost.predict(features_train_cat)\n",
    "print('RMSE:', mean_squared_error(y_true=target_train_cat, y_pred=predictions_cat, squared=False))"
   ]
  },
  {
   "cell_type": "code",
   "execution_count": null,
   "metadata": {},
   "outputs": [],
   "source": [
    "target_train_ordinal"
   ]
  },
  {
   "cell_type": "markdown",
   "metadata": {},
   "source": [
    "<div class=\"alert alert-info\">\n",
    "<font size=\"5\"><b>Комментарий ученика</b></font>\n",
    "<div>Исправил на Ordinal.\n",
    "</div>\n",
    "</div>"
   ]
  },
  {
   "cell_type": "markdown",
   "metadata": {},
   "source": [
    "<div class=\"alert alert-success\">\n",
    "<h2> Комментарий ревьюера №2<a class=\"tocSkip\"> </h2>\n",
    "\n",
    "<b>Все отлично!👍</b> "
   ]
  },
  {
   "cell_type": "code",
   "execution_count": null,
   "metadata": {},
   "outputs": [],
   "source": [
    "% % time\n",
    "\n",
    "import lightgbm as lgb\n",
    "\n",
    "lgb_train = lgb.Dataset(features_train_ordinal, target_train_ordinal)\n",
    "lgb_test = lgb.Dataset(features_test_ordinal, target_test_ordinal, reference=lgb_train)\n",
    "parameters_light = {'metric': 'l2', 'max_depth': 10, \"random_state\": 42, \"learning_rate\": 0.1}\n",
    "light = lgb.train(parameters_light,\n",
    "                  lgb_train,\n",
    "                  num_boost_round=1000,\n",
    "                  valid_sets=[lgb_train, lgb_test],\n",
    "                  verbose_eval=100)"
   ]
  },
  {
   "cell_type": "markdown",
   "metadata": {},
   "source": [
    "<div class=\"alert alert-success\">\n",
    "<h2> Комментарий ревьюера <a class=\"tocSkip\"> </h2>\n",
    "\n",
    "<b>Все отлично!👍:</b> \n",
    "    \n",
    "Отлично, что есть анализ LightGBM"
   ]
  },
  {
   "cell_type": "markdown",
   "metadata": {},
   "source": [
    "<div class=\"alert alert-block alert-danger\">\n",
    "<h2> Комментарий ревьюера <a class=\"tocSkip\"></h2>\n",
    "\n",
    "    \n",
    "<b>На доработку🤔:</b>\n",
    "    \n",
    "Для LightGBM стоит исключить использование one-hot кодиярования категориальных переменных. \n",
    "    \n",
    "Можно использовать внутренний алгоритм кодирования, как для CatBoost, то есть подавать модели незакодированны ранее фичи в соответствии с документацией, либо использовать порядковое кодирование."
   ]
  },
  {
   "cell_type": "code",
   "execution_count": null,
   "metadata": {},
   "outputs": [],
   "source": [
    "% % time\n",
    "print(\"LightGBM:\", (mean_squared_error(target_train_ordinal, light.predict(features_train_ordinal), squared=False)))"
   ]
  },
  {
   "cell_type": "markdown",
   "metadata": {},
   "source": []
  },
  {
   "cell_type": "markdown",
   "metadata": {},
   "source": [
    "## Анализ моделей"
   ]
  },
  {
   "cell_type": "markdown",
   "metadata": {},
   "source": [
    "Были обучены 4 модели: Линейная Регрессия, Случайный Лес, CatBoost и LightGBM. Начнем по порядку: наименьшую ошибку показал CatBoost - 1703, следом идёт LightGBM - 1719, затем Случайный Лес - 1747, а уже потом Линейная Регрессия - 3207. Разница между бустингом и регрессией колосальна. А вот разница между тремя первыми местами не сильно заметна, особенно если рассматривать только бустинги - всего в 16 евро.\n",
    "\n",
    "Критерии, которые важны заказчику:\n",
    "-качество предсказания;\n",
    "-время обучения модели;\n",
    "-время предсказания модели.\n",
    "\n",
    "\n",
    "Отбросим линейную регрессии в силу ее слабой RMSE и за каждый критерий будем давать от 0 до 2 баллов за позицию в критериях.\n",
    "Качество предсказания: CatBoost - 2 балла, LightGBM - 1 балл, Случайный Лес - 0 баллов.\n",
    "Время обучения модели: CatBoost - 0 баллов, LightGBM - 2 балл, Случайный Лес - 1 балла.\n",
    "Время предсказания модели: CatBoost - 2 балла, LightGBM - 1 балл, Случайный Лес - 0 баллов.\n",
    "\n",
    "Таким образом у CatBoost - 4 балла, у LightGBM - 4 балла и у Случайного Лесса 1 балл.\n",
    "Но в данном случае выбор падет на LightGBM, так как уж намного быстрее эта модель обучилась в отличие от CatBoost."
   ]
  },
  {
   "cell_type": "markdown",
   "metadata": {},
   "source": [
    "<div class=\"alert alert-info\">\n",
    "<font size=\"5\"><b>Комментарий ученика</b></font>\n",
    "<div>Проверил лучшую модель на ТЕСТОВОЙ.\n",
    "</div>\n",
    "</div>"
   ]
  },
  {
   "cell_type": "markdown",
   "metadata": {},
   "source": [
    "<div class=\"alert alert-success\">\n",
    "<h2> Комментарий ревьюера №2<a class=\"tocSkip\"> </h2>\n",
    "\n",
    "<b>Все отлично!👍</b> "
   ]
  },
  {
   "cell_type": "markdown",
   "metadata": {},
   "source": [
    "Отличный результат!"
   ]
  },
  {
   "cell_type": "code",
   "execution_count": null,
   "metadata": {},
   "outputs": [],
   "source": [
    "print(\"LightGBM:\", (mean_squared_error(target_test_ordinal, light.predict(features_test_ordinal), squared=False)))"
   ]
  },
  {
   "cell_type": "markdown",
   "metadata": {},
   "source": [
    "<div class=\"alert alert-success\">\n",
    "<h2> Комментарий ревьюера <a class=\"tocSkip\"> </h2>\n",
    "\n",
    "<b>Все отлично!👍:</b> \n",
    "    \n",
    "    \n",
    "Отлично, что сводишь все полученные результаты в одном месте."
   ]
  },
  {
   "cell_type": "markdown",
   "metadata": {},
   "source": [
    "<div class=\"alert alert-block alert-danger\">\n",
    "<h2> Комментарий ревьюера <a class=\"tocSkip\"></h2>\n",
    "\n",
    "    \n",
    "<b>На доработку🤔:</b>\n",
    "    \n",
    "    \n",
    "Вот здесь, после того, как выбрал лучшую модель, стоит проверить ее на тестовой выборке. Везде выше по проекту стоит исключить использование тестовой выборки."
   ]
  },
  {
   "cell_type": "markdown",
   "metadata": {},
   "source": [
    "## Вывод"
   ]
  },
  {
   "cell_type": "markdown",
   "metadata": {},
   "source": [
    "Была проведена работа по обработке данных, обучению модель и анализа лучшей. В самом начале мы первично изучали данные и начали их обрабатывать - было много пропусков и не все признаки соответствовали своим типам. После разбили данные на обучающую и тестовую выборки несколько раз, так как разные модели могут принимать на вход только определенные данные - некоторые уже закодированные, а некоторые могут принимать и не закодированные данные. Обучив и проверив модели на тестовых выборках - стало ясно, что линейная регрессия такая себе модель для данной задачи, а после сравнительного анализа стало ясно, что лучшая модель в нашем случае - LightGBM!"
   ]
  },
  {
   "cell_type": "markdown",
   "metadata": {},
   "source": [
    "<div class=\"alert alert-success\">\n",
    "<h2> Комментарий ревьюера <a class=\"tocSkip\"> </h2>\n",
    "\n",
    "<b>Все отлично!👍:</b> \n",
    "    \n",
    "Отлично, что есть резюмирующий вывод."
   ]
  },
  {
   "cell_type": "markdown",
   "metadata": {},
   "source": [
    "<div class=\"alert alert-warning\">\n",
    "    <h2> Комментарий ревьюера <a class=\"tocSkip\"> </h2>\n",
    "    \n",
    "<b>Некоторые замечания и рекомендации💡:</b> \n",
    "        \n",
    "Здесь я оставлю несколько интересных и полезных ссылок по теме:\n",
    "        \n",
    "        \n",
    "1. \"XGBoost, LightGBM or CatBoost — which boosting algorithm should I use?\"\n",
    "\n",
    "https://medium.com/riskified-technology/xgboost-lightgbm-or-catboost-which-boosting-algorithm-should-i-use-e7fda7bb36bc\n",
    "        \n",
    "        \n",
    "2. \"Transforming categorical features to numerical features\"\n",
    "        \n",
    "https://catboost.ai/en/docs/concepts/algorithm-main-stages_cat-to-numberic\n",
    "        \n",
    "        \n",
    "3. \"Градиентный Бустинг: самый частый вопрос на собеседовании на дата саентиста\"\n",
    "        \n",
    "https://www.youtube.com/watch?v=ZNJ3lKyI-EY\n",
    "        \n",
    "4. \"Tutorial: CatBoost Overview\"\n",
    "        \n",
    "https://www.kaggle.com/code/mitribunskiy/tutorial-catboost-overview/notebook\n",
    "        \n",
    "5. \"Gradient Boosting from scratch\"\n",
    "        \n",
    "https://blog.mlreview.com/gradient-boosting-from-scratch-1e317ae4587d"
   ]
  },
  {
   "cell_type": "markdown",
   "metadata": {},
   "source": [
    "<div style=\"border:solid Chocolate 2px; padding: 40px\">\n",
    "    \n",
    "<b>Общий вывод по проекту</b>\n",
    "\n",
    "Александр, благодарю тебя за работу! Проект отличный, продуманный, структурно выдержанный и аккуратный. Видно, что ты вдумчиво подходишь к работе. Однако стоит внести некоторые исправления, чтобы можно было считать проект завершенным.\n",
    "\n",
    "**Положительные моменты проекта, которые хочу еще раз подчеркнуть:**\n",
    "\n",
    "1. Удалены все лишние признаки и константный признак\n",
    "2. Есть промежуточные выводы по ходу анализа признаков\n",
    "3. Есть обработка пропущенных значений\n",
    "4. Кодирование категориальных признаков осуществляется.\n",
    "5. Есть анализ времени предсказания и обучения моделей, а также их качества\n",
    "6. Предложена модель с учетом времени обучения и предсказания, а также качества работы\n",
    "7. Использованы разные методы кодирования категориальных переменных.\n",
    "    \n",
    "**Замечания, на которые стоит обратить внимание при будущей работе:**\n",
    "    \n",
    "    1. Стоит обработать аномальные значения в данных\n",
    "    2. Для LightGBM стоит использовать соответствующий метод кодирования\n",
    "    3. Время предсказания, когда есть только тренировочная и тестовая выборки, стоит измерять на тренировочной выборке\n",
    "    4. Модели выбирать по результатам кросс-валидации\n",
    "    5. На тестовой выборке стоит проверять только лучшую модель.\n",
    "    6. Для использования линейной регрессии стоит отмасштабировать численные признаки\n",
    "\n",
    "    \n",
    "    \n",
    "Остальные комментарии ты найдешь выше.\n",
    "\n",
    "**Желаю удачи и жду твой проект на повторное ревью!**"
   ]
  },
  {
   "cell_type": "markdown",
   "metadata": {},
   "source": [
    "<div style=\"border:solid Chocolate 2px; padding: 40px\">\n",
    "    \n",
    "<b>Общий вывод по проекту №2</b>\n",
    "\n",
    "Александр, благодарю тебя за работу! \n",
    "    \n",
    "Все хорошо, осталось исправить только некоторые моменты:\n",
    "    \n",
    "1. Верхнюю границу года регистрации выбираем, исходя из дат в датасете\n",
    "    \n",
    "2. Кодировать с помощью OrdinalEncoder стоит после разделения на выборки\n",
    "    \n",
    "**Жду твой проект на следующее ревью**"
   ]
  },
  {
   "cell_type": "markdown",
   "metadata": {},
   "source": [
    "## Чек-лист проверки"
   ]
  },
  {
   "cell_type": "markdown",
   "metadata": {},
   "source": [
    "Поставьте 'x' в выполненных пунктах. Далее нажмите Shift+Enter."
   ]
  },
  {
   "cell_type": "markdown",
   "metadata": {},
   "source": [
    "- [x]  Jupyter Notebook открыт\n",
    "- [x]  Весь код выполняется без ошибок\n",
    "- [x]  Ячейки с кодом расположены в порядке исполнения\n",
    "- [x]  Выполнена загрузка и подготовка данных\n",
    "- [x]  Выполнено обучение моделей\n",
    "- [x]  Есть анализ скорости работы и качества моделей"
   ]
  },
  {
   "cell_type": "code",
   "execution_count": null,
   "metadata": {},
   "outputs": [],
   "source": []
  }
 ],
 "metadata": {
  "ExecuteTimeLog": [
   {
    "duration": 1382,
    "start_time": "2022-12-30T11:33:04.607Z"
   },
   {
    "duration": 114,
    "start_time": "2022-12-30T11:33:05.991Z"
   },
   {
    "duration": 0,
    "start_time": "2022-12-30T11:33:06.107Z"
   },
   {
    "duration": 0,
    "start_time": "2022-12-30T11:33:06.108Z"
   },
   {
    "duration": 0,
    "start_time": "2022-12-30T11:33:06.109Z"
   },
   {
    "duration": 0,
    "start_time": "2022-12-30T11:33:06.110Z"
   },
   {
    "duration": 0,
    "start_time": "2022-12-30T11:33:06.111Z"
   },
   {
    "duration": 0,
    "start_time": "2022-12-30T11:33:06.112Z"
   },
   {
    "duration": 0,
    "start_time": "2022-12-30T11:33:06.113Z"
   },
   {
    "duration": 0,
    "start_time": "2022-12-30T11:33:06.114Z"
   },
   {
    "duration": 0,
    "start_time": "2022-12-30T11:33:06.115Z"
   },
   {
    "duration": 0,
    "start_time": "2022-12-30T11:33:06.116Z"
   },
   {
    "duration": 0,
    "start_time": "2022-12-30T11:33:06.117Z"
   },
   {
    "duration": 0,
    "start_time": "2022-12-30T11:33:06.118Z"
   },
   {
    "duration": 0,
    "start_time": "2022-12-30T11:33:06.120Z"
   },
   {
    "duration": 0,
    "start_time": "2022-12-30T11:33:06.121Z"
   },
   {
    "duration": 0,
    "start_time": "2022-12-30T11:33:06.121Z"
   },
   {
    "duration": 0,
    "start_time": "2022-12-30T11:33:06.122Z"
   },
   {
    "duration": 0,
    "start_time": "2022-12-30T11:33:06.124Z"
   },
   {
    "duration": 0,
    "start_time": "2022-12-30T11:33:06.125Z"
   },
   {
    "duration": 0,
    "start_time": "2022-12-30T11:33:06.126Z"
   },
   {
    "duration": 0,
    "start_time": "2022-12-30T11:33:06.127Z"
   },
   {
    "duration": 1582,
    "start_time": "2022-12-30T11:51:02.487Z"
   },
   {
    "duration": 848,
    "start_time": "2022-12-30T11:51:04.072Z"
   },
   {
    "duration": 122,
    "start_time": "2022-12-30T11:51:04.922Z"
   },
   {
    "duration": 152,
    "start_time": "2022-12-30T11:51:05.046Z"
   },
   {
    "duration": 116,
    "start_time": "2022-12-30T11:51:05.200Z"
   },
   {
    "duration": 33,
    "start_time": "2022-12-30T11:51:05.318Z"
   },
   {
    "duration": 82,
    "start_time": "2022-12-30T11:51:05.353Z"
   },
   {
    "duration": 19,
    "start_time": "2022-12-30T11:51:05.437Z"
   },
   {
    "duration": 68,
    "start_time": "2022-12-30T11:51:05.458Z"
   },
   {
    "duration": 1054,
    "start_time": "2022-12-30T11:51:05.528Z"
   },
   {
    "duration": 218,
    "start_time": "2022-12-30T11:51:06.584Z"
   },
   {
    "duration": 490,
    "start_time": "2022-12-30T11:51:06.804Z"
   },
   {
    "duration": 41582,
    "start_time": "2022-12-30T11:51:07.296Z"
   },
   {
    "duration": 3,
    "start_time": "2022-12-30T11:51:48.880Z"
   },
   {
    "duration": 1410,
    "start_time": "2022-12-31T09:25:06.893Z"
   },
   {
    "duration": 105,
    "start_time": "2022-12-31T09:25:08.305Z"
   },
   {
    "duration": 0,
    "start_time": "2022-12-31T09:25:08.412Z"
   },
   {
    "duration": 0,
    "start_time": "2022-12-31T09:25:08.413Z"
   },
   {
    "duration": 0,
    "start_time": "2022-12-31T09:25:08.414Z"
   },
   {
    "duration": 0,
    "start_time": "2022-12-31T09:25:08.415Z"
   },
   {
    "duration": 0,
    "start_time": "2022-12-31T09:25:08.416Z"
   },
   {
    "duration": 0,
    "start_time": "2022-12-31T09:25:08.417Z"
   },
   {
    "duration": 0,
    "start_time": "2022-12-31T09:25:08.418Z"
   },
   {
    "duration": 0,
    "start_time": "2022-12-31T09:25:08.420Z"
   },
   {
    "duration": 0,
    "start_time": "2022-12-31T09:25:08.420Z"
   },
   {
    "duration": 0,
    "start_time": "2022-12-31T09:25:08.421Z"
   },
   {
    "duration": 0,
    "start_time": "2022-12-31T09:25:08.422Z"
   },
   {
    "duration": 0,
    "start_time": "2022-12-31T09:25:08.423Z"
   },
   {
    "duration": 0,
    "start_time": "2022-12-31T09:25:08.424Z"
   },
   {
    "duration": 0,
    "start_time": "2022-12-31T09:25:08.425Z"
   },
   {
    "duration": 0,
    "start_time": "2022-12-31T09:25:08.426Z"
   },
   {
    "duration": 0,
    "start_time": "2022-12-31T09:25:08.427Z"
   },
   {
    "duration": 0,
    "start_time": "2022-12-31T09:25:08.428Z"
   },
   {
    "duration": 0,
    "start_time": "2022-12-31T09:25:08.428Z"
   },
   {
    "duration": 0,
    "start_time": "2022-12-31T09:25:08.429Z"
   },
   {
    "duration": 0,
    "start_time": "2022-12-31T09:25:08.430Z"
   },
   {
    "duration": 0,
    "start_time": "2022-12-31T09:25:08.431Z"
   },
   {
    "duration": 0,
    "start_time": "2022-12-31T09:25:08.432Z"
   },
   {
    "duration": 0,
    "start_time": "2022-12-31T09:25:08.432Z"
   },
   {
    "duration": 0,
    "start_time": "2022-12-31T09:25:08.434Z"
   },
   {
    "duration": 0,
    "start_time": "2022-12-31T09:25:08.435Z"
   },
   {
    "duration": 0,
    "start_time": "2022-12-31T09:25:08.436Z"
   },
   {
    "duration": 0,
    "start_time": "2022-12-31T09:25:08.437Z"
   },
   {
    "duration": 0,
    "start_time": "2022-12-31T09:25:08.438Z"
   },
   {
    "duration": 1411,
    "start_time": "2022-12-31T09:26:02.505Z"
   },
   {
    "duration": 800,
    "start_time": "2022-12-31T09:26:03.919Z"
   },
   {
    "duration": 119,
    "start_time": "2022-12-31T09:26:04.721Z"
   },
   {
    "duration": 109,
    "start_time": "2022-12-31T09:26:04.842Z"
   },
   {
    "duration": 105,
    "start_time": "2022-12-31T09:26:04.953Z"
   },
   {
    "duration": 35,
    "start_time": "2022-12-31T09:26:05.060Z"
   },
   {
    "duration": 66,
    "start_time": "2022-12-31T09:26:05.111Z"
   },
   {
    "duration": 33,
    "start_time": "2022-12-31T09:26:05.179Z"
   },
   {
    "duration": 65,
    "start_time": "2022-12-31T09:26:05.213Z"
   },
   {
    "duration": 32,
    "start_time": "2022-12-31T09:26:05.280Z"
   },
   {
    "duration": 1804,
    "start_time": "2022-12-31T09:26:05.314Z"
   },
   {
    "duration": 451,
    "start_time": "2022-12-31T09:26:07.120Z"
   },
   {
    "duration": 1424,
    "start_time": "2022-12-31T09:26:07.573Z"
   },
   {
    "duration": 207,
    "start_time": "2022-12-31T09:26:09.000Z"
   },
   {
    "duration": 466,
    "start_time": "2022-12-31T09:26:09.209Z"
   },
   {
    "duration": 61,
    "start_time": "2022-12-31T09:26:09.677Z"
   },
   {
    "duration": 198,
    "start_time": "2022-12-31T09:26:09.739Z"
   },
   {
    "duration": 206374,
    "start_time": "2022-12-31T09:26:09.939Z"
   },
   {
    "duration": 4702,
    "start_time": "2022-12-31T09:29:36.315Z"
   },
   {
    "duration": 92,
    "start_time": "2022-12-31T09:29:41.020Z"
   }
  ],
  "kernelspec": {
   "display_name": "Python 3 (ipykernel)",
   "language": "python",
   "name": "python3"
  },
  "language_info": {
   "codemirror_mode": {
    "name": "ipython",
    "version": 3
   },
   "file_extension": ".py",
   "mimetype": "text/x-python",
   "name": "python",
   "nbconvert_exporter": "python",
   "pygments_lexer": "ipython3",
   "version": "3.9.5"
  },
  "toc": {
   "base_numbering": 1,
   "nav_menu": {},
   "number_sections": true,
   "sideBar": true,
   "skip_h1_title": true,
   "title_cell": "Table of Contents",
   "title_sidebar": "Contents",
   "toc_cell": false,
   "toc_position": {},
   "toc_section_display": true,
   "toc_window_display": false
  }
 },
 "nbformat": 4,
 "nbformat_minor": 2
}
