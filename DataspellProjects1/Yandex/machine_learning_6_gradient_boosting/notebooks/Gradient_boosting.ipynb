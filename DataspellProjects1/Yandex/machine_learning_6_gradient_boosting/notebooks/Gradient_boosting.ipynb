{
 "cells": [
  {
   "cell_type": "markdown",
   "metadata": {
    "toc": true
   },
   "source": [
    "<h1>Содержание<span class=\"tocSkip\"></span></h1>\n",
    "<div class=\"toc\"><ul class=\"toc-item\"><li><span><a href=\"#Подготовка-данных\" data-toc-modified-id=\"Подготовка-данных-1\"><span class=\"toc-item-num\">1&nbsp;&nbsp;</span>Подготовка данных</a></span><ul class=\"toc-item\"><li><span><a href=\"#Проверим-дубликаты\" data-toc-modified-id=\"Проверим-дубликаты-1.1\"><span class=\"toc-item-num\">1.1&nbsp;&nbsp;</span>Проверим дубликаты</a></span><ul class=\"toc-item\"><li><span><a href=\"#Вывод\" data-toc-modified-id=\"Вывод-1.1.1\"><span class=\"toc-item-num\">1.1.1&nbsp;&nbsp;</span>Вывод</a></span></li></ul></li><li><span><a href=\"#Проверим-значения\" data-toc-modified-id=\"Проверим-значения-1.2\"><span class=\"toc-item-num\">1.2&nbsp;&nbsp;</span>Проверим значения</a></span><ul class=\"toc-item\"><li><span><a href=\"#Удалим-столбцы:-которые-больше-не-потребуются\" data-toc-modified-id=\"Удалим-столбцы:-которые-больше-не-потребуются-1.2.1\"><span class=\"toc-item-num\">1.2.1&nbsp;&nbsp;</span>Удалим столбцы: которые больше не потребуются</a></span></li><li><span><a href=\"#Результаты-проверки\" data-toc-modified-id=\"Результаты-проверки-1.2.2\"><span class=\"toc-item-num\">1.2.2&nbsp;&nbsp;</span>Результаты проверки</a></span></li></ul></li><li><span><a href=\"#Обработаем-выбросы-и-границы-значений-в-упомянутых-выше-признаках\" data-toc-modified-id=\"Обработаем-выбросы-и-границы-значений-в-упомянутых-выше-признаках-1.3\"><span class=\"toc-item-num\">1.3&nbsp;&nbsp;</span>Обработаем выбросы и границы значений в упомянутых выше признаках</a></span><ul class=\"toc-item\"><li><span><a href=\"#Выводы\" data-toc-modified-id=\"Выводы-1.3.1\"><span class=\"toc-item-num\">1.3.1&nbsp;&nbsp;</span>Выводы</a></span></li></ul></li></ul></li><li><span><a href=\"#Разделим-и-закодируем-выборки\" data-toc-modified-id=\"Разделим-и-закодируем-выборки-2\"><span class=\"toc-item-num\">2&nbsp;&nbsp;</span>Разделим и закодируем выборки</a></span></li><li><span><a href=\"#Обучение-моделей\" data-toc-modified-id=\"Обучение-моделей-3\"><span class=\"toc-item-num\">3&nbsp;&nbsp;</span>Обучение моделей</a></span></li><li><span><a href=\"#Анализ-моделей\" data-toc-modified-id=\"Анализ-моделей-4\"><span class=\"toc-item-num\">4&nbsp;&nbsp;</span>Анализ моделей</a></span></li></ul></div>"
   ]
  },
  {
   "cell_type": "markdown",
   "metadata": {},
   "source": [
    "Сервис по продаже автомобилей с пробегом «Не бит, не крашен» разрабатывает приложение для привлечения новых клиентов. В нём можно быстро узнать рыночную стоимость своего автомобиля. В вашем распоряжении исторические данные: технические характеристики, комплектации и цены автомобилей. Вам нужно построить модель для определения стоимости. \n",
    "\n",
    "Заказчику важны:\n",
    "\n",
    "- качество предсказания;\n",
    "- скорость предсказания;\n",
    "- время обучения."
   ]
  },
  {
   "cell_type": "code",
   "execution_count": 31,
   "metadata": {},
   "outputs": [],
   "source": [
    "import pandas as pd\n",
    "import numpy as np\n",
    "from catboost import CatBoostRegressor, Pool\n",
    "from sklearn.model_selection import train_test_split\n",
    "from sklearn.metrics import mean_squared_error\n",
    "from sklearn.ensemble import RandomForestRegressor\n",
    "from sklearn.model_selection import GridSearchCV\n",
    "import lightgbm as lgb\n",
    "import matplotlib.pyplot as plt\n"
   ]
  },
  {
   "cell_type": "markdown",
   "metadata": {},
   "source": [
    "#  Подготовка данных"
   ]
  },
  {
   "cell_type": "code",
   "execution_count": 32,
   "metadata": {},
   "outputs": [],
   "source": [
    "frame = pd.read_csv(\"../datasets/autos.csv\")"
   ]
  },
  {
   "cell_type": "code",
   "execution_count": 33,
   "metadata": {},
   "outputs": [
    {
     "data": {
      "text/plain": "           DateCrawled  Price VehicleType  RegistrationYear Gearbox  Power  \\\n0  2016-03-24 11:52:17    480         NaN              1993  manual      0   \n1  2016-03-24 10:58:45  18300       coupe              2011  manual    190   \n2  2016-03-14 12:52:21   9800         suv              2004    auto    163   \n3  2016-03-17 16:54:04   1500       small              2001  manual     75   \n4  2016-03-31 17:25:20   3600       small              2008  manual     69   \n\n   Model  Kilometer  RegistrationMonth  FuelType       Brand Repaired  \\\n0   golf     150000                  0    petrol  volkswagen      NaN   \n1    NaN     125000                  5  gasoline        audi      yes   \n2  grand     125000                  8  gasoline        jeep      NaN   \n3   golf     150000                  6    petrol  volkswagen       no   \n4  fabia      90000                  7  gasoline       skoda       no   \n\n           DateCreated  NumberOfPictures  PostalCode             LastSeen  \n0  2016-03-24 00:00:00                 0       70435  2016-04-07 03:16:57  \n1  2016-03-24 00:00:00                 0       66954  2016-04-07 01:46:50  \n2  2016-03-14 00:00:00                 0       90480  2016-04-05 12:47:46  \n3  2016-03-17 00:00:00                 0       91074  2016-03-17 17:40:17  \n4  2016-03-31 00:00:00                 0       60437  2016-04-06 10:17:21  ",
      "text/html": "<div>\n<style scoped>\n    .dataframe tbody tr th:only-of-type {\n        vertical-align: middle;\n    }\n\n    .dataframe tbody tr th {\n        vertical-align: top;\n    }\n\n    .dataframe thead th {\n        text-align: right;\n    }\n</style>\n<table border=\"1\" class=\"dataframe\">\n  <thead>\n    <tr style=\"text-align: right;\">\n      <th></th>\n      <th>DateCrawled</th>\n      <th>Price</th>\n      <th>VehicleType</th>\n      <th>RegistrationYear</th>\n      <th>Gearbox</th>\n      <th>Power</th>\n      <th>Model</th>\n      <th>Kilometer</th>\n      <th>RegistrationMonth</th>\n      <th>FuelType</th>\n      <th>Brand</th>\n      <th>Repaired</th>\n      <th>DateCreated</th>\n      <th>NumberOfPictures</th>\n      <th>PostalCode</th>\n      <th>LastSeen</th>\n    </tr>\n  </thead>\n  <tbody>\n    <tr>\n      <th>0</th>\n      <td>2016-03-24 11:52:17</td>\n      <td>480</td>\n      <td>NaN</td>\n      <td>1993</td>\n      <td>manual</td>\n      <td>0</td>\n      <td>golf</td>\n      <td>150000</td>\n      <td>0</td>\n      <td>petrol</td>\n      <td>volkswagen</td>\n      <td>NaN</td>\n      <td>2016-03-24 00:00:00</td>\n      <td>0</td>\n      <td>70435</td>\n      <td>2016-04-07 03:16:57</td>\n    </tr>\n    <tr>\n      <th>1</th>\n      <td>2016-03-24 10:58:45</td>\n      <td>18300</td>\n      <td>coupe</td>\n      <td>2011</td>\n      <td>manual</td>\n      <td>190</td>\n      <td>NaN</td>\n      <td>125000</td>\n      <td>5</td>\n      <td>gasoline</td>\n      <td>audi</td>\n      <td>yes</td>\n      <td>2016-03-24 00:00:00</td>\n      <td>0</td>\n      <td>66954</td>\n      <td>2016-04-07 01:46:50</td>\n    </tr>\n    <tr>\n      <th>2</th>\n      <td>2016-03-14 12:52:21</td>\n      <td>9800</td>\n      <td>suv</td>\n      <td>2004</td>\n      <td>auto</td>\n      <td>163</td>\n      <td>grand</td>\n      <td>125000</td>\n      <td>8</td>\n      <td>gasoline</td>\n      <td>jeep</td>\n      <td>NaN</td>\n      <td>2016-03-14 00:00:00</td>\n      <td>0</td>\n      <td>90480</td>\n      <td>2016-04-05 12:47:46</td>\n    </tr>\n    <tr>\n      <th>3</th>\n      <td>2016-03-17 16:54:04</td>\n      <td>1500</td>\n      <td>small</td>\n      <td>2001</td>\n      <td>manual</td>\n      <td>75</td>\n      <td>golf</td>\n      <td>150000</td>\n      <td>6</td>\n      <td>petrol</td>\n      <td>volkswagen</td>\n      <td>no</td>\n      <td>2016-03-17 00:00:00</td>\n      <td>0</td>\n      <td>91074</td>\n      <td>2016-03-17 17:40:17</td>\n    </tr>\n    <tr>\n      <th>4</th>\n      <td>2016-03-31 17:25:20</td>\n      <td>3600</td>\n      <td>small</td>\n      <td>2008</td>\n      <td>manual</td>\n      <td>69</td>\n      <td>fabia</td>\n      <td>90000</td>\n      <td>7</td>\n      <td>gasoline</td>\n      <td>skoda</td>\n      <td>no</td>\n      <td>2016-03-31 00:00:00</td>\n      <td>0</td>\n      <td>60437</td>\n      <td>2016-04-06 10:17:21</td>\n    </tr>\n  </tbody>\n</table>\n</div>"
     },
     "execution_count": 33,
     "metadata": {},
     "output_type": "execute_result"
    }
   ],
   "source": [
    "frame.head()"
   ]
  },
  {
   "cell_type": "code",
   "execution_count": 34,
   "metadata": {
    "scrolled": false
   },
   "outputs": [
    {
     "name": "stdout",
     "output_type": "stream",
     "text": [
      "<class 'pandas.core.frame.DataFrame'>\n",
      "RangeIndex: 354369 entries, 0 to 354368\n",
      "Data columns (total 16 columns):\n",
      " #   Column             Non-Null Count   Dtype \n",
      "---  ------             --------------   ----- \n",
      " 0   DateCrawled        354369 non-null  object\n",
      " 1   Price              354369 non-null  int64 \n",
      " 2   VehicleType        316879 non-null  object\n",
      " 3   RegistrationYear   354369 non-null  int64 \n",
      " 4   Gearbox            334536 non-null  object\n",
      " 5   Power              354369 non-null  int64 \n",
      " 6   Model              334664 non-null  object\n",
      " 7   Kilometer          354369 non-null  int64 \n",
      " 8   RegistrationMonth  354369 non-null  int64 \n",
      " 9   FuelType           321474 non-null  object\n",
      " 10  Brand              354369 non-null  object\n",
      " 11  Repaired           283215 non-null  object\n",
      " 12  DateCreated        354369 non-null  object\n",
      " 13  NumberOfPictures   354369 non-null  int64 \n",
      " 14  PostalCode         354369 non-null  int64 \n",
      " 15  LastSeen           354369 non-null  object\n",
      "dtypes: int64(7), object(9)\n",
      "memory usage: 43.3+ MB\n"
     ]
    }
   ],
   "source": [
    "frame.info()"
   ]
  },
  {
   "cell_type": "code",
   "execution_count": 35,
   "metadata": {},
   "outputs": [],
   "source": [
    "\n",
    "frame[\"VehicleType\"] = frame[\"VehicleType\"].fillna(frame[\"VehicleType\"].mode().values[0])\n",
    "frame[\"Gearbox\"] = frame[\"Gearbox\"].fillna(frame[\"Gearbox\"].mode().values[0])\n",
    "frame[\"Model\"] = frame[\"Model\"].fillna(frame[\"Model\"].mode().values[0])\n",
    "frame[\"FuelType\"] = frame[\"FuelType\"].fillna(frame[\"FuelType\"].mode().values[0])\n",
    "\n",
    "frame[\"Repaired\"] = frame[\"Repaired\"].fillna(\"no\")"
   ]
  },
  {
   "cell_type": "markdown",
   "metadata": {},
   "source": [
    "При очистке данных от пропусков стоял выбор между полным удалением объектов с пропусками(из за того что мы не могли на основе других параметров объекта достоверно восстановить упущенную информацию) и заполнение их наиболее часто встречающимся значением(так как это все категорийные признаки). По моим подсчетам, удаление объектов с пропусками привело бы к потере более 20% данных, что критично"
   ]
  },
  {
   "cell_type": "markdown",
   "metadata": {},
   "source": [
    "Проверим, что значения категорийных признаков не дублируют друг друга "
   ]
  },
  {
   "cell_type": "code",
   "execution_count": 36,
   "metadata": {
    "scrolled": false
   },
   "outputs": [
    {
     "name": "stdout",
     "output_type": "stream",
     "text": [
      "VehicleType 0\n",
      "Gearbox 0\n",
      "Model 0\n",
      "FuelType 0\n",
      "Brand 0\n",
      "Repaired 0\n"
     ]
    }
   ],
   "source": [
    "objects_columns = [\"VehicleType\",\"Gearbox\",\"Model\",\"FuelType\",\"Brand\",\"Repaired\"]\n",
    "for column in objects_columns:\n",
    "    print(column, pd.Series(frame[column].unique()).str.lower().duplicated().sum())"
   ]
  },
  {
   "cell_type": "markdown",
   "metadata": {},
   "source": [
    "## Проверим дубликаты "
   ]
  },
  {
   "cell_type": "code",
   "execution_count": 37,
   "metadata": {
    "scrolled": true
   },
   "outputs": [
    {
     "data": {
      "text/plain": "5"
     },
     "execution_count": 37,
     "metadata": {},
     "output_type": "execute_result"
    }
   ],
   "source": [
    "frame.duplicated().sum()"
   ]
  },
  {
   "cell_type": "code",
   "execution_count": 38,
   "metadata": {
    "scrolled": true
   },
   "outputs": [
    {
     "data": {
      "text/plain": "0"
     },
     "execution_count": 38,
     "metadata": {},
     "output_type": "execute_result"
    }
   ],
   "source": [
    "frame = frame.drop_duplicates()\n",
    "frame.duplicated().sum()"
   ]
  },
  {
   "cell_type": "markdown",
   "metadata": {},
   "source": [
    "### Вывод"
   ]
  },
  {
   "cell_type": "markdown",
   "metadata": {},
   "source": [
    "дубликатов больше нет"
   ]
  },
  {
   "cell_type": "markdown",
   "metadata": {},
   "source": [
    "## Проверим значения"
   ]
  },
  {
   "cell_type": "code",
   "execution_count": 39,
   "metadata": {
    "scrolled": true
   },
   "outputs": [
    {
     "data": {
      "text/plain": "               Price  RegistrationYear          Power      Kilometer  \\\ncount  354364.000000     354364.000000  354364.000000  354364.000000   \nmean     4416.655608       2004.234471     110.093723  128211.373051   \nstd      4514.159690         90.228593     189.851590   37905.136957   \nmin         0.000000       1000.000000       0.000000    5000.000000   \n25%      1050.000000       1999.000000      69.000000  125000.000000   \n50%      2700.000000       2003.000000     105.000000  150000.000000   \n75%      6400.000000       2008.000000     143.000000  150000.000000   \nmax     20000.000000       9999.000000   20000.000000  150000.000000   \n\n       RegistrationMonth  NumberOfPictures     PostalCode  \ncount      354364.000000          354364.0  354364.000000  \nmean            5.714641               0.0   50508.461698  \nstd             3.726433               0.0   25783.124276  \nmin             0.000000               0.0    1067.000000  \n25%             3.000000               0.0   30165.000000  \n50%             6.000000               0.0   49409.500000  \n75%             9.000000               0.0   71083.000000  \nmax            12.000000               0.0   99998.000000  ",
      "text/html": "<div>\n<style scoped>\n    .dataframe tbody tr th:only-of-type {\n        vertical-align: middle;\n    }\n\n    .dataframe tbody tr th {\n        vertical-align: top;\n    }\n\n    .dataframe thead th {\n        text-align: right;\n    }\n</style>\n<table border=\"1\" class=\"dataframe\">\n  <thead>\n    <tr style=\"text-align: right;\">\n      <th></th>\n      <th>Price</th>\n      <th>RegistrationYear</th>\n      <th>Power</th>\n      <th>Kilometer</th>\n      <th>RegistrationMonth</th>\n      <th>NumberOfPictures</th>\n      <th>PostalCode</th>\n    </tr>\n  </thead>\n  <tbody>\n    <tr>\n      <th>count</th>\n      <td>354364.000000</td>\n      <td>354364.000000</td>\n      <td>354364.000000</td>\n      <td>354364.000000</td>\n      <td>354364.000000</td>\n      <td>354364.0</td>\n      <td>354364.000000</td>\n    </tr>\n    <tr>\n      <th>mean</th>\n      <td>4416.655608</td>\n      <td>2004.234471</td>\n      <td>110.093723</td>\n      <td>128211.373051</td>\n      <td>5.714641</td>\n      <td>0.0</td>\n      <td>50508.461698</td>\n    </tr>\n    <tr>\n      <th>std</th>\n      <td>4514.159690</td>\n      <td>90.228593</td>\n      <td>189.851590</td>\n      <td>37905.136957</td>\n      <td>3.726433</td>\n      <td>0.0</td>\n      <td>25783.124276</td>\n    </tr>\n    <tr>\n      <th>min</th>\n      <td>0.000000</td>\n      <td>1000.000000</td>\n      <td>0.000000</td>\n      <td>5000.000000</td>\n      <td>0.000000</td>\n      <td>0.0</td>\n      <td>1067.000000</td>\n    </tr>\n    <tr>\n      <th>25%</th>\n      <td>1050.000000</td>\n      <td>1999.000000</td>\n      <td>69.000000</td>\n      <td>125000.000000</td>\n      <td>3.000000</td>\n      <td>0.0</td>\n      <td>30165.000000</td>\n    </tr>\n    <tr>\n      <th>50%</th>\n      <td>2700.000000</td>\n      <td>2003.000000</td>\n      <td>105.000000</td>\n      <td>150000.000000</td>\n      <td>6.000000</td>\n      <td>0.0</td>\n      <td>49409.500000</td>\n    </tr>\n    <tr>\n      <th>75%</th>\n      <td>6400.000000</td>\n      <td>2008.000000</td>\n      <td>143.000000</td>\n      <td>150000.000000</td>\n      <td>9.000000</td>\n      <td>0.0</td>\n      <td>71083.000000</td>\n    </tr>\n    <tr>\n      <th>max</th>\n      <td>20000.000000</td>\n      <td>9999.000000</td>\n      <td>20000.000000</td>\n      <td>150000.000000</td>\n      <td>12.000000</td>\n      <td>0.0</td>\n      <td>99998.000000</td>\n    </tr>\n  </tbody>\n</table>\n</div>"
     },
     "execution_count": 39,
     "metadata": {},
     "output_type": "execute_result"
    }
   ],
   "source": [
    "frame.describe()"
   ]
  },
  {
   "cell_type": "markdown",
   "metadata": {},
   "source": [
    "### Удалим столбцы: которые больше не потребуются"
   ]
  },
  {
   "cell_type": "code",
   "execution_count": 40,
   "metadata": {
    "scrolled": true
   },
   "outputs": [],
   "source": [
    "frame_with_date = frame.copy()\n",
    "frame = frame.drop([\"DateCrawled\",\"DateCreated\",\"LastSeen\",\"NumberOfPictures\",\"PostalCode\"],axis = 1)"
   ]
  },
  {
   "cell_type": "markdown",
   "metadata": {},
   "source": [
    "### Результаты проверки"
   ]
  },
  {
   "cell_type": "markdown",
   "metadata": {},
   "source": [
    "Проанализируем значения числовых признаков перед применения к ним алгоритма очитки выбросов \n",
    "1. Можно заметить, что в столбце RegistrationYear присутствуют аномальные значения, предлагаю установить границы, в котором может находится значение этого столбца. А именно, год регистрации не может быть больше 2020, и не может быть меньше 1930. Все показания выше или ниже этих значений приведем к максимальной или минимальной границе __(признак не нуждается в поиске выбросов)__  \n",
    "\n",
    "1. Можно заметить, что в столбце RegistrationMonth, встречается значение 0, которое корректнее было бы изменить на 1 __(признак не нуждается в поиске выбросов)__  \n",
    "\n",
    "1. Так же в Power присутствуют аномальные значения (20 000 лошадиных сил), ограничим их мощностью БелАЗ(а), т.е. 3500 __(признак нуждается в поиске выбросов)__  \n",
    "\n",
    "1. Столбец Kilometer имеет достаточно реальные значения, поэтому смысла искать там выбросы нет __(признак не нуждается в поиске выбросов)__  \n",
    "\n",
    "1. Значения из столбца Price обладают высоким стандартным отклонениям, что пагубно будет влиять на работу алгоритма  __(признак нуждается в поиске выбросов)__  \n",
    "\n",
    "1. Такие признаки как NumberOfPictures и PostalCode __(признаки не нуждается в поиске выбросов)__ , так как не влияют на реальную стоимость автомобиля (их мы просто удалим)\n",
    "\n"
   ]
  },
  {
   "cell_type": "markdown",
   "metadata": {},
   "source": [
    "## Обработаем выбросы и границы значений в упомянутых выше признаках "
   ]
  },
  {
   "cell_type": "code",
   "execution_count": 41,
   "metadata": {},
   "outputs": [],
   "source": [
    "# RegistrationYear \n",
    "def Balance_RegistrationYear(value):\n",
    "    if value > 2020:\n",
    "        return 2020\n",
    "    elif value < 1930:\n",
    "        return 1930\n",
    "    else:\n",
    "        return value\n",
    "frame[\"RegistrationYear\"] = frame[\"RegistrationYear\"].apply(Balance_RegistrationYear)\n",
    "# RegistrationMonth\n",
    "frame.loc[frame['RegistrationMonth'] == 0, 'RegistrationMonth'] = 1\n",
    "# Power\n",
    "frame.loc[frame['Power'] > 3500, 'Power'] = 3500"
   ]
  },
  {
   "cell_type": "code",
   "execution_count": 42,
   "metadata": {},
   "outputs": [],
   "source": [
    "def remove_ouliers(frame,column):\n",
    "    q25=np.array(frame[column].quantile(0.25))\n",
    "    \n",
    "    q75=np.array(frame[column].quantile(0.75))\n",
    "    first_part=q25-1.5*(q75-q25)\n",
    "    second_part=q75+1.5*(q75-q25)\n",
    "    del_index = []\n",
    "    for index_value, value in zip(frame[column].index,frame[column]):\n",
    "        if second_part <= value or value <= first_part:\n",
    "            del_index.append(index_value)\n",
    "    \n",
    "    print('Количество строк, выбранных для удаления ' + str(column)+\":\",len(del_index))\n",
    "    return del_index"
   ]
  },
  {
   "cell_type": "code",
   "execution_count": 43,
   "metadata": {
    "scrolled": true
   },
   "outputs": [
    {
     "name": "stdout",
     "output_type": "stream",
     "text": [
      "Количество строк, выбранных для удаления Price: 18979\n",
      "Количество строк, выбранных для удаления Power: 5153\n",
      "Было удалено: 24132\n"
     ]
    }
   ],
   "source": [
    "array_num_col = [\"Price\",\"Power\"]\n",
    "count = 0 \n",
    "for column in array_num_col:\n",
    "    index_del = remove_ouliers(frame,column)\n",
    "    count += len(index_del)\n",
    "    frame = frame.drop(index_del,axis = 0)\n",
    "print(\"Было удалено:\", count)"
   ]
  },
  {
   "cell_type": "code",
   "execution_count": 44,
   "metadata": {
    "scrolled": true
   },
   "outputs": [
    {
     "data": {
      "text/plain": "                      Price  RegistrationYear     Power  Kilometer  \\\nPrice              1.000000          0.365565  0.433664  -0.279190   \nRegistrationYear   0.365565          1.000000  0.092088  -0.132255   \nPower              0.433664          0.092088  1.000000   0.134619   \nKilometer         -0.279190         -0.132255  0.134619   1.000000   \nRegistrationMonth  0.108351          0.042231  0.125639   0.015735   \n\n                   RegistrationMonth  \nPrice                       0.108351  \nRegistrationYear            0.042231  \nPower                       0.125639  \nKilometer                   0.015735  \nRegistrationMonth           1.000000  ",
      "text/html": "<div>\n<style scoped>\n    .dataframe tbody tr th:only-of-type {\n        vertical-align: middle;\n    }\n\n    .dataframe tbody tr th {\n        vertical-align: top;\n    }\n\n    .dataframe thead th {\n        text-align: right;\n    }\n</style>\n<table border=\"1\" class=\"dataframe\">\n  <thead>\n    <tr style=\"text-align: right;\">\n      <th></th>\n      <th>Price</th>\n      <th>RegistrationYear</th>\n      <th>Power</th>\n      <th>Kilometer</th>\n      <th>RegistrationMonth</th>\n    </tr>\n  </thead>\n  <tbody>\n    <tr>\n      <th>Price</th>\n      <td>1.000000</td>\n      <td>0.365565</td>\n      <td>0.433664</td>\n      <td>-0.279190</td>\n      <td>0.108351</td>\n    </tr>\n    <tr>\n      <th>RegistrationYear</th>\n      <td>0.365565</td>\n      <td>1.000000</td>\n      <td>0.092088</td>\n      <td>-0.132255</td>\n      <td>0.042231</td>\n    </tr>\n    <tr>\n      <th>Power</th>\n      <td>0.433664</td>\n      <td>0.092088</td>\n      <td>1.000000</td>\n      <td>0.134619</td>\n      <td>0.125639</td>\n    </tr>\n    <tr>\n      <th>Kilometer</th>\n      <td>-0.279190</td>\n      <td>-0.132255</td>\n      <td>0.134619</td>\n      <td>1.000000</td>\n      <td>0.015735</td>\n    </tr>\n    <tr>\n      <th>RegistrationMonth</th>\n      <td>0.108351</td>\n      <td>0.042231</td>\n      <td>0.125639</td>\n      <td>0.015735</td>\n      <td>1.000000</td>\n    </tr>\n  </tbody>\n</table>\n</div>"
     },
     "execution_count": 44,
     "metadata": {},
     "output_type": "execute_result"
    }
   ],
   "source": [
    "frame.corr()"
   ]
  },
  {
   "cell_type": "markdown",
   "metadata": {},
   "source": [
    "### Выводы\n",
    "\n",
    "- Пропуски были только в категорийных признаках, поэтому заполнения выполнял модой \n",
    "- Дубликатов внутри признаков найдено не было\n",
    "- Дубликаты объектов: было найдено 5 штук - удалены\n",
    "- Проверена корреляция: все в рамках разумных пределов, наиболее коррелирующим с целевим признаком является признак отвечающий за мощность \n",
    "- Данные были очищены от выбросов, суммарно было удалено 73 145 объектов, что составляет около 20%. Это достаточно большой процент, поэтому в случае низких результатов модели имеет смысл изменить(увеличить) коэффициент при межквартильном размахе, что уменьшит общий объем объектов идентифицирующих как выбросы (при коэффициенте равном 2 сумма количества удаленных объектов уменьшится ~20 000 (приблизительно 5% от изначальной выборки))"
   ]
  },
  {
   "cell_type": "markdown",
   "metadata": {},
   "source": [
    "# Разделим и закодируем выборки"
   ]
  },
  {
   "cell_type": "code",
   "execution_count": 45,
   "metadata": {},
   "outputs": [],
   "source": [
    "frame_ohe = frame.copy()\n",
    "frame_ohe = pd.get_dummies(frame_ohe)\n",
    "frame_light = frame.copy()\n",
    "frame_light = frame_light.astype({\"VehicleType\":'category',\n",
    "                                  \"Gearbox\":'category',\n",
    "                                  \"Model\":'category',\n",
    "                                  \"FuelType\":'category',\n",
    "                                  \"Brand\":'category',\n",
    "                                  \"Repaired\":'category'})"
   ]
  },
  {
   "cell_type": "markdown",
   "metadata": {},
   "source": [
    "Разделим данные на выборки"
   ]
  },
  {
   "cell_type": "code",
   "execution_count": 46,
   "metadata": {},
   "outputs": [],
   "source": [
    "trainX,testX,trainY,testY = train_test_split(frame_ohe.drop(\"Price\",axis = 1),\n",
    "                                             frame_ohe[\"Price\"],\n",
    "                                             test_size = 0.25,\n",
    "                                             random_state = 42)\n",
    "\n",
    "trainX_wo_ohe,testX_wo_ohe,trainY_wo_ohe,testY_wo_ohe = train_test_split(frame.drop(\"Price\",axis = 1),\n",
    "                                             frame[\"Price\"],\n",
    "                                             test_size = 0.25,\n",
    "                                             random_state = 42)\n",
    "(trainX_wo_ohe_light,\n",
    " testX_wo_ohe_light,\n",
    " trainY_wo_ohe_light,\n",
    " testY_wo_ohe_light) = train_test_split(frame_light.drop(\"Price\",axis = 1),\n",
    "                                             frame_light[\"Price\"],\n",
    "                                             test_size = 0.25,\n",
    "                                             random_state = 42)"
   ]
  },
  {
   "cell_type": "markdown",
   "metadata": {},
   "source": [
    "#  Обучение моделей"
   ]
  },
  {
   "cell_type": "code",
   "execution_count": 47,
   "metadata": {
    "scrolled": true
   },
   "outputs": [
    {
     "name": "stdout",
     "output_type": "stream",
     "text": [
      "891:\tlearn: 1447.4108144\ttest: 1449.7103904\tbest: 1449.7103904 (891)\ttotal: 2m 46s\tremaining: 20.1s\n",
      "892:\tlearn: 1447.3350477\ttest: 1449.6994585\tbest: 1449.6994585 (892)\ttotal: 2m 46s\tremaining: 20s\n",
      "893:\tlearn: 1447.2416593\ttest: 1449.6039926\tbest: 1449.6039926 (893)\ttotal: 2m 46s\tremaining: 19.8s\n",
      "894:\tlearn: 1447.2109733\ttest: 1449.5821005\tbest: 1449.5821005 (894)\ttotal: 2m 47s\tremaining: 19.6s\n",
      "895:\tlearn: 1447.1094118\ttest: 1449.5194172\tbest: 1449.5194172 (895)\ttotal: 2m 47s\tremaining: 19.4s\n",
      "896:\tlearn: 1447.0963846\ttest: 1449.5135627\tbest: 1449.5135627 (896)\ttotal: 2m 47s\tremaining: 19.2s\n",
      "897:\tlearn: 1447.0505994\ttest: 1449.5075682\tbest: 1449.5075682 (897)\ttotal: 2m 47s\tremaining: 19.1s\n",
      "898:\tlearn: 1447.0306289\ttest: 1449.4990871\tbest: 1449.4990871 (898)\ttotal: 2m 48s\tremaining: 18.9s\n",
      "899:\tlearn: 1446.9709848\ttest: 1449.4264455\tbest: 1449.4264455 (899)\ttotal: 2m 48s\tremaining: 18.7s\n",
      "900:\tlearn: 1446.8559184\ttest: 1449.3494960\tbest: 1449.3494960 (900)\ttotal: 2m 48s\tremaining: 18.5s\n",
      "901:\tlearn: 1446.7616159\ttest: 1449.2992560\tbest: 1449.2992560 (901)\ttotal: 2m 48s\tremaining: 18.3s\n",
      "902:\tlearn: 1446.7152075\ttest: 1449.2727796\tbest: 1449.2727796 (902)\ttotal: 2m 49s\tremaining: 18.2s\n",
      "903:\tlearn: 1446.6651168\ttest: 1449.2140584\tbest: 1449.2140584 (903)\ttotal: 2m 49s\tremaining: 18s\n",
      "904:\tlearn: 1446.5490953\ttest: 1449.1133339\tbest: 1449.1133339 (904)\ttotal: 2m 49s\tremaining: 17.8s\n",
      "905:\tlearn: 1446.4161327\ttest: 1449.0323203\tbest: 1449.0323203 (905)\ttotal: 2m 49s\tremaining: 17.6s\n",
      "906:\tlearn: 1446.3828107\ttest: 1448.9978455\tbest: 1448.9978455 (906)\ttotal: 2m 50s\tremaining: 17.4s\n",
      "907:\tlearn: 1446.2075508\ttest: 1448.8050910\tbest: 1448.8050910 (907)\ttotal: 2m 50s\tremaining: 17.3s\n",
      "908:\tlearn: 1446.1553010\ttest: 1448.7575458\tbest: 1448.7575458 (908)\ttotal: 2m 50s\tremaining: 17.1s\n",
      "909:\tlearn: 1446.0418368\ttest: 1448.7203533\tbest: 1448.7203533 (909)\ttotal: 2m 50s\tremaining: 16.9s\n",
      "910:\tlearn: 1446.0091643\ttest: 1448.6931889\tbest: 1448.6931889 (910)\ttotal: 2m 50s\tremaining: 16.7s\n",
      "911:\tlearn: 1445.9322293\ttest: 1448.6668086\tbest: 1448.6668086 (911)\ttotal: 2m 51s\tremaining: 16.5s\n",
      "912:\tlearn: 1445.8641613\ttest: 1448.5805591\tbest: 1448.5805591 (912)\ttotal: 2m 51s\tremaining: 16.3s\n",
      "913:\tlearn: 1445.8142683\ttest: 1448.5465127\tbest: 1448.5465127 (913)\ttotal: 2m 51s\tremaining: 16.2s\n",
      "914:\tlearn: 1445.7357225\ttest: 1448.4863203\tbest: 1448.4863203 (914)\ttotal: 2m 51s\tremaining: 16s\n",
      "915:\tlearn: 1445.6734085\ttest: 1448.4608244\tbest: 1448.4608244 (915)\ttotal: 2m 52s\tremaining: 15.8s\n",
      "916:\tlearn: 1445.5525039\ttest: 1448.3172089\tbest: 1448.3172089 (916)\ttotal: 2m 52s\tremaining: 15.6s\n",
      "917:\tlearn: 1445.4089419\ttest: 1448.2895929\tbest: 1448.2895929 (917)\ttotal: 2m 52s\tremaining: 15.4s\n",
      "918:\tlearn: 1445.4055614\ttest: 1448.2901175\tbest: 1448.2895929 (917)\ttotal: 2m 52s\tremaining: 15.2s\n",
      "919:\tlearn: 1445.3626781\ttest: 1448.2618940\tbest: 1448.2618940 (919)\ttotal: 2m 52s\tremaining: 15s\n",
      "920:\tlearn: 1445.3133432\ttest: 1448.2211658\tbest: 1448.2211658 (920)\ttotal: 2m 52s\tremaining: 14.8s\n",
      "921:\tlearn: 1445.2508459\ttest: 1448.2208572\tbest: 1448.2208572 (921)\ttotal: 2m 52s\tremaining: 14.6s\n",
      "922:\tlearn: 1445.1581535\ttest: 1448.2082788\tbest: 1448.2082788 (922)\ttotal: 2m 53s\tremaining: 14.4s\n",
      "923:\tlearn: 1445.0904184\ttest: 1448.1636739\tbest: 1448.1636739 (923)\ttotal: 2m 53s\tremaining: 14.3s\n",
      "924:\tlearn: 1445.0636451\ttest: 1448.1354435\tbest: 1448.1354435 (924)\ttotal: 2m 53s\tremaining: 14.1s\n",
      "925:\tlearn: 1445.0493535\ttest: 1448.1373870\tbest: 1448.1354435 (924)\ttotal: 2m 53s\tremaining: 13.9s\n",
      "926:\tlearn: 1444.9911225\ttest: 1448.1365559\tbest: 1448.1354435 (924)\ttotal: 2m 54s\tremaining: 13.7s\n",
      "927:\tlearn: 1444.9268598\ttest: 1448.1047471\tbest: 1448.1047471 (927)\ttotal: 2m 54s\tremaining: 13.5s\n",
      "928:\tlearn: 1444.9102266\ttest: 1448.1144212\tbest: 1448.1047471 (927)\ttotal: 2m 54s\tremaining: 13.3s\n",
      "929:\tlearn: 1444.7941464\ttest: 1448.0609641\tbest: 1448.0609641 (929)\ttotal: 2m 54s\tremaining: 13.1s\n",
      "930:\tlearn: 1444.6851364\ttest: 1447.9586129\tbest: 1447.9586129 (930)\ttotal: 2m 54s\tremaining: 12.9s\n",
      "931:\tlearn: 1444.6683405\ttest: 1447.9417543\tbest: 1447.9417543 (931)\ttotal: 2m 54s\tremaining: 12.8s\n",
      "932:\tlearn: 1444.6062208\ttest: 1447.8917753\tbest: 1447.8917753 (932)\ttotal: 2m 55s\tremaining: 12.6s\n",
      "933:\tlearn: 1444.5462178\ttest: 1447.8253591\tbest: 1447.8253591 (933)\ttotal: 2m 55s\tremaining: 12.4s\n",
      "934:\tlearn: 1444.4598249\ttest: 1447.7688362\tbest: 1447.7688362 (934)\ttotal: 2m 55s\tremaining: 12.2s\n",
      "935:\tlearn: 1444.3849024\ttest: 1447.7701472\tbest: 1447.7688362 (934)\ttotal: 2m 55s\tremaining: 12s\n",
      "936:\tlearn: 1444.2948391\ttest: 1447.7342428\tbest: 1447.7342428 (936)\ttotal: 2m 55s\tremaining: 11.8s\n",
      "937:\tlearn: 1444.1787835\ttest: 1447.6394887\tbest: 1447.6394887 (937)\ttotal: 2m 56s\tremaining: 11.6s\n",
      "938:\tlearn: 1444.0636622\ttest: 1447.5624100\tbest: 1447.5624100 (938)\ttotal: 2m 56s\tremaining: 11.5s\n",
      "939:\tlearn: 1443.9545860\ttest: 1447.5143722\tbest: 1447.5143722 (939)\ttotal: 2m 56s\tremaining: 11.3s\n",
      "940:\tlearn: 1443.9000518\ttest: 1447.4996371\tbest: 1447.4996371 (940)\ttotal: 2m 56s\tremaining: 11.1s\n",
      "941:\tlearn: 1443.7688703\ttest: 1447.3650966\tbest: 1447.3650966 (941)\ttotal: 2m 57s\tremaining: 10.9s\n",
      "942:\tlearn: 1443.7486632\ttest: 1447.3712972\tbest: 1447.3650966 (941)\ttotal: 2m 57s\tremaining: 10.7s\n",
      "943:\tlearn: 1443.7161326\ttest: 1447.3764801\tbest: 1447.3650966 (941)\ttotal: 2m 57s\tremaining: 10.5s\n",
      "944:\tlearn: 1443.6528455\ttest: 1447.3268692\tbest: 1447.3268692 (944)\ttotal: 2m 57s\tremaining: 10.3s\n",
      "945:\tlearn: 1443.6447010\ttest: 1447.3289363\tbest: 1447.3268692 (944)\ttotal: 2m 57s\tremaining: 10.2s\n",
      "946:\tlearn: 1443.5430423\ttest: 1447.2078148\tbest: 1447.2078148 (946)\ttotal: 2m 58s\tremaining: 9.98s\n",
      "947:\tlearn: 1443.5093293\ttest: 1447.2245949\tbest: 1447.2078148 (946)\ttotal: 2m 58s\tremaining: 9.79s\n",
      "948:\tlearn: 1443.4788166\ttest: 1447.2416952\tbest: 1447.2078148 (946)\ttotal: 2m 58s\tremaining: 9.61s\n",
      "949:\tlearn: 1443.4013627\ttest: 1447.1900699\tbest: 1447.1900699 (949)\ttotal: 2m 58s\tremaining: 9.42s\n",
      "950:\tlearn: 1443.3709835\ttest: 1447.1971934\tbest: 1447.1900699 (949)\ttotal: 2m 59s\tremaining: 9.23s\n",
      "951:\tlearn: 1443.3356848\ttest: 1447.1710175\tbest: 1447.1710175 (951)\ttotal: 2m 59s\tremaining: 9.04s\n",
      "952:\tlearn: 1443.2500486\ttest: 1447.0921862\tbest: 1447.0921862 (952)\ttotal: 2m 59s\tremaining: 8.86s\n",
      "953:\tlearn: 1443.2138753\ttest: 1447.0758699\tbest: 1447.0758699 (953)\ttotal: 2m 59s\tremaining: 8.67s\n",
      "954:\tlearn: 1443.1210698\ttest: 1447.0427634\tbest: 1447.0427634 (954)\ttotal: 3m\tremaining: 8.49s\n",
      "955:\tlearn: 1443.0286647\ttest: 1446.9816250\tbest: 1446.9816250 (955)\ttotal: 3m\tremaining: 8.3s\n",
      "956:\tlearn: 1443.0011126\ttest: 1446.9711488\tbest: 1446.9711488 (956)\ttotal: 3m\tremaining: 8.12s\n",
      "957:\tlearn: 1442.9415689\ttest: 1446.9211348\tbest: 1446.9211348 (957)\ttotal: 3m\tremaining: 7.92s\n",
      "958:\tlearn: 1442.8133729\ttest: 1446.8593304\tbest: 1446.8593304 (958)\ttotal: 3m\tremaining: 7.73s\n",
      "959:\tlearn: 1442.7075413\ttest: 1446.7749875\tbest: 1446.7749875 (959)\ttotal: 3m 1s\tremaining: 7.55s\n",
      "960:\tlearn: 1442.6509949\ttest: 1446.7211593\tbest: 1446.7211593 (960)\ttotal: 3m 1s\tremaining: 7.36s\n",
      "961:\tlearn: 1442.6216016\ttest: 1446.7158271\tbest: 1446.7158271 (961)\ttotal: 3m 1s\tremaining: 7.17s\n",
      "962:\tlearn: 1442.5742158\ttest: 1446.7092034\tbest: 1446.7092034 (962)\ttotal: 3m 1s\tremaining: 6.99s\n",
      "963:\tlearn: 1442.5351217\ttest: 1446.7166428\tbest: 1446.7092034 (962)\ttotal: 3m 2s\tremaining: 6.8s\n",
      "964:\tlearn: 1442.5038916\ttest: 1446.7028662\tbest: 1446.7028662 (964)\ttotal: 3m 2s\tremaining: 6.61s\n",
      "965:\tlearn: 1442.4758400\ttest: 1446.7013597\tbest: 1446.7013597 (965)\ttotal: 3m 2s\tremaining: 6.42s\n",
      "966:\tlearn: 1442.4706437\ttest: 1446.7039921\tbest: 1446.7013597 (965)\ttotal: 3m 2s\tremaining: 6.24s\n",
      "967:\tlearn: 1442.4252439\ttest: 1446.7060549\tbest: 1446.7013597 (965)\ttotal: 3m 2s\tremaining: 6.04s\n",
      "968:\tlearn: 1442.4128307\ttest: 1446.7109310\tbest: 1446.7013597 (965)\ttotal: 3m 2s\tremaining: 5.85s\n",
      "969:\tlearn: 1442.3554955\ttest: 1446.6810648\tbest: 1446.6810648 (969)\ttotal: 3m 3s\tremaining: 5.66s\n",
      "970:\tlearn: 1442.2864031\ttest: 1446.6242271\tbest: 1446.6242271 (970)\ttotal: 3m 3s\tremaining: 5.47s\n",
      "971:\tlearn: 1442.2790133\ttest: 1446.6156088\tbest: 1446.6156088 (971)\ttotal: 3m 3s\tremaining: 5.28s\n",
      "972:\tlearn: 1442.2493409\ttest: 1446.6321530\tbest: 1446.6156088 (971)\ttotal: 3m 3s\tremaining: 5.09s\n",
      "973:\tlearn: 1442.2184404\ttest: 1446.6237859\tbest: 1446.6156088 (971)\ttotal: 3m 3s\tremaining: 4.9s\n",
      "974:\tlearn: 1442.2029622\ttest: 1446.6335204\tbest: 1446.6156088 (971)\ttotal: 3m 3s\tremaining: 4.71s\n",
      "975:\tlearn: 1442.1379966\ttest: 1446.6658615\tbest: 1446.6156088 (971)\ttotal: 3m 4s\tremaining: 4.52s\n",
      "976:\tlearn: 1442.1072163\ttest: 1446.6471304\tbest: 1446.6156088 (971)\ttotal: 3m 4s\tremaining: 4.33s\n",
      "977:\tlearn: 1442.1003086\ttest: 1446.6379813\tbest: 1446.6156088 (971)\ttotal: 3m 4s\tremaining: 4.14s\n",
      "978:\tlearn: 1442.0506057\ttest: 1446.6093488\tbest: 1446.6093488 (978)\ttotal: 3m 4s\tremaining: 3.96s\n",
      "979:\tlearn: 1441.9845887\ttest: 1446.5606816\tbest: 1446.5606816 (979)\ttotal: 3m 4s\tremaining: 3.77s\n",
      "980:\tlearn: 1441.9510503\ttest: 1446.5590921\tbest: 1446.5590921 (980)\ttotal: 3m 4s\tremaining: 3.58s\n",
      "981:\tlearn: 1441.8648023\ttest: 1446.5154120\tbest: 1446.5154120 (981)\ttotal: 3m 5s\tremaining: 3.39s\n",
      "982:\tlearn: 1441.8028232\ttest: 1446.5323838\tbest: 1446.5154120 (981)\ttotal: 3m 5s\tremaining: 3.2s\n",
      "983:\tlearn: 1441.7575123\ttest: 1446.5308978\tbest: 1446.5154120 (981)\ttotal: 3m 5s\tremaining: 3.02s\n",
      "984:\tlearn: 1441.6688342\ttest: 1446.4908411\tbest: 1446.4908411 (984)\ttotal: 3m 5s\tremaining: 2.83s\n",
      "985:\tlearn: 1441.5554873\ttest: 1446.4568186\tbest: 1446.4568186 (985)\ttotal: 3m 6s\tremaining: 2.64s\n",
      "986:\tlearn: 1441.4801113\ttest: 1446.3663663\tbest: 1446.3663663 (986)\ttotal: 3m 6s\tremaining: 2.45s\n",
      "987:\tlearn: 1441.4346283\ttest: 1446.3088568\tbest: 1446.3088568 (987)\ttotal: 3m 6s\tremaining: 2.27s\n",
      "988:\tlearn: 1441.3668548\ttest: 1446.3299908\tbest: 1446.3088568 (987)\ttotal: 3m 6s\tremaining: 2.08s\n",
      "989:\tlearn: 1441.2921933\ttest: 1446.3012216\tbest: 1446.3012216 (989)\ttotal: 3m 7s\tremaining: 1.89s\n",
      "990:\tlearn: 1441.2742732\ttest: 1446.2811840\tbest: 1446.2811840 (990)\ttotal: 3m 7s\tremaining: 1.7s\n",
      "991:\tlearn: 1441.2339981\ttest: 1446.2529711\tbest: 1446.2529711 (991)\ttotal: 3m 7s\tremaining: 1.51s\n",
      "992:\tlearn: 1441.1897186\ttest: 1446.2113144\tbest: 1446.2113144 (992)\ttotal: 3m 7s\tremaining: 1.32s\n",
      "993:\tlearn: 1441.1691917\ttest: 1446.1788892\tbest: 1446.1788892 (993)\ttotal: 3m 8s\tremaining: 1.14s\n",
      "994:\tlearn: 1441.1475743\ttest: 1446.1758500\tbest: 1446.1758500 (994)\ttotal: 3m 8s\tremaining: 948ms\n",
      "995:\tlearn: 1441.1342434\ttest: 1446.1770197\tbest: 1446.1758500 (994)\ttotal: 3m 9s\tremaining: 760ms\n",
      "996:\tlearn: 1441.0864322\ttest: 1446.2305331\tbest: 1446.1758500 (994)\ttotal: 3m 9s\tremaining: 570ms\n",
      "997:\tlearn: 1440.9883346\ttest: 1446.1299400\tbest: 1446.1299400 (997)\ttotal: 3m 9s\tremaining: 380ms\n",
      "998:\tlearn: 1440.8837353\ttest: 1446.0391147\tbest: 1446.0391147 (998)\ttotal: 3m 9s\tremaining: 190ms\n",
      "999:\tlearn: 1440.7924691\ttest: 1445.9660657\tbest: 1445.9660657 (999)\ttotal: 3m 10s\tremaining: 0us\n",
      "\n",
      "bestTest = 1445.966066\n",
      "bestIteration = 999\n",
      "\n",
      "0:\tloss: 1445.9660657\tbest: 1445.9660657 (0)\ttotal: 3m 10s\tremaining: 28m 38s\n",
      "0:\tlearn: 3874.3554721\ttest: 3858.0523844\tbest: 3858.0523844 (0)\ttotal: 268ms\tremaining: 4m 27s\n",
      "1:\tlearn: 3116.3214407\ttest: 3098.2303427\tbest: 3098.2303427 (1)\ttotal: 459ms\tremaining: 3m 48s\n",
      "2:\tlearn: 2640.2402685\ttest: 2622.4627106\tbest: 2622.4627106 (2)\ttotal: 690ms\tremaining: 3m 49s\n",
      "3:\tlearn: 2326.3659610\ttest: 2307.9726801\tbest: 2307.9726801 (3)\ttotal: 913ms\tremaining: 3m 47s\n",
      "4:\tlearn: 2135.0266603\ttest: 2114.1588661\tbest: 2114.1588661 (4)\ttotal: 1.1s\tremaining: 3m 39s\n",
      "5:\tlearn: 2011.9915568\ttest: 1989.0722683\tbest: 1989.0722683 (5)\ttotal: 1.23s\tremaining: 3m 23s\n",
      "6:\tlearn: 1921.5911792\ttest: 1896.8370526\tbest: 1896.8370526 (6)\ttotal: 1.69s\tremaining: 3m 59s\n",
      "7:\tlearn: 1867.5454417\ttest: 1842.0420296\tbest: 1842.0420296 (7)\ttotal: 2.09s\tremaining: 4m 19s\n",
      "8:\tlearn: 1822.8626718\ttest: 1797.2732443\tbest: 1797.2732443 (8)\ttotal: 2.38s\tremaining: 4m 21s\n",
      "9:\tlearn: 1793.5094676\ttest: 1768.1208187\tbest: 1768.1208187 (9)\ttotal: 2.52s\tremaining: 4m 9s\n",
      "10:\tlearn: 1768.3286744\ttest: 1742.8331050\tbest: 1742.8331050 (10)\ttotal: 2.71s\tremaining: 4m 3s\n",
      "11:\tlearn: 1750.2588384\ttest: 1725.0203997\tbest: 1725.0203997 (11)\ttotal: 2.84s\tremaining: 3m 53s\n",
      "12:\tlearn: 1739.5632929\ttest: 1713.8185156\tbest: 1713.8185156 (12)\ttotal: 3.1s\tremaining: 3m 55s\n",
      "13:\tlearn: 1725.1338292\ttest: 1699.8091763\tbest: 1699.8091763 (13)\ttotal: 3.23s\tremaining: 3m 47s\n",
      "14:\tlearn: 1711.5932232\ttest: 1686.1270639\tbest: 1686.1270639 (14)\ttotal: 3.42s\tremaining: 3m 44s\n",
      "15:\tlearn: 1702.5892080\ttest: 1677.4098300\tbest: 1677.4098300 (15)\ttotal: 3.61s\tremaining: 3m 42s\n",
      "16:\tlearn: 1696.6061230\ttest: 1671.4310272\tbest: 1671.4310272 (16)\ttotal: 3.81s\tremaining: 3m 40s\n",
      "17:\tlearn: 1689.3684702\ttest: 1663.6071485\tbest: 1663.6071485 (17)\ttotal: 4.04s\tremaining: 3m 40s\n",
      "18:\tlearn: 1682.7607247\ttest: 1657.2626257\tbest: 1657.2626257 (18)\ttotal: 4.22s\tremaining: 3m 37s\n",
      "19:\tlearn: 1678.1990013\ttest: 1652.9769107\tbest: 1652.9769107 (19)\ttotal: 4.42s\tremaining: 3m 36s\n",
      "20:\tlearn: 1671.2674667\ttest: 1645.8583113\tbest: 1645.8583113 (20)\ttotal: 4.63s\tremaining: 3m 36s\n",
      "21:\tlearn: 1665.7564119\ttest: 1640.0193593\tbest: 1640.0193593 (21)\ttotal: 4.81s\tremaining: 3m 33s\n",
      "22:\tlearn: 1658.0171039\ttest: 1631.8368713\tbest: 1631.8368713 (22)\ttotal: 5.05s\tremaining: 3m 34s\n",
      "23:\tlearn: 1653.7483318\ttest: 1628.1890713\tbest: 1628.1890713 (23)\ttotal: 5.25s\tremaining: 3m 33s\n",
      "24:\tlearn: 1649.4215519\ttest: 1623.7065273\tbest: 1623.7065273 (24)\ttotal: 5.42s\tremaining: 3m 31s\n",
      "25:\tlearn: 1646.8005625\ttest: 1621.1157432\tbest: 1621.1157432 (25)\ttotal: 5.62s\tremaining: 3m 30s\n",
      "26:\tlearn: 1643.9907337\ttest: 1617.7577442\tbest: 1617.7577442 (26)\ttotal: 5.76s\tremaining: 3m 27s\n",
      "27:\tlearn: 1637.1175520\ttest: 1611.0764654\tbest: 1611.0764654 (27)\ttotal: 6.01s\tremaining: 3m 28s\n",
      "28:\tlearn: 1632.9425581\ttest: 1606.9273097\tbest: 1606.9273097 (28)\ttotal: 6.17s\tremaining: 3m 26s\n",
      "29:\tlearn: 1629.6796025\ttest: 1604.0296597\tbest: 1604.0296597 (29)\ttotal: 6.42s\tremaining: 3m 27s\n",
      "30:\tlearn: 1625.4467477\ttest: 1599.6365415\tbest: 1599.6365415 (30)\ttotal: 6.64s\tremaining: 3m 27s\n",
      "31:\tlearn: 1622.5130861\ttest: 1596.8506400\tbest: 1596.8506400 (31)\ttotal: 6.82s\tremaining: 3m 26s\n",
      "32:\tlearn: 1618.7514959\ttest: 1594.6644111\tbest: 1594.6644111 (32)\ttotal: 7.11s\tremaining: 3m 28s\n",
      "33:\tlearn: 1614.2044323\ttest: 1590.2050678\tbest: 1590.2050678 (33)\ttotal: 7.38s\tremaining: 3m 29s\n",
      "34:\tlearn: 1612.4229130\ttest: 1588.6734030\tbest: 1588.6734030 (34)\ttotal: 7.63s\tremaining: 3m 30s\n",
      "35:\tlearn: 1609.3186512\ttest: 1585.8187664\tbest: 1585.8187664 (35)\ttotal: 7.89s\tremaining: 3m 31s\n",
      "36:\tlearn: 1605.3221076\ttest: 1581.5848531\tbest: 1581.5848531 (36)\ttotal: 8.09s\tremaining: 3m 30s\n",
      "37:\tlearn: 1603.8214814\ttest: 1580.0751713\tbest: 1580.0751713 (37)\ttotal: 8.29s\tremaining: 3m 29s\n",
      "38:\tlearn: 1602.3817442\ttest: 1578.6179459\tbest: 1578.6179459 (38)\ttotal: 8.5s\tremaining: 3m 29s\n",
      "39:\tlearn: 1597.8132670\ttest: 1574.4672243\tbest: 1574.4672243 (39)\ttotal: 8.82s\tremaining: 3m 31s\n",
      "40:\tlearn: 1596.0603497\ttest: 1573.2074969\tbest: 1573.2074969 (40)\ttotal: 9.03s\tremaining: 3m 31s\n",
      "41:\tlearn: 1594.0570110\ttest: 1571.2267435\tbest: 1571.2267435 (41)\ttotal: 9.18s\tremaining: 3m 29s\n",
      "42:\tlearn: 1592.3732578\ttest: 1569.5182518\tbest: 1569.5182518 (42)\ttotal: 9.46s\tremaining: 3m 30s\n",
      "43:\tlearn: 1589.7335216\ttest: 1566.9699517\tbest: 1566.9699517 (43)\ttotal: 9.87s\tremaining: 3m 34s\n",
      "44:\tlearn: 1588.5279401\ttest: 1565.4545367\tbest: 1565.4545367 (44)\ttotal: 10.2s\tremaining: 3m 35s\n",
      "45:\tlearn: 1586.5050173\ttest: 1563.5676835\tbest: 1563.5676835 (45)\ttotal: 10.4s\tremaining: 3m 35s\n",
      "46:\tlearn: 1584.6303797\ttest: 1561.7700034\tbest: 1561.7700034 (46)\ttotal: 10.6s\tremaining: 3m 35s\n",
      "47:\tlearn: 1582.9160976\ttest: 1560.1140738\tbest: 1560.1140738 (47)\ttotal: 10.8s\tremaining: 3m 34s\n",
      "48:\tlearn: 1580.6745507\ttest: 1558.7521666\tbest: 1558.7521666 (48)\ttotal: 11.2s\tremaining: 3m 36s\n",
      "49:\tlearn: 1579.1891699\ttest: 1557.6396904\tbest: 1557.6396904 (49)\ttotal: 11.4s\tremaining: 3m 36s\n",
      "50:\tlearn: 1577.5939048\ttest: 1556.2973371\tbest: 1556.2973371 (50)\ttotal: 11.6s\tremaining: 3m 36s\n",
      "51:\tlearn: 1577.0251694\ttest: 1555.8029492\tbest: 1555.8029492 (51)\ttotal: 11.8s\tremaining: 3m 35s\n",
      "52:\tlearn: 1575.0809839\ttest: 1553.9024085\tbest: 1553.9024085 (52)\ttotal: 12s\tremaining: 3m 35s\n",
      "53:\tlearn: 1572.6187905\ttest: 1551.9766537\tbest: 1551.9766537 (53)\ttotal: 12.2s\tremaining: 3m 33s\n",
      "54:\tlearn: 1570.6132303\ttest: 1549.8271465\tbest: 1549.8271465 (54)\ttotal: 12.3s\tremaining: 3m 32s\n",
      "55:\tlearn: 1568.9140059\ttest: 1548.4960159\tbest: 1548.4960159 (55)\ttotal: 12.7s\tremaining: 3m 33s\n",
      "56:\tlearn: 1567.2046673\ttest: 1546.6219856\tbest: 1546.6219856 (56)\ttotal: 12.9s\tremaining: 3m 32s\n",
      "57:\tlearn: 1566.2752259\ttest: 1545.8039851\tbest: 1545.8039851 (57)\ttotal: 13s\tremaining: 3m 31s\n",
      "58:\tlearn: 1564.5234331\ttest: 1544.4062173\tbest: 1544.4062173 (58)\ttotal: 13.1s\tremaining: 3m 29s\n",
      "59:\tlearn: 1563.4822491\ttest: 1543.4558088\tbest: 1543.4558088 (59)\ttotal: 13.4s\tremaining: 3m 29s\n",
      "60:\tlearn: 1561.6940993\ttest: 1541.8669607\tbest: 1541.8669607 (60)\ttotal: 13.6s\tremaining: 3m 29s\n",
      "61:\tlearn: 1560.5194923\ttest: 1540.7040993\tbest: 1540.7040993 (61)\ttotal: 13.8s\tremaining: 3m 28s\n",
      "62:\tlearn: 1559.7876829\ttest: 1540.2971825\tbest: 1540.2971825 (62)\ttotal: 14s\tremaining: 3m 27s\n",
      "63:\tlearn: 1558.8204648\ttest: 1539.5438502\tbest: 1539.5438502 (63)\ttotal: 14.2s\tremaining: 3m 27s\n",
      "64:\tlearn: 1556.8186075\ttest: 1537.1783042\tbest: 1537.1783042 (64)\ttotal: 14.4s\tremaining: 3m 27s\n",
      "65:\tlearn: 1555.6613869\ttest: 1535.8376060\tbest: 1535.8376060 (65)\ttotal: 14.6s\tremaining: 3m 27s\n",
      "66:\tlearn: 1554.6761025\ttest: 1534.7464781\tbest: 1534.7464781 (66)\ttotal: 14.8s\tremaining: 3m 25s\n",
      "67:\tlearn: 1553.1721162\ttest: 1533.5542220\tbest: 1533.5542220 (67)\ttotal: 15s\tremaining: 3m 25s\n",
      "68:\tlearn: 1550.7673709\ttest: 1531.4633520\tbest: 1531.4633520 (68)\ttotal: 15.2s\tremaining: 3m 25s\n",
      "69:\tlearn: 1550.2382104\ttest: 1531.0259408\tbest: 1531.0259408 (69)\ttotal: 15.4s\tremaining: 3m 24s\n",
      "70:\tlearn: 1549.5654745\ttest: 1530.7238411\tbest: 1530.7238411 (70)\ttotal: 15.8s\tremaining: 3m 26s\n",
      "71:\tlearn: 1548.6727681\ttest: 1529.7482074\tbest: 1529.7482074 (71)\ttotal: 16s\tremaining: 3m 26s\n",
      "72:\tlearn: 1547.7608908\ttest: 1528.8894248\tbest: 1528.8894248 (72)\ttotal: 16.2s\tremaining: 3m 26s\n",
      "73:\tlearn: 1545.9744677\ttest: 1527.4620999\tbest: 1527.4620999 (73)\ttotal: 16.4s\tremaining: 3m 25s\n",
      "74:\tlearn: 1545.1372394\ttest: 1526.5657239\tbest: 1526.5657239 (74)\ttotal: 16.6s\tremaining: 3m 24s\n",
      "75:\tlearn: 1543.9237065\ttest: 1525.7411376\tbest: 1525.7411376 (75)\ttotal: 16.8s\tremaining: 3m 24s\n",
      "76:\tlearn: 1542.8121678\ttest: 1524.7646604\tbest: 1524.7646604 (76)\ttotal: 17.1s\tremaining: 3m 24s\n",
      "77:\tlearn: 1541.6249144\ttest: 1523.3279215\tbest: 1523.3279215 (77)\ttotal: 17.4s\tremaining: 3m 26s\n",
      "78:\tlearn: 1540.3150210\ttest: 1522.1050045\tbest: 1522.1050045 (78)\ttotal: 17.8s\tremaining: 3m 27s\n",
      "79:\tlearn: 1539.7636391\ttest: 1521.7677345\tbest: 1521.7677345 (79)\ttotal: 18.1s\tremaining: 3m 27s\n",
      "80:\tlearn: 1537.9182394\ttest: 1519.9440166\tbest: 1519.9440166 (80)\ttotal: 18.3s\tremaining: 3m 27s\n",
      "81:\tlearn: 1536.5843208\ttest: 1519.0387230\tbest: 1519.0387230 (81)\ttotal: 18.7s\tremaining: 3m 29s\n",
      "82:\tlearn: 1535.6472285\ttest: 1518.4212526\tbest: 1518.4212526 (82)\ttotal: 18.9s\tremaining: 3m 28s\n",
      "83:\tlearn: 1534.7227578\ttest: 1517.7361534\tbest: 1517.7361534 (83)\ttotal: 19.2s\tremaining: 3m 29s\n",
      "84:\tlearn: 1533.8035243\ttest: 1516.8835751\tbest: 1516.8835751 (84)\ttotal: 19.6s\tremaining: 3m 31s\n",
      "85:\tlearn: 1533.2213818\ttest: 1516.3760245\tbest: 1516.3760245 (85)\ttotal: 20.1s\tremaining: 3m 33s\n",
      "86:\tlearn: 1532.4683693\ttest: 1515.7160438\tbest: 1515.7160438 (86)\ttotal: 20.4s\tremaining: 3m 34s\n",
      "87:\tlearn: 1531.5310976\ttest: 1514.6981587\tbest: 1514.6981587 (87)\ttotal: 20.6s\tremaining: 3m 33s\n",
      "88:\tlearn: 1530.5932901\ttest: 1514.2878699\tbest: 1514.2878699 (88)\ttotal: 20.8s\tremaining: 3m 33s\n",
      "89:\tlearn: 1530.2273967\ttest: 1514.0215071\tbest: 1514.0215071 (89)\ttotal: 21s\tremaining: 3m 32s\n",
      "90:\tlearn: 1529.8699361\ttest: 1513.5644203\tbest: 1513.5644203 (90)\ttotal: 21.3s\tremaining: 3m 32s\n",
      "91:\tlearn: 1529.0046933\ttest: 1512.7876714\tbest: 1512.7876714 (91)\ttotal: 21.4s\tremaining: 3m 31s\n",
      "92:\tlearn: 1528.3651532\ttest: 1512.1784788\tbest: 1512.1784788 (92)\ttotal: 21.6s\tremaining: 3m 30s\n",
      "93:\tlearn: 1527.6421139\ttest: 1511.4624398\tbest: 1511.4624398 (93)\ttotal: 21.7s\tremaining: 3m 29s\n",
      "94:\tlearn: 1527.0496147\ttest: 1511.2244278\tbest: 1511.2244278 (94)\ttotal: 21.9s\tremaining: 3m 28s\n",
      "95:\tlearn: 1526.6101396\ttest: 1510.6612826\tbest: 1510.6612826 (95)\ttotal: 22.1s\tremaining: 3m 27s\n",
      "96:\tlearn: 1525.8426814\ttest: 1510.1323247\tbest: 1510.1323247 (96)\ttotal: 22.2s\tremaining: 3m 27s\n",
      "97:\tlearn: 1525.4054751\ttest: 1509.8930257\tbest: 1509.8930257 (97)\ttotal: 22.4s\tremaining: 3m 26s\n",
      "98:\tlearn: 1524.9203645\ttest: 1509.7678941\tbest: 1509.7678941 (98)\ttotal: 22.6s\tremaining: 3m 25s\n",
      "99:\tlearn: 1523.6685686\ttest: 1508.5932299\tbest: 1508.5932299 (99)\ttotal: 22.7s\tremaining: 3m 24s\n",
      "100:\tlearn: 1522.8935109\ttest: 1508.0674097\tbest: 1508.0674097 (100)\ttotal: 22.9s\tremaining: 3m 23s\n",
      "101:\tlearn: 1522.4481898\ttest: 1507.8377712\tbest: 1507.8377712 (101)\ttotal: 23.1s\tremaining: 3m 23s\n",
      "102:\tlearn: 1521.6829822\ttest: 1506.8699793\tbest: 1506.8699793 (102)\ttotal: 23.3s\tremaining: 3m 22s\n",
      "103:\tlearn: 1520.7900336\ttest: 1506.0005846\tbest: 1506.0005846 (103)\ttotal: 23.5s\tremaining: 3m 22s\n",
      "104:\tlearn: 1520.6707911\ttest: 1505.9400075\tbest: 1505.9400075 (104)\ttotal: 23.7s\tremaining: 3m 21s\n",
      "105:\tlearn: 1519.5043205\ttest: 1504.7714002\tbest: 1504.7714002 (105)\ttotal: 23.9s\tremaining: 3m 21s\n",
      "106:\tlearn: 1519.0980225\ttest: 1504.7102527\tbest: 1504.7102527 (106)\ttotal: 24.1s\tremaining: 3m 20s\n",
      "107:\tlearn: 1518.2711095\ttest: 1504.1262354\tbest: 1504.1262354 (107)\ttotal: 24.3s\tremaining: 3m 20s\n",
      "108:\tlearn: 1517.8002967\ttest: 1503.8789013\tbest: 1503.8789013 (108)\ttotal: 24.5s\tremaining: 3m 20s\n",
      "109:\tlearn: 1517.0324531\ttest: 1503.0994796\tbest: 1503.0994796 (109)\ttotal: 24.8s\tremaining: 3m 20s\n",
      "110:\tlearn: 1516.6524107\ttest: 1502.9236497\tbest: 1502.9236497 (110)\ttotal: 25s\tremaining: 3m 20s\n",
      "111:\tlearn: 1516.2261259\ttest: 1502.6302130\tbest: 1502.6302130 (111)\ttotal: 25.4s\tremaining: 3m 21s\n",
      "112:\tlearn: 1515.7287899\ttest: 1502.0320242\tbest: 1502.0320242 (112)\ttotal: 25.6s\tremaining: 3m 21s\n",
      "113:\tlearn: 1514.8600151\ttest: 1501.3313738\tbest: 1501.3313738 (113)\ttotal: 25.9s\tremaining: 3m 20s\n",
      "114:\tlearn: 1514.3298775\ttest: 1501.1639400\tbest: 1501.1639400 (114)\ttotal: 26.2s\tremaining: 3m 21s\n",
      "115:\tlearn: 1514.0759088\ttest: 1501.2231499\tbest: 1501.1639400 (114)\ttotal: 26.6s\tremaining: 3m 22s\n",
      "116:\tlearn: 1513.5327698\ttest: 1500.9820621\tbest: 1500.9820621 (116)\ttotal: 26.9s\tremaining: 3m 23s\n",
      "117:\tlearn: 1512.7453077\ttest: 1500.3731984\tbest: 1500.3731984 (117)\ttotal: 27.2s\tremaining: 3m 23s\n",
      "118:\tlearn: 1512.2678728\ttest: 1499.9140827\tbest: 1499.9140827 (118)\ttotal: 27.4s\tremaining: 3m 22s\n",
      "119:\tlearn: 1511.3337151\ttest: 1499.1860272\tbest: 1499.1860272 (119)\ttotal: 27.7s\tremaining: 3m 22s\n",
      "120:\tlearn: 1510.8418454\ttest: 1498.6926175\tbest: 1498.6926175 (120)\ttotal: 27.9s\tremaining: 3m 22s\n",
      "121:\tlearn: 1510.5063080\ttest: 1498.4555816\tbest: 1498.4555816 (121)\ttotal: 28s\tremaining: 3m 21s\n",
      "122:\tlearn: 1509.7330314\ttest: 1497.6894748\tbest: 1497.6894748 (122)\ttotal: 28.3s\tremaining: 3m 21s\n",
      "123:\tlearn: 1508.8763031\ttest: 1496.9285943\tbest: 1496.9285943 (123)\ttotal: 28.5s\tremaining: 3m 21s\n",
      "124:\tlearn: 1508.1210055\ttest: 1496.1544243\tbest: 1496.1544243 (124)\ttotal: 28.7s\tremaining: 3m 21s\n",
      "125:\tlearn: 1507.7475106\ttest: 1495.8212107\tbest: 1495.8212107 (125)\ttotal: 29s\tremaining: 3m 20s\n",
      "126:\tlearn: 1506.7739749\ttest: 1494.8792660\tbest: 1494.8792660 (126)\ttotal: 29.1s\tremaining: 3m 20s\n",
      "127:\tlearn: 1505.9648319\ttest: 1494.2117364\tbest: 1494.2117364 (127)\ttotal: 29.4s\tremaining: 3m 20s\n",
      "128:\tlearn: 1505.4155159\ttest: 1493.9746849\tbest: 1493.9746849 (128)\ttotal: 29.8s\tremaining: 3m 21s\n",
      "129:\tlearn: 1504.7572508\ttest: 1493.2783403\tbest: 1493.2783403 (129)\ttotal: 30.1s\tremaining: 3m 21s\n",
      "130:\tlearn: 1504.2837229\ttest: 1493.0046411\tbest: 1493.0046411 (130)\ttotal: 30.3s\tremaining: 3m 20s\n",
      "131:\tlearn: 1503.5994097\ttest: 1492.3530048\tbest: 1492.3530048 (131)\ttotal: 30.5s\tremaining: 3m 20s\n",
      "132:\tlearn: 1502.8989318\ttest: 1491.3760801\tbest: 1491.3760801 (132)\ttotal: 30.6s\tremaining: 3m 19s\n",
      "133:\tlearn: 1502.2728224\ttest: 1490.8010875\tbest: 1490.8010875 (133)\ttotal: 31s\tremaining: 3m 20s\n",
      "134:\tlearn: 1501.6176207\ttest: 1490.0321943\tbest: 1490.0321943 (134)\ttotal: 31.2s\tremaining: 3m 20s\n",
      "135:\tlearn: 1501.1076303\ttest: 1489.4324377\tbest: 1489.4324377 (135)\ttotal: 31.4s\tremaining: 3m 19s\n",
      "136:\tlearn: 1500.8395773\ttest: 1489.3488258\tbest: 1489.3488258 (136)\ttotal: 31.6s\tremaining: 3m 19s\n",
      "137:\tlearn: 1500.5627393\ttest: 1489.1183043\tbest: 1489.1183043 (137)\ttotal: 31.8s\tremaining: 3m 18s\n",
      "138:\tlearn: 1500.2568003\ttest: 1489.1518231\tbest: 1489.1183043 (137)\ttotal: 32s\tremaining: 3m 18s\n",
      "139:\tlearn: 1499.8363221\ttest: 1488.5377709\tbest: 1488.5377709 (139)\ttotal: 32.2s\tremaining: 3m 17s\n",
      "140:\tlearn: 1499.5855275\ttest: 1488.3044423\tbest: 1488.3044423 (140)\ttotal: 32.4s\tremaining: 3m 17s\n",
      "141:\tlearn: 1499.3297293\ttest: 1488.1120429\tbest: 1488.1120429 (141)\ttotal: 32.7s\tremaining: 3m 17s\n",
      "142:\tlearn: 1499.1034312\ttest: 1488.0416660\tbest: 1488.0416660 (142)\ttotal: 32.9s\tremaining: 3m 17s\n",
      "143:\tlearn: 1498.3747384\ttest: 1487.6299903\tbest: 1487.6299903 (143)\ttotal: 33.1s\tremaining: 3m 16s\n",
      "144:\tlearn: 1497.9435425\ttest: 1487.0691317\tbest: 1487.0691317 (144)\ttotal: 33.3s\tremaining: 3m 16s\n",
      "145:\tlearn: 1497.3312211\ttest: 1486.6872005\tbest: 1486.6872005 (145)\ttotal: 33.5s\tremaining: 3m 16s\n",
      "146:\tlearn: 1496.6321311\ttest: 1486.2047883\tbest: 1486.2047883 (146)\ttotal: 33.7s\tremaining: 3m 15s\n",
      "147:\tlearn: 1495.9833498\ttest: 1485.8101611\tbest: 1485.8101611 (147)\ttotal: 33.8s\tremaining: 3m 14s\n",
      "148:\tlearn: 1495.5225405\ttest: 1485.3749328\tbest: 1485.3749328 (148)\ttotal: 34s\tremaining: 3m 14s\n",
      "149:\tlearn: 1495.1493456\ttest: 1485.3852715\tbest: 1485.3749328 (148)\ttotal: 34.2s\tremaining: 3m 14s\n",
      "150:\tlearn: 1494.9926079\ttest: 1485.2852332\tbest: 1485.2852332 (150)\ttotal: 34.6s\tremaining: 3m 14s\n",
      "151:\tlearn: 1494.7329592\ttest: 1485.1831449\tbest: 1485.1831449 (151)\ttotal: 34.7s\tremaining: 3m 13s\n",
      "152:\tlearn: 1494.6017391\ttest: 1485.0984737\tbest: 1485.0984737 (152)\ttotal: 34.9s\tremaining: 3m 13s\n",
      "153:\tlearn: 1494.0475186\ttest: 1485.0121572\tbest: 1485.0121572 (153)\ttotal: 35.1s\tremaining: 3m 12s\n",
      "154:\tlearn: 1493.5717138\ttest: 1484.5956314\tbest: 1484.5956314 (154)\ttotal: 35.4s\tremaining: 3m 12s\n",
      "155:\tlearn: 1493.0605718\ttest: 1484.3066540\tbest: 1484.3066540 (155)\ttotal: 35.7s\tremaining: 3m 13s\n",
      "156:\tlearn: 1492.6736617\ttest: 1483.9994731\tbest: 1483.9994731 (156)\ttotal: 36s\tremaining: 3m 13s\n",
      "157:\tlearn: 1492.3290988\ttest: 1483.7511986\tbest: 1483.7511986 (157)\ttotal: 36.2s\tremaining: 3m 12s\n",
      "158:\tlearn: 1492.0485305\ttest: 1483.8735834\tbest: 1483.7511986 (157)\ttotal: 36.5s\tremaining: 3m 12s\n",
      "159:\tlearn: 1491.9176464\ttest: 1483.6828098\tbest: 1483.6828098 (159)\ttotal: 36.7s\tremaining: 3m 12s\n",
      "160:\tlearn: 1491.5027886\ttest: 1483.5114884\tbest: 1483.5114884 (160)\ttotal: 36.9s\tremaining: 3m 12s\n",
      "161:\tlearn: 1491.2802975\ttest: 1483.4541049\tbest: 1483.4541049 (161)\ttotal: 37.2s\tremaining: 3m 12s\n",
      "162:\tlearn: 1491.1305536\ttest: 1483.4420369\tbest: 1483.4420369 (162)\ttotal: 37.4s\tremaining: 3m 11s\n",
      "163:\tlearn: 1490.6157907\ttest: 1483.0330511\tbest: 1483.0330511 (163)\ttotal: 37.6s\tremaining: 3m 11s\n",
      "164:\tlearn: 1490.4888965\ttest: 1483.0025662\tbest: 1483.0025662 (164)\ttotal: 37.9s\tremaining: 3m 11s\n",
      "165:\tlearn: 1490.1910168\ttest: 1482.6620020\tbest: 1482.6620020 (165)\ttotal: 38.1s\tremaining: 3m 11s\n",
      "166:\tlearn: 1489.5423647\ttest: 1482.1790403\tbest: 1482.1790403 (166)\ttotal: 38.3s\tremaining: 3m 11s\n",
      "167:\tlearn: 1489.1700915\ttest: 1481.7037770\tbest: 1481.7037770 (167)\ttotal: 38.6s\tremaining: 3m 11s\n",
      "168:\tlearn: 1488.9149408\ttest: 1481.7565058\tbest: 1481.7037770 (167)\ttotal: 38.9s\tremaining: 3m 11s\n",
      "169:\tlearn: 1488.4838733\ttest: 1481.3954789\tbest: 1481.3954789 (169)\ttotal: 39.1s\tremaining: 3m 11s\n",
      "170:\tlearn: 1487.9800525\ttest: 1481.0621678\tbest: 1481.0621678 (170)\ttotal: 39.3s\tremaining: 3m 10s\n",
      "171:\tlearn: 1487.6477088\ttest: 1481.0218811\tbest: 1481.0218811 (171)\ttotal: 39.4s\tremaining: 3m 9s\n",
      "172:\tlearn: 1487.2353443\ttest: 1480.7532497\tbest: 1480.7532497 (172)\ttotal: 39.6s\tremaining: 3m 9s\n",
      "173:\tlearn: 1487.1004894\ttest: 1480.6420666\tbest: 1480.6420666 (173)\ttotal: 40.1s\tremaining: 3m 10s\n",
      "174:\tlearn: 1486.7245257\ttest: 1480.4432186\tbest: 1480.4432186 (174)\ttotal: 40.5s\tremaining: 3m 11s\n",
      "175:\tlearn: 1486.1757086\ttest: 1480.0471664\tbest: 1480.0471664 (175)\ttotal: 40.8s\tremaining: 3m 10s\n",
      "176:\tlearn: 1486.0116686\ttest: 1479.8551705\tbest: 1479.8551705 (176)\ttotal: 40.9s\tremaining: 3m 10s\n",
      "177:\tlearn: 1485.8032328\ttest: 1479.6943745\tbest: 1479.6943745 (177)\ttotal: 41.1s\tremaining: 3m 9s\n",
      "178:\tlearn: 1485.0727823\ttest: 1479.1938728\tbest: 1479.1938728 (178)\ttotal: 41.2s\tremaining: 3m 9s\n",
      "179:\tlearn: 1484.6551887\ttest: 1478.8699784\tbest: 1478.8699784 (179)\ttotal: 41.6s\tremaining: 3m 9s\n",
      "180:\tlearn: 1484.3278387\ttest: 1478.5866662\tbest: 1478.5866662 (180)\ttotal: 42s\tremaining: 3m 10s\n",
      "181:\tlearn: 1484.0784606\ttest: 1478.4941561\tbest: 1478.4941561 (181)\ttotal: 42.2s\tremaining: 3m 9s\n",
      "182:\tlearn: 1483.8226779\ttest: 1478.3018986\tbest: 1478.3018986 (182)\ttotal: 42.4s\tremaining: 3m 9s\n",
      "183:\tlearn: 1483.3506583\ttest: 1477.9481500\tbest: 1477.9481500 (183)\ttotal: 42.6s\tremaining: 3m 9s\n",
      "184:\tlearn: 1482.8758198\ttest: 1477.6659681\tbest: 1477.6659681 (184)\ttotal: 43s\tremaining: 3m 9s\n",
      "185:\tlearn: 1482.5392013\ttest: 1477.4738955\tbest: 1477.4738955 (185)\ttotal: 43.2s\tremaining: 3m 9s\n",
      "186:\tlearn: 1481.7638069\ttest: 1476.6779950\tbest: 1476.6779950 (186)\ttotal: 43.5s\tremaining: 3m 8s\n",
      "187:\tlearn: 1481.6378609\ttest: 1476.6608827\tbest: 1476.6608827 (187)\ttotal: 43.7s\tremaining: 3m 8s\n",
      "188:\tlearn: 1481.2055000\ttest: 1476.3143365\tbest: 1476.3143365 (188)\ttotal: 43.9s\tremaining: 3m 8s\n",
      "189:\tlearn: 1480.9657014\ttest: 1476.1156839\tbest: 1476.1156839 (189)\ttotal: 44.2s\tremaining: 3m 8s\n",
      "190:\tlearn: 1480.7074860\ttest: 1476.0227478\tbest: 1476.0227478 (190)\ttotal: 44.5s\tremaining: 3m 8s\n",
      "191:\tlearn: 1480.6705272\ttest: 1476.0353562\tbest: 1476.0227478 (190)\ttotal: 44.7s\tremaining: 3m 8s\n",
      "192:\tlearn: 1480.4541152\ttest: 1475.8682460\tbest: 1475.8682460 (192)\ttotal: 45s\tremaining: 3m 8s\n",
      "193:\tlearn: 1480.1182908\ttest: 1475.6174442\tbest: 1475.6174442 (193)\ttotal: 45.3s\tremaining: 3m 8s\n",
      "194:\tlearn: 1479.5424181\ttest: 1475.1203430\tbest: 1475.1203430 (194)\ttotal: 45.5s\tremaining: 3m 7s\n",
      "195:\tlearn: 1479.4589542\ttest: 1475.0632531\tbest: 1475.0632531 (195)\ttotal: 45.8s\tremaining: 3m 8s\n",
      "196:\tlearn: 1479.0429821\ttest: 1474.6576433\tbest: 1474.6576433 (196)\ttotal: 46.2s\tremaining: 3m 8s\n",
      "197:\tlearn: 1478.6361212\ttest: 1474.1739321\tbest: 1474.1739321 (197)\ttotal: 46.5s\tremaining: 3m 8s\n",
      "198:\tlearn: 1478.2874627\ttest: 1474.2952864\tbest: 1474.1739321 (197)\ttotal: 46.8s\tremaining: 3m 8s\n",
      "199:\tlearn: 1478.1716631\ttest: 1474.3189314\tbest: 1474.1739321 (197)\ttotal: 47.1s\tremaining: 3m 8s\n",
      "200:\tlearn: 1478.0063662\ttest: 1474.1207022\tbest: 1474.1207022 (200)\ttotal: 47.4s\tremaining: 3m 8s\n",
      "201:\tlearn: 1477.7389494\ttest: 1473.9413764\tbest: 1473.9413764 (201)\ttotal: 47.8s\tremaining: 3m 8s\n",
      "202:\tlearn: 1477.6009371\ttest: 1473.9402536\tbest: 1473.9402536 (202)\ttotal: 48s\tremaining: 3m 8s\n",
      "203:\tlearn: 1477.4386614\ttest: 1473.8356495\tbest: 1473.8356495 (203)\ttotal: 48.2s\tremaining: 3m 8s\n",
      "204:\tlearn: 1477.0463353\ttest: 1473.4642797\tbest: 1473.4642797 (204)\ttotal: 48.3s\tremaining: 3m 7s\n",
      "205:\tlearn: 1476.8224383\ttest: 1473.2602230\tbest: 1473.2602230 (205)\ttotal: 48.6s\tremaining: 3m 7s\n",
      "206:\tlearn: 1476.6355148\ttest: 1473.2605426\tbest: 1473.2602230 (205)\ttotal: 48.8s\tremaining: 3m 6s\n",
      "207:\tlearn: 1476.4980875\ttest: 1473.1205129\tbest: 1473.1205129 (207)\ttotal: 48.9s\tremaining: 3m 6s\n",
      "208:\tlearn: 1476.0028095\ttest: 1472.7385232\tbest: 1472.7385232 (208)\ttotal: 49.1s\tremaining: 3m 6s\n",
      "209:\tlearn: 1475.8184292\ttest: 1472.6081865\tbest: 1472.6081865 (209)\ttotal: 49.5s\tremaining: 3m 6s\n",
      "210:\tlearn: 1475.6997431\ttest: 1472.5503419\tbest: 1472.5503419 (210)\ttotal: 49.7s\tremaining: 3m 5s\n",
      "211:\tlearn: 1475.3339830\ttest: 1472.4338908\tbest: 1472.4338908 (211)\ttotal: 49.9s\tremaining: 3m 5s\n",
      "212:\tlearn: 1475.0713250\ttest: 1472.2718644\tbest: 1472.2718644 (212)\ttotal: 50.1s\tremaining: 3m 5s\n",
      "213:\tlearn: 1474.6290383\ttest: 1472.0747407\tbest: 1472.0747407 (213)\ttotal: 50.2s\tremaining: 3m 4s\n",
      "214:\tlearn: 1474.5556196\ttest: 1472.0838802\tbest: 1472.0747407 (213)\ttotal: 50.6s\tremaining: 3m 4s\n",
      "215:\tlearn: 1474.1946475\ttest: 1471.7994941\tbest: 1471.7994941 (215)\ttotal: 50.8s\tremaining: 3m 4s\n",
      "216:\tlearn: 1473.6455147\ttest: 1471.2480524\tbest: 1471.2480524 (216)\ttotal: 51.2s\tremaining: 3m 4s\n",
      "217:\tlearn: 1473.4698425\ttest: 1471.1021884\tbest: 1471.1021884 (217)\ttotal: 51.3s\tremaining: 3m 3s\n",
      "218:\tlearn: 1473.1629832\ttest: 1470.6867389\tbest: 1470.6867389 (218)\ttotal: 51.6s\tremaining: 3m 3s\n",
      "219:\tlearn: 1472.7093118\ttest: 1470.4470157\tbest: 1470.4470157 (219)\ttotal: 51.8s\tremaining: 3m 3s\n",
      "220:\tlearn: 1472.5937995\ttest: 1470.3862257\tbest: 1470.3862257 (220)\ttotal: 52s\tremaining: 3m 3s\n",
      "221:\tlearn: 1472.2085407\ttest: 1470.0472166\tbest: 1470.0472166 (221)\ttotal: 52.4s\tremaining: 3m 3s\n",
      "222:\tlearn: 1471.9147979\ttest: 1469.9152988\tbest: 1469.9152988 (222)\ttotal: 52.6s\tremaining: 3m 3s\n",
      "223:\tlearn: 1471.6593653\ttest: 1469.7965833\tbest: 1469.7965833 (223)\ttotal: 52.8s\tremaining: 3m 2s\n",
      "224:\tlearn: 1471.3130749\ttest: 1469.6115325\tbest: 1469.6115325 (224)\ttotal: 52.9s\tremaining: 3m 2s\n",
      "225:\tlearn: 1471.0758685\ttest: 1469.5496076\tbest: 1469.5496076 (225)\ttotal: 53.1s\tremaining: 3m 1s\n",
      "226:\tlearn: 1471.0008554\ttest: 1469.5115390\tbest: 1469.5115390 (226)\ttotal: 53.4s\tremaining: 3m 1s\n",
      "227:\tlearn: 1470.7312022\ttest: 1469.3116238\tbest: 1469.3116238 (227)\ttotal: 53.6s\tremaining: 3m 1s\n",
      "228:\tlearn: 1470.4450910\ttest: 1469.0514474\tbest: 1469.0514474 (228)\ttotal: 53.8s\tremaining: 3m 1s\n",
      "229:\tlearn: 1470.2011673\ttest: 1468.8967593\tbest: 1468.8967593 (229)\ttotal: 54s\tremaining: 3m\n",
      "230:\tlearn: 1469.9623832\ttest: 1468.7770382\tbest: 1468.7770382 (230)\ttotal: 54.3s\tremaining: 3m\n",
      "231:\tlearn: 1469.7477582\ttest: 1468.8390149\tbest: 1468.7770382 (230)\ttotal: 54.4s\tremaining: 3m\n",
      "232:\tlearn: 1469.1727719\ttest: 1468.3394991\tbest: 1468.3394991 (232)\ttotal: 54.7s\tremaining: 3m\n",
      "233:\tlearn: 1468.9289628\ttest: 1468.2219268\tbest: 1468.2219268 (233)\ttotal: 54.9s\tremaining: 2m 59s\n",
      "234:\tlearn: 1468.5758329\ttest: 1467.8745208\tbest: 1467.8745208 (234)\ttotal: 55.1s\tremaining: 2m 59s\n",
      "235:\tlearn: 1468.4762788\ttest: 1467.9217192\tbest: 1467.8745208 (234)\ttotal: 55.3s\tremaining: 2m 59s\n",
      "236:\tlearn: 1468.1949607\ttest: 1467.9380747\tbest: 1467.8745208 (234)\ttotal: 55.5s\tremaining: 2m 58s\n",
      "237:\tlearn: 1467.8537468\ttest: 1467.7767681\tbest: 1467.7767681 (237)\ttotal: 55.6s\tremaining: 2m 58s\n",
      "238:\tlearn: 1467.1725026\ttest: 1467.4834684\tbest: 1467.4834684 (238)\ttotal: 55.8s\tremaining: 2m 57s\n",
      "239:\tlearn: 1466.9124462\ttest: 1467.2763564\tbest: 1467.2763564 (239)\ttotal: 56s\tremaining: 2m 57s\n",
      "240:\tlearn: 1466.6852517\ttest: 1467.0256675\tbest: 1467.0256675 (240)\ttotal: 56.3s\tremaining: 2m 57s\n",
      "241:\tlearn: 1466.4872148\ttest: 1466.8217597\tbest: 1466.8217597 (241)\ttotal: 56.5s\tremaining: 2m 57s\n",
      "242:\tlearn: 1466.0003216\ttest: 1466.5104442\tbest: 1466.5104442 (242)\ttotal: 56.8s\tremaining: 2m 56s\n",
      "243:\tlearn: 1465.8425608\ttest: 1466.5028669\tbest: 1466.5028669 (243)\ttotal: 57s\tremaining: 2m 56s\n",
      "244:\tlearn: 1465.8084489\ttest: 1466.5056467\tbest: 1466.5028669 (243)\ttotal: 57.3s\tremaining: 2m 56s\n",
      "245:\tlearn: 1465.3760112\ttest: 1466.2732134\tbest: 1466.2732134 (245)\ttotal: 57.5s\tremaining: 2m 56s\n",
      "246:\tlearn: 1465.2281950\ttest: 1466.3224107\tbest: 1466.2732134 (245)\ttotal: 57.8s\tremaining: 2m 56s\n",
      "247:\tlearn: 1465.0448092\ttest: 1466.0698772\tbest: 1466.0698772 (247)\ttotal: 58.1s\tremaining: 2m 56s\n",
      "248:\tlearn: 1464.6408522\ttest: 1465.7484390\tbest: 1465.7484390 (248)\ttotal: 58.4s\tremaining: 2m 56s\n",
      "249:\tlearn: 1464.0438671\ttest: 1464.8459061\tbest: 1464.8459061 (249)\ttotal: 58.6s\tremaining: 2m 55s\n",
      "250:\tlearn: 1463.7728257\ttest: 1464.6890559\tbest: 1464.6890559 (250)\ttotal: 58.9s\tremaining: 2m 55s\n",
      "251:\tlearn: 1463.1892021\ttest: 1464.1749659\tbest: 1464.1749659 (251)\ttotal: 59.2s\tremaining: 2m 55s\n",
      "252:\tlearn: 1462.8012879\ttest: 1463.9131804\tbest: 1463.9131804 (252)\ttotal: 59.5s\tremaining: 2m 55s\n",
      "253:\tlearn: 1462.4116704\ttest: 1463.5589180\tbest: 1463.5589180 (253)\ttotal: 59.6s\tremaining: 2m 55s\n",
      "254:\tlearn: 1462.1341522\ttest: 1463.4481363\tbest: 1463.4481363 (254)\ttotal: 59.8s\tremaining: 2m 54s\n",
      "255:\tlearn: 1461.8277123\ttest: 1463.0406708\tbest: 1463.0406708 (255)\ttotal: 1m\tremaining: 2m 54s\n",
      "256:\tlearn: 1461.5924299\ttest: 1462.9990884\tbest: 1462.9990884 (256)\ttotal: 1m\tremaining: 2m 54s\n",
      "257:\tlearn: 1461.3357693\ttest: 1462.7675507\tbest: 1462.7675507 (257)\ttotal: 1m\tremaining: 2m 54s\n",
      "258:\tlearn: 1461.0879832\ttest: 1462.6494791\tbest: 1462.6494791 (258)\ttotal: 1m\tremaining: 2m 53s\n",
      "259:\tlearn: 1460.9564351\ttest: 1462.6535188\tbest: 1462.6494791 (258)\ttotal: 1m 1s\tremaining: 2m 53s\n",
      "260:\tlearn: 1460.6999181\ttest: 1462.4138181\tbest: 1462.4138181 (260)\ttotal: 1m 1s\tremaining: 2m 53s\n",
      "261:\tlearn: 1460.5741666\ttest: 1462.3425548\tbest: 1462.3425548 (261)\ttotal: 1m 1s\tremaining: 2m 53s\n",
      "262:\tlearn: 1460.5322397\ttest: 1462.3425228\tbest: 1462.3425228 (262)\ttotal: 1m 1s\tremaining: 2m 52s\n",
      "263:\tlearn: 1460.2766933\ttest: 1462.0183516\tbest: 1462.0183516 (263)\ttotal: 1m 1s\tremaining: 2m 52s\n",
      "264:\tlearn: 1460.2503113\ttest: 1462.0272298\tbest: 1462.0183516 (263)\ttotal: 1m 2s\tremaining: 2m 52s\n",
      "265:\tlearn: 1460.0898630\ttest: 1461.9637840\tbest: 1461.9637840 (265)\ttotal: 1m 2s\tremaining: 2m 52s\n",
      "266:\tlearn: 1459.8691756\ttest: 1461.8989339\tbest: 1461.8989339 (266)\ttotal: 1m 2s\tremaining: 2m 52s\n",
      "267:\tlearn: 1459.3230555\ttest: 1461.7364356\tbest: 1461.7364356 (267)\ttotal: 1m 2s\tremaining: 2m 52s\n",
      "268:\tlearn: 1459.1720796\ttest: 1461.6900494\tbest: 1461.6900494 (268)\ttotal: 1m 3s\tremaining: 2m 51s\n",
      "269:\tlearn: 1459.0104355\ttest: 1461.5472567\tbest: 1461.5472567 (269)\ttotal: 1m 3s\tremaining: 2m 51s\n",
      "270:\tlearn: 1458.9111571\ttest: 1461.5422075\tbest: 1461.5422075 (270)\ttotal: 1m 3s\tremaining: 2m 51s\n",
      "271:\tlearn: 1458.6998977\ttest: 1461.3908452\tbest: 1461.3908452 (271)\ttotal: 1m 3s\tremaining: 2m 50s\n",
      "272:\tlearn: 1458.6870469\ttest: 1461.3924367\tbest: 1461.3908452 (271)\ttotal: 1m 3s\tremaining: 2m 50s\n",
      "273:\tlearn: 1458.5470315\ttest: 1461.3689520\tbest: 1461.3689520 (273)\ttotal: 1m 4s\tremaining: 2m 50s\n",
      "274:\tlearn: 1458.3020856\ttest: 1461.1549029\tbest: 1461.1549029 (274)\ttotal: 1m 4s\tremaining: 2m 49s\n",
      "275:\tlearn: 1458.1038120\ttest: 1461.0996661\tbest: 1461.0996661 (275)\ttotal: 1m 4s\tremaining: 2m 49s\n",
      "276:\tlearn: 1457.8946609\ttest: 1460.9836205\tbest: 1460.9836205 (276)\ttotal: 1m 4s\tremaining: 2m 49s\n",
      "277:\tlearn: 1457.5174825\ttest: 1460.9140621\tbest: 1460.9140621 (277)\ttotal: 1m 5s\tremaining: 2m 49s\n",
      "278:\tlearn: 1457.3227084\ttest: 1460.7511461\tbest: 1460.7511461 (278)\ttotal: 1m 5s\tremaining: 2m 48s\n",
      "279:\tlearn: 1457.1770200\ttest: 1460.7359933\tbest: 1460.7359933 (279)\ttotal: 1m 5s\tremaining: 2m 48s\n",
      "280:\tlearn: 1457.1526415\ttest: 1460.7238627\tbest: 1460.7238627 (280)\ttotal: 1m 5s\tremaining: 2m 48s\n",
      "281:\tlearn: 1456.5205599\ttest: 1460.1122673\tbest: 1460.1122673 (281)\ttotal: 1m 6s\tremaining: 2m 48s\n",
      "282:\tlearn: 1456.2702489\ttest: 1459.9096906\tbest: 1459.9096906 (282)\ttotal: 1m 6s\tremaining: 2m 48s\n",
      "283:\tlearn: 1455.8580217\ttest: 1459.6550526\tbest: 1459.6550526 (283)\ttotal: 1m 6s\tremaining: 2m 48s\n",
      "284:\tlearn: 1455.7051117\ttest: 1459.5957832\tbest: 1459.5957832 (284)\ttotal: 1m 7s\tremaining: 2m 48s\n",
      "285:\tlearn: 1455.3070374\ttest: 1459.1113977\tbest: 1459.1113977 (285)\ttotal: 1m 7s\tremaining: 2m 47s\n",
      "286:\tlearn: 1455.1849885\ttest: 1459.0017990\tbest: 1459.0017990 (286)\ttotal: 1m 7s\tremaining: 2m 48s\n",
      "287:\tlearn: 1455.0546415\ttest: 1458.8199976\tbest: 1458.8199976 (287)\ttotal: 1m 8s\tremaining: 2m 48s\n",
      "288:\tlearn: 1454.8680695\ttest: 1458.8004882\tbest: 1458.8004882 (288)\ttotal: 1m 8s\tremaining: 2m 48s\n",
      "289:\tlearn: 1454.7924653\ttest: 1458.7764699\tbest: 1458.7764699 (289)\ttotal: 1m 8s\tremaining: 2m 47s\n",
      "290:\tlearn: 1454.6993322\ttest: 1458.6300034\tbest: 1458.6300034 (290)\ttotal: 1m 8s\tremaining: 2m 47s\n",
      "291:\tlearn: 1454.4061582\ttest: 1458.4685955\tbest: 1458.4685955 (291)\ttotal: 1m 9s\tremaining: 2m 47s\n",
      "292:\tlearn: 1454.2024675\ttest: 1458.3487039\tbest: 1458.3487039 (292)\ttotal: 1m 9s\tremaining: 2m 46s\n",
      "293:\tlearn: 1454.0383651\ttest: 1458.3134346\tbest: 1458.3134346 (293)\ttotal: 1m 9s\tremaining: 2m 46s\n",
      "294:\tlearn: 1453.9829679\ttest: 1458.2442935\tbest: 1458.2442935 (294)\ttotal: 1m 9s\tremaining: 2m 46s\n",
      "295:\tlearn: 1453.7121111\ttest: 1458.0162670\tbest: 1458.0162670 (295)\ttotal: 1m 10s\tremaining: 2m 46s\n",
      "296:\tlearn: 1453.6172198\ttest: 1457.9277276\tbest: 1457.9277276 (296)\ttotal: 1m 10s\tremaining: 2m 46s\n",
      "297:\tlearn: 1453.5423462\ttest: 1457.9427755\tbest: 1457.9277276 (296)\ttotal: 1m 10s\tremaining: 2m 46s\n",
      "298:\tlearn: 1453.4820799\ttest: 1457.8788405\tbest: 1457.8788405 (298)\ttotal: 1m 10s\tremaining: 2m 45s\n",
      "299:\tlearn: 1453.3685134\ttest: 1457.8244436\tbest: 1457.8244436 (299)\ttotal: 1m 10s\tremaining: 2m 45s\n",
      "300:\tlearn: 1453.1009403\ttest: 1457.6864655\tbest: 1457.6864655 (300)\ttotal: 1m 11s\tremaining: 2m 45s\n",
      "301:\tlearn: 1453.0395224\ttest: 1457.6754005\tbest: 1457.6754005 (301)\ttotal: 1m 11s\tremaining: 2m 44s\n",
      "302:\tlearn: 1452.9579794\ttest: 1457.6106869\tbest: 1457.6106869 (302)\ttotal: 1m 11s\tremaining: 2m 44s\n",
      "303:\tlearn: 1452.7364457\ttest: 1457.5351479\tbest: 1457.5351479 (303)\ttotal: 1m 11s\tremaining: 2m 44s\n",
      "304:\tlearn: 1452.5154441\ttest: 1457.3829847\tbest: 1457.3829847 (304)\ttotal: 1m 12s\tremaining: 2m 44s\n",
      "305:\tlearn: 1452.2940538\ttest: 1457.3309872\tbest: 1457.3309872 (305)\ttotal: 1m 12s\tremaining: 2m 44s\n",
      "306:\tlearn: 1452.2622637\ttest: 1457.3350494\tbest: 1457.3309872 (305)\ttotal: 1m 12s\tremaining: 2m 43s\n",
      "307:\tlearn: 1452.2338393\ttest: 1457.3414200\tbest: 1457.3309872 (305)\ttotal: 1m 12s\tremaining: 2m 43s\n",
      "308:\tlearn: 1451.9259569\ttest: 1457.2375022\tbest: 1457.2375022 (308)\ttotal: 1m 12s\tremaining: 2m 43s\n",
      "309:\tlearn: 1451.7818787\ttest: 1457.1517290\tbest: 1457.1517290 (309)\ttotal: 1m 13s\tremaining: 2m 42s\n",
      "310:\tlearn: 1451.5094907\ttest: 1457.0160809\tbest: 1457.0160809 (310)\ttotal: 1m 13s\tremaining: 2m 42s\n",
      "311:\tlearn: 1451.1658855\ttest: 1456.9169972\tbest: 1456.9169972 (311)\ttotal: 1m 13s\tremaining: 2m 42s\n",
      "312:\tlearn: 1450.8868177\ttest: 1456.6999715\tbest: 1456.6999715 (312)\ttotal: 1m 13s\tremaining: 2m 41s\n",
      "313:\tlearn: 1450.7596154\ttest: 1456.5336157\tbest: 1456.5336157 (313)\ttotal: 1m 13s\tremaining: 2m 41s\n",
      "314:\tlearn: 1450.7321010\ttest: 1456.5199082\tbest: 1456.5199082 (314)\ttotal: 1m 14s\tremaining: 2m 40s\n",
      "315:\tlearn: 1450.3941394\ttest: 1456.2776712\tbest: 1456.2776712 (315)\ttotal: 1m 14s\tremaining: 2m 40s\n",
      "316:\tlearn: 1450.3237489\ttest: 1456.2344700\tbest: 1456.2344700 (316)\ttotal: 1m 14s\tremaining: 2m 40s\n",
      "317:\tlearn: 1450.1019268\ttest: 1456.0474838\tbest: 1456.0474838 (317)\ttotal: 1m 14s\tremaining: 2m 40s\n",
      "318:\tlearn: 1449.7917728\ttest: 1455.8272045\tbest: 1455.8272045 (318)\ttotal: 1m 14s\tremaining: 2m 39s\n",
      "319:\tlearn: 1449.7081212\ttest: 1455.8056082\tbest: 1455.8056082 (319)\ttotal: 1m 14s\tremaining: 2m 39s\n",
      "320:\tlearn: 1449.5992886\ttest: 1455.8173569\tbest: 1455.8056082 (319)\ttotal: 1m 15s\tremaining: 2m 38s\n",
      "321:\tlearn: 1449.4462446\ttest: 1455.7524016\tbest: 1455.7524016 (321)\ttotal: 1m 15s\tremaining: 2m 39s\n",
      "322:\tlearn: 1449.2932452\ttest: 1455.7202369\tbest: 1455.7202369 (322)\ttotal: 1m 16s\tremaining: 2m 39s\n",
      "323:\tlearn: 1449.0203701\ttest: 1455.6110687\tbest: 1455.6110687 (323)\ttotal: 1m 16s\tremaining: 2m 39s\n",
      "324:\tlearn: 1448.6986287\ttest: 1455.7120351\tbest: 1455.6110687 (323)\ttotal: 1m 16s\tremaining: 2m 38s\n",
      "325:\tlearn: 1448.5207480\ttest: 1455.5844930\tbest: 1455.5844930 (325)\ttotal: 1m 16s\tremaining: 2m 38s\n",
      "326:\tlearn: 1448.4829035\ttest: 1455.5863410\tbest: 1455.5844930 (325)\ttotal: 1m 16s\tremaining: 2m 38s\n",
      "327:\tlearn: 1448.2399277\ttest: 1455.3463989\tbest: 1455.3463989 (327)\ttotal: 1m 17s\tremaining: 2m 38s\n",
      "328:\tlearn: 1447.9655884\ttest: 1455.2906089\tbest: 1455.2906089 (328)\ttotal: 1m 17s\tremaining: 2m 38s\n",
      "329:\tlearn: 1447.7878505\ttest: 1455.3343035\tbest: 1455.2906089 (328)\ttotal: 1m 18s\tremaining: 2m 38s\n",
      "330:\tlearn: 1447.7167470\ttest: 1455.3233606\tbest: 1455.2906089 (328)\ttotal: 1m 18s\tremaining: 2m 38s\n",
      "331:\tlearn: 1447.5897240\ttest: 1455.3100997\tbest: 1455.2906089 (328)\ttotal: 1m 18s\tremaining: 2m 38s\n",
      "332:\tlearn: 1447.3816932\ttest: 1455.2888904\tbest: 1455.2888904 (332)\ttotal: 1m 18s\tremaining: 2m 38s\n",
      "333:\tlearn: 1447.0783906\ttest: 1455.1911184\tbest: 1455.1911184 (333)\ttotal: 1m 19s\tremaining: 2m 37s\n",
      "334:\tlearn: 1446.9168866\ttest: 1455.0501974\tbest: 1455.0501974 (334)\ttotal: 1m 19s\tremaining: 2m 37s\n",
      "335:\tlearn: 1446.7981815\ttest: 1455.0000826\tbest: 1455.0000826 (335)\ttotal: 1m 19s\tremaining: 2m 37s\n",
      "336:\tlearn: 1446.7542863\ttest: 1454.9268904\tbest: 1454.9268904 (336)\ttotal: 1m 20s\tremaining: 2m 37s\n",
      "337:\tlearn: 1446.5813225\ttest: 1454.6643449\tbest: 1454.6643449 (337)\ttotal: 1m 20s\tremaining: 2m 37s\n",
      "338:\tlearn: 1446.3796873\ttest: 1454.4553256\tbest: 1454.4553256 (338)\ttotal: 1m 20s\tremaining: 2m 36s\n",
      "339:\tlearn: 1446.2496178\ttest: 1454.3656406\tbest: 1454.3656406 (339)\ttotal: 1m 20s\tremaining: 2m 36s\n",
      "340:\tlearn: 1446.0692522\ttest: 1454.3662542\tbest: 1454.3656406 (339)\ttotal: 1m 20s\tremaining: 2m 36s\n",
      "341:\tlearn: 1445.6397122\ttest: 1454.1435196\tbest: 1454.1435196 (341)\ttotal: 1m 20s\tremaining: 2m 35s\n",
      "342:\tlearn: 1445.5420259\ttest: 1454.1003941\tbest: 1454.1003941 (342)\ttotal: 1m 21s\tremaining: 2m 35s\n",
      "343:\tlearn: 1445.2001321\ttest: 1453.9432320\tbest: 1453.9432320 (343)\ttotal: 1m 21s\tremaining: 2m 35s\n",
      "344:\tlearn: 1445.1075685\ttest: 1453.8446152\tbest: 1453.8446152 (344)\ttotal: 1m 21s\tremaining: 2m 34s\n",
      "345:\tlearn: 1445.0122197\ttest: 1453.8438419\tbest: 1453.8438419 (345)\ttotal: 1m 21s\tremaining: 2m 34s\n",
      "346:\tlearn: 1444.7981972\ttest: 1453.7395342\tbest: 1453.7395342 (346)\ttotal: 1m 21s\tremaining: 2m 34s\n",
      "347:\tlearn: 1444.5975700\ttest: 1453.6231880\tbest: 1453.6231880 (347)\ttotal: 1m 22s\tremaining: 2m 33s\n",
      "348:\tlearn: 1444.4843003\ttest: 1453.6482036\tbest: 1453.6231880 (347)\ttotal: 1m 22s\tremaining: 2m 33s\n",
      "349:\tlearn: 1444.2350238\ttest: 1453.6406379\tbest: 1453.6231880 (347)\ttotal: 1m 22s\tremaining: 2m 33s\n",
      "350:\tlearn: 1444.1798672\ttest: 1453.6134141\tbest: 1453.6134141 (350)\ttotal: 1m 22s\tremaining: 2m 33s\n",
      "351:\tlearn: 1443.9612053\ttest: 1453.4328548\tbest: 1453.4328548 (351)\ttotal: 1m 23s\tremaining: 2m 32s\n",
      "352:\tlearn: 1443.6090016\ttest: 1453.2611161\tbest: 1453.2611161 (352)\ttotal: 1m 23s\tremaining: 2m 32s\n",
      "353:\tlearn: 1443.4041953\ttest: 1453.2183361\tbest: 1453.2183361 (353)\ttotal: 1m 23s\tremaining: 2m 32s\n",
      "354:\tlearn: 1443.2038656\ttest: 1453.0023035\tbest: 1453.0023035 (354)\ttotal: 1m 23s\tremaining: 2m 31s\n",
      "355:\tlearn: 1442.9244981\ttest: 1452.7543052\tbest: 1452.7543052 (355)\ttotal: 1m 23s\tremaining: 2m 31s\n",
      "356:\tlearn: 1442.5792757\ttest: 1452.5886450\tbest: 1452.5886450 (356)\ttotal: 1m 24s\tremaining: 2m 31s\n",
      "357:\tlearn: 1442.3856531\ttest: 1452.5150668\tbest: 1452.5150668 (357)\ttotal: 1m 24s\tremaining: 2m 31s\n",
      "358:\tlearn: 1442.2594848\ttest: 1452.4918925\tbest: 1452.4918925 (358)\ttotal: 1m 24s\tremaining: 2m 30s\n",
      "359:\tlearn: 1442.0093753\ttest: 1452.2646397\tbest: 1452.2646397 (359)\ttotal: 1m 24s\tremaining: 2m 30s\n",
      "360:\tlearn: 1441.8818420\ttest: 1452.2195291\tbest: 1452.2195291 (360)\ttotal: 1m 24s\tremaining: 2m 30s\n",
      "361:\tlearn: 1441.5715264\ttest: 1452.1418094\tbest: 1452.1418094 (361)\ttotal: 1m 25s\tremaining: 2m 30s\n",
      "362:\tlearn: 1441.2158159\ttest: 1451.8287770\tbest: 1451.8287770 (362)\ttotal: 1m 25s\tremaining: 2m 30s\n",
      "363:\tlearn: 1441.0005586\ttest: 1451.9462506\tbest: 1451.8287770 (362)\ttotal: 1m 25s\tremaining: 2m 29s\n",
      "364:\tlearn: 1440.8001186\ttest: 1451.7808765\tbest: 1451.7808765 (364)\ttotal: 1m 26s\tremaining: 2m 29s\n",
      "365:\tlearn: 1440.6672902\ttest: 1451.6730264\tbest: 1451.6730264 (365)\ttotal: 1m 26s\tremaining: 2m 29s\n",
      "366:\tlearn: 1440.4042983\ttest: 1451.5556232\tbest: 1451.5556232 (366)\ttotal: 1m 26s\tremaining: 2m 29s\n",
      "367:\tlearn: 1440.1148988\ttest: 1451.3248566\tbest: 1451.3248566 (367)\ttotal: 1m 26s\tremaining: 2m 29s\n",
      "368:\tlearn: 1439.9956253\ttest: 1451.3416660\tbest: 1451.3248566 (367)\ttotal: 1m 27s\tremaining: 2m 29s\n",
      "369:\tlearn: 1439.8433538\ttest: 1451.2748532\tbest: 1451.2748532 (369)\ttotal: 1m 27s\tremaining: 2m 28s\n",
      "370:\tlearn: 1439.7188417\ttest: 1451.1763896\tbest: 1451.1763896 (370)\ttotal: 1m 27s\tremaining: 2m 28s\n",
      "371:\tlearn: 1439.5689938\ttest: 1451.1177656\tbest: 1451.1177656 (371)\ttotal: 1m 27s\tremaining: 2m 28s\n"
     ]
    },
    {
     "ename": "KeyboardInterrupt",
     "evalue": "",
     "output_type": "error",
     "traceback": [
      "\u001B[0;31m---------------------------------------------------------------------------\u001B[0m",
      "\u001B[0;31mKeyboardInterrupt\u001B[0m                         Traceback (most recent call last)",
      "\u001B[0;32m<timed exec>\u001B[0m in \u001B[0;36m<module>\u001B[0;34m\u001B[0m\n",
      "\u001B[0;32m~/opt/anaconda3/lib/python3.9/site-packages/catboost/core.py\u001B[0m in \u001B[0;36mgrid_search\u001B[0;34m(self, param_grid, X, y, cv, partition_random_seed, calc_cv_statistics, search_by_train_test_split, refit, shuffle, stratified, train_size, verbose, plot, log_cout, log_cerr)\u001B[0m\n\u001B[1;32m   4012\u001B[0m                     \u001B[0;32mraise\u001B[0m \u001B[0mTypeError\u001B[0m\u001B[0;34m(\u001B[0m\u001B[0;34m'Parameter grid value is not iterable (key={!r}, value={!r})'\u001B[0m\u001B[0;34m.\u001B[0m\u001B[0mformat\u001B[0m\u001B[0;34m(\u001B[0m\u001B[0mkey\u001B[0m\u001B[0;34m,\u001B[0m \u001B[0mgrid\u001B[0m\u001B[0;34m[\u001B[0m\u001B[0mkey\u001B[0m\u001B[0;34m]\u001B[0m\u001B[0;34m)\u001B[0m\u001B[0;34m)\u001B[0m\u001B[0;34m\u001B[0m\u001B[0;34m\u001B[0m\u001B[0m\n\u001B[1;32m   4013\u001B[0m \u001B[0;34m\u001B[0m\u001B[0m\n\u001B[0;32m-> 4014\u001B[0;31m         return self._tune_hyperparams(\n\u001B[0m\u001B[1;32m   4015\u001B[0m             \u001B[0mparam_grid\u001B[0m\u001B[0;34m=\u001B[0m\u001B[0mparam_grid\u001B[0m\u001B[0;34m,\u001B[0m \u001B[0mX\u001B[0m\u001B[0;34m=\u001B[0m\u001B[0mX\u001B[0m\u001B[0;34m,\u001B[0m \u001B[0my\u001B[0m\u001B[0;34m=\u001B[0m\u001B[0my\u001B[0m\u001B[0;34m,\u001B[0m \u001B[0mcv\u001B[0m\u001B[0;34m=\u001B[0m\u001B[0mcv\u001B[0m\u001B[0;34m,\u001B[0m \u001B[0mn_iter\u001B[0m\u001B[0;34m=\u001B[0m\u001B[0;34m-\u001B[0m\u001B[0;36m1\u001B[0m\u001B[0;34m,\u001B[0m\u001B[0;34m\u001B[0m\u001B[0;34m\u001B[0m\u001B[0m\n\u001B[1;32m   4016\u001B[0m             \u001B[0mpartition_random_seed\u001B[0m\u001B[0;34m=\u001B[0m\u001B[0mpartition_random_seed\u001B[0m\u001B[0;34m,\u001B[0m \u001B[0mcalc_cv_statistics\u001B[0m\u001B[0;34m=\u001B[0m\u001B[0mcalc_cv_statistics\u001B[0m\u001B[0;34m,\u001B[0m\u001B[0;34m\u001B[0m\u001B[0;34m\u001B[0m\u001B[0m\n",
      "\u001B[0;32m~/opt/anaconda3/lib/python3.9/site-packages/catboost/core.py\u001B[0m in \u001B[0;36m_tune_hyperparams\u001B[0;34m(self, param_grid, X, y, cv, n_iter, partition_random_seed, calc_cv_statistics, search_by_train_test_split, refit, shuffle, stratified, train_size, verbose, plot, log_cout, log_cerr)\u001B[0m\n\u001B[1;32m   3909\u001B[0m \u001B[0;34m\u001B[0m\u001B[0m\n\u001B[1;32m   3910\u001B[0m         \u001B[0;32mwith\u001B[0m \u001B[0mlog_fixup\u001B[0m\u001B[0;34m(\u001B[0m\u001B[0mlog_cout\u001B[0m\u001B[0;34m,\u001B[0m \u001B[0mlog_cerr\u001B[0m\u001B[0;34m)\u001B[0m\u001B[0;34m,\u001B[0m \u001B[0mplot_wrapper\u001B[0m\u001B[0;34m(\u001B[0m\u001B[0mplot\u001B[0m\u001B[0;34m,\u001B[0m \u001B[0;34m[\u001B[0m\u001B[0m_get_train_dir\u001B[0m\u001B[0;34m(\u001B[0m\u001B[0mparams\u001B[0m\u001B[0;34m)\u001B[0m\u001B[0;34m]\u001B[0m\u001B[0;34m)\u001B[0m\u001B[0;34m:\u001B[0m\u001B[0;34m\u001B[0m\u001B[0;34m\u001B[0m\u001B[0m\n\u001B[0;32m-> 3911\u001B[0;31m             cv_result = self._object._tune_hyperparams(\n\u001B[0m\u001B[1;32m   3912\u001B[0m                 \u001B[0mparam_grid\u001B[0m\u001B[0;34m,\u001B[0m \u001B[0mtrain_params\u001B[0m\u001B[0;34m[\u001B[0m\u001B[0;34m\"train_pool\"\u001B[0m\u001B[0;34m]\u001B[0m\u001B[0;34m,\u001B[0m \u001B[0mparams\u001B[0m\u001B[0;34m,\u001B[0m \u001B[0mn_iter\u001B[0m\u001B[0;34m,\u001B[0m\u001B[0;34m\u001B[0m\u001B[0;34m\u001B[0m\u001B[0m\n\u001B[1;32m   3913\u001B[0m                 \u001B[0mfold_count\u001B[0m\u001B[0;34m,\u001B[0m \u001B[0mpartition_random_seed\u001B[0m\u001B[0;34m,\u001B[0m \u001B[0mshuffle\u001B[0m\u001B[0;34m,\u001B[0m \u001B[0mstratified\u001B[0m\u001B[0;34m,\u001B[0m \u001B[0mtrain_size\u001B[0m\u001B[0;34m,\u001B[0m\u001B[0;34m\u001B[0m\u001B[0;34m\u001B[0m\u001B[0m\n",
      "\u001B[0;32m_catboost.pyx\u001B[0m in \u001B[0;36m_catboost._CatBoost._tune_hyperparams\u001B[0;34m()\u001B[0m\n",
      "\u001B[0;32m_catboost.pyx\u001B[0m in \u001B[0;36m_catboost._CatBoost._tune_hyperparams\u001B[0;34m()\u001B[0m\n",
      "\u001B[0;31mKeyboardInterrupt\u001B[0m: "
     ]
    }
   ],
   "source": [
    "%%time\n",
    "# catboost\n",
    "catboost = CatBoostRegressor(loss_function='RMSE')\n",
    "parameters_cat = {'depth':[5,10], 'learning_rate':np.arange(0.1,1,0.2)}\n",
    "catboost_grid = catboost.grid_search(parameters_cat,\n",
    "            Pool(trainX_wo_ohe, trainY_wo_ohe, cat_features=[\"VehicleType\",\"Gearbox\",\n",
    "                                                             \"Model\",\"FuelType\",\n",
    "                                                             \"Brand\",\"Repaired\"]),\n",
    "            cv=3,\n",
    "            verbose=True,\n",
    "            plot=False)"
   ]
  },
  {
   "cell_type": "code",
   "execution_count": 48,
   "metadata": {},
   "outputs": [
    {
     "ename": "NameError",
     "evalue": "name 'catboost_grid' is not defined",
     "output_type": "error",
     "traceback": [
      "\u001B[0;31m---------------------------------------------------------------------------\u001B[0m",
      "\u001B[0;31mNameError\u001B[0m                                 Traceback (most recent call last)",
      "\u001B[0;32m/var/folders/47/4y0ypxc92dz4v_h0jyn8jqpw0000gn/T/ipykernel_1754/2153569615.py\u001B[0m in \u001B[0;36m<module>\u001B[0;34m\u001B[0m\n\u001B[0;32m----> 1\u001B[0;31m \u001B[0mcatboost_grid\u001B[0m\u001B[0;34m[\u001B[0m\u001B[0;34m\"params\"\u001B[0m\u001B[0;34m]\u001B[0m\u001B[0;34m\u001B[0m\u001B[0;34m\u001B[0m\u001B[0m\n\u001B[0m\u001B[1;32m      2\u001B[0m \u001B[0;34m\u001B[0m\u001B[0m\n",
      "\u001B[0;31mNameError\u001B[0m: name 'catboost_grid' is not defined"
     ]
    }
   ],
   "source": [
    "catboost_grid[\"params\"]\n"
   ]
  },
  {
   "cell_type": "markdown",
   "metadata": {},
   "source": [
    "Проверим время обучения с найденными параметрами для каждой модели"
   ]
  },
  {
   "cell_type": "code",
   "execution_count": null,
   "metadata": {},
   "outputs": [],
   "source": [
    "%%time\n",
    "final_cat = CatBoostRegressor(depth=catboost_grid[\"params\"][\"depth\"], \n",
    "                              learning_rate=catboost_grid[\"params\"]['learning_rate'],\n",
    "                              loss_function='RMSE',verbose=100)\n",
    "final_cat.fit(Pool(trainX_wo_ohe,trainY_wo_ohe,\n",
    "                   cat_features=[\"VehicleType\",\"Gearbox\",\"Model\",\"FuelType\",\"Brand\",\"Repaired\"]))"
   ]
  },
  {
   "cell_type": "code",
   "execution_count": null,
   "metadata": {},
   "outputs": [],
   "source": [
    "%%time\n",
    "# RandomForest\n",
    "RF = RandomForestRegressor(criterion = \"mse\",random_state=42,n_estimators = 100,n_jobs=-1)\n",
    "RF.fit(trainX,trainY)"
   ]
  },
  {
   "cell_type": "code",
   "execution_count": null,
   "metadata": {
    "scrolled": true
   },
   "outputs": [],
   "source": [
    "%%time\n",
    "# LightGBM\n",
    "lgb_train = lgb.Dataset(trainX_wo_ohe_light, trainY_wo_ohe_light)\n",
    "lgb_test = lgb.Dataset(testX_wo_ohe_light, testY_wo_ohe_light, reference=lgb_train)\n",
    "parameters_light = {'metric': 'l2', 'max_depth':10,\"random_state\": 42,\"learning_rate\":0.1}\n",
    "light = lgb.train(parameters_light,\n",
    "                lgb_train,\n",
    "                num_boost_round=1000,\n",
    "                valid_sets=[lgb_train, lgb_test],\n",
    "                verbose_eval=100)"
   ]
  },
  {
   "cell_type": "markdown",
   "metadata": {},
   "source": [
    "Посчитаем ошибку для каждой модели и определим время предсказаний"
   ]
  },
  {
   "cell_type": "code",
   "execution_count": null,
   "metadata": {
    "scrolled": true
   },
   "outputs": [],
   "source": [
    "%%time\n",
    "print(\"CatBoost:\",mean_squared_error(testY,final_cat.predict(testX_wo_ohe),squared=False))"
   ]
  },
  {
   "cell_type": "code",
   "execution_count": null,
   "metadata": {},
   "outputs": [],
   "source": [
    "%%time\n",
    "print(\"RandomForest:\",mean_squared_error(testY,RF.predict(testX),squared=False))"
   ]
  },
  {
   "cell_type": "code",
   "execution_count": null,
   "metadata": {},
   "outputs": [],
   "source": [
    "%%time\n",
    "print(\"LightGBM:\",(mean_squared_error(testY,light.predict(testX_wo_ohe_light),squared=False)))"
   ]
  },
  {
   "cell_type": "markdown",
   "metadata": {},
   "source": [
    "#  Анализ моделей"
   ]
  },
  {
   "cell_type": "markdown",
   "metadata": {},
   "source": [
    "Основываясь на полученные результаты можно сделать вывод, что наименьшую ошибку выдает CatBoost, на тренировку данной модели ушло ~1min 19s, в то же время на обучение рандомного леса ушло всего ~ 3min 25s, а на обучение LightGBM ушло 4.68 s с. Ошибки моделей не сильно отличаются, разница между крайними значениями составляет всего 3. В условии указано, что решающим факторами при выборе модели являются следующие показатели:\n",
    "- Время обучения\n",
    "- Время предсказания\n",
    "- Качество предсказаний\n",
    "\n",
    "Основываясь на данных признаков мы можем из удалить из сравнения RandomForest, так как его время обучения в разы больше.\n",
    "Чтобы определить какая из двух оставшихся моделей нам подойдет больше нужно выбрать что для нас важнее, время обучение или ошибка. И там, и там разрыв между моделями небольшой. LightGBM обучается в несколько раз быстрее. Менее выгодно всего в данном случае смотреться CatBoost, эта модель проигрывает по 2 из 3 параметров:\n",
    "- Время предсказания меньше (302 ms против 591 ms у LightGBM)\n",
    "- Качество предсказаний ниже (1410 против 1407 у LightGBM)\n",
    "- Время обучения больше (1min 19s против 4.68 s у LightGBM)\n",
    "\n",
    "Основываясь на этом, можно сделать вывод, что лучше всего подойдет модель построенная на LightGBM \n"
   ]
  }
 ],
 "metadata": {
  "kernelspec": {
   "display_name": "Python 3",
   "language": "python",
   "name": "python3"
  },
  "language_info": {
   "codemirror_mode": {
    "name": "ipython",
    "version": 3
   },
   "file_extension": ".py",
   "mimetype": "text/x-python",
   "name": "python",
   "nbconvert_exporter": "python",
   "pygments_lexer": "ipython3",
   "version": "3.8.3"
  },
  "toc": {
   "base_numbering": 1,
   "nav_menu": {},
   "number_sections": true,
   "sideBar": true,
   "skip_h1_title": false,
   "title_cell": "Содержание",
   "title_sidebar": "Contents",
   "toc_cell": true,
   "toc_position": {},
   "toc_section_display": true,
   "toc_window_display": true
  }
 },
 "nbformat": 4,
 "nbformat_minor": 2
}
