{
 "cells": [
  {
   "cell_type": "markdown",
   "source": [
    "<div style=\"border:solid Chocolate 2px; padding: 40px\">\n",
    "\n",
    " <b>Добрый день, Александр!</b>\n",
    "Меня зовут Ксения Цыганова, и я буду комментировать твою работу и помогать тебе сделать ее сильнее. В Практикуме мы общаемся на «ты», но если тебе это будет некомфортно, пожалуйста, скажи, и мы будем обращаться друг к другу на «вы».\n",
    "\n",
    "Все мои комментарии делятся на три вида:\n",
    "\n",
    "\n",
    "👍 Здесь все отлично, идем дальше! - <font color='green'> зеленый цвет </font>\n",
    "\n",
    "💡 Все хорошо, однако, можно оптимизировать или рассмотреть другие способы (необязательно для исполнения, чтобы пройти дальше) - <font color='gold'>желтый цвет</font>\n",
    "\n",
    "🤔 Необходимо внести исправления, без которых я не смогу принять проект - <font color='red'>красный цвет</font>\n",
    "\n",
    "\n",
    "Свои комментарии я буду выделять заголовком «комментарий ревьюера». Пожалуйста, не удаляй их, это поможет сократить время проверки на повторных ревью.Ты также можешь писать свои комментарии к моим и выделять их любым понравившимся способом, отличным от моего. Если у тебя будут возникать вопросы в течение нашей работы, я с радостью на них отвечу.\n",
    "\n",
    "Цель моего ревью не критика и не возможность дать тебе готовые ответы, это способ привести тебя в нужное русло, чтобы ты смог развить собственные идеи и решения. Твой будущий работодатель будет поступать похожим образом.\n",
    "\n",
    "   <b>У тебя все получится!</b>"
   ],
   "metadata": {
    "collapsed": false
   }
  },
  {
   "cell_type": "code",
   "execution_count": 94,
   "outputs": [],
   "source": [
    "import pandas as pd\n",
    "import numpy as np\n",
    "import matplotlib.pyplot as plt\n",
    "from catboost import CatBoostClassifier\n",
    "from sklearn.model_selection import train_test_split, GridSearchCV\n",
    "from sklearn.preprocessing import StandardScaler#%%\n",
    "import pandas as pd\n",
    "import numpy as np\n",
    "import matplotlib.pyplot as plt\n",
    "from catboost import CatBoostClassifier\n",
    "from sklearn.model_selection import train_test_split, GridSearchCV\n",
    "from sklearn.preprocessing import StandardScaler\n",
    "from sklearn.linear_model import LinearRegression\n",
    "from sklearn.metrics import mean_squared_error\n",
    "from sklearn.ensemble import RandomForestRegressor\n",
    "from catboost import Pool, CatBoostRegressor\n",
    "from sklearn.preprocessing import OrdinalEncoder\n",
    "from sklearn.model_selection import cross_val_score\n",
    "from sklearn.preprocessing import OneHotEncoder\n",
    "from sklearn.pipeline import Pipeline\n",
    "from sklearn.compose import ColumnTransformer\n",
    "from sklearn.compose import make_column_transformer\n"
   ],
   "metadata": {
    "collapsed": false
   }
  },
  {
   "cell_type": "markdown",
   "source": [
    "<div class=\"alert alert-success\">\n",
    "<h2> Комментарий ревьюера <a class=\"tocSkip\"> </h2>\n",
    "\n",
    "<b>Все отлично!👍:</b>\n",
    "\n",
    "Отлично, что все импорты собраны в одном месте в начале проекта. Это поможет в случае чего сразу увидеть, какие библиотеки следует доустановить."
   ],
   "metadata": {
    "collapsed": false
   }
  },
  {
   "cell_type": "markdown",
   "source": [
    "<div class=\"alert alert-warning\">\n",
    "    <h2> Комментарий ревьюера <a class=\"tocSkip\"> </h2>\n",
    "\n",
    "<b>Некоторые замечания и рекомендации💡:</b>\n",
    "\n",
    "Стоит учитывать рекомендации PEP-8 при оформлении проекта, в том числе импортов. С ними можно познакомиться по ссылке: https://pythonworld.ru/osnovy/pep-8-rukovodstvo-po-napisaniyu-koda-na-python.html"
   ],
   "metadata": {
    "collapsed": false
   }
  },
  {
   "cell_type": "markdown",
   "source": [
    "# Определение стоимости автомобилей"
   ],
   "metadata": {
    "collapsed": false
   }
  },
  {
   "cell_type": "markdown",
   "source": [
    "Сервис по продаже автомобилей с пробегом «Не бит, не крашен» разрабатывает приложение для привлечения новых клиентов. В нём можно быстро узнать рыночную стоимость своего автомобиля. В вашем распоряжении исторические данные: технические характеристики, комплектации и цены автомобилей. Вам нужно построить модель для определения стоимости.\n",
    "\n",
    "Заказчику важны:\n",
    "\n",
    "- качество предсказания;\n",
    "- скорость предсказания;\n",
    "- время обучения."
   ],
   "metadata": {
    "collapsed": false
   }
  },
  {
   "cell_type": "markdown",
   "source": [
    "<div class=\"alert alert-success\">\n",
    "<h2> Комментарий ревьюера <a class=\"tocSkip\"> </h2>\n",
    "\n",
    "<b>Все отлично!👍:</b>\n",
    "\n",
    "Отлично, что есть вступительный комментарий."
   ],
   "metadata": {
    "collapsed": false
   }
  },
  {
   "cell_type": "markdown",
   "source": [
    "<div class=\"alert alert-warning\">\n",
    "    <h2> Комментарий ревьюера <a class=\"tocSkip\"> </h2>\n",
    "\n",
    "<b>Некоторые замечания и рекомендации💡:</b>\n",
    "\n",
    "Также можно добавить содержание для более легкой навигации по проекту."
   ],
   "metadata": {
    "collapsed": false
   }
  },
  {
   "cell_type": "markdown",
   "source": [
    "## Подготовка данных"
   ],
   "metadata": {
    "collapsed": false
   }
  },
  {
   "cell_type": "markdown",
   "source": [
    "Загрузим данные и сделаем первичный осмотр."
   ],
   "metadata": {
    "collapsed": false
   }
  },
  {
   "cell_type": "code",
   "execution_count": 95,
   "outputs": [
    {
     "data": {
      "text/plain": "                DateCrawled  Price  VehicleType  RegistrationYear Gearbox  \\\n0       2016-03-24 11:52:17    480          NaN              1993  manual   \n1       2016-03-24 10:58:45  18300        coupe              2011  manual   \n2       2016-03-14 12:52:21   9800          suv              2004    auto   \n3       2016-03-17 16:54:04   1500        small              2001  manual   \n4       2016-03-31 17:25:20   3600        small              2008  manual   \n...                     ...    ...          ...               ...     ...   \n354364  2016-03-21 09:50:58      0          NaN              2005  manual   \n354365  2016-03-14 17:48:27   2200          NaN              2005     NaN   \n354366  2016-03-05 19:56:21   1199  convertible              2000    auto   \n354367  2016-03-19 18:57:12   9200          bus              1996  manual   \n354368  2016-03-20 19:41:08   3400        wagon              2002  manual   \n\n        Power        Model  Kilometer  RegistrationMonth  FuelType  \\\n0           0         golf     150000                  0    petrol   \n1         190          NaN     125000                  5  gasoline   \n2         163        grand     125000                  8  gasoline   \n3          75         golf     150000                  6    petrol   \n4          69        fabia      90000                  7  gasoline   \n...       ...          ...        ...                ...       ...   \n354364      0         colt     150000                  7    petrol   \n354365      0          NaN      20000                  1       NaN   \n354366    101       fortwo     125000                  3    petrol   \n354367    102  transporter     150000                  3  gasoline   \n354368    100         golf     150000                  6  gasoline   \n\n                 Brand Repaired          DateCreated  NumberOfPictures  \\\n0           volkswagen      NaN  2016-03-24 00:00:00                 0   \n1                 audi      yes  2016-03-24 00:00:00                 0   \n2                 jeep      NaN  2016-03-14 00:00:00                 0   \n3           volkswagen       no  2016-03-17 00:00:00                 0   \n4                skoda       no  2016-03-31 00:00:00                 0   \n...                ...      ...                  ...               ...   \n354364      mitsubishi      yes  2016-03-21 00:00:00                 0   \n354365  sonstige_autos      NaN  2016-03-14 00:00:00                 0   \n354366           smart       no  2016-03-05 00:00:00                 0   \n354367      volkswagen       no  2016-03-19 00:00:00                 0   \n354368      volkswagen      NaN  2016-03-20 00:00:00                 0   \n\n        PostalCode             LastSeen  \n0            70435  2016-04-07 03:16:57  \n1            66954  2016-04-07 01:46:50  \n2            90480  2016-04-05 12:47:46  \n3            91074  2016-03-17 17:40:17  \n4            60437  2016-04-06 10:17:21  \n...            ...                  ...  \n354364        2694  2016-03-21 10:42:49  \n354365       39576  2016-04-06 00:46:52  \n354366       26135  2016-03-11 18:17:12  \n354367       87439  2016-04-07 07:15:26  \n354368       40764  2016-03-24 12:45:21  \n\n[354369 rows x 16 columns]",
      "text/html": "<div>\n<style scoped>\n    .dataframe tbody tr th:only-of-type {\n        vertical-align: middle;\n    }\n\n    .dataframe tbody tr th {\n        vertical-align: top;\n    }\n\n    .dataframe thead th {\n        text-align: right;\n    }\n</style>\n<table border=\"1\" class=\"dataframe\">\n  <thead>\n    <tr style=\"text-align: right;\">\n      <th></th>\n      <th>DateCrawled</th>\n      <th>Price</th>\n      <th>VehicleType</th>\n      <th>RegistrationYear</th>\n      <th>Gearbox</th>\n      <th>Power</th>\n      <th>Model</th>\n      <th>Kilometer</th>\n      <th>RegistrationMonth</th>\n      <th>FuelType</th>\n      <th>Brand</th>\n      <th>Repaired</th>\n      <th>DateCreated</th>\n      <th>NumberOfPictures</th>\n      <th>PostalCode</th>\n      <th>LastSeen</th>\n    </tr>\n  </thead>\n  <tbody>\n    <tr>\n      <th>0</th>\n      <td>2016-03-24 11:52:17</td>\n      <td>480</td>\n      <td>NaN</td>\n      <td>1993</td>\n      <td>manual</td>\n      <td>0</td>\n      <td>golf</td>\n      <td>150000</td>\n      <td>0</td>\n      <td>petrol</td>\n      <td>volkswagen</td>\n      <td>NaN</td>\n      <td>2016-03-24 00:00:00</td>\n      <td>0</td>\n      <td>70435</td>\n      <td>2016-04-07 03:16:57</td>\n    </tr>\n    <tr>\n      <th>1</th>\n      <td>2016-03-24 10:58:45</td>\n      <td>18300</td>\n      <td>coupe</td>\n      <td>2011</td>\n      <td>manual</td>\n      <td>190</td>\n      <td>NaN</td>\n      <td>125000</td>\n      <td>5</td>\n      <td>gasoline</td>\n      <td>audi</td>\n      <td>yes</td>\n      <td>2016-03-24 00:00:00</td>\n      <td>0</td>\n      <td>66954</td>\n      <td>2016-04-07 01:46:50</td>\n    </tr>\n    <tr>\n      <th>2</th>\n      <td>2016-03-14 12:52:21</td>\n      <td>9800</td>\n      <td>suv</td>\n      <td>2004</td>\n      <td>auto</td>\n      <td>163</td>\n      <td>grand</td>\n      <td>125000</td>\n      <td>8</td>\n      <td>gasoline</td>\n      <td>jeep</td>\n      <td>NaN</td>\n      <td>2016-03-14 00:00:00</td>\n      <td>0</td>\n      <td>90480</td>\n      <td>2016-04-05 12:47:46</td>\n    </tr>\n    <tr>\n      <th>3</th>\n      <td>2016-03-17 16:54:04</td>\n      <td>1500</td>\n      <td>small</td>\n      <td>2001</td>\n      <td>manual</td>\n      <td>75</td>\n      <td>golf</td>\n      <td>150000</td>\n      <td>6</td>\n      <td>petrol</td>\n      <td>volkswagen</td>\n      <td>no</td>\n      <td>2016-03-17 00:00:00</td>\n      <td>0</td>\n      <td>91074</td>\n      <td>2016-03-17 17:40:17</td>\n    </tr>\n    <tr>\n      <th>4</th>\n      <td>2016-03-31 17:25:20</td>\n      <td>3600</td>\n      <td>small</td>\n      <td>2008</td>\n      <td>manual</td>\n      <td>69</td>\n      <td>fabia</td>\n      <td>90000</td>\n      <td>7</td>\n      <td>gasoline</td>\n      <td>skoda</td>\n      <td>no</td>\n      <td>2016-03-31 00:00:00</td>\n      <td>0</td>\n      <td>60437</td>\n      <td>2016-04-06 10:17:21</td>\n    </tr>\n    <tr>\n      <th>...</th>\n      <td>...</td>\n      <td>...</td>\n      <td>...</td>\n      <td>...</td>\n      <td>...</td>\n      <td>...</td>\n      <td>...</td>\n      <td>...</td>\n      <td>...</td>\n      <td>...</td>\n      <td>...</td>\n      <td>...</td>\n      <td>...</td>\n      <td>...</td>\n      <td>...</td>\n      <td>...</td>\n    </tr>\n    <tr>\n      <th>354364</th>\n      <td>2016-03-21 09:50:58</td>\n      <td>0</td>\n      <td>NaN</td>\n      <td>2005</td>\n      <td>manual</td>\n      <td>0</td>\n      <td>colt</td>\n      <td>150000</td>\n      <td>7</td>\n      <td>petrol</td>\n      <td>mitsubishi</td>\n      <td>yes</td>\n      <td>2016-03-21 00:00:00</td>\n      <td>0</td>\n      <td>2694</td>\n      <td>2016-03-21 10:42:49</td>\n    </tr>\n    <tr>\n      <th>354365</th>\n      <td>2016-03-14 17:48:27</td>\n      <td>2200</td>\n      <td>NaN</td>\n      <td>2005</td>\n      <td>NaN</td>\n      <td>0</td>\n      <td>NaN</td>\n      <td>20000</td>\n      <td>1</td>\n      <td>NaN</td>\n      <td>sonstige_autos</td>\n      <td>NaN</td>\n      <td>2016-03-14 00:00:00</td>\n      <td>0</td>\n      <td>39576</td>\n      <td>2016-04-06 00:46:52</td>\n    </tr>\n    <tr>\n      <th>354366</th>\n      <td>2016-03-05 19:56:21</td>\n      <td>1199</td>\n      <td>convertible</td>\n      <td>2000</td>\n      <td>auto</td>\n      <td>101</td>\n      <td>fortwo</td>\n      <td>125000</td>\n      <td>3</td>\n      <td>petrol</td>\n      <td>smart</td>\n      <td>no</td>\n      <td>2016-03-05 00:00:00</td>\n      <td>0</td>\n      <td>26135</td>\n      <td>2016-03-11 18:17:12</td>\n    </tr>\n    <tr>\n      <th>354367</th>\n      <td>2016-03-19 18:57:12</td>\n      <td>9200</td>\n      <td>bus</td>\n      <td>1996</td>\n      <td>manual</td>\n      <td>102</td>\n      <td>transporter</td>\n      <td>150000</td>\n      <td>3</td>\n      <td>gasoline</td>\n      <td>volkswagen</td>\n      <td>no</td>\n      <td>2016-03-19 00:00:00</td>\n      <td>0</td>\n      <td>87439</td>\n      <td>2016-04-07 07:15:26</td>\n    </tr>\n    <tr>\n      <th>354368</th>\n      <td>2016-03-20 19:41:08</td>\n      <td>3400</td>\n      <td>wagon</td>\n      <td>2002</td>\n      <td>manual</td>\n      <td>100</td>\n      <td>golf</td>\n      <td>150000</td>\n      <td>6</td>\n      <td>gasoline</td>\n      <td>volkswagen</td>\n      <td>NaN</td>\n      <td>2016-03-20 00:00:00</td>\n      <td>0</td>\n      <td>40764</td>\n      <td>2016-03-24 12:45:21</td>\n    </tr>\n  </tbody>\n</table>\n<p>354369 rows × 16 columns</p>\n</div>"
     },
     "execution_count": 95,
     "metadata": {},
     "output_type": "execute_result"
    }
   ],
   "source": [
    "data = pd.read_csv('../datasets/autos.csv')\n",
    "data"
   ],
   "metadata": {
    "collapsed": false
   }
  },
  {
   "cell_type": "markdown",
   "source": [
    "<div class=\"alert alert-warning\">\n",
    "    <h2> Комментарий ревьюера <a class=\"tocSkip\"> </h2>\n",
    "\n",
    "<b>Некоторые замечания и рекомендации💡:</b>\n",
    "\n",
    "Для загрузки данных можно использовать библиотеку os или констукцию try/except. Это поможет работать работать с проектом как локально, так и через Jupyter Hub, не внося дополнительных правок.\n",
    "\n",
    "Также была ошибка в пути к файлу, я поправила. Пожалуйста, в следующий раз, будь более внимателен к этому."
   ],
   "metadata": {
    "collapsed": false
   }
  },
  {
   "cell_type": "code",
   "execution_count": 96,
   "outputs": [
    {
     "name": "stdout",
     "output_type": "stream",
     "text": [
      "<class 'pandas.core.frame.DataFrame'>\n",
      "RangeIndex: 354369 entries, 0 to 354368\n",
      "Data columns (total 16 columns):\n",
      " #   Column             Non-Null Count   Dtype \n",
      "---  ------             --------------   ----- \n",
      " 0   DateCrawled        354369 non-null  object\n",
      " 1   Price              354369 non-null  int64 \n",
      " 2   VehicleType        316879 non-null  object\n",
      " 3   RegistrationYear   354369 non-null  int64 \n",
      " 4   Gearbox            334536 non-null  object\n",
      " 5   Power              354369 non-null  int64 \n",
      " 6   Model              334664 non-null  object\n",
      " 7   Kilometer          354369 non-null  int64 \n",
      " 8   RegistrationMonth  354369 non-null  int64 \n",
      " 9   FuelType           321474 non-null  object\n",
      " 10  Brand              354369 non-null  object\n",
      " 11  Repaired           283215 non-null  object\n",
      " 12  DateCreated        354369 non-null  object\n",
      " 13  NumberOfPictures   354369 non-null  int64 \n",
      " 14  PostalCode         354369 non-null  int64 \n",
      " 15  LastSeen           354369 non-null  object\n",
      "dtypes: int64(7), object(9)\n",
      "memory usage: 43.3+ MB\n"
     ]
    }
   ],
   "source": [
    "data.info()"
   ],
   "metadata": {
    "collapsed": false
   }
  },
  {
   "cell_type": "markdown",
   "source": [
    "Данные не в чистом виде, присутсвуют как и ошибки приведения типов, так и пропуски в данных, будем исправлять!"
   ],
   "metadata": {
    "collapsed": false
   }
  },
  {
   "cell_type": "code",
   "execution_count": 97,
   "outputs": [
    {
     "data": {
      "text/plain": "               Price  RegistrationYear          Power      Kilometer  \\\ncount  354369.000000     354369.000000  354369.000000  354369.000000   \nmean     4416.656776       2004.234448     110.094337  128211.172535   \nstd      4514.158514         90.227958     189.850405   37905.341530   \nmin         0.000000       1000.000000       0.000000    5000.000000   \n25%      1050.000000       1999.000000      69.000000  125000.000000   \n50%      2700.000000       2003.000000     105.000000  150000.000000   \n75%      6400.000000       2008.000000     143.000000  150000.000000   \nmax     20000.000000       9999.000000   20000.000000  150000.000000   \n\n       RegistrationMonth  NumberOfPictures     PostalCode  \ncount      354369.000000          354369.0  354369.000000  \nmean            5.714645               0.0   50508.689087  \nstd             3.726421               0.0   25783.096248  \nmin             0.000000               0.0    1067.000000  \n25%             3.000000               0.0   30165.000000  \n50%             6.000000               0.0   49413.000000  \n75%             9.000000               0.0   71083.000000  \nmax            12.000000               0.0   99998.000000  ",
      "text/html": "<div>\n<style scoped>\n    .dataframe tbody tr th:only-of-type {\n        vertical-align: middle;\n    }\n\n    .dataframe tbody tr th {\n        vertical-align: top;\n    }\n\n    .dataframe thead th {\n        text-align: right;\n    }\n</style>\n<table border=\"1\" class=\"dataframe\">\n  <thead>\n    <tr style=\"text-align: right;\">\n      <th></th>\n      <th>Price</th>\n      <th>RegistrationYear</th>\n      <th>Power</th>\n      <th>Kilometer</th>\n      <th>RegistrationMonth</th>\n      <th>NumberOfPictures</th>\n      <th>PostalCode</th>\n    </tr>\n  </thead>\n  <tbody>\n    <tr>\n      <th>count</th>\n      <td>354369.000000</td>\n      <td>354369.000000</td>\n      <td>354369.000000</td>\n      <td>354369.000000</td>\n      <td>354369.000000</td>\n      <td>354369.0</td>\n      <td>354369.000000</td>\n    </tr>\n    <tr>\n      <th>mean</th>\n      <td>4416.656776</td>\n      <td>2004.234448</td>\n      <td>110.094337</td>\n      <td>128211.172535</td>\n      <td>5.714645</td>\n      <td>0.0</td>\n      <td>50508.689087</td>\n    </tr>\n    <tr>\n      <th>std</th>\n      <td>4514.158514</td>\n      <td>90.227958</td>\n      <td>189.850405</td>\n      <td>37905.341530</td>\n      <td>3.726421</td>\n      <td>0.0</td>\n      <td>25783.096248</td>\n    </tr>\n    <tr>\n      <th>min</th>\n      <td>0.000000</td>\n      <td>1000.000000</td>\n      <td>0.000000</td>\n      <td>5000.000000</td>\n      <td>0.000000</td>\n      <td>0.0</td>\n      <td>1067.000000</td>\n    </tr>\n    <tr>\n      <th>25%</th>\n      <td>1050.000000</td>\n      <td>1999.000000</td>\n      <td>69.000000</td>\n      <td>125000.000000</td>\n      <td>3.000000</td>\n      <td>0.0</td>\n      <td>30165.000000</td>\n    </tr>\n    <tr>\n      <th>50%</th>\n      <td>2700.000000</td>\n      <td>2003.000000</td>\n      <td>105.000000</td>\n      <td>150000.000000</td>\n      <td>6.000000</td>\n      <td>0.0</td>\n      <td>49413.000000</td>\n    </tr>\n    <tr>\n      <th>75%</th>\n      <td>6400.000000</td>\n      <td>2008.000000</td>\n      <td>143.000000</td>\n      <td>150000.000000</td>\n      <td>9.000000</td>\n      <td>0.0</td>\n      <td>71083.000000</td>\n    </tr>\n    <tr>\n      <th>max</th>\n      <td>20000.000000</td>\n      <td>9999.000000</td>\n      <td>20000.000000</td>\n      <td>150000.000000</td>\n      <td>12.000000</td>\n      <td>0.0</td>\n      <td>99998.000000</td>\n    </tr>\n  </tbody>\n</table>\n</div>"
     },
     "execution_count": 97,
     "metadata": {},
     "output_type": "execute_result"
    }
   ],
   "source": [
    "data.describe()"
   ],
   "metadata": {
    "collapsed": false
   }
  },
  {
   "cell_type": "markdown",
   "source": [
    "<div class=\"alert alert-success\">\n",
    "<h2> Комментарий ревьюера <a class=\"tocSkip\"> </h2>\n",
    "\n",
    "<b>Все отлично!👍:</b>\n",
    "\n",
    "Молодец, что используешь средства для знакомства с основными характеристиками датасета."
   ],
   "metadata": {
    "collapsed": false
   }
  },
  {
   "cell_type": "markdown",
   "source": [
    "Проанализируем конкретно в каких признаках у нас имеются пропуски."
   ],
   "metadata": {
    "collapsed": false
   }
  },
  {
   "cell_type": "code",
   "execution_count": 98,
   "outputs": [
    {
     "data": {
      "text/plain": "DateCrawled              0\nPrice                    0\nVehicleType          37490\nRegistrationYear         0\nGearbox              19833\nPower                    0\nModel                19705\nKilometer                0\nRegistrationMonth        0\nFuelType             32895\nBrand                    0\nRepaired             71154\nDateCreated              0\nNumberOfPictures         0\nPostalCode               0\nLastSeen                 0\ndtype: int64"
     },
     "execution_count": 98,
     "metadata": {},
     "output_type": "execute_result"
    }
   ],
   "source": [
    "data.isna().sum()"
   ],
   "metadata": {
    "collapsed": false
   }
  },
  {
   "cell_type": "markdown",
   "source": [
    "Первым делом исправим самую явную ошибку приведения типов - признак *Repaired*, его следует привести к типу Bool, предварительно заполним пропуски значением False, так как если поле пустой - скорее всего пользователи имели в виду, что она не чинилась, поэтому ничего и не вводили."
   ],
   "metadata": {
    "collapsed": false
   }
  },
  {
   "cell_type": "code",
   "execution_count": 99,
   "outputs": [],
   "source": [
    "tmp_repaired = [True if i == 'yes' else False for i in data['Repaired']]"
   ],
   "metadata": {
    "collapsed": false
   }
  },
  {
   "cell_type": "code",
   "execution_count": 100,
   "outputs": [],
   "source": [
    "data['Repaired'] = tmp_repaired"
   ],
   "metadata": {
    "collapsed": false
   }
  },
  {
   "cell_type": "markdown",
   "source": [
    "<div class=\"alert alert-success\">\n",
    "<h2> Комментарий ревьюера <a class=\"tocSkip\"> </h2>\n",
    "\n",
    "<b>Все отлично!👍</b>\n",
    "\n",
    "Здесь согласна с заполнением."
   ],
   "metadata": {
    "collapsed": false
   }
  },
  {
   "cell_type": "markdown",
   "source": [
    "Удалим признаки: *NumberOfPictures* - он содержит только нули и никакой информации не несёт, *DateCrawled*, *DateCreated*, *LastSeen*, *PostalCode* - признаки, никак не влияющие на цену."
   ],
   "metadata": {
    "collapsed": false
   }
  },
  {
   "cell_type": "code",
   "execution_count": 101,
   "outputs": [],
   "source": [
    "data = data.drop([\"DateCrawled\",\"DateCreated\",\"LastSeen\",\"NumberOfPictures\",\"PostalCode\"], axis=1)"
   ],
   "metadata": {
    "collapsed": false
   }
  },
  {
   "cell_type": "markdown",
   "source": [
    "<div class=\"alert alert-success\">\n",
    "<h2> Комментарий ревьюера <a class=\"tocSkip\"> </h2>\n",
    "\n",
    "<b>Все отлично!👍:</b>\n",
    "\n",
    "Отлично, что удаляешь неинформативные признаки."
   ],
   "metadata": {
    "collapsed": false
   }
  },
  {
   "cell_type": "markdown",
   "source": [
    "С остальными признаками чуть тяжелее - они все категориальные. Конечно, можно попытаться восстановить их на основе других данных, например восстановить тип техники по бренду и мощности двигателя, но такую группировку лучше согласовывать с заказчиком или спросить у более опытных коллег. Поэтому пока заполним пропуски \"unknown\"."
   ],
   "metadata": {
    "collapsed": false
   }
  },
  {
   "cell_type": "code",
   "execution_count": 102,
   "outputs": [],
   "source": [
    "data['VehicleType'] = data['VehicleType'].fillna('unknown')\n",
    "data['Gearbox'] = data['Gearbox'].fillna('unknown')\n",
    "data['Model'] = data['Model'].fillna('unknown')\n",
    "data['FuelType'] = data['FuelType'].fillna('unknown')"
   ],
   "metadata": {
    "collapsed": false
   }
  },
  {
   "cell_type": "markdown",
   "source": [
    "<div class=\"alert alert-info\">\n",
    "<font size=\"5\"><b>Комментарий ученика </b></font>\n",
    "<div>Обработал аномальные значения и выбросы.</div>\n",
    "</div>"
   ],
   "metadata": {
    "collapsed": false
   }
  },
  {
   "cell_type": "markdown",
   "source": [
    "Настало время разобраться с аномальными значениями."
   ],
   "metadata": {
    "collapsed": false
   }
  },
  {
   "cell_type": "code",
   "execution_count": 103,
   "outputs": [],
   "source": [
    "data.loc[data['RegistrationMonth'] == 0, 'RegistrationMonth'] = 1\n",
    "data.loc[data['Power'] > 3000, 'Power'] = 3000\n",
    "data[\"RegistrationYear\"] = data[\"RegistrationYear\"].where(data[\"RegistrationYear\"] < 2022, 2022)\n",
    "data[\"RegistrationYear\"] = data[\"RegistrationYear\"].where(data[\"RegistrationYear\"] > 1940, 1940)"
   ],
   "metadata": {
    "collapsed": false
   }
  },
  {
   "cell_type": "markdown",
   "source": [
    "Теперь разберемся с выбросами. Построим диаграмму размаха и оценим ситуацию."
   ],
   "metadata": {
    "collapsed": false
   }
  },
  {
   "cell_type": "code",
   "execution_count": 104,
   "outputs": [
    {
     "data": {
      "text/plain": "(-50.0, 20000.0)"
     },
     "execution_count": 104,
     "metadata": {},
     "output_type": "execute_result"
    }
   ],
   "source": [
    "data.boxplot()\n",
    "plt.ylim(-50, 20000)"
   ],
   "metadata": {
    "collapsed": false
   }
  },
  {
   "cell_type": "markdown",
   "source": [
    "Как оказалось, выбросов очень много, нужно обрабатывать в признаках *Price* и *Power*.\n"
   ],
   "metadata": {
    "collapsed": false
   }
  },
  {
   "cell_type": "markdown",
   "source": [
    "Обработаем выбросы."
   ],
   "metadata": {
    "collapsed": false
   }
  },
  {
   "cell_type": "code",
   "execution_count": 105,
   "outputs": [],
   "source": [
    "count = 0\n",
    "index_del = []\n",
    "for column in [\"Price\",\"Power\"]:\n",
    "    q25=np.array(data[column].quantile(0.25))\n",
    "    q75=np.array(data[column].quantile(0.75))\n",
    "    first_part=q25-1.5*(q75-q25)\n",
    "    second_part=q75+1.5*(q75-q25)\n",
    "    for index_value, value in zip(data[column].index,data[column]):\n",
    "        if second_part <= value or value <= first_part:\n",
    "            index_del.append(index_value)\n",
    "    count += len(index_del)\n",
    "    data = data.drop(index_del, axis = 0)\n",
    "    index_del = []"
   ],
   "metadata": {
    "collapsed": false
   }
  },
  {
   "cell_type": "markdown",
   "source": [],
   "metadata": {
    "collapsed": false
   }
  },
  {
   "cell_type": "markdown",
   "source": [
    "<div class=\"alert alert-success\">\n",
    "<h2> Комментарий ревьюера <a class=\"tocSkip\"> </h2>\n",
    "\n",
    "<b>Все отлично!👍:</b>\n",
    "\n",
    "Отлично, что пишешь обоснование."
   ],
   "metadata": {
    "collapsed": false
   }
  },
  {
   "cell_type": "markdown",
   "source": [
    "<div class=\"alert alert-warning\">\n",
    "    <h2> Комментарий ревьюера <a class=\"tocSkip\"> </h2>\n",
    "\n",
    "<b>Некоторые замечания и рекомендации💡:</b>\n",
    "\n",
    "Также можно использовать визуализацию для отображения корреляционной зависимости между численными признаками.\n",
    "\n",
    "Можно посмотреть на распределения признаков, на боксплоты. Более подробно изучить уникальные значения.\n",
    "\n",
    "Признак Kilometer, например, обладает только строго определенными значениями. Возможно, это связано с особенностями заполнения анкеты. В данном случае можно считать, что признак категориальный.\n",
    "\n",
    "Также можно проверить данные на дубликаты.\n"
   ],
   "metadata": {
    "collapsed": false
   }
  },
  {
   "cell_type": "markdown",
   "source": [
    "<div class=\"alert alert-block alert-danger\">\n",
    "<h2> Комментарий ревьюера <a class=\"tocSkip\"></h2>\n",
    "\n",
    "\n",
    "<b>На доработку🤔:</b>\n",
    "\n",
    "Из обязательного, что здесь нужно сделать, - это не только обработать пропуски, но также и аномальные значения в численных признаках."
   ],
   "metadata": {
    "collapsed": false
   }
  },
  {
   "cell_type": "markdown",
   "source": [
    "## Обучение моделей"
   ],
   "metadata": {
    "collapsed": false
   }
  },
  {
   "cell_type": "markdown",
   "source": [
    "Для начала закодируем все категориальные переменные OneHotEncoding."
   ],
   "metadata": {
    "collapsed": false
   }
  },
  {
   "cell_type": "markdown",
   "source": [
    "<div class=\"alert alert-info\">\n",
    "<font size=\"5\"><b>Комментарий ученика</b></font>\n",
    "<div>Добавил OrdinalEncoder для работы с LightGBM</div>\n",
    "</div>"
   ],
   "metadata": {
    "collapsed": false
   }
  },
  {
   "cell_type": "code",
   "execution_count": 106,
   "outputs": [],
   "source": [
    "data_ohe = pd.get_dummies(data, drop_first=True)"
   ],
   "metadata": {
    "collapsed": false
   }
  },
  {
   "cell_type": "markdown",
   "source": [
    "<div class=\"alert alert-warning\">\n",
    "    <h2> Комментарий ревьюера <a class=\"tocSkip\"> </h2>\n",
    "\n",
    "<b>Некоторые замечания и рекомендации💡:</b>\n",
    "\n",
    "В теории тренажера в данный момент предлагается использовать get_dummies, однако, это впоследствии приводит к сложностям поэтому стоит использовать класс <a href=\"https://scikit-learn.org/stable/modules/generated/sklearn.preprocessing.OneHotEncoder.html\">OHE из sklearn</a>. По аналогии с масштабированием делать fit только на трейне, а transform на всех выборках.\n",
    "<hr>\n",
    "get_dummies подходит для анализа данных, а для машинного обучения более предпочтителен OHE, т.к. он позоволяет избежать ряд ошибок при обучении моделей, в том числе может работать с неизвестными ранее уровнями категорий, которых не было изначально (например, если появится еще одна модель машины).\n",
    "\n",
    "get_dummies также нельзя использовать вместе с pipeline, column_transformer, ecли появляется новая выборка и ее нужно кодировать, то обязательно стоит выполнить проверку, чтобы получившиеся фичи были такие же.\n",
    "\n",
    "Прочитать об этом более подробно можно здесь:\n",
    "\n",
    "https://colab.research.google.com/drive/1_gAMXcQKoCShB_l8FNtYEejMnosm9mvt?usp=sharing"
   ],
   "metadata": {
    "collapsed": false
   }
  },
  {
   "cell_type": "markdown",
   "source": [
    "Разделим на фичи и таргет."
   ],
   "metadata": {
    "collapsed": false
   }
  },
  {
   "cell_type": "code",
   "execution_count": 107,
   "outputs": [],
   "source": [
    "features_ohe = data_ohe.drop('Price', axis=1)\n",
    "target_ohe = data_ohe['Price']\n",
    "\n",
    "\n",
    "features = data.drop('Price', axis=1)\n",
    "target = data['Price']"
   ],
   "metadata": {
    "collapsed": false
   }
  },
  {
   "cell_type": "markdown",
   "source": [
    "Теперь поделим данные на обучающую и тестовую выборки в соотношении 3:1."
   ],
   "metadata": {
    "collapsed": false
   }
  },
  {
   "cell_type": "code",
   "execution_count": 108,
   "outputs": [],
   "source": [
    "features_train_ohe, features_test_ohe, target_train_ohe, target_test_ohe = train_test_split(features_ohe, target_ohe, test_size=0.2, random_state=42)\n",
    "\n",
    "features_train, features_test, target_train, target_test = train_test_split(features, target, test_size=0.2, random_state=42)"
   ],
   "metadata": {
    "collapsed": false
   }
  },
  {
   "cell_type": "code",
   "execution_count": 108,
   "outputs": [],
   "source": [],
   "metadata": {
    "collapsed": false
   }
  },
  {
   "cell_type": "code",
   "execution_count": 109,
   "outputs": [],
   "source": [
    "# %%time\n",
    "# forest = RandomForestRegressor(n_estimators=100, n_jobs=-1)\n",
    "# forest.fit(features_train_ohe, target_train_ohe)"
   ],
   "metadata": {
    "collapsed": false
   }
  },
  {
   "cell_type": "code",
   "execution_count": 110,
   "outputs": [
    {
     "data": {
      "text/plain": "Index(['RegistrationYear', 'Power', 'Kilometer', 'RegistrationMonth',\n       'Repaired'],\n      dtype='object')"
     },
     "execution_count": 110,
     "metadata": {},
     "output_type": "execute_result"
    }
   ],
   "source": [
    "categorial = features_train.select_dtypes(include=\"object\").columns\n",
    "numeric = features_train.select_dtypes(exclude=\"object\").columns\n",
    "numeric"
   ],
   "metadata": {
    "collapsed": false
   }
  },
  {
   "cell_type": "markdown",
   "source": [
    "Обучить Линейную регрессию."
   ],
   "metadata": {
    "collapsed": false
   }
  },
  {
   "cell_type": "code",
   "execution_count": 111,
   "outputs": [],
   "source": [
    "lin_pipe = Pipeline([('scaler', StandardScaler()), ('model', LinearRegression())])"
   ],
   "metadata": {
    "collapsed": false
   }
  },
  {
   "cell_type": "code",
   "execution_count": 112,
   "outputs": [
    {
     "data": {
      "text/plain": "Pipeline(steps=[('scaler', StandardScaler()), ('model', LinearRegression())])"
     },
     "execution_count": 112,
     "metadata": {},
     "output_type": "execute_result"
    }
   ],
   "source": [
    "lin_pipe.fit(features_train_ohe, target_train_ohe)"
   ],
   "metadata": {
    "collapsed": false
   }
  },
  {
   "cell_type": "code",
   "execution_count": 112,
   "outputs": [],
   "source": [],
   "metadata": {
    "collapsed": false
   }
  },
  {
   "cell_type": "markdown",
   "source": [],
   "metadata": {
    "collapsed": false
   }
  },
  {
   "cell_type": "code",
   "execution_count": 117,
   "outputs": [],
   "source": [
    "column_transformer = ColumnTransformer([('numeric', StandardScaler(), numeric), ('cat', OrdinalEncoder(), categorial)])\n",
    "pipe = Pipeline([('ct', column_transformer), ('model', LinearRegression())])"
   ],
   "metadata": {
    "collapsed": false
   }
  },
  {
   "cell_type": "code",
   "execution_count": 115,
   "outputs": [
    {
     "data": {
      "text/plain": "Pipeline(steps=[('ct',\n                 ColumnTransformer(transformers=[('numeric', StandardScaler(),\n                                                  Index(['RegistrationYear', 'Power', 'Kilometer', 'RegistrationMonth',\n       'Repaired'],\n      dtype='object')),\n                                                 ('cat',\n                                                  OneHotEncoder(handle_unknown='ignore'),\n                                                  Index(['VehicleType', 'Gearbox', 'Model', 'FuelType', 'Brand'], dtype='object'))])),\n                ('model', LinearRegression())])"
     },
     "execution_count": 115,
     "metadata": {},
     "output_type": "execute_result"
    }
   ],
   "source": [
    "pipe.fit(features_train, target_train)"
   ],
   "metadata": {
    "collapsed": false
   }
  },
  {
   "cell_type": "code",
   "execution_count": null,
   "outputs": [],
   "source": [],
   "metadata": {
    "collapsed": false
   }
  },
  {
   "cell_type": "code",
   "execution_count": 118,
   "outputs": [
    {
     "data": {
      "text/plain": "Pipeline(steps=[('ct',\n                 ColumnTransformer(transformers=[('numeric', StandardScaler(),\n                                                  Index(['RegistrationYear', 'Power', 'Kilometer', 'RegistrationMonth',\n       'Repaired'],\n      dtype='object')),\n                                                 ('cat', OrdinalEncoder(),\n                                                  Index(['VehicleType', 'Gearbox', 'Model', 'FuelType', 'Brand'], dtype='object'))])),\n                ('forest', RandomForestRegressor(n_jobs=-1))])"
     },
     "execution_count": 118,
     "metadata": {},
     "output_type": "execute_result"
    }
   ],
   "source": [
    "pipe_forest = Pipeline([('ct', column_transormer), ('forest', RandomForestRegressor(n_estimators=100, n_jobs=-1))])\n",
    "pipe_forest.fit(features_train, target_train)"
   ],
   "metadata": {
    "collapsed": false
   }
  },
  {
   "cell_type": "code",
   "execution_count": null,
   "outputs": [],
   "source": [],
   "metadata": {
    "collapsed": false
   }
  },
  {
   "cell_type": "code",
   "execution_count": null,
   "outputs": [],
   "source": [],
   "metadata": {
    "collapsed": false
   }
  },
  {
   "cell_type": "code",
   "execution_count": null,
   "outputs": [],
   "source": [],
   "metadata": {
    "collapsed": false
   }
  },
  {
   "cell_type": "code",
   "execution_count": null,
   "outputs": [],
   "source": [],
   "metadata": {
    "collapsed": false
   }
  },
  {
   "cell_type": "code",
   "execution_count": 87,
   "outputs": [],
   "source": [
    "from sklearn.pipeline import make_pipeline\n",
    "\n",
    "num_pipe = make_pipeline(\n",
    "    StandardScaler()\n",
    ")\n",
    "# pipeline for categorical columns\n",
    "cat_pipe = make_pipeline(\n",
    "    OneHotEncoder(handle_unknown='ignore', sparse=False)\n",
    ")\n",
    "\n",
    "# combine both the pipelines\n",
    "full_pipe = ColumnTransformer([\n",
    "    ('num', num_pipe, numeric),\n",
    "    ('cat', cat_pipe, categorial)\n",
    "])\n",
    "\n",
    "# build the model\n",
    "logreg = make_pipeline(\n",
    "    full_pipe, RandomForestRegressor(n_estimators=100, n_jobs=-1, random_state=42))"
   ],
   "metadata": {
    "collapsed": false
   }
  },
  {
   "cell_type": "code",
   "execution_count": 0,
   "outputs": [],
   "source": [
    "%%time\n",
    "logreg.fit(features_train, target_train)"
   ],
   "metadata": {
    "collapsed": false
   }
  },
  {
   "cell_type": "code",
   "execution_count": 89,
   "outputs": [
    {
     "name": "stdout",
     "output_type": "stream",
     "text": [
      "693.865720288871\n"
     ]
    }
   ],
   "source": [
    "print(mean_squared_error(y_true=target_train, y_pred=logreg.predict(features_train), squared=False))"
   ],
   "metadata": {
    "collapsed": false
   }
  },
  {
   "cell_type": "code",
   "execution_count": null,
   "outputs": [],
   "source": [],
   "metadata": {
    "collapsed": false
   }
  },
  {
   "cell_type": "code",
   "execution_count": null,
   "outputs": [],
   "source": [],
   "metadata": {
    "collapsed": false
   }
  },
  {
   "cell_type": "code",
   "execution_count": null,
   "outputs": [],
   "source": [],
   "metadata": {
    "collapsed": false
   }
  },
  {
   "cell_type": "code",
   "execution_count": null,
   "outputs": [],
   "source": [],
   "metadata": {
    "collapsed": false
   }
  },
  {
   "cell_type": "code",
   "execution_count": null,
   "outputs": [],
   "source": [],
   "metadata": {
    "collapsed": false
   }
  },
  {
   "cell_type": "code",
   "execution_count": null,
   "outputs": [],
   "source": [],
   "metadata": {
    "collapsed": false
   }
  },
  {
   "cell_type": "code",
   "execution_count": null,
   "outputs": [],
   "source": [],
   "metadata": {
    "collapsed": false
   }
  },
  {
   "cell_type": "code",
   "execution_count": null,
   "outputs": [],
   "source": [],
   "metadata": {
    "collapsed": false
   }
  },
  {
   "cell_type": "code",
   "execution_count": null,
   "outputs": [],
   "source": [],
   "metadata": {
    "collapsed": false
   }
  },
  {
   "cell_type": "code",
   "execution_count": 67,
   "outputs": [
    {
     "data": {
      "text/plain": "OneHotEncoder(sparse=False)"
     },
     "execution_count": 67,
     "metadata": {},
     "output_type": "execute_result"
    }
   ],
   "source": [
    "ohe = OneHotEncoder(sparse=False)\n",
    "ohe.fit(features_train[categorial])"
   ],
   "metadata": {
    "collapsed": false
   }
  },
  {
   "cell_type": "code",
   "execution_count": 59,
   "outputs": [
    {
     "data": {
      "text/plain": "        RegistrationYear  Power  Kilometer  RegistrationMonth  Repaired\n213549              1996     58     150000                  6     False\n340009              1998     75     150000                  8     False\n120581              1994    150     150000                  9     False\n232262              2007     65     150000                 11     False\n232501              2001      0     150000                 12     False\n...                  ...    ...        ...                ...       ...\n128692              2003    150     150000                 11      True\n278223              1998    150     150000                  7     False\n141639              2016     80     150000                  7     False\n157686              2008      0      80000                 11     False\n130923              2005    140     150000                  3     False\n\n[264189 rows x 5 columns]",
      "text/html": "<div>\n<style scoped>\n    .dataframe tbody tr th:only-of-type {\n        vertical-align: middle;\n    }\n\n    .dataframe tbody tr th {\n        vertical-align: top;\n    }\n\n    .dataframe thead th {\n        text-align: right;\n    }\n</style>\n<table border=\"1\" class=\"dataframe\">\n  <thead>\n    <tr style=\"text-align: right;\">\n      <th></th>\n      <th>RegistrationYear</th>\n      <th>Power</th>\n      <th>Kilometer</th>\n      <th>RegistrationMonth</th>\n      <th>Repaired</th>\n    </tr>\n  </thead>\n  <tbody>\n    <tr>\n      <th>213549</th>\n      <td>1996</td>\n      <td>58</td>\n      <td>150000</td>\n      <td>6</td>\n      <td>False</td>\n    </tr>\n    <tr>\n      <th>340009</th>\n      <td>1998</td>\n      <td>75</td>\n      <td>150000</td>\n      <td>8</td>\n      <td>False</td>\n    </tr>\n    <tr>\n      <th>120581</th>\n      <td>1994</td>\n      <td>150</td>\n      <td>150000</td>\n      <td>9</td>\n      <td>False</td>\n    </tr>\n    <tr>\n      <th>232262</th>\n      <td>2007</td>\n      <td>65</td>\n      <td>150000</td>\n      <td>11</td>\n      <td>False</td>\n    </tr>\n    <tr>\n      <th>232501</th>\n      <td>2001</td>\n      <td>0</td>\n      <td>150000</td>\n      <td>12</td>\n      <td>False</td>\n    </tr>\n    <tr>\n      <th>...</th>\n      <td>...</td>\n      <td>...</td>\n      <td>...</td>\n      <td>...</td>\n      <td>...</td>\n    </tr>\n    <tr>\n      <th>128692</th>\n      <td>2003</td>\n      <td>150</td>\n      <td>150000</td>\n      <td>11</td>\n      <td>True</td>\n    </tr>\n    <tr>\n      <th>278223</th>\n      <td>1998</td>\n      <td>150</td>\n      <td>150000</td>\n      <td>7</td>\n      <td>False</td>\n    </tr>\n    <tr>\n      <th>141639</th>\n      <td>2016</td>\n      <td>80</td>\n      <td>150000</td>\n      <td>7</td>\n      <td>False</td>\n    </tr>\n    <tr>\n      <th>157686</th>\n      <td>2008</td>\n      <td>0</td>\n      <td>80000</td>\n      <td>11</td>\n      <td>False</td>\n    </tr>\n    <tr>\n      <th>130923</th>\n      <td>2005</td>\n      <td>140</td>\n      <td>150000</td>\n      <td>3</td>\n      <td>False</td>\n    </tr>\n  </tbody>\n</table>\n<p>264189 rows × 5 columns</p>\n</div>"
     },
     "execution_count": 59,
     "metadata": {},
     "output_type": "execute_result"
    }
   ],
   "source": [
    "\n",
    "def get_ohe(df):\n",
    "    temp_df = pd.DataFrame(data=ohe.transform(df[['VehicleType', 'Gearbox', 'Model', 'FuelType', 'Brand']]), columns=ohe.get_feature_names_out())\n",
    "    df.drop(columns=['VehicleType', 'Gearbox', 'Model', 'FuelType', 'Brand'], axis=1, inplace=True)\n",
    "    df = pd.concat([df.reset_index(drop=True), temp_df], axis=1)\n",
    "    return df\n",
    "\n",
    "\n",
    "features_train_1 = get_ohe(features_train)\n",
    "features_test_1 = get_ohe(features_test)\n",
    "features_train\n"
   ],
   "metadata": {
    "collapsed": false
   }
  },
  {
   "cell_type": "code",
   "execution_count": 70,
   "outputs": [
    {
     "ename": "ValueError",
     "evalue": "Columns must be same length as key",
     "output_type": "error",
     "traceback": [
      "\u001B[0;31m---------------------------------------------------------------------------\u001B[0m",
      "\u001B[0;31mValueError\u001B[0m                                Traceback (most recent call last)",
      "\u001B[0;32m/var/folders/47/4y0ypxc92dz4v_h0jyn8jqpw0000gn/T/ipykernel_982/1420491859.py\u001B[0m in \u001B[0;36m<module>\u001B[0;34m\u001B[0m\n\u001B[1;32m      3\u001B[0m \u001B[0;31m# features_train = ohe.transform(features_train)\u001B[0m\u001B[0;34m\u001B[0m\u001B[0;34m\u001B[0m\u001B[0m\n\u001B[1;32m      4\u001B[0m \u001B[0;31m# features_train.toarray()\u001B[0m\u001B[0;34m\u001B[0m\u001B[0;34m\u001B[0m\u001B[0m\n\u001B[0;32m----> 5\u001B[0;31m \u001B[0mfeatures_train\u001B[0m\u001B[0;34m[\u001B[0m\u001B[0mcategorial\u001B[0m\u001B[0;34m]\u001B[0m \u001B[0;34m=\u001B[0m \u001B[0mohe\u001B[0m\u001B[0;34m.\u001B[0m\u001B[0mtransform\u001B[0m\u001B[0;34m(\u001B[0m\u001B[0mfeatures_train\u001B[0m\u001B[0;34m[\u001B[0m\u001B[0;34m[\u001B[0m\u001B[0;34m'VehicleType'\u001B[0m\u001B[0;34m,\u001B[0m \u001B[0;34m'Gearbox'\u001B[0m\u001B[0;34m,\u001B[0m \u001B[0;34m'Model'\u001B[0m\u001B[0;34m,\u001B[0m \u001B[0;34m'FuelType'\u001B[0m\u001B[0;34m,\u001B[0m \u001B[0;34m'Brand'\u001B[0m\u001B[0;34m]\u001B[0m\u001B[0;34m]\u001B[0m\u001B[0;34m)\u001B[0m\u001B[0;34m\u001B[0m\u001B[0;34m\u001B[0m\u001B[0m\n\u001B[0m",
      "\u001B[0;32m~/opt/anaconda3/lib/python3.9/site-packages/pandas/core/frame.py\u001B[0m in \u001B[0;36m__setitem__\u001B[0;34m(self, key, value)\u001B[0m\n\u001B[1;32m   3641\u001B[0m             \u001B[0mself\u001B[0m\u001B[0;34m.\u001B[0m\u001B[0m_setitem_frame\u001B[0m\u001B[0;34m(\u001B[0m\u001B[0mkey\u001B[0m\u001B[0;34m,\u001B[0m \u001B[0mvalue\u001B[0m\u001B[0;34m)\u001B[0m\u001B[0;34m\u001B[0m\u001B[0;34m\u001B[0m\u001B[0m\n\u001B[1;32m   3642\u001B[0m         \u001B[0;32melif\u001B[0m \u001B[0misinstance\u001B[0m\u001B[0;34m(\u001B[0m\u001B[0mkey\u001B[0m\u001B[0;34m,\u001B[0m \u001B[0;34m(\u001B[0m\u001B[0mSeries\u001B[0m\u001B[0;34m,\u001B[0m \u001B[0mnp\u001B[0m\u001B[0;34m.\u001B[0m\u001B[0mndarray\u001B[0m\u001B[0;34m,\u001B[0m \u001B[0mlist\u001B[0m\u001B[0;34m,\u001B[0m \u001B[0mIndex\u001B[0m\u001B[0;34m)\u001B[0m\u001B[0;34m)\u001B[0m\u001B[0;34m:\u001B[0m\u001B[0;34m\u001B[0m\u001B[0;34m\u001B[0m\u001B[0m\n\u001B[0;32m-> 3643\u001B[0;31m             \u001B[0mself\u001B[0m\u001B[0;34m.\u001B[0m\u001B[0m_setitem_array\u001B[0m\u001B[0;34m(\u001B[0m\u001B[0mkey\u001B[0m\u001B[0;34m,\u001B[0m \u001B[0mvalue\u001B[0m\u001B[0;34m)\u001B[0m\u001B[0;34m\u001B[0m\u001B[0;34m\u001B[0m\u001B[0m\n\u001B[0m\u001B[1;32m   3644\u001B[0m         \u001B[0;32melif\u001B[0m \u001B[0misinstance\u001B[0m\u001B[0;34m(\u001B[0m\u001B[0mvalue\u001B[0m\u001B[0;34m,\u001B[0m \u001B[0mDataFrame\u001B[0m\u001B[0;34m)\u001B[0m\u001B[0;34m:\u001B[0m\u001B[0;34m\u001B[0m\u001B[0;34m\u001B[0m\u001B[0m\n\u001B[1;32m   3645\u001B[0m             \u001B[0mself\u001B[0m\u001B[0;34m.\u001B[0m\u001B[0m_set_item_frame_value\u001B[0m\u001B[0;34m(\u001B[0m\u001B[0mkey\u001B[0m\u001B[0;34m,\u001B[0m \u001B[0mvalue\u001B[0m\u001B[0;34m)\u001B[0m\u001B[0;34m\u001B[0m\u001B[0;34m\u001B[0m\u001B[0m\n",
      "\u001B[0;32m~/opt/anaconda3/lib/python3.9/site-packages/pandas/core/frame.py\u001B[0m in \u001B[0;36m_setitem_array\u001B[0;34m(self, key, value)\u001B[0m\n\u001B[1;32m   3692\u001B[0m \u001B[0;34m\u001B[0m\u001B[0m\n\u001B[1;32m   3693\u001B[0m             \u001B[0;32melif\u001B[0m \u001B[0misinstance\u001B[0m\u001B[0;34m(\u001B[0m\u001B[0mvalue\u001B[0m\u001B[0;34m,\u001B[0m \u001B[0mnp\u001B[0m\u001B[0;34m.\u001B[0m\u001B[0mndarray\u001B[0m\u001B[0;34m)\u001B[0m \u001B[0;32mand\u001B[0m \u001B[0mvalue\u001B[0m\u001B[0;34m.\u001B[0m\u001B[0mndim\u001B[0m \u001B[0;34m==\u001B[0m \u001B[0;36m2\u001B[0m\u001B[0;34m:\u001B[0m\u001B[0;34m\u001B[0m\u001B[0;34m\u001B[0m\u001B[0m\n\u001B[0;32m-> 3694\u001B[0;31m                 \u001B[0mself\u001B[0m\u001B[0;34m.\u001B[0m\u001B[0m_iset_not_inplace\u001B[0m\u001B[0;34m(\u001B[0m\u001B[0mkey\u001B[0m\u001B[0;34m,\u001B[0m \u001B[0mvalue\u001B[0m\u001B[0;34m)\u001B[0m\u001B[0;34m\u001B[0m\u001B[0;34m\u001B[0m\u001B[0m\n\u001B[0m\u001B[1;32m   3695\u001B[0m \u001B[0;34m\u001B[0m\u001B[0m\n\u001B[1;32m   3696\u001B[0m             \u001B[0;32melif\u001B[0m \u001B[0mnp\u001B[0m\u001B[0;34m.\u001B[0m\u001B[0mndim\u001B[0m\u001B[0;34m(\u001B[0m\u001B[0mvalue\u001B[0m\u001B[0;34m)\u001B[0m \u001B[0;34m>\u001B[0m \u001B[0;36m1\u001B[0m\u001B[0;34m:\u001B[0m\u001B[0;34m\u001B[0m\u001B[0;34m\u001B[0m\u001B[0m\n",
      "\u001B[0;32m~/opt/anaconda3/lib/python3.9/site-packages/pandas/core/frame.py\u001B[0m in \u001B[0;36m_iset_not_inplace\u001B[0;34m(self, key, value)\u001B[0m\n\u001B[1;32m   3719\u001B[0m         \u001B[0;32mif\u001B[0m \u001B[0mself\u001B[0m\u001B[0;34m.\u001B[0m\u001B[0mcolumns\u001B[0m\u001B[0;34m.\u001B[0m\u001B[0mis_unique\u001B[0m\u001B[0;34m:\u001B[0m\u001B[0;34m\u001B[0m\u001B[0;34m\u001B[0m\u001B[0m\n\u001B[1;32m   3720\u001B[0m             \u001B[0;32mif\u001B[0m \u001B[0mnp\u001B[0m\u001B[0;34m.\u001B[0m\u001B[0mshape\u001B[0m\u001B[0;34m(\u001B[0m\u001B[0mvalue\u001B[0m\u001B[0;34m)\u001B[0m\u001B[0;34m[\u001B[0m\u001B[0;34m-\u001B[0m\u001B[0;36m1\u001B[0m\u001B[0;34m]\u001B[0m \u001B[0;34m!=\u001B[0m \u001B[0mlen\u001B[0m\u001B[0;34m(\u001B[0m\u001B[0mkey\u001B[0m\u001B[0;34m)\u001B[0m\u001B[0;34m:\u001B[0m\u001B[0;34m\u001B[0m\u001B[0;34m\u001B[0m\u001B[0m\n\u001B[0;32m-> 3721\u001B[0;31m                 \u001B[0;32mraise\u001B[0m \u001B[0mValueError\u001B[0m\u001B[0;34m(\u001B[0m\u001B[0;34m\"Columns must be same length as key\"\u001B[0m\u001B[0;34m)\u001B[0m\u001B[0;34m\u001B[0m\u001B[0;34m\u001B[0m\u001B[0m\n\u001B[0m\u001B[1;32m   3722\u001B[0m \u001B[0;34m\u001B[0m\u001B[0m\n\u001B[1;32m   3723\u001B[0m             \u001B[0;32mfor\u001B[0m \u001B[0mi\u001B[0m\u001B[0;34m,\u001B[0m \u001B[0mcol\u001B[0m \u001B[0;32min\u001B[0m \u001B[0menumerate\u001B[0m\u001B[0;34m(\u001B[0m\u001B[0mkey\u001B[0m\u001B[0;34m)\u001B[0m\u001B[0;34m:\u001B[0m\u001B[0;34m\u001B[0m\u001B[0;34m\u001B[0m\u001B[0m\n",
      "\u001B[0;31mValueError\u001B[0m: Columns must be same length as key"
     ]
    }
   ],
   "source": [],
   "metadata": {
    "collapsed": false
   }
  },
  {
   "cell_type": "code",
   "execution_count": 20,
   "outputs": [],
   "source": [
    "# %%time\n",
    "# forest = RandomForestRegressor(n_estimators=100, n_jobs=-1)\n",
    "# forest.fit(features_train, target_train)"
   ],
   "metadata": {
    "collapsed": false
   }
  },
  {
   "cell_type": "code",
   "execution_count": 21,
   "outputs": [
    {
     "name": "stdout",
     "output_type": "stream",
     "text": [
      "CPU times: user 7min 30s, sys: 6.81 s, total: 7min 36s\n",
      "Wall time: 1min\n"
     ]
    },
    {
     "data": {
      "text/plain": "RandomForestRegressor(n_jobs=-1, random_state=42)"
     },
     "execution_count": 21,
     "metadata": {},
     "output_type": "execute_result"
    }
   ],
   "source": [
    "%%time\n",
    "forest = RandomForestRegressor(n_estimators=100, n_jobs=-1, random_state=42)\n",
    "forest.fit(features_train, target_train)"
   ],
   "metadata": {
    "collapsed": false
   }
  },
  {
   "cell_type": "code",
   "execution_count": 21,
   "outputs": [],
   "source": [],
   "metadata": {
    "collapsed": false
   }
  },
  {
   "cell_type": "code",
   "execution_count": 21,
   "outputs": [],
   "source": [],
   "metadata": {
    "collapsed": false
   }
  },
  {
   "cell_type": "code",
   "execution_count": 21,
   "outputs": [],
   "source": [],
   "metadata": {
    "collapsed": false
   }
  },
  {
   "cell_type": "markdown",
   "source": [],
   "metadata": {
    "collapsed": false
   }
  },
  {
   "cell_type": "markdown",
   "source": [
    "Теперь приступим к обучению моделей, начнём с малого - Линейная Регрессия. Но для начала - отмасштабируем данные."
   ],
   "metadata": {
    "collapsed": false
   }
  },
  {
   "cell_type": "code",
   "execution_count": 21,
   "outputs": [],
   "source": [],
   "metadata": {
    "collapsed": false
   }
  }
 ],
 "metadata": {
  "kernelspec": {
   "display_name": "Python 3",
   "language": "python",
   "name": "python3"
  },
  "language_info": {
   "codemirror_mode": {
    "name": "ipython",
    "version": 2
   },
   "file_extension": ".py",
   "mimetype": "text/x-python",
   "name": "python",
   "nbconvert_exporter": "python",
   "pygments_lexer": "ipython2",
   "version": "2.7.6"
  }
 },
 "nbformat": 4,
 "nbformat_minor": 0
}
