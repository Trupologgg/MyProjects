{
 "cells": [
  {
   "cell_type": "markdown",
   "metadata": {},
   "source": [
    "<div style=\"border:solid Chocolate 2px; padding: 40px\">\n",
    "    \n",
    " <b>Добрый день, Александр!</b>\n",
    "Меня зовут Ксения Цыганова, и я буду комментировать твою работу и помогать тебе сделать ее сильнее. В Практикуме мы общаемся на «ты», но если тебе это будет некомфортно, пожалуйста, скажи, и мы будем обращаться друг к другу на «вы».\n",
    "    \n",
    "Все мои комментарии делятся на три вида:\n",
    "\n",
    "    \n",
    "👍 Здесь все отлично, идем дальше! - <font color='green'> зеленый цвет </font>\n",
    "    \n",
    "💡 Все хорошо, однако, можно оптимизировать или рассмотреть другие способы (необязательно для исполнения, чтобы пройти дальше) - <font color='gold'>желтый цвет</font>\n",
    "    \n",
    "🤔 Необходимо внести исправления, без которых я не смогу принять проект - <font color='red'>красный цвет</font>\n",
    "    \n",
    "    \n",
    "Свои комментарии я буду выделять заголовком «комментарий ревьюера». Пожалуйста, не удаляй их, это поможет сократить время проверки на повторных ревью.Ты также можешь писать свои комментарии к моим и выделять их любым понравившимся способом, отличным от моего. Если у тебя будут возникать вопросы в течение нашей работы, я с радостью на них отвечу.\n",
    "\n",
    "Цель моего ревью не критика и не возможность дать тебе готовые ответы, это способ привести тебя в нужное русло, чтобы ты смог развить собственные идеи и решения. Твой будущий работодатель будет поступать похожим образом. \n",
    "        \n",
    "   <b>У тебя все получится!</b>"
   ]
  },
  {
   "cell_type": "code",
   "execution_count": 1,
   "metadata": {
    "trusted": true
   },
   "outputs": [
    {
     "name": "stderr",
     "output_type": "stream",
     "text": [
      "/Users/trupolog/opt/anaconda3/lib/python3.9/site-packages/xgboost/compat.py:36: FutureWarning: pandas.Int64Index is deprecated and will be removed from pandas in a future version. Use pandas.Index with the appropriate dtype instead.\n",
      "  from pandas import MultiIndex, Int64Index\n"
     ]
    }
   ],
   "source": [
    "import pandas as pd\n",
    "import numpy as np\n",
    "import matplotlib.pyplot as plt\n",
    "from catboost import CatBoostClassifier\n",
    "from sklearn.model_selection import train_test_split, GridSearchCV\n",
    "from sklearn.preprocessing import StandardScaler#%%\n",
    "import pandas as pd\n",
    "import numpy as np\n",
    "import matplotlib.pyplot as plt\n",
    "from catboost import CatBoostClassifier\n",
    "from sklearn.model_selection import train_test_split, GridSearchCV\n",
    "from sklearn.preprocessing import StandardScaler\n",
    "from sklearn.linear_model import LinearRegression\n",
    "from sklearn.metrics import mean_squared_error\n",
    "from sklearn.ensemble import RandomForestRegressor\n",
    "from catboost import Pool, CatBoostRegressor\n",
    "from sklearn.preprocessing import OrdinalEncoder\n",
    "from sklearn.model_selection import cross_val_score\n"
   ]
  },
  {
   "cell_type": "markdown",
   "metadata": {},
   "source": [
    "<div class=\"alert alert-success\">\n",
    "<h2> Комментарий ревьюера <a class=\"tocSkip\"> </h2>\n",
    "\n",
    "<b>Все отлично!👍:</b> \n",
    "    \n",
    "Отлично, что все импорты собраны в одном месте в начале проекта. Это поможет в случае чего сразу увидеть, какие библиотеки следует доустановить."
   ]
  },
  {
   "cell_type": "markdown",
   "metadata": {},
   "source": [
    "<div class=\"alert alert-warning\">\n",
    "    <h2> Комментарий ревьюера <a class=\"tocSkip\"> </h2>\n",
    "    \n",
    "<b>Некоторые замечания и рекомендации💡:</b> \n",
    "        \n",
    "Стоит учитывать рекомендации PEP-8 при оформлении проекта, в том числе импортов. С ними можно познакомиться по ссылке: https://pythonworld.ru/osnovy/pep-8-rukovodstvo-po-napisaniyu-koda-na-python.html"
   ]
  },
  {
   "cell_type": "markdown",
   "metadata": {},
   "source": [
    "# Определение стоимости автомобилей"
   ]
  },
  {
   "cell_type": "markdown",
   "metadata": {},
   "source": [
    "Сервис по продаже автомобилей с пробегом «Не бит, не крашен» разрабатывает приложение для привлечения новых клиентов. В нём можно быстро узнать рыночную стоимость своего автомобиля. В вашем распоряжении исторические данные: технические характеристики, комплектации и цены автомобилей. Вам нужно построить модель для определения стоимости.\n",
    "\n",
    "Заказчику важны:\n",
    "\n",
    "- качество предсказания;\n",
    "- скорость предсказания;\n",
    "- время обучения."
   ]
  },
  {
   "cell_type": "markdown",
   "metadata": {},
   "source": [
    "<div class=\"alert alert-success\">\n",
    "<h2> Комментарий ревьюера <a class=\"tocSkip\"> </h2>\n",
    "\n",
    "<b>Все отлично!👍:</b> \n",
    "    \n",
    "Отлично, что есть вступительный комментарий."
   ]
  },
  {
   "cell_type": "markdown",
   "metadata": {},
   "source": [
    "<div class=\"alert alert-warning\">\n",
    "    <h2> Комментарий ревьюера <a class=\"tocSkip\"> </h2>\n",
    "    \n",
    "<b>Некоторые замечания и рекомендации💡:</b> \n",
    "        \n",
    "Также можно добавить содержание для более легкой навигации по проекту."
   ]
  },
  {
   "cell_type": "markdown",
   "metadata": {},
   "source": [
    "## Подготовка данных"
   ]
  },
  {
   "cell_type": "markdown",
   "metadata": {},
   "source": [
    "Загрузим данные и сделаем первичный осмотр."
   ]
  },
  {
   "cell_type": "code",
   "execution_count": 2,
   "metadata": {
    "trusted": true
   },
   "outputs": [
    {
     "data": {
      "text/plain": "                DateCrawled  Price  VehicleType  RegistrationYear Gearbox  \\\n0       2016-03-24 11:52:17    480          NaN              1993  manual   \n1       2016-03-24 10:58:45  18300        coupe              2011  manual   \n2       2016-03-14 12:52:21   9800          suv              2004    auto   \n3       2016-03-17 16:54:04   1500        small              2001  manual   \n4       2016-03-31 17:25:20   3600        small              2008  manual   \n...                     ...    ...          ...               ...     ...   \n354364  2016-03-21 09:50:58      0          NaN              2005  manual   \n354365  2016-03-14 17:48:27   2200          NaN              2005     NaN   \n354366  2016-03-05 19:56:21   1199  convertible              2000    auto   \n354367  2016-03-19 18:57:12   9200          bus              1996  manual   \n354368  2016-03-20 19:41:08   3400        wagon              2002  manual   \n\n        Power        Model  Kilometer  RegistrationMonth  FuelType  \\\n0           0         golf     150000                  0    petrol   \n1         190          NaN     125000                  5  gasoline   \n2         163        grand     125000                  8  gasoline   \n3          75         golf     150000                  6    petrol   \n4          69        fabia      90000                  7  gasoline   \n...       ...          ...        ...                ...       ...   \n354364      0         colt     150000                  7    petrol   \n354365      0          NaN      20000                  1       NaN   \n354366    101       fortwo     125000                  3    petrol   \n354367    102  transporter     150000                  3  gasoline   \n354368    100         golf     150000                  6  gasoline   \n\n                 Brand Repaired          DateCreated  NumberOfPictures  \\\n0           volkswagen      NaN  2016-03-24 00:00:00                 0   \n1                 audi      yes  2016-03-24 00:00:00                 0   \n2                 jeep      NaN  2016-03-14 00:00:00                 0   \n3           volkswagen       no  2016-03-17 00:00:00                 0   \n4                skoda       no  2016-03-31 00:00:00                 0   \n...                ...      ...                  ...               ...   \n354364      mitsubishi      yes  2016-03-21 00:00:00                 0   \n354365  sonstige_autos      NaN  2016-03-14 00:00:00                 0   \n354366           smart       no  2016-03-05 00:00:00                 0   \n354367      volkswagen       no  2016-03-19 00:00:00                 0   \n354368      volkswagen      NaN  2016-03-20 00:00:00                 0   \n\n        PostalCode             LastSeen  \n0            70435  2016-04-07 03:16:57  \n1            66954  2016-04-07 01:46:50  \n2            90480  2016-04-05 12:47:46  \n3            91074  2016-03-17 17:40:17  \n4            60437  2016-04-06 10:17:21  \n...            ...                  ...  \n354364        2694  2016-03-21 10:42:49  \n354365       39576  2016-04-06 00:46:52  \n354366       26135  2016-03-11 18:17:12  \n354367       87439  2016-04-07 07:15:26  \n354368       40764  2016-03-24 12:45:21  \n\n[354369 rows x 16 columns]",
      "text/html": "<div>\n<style scoped>\n    .dataframe tbody tr th:only-of-type {\n        vertical-align: middle;\n    }\n\n    .dataframe tbody tr th {\n        vertical-align: top;\n    }\n\n    .dataframe thead th {\n        text-align: right;\n    }\n</style>\n<table border=\"1\" class=\"dataframe\">\n  <thead>\n    <tr style=\"text-align: right;\">\n      <th></th>\n      <th>DateCrawled</th>\n      <th>Price</th>\n      <th>VehicleType</th>\n      <th>RegistrationYear</th>\n      <th>Gearbox</th>\n      <th>Power</th>\n      <th>Model</th>\n      <th>Kilometer</th>\n      <th>RegistrationMonth</th>\n      <th>FuelType</th>\n      <th>Brand</th>\n      <th>Repaired</th>\n      <th>DateCreated</th>\n      <th>NumberOfPictures</th>\n      <th>PostalCode</th>\n      <th>LastSeen</th>\n    </tr>\n  </thead>\n  <tbody>\n    <tr>\n      <th>0</th>\n      <td>2016-03-24 11:52:17</td>\n      <td>480</td>\n      <td>NaN</td>\n      <td>1993</td>\n      <td>manual</td>\n      <td>0</td>\n      <td>golf</td>\n      <td>150000</td>\n      <td>0</td>\n      <td>petrol</td>\n      <td>volkswagen</td>\n      <td>NaN</td>\n      <td>2016-03-24 00:00:00</td>\n      <td>0</td>\n      <td>70435</td>\n      <td>2016-04-07 03:16:57</td>\n    </tr>\n    <tr>\n      <th>1</th>\n      <td>2016-03-24 10:58:45</td>\n      <td>18300</td>\n      <td>coupe</td>\n      <td>2011</td>\n      <td>manual</td>\n      <td>190</td>\n      <td>NaN</td>\n      <td>125000</td>\n      <td>5</td>\n      <td>gasoline</td>\n      <td>audi</td>\n      <td>yes</td>\n      <td>2016-03-24 00:00:00</td>\n      <td>0</td>\n      <td>66954</td>\n      <td>2016-04-07 01:46:50</td>\n    </tr>\n    <tr>\n      <th>2</th>\n      <td>2016-03-14 12:52:21</td>\n      <td>9800</td>\n      <td>suv</td>\n      <td>2004</td>\n      <td>auto</td>\n      <td>163</td>\n      <td>grand</td>\n      <td>125000</td>\n      <td>8</td>\n      <td>gasoline</td>\n      <td>jeep</td>\n      <td>NaN</td>\n      <td>2016-03-14 00:00:00</td>\n      <td>0</td>\n      <td>90480</td>\n      <td>2016-04-05 12:47:46</td>\n    </tr>\n    <tr>\n      <th>3</th>\n      <td>2016-03-17 16:54:04</td>\n      <td>1500</td>\n      <td>small</td>\n      <td>2001</td>\n      <td>manual</td>\n      <td>75</td>\n      <td>golf</td>\n      <td>150000</td>\n      <td>6</td>\n      <td>petrol</td>\n      <td>volkswagen</td>\n      <td>no</td>\n      <td>2016-03-17 00:00:00</td>\n      <td>0</td>\n      <td>91074</td>\n      <td>2016-03-17 17:40:17</td>\n    </tr>\n    <tr>\n      <th>4</th>\n      <td>2016-03-31 17:25:20</td>\n      <td>3600</td>\n      <td>small</td>\n      <td>2008</td>\n      <td>manual</td>\n      <td>69</td>\n      <td>fabia</td>\n      <td>90000</td>\n      <td>7</td>\n      <td>gasoline</td>\n      <td>skoda</td>\n      <td>no</td>\n      <td>2016-03-31 00:00:00</td>\n      <td>0</td>\n      <td>60437</td>\n      <td>2016-04-06 10:17:21</td>\n    </tr>\n    <tr>\n      <th>...</th>\n      <td>...</td>\n      <td>...</td>\n      <td>...</td>\n      <td>...</td>\n      <td>...</td>\n      <td>...</td>\n      <td>...</td>\n      <td>...</td>\n      <td>...</td>\n      <td>...</td>\n      <td>...</td>\n      <td>...</td>\n      <td>...</td>\n      <td>...</td>\n      <td>...</td>\n      <td>...</td>\n    </tr>\n    <tr>\n      <th>354364</th>\n      <td>2016-03-21 09:50:58</td>\n      <td>0</td>\n      <td>NaN</td>\n      <td>2005</td>\n      <td>manual</td>\n      <td>0</td>\n      <td>colt</td>\n      <td>150000</td>\n      <td>7</td>\n      <td>petrol</td>\n      <td>mitsubishi</td>\n      <td>yes</td>\n      <td>2016-03-21 00:00:00</td>\n      <td>0</td>\n      <td>2694</td>\n      <td>2016-03-21 10:42:49</td>\n    </tr>\n    <tr>\n      <th>354365</th>\n      <td>2016-03-14 17:48:27</td>\n      <td>2200</td>\n      <td>NaN</td>\n      <td>2005</td>\n      <td>NaN</td>\n      <td>0</td>\n      <td>NaN</td>\n      <td>20000</td>\n      <td>1</td>\n      <td>NaN</td>\n      <td>sonstige_autos</td>\n      <td>NaN</td>\n      <td>2016-03-14 00:00:00</td>\n      <td>0</td>\n      <td>39576</td>\n      <td>2016-04-06 00:46:52</td>\n    </tr>\n    <tr>\n      <th>354366</th>\n      <td>2016-03-05 19:56:21</td>\n      <td>1199</td>\n      <td>convertible</td>\n      <td>2000</td>\n      <td>auto</td>\n      <td>101</td>\n      <td>fortwo</td>\n      <td>125000</td>\n      <td>3</td>\n      <td>petrol</td>\n      <td>smart</td>\n      <td>no</td>\n      <td>2016-03-05 00:00:00</td>\n      <td>0</td>\n      <td>26135</td>\n      <td>2016-03-11 18:17:12</td>\n    </tr>\n    <tr>\n      <th>354367</th>\n      <td>2016-03-19 18:57:12</td>\n      <td>9200</td>\n      <td>bus</td>\n      <td>1996</td>\n      <td>manual</td>\n      <td>102</td>\n      <td>transporter</td>\n      <td>150000</td>\n      <td>3</td>\n      <td>gasoline</td>\n      <td>volkswagen</td>\n      <td>no</td>\n      <td>2016-03-19 00:00:00</td>\n      <td>0</td>\n      <td>87439</td>\n      <td>2016-04-07 07:15:26</td>\n    </tr>\n    <tr>\n      <th>354368</th>\n      <td>2016-03-20 19:41:08</td>\n      <td>3400</td>\n      <td>wagon</td>\n      <td>2002</td>\n      <td>manual</td>\n      <td>100</td>\n      <td>golf</td>\n      <td>150000</td>\n      <td>6</td>\n      <td>gasoline</td>\n      <td>volkswagen</td>\n      <td>NaN</td>\n      <td>2016-03-20 00:00:00</td>\n      <td>0</td>\n      <td>40764</td>\n      <td>2016-03-24 12:45:21</td>\n    </tr>\n  </tbody>\n</table>\n<p>354369 rows × 16 columns</p>\n</div>"
     },
     "execution_count": 2,
     "metadata": {},
     "output_type": "execute_result"
    }
   ],
   "source": [
    "data = pd.read_csv('../datasets/autos.csv')\n",
    "data"
   ]
  },
  {
   "cell_type": "markdown",
   "metadata": {},
   "source": [
    "<div class=\"alert alert-warning\">\n",
    "    <h2> Комментарий ревьюера <a class=\"tocSkip\"> </h2>\n",
    "    \n",
    "<b>Некоторые замечания и рекомендации💡:</b> \n",
    "        \n",
    "Для загрузки данных можно использовать библиотеку os или констукцию try/except. Это поможет работать работать с проектом как локально, так и через Jupyter Hub, не внося дополнительных правок.\n",
    "        \n",
    "Также была ошибка в пути к файлу, я поправила. Пожалуйста, в следующий раз, будь более внимателен к этому."
   ]
  },
  {
   "cell_type": "code",
   "execution_count": 3,
   "metadata": {
    "trusted": true
   },
   "outputs": [
    {
     "name": "stdout",
     "output_type": "stream",
     "text": [
      "<class 'pandas.core.frame.DataFrame'>\n",
      "RangeIndex: 354369 entries, 0 to 354368\n",
      "Data columns (total 16 columns):\n",
      " #   Column             Non-Null Count   Dtype \n",
      "---  ------             --------------   ----- \n",
      " 0   DateCrawled        354369 non-null  object\n",
      " 1   Price              354369 non-null  int64 \n",
      " 2   VehicleType        316879 non-null  object\n",
      " 3   RegistrationYear   354369 non-null  int64 \n",
      " 4   Gearbox            334536 non-null  object\n",
      " 5   Power              354369 non-null  int64 \n",
      " 6   Model              334664 non-null  object\n",
      " 7   Kilometer          354369 non-null  int64 \n",
      " 8   RegistrationMonth  354369 non-null  int64 \n",
      " 9   FuelType           321474 non-null  object\n",
      " 10  Brand              354369 non-null  object\n",
      " 11  Repaired           283215 non-null  object\n",
      " 12  DateCreated        354369 non-null  object\n",
      " 13  NumberOfPictures   354369 non-null  int64 \n",
      " 14  PostalCode         354369 non-null  int64 \n",
      " 15  LastSeen           354369 non-null  object\n",
      "dtypes: int64(7), object(9)\n",
      "memory usage: 43.3+ MB\n"
     ]
    }
   ],
   "source": [
    "data.info()"
   ]
  },
  {
   "cell_type": "markdown",
   "metadata": {},
   "source": [
    "Данные не в чистом виде, присутсвуют как и ошибки приведения типов, так и пропуски в данных, будем исправлять!"
   ]
  },
  {
   "cell_type": "code",
   "execution_count": 4,
   "metadata": {
    "trusted": true
   },
   "outputs": [
    {
     "data": {
      "text/plain": "               Price  RegistrationYear          Power      Kilometer  \\\ncount  354369.000000     354369.000000  354369.000000  354369.000000   \nmean     4416.656776       2004.234448     110.094337  128211.172535   \nstd      4514.158514         90.227958     189.850405   37905.341530   \nmin         0.000000       1000.000000       0.000000    5000.000000   \n25%      1050.000000       1999.000000      69.000000  125000.000000   \n50%      2700.000000       2003.000000     105.000000  150000.000000   \n75%      6400.000000       2008.000000     143.000000  150000.000000   \nmax     20000.000000       9999.000000   20000.000000  150000.000000   \n\n       RegistrationMonth  NumberOfPictures     PostalCode  \ncount      354369.000000          354369.0  354369.000000  \nmean            5.714645               0.0   50508.689087  \nstd             3.726421               0.0   25783.096248  \nmin             0.000000               0.0    1067.000000  \n25%             3.000000               0.0   30165.000000  \n50%             6.000000               0.0   49413.000000  \n75%             9.000000               0.0   71083.000000  \nmax            12.000000               0.0   99998.000000  ",
      "text/html": "<div>\n<style scoped>\n    .dataframe tbody tr th:only-of-type {\n        vertical-align: middle;\n    }\n\n    .dataframe tbody tr th {\n        vertical-align: top;\n    }\n\n    .dataframe thead th {\n        text-align: right;\n    }\n</style>\n<table border=\"1\" class=\"dataframe\">\n  <thead>\n    <tr style=\"text-align: right;\">\n      <th></th>\n      <th>Price</th>\n      <th>RegistrationYear</th>\n      <th>Power</th>\n      <th>Kilometer</th>\n      <th>RegistrationMonth</th>\n      <th>NumberOfPictures</th>\n      <th>PostalCode</th>\n    </tr>\n  </thead>\n  <tbody>\n    <tr>\n      <th>count</th>\n      <td>354369.000000</td>\n      <td>354369.000000</td>\n      <td>354369.000000</td>\n      <td>354369.000000</td>\n      <td>354369.000000</td>\n      <td>354369.0</td>\n      <td>354369.000000</td>\n    </tr>\n    <tr>\n      <th>mean</th>\n      <td>4416.656776</td>\n      <td>2004.234448</td>\n      <td>110.094337</td>\n      <td>128211.172535</td>\n      <td>5.714645</td>\n      <td>0.0</td>\n      <td>50508.689087</td>\n    </tr>\n    <tr>\n      <th>std</th>\n      <td>4514.158514</td>\n      <td>90.227958</td>\n      <td>189.850405</td>\n      <td>37905.341530</td>\n      <td>3.726421</td>\n      <td>0.0</td>\n      <td>25783.096248</td>\n    </tr>\n    <tr>\n      <th>min</th>\n      <td>0.000000</td>\n      <td>1000.000000</td>\n      <td>0.000000</td>\n      <td>5000.000000</td>\n      <td>0.000000</td>\n      <td>0.0</td>\n      <td>1067.000000</td>\n    </tr>\n    <tr>\n      <th>25%</th>\n      <td>1050.000000</td>\n      <td>1999.000000</td>\n      <td>69.000000</td>\n      <td>125000.000000</td>\n      <td>3.000000</td>\n      <td>0.0</td>\n      <td>30165.000000</td>\n    </tr>\n    <tr>\n      <th>50%</th>\n      <td>2700.000000</td>\n      <td>2003.000000</td>\n      <td>105.000000</td>\n      <td>150000.000000</td>\n      <td>6.000000</td>\n      <td>0.0</td>\n      <td>49413.000000</td>\n    </tr>\n    <tr>\n      <th>75%</th>\n      <td>6400.000000</td>\n      <td>2008.000000</td>\n      <td>143.000000</td>\n      <td>150000.000000</td>\n      <td>9.000000</td>\n      <td>0.0</td>\n      <td>71083.000000</td>\n    </tr>\n    <tr>\n      <th>max</th>\n      <td>20000.000000</td>\n      <td>9999.000000</td>\n      <td>20000.000000</td>\n      <td>150000.000000</td>\n      <td>12.000000</td>\n      <td>0.0</td>\n      <td>99998.000000</td>\n    </tr>\n  </tbody>\n</table>\n</div>"
     },
     "execution_count": 4,
     "metadata": {},
     "output_type": "execute_result"
    }
   ],
   "source": [
    "data.describe()"
   ]
  },
  {
   "cell_type": "markdown",
   "metadata": {},
   "source": [
    "<div class=\"alert alert-success\">\n",
    "<h2> Комментарий ревьюера <a class=\"tocSkip\"> </h2>\n",
    "\n",
    "<b>Все отлично!👍:</b> \n",
    "    \n",
    "Молодец, что используешь средства для знакомства с основными характеристиками датасета."
   ]
  },
  {
   "cell_type": "markdown",
   "metadata": {},
   "source": [
    "Проанализируем конкретно в каких признаках у нас имеются пропуски."
   ]
  },
  {
   "cell_type": "code",
   "execution_count": 5,
   "metadata": {
    "trusted": true
   },
   "outputs": [
    {
     "data": {
      "text/plain": "DateCrawled              0\nPrice                    0\nVehicleType          37490\nRegistrationYear         0\nGearbox              19833\nPower                    0\nModel                19705\nKilometer                0\nRegistrationMonth        0\nFuelType             32895\nBrand                    0\nRepaired             71154\nDateCreated              0\nNumberOfPictures         0\nPostalCode               0\nLastSeen                 0\ndtype: int64"
     },
     "execution_count": 5,
     "metadata": {},
     "output_type": "execute_result"
    }
   ],
   "source": [
    "data.isna().sum()"
   ]
  },
  {
   "cell_type": "markdown",
   "metadata": {},
   "source": [
    "Первым делом исправим самую явную ошибку приведения типов - признак *Repaired*, его следует привести к типу Bool, предварительно заполним пропуски значением False, так как если поле пустой - скорее всего пользователи имели в виду, что она не чинилась, поэтому ничего и не вводили."
   ]
  },
  {
   "cell_type": "code",
   "execution_count": 6,
   "metadata": {
    "trusted": true
   },
   "outputs": [],
   "source": [
    "tmp_repaired = [True if i == 'yes' else False for i in data['Repaired']]"
   ]
  },
  {
   "cell_type": "code",
   "execution_count": 7,
   "metadata": {
    "trusted": true
   },
   "outputs": [],
   "source": [
    "data['Repaired'] = tmp_repaired"
   ]
  },
  {
   "cell_type": "markdown",
   "metadata": {},
   "source": [
    "<div class=\"alert alert-success\">\n",
    "<h2> Комментарий ревьюера <a class=\"tocSkip\"> </h2>\n",
    "\n",
    "<b>Все отлично!👍</b> \n",
    "    \n",
    "Здесь согласна с заполнением."
   ]
  },
  {
   "cell_type": "markdown",
   "metadata": {},
   "source": [
    "Удалим признаки: *NumberOfPictures* - он содержит только нули и никакой информации не несёт, *DateCrawled*, *DateCreated*, *LastSeen*, *PostalCode* - признаки, никак не влияющие на цену."
   ]
  },
  {
   "cell_type": "code",
   "execution_count": 8,
   "metadata": {
    "trusted": true
   },
   "outputs": [],
   "source": [
    "data = data.drop([\"DateCrawled\",\"DateCreated\",\"LastSeen\",\"NumberOfPictures\",\"PostalCode\"], axis=1)"
   ]
  },
  {
   "cell_type": "markdown",
   "metadata": {},
   "source": [
    "<div class=\"alert alert-success\">\n",
    "<h2> Комментарий ревьюера <a class=\"tocSkip\"> </h2>\n",
    "\n",
    "<b>Все отлично!👍:</b> \n",
    "    \n",
    "Отлично, что удаляешь неинформативные признаки."
   ]
  },
  {
   "cell_type": "markdown",
   "metadata": {},
   "source": [
    "С остальными признаками чуть тяжелее - они все категориальные. Конечно, можно попытаться восстановить их на основе других данных, например восстановить тип техники по бренду и мощности двигателя, но такую группировку лучше согласовывать с заказчиком или спросить у более опытных коллег. Поэтому пока заполним пропуски \"unknown\"."
   ]
  },
  {
   "cell_type": "code",
   "execution_count": 9,
   "metadata": {
    "trusted": true
   },
   "outputs": [],
   "source": [
    "data['VehicleType'] = data['VehicleType'].fillna('unknown')\n",
    "data['Gearbox'] = data['Gearbox'].fillna('unknown')\n",
    "data['Model'] = data['Model'].fillna('unknown')\n",
    "data['FuelType'] = data['FuelType'].fillna('unknown')"
   ]
  },
  {
   "cell_type": "markdown",
   "source": [
    "<div class=\"alert alert-info\">\n",
    "<font size=\"5\"><b>Комментарий ученика </b></font>\n",
    "<div>Обработал аномальные значения и выбросы.</div>\n",
    "</div>"
   ],
   "metadata": {
    "collapsed": false
   }
  },
  {
   "cell_type": "markdown",
   "source": [
    "Настало время разобраться с аномальными значениями."
   ],
   "metadata": {
    "collapsed": false
   }
  },
  {
   "cell_type": "code",
   "execution_count": 10,
   "outputs": [],
   "source": [
    "data.loc[data['RegistrationMonth'] == 0, 'RegistrationMonth'] = 1\n",
    "data.loc[data['Power'] > 3000, 'Power'] = 3000\n",
    "data[\"RegistrationYear\"] = data[\"RegistrationYear\"].where(data[\"RegistrationYear\"] < 2022, 2022)\n",
    "data[\"RegistrationYear\"] = data[\"RegistrationYear\"].where(data[\"RegistrationYear\"] > 1940, 1940)"
   ],
   "metadata": {
    "collapsed": false
   }
  },
  {
   "cell_type": "markdown",
   "source": [
    "Теперь разберемся с выбросами. Построим диаграмму размаха и оценим ситуацию."
   ],
   "metadata": {
    "collapsed": false
   }
  },
  {
   "cell_type": "code",
   "execution_count": 11,
   "outputs": [
    {
     "data": {
      "text/plain": "(-50.0, 20000.0)"
     },
     "execution_count": 11,
     "metadata": {},
     "output_type": "execute_result"
    },
    {
     "data": {
      "text/plain": "<Figure size 640x480 with 1 Axes>",
      "image/png": "[encoded data removed]"
     },
     "metadata": {},
     "output_type": "display_data"
    }
   ],
   "source": [
    "data.boxplot()\n",
    "plt.ylim(-50, 20000)"
   ],
   "metadata": {
    "collapsed": false
   }
  },
  {
   "cell_type": "markdown",
   "source": [
    "Как оказалось, выбросов очень много, нужно обрабатывать в признаках *Price* и *Power*.\n"
   ],
   "metadata": {
    "collapsed": false
   }
  },
  {
   "cell_type": "markdown",
   "source": [
    "Обработаем выбросы."
   ],
   "metadata": {
    "collapsed": false
   }
  },
  {
   "cell_type": "code",
   "execution_count": 12,
   "outputs": [],
   "source": [
    "count = 0\n",
    "index_del = []\n",
    "for column in [\"Price\",\"Power\"]:\n",
    "    q25=np.array(data[column].quantile(0.25))\n",
    "    q75=np.array(data[column].quantile(0.75))\n",
    "    first_part=q25-1.5*(q75-q25)\n",
    "    second_part=q75+1.5*(q75-q25)\n",
    "    for index_value, value in zip(data[column].index,data[column]):\n",
    "        if second_part <= value or value <= first_part:\n",
    "            index_del.append(index_value)\n",
    "    count += len(index_del)\n",
    "    data = data.drop(index_del, axis = 0)\n",
    "    index_del = []"
   ],
   "metadata": {
    "collapsed": false
   }
  },
  {
   "cell_type": "markdown",
   "source": [],
   "metadata": {
    "collapsed": false
   }
  },
  {
   "cell_type": "markdown",
   "metadata": {},
   "source": [
    "<div class=\"alert alert-success\">\n",
    "<h2> Комментарий ревьюера <a class=\"tocSkip\"> </h2>\n",
    "\n",
    "<b>Все отлично!👍:</b> \n",
    "    \n",
    "Отлично, что пишешь обоснование."
   ]
  },
  {
   "cell_type": "markdown",
   "metadata": {},
   "source": [
    "<div class=\"alert alert-warning\">\n",
    "    <h2> Комментарий ревьюера <a class=\"tocSkip\"> </h2>\n",
    "    \n",
    "<b>Некоторые замечания и рекомендации💡:</b> \n",
    "        \n",
    "Также можно использовать визуализацию для отображения корреляционной зависимости между численными признаками.\n",
    "        \n",
    "Можно посмотреть на распределения признаков, на боксплоты. Более подробно изучить уникальные значения.\n",
    "        \n",
    "Признак Kilometer, например, обладает только строго определенными значениями. Возможно, это связано с особенностями заполнения анкеты. В данном случае можно считать, что признак категориальный.\n",
    "        \n",
    "Также можно проверить данные на дубликаты.\n",
    "        "
   ]
  },
  {
   "cell_type": "markdown",
   "metadata": {},
   "source": [
    "<div class=\"alert alert-block alert-danger\">\n",
    "<h2> Комментарий ревьюера <a class=\"tocSkip\"></h2>\n",
    "\n",
    "    \n",
    "<b>На доработку🤔:</b>\n",
    "    \n",
    "Из обязательного, что здесь нужно сделать, - это не только обработать пропуски, но также и аномальные значения в численных признаках."
   ]
  },
  {
   "cell_type": "markdown",
   "metadata": {},
   "source": [
    "## Обучение моделей"
   ]
  },
  {
   "cell_type": "markdown",
   "metadata": {},
   "source": [
    "Для начала закодируем все категориальные переменные OneHotEncoding."
   ]
  },
  {
   "cell_type": "markdown",
   "source": [
    "<div class=\"alert alert-info\">\n",
    "<font size=\"5\"><b>Комментарий ученика</b></font>\n",
    "<div>Добавил OrdinalEncoder для работы с LightGBM</div>\n",
    "</div>"
   ],
   "metadata": {
    "collapsed": false
   }
  },
  {
   "cell_type": "code",
   "execution_count": 13,
   "metadata": {
    "trusted": true
   },
   "outputs": [],
   "source": [
    "data_ohe = pd.get_dummies(data, drop_first=True)\n",
    "encoder = OrdinalEncoder()\n",
    "encoder.fit(data)\n",
    "data_ordinal = pd.DataFrame(encoder.fit_transform(data),\n",
    "                            columns=data.columns)\n"
   ]
  },
  {
   "cell_type": "markdown",
   "metadata": {},
   "source": [
    "<div class=\"alert alert-warning\">\n",
    "    <h2> Комментарий ревьюера <a class=\"tocSkip\"> </h2>\n",
    "    \n",
    "<b>Некоторые замечания и рекомендации💡:</b> \n",
    "        \n",
    "В теории тренажера в данный момент предлагается использовать get_dummies, однако, это впоследствии приводит к сложностям поэтому стоит использовать класс <a href=\"https://scikit-learn.org/stable/modules/generated/sklearn.preprocessing.OneHotEncoder.html\">OHE из sklearn</a>. По аналогии с масштабированием делать fit только на трейне, а transform на всех выборках.\n",
    "<hr>\n",
    "get_dummies подходит для анализа данных, а для машинного обучения более предпочтителен OHE, т.к. он позоволяет избежать ряд ошибок при обучении моделей, в том числе может работать с неизвестными ранее уровнями категорий, которых не было изначально (например, если появится еще одна модель машины).\n",
    "        \n",
    "get_dummies также нельзя использовать вместе с pipeline, column_transformer, ecли появляется новая выборка и ее нужно кодировать, то обязательно стоит выполнить проверку, чтобы получившиеся фичи были такие же.\n",
    "        \n",
    "Прочитать об этом более подробно можно здесь:\n",
    "\n",
    "https://colab.research.google.com/drive/1_gAMXcQKoCShB_l8FNtYEejMnosm9mvt?usp=sharing"
   ]
  },
  {
   "cell_type": "markdown",
   "metadata": {},
   "source": [
    "Разделим на фичи и таргет."
   ]
  },
  {
   "cell_type": "code",
   "execution_count": 14,
   "metadata": {
    "trusted": true
   },
   "outputs": [],
   "source": [
    "features = data_ohe.drop('Price', axis=1)\n",
    "target = data_ohe['Price']"
   ]
  },
  {
   "cell_type": "markdown",
   "metadata": {},
   "source": [
    "Теперь поделим данные на обучающую и тестовую выборки в соотношении 3:1."
   ]
  },
  {
   "cell_type": "code",
   "execution_count": 15,
   "metadata": {
    "trusted": true
   },
   "outputs": [],
   "source": [
    "features_train_ohe, features_test_ohe, target_train_ohe, target_test_ohe = train_test_split(features, target, test_size=0.2, random_state=12345)\n",
    "\n",
    "features_train_cat, features_test_cat, target_train_cat, target_test_cat = train_test_split(data.drop('Price', axis=1), data['Price'], test_size=0.2, random_state=12345)\n",
    "\n",
    "features_train_ordinal, features_test_ordinal, target_train_ordinal, target_test_ordinal = train_test_split(data_ordinal.drop('Price', axis=1), data_ordinal['Price'], test_size=0.2, random_state=12345)"
   ]
  },
  {
   "cell_type": "markdown",
   "metadata": {},
   "source": []
  },
  {
   "cell_type": "markdown",
   "metadata": {},
   "source": [
    "Теперь приступим к обучению моделей, начнём с малого - Линейная Регрессия. Но для начала - отмасштабируем данные."
   ]
  },
  {
   "cell_type": "code",
   "execution_count": 16,
   "outputs": [
    {
     "name": "stdout",
     "output_type": "stream",
     "text": [
      "<class 'pandas.core.frame.DataFrame'>\n",
      "Int64Index: 330237 entries, 0 to 354368\n",
      "Data columns (total 11 columns):\n",
      " #   Column             Non-Null Count   Dtype \n",
      "---  ------             --------------   ----- \n",
      " 0   Price              330237 non-null  int64 \n",
      " 1   VehicleType        330237 non-null  object\n",
      " 2   RegistrationYear   330237 non-null  int64 \n",
      " 3   Gearbox            330237 non-null  object\n",
      " 4   Power              330237 non-null  int64 \n",
      " 5   Model              330237 non-null  object\n",
      " 6   Kilometer          330237 non-null  int64 \n",
      " 7   RegistrationMonth  330237 non-null  int64 \n",
      " 8   FuelType           330237 non-null  object\n",
      " 9   Brand              330237 non-null  object\n",
      " 10  Repaired           330237 non-null  bool  \n",
      "dtypes: bool(1), int64(5), object(5)\n",
      "memory usage: 28.0+ MB\n"
     ]
    }
   ],
   "source": [
    "data.info()"
   ],
   "metadata": {
    "collapsed": false
   }
  },
  {
   "cell_type": "markdown",
   "source": [
    "<div class=\"alert alert-info\">\n",
    "<font size=\"5\"><b>Комментарий ученика</b></font>\n",
    "<div>Выполнил масштабирование!\n",
    "\n",
    "\n",
    "ТАКЖЕ ВО ВСЕХ БЛОКАХ ПОМЕНЯЛ ПРЕДИКТ НА ОБУЧАЮЩЕЙ ВЫБОРКЕ ВМЕСТО ТЕСТОВОЙ.\n",
    "</div>\n",
    "</div>"
   ],
   "metadata": {
    "collapsed": false
   }
  },
  {
   "cell_type": "code",
   "execution_count": 17,
   "outputs": [],
   "source": [
    "# numeric = ['RegistrationYear', 'Power', 'Kilometer', 'RegistrationMonth']\n",
    "# scaler = StandardScaler()\n",
    "# scaler.fit(features_train_ohe[numeric])\n",
    "# features_train_scaled = features_train_ohe\n",
    "# features_test_scaled = features_test_ohe\n",
    "# features_train_scaled[numeric] = scaler.transform(features_train_ohe[numeric])\n",
    "# features_test_scaled[numeric] = scaler.transform(features_test_ohe[numeric])"
   ],
   "metadata": {
    "collapsed": false
   }
  },
  {
   "cell_type": "code",
   "execution_count": 18,
   "metadata": {
    "trusted": true
   },
   "outputs": [],
   "source": [
    "# %%time\n",
    "#\n",
    "# model_regression = LinearRegression()\n",
    "#\n",
    "# model_regression.fit(features_train_scaled, target_train_ohe)\n",
    "# scores = cross_val_score(model_regression, features, target, cv=5, verbose=True, n_jobs=-1, scoring='neg_root_mean_squared_error')\n",
    "# final_score = sum(scores) / len(scores)\n",
    "#\n",
    "# print('Средняя оценка качества модели:', final_score)"
   ]
  },
  {
   "cell_type": "code",
   "execution_count": 19,
   "outputs": [],
   "source": [
    "# %%time\n",
    "#\n",
    "# print('RMSE:', mean_squared_error(y_true=target_train_ohe, y_pred=model_regression.predict(features_train_scaled), squared=False))"
   ],
   "metadata": {
    "collapsed": false
   }
  },
  {
   "cell_type": "markdown",
   "metadata": {},
   "source": [
    "<div class=\"alert alert-block alert-danger\">\n",
    "<h2> Комментарий ревьюера <a class=\"tocSkip\"></h2>\n",
    "\n",
    "    \n",
    "<b>На доработку🤔:</b>\n",
    "    \n",
    "    \n",
    "1. Перед использованием линейной регрессии стоит отмасштабировать численные признаки.\n",
    "    \n",
    "2. Кроме того, если ты делишь данные только на 2 выборки (трейн и тест) без валидационной выборки, то стоит качество моделей проверять на кросс-валидации, а время на предикт измерять на тренировочной выборке. \n",
    "    \n",
    "3. Для каждой исследуемой модели стоит отдельно измерить время на fit и на predict\n",
    "    \n",
    "4. Тестовая выборка нужна только для того, чтобы в конце анализа, после того, как выбрана лучшая модель, проверить ее на тесте. Мы не сравниваем качество моделей на тестовой выборке. Так как тестовая выборка нужна для иммитации новых данных."
   ]
  },
  {
   "cell_type": "markdown",
   "metadata": {},
   "source": [
    "Теперь воспользуемся случайным лесом с подбором гипперпараметров."
   ]
  },
  {
   "cell_type": "markdown",
   "metadata": {},
   "source": [
    "<div class=\"alert alert-warning\">\n",
    "    <h2> Комментарий ревьюера <a class=\"tocSkip\"> </h2>\n",
    "    \n",
    "<b>Некоторые замечания и рекомендации💡:</b> \n",
    "        \n",
    "Для моделей на основе деревьев решений  можно использовать порядковое кодирование. "
   ]
  },
  {
   "cell_type": "markdown",
   "metadata": {},
   "source": [
    "Fitting 5 folds for each of 20 candidates, totalling 100 fits\n",
    "Лучшие параметры: {'max_depth': 40, 'n_estimators': 9}\n",
    "Лучший счет: -1812.5861995571854"
   ]
  },
  {
   "cell_type": "code",
   "execution_count": 20,
   "metadata": {
    "trusted": true
   },
   "outputs": [],
   "source": [
    "# model_forest = RandomForestRegressor(random_state=12345)\n",
    "# params = {'max_depth': range (10, 41, 10), 'n_estimators': range(1, 11, 2)}\n",
    "# grid = GridSearchCV(model_forest, params, cv=5, scoring='neg_root_mean_squared_error', n_jobs=-1, verbose=10)\n",
    "# grid.fit(features_train, target_train)\n",
    "# print('Лучшие параметры:', grid.best_params_)\n",
    "# print('Лучший счет:', grid.best_score_)"
   ]
  },
  {
   "cell_type": "markdown",
   "metadata": {},
   "source": [
    "<div class=\"alert alert-success\">\n",
    "<h2> Комментарий ревьюера <a class=\"tocSkip\"> </h2>\n",
    "\n",
    "<b>Все отлично!👍:</b> \n",
    "    \n",
    "Отлично, что перебираешь параметры."
   ]
  },
  {
   "cell_type": "code",
   "execution_count": 21,
   "metadata": {
    "trusted": true
   },
   "outputs": [
    {
     "name": "stderr",
     "output_type": "stream",
     "text": [
      "/Users/trupolog/opt/anaconda3/lib/python3.9/site-packages/sklearn/ensemble/_forest.py:396: FutureWarning: Criterion 'mse' was deprecated in v1.0 and will be removed in version 1.2. Use `criterion='squared_error'` which is equivalent.\n",
      "  warn(\n"
     ]
    },
    {
     "name": "stdout",
     "output_type": "stream",
     "text": [
      "CPU times: user 7min 12s, sys: 5.76 s, total: 7min 17s\n",
      "Wall time: 58.5 s\n"
     ]
    },
    {
     "data": {
      "text/plain": "RandomForestRegressor(criterion='mse', n_jobs=-1, random_state=42)"
     },
     "execution_count": 21,
     "metadata": {},
     "output_type": "execute_result"
    }
   ],
   "source": [
    "%%time\n",
    "#**grid.best_params_\n",
    "model_forest = RandomForestRegressor(random_state=42, n_estimators = 100, n_jobs=-1, criterion='mse')\n",
    "model_forest.fit(features_train_ohe, target_train_ohe)"
   ]
  },
  {
   "cell_type": "code",
   "execution_count": 22,
   "metadata": {
    "trusted": true
   },
   "outputs": [
    {
     "name": "stdout",
     "output_type": "stream",
     "text": [
      "CPU times: user 21.4 s, sys: 1.63 s, total: 23 s\n",
      "Wall time: 7.32 s\n"
     ]
    }
   ],
   "source": [
    "%%time\n",
    "predictions_forest = model_forest.predict(features_train_ohe)"
   ]
  },
  {
   "cell_type": "code",
   "execution_count": 23,
   "metadata": {
    "trusted": true
   },
   "outputs": [
    {
     "name": "stdout",
     "output_type": "stream",
     "text": [
      "RMSE: 694.353269185088\n"
     ]
    }
   ],
   "source": [
    "print('RMSE:', mean_squared_error(y_true=target_train_ohe, y_pred=predictions_forest, squared=False))"
   ]
  },
  {
   "cell_type": "markdown",
   "metadata": {},
   "source": [
    "Теперь воспользуемся *Catboost*."
   ]
  },
  {
   "cell_type": "markdown",
   "metadata": {},
   "source": [
    "\n",
    "bestTest = 1725.410008\n",
    "bestIteration = 999\n",
    "\n",
    "CPU times: user 1h 29min 6s, sys: 6min 4s, total: 1h 35min 11s\n",
    "Wall time: 17min 1s"
   ]
  },
  {
   "cell_type": "markdown",
   "source": [
    "<div class=\"alert alert-info\">\n",
    "<font size=\"5\"><b>Комментарий ученика</b></font>\n",
    "<div>Не стал запускать CatBoost так как сейчас нахожусь с другого устройства и будет обучаться очень долго:(\n",
    "</div>\n",
    "</div>"
   ],
   "metadata": {
    "collapsed": false
   }
  },
  {
   "cell_type": "code",
   "execution_count": 24,
   "metadata": {
    "trusted": true
   },
   "outputs": [],
   "source": [
    "# %%time\n",
    "# catboost = CatBoostRegressor(loss_function='RMSE')\n",
    "# parameters_cat = {'depth':[5,10], 'learning_rate':np.arange(0.1,1,0.2)}\n",
    "# catboost_grid = catboost.grid_search(parameters_cat,\n",
    "#                                      Pool(features_train_cat, target_train_cat, cat_features=[\"VehicleType\",\"Gearbox\",\n",
    "#                                                                                       \"Model\",\"FuelType\",\n",
    "#                                                                                       \"Brand\",\"Repaired\"]),\n",
    "#                                      cv=3,\n",
    "#                                      verbose=True,\n",
    "#                                      plot=False)"
   ]
  },
  {
   "cell_type": "code",
   "execution_count": 25,
   "metadata": {
    "trusted": true
   },
   "outputs": [
    {
     "ename": "NameError",
     "evalue": "name 'catboost_grid' is not defined",
     "output_type": "error",
     "traceback": [
      "\u001B[0;31m---------------------------------------------------------------------------\u001B[0m",
      "\u001B[0;31mNameError\u001B[0m                                 Traceback (most recent call last)",
      "\u001B[0;32m/var/folders/47/4y0ypxc92dz4v_h0jyn8jqpw0000gn/T/ipykernel_14585/3249078379.py\u001B[0m in \u001B[0;36m<module>\u001B[0;34m\u001B[0m\n\u001B[0;32m----> 1\u001B[0;31m model_catboost = CatBoostRegressor(depth=catboost_grid[\"params\"][\"depth\"],\n\u001B[0m\u001B[1;32m      2\u001B[0m                                     learning_rate=catboost_grid[\"params\"]['learning_rate'], loss_function='RMSE')\n\u001B[1;32m      3\u001B[0m model_catboost.fit(features_train_cat, target_train_cat, cat_features=[\"VehicleType\",\"Gearbox\",\n\u001B[1;32m      4\u001B[0m                                                               \u001B[0;34m\"Model\"\u001B[0m\u001B[0;34m,\u001B[0m\u001B[0;34m\"FuelType\"\u001B[0m\u001B[0;34m,\u001B[0m\u001B[0;34m\u001B[0m\u001B[0;34m\u001B[0m\u001B[0m\n\u001B[1;32m      5\u001B[0m                                                               \"Brand\",\"Repaired\"])\n",
      "\u001B[0;31mNameError\u001B[0m: name 'catboost_grid' is not defined"
     ]
    }
   ],
   "source": [
    "model_catboost = CatBoostRegressor(depth=catboost_grid[\"params\"][\"depth\"],\n",
    "                                    learning_rate=catboost_grid[\"params\"]['learning_rate'], loss_function='RMSE')\n",
    "model_catboost.fit(features_train_cat, target_train_cat, cat_features=[\"VehicleType\",\"Gearbox\",\n",
    "                                                              \"Model\",\"FuelType\",\n",
    "                                                              \"Brand\",\"Repaired\"])\n"
   ]
  },
  {
   "cell_type": "markdown",
   "metadata": {},
   "source": [
    "<div class=\"alert alert-success\">\n",
    "<h2> Комментарий ревьюера <a class=\"tocSkip\"> </h2>\n",
    "\n",
    "<b>Все отлично!👍:</b> \n",
    "    \n",
    "Отлично, что для CatBoost используешь незакодированные заранее фичи, чтобы использовать внутренний алгоритм кодирования."
   ]
  },
  {
   "cell_type": "code",
   "execution_count": null,
   "metadata": {
    "trusted": true
   },
   "outputs": [],
   "source": [
    "%%time\n",
    "predictions_cat = model_catboost.predict(features_train_cat)\n",
    "print('RMSE:', mean_squared_error(y_true=target_train_cat, y_pred=predictions_cat, squared=False))"
   ]
  },
  {
   "cell_type": "code",
   "execution_count": null,
   "outputs": [],
   "source": [
    "target_train_ordinal"
   ],
   "metadata": {
    "collapsed": false
   }
  },
  {
   "cell_type": "markdown",
   "source": [
    "<div class=\"alert alert-info\">\n",
    "<font size=\"5\"><b>Комментарий ученика</b></font>\n",
    "<div>Исправил на Ordinal.\n",
    "</div>\n",
    "</div>"
   ],
   "metadata": {
    "collapsed": false
   }
  },
  {
   "cell_type": "code",
   "execution_count": 26,
   "metadata": {
    "trusted": true
   },
   "outputs": [
    {
     "name": "stdout",
     "output_type": "stream",
     "text": [
      "[LightGBM] [Warning] Accuracy may be bad since you didn't explicitly set num_leaves OR 2^max_depth > num_leaves. (num_leaves=31).\n",
      "[LightGBM] [Warning] Accuracy may be bad since you didn't explicitly set num_leaves OR 2^max_depth > num_leaves. (num_leaves=31).\n",
      "[LightGBM] [Warning] Auto-choosing row-wise multi-threading, the overhead of testing was 0.015933 seconds.\n",
      "You can set `force_row_wise=true` to remove the overhead.\n",
      "And if memory is not enough, you can set `force_col_wise=true`.\n",
      "[LightGBM] [Info] Total Bins 655\n",
      "[LightGBM] [Info] Number of data points in the train set: 264189, number of used features: 10\n",
      "[LightGBM] [Warning] Accuracy may be bad since you didn't explicitly set num_leaves OR 2^max_depth > num_leaves. (num_leaves=31).\n",
      "[LightGBM] [Info] Start training from score 1176.847397\n",
      "[100]\ttraining's l2: 136541\tvalid_1's l2: 137763\n",
      "[200]\ttraining's l2: 127438\tvalid_1's l2: 131158\n",
      "[300]\ttraining's l2: 121990\tvalid_1's l2: 127832\n",
      "[400]\ttraining's l2: 118125\tvalid_1's l2: 125837\n",
      "[500]\ttraining's l2: 114929\tvalid_1's l2: 124294\n",
      "[600]\ttraining's l2: 112438\tvalid_1's l2: 123297\n",
      "[700]\ttraining's l2: 110230\tvalid_1's l2: 122542\n",
      "[800]\ttraining's l2: 108283\tvalid_1's l2: 121757\n",
      "[900]\ttraining's l2: 106364\tvalid_1's l2: 121090\n",
      "[1000]\ttraining's l2: 104688\tvalid_1's l2: 120448\n",
      "CPU times: user 2min 33s, sys: 30.4 s, total: 3min 3s\n",
      "Wall time: 1min 13s\n"
     ]
    }
   ],
   "source": [
    "%%time\n",
    "\n",
    "import lightgbm as lgb\n",
    "lgb_train = lgb.Dataset(features_train_ordinal, target_train_ordinal)\n",
    "lgb_test = lgb.Dataset(features_test_ordinal, target_test_ordinal, reference=lgb_train)\n",
    "parameters_light = {'metric': 'l2', 'max_depth':10,\"random_state\": 42,\"learning_rate\":0.1}\n",
    "light = lgb.train(parameters_light,\n",
    "                  lgb_train,\n",
    "                  num_boost_round=1000,\n",
    "                  valid_sets=[lgb_train, lgb_test],\n",
    "                  verbose_eval=100)"
   ]
  },
  {
   "cell_type": "markdown",
   "metadata": {},
   "source": [
    "<div class=\"alert alert-success\">\n",
    "<h2> Комментарий ревьюера <a class=\"tocSkip\"> </h2>\n",
    "\n",
    "<b>Все отлично!👍:</b> \n",
    "    \n",
    "Отлично, что есть анализ LightGBM"
   ]
  },
  {
   "cell_type": "markdown",
   "metadata": {},
   "source": [
    "<div class=\"alert alert-block alert-danger\">\n",
    "<h2> Комментарий ревьюера <a class=\"tocSkip\"></h2>\n",
    "\n",
    "    \n",
    "<b>На доработку🤔:</b>\n",
    "    \n",
    "Для LightGBM стоит исключить использование one-hot кодиярования категориальных переменных. \n",
    "    \n",
    "Можно использовать внутренний алгоритм кодирования, как для CatBoost, то есть подавать модели незакодированны ранее фичи в соответствии с документацией, либо использовать порядковое кодирование."
   ]
  },
  {
   "cell_type": "code",
   "execution_count": 27,
   "metadata": {
    "trusted": true
   },
   "outputs": [
    {
     "name": "stdout",
     "output_type": "stream",
     "text": [
      "LightGBM: 323.55562100673916\n",
      "CPU times: user 13.5 s, sys: 192 ms, total: 13.7 s\n",
      "Wall time: 1.68 s\n"
     ]
    }
   ],
   "source": [
    "%%time\n",
    "print(\"LightGBM:\",(mean_squared_error(target_train_ordinal,light.predict(features_train_ordinal),squared=False)))"
   ]
  },
  {
   "cell_type": "markdown",
   "metadata": {},
   "source": []
  },
  {
   "cell_type": "markdown",
   "metadata": {},
   "source": [
    "## Анализ моделей"
   ]
  },
  {
   "cell_type": "markdown",
   "metadata": {},
   "source": [
    "Были обучены 4 модели: Линейная Регрессия, Случайный Лес, CatBoost и LightGBM. Начнем по порядку: наименьшую ошибку показал CatBoost - 1703, следом идёт LightGBM - 1719, затем Случайный Лес - 1747, а уже потом Линейная Регрессия - 3207. Разница между бустингом и регрессией колосальна. А вот разница между тремя первыми местами не сильно заметна, особенно если рассматривать только бустинги - всего в 16 евро.\n",
    "\n",
    "Критерии, которые важны заказчику:\n",
    "-качество предсказания;\n",
    "-время обучения модели;\n",
    "-время предсказания модели.\n",
    "\n",
    "\n",
    "Отбросим линейную регрессии в силу ее слабой RMSE и за каждый критерий будем давать от 0 до 2 баллов за позицию в критериях.\n",
    "Качество предсказания: CatBoost - 2 балла, LightGBM - 1 балл, Случайный Лес - 0 баллов.\n",
    "Время обучения модели: CatBoost - 0 баллов, LightGBM - 2 балл, Случайный Лес - 1 балла.\n",
    "Время предсказания модели: CatBoost - 2 балла, LightGBM - 1 балл, Случайный Лес - 0 баллов.\n",
    "\n",
    "Таким образом у CatBoost - 4 балла, у LightGBM - 4 балла и у Случайного Лесса 1 балл.\n",
    "Но в данном случае выбор падет на LightGBM, так как уж намного быстрее эта модель обучилась в отличие от CatBoost."
   ]
  },
  {
   "cell_type": "markdown",
   "source": [
    "<div class=\"alert alert-info\">\n",
    "<font size=\"5\"><b>Комментарий ученика</b></font>\n",
    "<div>Проверил лучшую модель на ТЕСТОВОЙ.\n",
    "</div>\n",
    "</div>"
   ],
   "metadata": {
    "collapsed": false
   }
  },
  {
   "cell_type": "markdown",
   "source": [
    "Отличный результат!"
   ],
   "metadata": {
    "collapsed": false
   }
  },
  {
   "cell_type": "code",
   "execution_count": null,
   "outputs": [],
   "source": [
    "print(\"LightGBM:\",(mean_squared_error(target_test_ordinal,light.predict(features_test_ordinal),squared=False)))"
   ],
   "metadata": {
    "collapsed": false
   }
  },
  {
   "cell_type": "markdown",
   "metadata": {},
   "source": [
    "<div class=\"alert alert-success\">\n",
    "<h2> Комментарий ревьюера <a class=\"tocSkip\"> </h2>\n",
    "\n",
    "<b>Все отлично!👍:</b> \n",
    "    \n",
    "    \n",
    "Отлично, что сводишь все полученные результаты в одном месте."
   ]
  },
  {
   "cell_type": "markdown",
   "metadata": {},
   "source": [
    "<div class=\"alert alert-block alert-danger\">\n",
    "<h2> Комментарий ревьюера <a class=\"tocSkip\"></h2>\n",
    "\n",
    "    \n",
    "<b>На доработку🤔:</b>\n",
    "    \n",
    "    \n",
    "Вот здесь, после того, как выбрал лучшую модель, стоит проверить ее на тестовой выборке. Везде выше по проекту стоит исключить использование тестовой выборки."
   ]
  },
  {
   "cell_type": "markdown",
   "metadata": {},
   "source": [
    "## Вывод"
   ]
  },
  {
   "cell_type": "markdown",
   "metadata": {},
   "source": [
    "Была проведена работа по обработке данных, обучению модель и анализа лучшей. В самом начале мы первично изучали данные и начали их обрабатывать - было много пропусков и не все признаки соответствовали своим типам. После разбили данные на обучающую и тестовую выборки несколько раз, так как разные модели могут принимать на вход только определенные данные - некоторые уже закодированные, а некоторые могут принимать и не закодированные данные. Обучив и проверив модели на тестовых выборках - стало ясно, что линейная регрессия такая себе модель для данной задачи, а после сравнительного анализа стало ясно, что лучшая модель в нашем случае - LightGBM!"
   ]
  },
  {
   "cell_type": "markdown",
   "metadata": {},
   "source": [
    "<div class=\"alert alert-success\">\n",
    "<h2> Комментарий ревьюера <a class=\"tocSkip\"> </h2>\n",
    "\n",
    "<b>Все отлично!👍:</b> \n",
    "    \n",
    "Отлично, что есть резюмирующий вывод."
   ]
  },
  {
   "cell_type": "markdown",
   "metadata": {},
   "source": [
    "<div class=\"alert alert-warning\">\n",
    "    <h2> Комментарий ревьюера <a class=\"tocSkip\"> </h2>\n",
    "    \n",
    "<b>Некоторые замечания и рекомендации💡:</b> \n",
    "        \n",
    "Здесь я оставлю несколько интересных и полезных ссылок по теме:\n",
    "        \n",
    "        \n",
    "1. \"XGBoost, LightGBM or CatBoost — which boosting algorithm should I use?\"\n",
    "\n",
    "https://medium.com/riskified-technology/xgboost-lightgbm-or-catboost-which-boosting-algorithm-should-i-use-e7fda7bb36bc\n",
    "        \n",
    "        \n",
    "2. \"Transforming categorical features to numerical features\"\n",
    "        \n",
    "https://catboost.ai/en/docs/concepts/algorithm-main-stages_cat-to-numberic\n",
    "        \n",
    "        \n",
    "3. \"Градиентный Бустинг: самый частый вопрос на собеседовании на дата саентиста\"\n",
    "        \n",
    "https://www.youtube.com/watch?v=ZNJ3lKyI-EY\n",
    "        \n",
    "4. \"Tutorial: CatBoost Overview\"\n",
    "        \n",
    "https://www.kaggle.com/code/mitribunskiy/tutorial-catboost-overview/notebook\n",
    "        \n",
    "5. \"Gradient Boosting from scratch\"\n",
    "        \n",
    "https://blog.mlreview.com/gradient-boosting-from-scratch-1e317ae4587d"
   ]
  },
  {
   "cell_type": "markdown",
   "metadata": {},
   "source": [
    "<div style=\"border:solid Chocolate 2px; padding: 40px\">\n",
    "    \n",
    "<b>Общий вывод по проекту</b>\n",
    "\n",
    "Александр, благодарю тебя за работу! Проект отличный, продуманный, структурно выдержанный и аккуратный. Видно, что ты вдумчиво подходишь к работе. Однако стоит внести некоторые исправления, чтобы можно было считать проект завершенным.\n",
    "\n",
    "**Положительные моменты проекта, которые хочу еще раз подчеркнуть:**\n",
    "\n",
    "1. Удалены все лишние признаки и константный признак\n",
    "2. Есть промежуточные выводы по ходу анализа признаков\n",
    "3. Есть обработка пропущенных значений\n",
    "4. Кодирование категориальных признаков осуществляется.\n",
    "5. Есть анализ времени предсказания и обучения моделей, а также их качества\n",
    "6. Предложена модель с учетом времени обучения и предсказания, а также качества работы\n",
    "7. Использованы разные методы кодирования категориальных переменных.\n",
    "    \n",
    "**Замечания, на которые стоит обратить внимание при будущей работе:**\n",
    "    \n",
    "    1. Стоит обработать аномальные значения в данных\n",
    "    2. Для LightGBM стоит использовать соответствующий метод кодирования\n",
    "    3. Время предсказания, когда есть только тренировочная и тестовая выборки, стоит измерять на тренировочной выборке\n",
    "    4. Модели выбирать по результатам кросс-валидации\n",
    "    5. На тестовой выборке стоит проверять только лучшую модель.\n",
    "    6. Для использования линейной регрессии стоит отмасштабировать численные признаки\n",
    "\n",
    "    \n",
    "    \n",
    "Остальные комментарии ты найдешь выше.\n",
    "\n",
    "**Желаю удачи и жду твой проект на повторное ревью!**"
   ]
  },
  {
   "cell_type": "markdown",
   "metadata": {},
   "source": [
    "## Чек-лист проверки"
   ]
  },
  {
   "cell_type": "markdown",
   "metadata": {},
   "source": [
    "Поставьте 'x' в выполненных пунктах. Далее нажмите Shift+Enter."
   ]
  },
  {
   "cell_type": "markdown",
   "metadata": {},
   "source": [
    "- [x]  Jupyter Notebook открыт\n",
    "- [x]  Весь код выполняется без ошибок\n",
    "- [x]  Ячейки с кодом расположены в порядке исполнения\n",
    "- [x]  Выполнена загрузка и подготовка данных\n",
    "- [x]  Выполнено обучение моделей\n",
    "- [x]  Есть анализ скорости работы и качества моделей"
   ]
  },
  {
   "cell_type": "code",
   "execution_count": null,
   "outputs": [],
   "source": [],
   "metadata": {
    "collapsed": false
   }
  }
 ],
 "metadata": {
  "ExecuteTimeLog": [
   {
    "duration": 1382,
    "start_time": "2022-12-30T11:33:04.607Z"
   },
   {
    "duration": 114,
    "start_time": "2022-12-30T11:33:05.991Z"
   },
   {
    "duration": 0,
    "start_time": "2022-12-30T11:33:06.107Z"
   },
   {
    "duration": 0,
    "start_time": "2022-12-30T11:33:06.108Z"
   },
   {
    "duration": 0,
    "start_time": "2022-12-30T11:33:06.109Z"
   },
   {
    "duration": 0,
    "start_time": "2022-12-30T11:33:06.110Z"
   },
   {
    "duration": 0,
    "start_time": "2022-12-30T11:33:06.111Z"
   },
   {
    "duration": 0,
    "start_time": "2022-12-30T11:33:06.112Z"
   },
   {
    "duration": 0,
    "start_time": "2022-12-30T11:33:06.113Z"
   },
   {
    "duration": 0,
    "start_time": "2022-12-30T11:33:06.114Z"
   },
   {
    "duration": 0,
    "start_time": "2022-12-30T11:33:06.115Z"
   },
   {
    "duration": 0,
    "start_time": "2022-12-30T11:33:06.116Z"
   },
   {
    "duration": 0,
    "start_time": "2022-12-30T11:33:06.117Z"
   },
   {
    "duration": 0,
    "start_time": "2022-12-30T11:33:06.118Z"
   },
   {
    "duration": 0,
    "start_time": "2022-12-30T11:33:06.120Z"
   },
   {
    "duration": 0,
    "start_time": "2022-12-30T11:33:06.121Z"
   },
   {
    "duration": 0,
    "start_time": "2022-12-30T11:33:06.121Z"
   },
   {
    "duration": 0,
    "start_time": "2022-12-30T11:33:06.122Z"
   },
   {
    "duration": 0,
    "start_time": "2022-12-30T11:33:06.124Z"
   },
   {
    "duration": 0,
    "start_time": "2022-12-30T11:33:06.125Z"
   },
   {
    "duration": 0,
    "start_time": "2022-12-30T11:33:06.126Z"
   },
   {
    "duration": 0,
    "start_time": "2022-12-30T11:33:06.127Z"
   },
   {
    "duration": 1582,
    "start_time": "2022-12-30T11:51:02.487Z"
   },
   {
    "duration": 848,
    "start_time": "2022-12-30T11:51:04.072Z"
   },
   {
    "duration": 122,
    "start_time": "2022-12-30T11:51:04.922Z"
   },
   {
    "duration": 152,
    "start_time": "2022-12-30T11:51:05.046Z"
   },
   {
    "duration": 116,
    "start_time": "2022-12-30T11:51:05.200Z"
   },
   {
    "duration": 33,
    "start_time": "2022-12-30T11:51:05.318Z"
   },
   {
    "duration": 82,
    "start_time": "2022-12-30T11:51:05.353Z"
   },
   {
    "duration": 19,
    "start_time": "2022-12-30T11:51:05.437Z"
   },
   {
    "duration": 68,
    "start_time": "2022-12-30T11:51:05.458Z"
   },
   {
    "duration": 1054,
    "start_time": "2022-12-30T11:51:05.528Z"
   },
   {
    "duration": 218,
    "start_time": "2022-12-30T11:51:06.584Z"
   },
   {
    "duration": 490,
    "start_time": "2022-12-30T11:51:06.804Z"
   },
   {
    "duration": 41582,
    "start_time": "2022-12-30T11:51:07.296Z"
   },
   {
    "duration": 3,
    "start_time": "2022-12-30T11:51:48.880Z"
   }
  ],
  "kernelspec": {
   "display_name": "Python 3 (ipykernel)",
   "language": "python",
   "name": "python3"
  },
  "language_info": {
   "codemirror_mode": {
    "name": "ipython",
    "version": 3
   },
   "file_extension": ".py",
   "mimetype": "text/x-python",
   "name": "python",
   "nbconvert_exporter": "python",
   "pygments_lexer": "ipython3",
   "version": "3.9.5"
  },
  "toc": {
   "base_numbering": 1,
   "nav_menu": {},
   "number_sections": true,
   "sideBar": true,
   "skip_h1_title": true,
   "title_cell": "Table of Contents",
   "title_sidebar": "Contents",
   "toc_cell": false,
   "toc_position": {},
   "toc_section_display": true,
   "toc_window_display": false
  }
 },
 "nbformat": 4,
 "nbformat_minor": 2
}
