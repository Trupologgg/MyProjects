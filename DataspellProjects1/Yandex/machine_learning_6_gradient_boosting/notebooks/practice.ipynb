{
 "cells": [
  {
   "cell_type": "code",
   "execution_count": 6,
   "metadata": {
    "collapsed": true
   },
   "outputs": [
    {
     "name": "stdout",
     "output_type": "stream",
     "text": [
      "Learning rate set to 0.277333\n",
      "0:\tlearn: 0.4701886\ttotal: 70.4ms\tremaining: 10.5s\n",
      "10:\tlearn: 0.0813106\ttotal: 541ms\tremaining: 6.83s\n",
      "20:\tlearn: 0.0653981\ttotal: 1.87s\tremaining: 11.5s\n",
      "30:\tlearn: 0.0620746\ttotal: 4.05s\tremaining: 15.6s\n",
      "40:\tlearn: 0.0603952\ttotal: 6.66s\tremaining: 17.7s\n",
      "50:\tlearn: 0.0585216\ttotal: 9.65s\tremaining: 18.7s\n",
      "60:\tlearn: 0.0570709\ttotal: 12.1s\tremaining: 17.6s\n",
      "70:\tlearn: 0.0559086\ttotal: 14.6s\tremaining: 16.2s\n",
      "80:\tlearn: 0.0547859\ttotal: 17s\tremaining: 14.5s\n",
      "90:\tlearn: 0.0534483\ttotal: 19.5s\tremaining: 12.6s\n",
      "100:\tlearn: 0.0523723\ttotal: 22s\tremaining: 10.7s\n",
      "110:\tlearn: 0.0516798\ttotal: 25.9s\tremaining: 9.12s\n",
      "120:\tlearn: 0.0510112\ttotal: 28.2s\tremaining: 6.76s\n",
      "130:\tlearn: 0.0505140\ttotal: 29.9s\tremaining: 4.34s\n",
      "140:\tlearn: 0.0496296\ttotal: 31.9s\tremaining: 2.04s\n",
      "149:\tlearn: 0.0490503\ttotal: 34.2s\tremaining: 0us\n",
      "0.8170633537643288\n"
     ]
    }
   ],
   "source": [
    "import pandas as pd\n",
    "from sklearn.model_selection import train_test_split\n",
    "from catboost import CatBoostClassifier\n",
    "from sklearn.metrics import roc_auc_score\n",
    "\n",
    "\n",
    "data = pd.read_csv('../datasets/travel_insurance.csv')\n",
    "\n",
    "features_train, features_valid, target_train, target_valid = train_test_split(\n",
    "    data.drop('Claim', axis=1), data.Claim, test_size=0.25, random_state=12345)\n",
    "\n",
    "cat_features = ['Agency', 'Agency Type', 'Distribution Channel',\n",
    "                'Product Name', 'Destination', 'Gender']\n",
    "\n",
    "model = CatBoostClassifier(loss_function=\"Logloss\", iterations=150, max_depth=15)\n",
    "\n",
    "model.fit(features_train, target_train, cat_features=cat_features, verbose=10)\n",
    "\n",
    "probabilities_valid = model.predict_proba(features_valid)\n",
    "probabilities_one_valid = probabilities_valid[:, 1]\n",
    "print(roc_auc_score(target_valid, probabilities_one_valid))"
   ]
  }
 ],
 "metadata": {
  "kernelspec": {
   "display_name": "Python 3",
   "language": "python",
   "name": "python3"
  },
  "language_info": {
   "codemirror_mode": {
    "name": "ipython",
    "version": 2
   },
   "file_extension": ".py",
   "mimetype": "text/x-python",
   "name": "python",
   "nbconvert_exporter": "python",
   "pygments_lexer": "ipython2",
   "version": "2.7.6"
  }
 },
 "nbformat": 4,
 "nbformat_minor": 0
}
