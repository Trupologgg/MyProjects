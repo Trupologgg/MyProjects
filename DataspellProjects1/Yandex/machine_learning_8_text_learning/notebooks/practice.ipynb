{
 "cells": [
  {
   "cell_type": "code",
   "execution_count": 2,
   "metadata": {
    "collapsed": true
   },
   "outputs": [],
   "source": [
    "import pandas as pd\n",
    "import numpy as np\n",
    "import nltk\n",
    "from nltk.corpus import stopwords as nltk_stopwords\n",
    "from sklearn.feature_extraction.text import TfidfVectorizer\n",
    "from sklearn.linear_model import LogisticRegression\n"
   ]
  },
  {
   "cell_type": "code",
   "execution_count": 3,
   "outputs": [
    {
     "data": {
      "text/plain": "                                                   text  \\\n0     RT @tiredfennel: если криса так интересуют дет...   \n1     @xsealord по 200 руб. в месяц можно разместить...   \n2     @haosANDlaw @Etishkindyx учитывая, что сейчас ...   \n3     Товарищ    :) Но я никак не могу отдельно не о...   \n4     RT @BodyaNick: Квн был отличный !) Оооочень по...   \n...                                                 ...   \n2995  жуйк, ачивки в контре — зло! мой младший брат ...   \n2996    Не хочу идти на танцы :( http://t.co/5OdPjbYXOC   \n2997  На улице пусто!ни людей,ни машин,наверно холод...   \n2998  По-моему мы и ходили за водкой в три часа за э...   \n2999  Р.В сказал,что с утра будет самостоятельная,ну...   \n\n                                              lemm_text  \n0     если крис так интересовать ребёнок то либо они...  \n1     по рубль в месяц можно разместить ссылка на те...  \n2     учитывать что сейчас преобладать один половина...  \n3     товарищ но я никак не мочь отдельно не отметит...  \n4     квн быть отличный оооочень понравиться женский...  \n...                                                 ...  \n2995  жуйк ачивка в контра зло мой младший брат втян...  \n2996                           не хотеть идти на танец   \n2997  на улица пусто ни человек ни машина наверно хо...  \n2998  по мой мы и ходить за водка в три час за это ч...  \n2999  р в сказать что с утро быть самостоятельный ну...  \n\n[3000 rows x 2 columns]",
      "text/html": "<div>\n<style scoped>\n    .dataframe tbody tr th:only-of-type {\n        vertical-align: middle;\n    }\n\n    .dataframe tbody tr th {\n        vertical-align: top;\n    }\n\n    .dataframe thead th {\n        text-align: right;\n    }\n</style>\n<table border=\"1\" class=\"dataframe\">\n  <thead>\n    <tr style=\"text-align: right;\">\n      <th></th>\n      <th>text</th>\n      <th>lemm_text</th>\n    </tr>\n  </thead>\n  <tbody>\n    <tr>\n      <th>0</th>\n      <td>RT @tiredfennel: если криса так интересуют дет...</td>\n      <td>если крис так интересовать ребёнок то либо они...</td>\n    </tr>\n    <tr>\n      <th>1</th>\n      <td>@xsealord по 200 руб. в месяц можно разместить...</td>\n      <td>по рубль в месяц можно разместить ссылка на те...</td>\n    </tr>\n    <tr>\n      <th>2</th>\n      <td>@haosANDlaw @Etishkindyx учитывая, что сейчас ...</td>\n      <td>учитывать что сейчас преобладать один половина...</td>\n    </tr>\n    <tr>\n      <th>3</th>\n      <td>Товарищ    :) Но я никак не могу отдельно не о...</td>\n      <td>товарищ но я никак не мочь отдельно не отметит...</td>\n    </tr>\n    <tr>\n      <th>4</th>\n      <td>RT @BodyaNick: Квн был отличный !) Оооочень по...</td>\n      <td>квн быть отличный оооочень понравиться женский...</td>\n    </tr>\n    <tr>\n      <th>...</th>\n      <td>...</td>\n      <td>...</td>\n    </tr>\n    <tr>\n      <th>2995</th>\n      <td>жуйк, ачивки в контре — зло! мой младший брат ...</td>\n      <td>жуйк ачивка в контра зло мой младший брат втян...</td>\n    </tr>\n    <tr>\n      <th>2996</th>\n      <td>Не хочу идти на танцы :( http://t.co/5OdPjbYXOC</td>\n      <td>не хотеть идти на танец</td>\n    </tr>\n    <tr>\n      <th>2997</th>\n      <td>На улице пусто!ни людей,ни машин,наверно холод...</td>\n      <td>на улица пусто ни человек ни машина наверно хо...</td>\n    </tr>\n    <tr>\n      <th>2998</th>\n      <td>По-моему мы и ходили за водкой в три часа за э...</td>\n      <td>по мой мы и ходить за водка в три час за это ч...</td>\n    </tr>\n    <tr>\n      <th>2999</th>\n      <td>Р.В сказал,что с утра будет самостоятельная,ну...</td>\n      <td>р в сказать что с утро быть самостоятельный ну...</td>\n    </tr>\n  </tbody>\n</table>\n<p>3000 rows × 2 columns</p>\n</div>"
     },
     "execution_count": 3,
     "metadata": {},
     "output_type": "execute_result"
    }
   ],
   "source": [
    "train_data = pd.read_csv('../datasets/tweets_lemm_train.csv')\n",
    "test_data = pd.read_csv('../datasets/tweets_lemm_test.csv')\n",
    "test_data"
   ],
   "metadata": {
    "collapsed": false
   }
  },
  {
   "cell_type": "code",
   "execution_count": 4,
   "outputs": [],
   "source": [
    "features_train = train_data['lemm_text']\n",
    "target_train = train_data['positive']\n",
    "features_test = test_data['lemm_text']\n",
    "# target_test = test_data['positive']"
   ],
   "metadata": {
    "collapsed": false
   }
  },
  {
   "cell_type": "code",
   "execution_count": 5,
   "outputs": [
    {
     "data": {
      "text/plain": "                                                   text  positive  \\\n0     @first_timee хоть я и школота, но поверь, у на...         1   \n1     Да, все-таки он немного похож на него. Но мой ...         1   \n2     RT @KatiaCheh: Ну ты идиотка) я испугалась за ...         1   \n3     RT @digger2912: \"Кто то в углу сидит и погибае...         1   \n4     @irina_dyshkant Вот что значит страшилка :D\\r\\...         1   \n...                                                 ...       ...   \n4995  Вроде дружили 10 лет и в один момент все разру...         0   \n4996  @m_gulko \\r\\nПоэтому и поздравляю заранее, что...         0   \n4997  RT @kubudojede: черт, ну зачем они переделали ...         0   \n4998  RT @xidewojopiba: Вроде бы и любим друг друга,...         0   \n4999  Одна из самых скучных суббот за последнее врем...         0   \n\n                                              lemm_text  \n0     хоть я и школотый но поверь у мы то же самый о...  \n1     да весь таки он немного похожий на он но мой м...  \n2                     ну ты идиотка я испугаться за ты   \n3     кто то в угол сидеть и погибать от голод а мы ...  \n4     вот что значит страшилка но блин посмотреть ве...  \n...                                                 ...  \n4995  вроде дружить год и в один момент весь разруши...  \n4996  поэтому и поздравлять заранее что не получитьс...  \n4997                     черта ну зачем они переделать   \n4998  вроде бы и любим друг друг и быть вместе не мо...  \n4999  один из самый скучный суббота за последний вре...  \n\n[5000 rows x 3 columns]",
      "text/html": "<div>\n<style scoped>\n    .dataframe tbody tr th:only-of-type {\n        vertical-align: middle;\n    }\n\n    .dataframe tbody tr th {\n        vertical-align: top;\n    }\n\n    .dataframe thead th {\n        text-align: right;\n    }\n</style>\n<table border=\"1\" class=\"dataframe\">\n  <thead>\n    <tr style=\"text-align: right;\">\n      <th></th>\n      <th>text</th>\n      <th>positive</th>\n      <th>lemm_text</th>\n    </tr>\n  </thead>\n  <tbody>\n    <tr>\n      <th>0</th>\n      <td>@first_timee хоть я и школота, но поверь, у на...</td>\n      <td>1</td>\n      <td>хоть я и школотый но поверь у мы то же самый о...</td>\n    </tr>\n    <tr>\n      <th>1</th>\n      <td>Да, все-таки он немного похож на него. Но мой ...</td>\n      <td>1</td>\n      <td>да весь таки он немного похожий на он но мой м...</td>\n    </tr>\n    <tr>\n      <th>2</th>\n      <td>RT @KatiaCheh: Ну ты идиотка) я испугалась за ...</td>\n      <td>1</td>\n      <td>ну ты идиотка я испугаться за ты</td>\n    </tr>\n    <tr>\n      <th>3</th>\n      <td>RT @digger2912: \"Кто то в углу сидит и погибае...</td>\n      <td>1</td>\n      <td>кто то в угол сидеть и погибать от голод а мы ...</td>\n    </tr>\n    <tr>\n      <th>4</th>\n      <td>@irina_dyshkant Вот что значит страшилка :D\\r\\...</td>\n      <td>1</td>\n      <td>вот что значит страшилка но блин посмотреть ве...</td>\n    </tr>\n    <tr>\n      <th>...</th>\n      <td>...</td>\n      <td>...</td>\n      <td>...</td>\n    </tr>\n    <tr>\n      <th>4995</th>\n      <td>Вроде дружили 10 лет и в один момент все разру...</td>\n      <td>0</td>\n      <td>вроде дружить год и в один момент весь разруши...</td>\n    </tr>\n    <tr>\n      <th>4996</th>\n      <td>@m_gulko \\r\\nПоэтому и поздравляю заранее, что...</td>\n      <td>0</td>\n      <td>поэтому и поздравлять заранее что не получитьс...</td>\n    </tr>\n    <tr>\n      <th>4997</th>\n      <td>RT @kubudojede: черт, ну зачем они переделали ...</td>\n      <td>0</td>\n      <td>черта ну зачем они переделать</td>\n    </tr>\n    <tr>\n      <th>4998</th>\n      <td>RT @xidewojopiba: Вроде бы и любим друг друга,...</td>\n      <td>0</td>\n      <td>вроде бы и любим друг друг и быть вместе не мо...</td>\n    </tr>\n    <tr>\n      <th>4999</th>\n      <td>Одна из самых скучных суббот за последнее врем...</td>\n      <td>0</td>\n      <td>один из самый скучный суббота за последний вре...</td>\n    </tr>\n  </tbody>\n</table>\n<p>5000 rows × 3 columns</p>\n</div>"
     },
     "execution_count": 5,
     "metadata": {},
     "output_type": "execute_result"
    }
   ],
   "source": [
    "train_data"
   ],
   "metadata": {
    "collapsed": false
   }
  },
  {
   "cell_type": "code",
   "execution_count": 6,
   "outputs": [
    {
     "name": "stderr",
     "output_type": "stream",
     "text": [
      "[nltk_data] Downloading package stopwords to\n",
      "[nltk_data]     /Users/trupolog/nltk_data...\n",
      "[nltk_data]   Package stopwords is already up-to-date!\n"
     ]
    }
   ],
   "source": [
    "nltk.download('stopwords')\n",
    "stopwords = set(nltk_stopwords.words('russian'))\n",
    "count_tf_idf = TfidfVectorizer(stop_words=stopwords)"
   ],
   "metadata": {
    "collapsed": false
   }
  },
  {
   "cell_type": "code",
   "execution_count": 7,
   "outputs": [
    {
     "name": "stderr",
     "output_type": "stream",
     "text": [
      "/Users/trupolog/opt/anaconda3/lib/python3.9/site-packages/sklearn/utils/deprecation.py:87: FutureWarning: Function get_feature_names is deprecated; get_feature_names is deprecated in 1.0 and will be removed in 1.2. Please use get_feature_names_out instead.\n",
      "  warnings.warn(msg, category=FutureWarning)\n"
     ]
    },
    {
     "data": {
      "text/plain": "       аа  ааа  аааа  ааааа  аааааа  ааааааа  ааааааааааа  ааааааааааааа  \\\n0     0.0  0.0   0.0    0.0     0.0      0.0          0.0            0.0   \n1     0.0  0.0   0.0    0.0     0.0      0.0          0.0            0.0   \n2     0.0  0.0   0.0    0.0     0.0      0.0          0.0            0.0   \n3     0.0  0.0   0.0    0.0     0.0      0.0          0.0            0.0   \n4     0.0  0.0   0.0    0.0     0.0      0.0          0.0            0.0   \n...   ...  ...   ...    ...     ...      ...          ...            ...   \n4995  0.0  0.0   0.0    0.0     0.0      0.0          0.0            0.0   \n4996  0.0  0.0   0.0    0.0     0.0      0.0          0.0            0.0   \n4997  0.0  0.0   0.0    0.0     0.0      0.0          0.0            0.0   \n4998  0.0  0.0   0.0    0.0     0.0      0.0          0.0            0.0   \n4999  0.0  0.0   0.0    0.0     0.0      0.0          0.0            0.0   \n\n      ааааааааааааааа  аааааааааааааааааааааааааа  ...  ясно  ясный  яшка  \\\n0                 0.0                         0.0  ...   0.0    0.0   0.0   \n1                 0.0                         0.0  ...   0.0    0.0   0.0   \n2                 0.0                         0.0  ...   0.0    0.0   0.0   \n3                 0.0                         0.0  ...   0.0    0.0   0.0   \n4                 0.0                         0.0  ...   0.0    0.0   0.0   \n...               ...                         ...  ...   ...    ...   ...   \n4995              0.0                         0.0  ...   0.0    0.0   0.0   \n4996              0.0                         0.0  ...   0.0    0.0   0.0   \n4997              0.0                         0.0  ...   0.0    0.0   0.0   \n4998              0.0                         0.0  ...   0.0    0.0   0.0   \n4999              0.0                         0.0  ...   0.0    0.0   0.0   \n\n      ящик  яяя  ёбаной  ёбаный  ёлка  ёлочка  ёпт  \n0      0.0  0.0     0.0     0.0   0.0     0.0  0.0  \n1      0.0  0.0     0.0     0.0   0.0     0.0  0.0  \n2      0.0  0.0     0.0     0.0   0.0     0.0  0.0  \n3      0.0  0.0     0.0     0.0   0.0     0.0  0.0  \n4      0.0  0.0     0.0     0.0   0.0     0.0  0.0  \n...    ...  ...     ...     ...   ...     ...  ...  \n4995   0.0  0.0     0.0     0.0   0.0     0.0  0.0  \n4996   0.0  0.0     0.0     0.0   0.0     0.0  0.0  \n4997   0.0  0.0     0.0     0.0   0.0     0.0  0.0  \n4998   0.0  0.0     0.0     0.0   0.0     0.0  0.0  \n4999   0.0  0.0     0.0     0.0   0.0     0.0  0.0  \n\n[5000 rows x 9737 columns]",
      "text/html": "<div>\n<style scoped>\n    .dataframe tbody tr th:only-of-type {\n        vertical-align: middle;\n    }\n\n    .dataframe tbody tr th {\n        vertical-align: top;\n    }\n\n    .dataframe thead th {\n        text-align: right;\n    }\n</style>\n<table border=\"1\" class=\"dataframe\">\n  <thead>\n    <tr style=\"text-align: right;\">\n      <th></th>\n      <th>аа</th>\n      <th>ааа</th>\n      <th>аааа</th>\n      <th>ааааа</th>\n      <th>аааааа</th>\n      <th>ааааааа</th>\n      <th>ааааааааааа</th>\n      <th>ааааааааааааа</th>\n      <th>ааааааааааааааа</th>\n      <th>аааааааааааааааааааааааааа</th>\n      <th>...</th>\n      <th>ясно</th>\n      <th>ясный</th>\n      <th>яшка</th>\n      <th>ящик</th>\n      <th>яяя</th>\n      <th>ёбаной</th>\n      <th>ёбаный</th>\n      <th>ёлка</th>\n      <th>ёлочка</th>\n      <th>ёпт</th>\n    </tr>\n  </thead>\n  <tbody>\n    <tr>\n      <th>0</th>\n      <td>0.0</td>\n      <td>0.0</td>\n      <td>0.0</td>\n      <td>0.0</td>\n      <td>0.0</td>\n      <td>0.0</td>\n      <td>0.0</td>\n      <td>0.0</td>\n      <td>0.0</td>\n      <td>0.0</td>\n      <td>...</td>\n      <td>0.0</td>\n      <td>0.0</td>\n      <td>0.0</td>\n      <td>0.0</td>\n      <td>0.0</td>\n      <td>0.0</td>\n      <td>0.0</td>\n      <td>0.0</td>\n      <td>0.0</td>\n      <td>0.0</td>\n    </tr>\n    <tr>\n      <th>1</th>\n      <td>0.0</td>\n      <td>0.0</td>\n      <td>0.0</td>\n      <td>0.0</td>\n      <td>0.0</td>\n      <td>0.0</td>\n      <td>0.0</td>\n      <td>0.0</td>\n      <td>0.0</td>\n      <td>0.0</td>\n      <td>...</td>\n      <td>0.0</td>\n      <td>0.0</td>\n      <td>0.0</td>\n      <td>0.0</td>\n      <td>0.0</td>\n      <td>0.0</td>\n      <td>0.0</td>\n      <td>0.0</td>\n      <td>0.0</td>\n      <td>0.0</td>\n    </tr>\n    <tr>\n      <th>2</th>\n      <td>0.0</td>\n      <td>0.0</td>\n      <td>0.0</td>\n      <td>0.0</td>\n      <td>0.0</td>\n      <td>0.0</td>\n      <td>0.0</td>\n      <td>0.0</td>\n      <td>0.0</td>\n      <td>0.0</td>\n      <td>...</td>\n      <td>0.0</td>\n      <td>0.0</td>\n      <td>0.0</td>\n      <td>0.0</td>\n      <td>0.0</td>\n      <td>0.0</td>\n      <td>0.0</td>\n      <td>0.0</td>\n      <td>0.0</td>\n      <td>0.0</td>\n    </tr>\n    <tr>\n      <th>3</th>\n      <td>0.0</td>\n      <td>0.0</td>\n      <td>0.0</td>\n      <td>0.0</td>\n      <td>0.0</td>\n      <td>0.0</td>\n      <td>0.0</td>\n      <td>0.0</td>\n      <td>0.0</td>\n      <td>0.0</td>\n      <td>...</td>\n      <td>0.0</td>\n      <td>0.0</td>\n      <td>0.0</td>\n      <td>0.0</td>\n      <td>0.0</td>\n      <td>0.0</td>\n      <td>0.0</td>\n      <td>0.0</td>\n      <td>0.0</td>\n      <td>0.0</td>\n    </tr>\n    <tr>\n      <th>4</th>\n      <td>0.0</td>\n      <td>0.0</td>\n      <td>0.0</td>\n      <td>0.0</td>\n      <td>0.0</td>\n      <td>0.0</td>\n      <td>0.0</td>\n      <td>0.0</td>\n      <td>0.0</td>\n      <td>0.0</td>\n      <td>...</td>\n      <td>0.0</td>\n      <td>0.0</td>\n      <td>0.0</td>\n      <td>0.0</td>\n      <td>0.0</td>\n      <td>0.0</td>\n      <td>0.0</td>\n      <td>0.0</td>\n      <td>0.0</td>\n      <td>0.0</td>\n    </tr>\n    <tr>\n      <th>...</th>\n      <td>...</td>\n      <td>...</td>\n      <td>...</td>\n      <td>...</td>\n      <td>...</td>\n      <td>...</td>\n      <td>...</td>\n      <td>...</td>\n      <td>...</td>\n      <td>...</td>\n      <td>...</td>\n      <td>...</td>\n      <td>...</td>\n      <td>...</td>\n      <td>...</td>\n      <td>...</td>\n      <td>...</td>\n      <td>...</td>\n      <td>...</td>\n      <td>...</td>\n      <td>...</td>\n    </tr>\n    <tr>\n      <th>4995</th>\n      <td>0.0</td>\n      <td>0.0</td>\n      <td>0.0</td>\n      <td>0.0</td>\n      <td>0.0</td>\n      <td>0.0</td>\n      <td>0.0</td>\n      <td>0.0</td>\n      <td>0.0</td>\n      <td>0.0</td>\n      <td>...</td>\n      <td>0.0</td>\n      <td>0.0</td>\n      <td>0.0</td>\n      <td>0.0</td>\n      <td>0.0</td>\n      <td>0.0</td>\n      <td>0.0</td>\n      <td>0.0</td>\n      <td>0.0</td>\n      <td>0.0</td>\n    </tr>\n    <tr>\n      <th>4996</th>\n      <td>0.0</td>\n      <td>0.0</td>\n      <td>0.0</td>\n      <td>0.0</td>\n      <td>0.0</td>\n      <td>0.0</td>\n      <td>0.0</td>\n      <td>0.0</td>\n      <td>0.0</td>\n      <td>0.0</td>\n      <td>...</td>\n      <td>0.0</td>\n      <td>0.0</td>\n      <td>0.0</td>\n      <td>0.0</td>\n      <td>0.0</td>\n      <td>0.0</td>\n      <td>0.0</td>\n      <td>0.0</td>\n      <td>0.0</td>\n      <td>0.0</td>\n    </tr>\n    <tr>\n      <th>4997</th>\n      <td>0.0</td>\n      <td>0.0</td>\n      <td>0.0</td>\n      <td>0.0</td>\n      <td>0.0</td>\n      <td>0.0</td>\n      <td>0.0</td>\n      <td>0.0</td>\n      <td>0.0</td>\n      <td>0.0</td>\n      <td>...</td>\n      <td>0.0</td>\n      <td>0.0</td>\n      <td>0.0</td>\n      <td>0.0</td>\n      <td>0.0</td>\n      <td>0.0</td>\n      <td>0.0</td>\n      <td>0.0</td>\n      <td>0.0</td>\n      <td>0.0</td>\n    </tr>\n    <tr>\n      <th>4998</th>\n      <td>0.0</td>\n      <td>0.0</td>\n      <td>0.0</td>\n      <td>0.0</td>\n      <td>0.0</td>\n      <td>0.0</td>\n      <td>0.0</td>\n      <td>0.0</td>\n      <td>0.0</td>\n      <td>0.0</td>\n      <td>...</td>\n      <td>0.0</td>\n      <td>0.0</td>\n      <td>0.0</td>\n      <td>0.0</td>\n      <td>0.0</td>\n      <td>0.0</td>\n      <td>0.0</td>\n      <td>0.0</td>\n      <td>0.0</td>\n      <td>0.0</td>\n    </tr>\n    <tr>\n      <th>4999</th>\n      <td>0.0</td>\n      <td>0.0</td>\n      <td>0.0</td>\n      <td>0.0</td>\n      <td>0.0</td>\n      <td>0.0</td>\n      <td>0.0</td>\n      <td>0.0</td>\n      <td>0.0</td>\n      <td>0.0</td>\n      <td>...</td>\n      <td>0.0</td>\n      <td>0.0</td>\n      <td>0.0</td>\n      <td>0.0</td>\n      <td>0.0</td>\n      <td>0.0</td>\n      <td>0.0</td>\n      <td>0.0</td>\n      <td>0.0</td>\n      <td>0.0</td>\n    </tr>\n  </tbody>\n</table>\n<p>5000 rows × 9737 columns</p>\n</div>"
     },
     "execution_count": 7,
     "metadata": {},
     "output_type": "execute_result"
    }
   ],
   "source": [
    "corpus = train_data['lemm_text'].values.astype('U')\n",
    "tf_idf = count_tf_idf.fit_transform(corpus)\n",
    "tmp = pd.DataFrame(tf_idf.toarray(), columns=count_tf_idf.get_feature_names())\n",
    "tmp"
   ],
   "metadata": {
    "collapsed": false
   }
  },
  {
   "cell_type": "code",
   "execution_count": 8,
   "outputs": [
    {
     "data": {
      "text/plain": "LogisticRegression(random_state=12345)"
     },
     "execution_count": 8,
     "metadata": {},
     "output_type": "execute_result"
    }
   ],
   "source": [
    "logistic_model = LogisticRegression(random_state=12345)\n",
    "logistic_model.fit(tf_idf, target_train)"
   ],
   "metadata": {
    "collapsed": false
   }
  },
  {
   "cell_type": "code",
   "execution_count": 9,
   "outputs": [
    {
     "data": {
      "text/plain": "array([1, 0, 0, ..., 0, 0, 1])"
     },
     "execution_count": 9,
     "metadata": {},
     "output_type": "execute_result"
    }
   ],
   "source": [
    "predictions = logistic_model.predict(count_tf_idf.transform(features_test))\n",
    "\n",
    "predictions"
   ],
   "metadata": {
    "collapsed": false
   }
  },
  {
   "cell_type": "code",
   "execution_count": 10,
   "outputs": [
    {
     "data": {
      "text/plain": "                                                   text  \\\n0     RT @tiredfennel: если криса так интересуют дет...   \n1     @xsealord по 200 руб. в месяц можно разместить...   \n2     @haosANDlaw @Etishkindyx учитывая, что сейчас ...   \n3     Товарищ    :) Но я никак не могу отдельно не о...   \n4     RT @BodyaNick: Квн был отличный !) Оооочень по...   \n...                                                 ...   \n2995  жуйк, ачивки в контре — зло! мой младший брат ...   \n2996    Не хочу идти на танцы :( http://t.co/5OdPjbYXOC   \n2997  На улице пусто!ни людей,ни машин,наверно холод...   \n2998  По-моему мы и ходили за водкой в три часа за э...   \n2999  Р.В сказал,что с утра будет самостоятельная,ну...   \n\n                                              lemm_text  positive  \n0     если крис так интересовать ребёнок то либо они...         1  \n1     по рубль в месяц можно разместить ссылка на те...         0  \n2     учитывать что сейчас преобладать один половина...         0  \n3     товарищ но я никак не мочь отдельно не отметит...         0  \n4     квн быть отличный оооочень понравиться женский...         1  \n...                                                 ...       ...  \n2995  жуйк ачивка в контра зло мой младший брат втян...         0  \n2996                           не хотеть идти на танец          0  \n2997  на улица пусто ни человек ни машина наверно хо...         0  \n2998  по мой мы и ходить за водка в три час за это ч...         0  \n2999  р в сказать что с утро быть самостоятельный ну...         1  \n\n[3000 rows x 3 columns]",
      "text/html": "<div>\n<style scoped>\n    .dataframe tbody tr th:only-of-type {\n        vertical-align: middle;\n    }\n\n    .dataframe tbody tr th {\n        vertical-align: top;\n    }\n\n    .dataframe thead th {\n        text-align: right;\n    }\n</style>\n<table border=\"1\" class=\"dataframe\">\n  <thead>\n    <tr style=\"text-align: right;\">\n      <th></th>\n      <th>text</th>\n      <th>lemm_text</th>\n      <th>positive</th>\n    </tr>\n  </thead>\n  <tbody>\n    <tr>\n      <th>0</th>\n      <td>RT @tiredfennel: если криса так интересуют дет...</td>\n      <td>если крис так интересовать ребёнок то либо они...</td>\n      <td>1</td>\n    </tr>\n    <tr>\n      <th>1</th>\n      <td>@xsealord по 200 руб. в месяц можно разместить...</td>\n      <td>по рубль в месяц можно разместить ссылка на те...</td>\n      <td>0</td>\n    </tr>\n    <tr>\n      <th>2</th>\n      <td>@haosANDlaw @Etishkindyx учитывая, что сейчас ...</td>\n      <td>учитывать что сейчас преобладать один половина...</td>\n      <td>0</td>\n    </tr>\n    <tr>\n      <th>3</th>\n      <td>Товарищ    :) Но я никак не могу отдельно не о...</td>\n      <td>товарищ но я никак не мочь отдельно не отметит...</td>\n      <td>0</td>\n    </tr>\n    <tr>\n      <th>4</th>\n      <td>RT @BodyaNick: Квн был отличный !) Оооочень по...</td>\n      <td>квн быть отличный оооочень понравиться женский...</td>\n      <td>1</td>\n    </tr>\n    <tr>\n      <th>...</th>\n      <td>...</td>\n      <td>...</td>\n      <td>...</td>\n    </tr>\n    <tr>\n      <th>2995</th>\n      <td>жуйк, ачивки в контре — зло! мой младший брат ...</td>\n      <td>жуйк ачивка в контра зло мой младший брат втян...</td>\n      <td>0</td>\n    </tr>\n    <tr>\n      <th>2996</th>\n      <td>Не хочу идти на танцы :( http://t.co/5OdPjbYXOC</td>\n      <td>не хотеть идти на танец</td>\n      <td>0</td>\n    </tr>\n    <tr>\n      <th>2997</th>\n      <td>На улице пусто!ни людей,ни машин,наверно холод...</td>\n      <td>на улица пусто ни человек ни машина наверно хо...</td>\n      <td>0</td>\n    </tr>\n    <tr>\n      <th>2998</th>\n      <td>По-моему мы и ходили за водкой в три часа за э...</td>\n      <td>по мой мы и ходить за водка в три час за это ч...</td>\n      <td>0</td>\n    </tr>\n    <tr>\n      <th>2999</th>\n      <td>Р.В сказал,что с утра будет самостоятельная,ну...</td>\n      <td>р в сказать что с утро быть самостоятельный ну...</td>\n      <td>1</td>\n    </tr>\n  </tbody>\n</table>\n<p>3000 rows × 3 columns</p>\n</div>"
     },
     "execution_count": 10,
     "metadata": {},
     "output_type": "execute_result"
    }
   ],
   "source": [
    "test_data['positive'] = predictions\n",
    "test_data"
   ],
   "metadata": {
    "collapsed": false
   }
  },
  {
   "cell_type": "code",
   "execution_count": 11,
   "outputs": [],
   "source": [
    "pd.DataFrame(predictions, columns=['positive']).to_csv('out')"
   ],
   "metadata": {
    "collapsed": false
   }
  },
  {
   "cell_type": "code",
   "execution_count": 11,
   "outputs": [],
   "source": [],
   "metadata": {
    "collapsed": false
   }
  },
  {
   "cell_type": "code",
   "execution_count": 11,
   "outputs": [],
   "source": [],
   "metadata": {
    "collapsed": false
   }
  },
  {
   "cell_type": "code",
   "execution_count": 12,
   "outputs": [],
   "source": [
    "from sklearn.feature_extraction.text import CountVectorizer\n",
    "\n",
    "count_vect = CountVectorizer()"
   ],
   "metadata": {
    "collapsed": false
   }
  },
  {
   "cell_type": "code",
   "execution_count": 13,
   "outputs": [
    {
     "data": {
      "text/plain": "<5000x9834 sparse matrix of type '<class 'numpy.int64'>'\n\twith 45653 stored elements in Compressed Sparse Row format>"
     },
     "execution_count": 13,
     "metadata": {},
     "output_type": "execute_result"
    }
   ],
   "source": [
    "bow = count_vect.fit_transform(corpus)\n",
    "bow"
   ],
   "metadata": {
    "collapsed": false
   }
  },
  {
   "cell_type": "code",
   "execution_count": 13,
   "outputs": [],
   "source": [],
   "metadata": {
    "collapsed": false
   }
  }
 ],
 "metadata": {
  "kernelspec": {
   "display_name": "Python 3",
   "language": "python",
   "name": "python3"
  },
  "language_info": {
   "codemirror_mode": {
    "name": "ipython",
    "version": 2
   },
   "file_extension": ".py",
   "mimetype": "text/x-python",
   "name": "python",
   "nbconvert_exporter": "python",
   "pygments_lexer": "ipython2",
   "version": "2.7.6"
  }
 },
 "nbformat": 4,
 "nbformat_minor": 0
}
