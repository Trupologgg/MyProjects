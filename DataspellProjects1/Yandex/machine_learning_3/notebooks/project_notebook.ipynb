{
 "cells": [
  {
   "cell_type": "markdown",
   "metadata": {},
   "source": [
    "# Выбор локации для скважины"
   ]
  },
  {
   "cell_type": "markdown",
   "metadata": {},
   "source": [
    "Допустим, вы работаете в добывающей компании «ГлавРосГосНефть». Нужно решить, где бурить новую скважину.\n",
    "\n",
    "Вам предоставлены пробы нефти в трёх регионах: в каждом 10 000 месторождений, где измерили качество нефти и объём её запасов. Постройте модель машинного обучения, которая поможет определить регион, где добыча принесёт наибольшую прибыль. Проанализируйте возможную прибыль и риски техникой *Bootstrap.*\n",
    "\n",
    "Шаги для выбора локации:\n",
    "\n",
    "- В избранном регионе ищут месторождения, для каждого определяют значения признаков;\n",
    "- Строят модель и оценивают объём запасов;\n",
    "- Выбирают месторождения с самым высокими оценками значений. Количество месторождений зависит от бюджета компании и стоимости разработки одной скважины;\n",
    "- Прибыль равна суммарной прибыли отобранных месторождений."
   ]
  },
  {
   "cell_type": "markdown",
   "source": [],
   "metadata": {
    "collapsed": false
   }
  },
  {
   "cell_type": "markdown",
   "source": [
    "# Выбор локации для скважины"
   ],
   "metadata": {
    "collapsed": false
   }
  },
  {
   "cell_type": "markdown",
   "source": [
    "* Задача данного исследования - разобраться, где наиболее прибыльно будет бурить новую скважину. Это нам потребуется для более четкого распределения бюджета на локации с большим доходом от них. Для анализа был предоставлены датасеты со скважинами регионов.\n",
    "* План действий:\n",
    "    * Получить датасет\n",
    "    * Обучить модель\n",
    "    * Оценить качество моделей и выполнить расчеты\n",
    "    * Воспользоваться техникой Bootstrap"
   ],
   "metadata": {
    "collapsed": false
   }
  },
  {
   "cell_type": "markdown",
   "metadata": {},
   "source": [
    "## Загрузка и подготовка данных"
   ]
  },
  {
   "cell_type": "code",
   "execution_count": 13,
   "metadata": {},
   "outputs": [],
   "source": [
    "import pandas as pd\n",
    "import numpy as np\n",
    "import matplotlib.pyplot as plt\n",
    "from sklearn.tree import DecisionTreeClassifier\n",
    "from sklearn.ensemble import RandomForestClassifier\n",
    "from sklearn.linear_model import LogisticRegression\n",
    "from sklearn.model_selection import train_test_split\n",
    "from sklearn.linear_model import  LinearRegression\n",
    "from sklearn.metrics import f1_score\n",
    "from sklearn.utils import shuffle\n",
    "from sklearn.metrics import roc_curve\n",
    "from sklearn.metrics import mean_squared_error\n",
    "from sklearn.metrics import roc_auc_score\n",
    "from sklearn.preprocessing import StandardScaler"
   ]
  },
  {
   "cell_type": "code",
   "execution_count": 14,
   "outputs": [],
   "source": [
    "first_reg = pd.read_csv('../datasets/geo_data_0.csv')\n",
    "second_reg = pd.read_csv('../datasets/geo_data_1.csv')\n",
    "third_reg = pd.read_csv('../datasets/geo_data_2.csv')"
   ],
   "metadata": {
    "collapsed": false
   }
  },
  {
   "cell_type": "code",
   "execution_count": 15,
   "outputs": [],
   "source": [
    "def information(data):\n",
    "    data.info()\n",
    "    display(data.head(20))\n",
    "    display(data.describe())"
   ],
   "metadata": {
    "collapsed": false
   }
  },
  {
   "cell_type": "code",
   "execution_count": 16,
   "outputs": [
    {
     "name": "stdout",
     "output_type": "stream",
     "text": [
      "<class 'pandas.core.frame.DataFrame'>\n",
      "RangeIndex: 100000 entries, 0 to 99999\n",
      "Data columns (total 5 columns):\n",
      " #   Column   Non-Null Count   Dtype  \n",
      "---  ------   --------------   -----  \n",
      " 0   id       100000 non-null  object \n",
      " 1   f0       100000 non-null  float64\n",
      " 2   f1       100000 non-null  float64\n",
      " 3   f2       100000 non-null  float64\n",
      " 4   product  100000 non-null  float64\n",
      "dtypes: float64(4), object(1)\n",
      "memory usage: 3.8+ MB\n"
     ]
    },
    {
     "data": {
      "text/plain": "       id        f0        f1        f2     product\n0   txEyH  0.705745 -0.497823  1.221170  105.280062\n1   2acmU  1.334711 -0.340164  4.365080   73.037750\n2   409Wp  1.022732  0.151990  1.419926   85.265647\n3   iJLyR -0.032172  0.139033  2.978566  168.620776\n4   Xdl7t  1.988431  0.155413  4.751769  154.036647\n5   wX4Hy  0.969570  0.489775 -0.735383   64.741541\n6   tL6pL  0.645075  0.530656  1.780266   49.055285\n7   BYPU6 -0.400648  0.808337 -5.624670   72.943292\n8   j9Oui  0.643105 -0.551583  2.372141  113.356160\n9   OLuZU  2.173381  0.563698  9.441852  127.910945\n10  b8WQ6  0.371066 -0.036585  0.009208   70.326617\n11  1YYm1  0.015920  1.062729 -0.722248   45.110381\n12  zIYPq -0.276476  0.924865  0.095584   89.158678\n13  iqTqq  0.212696 -0.111147  5.770095  164.298520\n14  Ct5yY -0.018578  0.187516  2.944683  158.633720\n15  Q77WQ  1.324566 -0.419149 -4.097429   60.677876\n16  6vJcD -0.000247  0.360146  0.794115  163.143987\n17  AgRR6  0.380913  1.114558  0.992377  125.942543\n18  tgSSC  0.160021  0.788151  7.629164  113.793566\n19  s2g8E  0.593078 -0.414964 -0.715774   28.207978",
      "text/html": "<div>\n<style scoped>\n    .dataframe tbody tr th:only-of-type {\n        vertical-align: middle;\n    }\n\n    .dataframe tbody tr th {\n        vertical-align: top;\n    }\n\n    .dataframe thead th {\n        text-align: right;\n    }\n</style>\n<table border=\"1\" class=\"dataframe\">\n  <thead>\n    <tr style=\"text-align: right;\">\n      <th></th>\n      <th>id</th>\n      <th>f0</th>\n      <th>f1</th>\n      <th>f2</th>\n      <th>product</th>\n    </tr>\n  </thead>\n  <tbody>\n    <tr>\n      <th>0</th>\n      <td>txEyH</td>\n      <td>0.705745</td>\n      <td>-0.497823</td>\n      <td>1.221170</td>\n      <td>105.280062</td>\n    </tr>\n    <tr>\n      <th>1</th>\n      <td>2acmU</td>\n      <td>1.334711</td>\n      <td>-0.340164</td>\n      <td>4.365080</td>\n      <td>73.037750</td>\n    </tr>\n    <tr>\n      <th>2</th>\n      <td>409Wp</td>\n      <td>1.022732</td>\n      <td>0.151990</td>\n      <td>1.419926</td>\n      <td>85.265647</td>\n    </tr>\n    <tr>\n      <th>3</th>\n      <td>iJLyR</td>\n      <td>-0.032172</td>\n      <td>0.139033</td>\n      <td>2.978566</td>\n      <td>168.620776</td>\n    </tr>\n    <tr>\n      <th>4</th>\n      <td>Xdl7t</td>\n      <td>1.988431</td>\n      <td>0.155413</td>\n      <td>4.751769</td>\n      <td>154.036647</td>\n    </tr>\n    <tr>\n      <th>5</th>\n      <td>wX4Hy</td>\n      <td>0.969570</td>\n      <td>0.489775</td>\n      <td>-0.735383</td>\n      <td>64.741541</td>\n    </tr>\n    <tr>\n      <th>6</th>\n      <td>tL6pL</td>\n      <td>0.645075</td>\n      <td>0.530656</td>\n      <td>1.780266</td>\n      <td>49.055285</td>\n    </tr>\n    <tr>\n      <th>7</th>\n      <td>BYPU6</td>\n      <td>-0.400648</td>\n      <td>0.808337</td>\n      <td>-5.624670</td>\n      <td>72.943292</td>\n    </tr>\n    <tr>\n      <th>8</th>\n      <td>j9Oui</td>\n      <td>0.643105</td>\n      <td>-0.551583</td>\n      <td>2.372141</td>\n      <td>113.356160</td>\n    </tr>\n    <tr>\n      <th>9</th>\n      <td>OLuZU</td>\n      <td>2.173381</td>\n      <td>0.563698</td>\n      <td>9.441852</td>\n      <td>127.910945</td>\n    </tr>\n    <tr>\n      <th>10</th>\n      <td>b8WQ6</td>\n      <td>0.371066</td>\n      <td>-0.036585</td>\n      <td>0.009208</td>\n      <td>70.326617</td>\n    </tr>\n    <tr>\n      <th>11</th>\n      <td>1YYm1</td>\n      <td>0.015920</td>\n      <td>1.062729</td>\n      <td>-0.722248</td>\n      <td>45.110381</td>\n    </tr>\n    <tr>\n      <th>12</th>\n      <td>zIYPq</td>\n      <td>-0.276476</td>\n      <td>0.924865</td>\n      <td>0.095584</td>\n      <td>89.158678</td>\n    </tr>\n    <tr>\n      <th>13</th>\n      <td>iqTqq</td>\n      <td>0.212696</td>\n      <td>-0.111147</td>\n      <td>5.770095</td>\n      <td>164.298520</td>\n    </tr>\n    <tr>\n      <th>14</th>\n      <td>Ct5yY</td>\n      <td>-0.018578</td>\n      <td>0.187516</td>\n      <td>2.944683</td>\n      <td>158.633720</td>\n    </tr>\n    <tr>\n      <th>15</th>\n      <td>Q77WQ</td>\n      <td>1.324566</td>\n      <td>-0.419149</td>\n      <td>-4.097429</td>\n      <td>60.677876</td>\n    </tr>\n    <tr>\n      <th>16</th>\n      <td>6vJcD</td>\n      <td>-0.000247</td>\n      <td>0.360146</td>\n      <td>0.794115</td>\n      <td>163.143987</td>\n    </tr>\n    <tr>\n      <th>17</th>\n      <td>AgRR6</td>\n      <td>0.380913</td>\n      <td>1.114558</td>\n      <td>0.992377</td>\n      <td>125.942543</td>\n    </tr>\n    <tr>\n      <th>18</th>\n      <td>tgSSC</td>\n      <td>0.160021</td>\n      <td>0.788151</td>\n      <td>7.629164</td>\n      <td>113.793566</td>\n    </tr>\n    <tr>\n      <th>19</th>\n      <td>s2g8E</td>\n      <td>0.593078</td>\n      <td>-0.414964</td>\n      <td>-0.715774</td>\n      <td>28.207978</td>\n    </tr>\n  </tbody>\n</table>\n</div>"
     },
     "metadata": {},
     "output_type": "display_data"
    },
    {
     "data": {
      "text/plain": "                  f0             f1             f2        product\ncount  100000.000000  100000.000000  100000.000000  100000.000000\nmean        0.500419       0.250143       2.502647      92.500000\nstd         0.871832       0.504433       3.248248      44.288691\nmin        -1.408605      -0.848218     -12.088328       0.000000\n25%        -0.072580      -0.200881       0.287748      56.497507\n50%         0.502360       0.250252       2.515969      91.849972\n75%         1.073581       0.700646       4.715088     128.564089\nmax         2.362331       1.343769      16.003790     185.364347",
      "text/html": "<div>\n<style scoped>\n    .dataframe tbody tr th:only-of-type {\n        vertical-align: middle;\n    }\n\n    .dataframe tbody tr th {\n        vertical-align: top;\n    }\n\n    .dataframe thead th {\n        text-align: right;\n    }\n</style>\n<table border=\"1\" class=\"dataframe\">\n  <thead>\n    <tr style=\"text-align: right;\">\n      <th></th>\n      <th>f0</th>\n      <th>f1</th>\n      <th>f2</th>\n      <th>product</th>\n    </tr>\n  </thead>\n  <tbody>\n    <tr>\n      <th>count</th>\n      <td>100000.000000</td>\n      <td>100000.000000</td>\n      <td>100000.000000</td>\n      <td>100000.000000</td>\n    </tr>\n    <tr>\n      <th>mean</th>\n      <td>0.500419</td>\n      <td>0.250143</td>\n      <td>2.502647</td>\n      <td>92.500000</td>\n    </tr>\n    <tr>\n      <th>std</th>\n      <td>0.871832</td>\n      <td>0.504433</td>\n      <td>3.248248</td>\n      <td>44.288691</td>\n    </tr>\n    <tr>\n      <th>min</th>\n      <td>-1.408605</td>\n      <td>-0.848218</td>\n      <td>-12.088328</td>\n      <td>0.000000</td>\n    </tr>\n    <tr>\n      <th>25%</th>\n      <td>-0.072580</td>\n      <td>-0.200881</td>\n      <td>0.287748</td>\n      <td>56.497507</td>\n    </tr>\n    <tr>\n      <th>50%</th>\n      <td>0.502360</td>\n      <td>0.250252</td>\n      <td>2.515969</td>\n      <td>91.849972</td>\n    </tr>\n    <tr>\n      <th>75%</th>\n      <td>1.073581</td>\n      <td>0.700646</td>\n      <td>4.715088</td>\n      <td>128.564089</td>\n    </tr>\n    <tr>\n      <th>max</th>\n      <td>2.362331</td>\n      <td>1.343769</td>\n      <td>16.003790</td>\n      <td>185.364347</td>\n    </tr>\n  </tbody>\n</table>\n</div>"
     },
     "metadata": {},
     "output_type": "display_data"
    },
    {
     "name": "stdout",
     "output_type": "stream",
     "text": [
      "<class 'pandas.core.frame.DataFrame'>\n",
      "RangeIndex: 100000 entries, 0 to 99999\n",
      "Data columns (total 5 columns):\n",
      " #   Column   Non-Null Count   Dtype  \n",
      "---  ------   --------------   -----  \n",
      " 0   id       100000 non-null  object \n",
      " 1   f0       100000 non-null  float64\n",
      " 2   f1       100000 non-null  float64\n",
      " 3   f2       100000 non-null  float64\n",
      " 4   product  100000 non-null  float64\n",
      "dtypes: float64(4), object(1)\n",
      "memory usage: 3.8+ MB\n"
     ]
    },
    {
     "data": {
      "text/plain": "       id         f0         f1        f2     product\n0   kBEdx -15.001348  -8.276000 -0.005876    3.179103\n1   62mP7  14.272088  -3.475083  0.999183   26.953261\n2   vyE1P   6.263187  -5.948386  5.001160  134.766305\n3   KcrkZ -13.081196 -11.506057  4.999415  137.945408\n4   AHL4O  12.702195  -8.147433  5.004363  134.766305\n5   HHckp  -3.327590  -2.205276  3.003647   84.038886\n6   h5Ujo -11.142655 -10.133399  4.002382  110.992147\n7   muH9x   4.234715  -0.001354  2.004588   53.906522\n8   YiRkx  13.355129  -0.332068  4.998647  134.766305\n9   jG6Gi   1.069227 -11.025667  4.997844  137.945408\n10  7uHUe  11.777049  -5.334084  2.003033   53.906522\n11  OXyvW  16.320755  -0.562946 -0.001783    0.000000\n12  cB8re   7.736313  -6.093374  3.982531  107.813044\n13  igmai   6.695604  -0.749449 -0.007630    0.000000\n14  3OdkE -10.985487  -5.605994  2.991130   84.038886\n15  3tVUO  -0.347599  -6.275884 -0.003448    3.179103\n16  siveY  12.300570   2.944454  2.005541   53.906522\n17  gIqzq   8.900460  -5.632857  4.994324  134.766305\n18  zO5EU -13.412826  -4.729495  2.998590   84.038886\n19  dkcEb  -4.373526  -8.590017  2.995379   84.038886",
      "text/html": "<div>\n<style scoped>\n    .dataframe tbody tr th:only-of-type {\n        vertical-align: middle;\n    }\n\n    .dataframe tbody tr th {\n        vertical-align: top;\n    }\n\n    .dataframe thead th {\n        text-align: right;\n    }\n</style>\n<table border=\"1\" class=\"dataframe\">\n  <thead>\n    <tr style=\"text-align: right;\">\n      <th></th>\n      <th>id</th>\n      <th>f0</th>\n      <th>f1</th>\n      <th>f2</th>\n      <th>product</th>\n    </tr>\n  </thead>\n  <tbody>\n    <tr>\n      <th>0</th>\n      <td>kBEdx</td>\n      <td>-15.001348</td>\n      <td>-8.276000</td>\n      <td>-0.005876</td>\n      <td>3.179103</td>\n    </tr>\n    <tr>\n      <th>1</th>\n      <td>62mP7</td>\n      <td>14.272088</td>\n      <td>-3.475083</td>\n      <td>0.999183</td>\n      <td>26.953261</td>\n    </tr>\n    <tr>\n      <th>2</th>\n      <td>vyE1P</td>\n      <td>6.263187</td>\n      <td>-5.948386</td>\n      <td>5.001160</td>\n      <td>134.766305</td>\n    </tr>\n    <tr>\n      <th>3</th>\n      <td>KcrkZ</td>\n      <td>-13.081196</td>\n      <td>-11.506057</td>\n      <td>4.999415</td>\n      <td>137.945408</td>\n    </tr>\n    <tr>\n      <th>4</th>\n      <td>AHL4O</td>\n      <td>12.702195</td>\n      <td>-8.147433</td>\n      <td>5.004363</td>\n      <td>134.766305</td>\n    </tr>\n    <tr>\n      <th>5</th>\n      <td>HHckp</td>\n      <td>-3.327590</td>\n      <td>-2.205276</td>\n      <td>3.003647</td>\n      <td>84.038886</td>\n    </tr>\n    <tr>\n      <th>6</th>\n      <td>h5Ujo</td>\n      <td>-11.142655</td>\n      <td>-10.133399</td>\n      <td>4.002382</td>\n      <td>110.992147</td>\n    </tr>\n    <tr>\n      <th>7</th>\n      <td>muH9x</td>\n      <td>4.234715</td>\n      <td>-0.001354</td>\n      <td>2.004588</td>\n      <td>53.906522</td>\n    </tr>\n    <tr>\n      <th>8</th>\n      <td>YiRkx</td>\n      <td>13.355129</td>\n      <td>-0.332068</td>\n      <td>4.998647</td>\n      <td>134.766305</td>\n    </tr>\n    <tr>\n      <th>9</th>\n      <td>jG6Gi</td>\n      <td>1.069227</td>\n      <td>-11.025667</td>\n      <td>4.997844</td>\n      <td>137.945408</td>\n    </tr>\n    <tr>\n      <th>10</th>\n      <td>7uHUe</td>\n      <td>11.777049</td>\n      <td>-5.334084</td>\n      <td>2.003033</td>\n      <td>53.906522</td>\n    </tr>\n    <tr>\n      <th>11</th>\n      <td>OXyvW</td>\n      <td>16.320755</td>\n      <td>-0.562946</td>\n      <td>-0.001783</td>\n      <td>0.000000</td>\n    </tr>\n    <tr>\n      <th>12</th>\n      <td>cB8re</td>\n      <td>7.736313</td>\n      <td>-6.093374</td>\n      <td>3.982531</td>\n      <td>107.813044</td>\n    </tr>\n    <tr>\n      <th>13</th>\n      <td>igmai</td>\n      <td>6.695604</td>\n      <td>-0.749449</td>\n      <td>-0.007630</td>\n      <td>0.000000</td>\n    </tr>\n    <tr>\n      <th>14</th>\n      <td>3OdkE</td>\n      <td>-10.985487</td>\n      <td>-5.605994</td>\n      <td>2.991130</td>\n      <td>84.038886</td>\n    </tr>\n    <tr>\n      <th>15</th>\n      <td>3tVUO</td>\n      <td>-0.347599</td>\n      <td>-6.275884</td>\n      <td>-0.003448</td>\n      <td>3.179103</td>\n    </tr>\n    <tr>\n      <th>16</th>\n      <td>siveY</td>\n      <td>12.300570</td>\n      <td>2.944454</td>\n      <td>2.005541</td>\n      <td>53.906522</td>\n    </tr>\n    <tr>\n      <th>17</th>\n      <td>gIqzq</td>\n      <td>8.900460</td>\n      <td>-5.632857</td>\n      <td>4.994324</td>\n      <td>134.766305</td>\n    </tr>\n    <tr>\n      <th>18</th>\n      <td>zO5EU</td>\n      <td>-13.412826</td>\n      <td>-4.729495</td>\n      <td>2.998590</td>\n      <td>84.038886</td>\n    </tr>\n    <tr>\n      <th>19</th>\n      <td>dkcEb</td>\n      <td>-4.373526</td>\n      <td>-8.590017</td>\n      <td>2.995379</td>\n      <td>84.038886</td>\n    </tr>\n  </tbody>\n</table>\n</div>"
     },
     "metadata": {},
     "output_type": "display_data"
    },
    {
     "data": {
      "text/plain": "                  f0             f1             f2        product\ncount  100000.000000  100000.000000  100000.000000  100000.000000\nmean        1.141296      -4.796579       2.494541      68.825000\nstd         8.965932       5.119872       1.703572      45.944423\nmin       -31.609576     -26.358598      -0.018144       0.000000\n25%        -6.298551      -8.267985       1.000021      26.953261\n50%         1.153055      -4.813172       2.011479      57.085625\n75%         8.621015      -1.332816       3.999904     107.813044\nmax        29.421755      18.734063       5.019721     137.945408",
      "text/html": "<div>\n<style scoped>\n    .dataframe tbody tr th:only-of-type {\n        vertical-align: middle;\n    }\n\n    .dataframe tbody tr th {\n        vertical-align: top;\n    }\n\n    .dataframe thead th {\n        text-align: right;\n    }\n</style>\n<table border=\"1\" class=\"dataframe\">\n  <thead>\n    <tr style=\"text-align: right;\">\n      <th></th>\n      <th>f0</th>\n      <th>f1</th>\n      <th>f2</th>\n      <th>product</th>\n    </tr>\n  </thead>\n  <tbody>\n    <tr>\n      <th>count</th>\n      <td>100000.000000</td>\n      <td>100000.000000</td>\n      <td>100000.000000</td>\n      <td>100000.000000</td>\n    </tr>\n    <tr>\n      <th>mean</th>\n      <td>1.141296</td>\n      <td>-4.796579</td>\n      <td>2.494541</td>\n      <td>68.825000</td>\n    </tr>\n    <tr>\n      <th>std</th>\n      <td>8.965932</td>\n      <td>5.119872</td>\n      <td>1.703572</td>\n      <td>45.944423</td>\n    </tr>\n    <tr>\n      <th>min</th>\n      <td>-31.609576</td>\n      <td>-26.358598</td>\n      <td>-0.018144</td>\n      <td>0.000000</td>\n    </tr>\n    <tr>\n      <th>25%</th>\n      <td>-6.298551</td>\n      <td>-8.267985</td>\n      <td>1.000021</td>\n      <td>26.953261</td>\n    </tr>\n    <tr>\n      <th>50%</th>\n      <td>1.153055</td>\n      <td>-4.813172</td>\n      <td>2.011479</td>\n      <td>57.085625</td>\n    </tr>\n    <tr>\n      <th>75%</th>\n      <td>8.621015</td>\n      <td>-1.332816</td>\n      <td>3.999904</td>\n      <td>107.813044</td>\n    </tr>\n    <tr>\n      <th>max</th>\n      <td>29.421755</td>\n      <td>18.734063</td>\n      <td>5.019721</td>\n      <td>137.945408</td>\n    </tr>\n  </tbody>\n</table>\n</div>"
     },
     "metadata": {},
     "output_type": "display_data"
    },
    {
     "name": "stdout",
     "output_type": "stream",
     "text": [
      "<class 'pandas.core.frame.DataFrame'>\n",
      "RangeIndex: 100000 entries, 0 to 99999\n",
      "Data columns (total 5 columns):\n",
      " #   Column   Non-Null Count   Dtype  \n",
      "---  ------   --------------   -----  \n",
      " 0   id       100000 non-null  object \n",
      " 1   f0       100000 non-null  float64\n",
      " 2   f1       100000 non-null  float64\n",
      " 3   f2       100000 non-null  float64\n",
      " 4   product  100000 non-null  float64\n",
      "dtypes: float64(4), object(1)\n",
      "memory usage: 3.8+ MB\n"
     ]
    },
    {
     "data": {
      "text/plain": "       id        f0        f1        f2     product\n0   fwXo0 -1.146987  0.963328 -0.828965   27.758673\n1   WJtFt  0.262778  0.269839 -2.530187   56.069697\n2   ovLUW  0.194587  0.289035 -5.586433   62.871910\n3   q6cA6  2.236060 -0.553760  0.930038  114.572842\n4   WPMUX -0.515993  1.716266  5.899011  149.600746\n5   LzZXx -0.758092  0.710691  2.585887   90.222465\n6   WBHRv -0.574891  0.317727  1.773745   45.641478\n7   XO8fn -1.906649 -2.458350 -0.177097   72.480640\n8   ybmQ5  1.776292 -0.279356  3.004156  106.616832\n9   OilcN -1.214452 -0.439314  5.922514   52.954532\n10  myq2g  0.628659 -2.120049  5.362437  166.799132\n11  V9R1y -0.544565  0.039088  8.635293  150.859435\n12  bKDo0 -0.960453 -0.127113  7.764734   96.910855\n13  eXvhs  1.432891 -1.242074  3.557168    8.704162\n14  wI4j3 -0.935464  2.420523  1.150536  116.829811\n15  XOWTx -2.628353  0.937303  0.057847   68.655498\n16  2oVFv -0.428050 -2.246556  6.970420   84.500464\n17  0wbDA  0.735307  0.913124  7.899539   96.284701\n18  NhHaR  0.706261 -0.993553  3.155582   48.052268\n19  DMNMZ -1.867846  2.744144  5.918278  153.815137",
      "text/html": "<div>\n<style scoped>\n    .dataframe tbody tr th:only-of-type {\n        vertical-align: middle;\n    }\n\n    .dataframe tbody tr th {\n        vertical-align: top;\n    }\n\n    .dataframe thead th {\n        text-align: right;\n    }\n</style>\n<table border=\"1\" class=\"dataframe\">\n  <thead>\n    <tr style=\"text-align: right;\">\n      <th></th>\n      <th>id</th>\n      <th>f0</th>\n      <th>f1</th>\n      <th>f2</th>\n      <th>product</th>\n    </tr>\n  </thead>\n  <tbody>\n    <tr>\n      <th>0</th>\n      <td>fwXo0</td>\n      <td>-1.146987</td>\n      <td>0.963328</td>\n      <td>-0.828965</td>\n      <td>27.758673</td>\n    </tr>\n    <tr>\n      <th>1</th>\n      <td>WJtFt</td>\n      <td>0.262778</td>\n      <td>0.269839</td>\n      <td>-2.530187</td>\n      <td>56.069697</td>\n    </tr>\n    <tr>\n      <th>2</th>\n      <td>ovLUW</td>\n      <td>0.194587</td>\n      <td>0.289035</td>\n      <td>-5.586433</td>\n      <td>62.871910</td>\n    </tr>\n    <tr>\n      <th>3</th>\n      <td>q6cA6</td>\n      <td>2.236060</td>\n      <td>-0.553760</td>\n      <td>0.930038</td>\n      <td>114.572842</td>\n    </tr>\n    <tr>\n      <th>4</th>\n      <td>WPMUX</td>\n      <td>-0.515993</td>\n      <td>1.716266</td>\n      <td>5.899011</td>\n      <td>149.600746</td>\n    </tr>\n    <tr>\n      <th>5</th>\n      <td>LzZXx</td>\n      <td>-0.758092</td>\n      <td>0.710691</td>\n      <td>2.585887</td>\n      <td>90.222465</td>\n    </tr>\n    <tr>\n      <th>6</th>\n      <td>WBHRv</td>\n      <td>-0.574891</td>\n      <td>0.317727</td>\n      <td>1.773745</td>\n      <td>45.641478</td>\n    </tr>\n    <tr>\n      <th>7</th>\n      <td>XO8fn</td>\n      <td>-1.906649</td>\n      <td>-2.458350</td>\n      <td>-0.177097</td>\n      <td>72.480640</td>\n    </tr>\n    <tr>\n      <th>8</th>\n      <td>ybmQ5</td>\n      <td>1.776292</td>\n      <td>-0.279356</td>\n      <td>3.004156</td>\n      <td>106.616832</td>\n    </tr>\n    <tr>\n      <th>9</th>\n      <td>OilcN</td>\n      <td>-1.214452</td>\n      <td>-0.439314</td>\n      <td>5.922514</td>\n      <td>52.954532</td>\n    </tr>\n    <tr>\n      <th>10</th>\n      <td>myq2g</td>\n      <td>0.628659</td>\n      <td>-2.120049</td>\n      <td>5.362437</td>\n      <td>166.799132</td>\n    </tr>\n    <tr>\n      <th>11</th>\n      <td>V9R1y</td>\n      <td>-0.544565</td>\n      <td>0.039088</td>\n      <td>8.635293</td>\n      <td>150.859435</td>\n    </tr>\n    <tr>\n      <th>12</th>\n      <td>bKDo0</td>\n      <td>-0.960453</td>\n      <td>-0.127113</td>\n      <td>7.764734</td>\n      <td>96.910855</td>\n    </tr>\n    <tr>\n      <th>13</th>\n      <td>eXvhs</td>\n      <td>1.432891</td>\n      <td>-1.242074</td>\n      <td>3.557168</td>\n      <td>8.704162</td>\n    </tr>\n    <tr>\n      <th>14</th>\n      <td>wI4j3</td>\n      <td>-0.935464</td>\n      <td>2.420523</td>\n      <td>1.150536</td>\n      <td>116.829811</td>\n    </tr>\n    <tr>\n      <th>15</th>\n      <td>XOWTx</td>\n      <td>-2.628353</td>\n      <td>0.937303</td>\n      <td>0.057847</td>\n      <td>68.655498</td>\n    </tr>\n    <tr>\n      <th>16</th>\n      <td>2oVFv</td>\n      <td>-0.428050</td>\n      <td>-2.246556</td>\n      <td>6.970420</td>\n      <td>84.500464</td>\n    </tr>\n    <tr>\n      <th>17</th>\n      <td>0wbDA</td>\n      <td>0.735307</td>\n      <td>0.913124</td>\n      <td>7.899539</td>\n      <td>96.284701</td>\n    </tr>\n    <tr>\n      <th>18</th>\n      <td>NhHaR</td>\n      <td>0.706261</td>\n      <td>-0.993553</td>\n      <td>3.155582</td>\n      <td>48.052268</td>\n    </tr>\n    <tr>\n      <th>19</th>\n      <td>DMNMZ</td>\n      <td>-1.867846</td>\n      <td>2.744144</td>\n      <td>5.918278</td>\n      <td>153.815137</td>\n    </tr>\n  </tbody>\n</table>\n</div>"
     },
     "metadata": {},
     "output_type": "display_data"
    },
    {
     "data": {
      "text/plain": "                  f0             f1             f2        product\ncount  100000.000000  100000.000000  100000.000000  100000.000000\nmean        0.002023      -0.002081       2.495128      95.000000\nstd         1.732045       1.730417       3.473445      44.749921\nmin        -8.760004      -7.084020     -11.970335       0.000000\n25%        -1.162288      -1.174820       0.130359      59.450441\n50%         0.009424      -0.009482       2.484236      94.925613\n75%         1.158535       1.163678       4.858794     130.595027\nmax         7.238262       7.844801      16.739402     190.029838",
      "text/html": "<div>\n<style scoped>\n    .dataframe tbody tr th:only-of-type {\n        vertical-align: middle;\n    }\n\n    .dataframe tbody tr th {\n        vertical-align: top;\n    }\n\n    .dataframe thead th {\n        text-align: right;\n    }\n</style>\n<table border=\"1\" class=\"dataframe\">\n  <thead>\n    <tr style=\"text-align: right;\">\n      <th></th>\n      <th>f0</th>\n      <th>f1</th>\n      <th>f2</th>\n      <th>product</th>\n    </tr>\n  </thead>\n  <tbody>\n    <tr>\n      <th>count</th>\n      <td>100000.000000</td>\n      <td>100000.000000</td>\n      <td>100000.000000</td>\n      <td>100000.000000</td>\n    </tr>\n    <tr>\n      <th>mean</th>\n      <td>0.002023</td>\n      <td>-0.002081</td>\n      <td>2.495128</td>\n      <td>95.000000</td>\n    </tr>\n    <tr>\n      <th>std</th>\n      <td>1.732045</td>\n      <td>1.730417</td>\n      <td>3.473445</td>\n      <td>44.749921</td>\n    </tr>\n    <tr>\n      <th>min</th>\n      <td>-8.760004</td>\n      <td>-7.084020</td>\n      <td>-11.970335</td>\n      <td>0.000000</td>\n    </tr>\n    <tr>\n      <th>25%</th>\n      <td>-1.162288</td>\n      <td>-1.174820</td>\n      <td>0.130359</td>\n      <td>59.450441</td>\n    </tr>\n    <tr>\n      <th>50%</th>\n      <td>0.009424</td>\n      <td>-0.009482</td>\n      <td>2.484236</td>\n      <td>94.925613</td>\n    </tr>\n    <tr>\n      <th>75%</th>\n      <td>1.158535</td>\n      <td>1.163678</td>\n      <td>4.858794</td>\n      <td>130.595027</td>\n    </tr>\n    <tr>\n      <th>max</th>\n      <td>7.238262</td>\n      <td>7.844801</td>\n      <td>16.739402</td>\n      <td>190.029838</td>\n    </tr>\n  </tbody>\n</table>\n</div>"
     },
     "metadata": {},
     "output_type": "display_data"
    }
   ],
   "source": [
    "information(first_reg)\n",
    "information(second_reg)\n",
    "information(third_reg)"
   ],
   "metadata": {
    "collapsed": false
   }
  },
  {
   "cell_type": "markdown",
   "source": [
    "По предварительному осмотру датасетов - они в порядке. Пропусков в данных нет, так что заполнять ничего не придется."
   ],
   "metadata": {
    "collapsed": false
   }
  },
  {
   "cell_type": "markdown",
   "metadata": {},
   "source": [
    "## Обучение и проверка модели"
   ]
  },
  {
   "cell_type": "markdown",
   "source": [
    "Первым делом разобьем датасеты на целевой и нецелевые признаки."
   ],
   "metadata": {
    "collapsed": false
   }
  },
  {
   "cell_type": "code",
   "execution_count": 17,
   "metadata": {},
   "outputs": [],
   "source": [
    "first_reg_features = first_reg.drop('product', axis=1)\n",
    "second_reg_features = second_reg.drop('product', axis=1)\n",
    "third_reg_features = third_reg.drop('product', axis=1)\n",
    "\n",
    "first_reg_target = first_reg['product']\n",
    "second_reg_target = second_reg['product']\n",
    "third_reg_target = third_reg['product']"
   ]
  },
  {
   "cell_type": "markdown",
   "source": [
    "Напишем функцию, в которой обучаем модели линейной регрессией, потому что достаточно предсказуема, а также считаем среднеквадратическую ошибку наших моделей."
   ],
   "metadata": {
    "collapsed": false
   }
  },
  {
   "cell_type": "code",
   "execution_count": 18,
   "outputs": [],
   "source": [
    "def ml_and_checking(features, target, region):\n",
    "    features = features.drop('id', axis=1)\n",
    "    scaler = StandardScaler()\n",
    "    numerics = ['f0', 'f1', 'f2']\n",
    "    scaler.fit_transform(features[numerics])\n",
    "    features_train, features_valid, target_train, target_valid = train_test_split(features, target, test_size=0.25, random_state=12345)\n",
    "    model = LinearRegression()\n",
    "    model.fit(features_train, target_train)\n",
    "    predicted = model.predict(features_valid)\n",
    "    print(f'Средний запас предсказанного сырья {region}:', predicted.mean())\n",
    "    print(f'RMSE модели {region}:', mean_squared_error(y_true=target_valid, y_pred=predicted, squared=False))\n",
    "    print()\n",
    "    return pd.Series(predicted)"
   ],
   "metadata": {
    "collapsed": false
   }
  },
  {
   "cell_type": "code",
   "execution_count": 19,
   "outputs": [
    {
     "name": "stdout",
     "output_type": "stream",
     "text": [
      "Средний запас предсказанного сырья first_region: 92.59256778438035\n",
      "RMSE модели first_region: 37.5794217150813\n",
      "\n",
      "Средний запас предсказанного сырья second_region: 68.728546895446\n",
      "RMSE модели second_region: 0.8930992867756169\n",
      "\n",
      "Средний запас предсказанного сырья third_region: 94.96504596800492\n",
      "RMSE модели third_region: 40.02970873393434\n",
      "\n"
     ]
    }
   ],
   "source": [
    "predicted_first_reg = ml_and_checking(first_reg_features, first_reg_target, 'first_region')\n",
    "predicted_second_reg = ml_and_checking(second_reg_features, second_reg_target, 'second_region')\n",
    "predicted_third_reg = ml_and_checking(third_reg_features, third_reg_target, 'third_region')"
   ],
   "metadata": {
    "collapsed": false
   }
  },
  {
   "cell_type": "markdown",
   "source": [
    "Можно заметить, что лучше всего себя модель показала на втором регионе, *RMSE* составляет всего 0.89! Однако средний запас лежит в третьем регионе - 94.96."
   ],
   "metadata": {
    "collapsed": false
   }
  },
  {
   "cell_type": "markdown",
   "metadata": {},
   "source": [
    "## Подготовка к расчёту прибыли"
   ]
  },
  {
   "cell_type": "markdown",
   "source": [
    "Заведем в переменные имеющиеся у нас значения общего бюджета, количества скважин и доход с единицы продукта."
   ],
   "metadata": {
    "collapsed": false
   }
  },
  {
   "cell_type": "code",
   "execution_count": 20,
   "metadata": {},
   "outputs": [
    {
     "data": {
      "text/plain": "111.11111111111111"
     },
     "execution_count": 20,
     "metadata": {},
     "output_type": "execute_result"
    }
   ],
   "source": [
    "TOTAL_BUDGET = 10000000000\n",
    "EXPLORE_REGION = 200\n",
    "SELECTING_BOREHOLES = 500\n",
    "INCOME_FROM_EACH_UNIT = 450000\n",
    "NEEDED_VOLUME = TOTAL_BUDGET / EXPLORE_REGION / INCOME_FROM_EACH_UNIT\n",
    "NEEDED_VOLUME"
   ]
  },
  {
   "cell_type": "markdown",
   "source": [
    "А также создадим функцию подсчета прибыли со скважин."
   ],
   "metadata": {
    "collapsed": false
   }
  },
  {
   "cell_type": "code",
   "execution_count": 21,
   "outputs": [],
   "source": [
    "def revenue(volume):\n",
    "    return volume * INCOME_FROM_EACH_UNIT - TOTAL_BUDGET"
   ],
   "metadata": {
    "collapsed": false
   }
  },
  {
   "cell_type": "markdown",
   "metadata": {},
   "source": [
    "## Расчёт прибыли и рисков"
   ]
  },
  {
   "cell_type": "markdown",
   "source": [
    "Создадим функцию отбора двухста лучших скважин."
   ],
   "metadata": {
    "collapsed": false
   }
  },
  {
   "cell_type": "code",
   "execution_count": 22,
   "metadata": {},
   "outputs": [],
   "source": [
    "def best_boreholes(predicted_boreholes):\n",
    "    top_200_boreholes = predicted_boreholes.sort_values(ascending=False, ignore_index=True).head(200)\n",
    "    return top_200_boreholes\n"
   ]
  },
  {
   "cell_type": "markdown",
   "source": [
    "И теперь самое главное - реализуем технику *Bootstrap*, где будем 1000 раз создавать выборки из 500 скважин, выбирать из них 200 лучших и считать 95% доверительный интервал для прибыли"
   ],
   "metadata": {
    "collapsed": false
   }
  },
  {
   "cell_type": "code",
   "execution_count": 23,
   "outputs": [],
   "source": [
    "def bootstrap(predicted_boreholes, region):\n",
    "    state = np.random.RandomState(12345)\n",
    "    values = []\n",
    "    for i in range(1000):\n",
    "        subsample = predicted_boreholes.sample(n=SELECTING_BOREHOLES, replace=True, random_state=state)\n",
    "        subsample = best_boreholes(subsample)\n",
    "        profit = revenue(subsample.sum())\n",
    "        values.append(profit)\n",
    "    values = pd.Series(values)\n",
    "    mean_profit = values.mean()\n",
    "    print(f'ДЛЯ РЕГИОНА {region.upper()}')\n",
    "    print(' Средняя прибыль:', mean_profit / 1000000, 'млн')\n",
    "    lower = values.quantile(0.025)\n",
    "    upper = values.quantile(0.975)\n",
    "    print(' Нижняя граница:', lower / 1000000, 'млн')\n",
    "    print(' Верхняя граница:', upper/ 1000000, 'млн')\n",
    "    print(f'  Процент риска: {(len(values[values < 0]) / len(values)):.2%}')\n",
    "\n",
    "\n"
   ],
   "metadata": {
    "collapsed": false
   }
  },
  {
   "cell_type": "code",
   "execution_count": 24,
   "outputs": [
    {
     "name": "stdout",
     "output_type": "stream",
     "text": [
      "ДЛЯ РЕГИОНА FIRST\n",
      " Средняя прибыль: 358.02605420834124 млн\n",
      " Нижняя граница: 140.13733598107066 млн\n",
      " Верхняя граница: 598.8772713793849 млн\n",
      "  Процент риска: 0.10%\n",
      "ДЛЯ РЕГИОНА SECOND\n",
      " Средняя прибыль: 453.8116099461312 млн\n",
      " Нижняя граница: 32.88301962251606 млн\n",
      " Верхняя граница: 854.5616852130576 млн\n",
      "  Процент риска: 1.60%\n",
      "ДЛЯ РЕГИОНА THIRD\n",
      " Средняя прибыль: 281.46619794109176 млн\n",
      " Нижняя граница: 92.09830189543943 млн\n",
      " Верхняя граница: 478.5270324733727 млн\n",
      "  Процент риска: 0.20%\n"
     ]
    }
   ],
   "source": [
    "bootstrap(predicted_first_reg, 'first')\n",
    "bootstrap(predicted_second_reg, 'second')\n",
    "bootstrap(predicted_third_reg, 'third')\n"
   ],
   "metadata": {
    "collapsed": false
   }
  },
  {
   "cell_type": "markdown",
   "source": [
    "Самая большая средня прибыль во втором регионе - 453 млн, однако и риск там самый высокий - 1.6%!"
   ],
   "metadata": {
    "collapsed": false
   }
  },
  {
   "cell_type": "markdown",
   "source": [
    "Таким образом, если нам хочется минимизировать риск убытков, то следует выбирать первым регион, так как шанс убытков там составляет 0.10% при средней прибыли 358 млн. Однако самая высокая средняя прибыль во втором регионе - 453 млн и риск составляет 1.6%, что меньше 2.5% по условию."
   ],
   "metadata": {
    "collapsed": false
   }
  },
  {
   "cell_type": "markdown",
   "source": [
    "# Вывод"
   ],
   "metadata": {
    "collapsed": false
   }
  },
  {
   "cell_type": "markdown",
   "source": [
    "В данном проекте была проведена работа по получению данных, получению информации о них и дальнейшее использование в обучении моделей линейной регрессии. Модели были обучены успешно, особенно на данных второго региона, RMSE там составляет всего 0.89! Была посчитана необходимый обьем скважин для получения прибыль, а также создана функция расчета прибыли. Реализована техника *Boostrap*, в которой мы 1000 раз создавали выборки из 500 скважин и считали необходимые метрики. Таким образом наш глаз упал на второй регион, ведь именно там самая высокая средняя прибыль при риске ниже 2.5%!"
   ],
   "metadata": {
    "collapsed": false
   }
  },
  {
   "cell_type": "markdown",
   "metadata": {},
   "source": [
    "## Чек-лист готовности проекта"
   ]
  },
  {
   "cell_type": "markdown",
   "metadata": {},
   "source": [
    "Поставьте 'x' в выполненных пунктах. Далее нажмите Shift+Enter."
   ]
  },
  {
   "cell_type": "markdown",
   "metadata": {},
   "source": [
    "- [x]  Jupyter Notebook открыт\n",
    "- [x]  Весь код выполняется без ошибок\n",
    "- [x]  Ячейки с кодом расположены в порядке исполнения\n",
    "- [x]  Выполнен шаг 1: данные подготовлены\n",
    "- [x]  Выполнен шаг 2: модели обучены и проверены\n",
    "    - [x]  Данные корректно разбиты на обучающую и валидационную выборки\n",
    "    - [x]  Модели обучены, предсказания сделаны\n",
    "    - [x]  Предсказания и правильные ответы на валидационной выборке сохранены\n",
    "    - [x]  На экране напечатаны результаты\n",
    "    - [x]  Сделаны выводы\n",
    "- [x]  Выполнен шаг 3: проведена подготовка к расчёту прибыли\n",
    "    - [x]  Для всех ключевых значений созданы константы Python\n",
    "    - [x]  Посчитано минимальное среднее количество продукта в месторождениях региона, достаточное для разработки\n",
    "    - [x]  По предыдущему пункту сделаны выводы\n",
    "    - [x]  Написана функция расчёта прибыли\n",
    "- [x]  Выполнен шаг 4: посчитаны риски и прибыль\n",
    "    - [x]  Проведена процедура *Bootstrap*\n",
    "    - [x]  Все параметры бутстрепа соответствуют условию\n",
    "    - [x]  Найдены все нужные величины\n",
    "    - [x]  Предложен регион для разработки месторождения\n",
    "    - [x]  Выбор региона обоснован"
   ]
  }
 ],
 "metadata": {
  "kernelspec": {
   "display_name": "Python 3 (ipykernel)",
   "language": "python",
   "name": "python3"
  },
  "language_info": {
   "codemirror_mode": {
    "name": "ipython",
    "version": 3
   },
   "file_extension": ".py",
   "mimetype": "text/x-python",
   "name": "python",
   "nbconvert_exporter": "python",
   "pygments_lexer": "ipython3",
   "version": "3.9.5"
  },
  "toc": {
   "base_numbering": 1,
   "nav_menu": {},
   "number_sections": true,
   "sideBar": true,
   "skip_h1_title": true,
   "title_cell": "Table of Contents",
   "title_sidebar": "Contents",
   "toc_cell": false,
   "toc_position": {},
   "toc_section_display": true,
   "toc_window_display": false
  }
 },
 "nbformat": 4,
 "nbformat_minor": 2
}
