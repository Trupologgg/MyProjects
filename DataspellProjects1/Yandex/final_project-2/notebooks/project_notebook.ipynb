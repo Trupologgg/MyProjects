{
 "cells": [
  {
   "cell_type": "markdown",
   "source": [
    "# Подготовка данных"
   ],
   "metadata": {
    "collapsed": false
   }
  },
  {
   "cell_type": "code",
   "execution_count": 47,
   "outputs": [],
   "source": [
    "import pandas as pd\n",
    "import numpy as np\n",
    "import matplotlib.pyplot as plt\n",
    "from sklearn.metrics import mean_absolute_error"
   ],
   "metadata": {
    "collapsed": false
   }
  },
  {
   "cell_type": "code",
   "execution_count": 48,
   "outputs": [],
   "source": [
    "full_data = pd.read_csv('../datasets/gold_recovery_full_new.csv')\n",
    "test_data = pd.read_csv('../datasets/gold_recovery_test_new.csv')\n",
    "train_data = pd.read_csv('../datasets/gold_recovery_train_new.csv')"
   ],
   "metadata": {
    "collapsed": false
   }
  },
  {
   "cell_type": "code",
   "execution_count": 49,
   "outputs": [],
   "source": [
    "def data_info(data):\n",
    "    data.info()\n",
    "    display(data.head())\n",
    "    display(data.describe())\n"
   ],
   "metadata": {
    "collapsed": false
   }
  },
  {
   "cell_type": "code",
   "execution_count": 50,
   "outputs": [
    {
     "name": "stdout",
     "output_type": "stream",
     "text": [
      "<class 'pandas.core.frame.DataFrame'>\n",
      "RangeIndex: 19439 entries, 0 to 19438\n",
      "Data columns (total 87 columns):\n",
      " #   Column                                              Non-Null Count  Dtype  \n",
      "---  ------                                              --------------  -----  \n",
      " 0   date                                                19439 non-null  object \n",
      " 1   final.output.concentrate_ag                         19438 non-null  float64\n",
      " 2   final.output.concentrate_pb                         19438 non-null  float64\n",
      " 3   final.output.concentrate_sol                        19228 non-null  float64\n",
      " 4   final.output.concentrate_au                         19439 non-null  float64\n",
      " 5   final.output.recovery                               19439 non-null  float64\n",
      " 6   final.output.tail_ag                                19438 non-null  float64\n",
      " 7   final.output.tail_pb                                19338 non-null  float64\n",
      " 8   final.output.tail_sol                               19433 non-null  float64\n",
      " 9   final.output.tail_au                                19439 non-null  float64\n",
      " 10  primary_cleaner.input.sulfate                       19415 non-null  float64\n",
      " 11  primary_cleaner.input.depressant                    19402 non-null  float64\n",
      " 12  primary_cleaner.input.feed_size                     19439 non-null  float64\n",
      " 13  primary_cleaner.input.xanthate                      19335 non-null  float64\n",
      " 14  primary_cleaner.output.concentrate_ag               19439 non-null  float64\n",
      " 15  primary_cleaner.output.concentrate_pb               19323 non-null  float64\n",
      " 16  primary_cleaner.output.concentrate_sol              19069 non-null  float64\n",
      " 17  primary_cleaner.output.concentrate_au               19439 non-null  float64\n",
      " 18  primary_cleaner.output.tail_ag                      19435 non-null  float64\n",
      " 19  primary_cleaner.output.tail_pb                      19418 non-null  float64\n",
      " 20  primary_cleaner.output.tail_sol                     19377 non-null  float64\n",
      " 21  primary_cleaner.output.tail_au                      19439 non-null  float64\n",
      " 22  primary_cleaner.state.floatbank8_a_air              19435 non-null  float64\n",
      " 23  primary_cleaner.state.floatbank8_a_level            19438 non-null  float64\n",
      " 24  primary_cleaner.state.floatbank8_b_air              19435 non-null  float64\n",
      " 25  primary_cleaner.state.floatbank8_b_level            19438 non-null  float64\n",
      " 26  primary_cleaner.state.floatbank8_c_air              19437 non-null  float64\n",
      " 27  primary_cleaner.state.floatbank8_c_level            19438 non-null  float64\n",
      " 28  primary_cleaner.state.floatbank8_d_air              19436 non-null  float64\n",
      " 29  primary_cleaner.state.floatbank8_d_level            19438 non-null  float64\n",
      " 30  rougher.calculation.sulfate_to_au_concentrate       19437 non-null  float64\n",
      " 31  rougher.calculation.floatbank10_sulfate_to_au_feed  19437 non-null  float64\n",
      " 32  rougher.calculation.floatbank11_sulfate_to_au_feed  19437 non-null  float64\n",
      " 33  rougher.calculation.au_pb_ratio                     19439 non-null  float64\n",
      " 34  rougher.input.feed_ag                               19439 non-null  float64\n",
      " 35  rougher.input.feed_pb                               19339 non-null  float64\n",
      " 36  rougher.input.feed_rate                             19428 non-null  float64\n",
      " 37  rougher.input.feed_size                             19294 non-null  float64\n",
      " 38  rougher.input.feed_sol                              19340 non-null  float64\n",
      " 39  rougher.input.feed_au                               19439 non-null  float64\n",
      " 40  rougher.input.floatbank10_sulfate                   19405 non-null  float64\n",
      " 41  rougher.input.floatbank10_xanthate                  19431 non-null  float64\n",
      " 42  rougher.input.floatbank11_sulfate                   19395 non-null  float64\n",
      " 43  rougher.input.floatbank11_xanthate                  18986 non-null  float64\n",
      " 44  rougher.output.concentrate_ag                       19439 non-null  float64\n",
      " 45  rougher.output.concentrate_pb                       19439 non-null  float64\n",
      " 46  rougher.output.concentrate_sol                      19416 non-null  float64\n",
      " 47  rougher.output.concentrate_au                       19439 non-null  float64\n",
      " 48  rougher.output.recovery                             19439 non-null  float64\n",
      " 49  rougher.output.tail_ag                              19438 non-null  float64\n",
      " 50  rougher.output.tail_pb                              19439 non-null  float64\n",
      " 51  rougher.output.tail_sol                             19439 non-null  float64\n",
      " 52  rougher.output.tail_au                              19439 non-null  float64\n",
      " 53  rougher.state.floatbank10_a_air                     19438 non-null  float64\n",
      " 54  rougher.state.floatbank10_a_level                   19438 non-null  float64\n",
      " 55  rougher.state.floatbank10_b_air                     19438 non-null  float64\n",
      " 56  rougher.state.floatbank10_b_level                   19438 non-null  float64\n",
      " 57  rougher.state.floatbank10_c_air                     19438 non-null  float64\n",
      " 58  rougher.state.floatbank10_c_level                   19438 non-null  float64\n",
      " 59  rougher.state.floatbank10_d_air                     19439 non-null  float64\n",
      " 60  rougher.state.floatbank10_d_level                   19439 non-null  float64\n",
      " 61  rougher.state.floatbank10_e_air                     19003 non-null  float64\n",
      " 62  rougher.state.floatbank10_e_level                   19439 non-null  float64\n",
      " 63  rougher.state.floatbank10_f_air                     19439 non-null  float64\n",
      " 64  rougher.state.floatbank10_f_level                   19439 non-null  float64\n",
      " 65  secondary_cleaner.output.tail_ag                    19437 non-null  float64\n",
      " 66  secondary_cleaner.output.tail_pb                    19427 non-null  float64\n",
      " 67  secondary_cleaner.output.tail_sol                   17691 non-null  float64\n",
      " 68  secondary_cleaner.output.tail_au                    19439 non-null  float64\n",
      " 69  secondary_cleaner.state.floatbank2_a_air            19219 non-null  float64\n",
      " 70  secondary_cleaner.state.floatbank2_a_level          19438 non-null  float64\n",
      " 71  secondary_cleaner.state.floatbank2_b_air            19416 non-null  float64\n",
      " 72  secondary_cleaner.state.floatbank2_b_level          19438 non-null  float64\n",
      " 73  secondary_cleaner.state.floatbank3_a_air            19426 non-null  float64\n",
      " 74  secondary_cleaner.state.floatbank3_a_level          19438 non-null  float64\n",
      " 75  secondary_cleaner.state.floatbank3_b_air            19438 non-null  float64\n",
      " 76  secondary_cleaner.state.floatbank3_b_level          19438 non-null  float64\n",
      " 77  secondary_cleaner.state.floatbank4_a_air            19433 non-null  float64\n",
      " 78  secondary_cleaner.state.floatbank4_a_level          19438 non-null  float64\n",
      " 79  secondary_cleaner.state.floatbank4_b_air            19438 non-null  float64\n",
      " 80  secondary_cleaner.state.floatbank4_b_level          19438 non-null  float64\n",
      " 81  secondary_cleaner.state.floatbank5_a_air            19438 non-null  float64\n",
      " 82  secondary_cleaner.state.floatbank5_a_level          19438 non-null  float64\n",
      " 83  secondary_cleaner.state.floatbank5_b_air            19438 non-null  float64\n",
      " 84  secondary_cleaner.state.floatbank5_b_level          19438 non-null  float64\n",
      " 85  secondary_cleaner.state.floatbank6_a_air            19437 non-null  float64\n",
      " 86  secondary_cleaner.state.floatbank6_a_level          19438 non-null  float64\n",
      "dtypes: float64(86), object(1)\n",
      "memory usage: 12.9+ MB\n"
     ]
    },
    {
     "data": {
      "text/plain": "                  date  final.output.concentrate_ag  \\\n0  2016-01-15 00:00:00                     6.055403   \n1  2016-01-15 01:00:00                     6.029369   \n2  2016-01-15 02:00:00                     6.055926   \n3  2016-01-15 03:00:00                     6.047977   \n4  2016-01-15 04:00:00                     6.148599   \n\n   final.output.concentrate_pb  final.output.concentrate_sol  \\\n0                     9.889648                      5.507324   \n1                     9.968944                      5.257781   \n2                    10.213995                      5.383759   \n3                     9.977019                      4.858634   \n4                    10.142511                      4.939416   \n\n   final.output.concentrate_au  final.output.recovery  final.output.tail_ag  \\\n0                    42.192020              70.541216             10.411962   \n1                    42.701629              69.266198             10.462676   \n2                    42.657501              68.116445             10.507046   \n3                    42.689819              68.347543             10.422762   \n4                    42.774141              66.927016             10.360302   \n\n   final.output.tail_pb  final.output.tail_sol  final.output.tail_au  ...  \\\n0              0.895447              16.904297              2.143149  ...   \n1              0.927452              16.634514              2.224930  ...   \n2              0.953716              16.208849              2.257889  ...   \n3              0.883763              16.532835              2.146849  ...   \n4              0.792826              16.525686              2.055292  ...   \n\n   secondary_cleaner.state.floatbank4_a_air  \\\n0                                 14.016835   \n1                                 13.992281   \n2                                 14.015015   \n3                                 14.036510   \n4                                 14.027298   \n\n   secondary_cleaner.state.floatbank4_a_level  \\\n0                                 -502.488007   \n1                                 -505.503262   \n2                                 -502.520901   \n3                                 -500.857308   \n4                                 -499.838632   \n\n   secondary_cleaner.state.floatbank4_b_air  \\\n0                                 12.099931   \n1                                 11.950531   \n2                                 11.912783   \n3                                 11.999550   \n4                                 11.953070   \n\n   secondary_cleaner.state.floatbank4_b_level  \\\n0                                 -504.715942   \n1                                 -501.331529   \n2                                 -501.133383   \n3                                 -501.193686   \n4                                 -501.053894   \n\n   secondary_cleaner.state.floatbank5_a_air  \\\n0                                  9.925633   \n1                                 10.039245   \n2                                 10.070913   \n3                                  9.970366   \n4                                  9.925709   \n\n   secondary_cleaner.state.floatbank5_a_level  \\\n0                                 -498.310211   \n1                                 -500.169983   \n2                                 -500.129135   \n3                                 -499.201640   \n4                                 -501.686727   \n\n   secondary_cleaner.state.floatbank5_b_air  \\\n0                                  8.079666   \n1                                  7.984757   \n2                                  8.013877   \n3                                  7.977324   \n4                                  7.894242   \n\n   secondary_cleaner.state.floatbank5_b_level  \\\n0                                 -500.470978   \n1                                 -500.582168   \n2                                 -500.517572   \n3                                 -500.255908   \n4                                 -500.356035   \n\n   secondary_cleaner.state.floatbank6_a_air  \\\n0                                 14.151341   \n1                                 13.998353   \n2                                 14.028663   \n3                                 14.005551   \n4                                 13.996647   \n\n   secondary_cleaner.state.floatbank6_a_level  \n0                                 -605.841980  \n1                                 -599.787184  \n2                                 -601.427363  \n3                                 -599.996129  \n4                                 -601.496691  \n\n[5 rows x 87 columns]",
      "text/html": "<div>\n<style scoped>\n    .dataframe tbody tr th:only-of-type {\n        vertical-align: middle;\n    }\n\n    .dataframe tbody tr th {\n        vertical-align: top;\n    }\n\n    .dataframe thead th {\n        text-align: right;\n    }\n</style>\n<table border=\"1\" class=\"dataframe\">\n  <thead>\n    <tr style=\"text-align: right;\">\n      <th></th>\n      <th>date</th>\n      <th>final.output.concentrate_ag</th>\n      <th>final.output.concentrate_pb</th>\n      <th>final.output.concentrate_sol</th>\n      <th>final.output.concentrate_au</th>\n      <th>final.output.recovery</th>\n      <th>final.output.tail_ag</th>\n      <th>final.output.tail_pb</th>\n      <th>final.output.tail_sol</th>\n      <th>final.output.tail_au</th>\n      <th>...</th>\n      <th>secondary_cleaner.state.floatbank4_a_air</th>\n      <th>secondary_cleaner.state.floatbank4_a_level</th>\n      <th>secondary_cleaner.state.floatbank4_b_air</th>\n      <th>secondary_cleaner.state.floatbank4_b_level</th>\n      <th>secondary_cleaner.state.floatbank5_a_air</th>\n      <th>secondary_cleaner.state.floatbank5_a_level</th>\n      <th>secondary_cleaner.state.floatbank5_b_air</th>\n      <th>secondary_cleaner.state.floatbank5_b_level</th>\n      <th>secondary_cleaner.state.floatbank6_a_air</th>\n      <th>secondary_cleaner.state.floatbank6_a_level</th>\n    </tr>\n  </thead>\n  <tbody>\n    <tr>\n      <th>0</th>\n      <td>2016-01-15 00:00:00</td>\n      <td>6.055403</td>\n      <td>9.889648</td>\n      <td>5.507324</td>\n      <td>42.192020</td>\n      <td>70.541216</td>\n      <td>10.411962</td>\n      <td>0.895447</td>\n      <td>16.904297</td>\n      <td>2.143149</td>\n      <td>...</td>\n      <td>14.016835</td>\n      <td>-502.488007</td>\n      <td>12.099931</td>\n      <td>-504.715942</td>\n      <td>9.925633</td>\n      <td>-498.310211</td>\n      <td>8.079666</td>\n      <td>-500.470978</td>\n      <td>14.151341</td>\n      <td>-605.841980</td>\n    </tr>\n    <tr>\n      <th>1</th>\n      <td>2016-01-15 01:00:00</td>\n      <td>6.029369</td>\n      <td>9.968944</td>\n      <td>5.257781</td>\n      <td>42.701629</td>\n      <td>69.266198</td>\n      <td>10.462676</td>\n      <td>0.927452</td>\n      <td>16.634514</td>\n      <td>2.224930</td>\n      <td>...</td>\n      <td>13.992281</td>\n      <td>-505.503262</td>\n      <td>11.950531</td>\n      <td>-501.331529</td>\n      <td>10.039245</td>\n      <td>-500.169983</td>\n      <td>7.984757</td>\n      <td>-500.582168</td>\n      <td>13.998353</td>\n      <td>-599.787184</td>\n    </tr>\n    <tr>\n      <th>2</th>\n      <td>2016-01-15 02:00:00</td>\n      <td>6.055926</td>\n      <td>10.213995</td>\n      <td>5.383759</td>\n      <td>42.657501</td>\n      <td>68.116445</td>\n      <td>10.507046</td>\n      <td>0.953716</td>\n      <td>16.208849</td>\n      <td>2.257889</td>\n      <td>...</td>\n      <td>14.015015</td>\n      <td>-502.520901</td>\n      <td>11.912783</td>\n      <td>-501.133383</td>\n      <td>10.070913</td>\n      <td>-500.129135</td>\n      <td>8.013877</td>\n      <td>-500.517572</td>\n      <td>14.028663</td>\n      <td>-601.427363</td>\n    </tr>\n    <tr>\n      <th>3</th>\n      <td>2016-01-15 03:00:00</td>\n      <td>6.047977</td>\n      <td>9.977019</td>\n      <td>4.858634</td>\n      <td>42.689819</td>\n      <td>68.347543</td>\n      <td>10.422762</td>\n      <td>0.883763</td>\n      <td>16.532835</td>\n      <td>2.146849</td>\n      <td>...</td>\n      <td>14.036510</td>\n      <td>-500.857308</td>\n      <td>11.999550</td>\n      <td>-501.193686</td>\n      <td>9.970366</td>\n      <td>-499.201640</td>\n      <td>7.977324</td>\n      <td>-500.255908</td>\n      <td>14.005551</td>\n      <td>-599.996129</td>\n    </tr>\n    <tr>\n      <th>4</th>\n      <td>2016-01-15 04:00:00</td>\n      <td>6.148599</td>\n      <td>10.142511</td>\n      <td>4.939416</td>\n      <td>42.774141</td>\n      <td>66.927016</td>\n      <td>10.360302</td>\n      <td>0.792826</td>\n      <td>16.525686</td>\n      <td>2.055292</td>\n      <td>...</td>\n      <td>14.027298</td>\n      <td>-499.838632</td>\n      <td>11.953070</td>\n      <td>-501.053894</td>\n      <td>9.925709</td>\n      <td>-501.686727</td>\n      <td>7.894242</td>\n      <td>-500.356035</td>\n      <td>13.996647</td>\n      <td>-601.496691</td>\n    </tr>\n  </tbody>\n</table>\n<p>5 rows × 87 columns</p>\n</div>"
     },
     "metadata": {},
     "output_type": "display_data"
    },
    {
     "data": {
      "text/plain": "       final.output.concentrate_ag  final.output.concentrate_pb  \\\ncount                 19438.000000                 19438.000000   \nmean                      5.168470                     9.978895   \nstd                       1.372348                     1.669240   \nmin                       0.000000                     0.000000   \n25%                       4.251240                     9.137262   \n50%                       5.066094                    10.102433   \n75%                       5.895527                    11.035769   \nmax                      16.001945                    17.031899   \n\n       final.output.concentrate_sol  final.output.concentrate_au  \\\ncount                  19228.000000                 19439.000000   \nmean                       9.501224                    44.076513   \nstd                        2.787537                     5.129784   \nmin                        0.000000                     0.000000   \n25%                        7.722820                    43.402215   \n50%                        9.218961                    45.011244   \n75%                       10.947813                    46.275313   \nmax                       19.615720                    52.756638   \n\n       final.output.recovery  final.output.tail_ag  final.output.tail_pb  \\\ncount           19439.000000          19438.000000          19338.000000   \nmean               67.050208              9.688589              2.705795   \nstd                10.125840              2.328642              0.949077   \nmin                 0.000000              0.000000              0.000000   \n25%                63.299712              8.062878              2.040119   \n50%                68.172738              9.743623              2.748730   \n75%                72.686642             11.134294              3.333216   \nmax               100.000000             19.552149              5.804178   \n\n       final.output.tail_sol  final.output.tail_au  \\\ncount           19433.000000          19439.000000   \nmean               10.583728              3.042467   \nstd                 2.868782              0.922808   \nmin                 0.000000              0.000000   \n25%                 8.938947              2.461138   \n50%                10.622456              2.984909   \n75%                12.104271              3.571351   \nmax                22.317730              8.245022   \n\n       primary_cleaner.input.sulfate  ...  \\\ncount                   19415.000000  ...   \nmean                      144.624774  ...   \nstd                        44.464071  ...   \nmin                         0.003112  ...   \n25%                       114.107029  ...   \n50%                       143.232103  ...   \n75%                       175.075656  ...   \nmax                       265.983123  ...   \n\n       secondary_cleaner.state.floatbank4_a_air  \\\ncount                              19433.000000   \nmean                                  18.987674   \nstd                                    5.411058   \nmin                                    0.000000   \n25%                                   14.975734   \n50%                                   18.017481   \n75%                                   23.012470   \nmax                                   30.115735   \n\n       secondary_cleaner.state.floatbank4_a_level  \\\ncount                                19438.000000   \nmean                                  -485.894516   \nstd                                     47.758570   \nmin                                   -799.798523   \n25%                                   -500.704892   \n50%                                   -499.837793   \n75%                                   -498.249730   \nmax                                   -245.239184   \n\n       secondary_cleaner.state.floatbank4_b_air  \\\ncount                              19438.000000   \nmean                                  15.010366   \nstd                                    4.890228   \nmin                                    0.000000   \n25%                                   11.940294   \n50%                                   14.971014   \n75%                                   19.034162   \nmax                                   31.269706   \n\n       secondary_cleaner.state.floatbank4_b_level  \\\ncount                                19438.000000   \nmean                                  -461.078636   \nstd                                     67.405524   \nmin                                   -800.836914   \n25%                                   -500.187742   \n50%                                   -499.459786   \n75%                                   -400.118106   \nmax                                     -6.506986   \n\n       secondary_cleaner.state.floatbank5_a_air  \\\ncount                              19438.000000   \nmean                                  15.694452   \nstd                                    5.510974   \nmin                                   -0.372054   \n25%                                   10.988606   \n50%                                   15.000036   \n75%                                   18.026190   \nmax                                   43.709931   \n\n       secondary_cleaner.state.floatbank5_a_level  \\\ncount                                19438.000000   \nmean                                  -488.684065   \nstd                                     34.533396   \nmin                                   -797.323986   \n25%                                   -500.458467   \n50%                                   -499.802605   \n75%                                   -498.384187   \nmax                                   -244.483566   \n\n       secondary_cleaner.state.floatbank5_b_air  \\\ncount                              19438.000000   \nmean                                  12.198224   \nstd                                    5.333024   \nmin                                    0.528083   \n25%                                    8.971105   \n50%                                   11.019433   \n75%                                   14.019088   \nmax                                   27.926001   \n\n       secondary_cleaner.state.floatbank5_b_level  \\\ncount                                19438.000000   \nmean                                  -487.149827   \nstd                                     38.347312   \nmin                                   -800.220337   \n25%                                   -500.129462   \n50%                                   -499.935317   \n75%                                   -499.436708   \nmax                                   -137.740004   \n\n       secondary_cleaner.state.floatbank6_a_air  \\\ncount                              19437.000000   \nmean                                  18.959024   \nstd                                    5.550498   \nmin                                   -0.079426   \n25%                                   14.983037   \n50%                                   19.960541   \n75%                                   24.003170   \nmax                                   32.188906   \n\n       secondary_cleaner.state.floatbank6_a_level  \ncount                                19438.000000  \nmean                                  -505.436305  \nstd                                     37.689057  \nmin                                   -809.741464  \n25%                                   -500.728067  \n50%                                   -500.048400  \n75%                                   -499.495378  \nmax                                   -104.427459  \n\n[8 rows x 86 columns]",
      "text/html": "<div>\n<style scoped>\n    .dataframe tbody tr th:only-of-type {\n        vertical-align: middle;\n    }\n\n    .dataframe tbody tr th {\n        vertical-align: top;\n    }\n\n    .dataframe thead th {\n        text-align: right;\n    }\n</style>\n<table border=\"1\" class=\"dataframe\">\n  <thead>\n    <tr style=\"text-align: right;\">\n      <th></th>\n      <th>final.output.concentrate_ag</th>\n      <th>final.output.concentrate_pb</th>\n      <th>final.output.concentrate_sol</th>\n      <th>final.output.concentrate_au</th>\n      <th>final.output.recovery</th>\n      <th>final.output.tail_ag</th>\n      <th>final.output.tail_pb</th>\n      <th>final.output.tail_sol</th>\n      <th>final.output.tail_au</th>\n      <th>primary_cleaner.input.sulfate</th>\n      <th>...</th>\n      <th>secondary_cleaner.state.floatbank4_a_air</th>\n      <th>secondary_cleaner.state.floatbank4_a_level</th>\n      <th>secondary_cleaner.state.floatbank4_b_air</th>\n      <th>secondary_cleaner.state.floatbank4_b_level</th>\n      <th>secondary_cleaner.state.floatbank5_a_air</th>\n      <th>secondary_cleaner.state.floatbank5_a_level</th>\n      <th>secondary_cleaner.state.floatbank5_b_air</th>\n      <th>secondary_cleaner.state.floatbank5_b_level</th>\n      <th>secondary_cleaner.state.floatbank6_a_air</th>\n      <th>secondary_cleaner.state.floatbank6_a_level</th>\n    </tr>\n  </thead>\n  <tbody>\n    <tr>\n      <th>count</th>\n      <td>19438.000000</td>\n      <td>19438.000000</td>\n      <td>19228.000000</td>\n      <td>19439.000000</td>\n      <td>19439.000000</td>\n      <td>19438.000000</td>\n      <td>19338.000000</td>\n      <td>19433.000000</td>\n      <td>19439.000000</td>\n      <td>19415.000000</td>\n      <td>...</td>\n      <td>19433.000000</td>\n      <td>19438.000000</td>\n      <td>19438.000000</td>\n      <td>19438.000000</td>\n      <td>19438.000000</td>\n      <td>19438.000000</td>\n      <td>19438.000000</td>\n      <td>19438.000000</td>\n      <td>19437.000000</td>\n      <td>19438.000000</td>\n    </tr>\n    <tr>\n      <th>mean</th>\n      <td>5.168470</td>\n      <td>9.978895</td>\n      <td>9.501224</td>\n      <td>44.076513</td>\n      <td>67.050208</td>\n      <td>9.688589</td>\n      <td>2.705795</td>\n      <td>10.583728</td>\n      <td>3.042467</td>\n      <td>144.624774</td>\n      <td>...</td>\n      <td>18.987674</td>\n      <td>-485.894516</td>\n      <td>15.010366</td>\n      <td>-461.078636</td>\n      <td>15.694452</td>\n      <td>-488.684065</td>\n      <td>12.198224</td>\n      <td>-487.149827</td>\n      <td>18.959024</td>\n      <td>-505.436305</td>\n    </tr>\n    <tr>\n      <th>std</th>\n      <td>1.372348</td>\n      <td>1.669240</td>\n      <td>2.787537</td>\n      <td>5.129784</td>\n      <td>10.125840</td>\n      <td>2.328642</td>\n      <td>0.949077</td>\n      <td>2.868782</td>\n      <td>0.922808</td>\n      <td>44.464071</td>\n      <td>...</td>\n      <td>5.411058</td>\n      <td>47.758570</td>\n      <td>4.890228</td>\n      <td>67.405524</td>\n      <td>5.510974</td>\n      <td>34.533396</td>\n      <td>5.333024</td>\n      <td>38.347312</td>\n      <td>5.550498</td>\n      <td>37.689057</td>\n    </tr>\n    <tr>\n      <th>min</th>\n      <td>0.000000</td>\n      <td>0.000000</td>\n      <td>0.000000</td>\n      <td>0.000000</td>\n      <td>0.000000</td>\n      <td>0.000000</td>\n      <td>0.000000</td>\n      <td>0.000000</td>\n      <td>0.000000</td>\n      <td>0.003112</td>\n      <td>...</td>\n      <td>0.000000</td>\n      <td>-799.798523</td>\n      <td>0.000000</td>\n      <td>-800.836914</td>\n      <td>-0.372054</td>\n      <td>-797.323986</td>\n      <td>0.528083</td>\n      <td>-800.220337</td>\n      <td>-0.079426</td>\n      <td>-809.741464</td>\n    </tr>\n    <tr>\n      <th>25%</th>\n      <td>4.251240</td>\n      <td>9.137262</td>\n      <td>7.722820</td>\n      <td>43.402215</td>\n      <td>63.299712</td>\n      <td>8.062878</td>\n      <td>2.040119</td>\n      <td>8.938947</td>\n      <td>2.461138</td>\n      <td>114.107029</td>\n      <td>...</td>\n      <td>14.975734</td>\n      <td>-500.704892</td>\n      <td>11.940294</td>\n      <td>-500.187742</td>\n      <td>10.988606</td>\n      <td>-500.458467</td>\n      <td>8.971105</td>\n      <td>-500.129462</td>\n      <td>14.983037</td>\n      <td>-500.728067</td>\n    </tr>\n    <tr>\n      <th>50%</th>\n      <td>5.066094</td>\n      <td>10.102433</td>\n      <td>9.218961</td>\n      <td>45.011244</td>\n      <td>68.172738</td>\n      <td>9.743623</td>\n      <td>2.748730</td>\n      <td>10.622456</td>\n      <td>2.984909</td>\n      <td>143.232103</td>\n      <td>...</td>\n      <td>18.017481</td>\n      <td>-499.837793</td>\n      <td>14.971014</td>\n      <td>-499.459786</td>\n      <td>15.000036</td>\n      <td>-499.802605</td>\n      <td>11.019433</td>\n      <td>-499.935317</td>\n      <td>19.960541</td>\n      <td>-500.048400</td>\n    </tr>\n    <tr>\n      <th>75%</th>\n      <td>5.895527</td>\n      <td>11.035769</td>\n      <td>10.947813</td>\n      <td>46.275313</td>\n      <td>72.686642</td>\n      <td>11.134294</td>\n      <td>3.333216</td>\n      <td>12.104271</td>\n      <td>3.571351</td>\n      <td>175.075656</td>\n      <td>...</td>\n      <td>23.012470</td>\n      <td>-498.249730</td>\n      <td>19.034162</td>\n      <td>-400.118106</td>\n      <td>18.026190</td>\n      <td>-498.384187</td>\n      <td>14.019088</td>\n      <td>-499.436708</td>\n      <td>24.003170</td>\n      <td>-499.495378</td>\n    </tr>\n    <tr>\n      <th>max</th>\n      <td>16.001945</td>\n      <td>17.031899</td>\n      <td>19.615720</td>\n      <td>52.756638</td>\n      <td>100.000000</td>\n      <td>19.552149</td>\n      <td>5.804178</td>\n      <td>22.317730</td>\n      <td>8.245022</td>\n      <td>265.983123</td>\n      <td>...</td>\n      <td>30.115735</td>\n      <td>-245.239184</td>\n      <td>31.269706</td>\n      <td>-6.506986</td>\n      <td>43.709931</td>\n      <td>-244.483566</td>\n      <td>27.926001</td>\n      <td>-137.740004</td>\n      <td>32.188906</td>\n      <td>-104.427459</td>\n    </tr>\n  </tbody>\n</table>\n<p>8 rows × 86 columns</p>\n</div>"
     },
     "metadata": {},
     "output_type": "display_data"
    },
    {
     "name": "stdout",
     "output_type": "stream",
     "text": [
      "<class 'pandas.core.frame.DataFrame'>\n",
      "RangeIndex: 5290 entries, 0 to 5289\n",
      "Data columns (total 53 columns):\n",
      " #   Column                                      Non-Null Count  Dtype  \n",
      "---  ------                                      --------------  -----  \n",
      " 0   date                                        5290 non-null   object \n",
      " 1   primary_cleaner.input.sulfate               5286 non-null   float64\n",
      " 2   primary_cleaner.input.depressant            5285 non-null   float64\n",
      " 3   primary_cleaner.input.feed_size             5290 non-null   float64\n",
      " 4   primary_cleaner.input.xanthate              5286 non-null   float64\n",
      " 5   primary_cleaner.state.floatbank8_a_air      5290 non-null   float64\n",
      " 6   primary_cleaner.state.floatbank8_a_level    5290 non-null   float64\n",
      " 7   primary_cleaner.state.floatbank8_b_air      5290 non-null   float64\n",
      " 8   primary_cleaner.state.floatbank8_b_level    5290 non-null   float64\n",
      " 9   primary_cleaner.state.floatbank8_c_air      5290 non-null   float64\n",
      " 10  primary_cleaner.state.floatbank8_c_level    5290 non-null   float64\n",
      " 11  primary_cleaner.state.floatbank8_d_air      5290 non-null   float64\n",
      " 12  primary_cleaner.state.floatbank8_d_level    5290 non-null   float64\n",
      " 13  rougher.input.feed_ag                       5290 non-null   float64\n",
      " 14  rougher.input.feed_pb                       5290 non-null   float64\n",
      " 15  rougher.input.feed_rate                     5287 non-null   float64\n",
      " 16  rougher.input.feed_size                     5289 non-null   float64\n",
      " 17  rougher.input.feed_sol                      5269 non-null   float64\n",
      " 18  rougher.input.feed_au                       5290 non-null   float64\n",
      " 19  rougher.input.floatbank10_sulfate           5285 non-null   float64\n",
      " 20  rougher.input.floatbank10_xanthate          5290 non-null   float64\n",
      " 21  rougher.input.floatbank11_sulfate           5282 non-null   float64\n",
      " 22  rougher.input.floatbank11_xanthate          5265 non-null   float64\n",
      " 23  rougher.state.floatbank10_a_air             5290 non-null   float64\n",
      " 24  rougher.state.floatbank10_a_level           5290 non-null   float64\n",
      " 25  rougher.state.floatbank10_b_air             5290 non-null   float64\n",
      " 26  rougher.state.floatbank10_b_level           5290 non-null   float64\n",
      " 27  rougher.state.floatbank10_c_air             5290 non-null   float64\n",
      " 28  rougher.state.floatbank10_c_level           5290 non-null   float64\n",
      " 29  rougher.state.floatbank10_d_air             5290 non-null   float64\n",
      " 30  rougher.state.floatbank10_d_level           5290 non-null   float64\n",
      " 31  rougher.state.floatbank10_e_air             5290 non-null   float64\n",
      " 32  rougher.state.floatbank10_e_level           5290 non-null   float64\n",
      " 33  rougher.state.floatbank10_f_air             5290 non-null   float64\n",
      " 34  rougher.state.floatbank10_f_level           5290 non-null   float64\n",
      " 35  secondary_cleaner.state.floatbank2_a_air    5287 non-null   float64\n",
      " 36  secondary_cleaner.state.floatbank2_a_level  5290 non-null   float64\n",
      " 37  secondary_cleaner.state.floatbank2_b_air    5288 non-null   float64\n",
      " 38  secondary_cleaner.state.floatbank2_b_level  5290 non-null   float64\n",
      " 39  secondary_cleaner.state.floatbank3_a_air    5281 non-null   float64\n",
      " 40  secondary_cleaner.state.floatbank3_a_level  5290 non-null   float64\n",
      " 41  secondary_cleaner.state.floatbank3_b_air    5290 non-null   float64\n",
      " 42  secondary_cleaner.state.floatbank3_b_level  5290 non-null   float64\n",
      " 43  secondary_cleaner.state.floatbank4_a_air    5290 non-null   float64\n",
      " 44  secondary_cleaner.state.floatbank4_a_level  5290 non-null   float64\n",
      " 45  secondary_cleaner.state.floatbank4_b_air    5290 non-null   float64\n",
      " 46  secondary_cleaner.state.floatbank4_b_level  5290 non-null   float64\n",
      " 47  secondary_cleaner.state.floatbank5_a_air    5290 non-null   float64\n",
      " 48  secondary_cleaner.state.floatbank5_a_level  5290 non-null   float64\n",
      " 49  secondary_cleaner.state.floatbank5_b_air    5290 non-null   float64\n",
      " 50  secondary_cleaner.state.floatbank5_b_level  5290 non-null   float64\n",
      " 51  secondary_cleaner.state.floatbank6_a_air    5290 non-null   float64\n",
      " 52  secondary_cleaner.state.floatbank6_a_level  5290 non-null   float64\n",
      "dtypes: float64(52), object(1)\n",
      "memory usage: 2.1+ MB\n"
     ]
    },
    {
     "data": {
      "text/plain": "                  date  primary_cleaner.input.sulfate  \\\n0  2016-09-01 00:59:59                     210.800909   \n1  2016-09-01 01:59:59                     215.392455   \n2  2016-09-01 02:59:59                     215.259946   \n3  2016-09-01 03:59:59                     215.336236   \n4  2016-09-01 04:59:59                     199.099327   \n\n   primary_cleaner.input.depressant  primary_cleaner.input.feed_size  \\\n0                         14.993118                         8.080000   \n1                         14.987471                         8.080000   \n2                         12.884934                         7.786667   \n3                         12.006805                         7.640000   \n4                         10.682530                         7.530000   \n\n   primary_cleaner.input.xanthate  primary_cleaner.state.floatbank8_a_air  \\\n0                        1.005021                             1398.981301   \n1                        0.990469                             1398.777912   \n2                        0.996043                             1398.493666   \n3                        0.863514                             1399.618111   \n4                        0.805575                             1401.268123   \n\n   primary_cleaner.state.floatbank8_a_level  \\\n0                               -500.225577   \n1                               -500.057435   \n2                               -500.868360   \n3                               -498.863574   \n4                               -500.808305   \n\n   primary_cleaner.state.floatbank8_b_air  \\\n0                             1399.144926   \n1                             1398.055362   \n2                             1398.860436   \n3                             1397.440120   \n4                             1398.128818   \n\n   primary_cleaner.state.floatbank8_b_level  \\\n0                               -499.919735   \n1                               -499.778182   \n2                               -499.764529   \n3                               -499.211024   \n4                               -499.504543   \n\n   primary_cleaner.state.floatbank8_c_air  ...  \\\n0                             1400.102998  ...   \n1                             1396.151033  ...   \n2                             1398.075709  ...   \n3                             1400.129303  ...   \n4                             1402.172226  ...   \n\n   secondary_cleaner.state.floatbank4_a_air  \\\n0                                 12.023554   \n1                                 12.058140   \n2                                 11.962366   \n3                                 12.033091   \n4                                 12.025367   \n\n   secondary_cleaner.state.floatbank4_a_level  \\\n0                                 -497.795834   \n1                                 -498.695773   \n2                                 -498.767484   \n3                                 -498.350935   \n4                                 -500.786497   \n\n   secondary_cleaner.state.floatbank4_b_air  \\\n0                                  8.016656   \n1                                  8.130979   \n2                                  8.096893   \n3                                  8.074946   \n4                                  8.054678   \n\n   secondary_cleaner.state.floatbank4_b_level  \\\n0                                 -501.289139   \n1                                 -499.634209   \n2                                 -500.827423   \n3                                 -499.474407   \n4                                 -500.397500   \n\n   secondary_cleaner.state.floatbank5_a_air  \\\n0                                  7.946562   \n1                                  7.958270   \n2                                  8.071056   \n3                                  7.897085   \n4                                  8.107890   \n\n   secondary_cleaner.state.floatbank5_a_level  \\\n0                                 -432.317850   \n1                                 -525.839648   \n2                                 -500.801673   \n3                                 -500.868509   \n4                                 -509.526725   \n\n   secondary_cleaner.state.floatbank5_b_air  \\\n0                                  4.872511   \n1                                  4.878850   \n2                                  4.905125   \n3                                  4.931400   \n4                                  4.957674   \n\n   secondary_cleaner.state.floatbank5_b_level  \\\n0                                 -500.037437   \n1                                 -500.162375   \n2                                 -499.828510   \n3                                 -499.963623   \n4                                 -500.360026   \n\n   secondary_cleaner.state.floatbank6_a_air  \\\n0                                 26.705889   \n1                                 25.019940   \n2                                 24.994862   \n3                                 24.948919   \n4                                 25.003331   \n\n   secondary_cleaner.state.floatbank6_a_level  \n0                                 -499.709414  \n1                                 -499.819438  \n2                                 -500.622559  \n3                                 -498.709987  \n4                                 -500.856333  \n\n[5 rows x 53 columns]",
      "text/html": "<div>\n<style scoped>\n    .dataframe tbody tr th:only-of-type {\n        vertical-align: middle;\n    }\n\n    .dataframe tbody tr th {\n        vertical-align: top;\n    }\n\n    .dataframe thead th {\n        text-align: right;\n    }\n</style>\n<table border=\"1\" class=\"dataframe\">\n  <thead>\n    <tr style=\"text-align: right;\">\n      <th></th>\n      <th>date</th>\n      <th>primary_cleaner.input.sulfate</th>\n      <th>primary_cleaner.input.depressant</th>\n      <th>primary_cleaner.input.feed_size</th>\n      <th>primary_cleaner.input.xanthate</th>\n      <th>primary_cleaner.state.floatbank8_a_air</th>\n      <th>primary_cleaner.state.floatbank8_a_level</th>\n      <th>primary_cleaner.state.floatbank8_b_air</th>\n      <th>primary_cleaner.state.floatbank8_b_level</th>\n      <th>primary_cleaner.state.floatbank8_c_air</th>\n      <th>...</th>\n      <th>secondary_cleaner.state.floatbank4_a_air</th>\n      <th>secondary_cleaner.state.floatbank4_a_level</th>\n      <th>secondary_cleaner.state.floatbank4_b_air</th>\n      <th>secondary_cleaner.state.floatbank4_b_level</th>\n      <th>secondary_cleaner.state.floatbank5_a_air</th>\n      <th>secondary_cleaner.state.floatbank5_a_level</th>\n      <th>secondary_cleaner.state.floatbank5_b_air</th>\n      <th>secondary_cleaner.state.floatbank5_b_level</th>\n      <th>secondary_cleaner.state.floatbank6_a_air</th>\n      <th>secondary_cleaner.state.floatbank6_a_level</th>\n    </tr>\n  </thead>\n  <tbody>\n    <tr>\n      <th>0</th>\n      <td>2016-09-01 00:59:59</td>\n      <td>210.800909</td>\n      <td>14.993118</td>\n      <td>8.080000</td>\n      <td>1.005021</td>\n      <td>1398.981301</td>\n      <td>-500.225577</td>\n      <td>1399.144926</td>\n      <td>-499.919735</td>\n      <td>1400.102998</td>\n      <td>...</td>\n      <td>12.023554</td>\n      <td>-497.795834</td>\n      <td>8.016656</td>\n      <td>-501.289139</td>\n      <td>7.946562</td>\n      <td>-432.317850</td>\n      <td>4.872511</td>\n      <td>-500.037437</td>\n      <td>26.705889</td>\n      <td>-499.709414</td>\n    </tr>\n    <tr>\n      <th>1</th>\n      <td>2016-09-01 01:59:59</td>\n      <td>215.392455</td>\n      <td>14.987471</td>\n      <td>8.080000</td>\n      <td>0.990469</td>\n      <td>1398.777912</td>\n      <td>-500.057435</td>\n      <td>1398.055362</td>\n      <td>-499.778182</td>\n      <td>1396.151033</td>\n      <td>...</td>\n      <td>12.058140</td>\n      <td>-498.695773</td>\n      <td>8.130979</td>\n      <td>-499.634209</td>\n      <td>7.958270</td>\n      <td>-525.839648</td>\n      <td>4.878850</td>\n      <td>-500.162375</td>\n      <td>25.019940</td>\n      <td>-499.819438</td>\n    </tr>\n    <tr>\n      <th>2</th>\n      <td>2016-09-01 02:59:59</td>\n      <td>215.259946</td>\n      <td>12.884934</td>\n      <td>7.786667</td>\n      <td>0.996043</td>\n      <td>1398.493666</td>\n      <td>-500.868360</td>\n      <td>1398.860436</td>\n      <td>-499.764529</td>\n      <td>1398.075709</td>\n      <td>...</td>\n      <td>11.962366</td>\n      <td>-498.767484</td>\n      <td>8.096893</td>\n      <td>-500.827423</td>\n      <td>8.071056</td>\n      <td>-500.801673</td>\n      <td>4.905125</td>\n      <td>-499.828510</td>\n      <td>24.994862</td>\n      <td>-500.622559</td>\n    </tr>\n    <tr>\n      <th>3</th>\n      <td>2016-09-01 03:59:59</td>\n      <td>215.336236</td>\n      <td>12.006805</td>\n      <td>7.640000</td>\n      <td>0.863514</td>\n      <td>1399.618111</td>\n      <td>-498.863574</td>\n      <td>1397.440120</td>\n      <td>-499.211024</td>\n      <td>1400.129303</td>\n      <td>...</td>\n      <td>12.033091</td>\n      <td>-498.350935</td>\n      <td>8.074946</td>\n      <td>-499.474407</td>\n      <td>7.897085</td>\n      <td>-500.868509</td>\n      <td>4.931400</td>\n      <td>-499.963623</td>\n      <td>24.948919</td>\n      <td>-498.709987</td>\n    </tr>\n    <tr>\n      <th>4</th>\n      <td>2016-09-01 04:59:59</td>\n      <td>199.099327</td>\n      <td>10.682530</td>\n      <td>7.530000</td>\n      <td>0.805575</td>\n      <td>1401.268123</td>\n      <td>-500.808305</td>\n      <td>1398.128818</td>\n      <td>-499.504543</td>\n      <td>1402.172226</td>\n      <td>...</td>\n      <td>12.025367</td>\n      <td>-500.786497</td>\n      <td>8.054678</td>\n      <td>-500.397500</td>\n      <td>8.107890</td>\n      <td>-509.526725</td>\n      <td>4.957674</td>\n      <td>-500.360026</td>\n      <td>25.003331</td>\n      <td>-500.856333</td>\n    </tr>\n  </tbody>\n</table>\n<p>5 rows × 53 columns</p>\n</div>"
     },
     "metadata": {},
     "output_type": "display_data"
    },
    {
     "data": {
      "text/plain": "       primary_cleaner.input.sulfate  primary_cleaner.input.depressant  \\\ncount                    5286.000000                       5285.000000   \nmean                      174.839652                          8.683596   \nstd                        43.027080                          3.072050   \nmin                         2.566156                          0.003839   \n25%                       147.121401                          6.489555   \n50%                       177.828489                          8.052207   \n75%                       208.125438                         10.027764   \nmax                       265.983123                         40.000000   \n\n       primary_cleaner.input.feed_size  primary_cleaner.input.xanthate  \\\ncount                      5290.000000                     5286.000000   \nmean                          7.266339                        1.383803   \nstd                           0.610219                        0.643474   \nmin                           5.650000                        0.004984   \n25%                           6.890000                        0.907623   \n50%                           7.250000                        1.197610   \n75%                           7.600000                        1.797819   \nmax                          15.500000                        4.102454   \n\n       primary_cleaner.state.floatbank8_a_air  \\\ncount                            5.290000e+03   \nmean                             1.539494e+03   \nstd                              1.167979e+02   \nmin                              5.445860e-32   \n25%                              1.498936e+03   \n50%                              1.585129e+03   \n75%                              1.602077e+03   \nmax                              2.103104e+03   \n\n       primary_cleaner.state.floatbank8_a_level  \\\ncount                               5290.000000   \nmean                                -497.665883   \nstd                                   19.952431   \nmin                                 -795.316337   \n25%                                 -500.357298   \n50%                                 -499.969164   \n75%                                 -499.568951   \nmax                                  -57.195404   \n\n       primary_cleaner.state.floatbank8_b_air  \\\ncount                            5.290000e+03   \nmean                             1.545174e+03   \nstd                              1.222246e+02   \nmin                              6.647490e-32   \n25%                              1.498971e+03   \n50%                              1.595622e+03   \n75%                              1.602324e+03   \nmax                              1.813084e+03   \n\n       primary_cleaner.state.floatbank8_b_level  \\\ncount                               5290.000000   \nmean                                -500.273098   \nstd                                   32.968307   \nmin                                 -799.997015   \n25%                                 -500.703002   \n50%                                 -500.028514   \n75%                                 -499.293257   \nmax                                 -142.527229   \n\n       primary_cleaner.state.floatbank8_c_air  \\\ncount                            5.290000e+03   \nmean                             1.527272e+03   \nstd                              1.225380e+02   \nmin                              4.033736e-32   \n25%                              1.473230e+03   \n50%                              1.549595e+03   \n75%                              1.601144e+03   \nmax                              1.715054e+03   \n\n       primary_cleaner.state.floatbank8_c_level  ...  \\\ncount                               5290.000000  ...   \nmean                                -498.330680  ...   \nstd                                   21.964876  ...   \nmin                                 -799.960571  ...   \n25%                                 -501.018117  ...   \n50%                                 -500.017711  ...   \n75%                                 -498.994130  ...   \nmax                                 -150.937035  ...   \n\n       secondary_cleaner.state.floatbank4_a_air  \\\ncount                              5.290000e+03   \nmean                               1.632007e+01   \nstd                                3.493583e+00   \nmin                                1.079872e-16   \n25%                                1.403618e+01   \n50%                                1.700847e+01   \n75%                                1.803862e+01   \nmax                                3.005180e+01   \n\n       secondary_cleaner.state.floatbank4_a_level  \\\ncount                                 5290.000000   \nmean                                  -505.144570   \nstd                                     31.427337   \nmin                                   -799.798523   \n25%                                   -500.868258   \n50%                                   -500.115727   \n75%                                   -499.404224   \nmax                                   -401.565212   \n\n       secondary_cleaner.state.floatbank4_b_air  \\\ncount                              5.290000e+03   \nmean                               1.373544e+01   \nstd                                3.430484e+00   \nmin                                2.489718e-17   \n25%                                1.202862e+01   \n50%                                1.496486e+01   \n75%                                1.596213e+01   \nmax                                3.126971e+01   \n\n       secondary_cleaner.state.floatbank4_b_level  \\\ncount                                 5290.000000   \nmean                                  -463.349858   \nstd                                     86.189107   \nmin                                   -800.836914   \n25%                                   -500.323028   \n50%                                   -499.576513   \n75%                                   -400.933805   \nmax                                     -6.506986   \n\n       secondary_cleaner.state.floatbank5_a_air  \\\ncount                               5290.000000   \nmean                                  12.804186   \nstd                                    3.026591   \nmin                                    0.069227   \n25%                                   10.914838   \n50%                                   12.954182   \n75%                                   15.097528   \nmax                                   25.258848   \n\n       secondary_cleaner.state.floatbank5_a_level  \\\ncount                                 5290.000000   \nmean                                  -501.329122   \nstd                                     17.951495   \nmin                                   -797.323986   \n25%                                   -500.726841   \n50%                                   -499.990332   \n75%                                   -499.283191   \nmax                                   -244.483566   \n\n       secondary_cleaner.state.floatbank5_b_air  \\\ncount                               5290.000000   \nmean                                   9.881145   \nstd                                    2.868205   \nmin                                    0.528083   \n25%                                    8.036719   \n50%                                   10.004301   \n75%                                   11.997467   \nmax                                   14.086866   \n\n       secondary_cleaner.state.floatbank5_b_level  \\\ncount                                 5290.000000   \nmean                                  -495.663398   \nstd                                     34.535007   \nmin                                   -800.220337   \n25%                                   -500.194668   \n50%                                   -499.990535   \n75%                                   -499.719913   \nmax                                   -137.740004   \n\n       secondary_cleaner.state.floatbank6_a_air  \\\ncount                               5290.000000   \nmean                                  17.304935   \nstd                                    4.536544   \nmin                                   -0.079426   \n25%                                   13.997317   \n50%                                   16.014935   \n75%                                   21.020013   \nmax                                   26.705889   \n\n       secondary_cleaner.state.floatbank6_a_level  \ncount                                 5290.000000  \nmean                                  -501.793193  \nstd                                     39.044215  \nmin                                   -809.741464  \n25%                                   -500.690984  \n50%                                   -500.007126  \n75%                                   -499.373018  \nmax                                   -123.307487  \n\n[8 rows x 52 columns]",
      "text/html": "<div>\n<style scoped>\n    .dataframe tbody tr th:only-of-type {\n        vertical-align: middle;\n    }\n\n    .dataframe tbody tr th {\n        vertical-align: top;\n    }\n\n    .dataframe thead th {\n        text-align: right;\n    }\n</style>\n<table border=\"1\" class=\"dataframe\">\n  <thead>\n    <tr style=\"text-align: right;\">\n      <th></th>\n      <th>primary_cleaner.input.sulfate</th>\n      <th>primary_cleaner.input.depressant</th>\n      <th>primary_cleaner.input.feed_size</th>\n      <th>primary_cleaner.input.xanthate</th>\n      <th>primary_cleaner.state.floatbank8_a_air</th>\n      <th>primary_cleaner.state.floatbank8_a_level</th>\n      <th>primary_cleaner.state.floatbank8_b_air</th>\n      <th>primary_cleaner.state.floatbank8_b_level</th>\n      <th>primary_cleaner.state.floatbank8_c_air</th>\n      <th>primary_cleaner.state.floatbank8_c_level</th>\n      <th>...</th>\n      <th>secondary_cleaner.state.floatbank4_a_air</th>\n      <th>secondary_cleaner.state.floatbank4_a_level</th>\n      <th>secondary_cleaner.state.floatbank4_b_air</th>\n      <th>secondary_cleaner.state.floatbank4_b_level</th>\n      <th>secondary_cleaner.state.floatbank5_a_air</th>\n      <th>secondary_cleaner.state.floatbank5_a_level</th>\n      <th>secondary_cleaner.state.floatbank5_b_air</th>\n      <th>secondary_cleaner.state.floatbank5_b_level</th>\n      <th>secondary_cleaner.state.floatbank6_a_air</th>\n      <th>secondary_cleaner.state.floatbank6_a_level</th>\n    </tr>\n  </thead>\n  <tbody>\n    <tr>\n      <th>count</th>\n      <td>5286.000000</td>\n      <td>5285.000000</td>\n      <td>5290.000000</td>\n      <td>5286.000000</td>\n      <td>5.290000e+03</td>\n      <td>5290.000000</td>\n      <td>5.290000e+03</td>\n      <td>5290.000000</td>\n      <td>5.290000e+03</td>\n      <td>5290.000000</td>\n      <td>...</td>\n      <td>5.290000e+03</td>\n      <td>5290.000000</td>\n      <td>5.290000e+03</td>\n      <td>5290.000000</td>\n      <td>5290.000000</td>\n      <td>5290.000000</td>\n      <td>5290.000000</td>\n      <td>5290.000000</td>\n      <td>5290.000000</td>\n      <td>5290.000000</td>\n    </tr>\n    <tr>\n      <th>mean</th>\n      <td>174.839652</td>\n      <td>8.683596</td>\n      <td>7.266339</td>\n      <td>1.383803</td>\n      <td>1.539494e+03</td>\n      <td>-497.665883</td>\n      <td>1.545174e+03</td>\n      <td>-500.273098</td>\n      <td>1.527272e+03</td>\n      <td>-498.330680</td>\n      <td>...</td>\n      <td>1.632007e+01</td>\n      <td>-505.144570</td>\n      <td>1.373544e+01</td>\n      <td>-463.349858</td>\n      <td>12.804186</td>\n      <td>-501.329122</td>\n      <td>9.881145</td>\n      <td>-495.663398</td>\n      <td>17.304935</td>\n      <td>-501.793193</td>\n    </tr>\n    <tr>\n      <th>std</th>\n      <td>43.027080</td>\n      <td>3.072050</td>\n      <td>0.610219</td>\n      <td>0.643474</td>\n      <td>1.167979e+02</td>\n      <td>19.952431</td>\n      <td>1.222246e+02</td>\n      <td>32.968307</td>\n      <td>1.225380e+02</td>\n      <td>21.964876</td>\n      <td>...</td>\n      <td>3.493583e+00</td>\n      <td>31.427337</td>\n      <td>3.430484e+00</td>\n      <td>86.189107</td>\n      <td>3.026591</td>\n      <td>17.951495</td>\n      <td>2.868205</td>\n      <td>34.535007</td>\n      <td>4.536544</td>\n      <td>39.044215</td>\n    </tr>\n    <tr>\n      <th>min</th>\n      <td>2.566156</td>\n      <td>0.003839</td>\n      <td>5.650000</td>\n      <td>0.004984</td>\n      <td>5.445860e-32</td>\n      <td>-795.316337</td>\n      <td>6.647490e-32</td>\n      <td>-799.997015</td>\n      <td>4.033736e-32</td>\n      <td>-799.960571</td>\n      <td>...</td>\n      <td>1.079872e-16</td>\n      <td>-799.798523</td>\n      <td>2.489718e-17</td>\n      <td>-800.836914</td>\n      <td>0.069227</td>\n      <td>-797.323986</td>\n      <td>0.528083</td>\n      <td>-800.220337</td>\n      <td>-0.079426</td>\n      <td>-809.741464</td>\n    </tr>\n    <tr>\n      <th>25%</th>\n      <td>147.121401</td>\n      <td>6.489555</td>\n      <td>6.890000</td>\n      <td>0.907623</td>\n      <td>1.498936e+03</td>\n      <td>-500.357298</td>\n      <td>1.498971e+03</td>\n      <td>-500.703002</td>\n      <td>1.473230e+03</td>\n      <td>-501.018117</td>\n      <td>...</td>\n      <td>1.403618e+01</td>\n      <td>-500.868258</td>\n      <td>1.202862e+01</td>\n      <td>-500.323028</td>\n      <td>10.914838</td>\n      <td>-500.726841</td>\n      <td>8.036719</td>\n      <td>-500.194668</td>\n      <td>13.997317</td>\n      <td>-500.690984</td>\n    </tr>\n    <tr>\n      <th>50%</th>\n      <td>177.828489</td>\n      <td>8.052207</td>\n      <td>7.250000</td>\n      <td>1.197610</td>\n      <td>1.585129e+03</td>\n      <td>-499.969164</td>\n      <td>1.595622e+03</td>\n      <td>-500.028514</td>\n      <td>1.549595e+03</td>\n      <td>-500.017711</td>\n      <td>...</td>\n      <td>1.700847e+01</td>\n      <td>-500.115727</td>\n      <td>1.496486e+01</td>\n      <td>-499.576513</td>\n      <td>12.954182</td>\n      <td>-499.990332</td>\n      <td>10.004301</td>\n      <td>-499.990535</td>\n      <td>16.014935</td>\n      <td>-500.007126</td>\n    </tr>\n    <tr>\n      <th>75%</th>\n      <td>208.125438</td>\n      <td>10.027764</td>\n      <td>7.600000</td>\n      <td>1.797819</td>\n      <td>1.602077e+03</td>\n      <td>-499.568951</td>\n      <td>1.602324e+03</td>\n      <td>-499.293257</td>\n      <td>1.601144e+03</td>\n      <td>-498.994130</td>\n      <td>...</td>\n      <td>1.803862e+01</td>\n      <td>-499.404224</td>\n      <td>1.596213e+01</td>\n      <td>-400.933805</td>\n      <td>15.097528</td>\n      <td>-499.283191</td>\n      <td>11.997467</td>\n      <td>-499.719913</td>\n      <td>21.020013</td>\n      <td>-499.373018</td>\n    </tr>\n    <tr>\n      <th>max</th>\n      <td>265.983123</td>\n      <td>40.000000</td>\n      <td>15.500000</td>\n      <td>4.102454</td>\n      <td>2.103104e+03</td>\n      <td>-57.195404</td>\n      <td>1.813084e+03</td>\n      <td>-142.527229</td>\n      <td>1.715054e+03</td>\n      <td>-150.937035</td>\n      <td>...</td>\n      <td>3.005180e+01</td>\n      <td>-401.565212</td>\n      <td>3.126971e+01</td>\n      <td>-6.506986</td>\n      <td>25.258848</td>\n      <td>-244.483566</td>\n      <td>14.086866</td>\n      <td>-137.740004</td>\n      <td>26.705889</td>\n      <td>-123.307487</td>\n    </tr>\n  </tbody>\n</table>\n<p>8 rows × 52 columns</p>\n</div>"
     },
     "metadata": {},
     "output_type": "display_data"
    },
    {
     "name": "stdout",
     "output_type": "stream",
     "text": [
      "<class 'pandas.core.frame.DataFrame'>\n",
      "RangeIndex: 14149 entries, 0 to 14148\n",
      "Data columns (total 87 columns):\n",
      " #   Column                                              Non-Null Count  Dtype  \n",
      "---  ------                                              --------------  -----  \n",
      " 0   date                                                14149 non-null  object \n",
      " 1   final.output.concentrate_ag                         14148 non-null  float64\n",
      " 2   final.output.concentrate_pb                         14148 non-null  float64\n",
      " 3   final.output.concentrate_sol                        13938 non-null  float64\n",
      " 4   final.output.concentrate_au                         14149 non-null  float64\n",
      " 5   final.output.recovery                               14149 non-null  float64\n",
      " 6   final.output.tail_ag                                14149 non-null  float64\n",
      " 7   final.output.tail_pb                                14049 non-null  float64\n",
      " 8   final.output.tail_sol                               14144 non-null  float64\n",
      " 9   final.output.tail_au                                14149 non-null  float64\n",
      " 10  primary_cleaner.input.sulfate                       14129 non-null  float64\n",
      " 11  primary_cleaner.input.depressant                    14117 non-null  float64\n",
      " 12  primary_cleaner.input.feed_size                     14149 non-null  float64\n",
      " 13  primary_cleaner.input.xanthate                      14049 non-null  float64\n",
      " 14  primary_cleaner.output.concentrate_ag               14149 non-null  float64\n",
      " 15  primary_cleaner.output.concentrate_pb               14063 non-null  float64\n",
      " 16  primary_cleaner.output.concentrate_sol              13863 non-null  float64\n",
      " 17  primary_cleaner.output.concentrate_au               14149 non-null  float64\n",
      " 18  primary_cleaner.output.tail_ag                      14148 non-null  float64\n",
      " 19  primary_cleaner.output.tail_pb                      14134 non-null  float64\n",
      " 20  primary_cleaner.output.tail_sol                     14103 non-null  float64\n",
      " 21  primary_cleaner.output.tail_au                      14149 non-null  float64\n",
      " 22  primary_cleaner.state.floatbank8_a_air              14145 non-null  float64\n",
      " 23  primary_cleaner.state.floatbank8_a_level            14148 non-null  float64\n",
      " 24  primary_cleaner.state.floatbank8_b_air              14145 non-null  float64\n",
      " 25  primary_cleaner.state.floatbank8_b_level            14148 non-null  float64\n",
      " 26  primary_cleaner.state.floatbank8_c_air              14147 non-null  float64\n",
      " 27  primary_cleaner.state.floatbank8_c_level            14148 non-null  float64\n",
      " 28  primary_cleaner.state.floatbank8_d_air              14146 non-null  float64\n",
      " 29  primary_cleaner.state.floatbank8_d_level            14148 non-null  float64\n",
      " 30  rougher.calculation.sulfate_to_au_concentrate       14148 non-null  float64\n",
      " 31  rougher.calculation.floatbank10_sulfate_to_au_feed  14148 non-null  float64\n",
      " 32  rougher.calculation.floatbank11_sulfate_to_au_feed  14148 non-null  float64\n",
      " 33  rougher.calculation.au_pb_ratio                     14149 non-null  float64\n",
      " 34  rougher.input.feed_ag                               14149 non-null  float64\n",
      " 35  rougher.input.feed_pb                               14049 non-null  float64\n",
      " 36  rougher.input.feed_rate                             14141 non-null  float64\n",
      " 37  rougher.input.feed_size                             14005 non-null  float64\n",
      " 38  rougher.input.feed_sol                              14071 non-null  float64\n",
      " 39  rougher.input.feed_au                               14149 non-null  float64\n",
      " 40  rougher.input.floatbank10_sulfate                   14120 non-null  float64\n",
      " 41  rougher.input.floatbank10_xanthate                  14141 non-null  float64\n",
      " 42  rougher.input.floatbank11_sulfate                   14113 non-null  float64\n",
      " 43  rougher.input.floatbank11_xanthate                  13721 non-null  float64\n",
      " 44  rougher.output.concentrate_ag                       14149 non-null  float64\n",
      " 45  rougher.output.concentrate_pb                       14149 non-null  float64\n",
      " 46  rougher.output.concentrate_sol                      14127 non-null  float64\n",
      " 47  rougher.output.concentrate_au                       14149 non-null  float64\n",
      " 48  rougher.output.recovery                             14149 non-null  float64\n",
      " 49  rougher.output.tail_ag                              14148 non-null  float64\n",
      " 50  rougher.output.tail_pb                              14149 non-null  float64\n",
      " 51  rougher.output.tail_sol                             14149 non-null  float64\n",
      " 52  rougher.output.tail_au                              14149 non-null  float64\n",
      " 53  rougher.state.floatbank10_a_air                     14148 non-null  float64\n",
      " 54  rougher.state.floatbank10_a_level                   14148 non-null  float64\n",
      " 55  rougher.state.floatbank10_b_air                     14148 non-null  float64\n",
      " 56  rougher.state.floatbank10_b_level                   14148 non-null  float64\n",
      " 57  rougher.state.floatbank10_c_air                     14148 non-null  float64\n",
      " 58  rougher.state.floatbank10_c_level                   14148 non-null  float64\n",
      " 59  rougher.state.floatbank10_d_air                     14149 non-null  float64\n",
      " 60  rougher.state.floatbank10_d_level                   14149 non-null  float64\n",
      " 61  rougher.state.floatbank10_e_air                     13713 non-null  float64\n",
      " 62  rougher.state.floatbank10_e_level                   14149 non-null  float64\n",
      " 63  rougher.state.floatbank10_f_air                     14149 non-null  float64\n",
      " 64  rougher.state.floatbank10_f_level                   14149 non-null  float64\n",
      " 65  secondary_cleaner.output.tail_ag                    14147 non-null  float64\n",
      " 66  secondary_cleaner.output.tail_pb                    14139 non-null  float64\n",
      " 67  secondary_cleaner.output.tail_sol                   12544 non-null  float64\n",
      " 68  secondary_cleaner.output.tail_au                    14149 non-null  float64\n",
      " 69  secondary_cleaner.state.floatbank2_a_air            13932 non-null  float64\n",
      " 70  secondary_cleaner.state.floatbank2_a_level          14148 non-null  float64\n",
      " 71  secondary_cleaner.state.floatbank2_b_air            14128 non-null  float64\n",
      " 72  secondary_cleaner.state.floatbank2_b_level          14148 non-null  float64\n",
      " 73  secondary_cleaner.state.floatbank3_a_air            14145 non-null  float64\n",
      " 74  secondary_cleaner.state.floatbank3_a_level          14148 non-null  float64\n",
      " 75  secondary_cleaner.state.floatbank3_b_air            14148 non-null  float64\n",
      " 76  secondary_cleaner.state.floatbank3_b_level          14148 non-null  float64\n",
      " 77  secondary_cleaner.state.floatbank4_a_air            14143 non-null  float64\n",
      " 78  secondary_cleaner.state.floatbank4_a_level          14148 non-null  float64\n",
      " 79  secondary_cleaner.state.floatbank4_b_air            14148 non-null  float64\n",
      " 80  secondary_cleaner.state.floatbank4_b_level          14148 non-null  float64\n",
      " 81  secondary_cleaner.state.floatbank5_a_air            14148 non-null  float64\n",
      " 82  secondary_cleaner.state.floatbank5_a_level          14148 non-null  float64\n",
      " 83  secondary_cleaner.state.floatbank5_b_air            14148 non-null  float64\n",
      " 84  secondary_cleaner.state.floatbank5_b_level          14148 non-null  float64\n",
      " 85  secondary_cleaner.state.floatbank6_a_air            14147 non-null  float64\n",
      " 86  secondary_cleaner.state.floatbank6_a_level          14148 non-null  float64\n",
      "dtypes: float64(86), object(1)\n",
      "memory usage: 9.4+ MB\n"
     ]
    },
    {
     "data": {
      "text/plain": "                  date  final.output.concentrate_ag  \\\n0  2016-01-15 00:00:00                     6.055403   \n1  2016-01-15 01:00:00                     6.029369   \n2  2016-01-15 02:00:00                     6.055926   \n3  2016-01-15 03:00:00                     6.047977   \n4  2016-01-15 04:00:00                     6.148599   \n\n   final.output.concentrate_pb  final.output.concentrate_sol  \\\n0                     9.889648                      5.507324   \n1                     9.968944                      5.257781   \n2                    10.213995                      5.383759   \n3                     9.977019                      4.858634   \n4                    10.142511                      4.939416   \n\n   final.output.concentrate_au  final.output.recovery  final.output.tail_ag  \\\n0                    42.192020              70.541216             10.411962   \n1                    42.701629              69.266198             10.462676   \n2                    42.657501              68.116445             10.507046   \n3                    42.689819              68.347543             10.422762   \n4                    42.774141              66.927016             10.360302   \n\n   final.output.tail_pb  final.output.tail_sol  final.output.tail_au  ...  \\\n0              0.895447              16.904297              2.143149  ...   \n1              0.927452              16.634514              2.224930  ...   \n2              0.953716              16.208849              2.257889  ...   \n3              0.883763              16.532835              2.146849  ...   \n4              0.792826              16.525686              2.055292  ...   \n\n   secondary_cleaner.state.floatbank4_a_air  \\\n0                                 14.016835   \n1                                 13.992281   \n2                                 14.015015   \n3                                 14.036510   \n4                                 14.027298   \n\n   secondary_cleaner.state.floatbank4_a_level  \\\n0                                 -502.488007   \n1                                 -505.503262   \n2                                 -502.520901   \n3                                 -500.857308   \n4                                 -499.838632   \n\n   secondary_cleaner.state.floatbank4_b_air  \\\n0                                 12.099931   \n1                                 11.950531   \n2                                 11.912783   \n3                                 11.999550   \n4                                 11.953070   \n\n   secondary_cleaner.state.floatbank4_b_level  \\\n0                                 -504.715942   \n1                                 -501.331529   \n2                                 -501.133383   \n3                                 -501.193686   \n4                                 -501.053894   \n\n   secondary_cleaner.state.floatbank5_a_air  \\\n0                                  9.925633   \n1                                 10.039245   \n2                                 10.070913   \n3                                  9.970366   \n4                                  9.925709   \n\n   secondary_cleaner.state.floatbank5_a_level  \\\n0                                 -498.310211   \n1                                 -500.169983   \n2                                 -500.129135   \n3                                 -499.201640   \n4                                 -501.686727   \n\n   secondary_cleaner.state.floatbank5_b_air  \\\n0                                  8.079666   \n1                                  7.984757   \n2                                  8.013877   \n3                                  7.977324   \n4                                  7.894242   \n\n   secondary_cleaner.state.floatbank5_b_level  \\\n0                                 -500.470978   \n1                                 -500.582168   \n2                                 -500.517572   \n3                                 -500.255908   \n4                                 -500.356035   \n\n   secondary_cleaner.state.floatbank6_a_air  \\\n0                                 14.151341   \n1                                 13.998353   \n2                                 14.028663   \n3                                 14.005551   \n4                                 13.996647   \n\n   secondary_cleaner.state.floatbank6_a_level  \n0                                 -605.841980  \n1                                 -599.787184  \n2                                 -601.427363  \n3                                 -599.996129  \n4                                 -601.496691  \n\n[5 rows x 87 columns]",
      "text/html": "<div>\n<style scoped>\n    .dataframe tbody tr th:only-of-type {\n        vertical-align: middle;\n    }\n\n    .dataframe tbody tr th {\n        vertical-align: top;\n    }\n\n    .dataframe thead th {\n        text-align: right;\n    }\n</style>\n<table border=\"1\" class=\"dataframe\">\n  <thead>\n    <tr style=\"text-align: right;\">\n      <th></th>\n      <th>date</th>\n      <th>final.output.concentrate_ag</th>\n      <th>final.output.concentrate_pb</th>\n      <th>final.output.concentrate_sol</th>\n      <th>final.output.concentrate_au</th>\n      <th>final.output.recovery</th>\n      <th>final.output.tail_ag</th>\n      <th>final.output.tail_pb</th>\n      <th>final.output.tail_sol</th>\n      <th>final.output.tail_au</th>\n      <th>...</th>\n      <th>secondary_cleaner.state.floatbank4_a_air</th>\n      <th>secondary_cleaner.state.floatbank4_a_level</th>\n      <th>secondary_cleaner.state.floatbank4_b_air</th>\n      <th>secondary_cleaner.state.floatbank4_b_level</th>\n      <th>secondary_cleaner.state.floatbank5_a_air</th>\n      <th>secondary_cleaner.state.floatbank5_a_level</th>\n      <th>secondary_cleaner.state.floatbank5_b_air</th>\n      <th>secondary_cleaner.state.floatbank5_b_level</th>\n      <th>secondary_cleaner.state.floatbank6_a_air</th>\n      <th>secondary_cleaner.state.floatbank6_a_level</th>\n    </tr>\n  </thead>\n  <tbody>\n    <tr>\n      <th>0</th>\n      <td>2016-01-15 00:00:00</td>\n      <td>6.055403</td>\n      <td>9.889648</td>\n      <td>5.507324</td>\n      <td>42.192020</td>\n      <td>70.541216</td>\n      <td>10.411962</td>\n      <td>0.895447</td>\n      <td>16.904297</td>\n      <td>2.143149</td>\n      <td>...</td>\n      <td>14.016835</td>\n      <td>-502.488007</td>\n      <td>12.099931</td>\n      <td>-504.715942</td>\n      <td>9.925633</td>\n      <td>-498.310211</td>\n      <td>8.079666</td>\n      <td>-500.470978</td>\n      <td>14.151341</td>\n      <td>-605.841980</td>\n    </tr>\n    <tr>\n      <th>1</th>\n      <td>2016-01-15 01:00:00</td>\n      <td>6.029369</td>\n      <td>9.968944</td>\n      <td>5.257781</td>\n      <td>42.701629</td>\n      <td>69.266198</td>\n      <td>10.462676</td>\n      <td>0.927452</td>\n      <td>16.634514</td>\n      <td>2.224930</td>\n      <td>...</td>\n      <td>13.992281</td>\n      <td>-505.503262</td>\n      <td>11.950531</td>\n      <td>-501.331529</td>\n      <td>10.039245</td>\n      <td>-500.169983</td>\n      <td>7.984757</td>\n      <td>-500.582168</td>\n      <td>13.998353</td>\n      <td>-599.787184</td>\n    </tr>\n    <tr>\n      <th>2</th>\n      <td>2016-01-15 02:00:00</td>\n      <td>6.055926</td>\n      <td>10.213995</td>\n      <td>5.383759</td>\n      <td>42.657501</td>\n      <td>68.116445</td>\n      <td>10.507046</td>\n      <td>0.953716</td>\n      <td>16.208849</td>\n      <td>2.257889</td>\n      <td>...</td>\n      <td>14.015015</td>\n      <td>-502.520901</td>\n      <td>11.912783</td>\n      <td>-501.133383</td>\n      <td>10.070913</td>\n      <td>-500.129135</td>\n      <td>8.013877</td>\n      <td>-500.517572</td>\n      <td>14.028663</td>\n      <td>-601.427363</td>\n    </tr>\n    <tr>\n      <th>3</th>\n      <td>2016-01-15 03:00:00</td>\n      <td>6.047977</td>\n      <td>9.977019</td>\n      <td>4.858634</td>\n      <td>42.689819</td>\n      <td>68.347543</td>\n      <td>10.422762</td>\n      <td>0.883763</td>\n      <td>16.532835</td>\n      <td>2.146849</td>\n      <td>...</td>\n      <td>14.036510</td>\n      <td>-500.857308</td>\n      <td>11.999550</td>\n      <td>-501.193686</td>\n      <td>9.970366</td>\n      <td>-499.201640</td>\n      <td>7.977324</td>\n      <td>-500.255908</td>\n      <td>14.005551</td>\n      <td>-599.996129</td>\n    </tr>\n    <tr>\n      <th>4</th>\n      <td>2016-01-15 04:00:00</td>\n      <td>6.148599</td>\n      <td>10.142511</td>\n      <td>4.939416</td>\n      <td>42.774141</td>\n      <td>66.927016</td>\n      <td>10.360302</td>\n      <td>0.792826</td>\n      <td>16.525686</td>\n      <td>2.055292</td>\n      <td>...</td>\n      <td>14.027298</td>\n      <td>-499.838632</td>\n      <td>11.953070</td>\n      <td>-501.053894</td>\n      <td>9.925709</td>\n      <td>-501.686727</td>\n      <td>7.894242</td>\n      <td>-500.356035</td>\n      <td>13.996647</td>\n      <td>-601.496691</td>\n    </tr>\n  </tbody>\n</table>\n<p>5 rows × 87 columns</p>\n</div>"
     },
     "metadata": {},
     "output_type": "display_data"
    },
    {
     "data": {
      "text/plain": "       final.output.concentrate_ag  final.output.concentrate_pb  \\\ncount                 14148.000000                 14148.000000   \nmean                      5.142034                    10.132960   \nstd                       1.369586                     1.654930   \nmin                       0.000000                     0.000000   \n25%                       4.211620                     9.297355   \n50%                       4.994652                    10.297144   \n75%                       5.859540                    11.170603   \nmax                      16.001945                    17.031899   \n\n       final.output.concentrate_sol  final.output.concentrate_au  \\\ncount                  13938.000000                 14149.000000   \nmean                       9.202849                    44.003792   \nstd                        2.790516                     4.905261   \nmin                        0.000000                     0.000000   \n25%                        7.484645                    43.276111   \n50%                        8.845462                    44.872436   \n75%                       10.487508                    46.166425   \nmax                       18.124851                    52.756638   \n\n       final.output.recovery  final.output.tail_ag  final.output.tail_pb  \\\ncount           14149.000000          14149.000000          14049.000000   \nmean               66.518832              9.607035              2.597298   \nstd                10.295402              2.319069              0.971843   \nmin                 0.000000              0.000000              0.000000   \n25%                62.545817              7.997429              1.905973   \n50%                67.432775              9.480270              2.592022   \n75%                72.346428             11.003707              3.241723   \nmax               100.000000             19.552149              5.639565   \n\n       final.output.tail_sol  final.output.tail_au  \\\ncount           14144.000000          14149.000000   \nmean               10.512122              2.918421   \nstd                 3.003617              0.903712   \nmin                 0.000000              0.000000   \n25%                 8.811324              2.368607   \n50%                10.514621              2.851025   \n75%                11.933009              3.434764   \nmax                22.317730              8.197408   \n\n       primary_cleaner.input.sulfate  ...  \\\ncount                   14129.000000  ...   \nmean                      133.320659  ...   \nstd                        39.431659  ...   \nmin                         0.003112  ...   \n25%                       107.006651  ...   \n50%                       133.018328  ...   \n75%                       159.825396  ...   \nmax                       250.127834  ...   \n\n       secondary_cleaner.state.floatbank4_a_air  \\\ncount                              14143.000000   \nmean                                  19.985454   \nstd                                    5.657723   \nmin                                    0.000000   \n25%                                   14.990775   \n50%                                   20.001789   \n75%                                   24.990826   \nmax                                   30.115735   \n\n       secondary_cleaner.state.floatbank4_a_level  \\\ncount                                14148.000000   \nmean                                  -478.696836   \nstd                                     50.736021   \nmin                                   -799.709069   \n25%                                   -500.628656   \n50%                                   -499.681450   \n75%                                   -477.472413   \nmax                                   -245.239184   \n\n       secondary_cleaner.state.floatbank4_b_air  \\\ncount                              14148.000000   \nmean                                  15.487065   \nstd                                    5.255655   \nmin                                    0.000000   \n25%                                   11.894558   \n50%                                   14.975536   \n75%                                   20.059375   \nmax                                   24.007913   \n\n       secondary_cleaner.state.floatbank4_b_level  \\\ncount                                14148.000000   \nmean                                  -460.229416   \nstd                                     58.843586   \nmin                                   -799.889113   \n25%                                   -500.149000   \n50%                                   -499.388738   \n75%                                   -400.039008   \nmax                                   -145.071088   \n\n       secondary_cleaner.state.floatbank5_a_air  \\\ncount                              14148.000000   \nmean                                  16.775136   \nstd                                    5.831906   \nmin                                   -0.372054   \n25%                                   11.083980   \n50%                                   17.932223   \n75%                                   21.346550   \nmax                                   43.709931   \n\n       secondary_cleaner.state.floatbank5_a_level  \\\ncount                                14148.000000   \nmean                                  -483.956022   \nstd                                     37.892788   \nmin                                   -797.142475   \n25%                                   -500.363177   \n50%                                   -499.702452   \n75%                                   -487.712108   \nmax                                   -275.073125   \n\n       secondary_cleaner.state.floatbank5_b_air  \\\ncount                              14148.000000   \nmean                                  13.064590   \nstd                                    5.765617   \nmin                                    0.646208   \n25%                                    8.994405   \n50%                                   11.997547   \n75%                                   17.982903   \nmax                                   27.926001   \n\n       secondary_cleaner.state.floatbank5_b_level  \\\ncount                                14148.000000   \nmean                                  -483.966564   \nstd                                     39.207913   \nmin                                   -800.006180   \n25%                                   -500.105994   \n50%                                   -499.914556   \n75%                                   -453.186936   \nmax                                   -157.396071   \n\n       secondary_cleaner.state.floatbank6_a_air  \\\ncount                              14147.000000   \nmean                                  19.577539   \nstd                                    5.764417   \nmin                                    0.195324   \n25%                                   14.989304   \n50%                                   19.984175   \n75%                                   24.991623   \nmax                                   32.188906   \n\n       secondary_cleaner.state.floatbank6_a_level  \ncount                                14148.000000  \nmean                                  -506.798480  \nstd                                     37.079249  \nmin                                   -809.398668  \n25%                                   -500.745104  \n50%                                   -500.061431  \n75%                                   -499.536466  \nmax                                   -104.427459  \n\n[8 rows x 86 columns]",
      "text/html": "<div>\n<style scoped>\n    .dataframe tbody tr th:only-of-type {\n        vertical-align: middle;\n    }\n\n    .dataframe tbody tr th {\n        vertical-align: top;\n    }\n\n    .dataframe thead th {\n        text-align: right;\n    }\n</style>\n<table border=\"1\" class=\"dataframe\">\n  <thead>\n    <tr style=\"text-align: right;\">\n      <th></th>\n      <th>final.output.concentrate_ag</th>\n      <th>final.output.concentrate_pb</th>\n      <th>final.output.concentrate_sol</th>\n      <th>final.output.concentrate_au</th>\n      <th>final.output.recovery</th>\n      <th>final.output.tail_ag</th>\n      <th>final.output.tail_pb</th>\n      <th>final.output.tail_sol</th>\n      <th>final.output.tail_au</th>\n      <th>primary_cleaner.input.sulfate</th>\n      <th>...</th>\n      <th>secondary_cleaner.state.floatbank4_a_air</th>\n      <th>secondary_cleaner.state.floatbank4_a_level</th>\n      <th>secondary_cleaner.state.floatbank4_b_air</th>\n      <th>secondary_cleaner.state.floatbank4_b_level</th>\n      <th>secondary_cleaner.state.floatbank5_a_air</th>\n      <th>secondary_cleaner.state.floatbank5_a_level</th>\n      <th>secondary_cleaner.state.floatbank5_b_air</th>\n      <th>secondary_cleaner.state.floatbank5_b_level</th>\n      <th>secondary_cleaner.state.floatbank6_a_air</th>\n      <th>secondary_cleaner.state.floatbank6_a_level</th>\n    </tr>\n  </thead>\n  <tbody>\n    <tr>\n      <th>count</th>\n      <td>14148.000000</td>\n      <td>14148.000000</td>\n      <td>13938.000000</td>\n      <td>14149.000000</td>\n      <td>14149.000000</td>\n      <td>14149.000000</td>\n      <td>14049.000000</td>\n      <td>14144.000000</td>\n      <td>14149.000000</td>\n      <td>14129.000000</td>\n      <td>...</td>\n      <td>14143.000000</td>\n      <td>14148.000000</td>\n      <td>14148.000000</td>\n      <td>14148.000000</td>\n      <td>14148.000000</td>\n      <td>14148.000000</td>\n      <td>14148.000000</td>\n      <td>14148.000000</td>\n      <td>14147.000000</td>\n      <td>14148.000000</td>\n    </tr>\n    <tr>\n      <th>mean</th>\n      <td>5.142034</td>\n      <td>10.132960</td>\n      <td>9.202849</td>\n      <td>44.003792</td>\n      <td>66.518832</td>\n      <td>9.607035</td>\n      <td>2.597298</td>\n      <td>10.512122</td>\n      <td>2.918421</td>\n      <td>133.320659</td>\n      <td>...</td>\n      <td>19.985454</td>\n      <td>-478.696836</td>\n      <td>15.487065</td>\n      <td>-460.229416</td>\n      <td>16.775136</td>\n      <td>-483.956022</td>\n      <td>13.064590</td>\n      <td>-483.966564</td>\n      <td>19.577539</td>\n      <td>-506.798480</td>\n    </tr>\n    <tr>\n      <th>std</th>\n      <td>1.369586</td>\n      <td>1.654930</td>\n      <td>2.790516</td>\n      <td>4.905261</td>\n      <td>10.295402</td>\n      <td>2.319069</td>\n      <td>0.971843</td>\n      <td>3.003617</td>\n      <td>0.903712</td>\n      <td>39.431659</td>\n      <td>...</td>\n      <td>5.657723</td>\n      <td>50.736021</td>\n      <td>5.255655</td>\n      <td>58.843586</td>\n      <td>5.831906</td>\n      <td>37.892788</td>\n      <td>5.765617</td>\n      <td>39.207913</td>\n      <td>5.764417</td>\n      <td>37.079249</td>\n    </tr>\n    <tr>\n      <th>min</th>\n      <td>0.000000</td>\n      <td>0.000000</td>\n      <td>0.000000</td>\n      <td>0.000000</td>\n      <td>0.000000</td>\n      <td>0.000000</td>\n      <td>0.000000</td>\n      <td>0.000000</td>\n      <td>0.000000</td>\n      <td>0.003112</td>\n      <td>...</td>\n      <td>0.000000</td>\n      <td>-799.709069</td>\n      <td>0.000000</td>\n      <td>-799.889113</td>\n      <td>-0.372054</td>\n      <td>-797.142475</td>\n      <td>0.646208</td>\n      <td>-800.006180</td>\n      <td>0.195324</td>\n      <td>-809.398668</td>\n    </tr>\n    <tr>\n      <th>25%</th>\n      <td>4.211620</td>\n      <td>9.297355</td>\n      <td>7.484645</td>\n      <td>43.276111</td>\n      <td>62.545817</td>\n      <td>7.997429</td>\n      <td>1.905973</td>\n      <td>8.811324</td>\n      <td>2.368607</td>\n      <td>107.006651</td>\n      <td>...</td>\n      <td>14.990775</td>\n      <td>-500.628656</td>\n      <td>11.894558</td>\n      <td>-500.149000</td>\n      <td>11.083980</td>\n      <td>-500.363177</td>\n      <td>8.994405</td>\n      <td>-500.105994</td>\n      <td>14.989304</td>\n      <td>-500.745104</td>\n    </tr>\n    <tr>\n      <th>50%</th>\n      <td>4.994652</td>\n      <td>10.297144</td>\n      <td>8.845462</td>\n      <td>44.872436</td>\n      <td>67.432775</td>\n      <td>9.480270</td>\n      <td>2.592022</td>\n      <td>10.514621</td>\n      <td>2.851025</td>\n      <td>133.018328</td>\n      <td>...</td>\n      <td>20.001789</td>\n      <td>-499.681450</td>\n      <td>14.975536</td>\n      <td>-499.388738</td>\n      <td>17.932223</td>\n      <td>-499.702452</td>\n      <td>11.997547</td>\n      <td>-499.914556</td>\n      <td>19.984175</td>\n      <td>-500.061431</td>\n    </tr>\n    <tr>\n      <th>75%</th>\n      <td>5.859540</td>\n      <td>11.170603</td>\n      <td>10.487508</td>\n      <td>46.166425</td>\n      <td>72.346428</td>\n      <td>11.003707</td>\n      <td>3.241723</td>\n      <td>11.933009</td>\n      <td>3.434764</td>\n      <td>159.825396</td>\n      <td>...</td>\n      <td>24.990826</td>\n      <td>-477.472413</td>\n      <td>20.059375</td>\n      <td>-400.039008</td>\n      <td>21.346550</td>\n      <td>-487.712108</td>\n      <td>17.982903</td>\n      <td>-453.186936</td>\n      <td>24.991623</td>\n      <td>-499.536466</td>\n    </tr>\n    <tr>\n      <th>max</th>\n      <td>16.001945</td>\n      <td>17.031899</td>\n      <td>18.124851</td>\n      <td>52.756638</td>\n      <td>100.000000</td>\n      <td>19.552149</td>\n      <td>5.639565</td>\n      <td>22.317730</td>\n      <td>8.197408</td>\n      <td>250.127834</td>\n      <td>...</td>\n      <td>30.115735</td>\n      <td>-245.239184</td>\n      <td>24.007913</td>\n      <td>-145.071088</td>\n      <td>43.709931</td>\n      <td>-275.073125</td>\n      <td>27.926001</td>\n      <td>-157.396071</td>\n      <td>32.188906</td>\n      <td>-104.427459</td>\n    </tr>\n  </tbody>\n</table>\n<p>8 rows × 86 columns</p>\n</div>"
     },
     "metadata": {},
     "output_type": "display_data"
    }
   ],
   "source": [
    "data_info(full_data)\n",
    "data_info(test_data)\n",
    "data_info(train_data)"
   ],
   "metadata": {
    "collapsed": false
   }
  },
  {
   "cell_type": "code",
   "execution_count": 51,
   "outputs": [
    {
     "data": {
      "text/plain": "date                                            0\nfinal.output.concentrate_ag                     1\nfinal.output.concentrate_pb                     1\nfinal.output.concentrate_sol                  211\nfinal.output.concentrate_au                     0\n                                             ... \nsecondary_cleaner.state.floatbank5_a_level      1\nsecondary_cleaner.state.floatbank5_b_air        1\nsecondary_cleaner.state.floatbank5_b_level      1\nsecondary_cleaner.state.floatbank6_a_air        2\nsecondary_cleaner.state.floatbank6_a_level      1\nLength: 87, dtype: int64"
     },
     "execution_count": 51,
     "metadata": {},
     "output_type": "execute_result"
    }
   ],
   "source": [
    "full_data.isna().sum()"
   ],
   "metadata": {
    "collapsed": false
   }
  },
  {
   "cell_type": "markdown",
   "source": [
    "## Проверка формулы"
   ],
   "metadata": {
    "collapsed": false
   }
  },
  {
   "cell_type": "code",
   "execution_count": 52,
   "outputs": [],
   "source": [
    "tmp = train_data.dropna().reset_index()"
   ],
   "metadata": {
    "collapsed": false
   }
  },
  {
   "cell_type": "code",
   "execution_count": 53,
   "outputs": [],
   "source": [
    "def calc_recovery(fraction_gold_after_flot, fraction_gold_before_flot, fraction_gold_tails):\n",
    "    return (fraction_gold_after_flot * (fraction_gold_before_flot - fraction_gold_tails) / \\\n",
    "           (fraction_gold_before_flot * (fraction_gold_after_flot - fraction_gold_tails))) * 100\n",
    "\n"
   ],
   "metadata": {
    "collapsed": false
   }
  },
  {
   "cell_type": "code",
   "execution_count": 54,
   "outputs": [
    {
     "data": {
      "text/plain": "0        87.107763\n1        86.843261\n2        86.842308\n3        87.226430\n4        86.688794\n           ...    \n11012    89.574376\n11013    87.724007\n11014    88.890579\n11015    89.858126\n11016    89.514960\nLength: 11017, dtype: float64"
     },
     "metadata": {},
     "output_type": "display_data"
    }
   ],
   "source": [
    "display(calc_recovery(tmp['rougher.output.concentrate_au'], tmp['rougher.input.feed_au'], tmp['rougher.output.tail_au']))\n"
   ],
   "metadata": {
    "collapsed": false
   }
  },
  {
   "cell_type": "code",
   "execution_count": 55,
   "outputs": [],
   "source": [
    "# rougher.output.concentrate_au\n",
    "# rougher.input.feed_au\n",
    "# rougher.output.tail_au"
   ],
   "metadata": {
    "collapsed": false
   }
  },
  {
   "cell_type": "code",
   "execution_count": 56,
   "outputs": [
    {
     "data": {
      "text/plain": "0        87.107763\n1        86.843261\n2        86.842308\n3        87.226430\n4        86.688794\n           ...    \n11012    89.574376\n11013    87.724007\n11014    88.890579\n11015    89.858126\n11016    89.514960\nName: rougher.output.recovery, Length: 11017, dtype: float64"
     },
     "execution_count": 56,
     "metadata": {},
     "output_type": "execute_result"
    }
   ],
   "source": [
    "tmp['rougher.output.recovery']"
   ],
   "metadata": {
    "collapsed": false
   }
  },
  {
   "cell_type": "code",
   "execution_count": 56,
   "outputs": [],
   "source": [],
   "metadata": {
    "collapsed": false
   }
  },
  {
   "cell_type": "code",
   "execution_count": 57,
   "outputs": [
    {
     "data": {
      "text/plain": "9.82970122149377e-15"
     },
     "execution_count": 57,
     "metadata": {},
     "output_type": "execute_result"
    }
   ],
   "source": [
    "mae = mean_absolute_error(y_true=tmp['rougher.output.recovery'], y_pred=calc_recovery(tmp['rougher.output.concentrate_au'], tmp['rougher.input.feed_au'], tmp['rougher.output.tail_au']))\n",
    "mae"
   ],
   "metadata": {
    "collapsed": false
   }
  },
  {
   "cell_type": "code",
   "execution_count": 58,
   "outputs": [
    {
     "name": "stdout",
     "output_type": "stream",
     "text": [
      "Количество несовпадающих значений равно: 0\n"
     ]
    }
   ],
   "source": [
    "print('Количество несовпадающих значений равно:', len(tmp) - (round(tmp['rougher.output.recovery'], 6) == round(calc_recovery(tmp['rougher.output.concentrate_au'], tmp['rougher.input.feed_au'], tmp['rougher.output.tail_au']), 6)).sum())"
   ],
   "metadata": {
    "collapsed": false
   }
  },
  {
   "cell_type": "code",
   "execution_count": 59,
   "outputs": [
    {
     "data": {
      "text/plain": "0.0"
     },
     "execution_count": 59,
     "metadata": {},
     "output_type": "execute_result"
    }
   ],
   "source": [
    "mae = mean_absolute_error(y_true=round(tmp['rougher.output.recovery'], 6), y_pred=round(calc_recovery(tmp['rougher.output.concentrate_au'], tmp['rougher.input.feed_au'], tmp['rougher.output.tail_au']), 6))\n",
    "mae"
   ],
   "metadata": {
    "collapsed": false
   }
  },
  {
   "cell_type": "code",
   "execution_count": 60,
   "outputs": [
    {
     "data": {
      "text/plain": "{'final.output.concentrate_ag',\n 'final.output.concentrate_au',\n 'final.output.concentrate_pb',\n 'final.output.concentrate_sol',\n 'final.output.recovery',\n 'final.output.tail_ag',\n 'final.output.tail_au',\n 'final.output.tail_pb',\n 'final.output.tail_sol',\n 'primary_cleaner.output.concentrate_ag',\n 'primary_cleaner.output.concentrate_au',\n 'primary_cleaner.output.concentrate_pb',\n 'primary_cleaner.output.concentrate_sol',\n 'primary_cleaner.output.tail_ag',\n 'primary_cleaner.output.tail_au',\n 'primary_cleaner.output.tail_pb',\n 'primary_cleaner.output.tail_sol',\n 'rougher.calculation.au_pb_ratio',\n 'rougher.calculation.floatbank10_sulfate_to_au_feed',\n 'rougher.calculation.floatbank11_sulfate_to_au_feed',\n 'rougher.calculation.sulfate_to_au_concentrate',\n 'rougher.output.concentrate_ag',\n 'rougher.output.concentrate_au',\n 'rougher.output.concentrate_pb',\n 'rougher.output.concentrate_sol',\n 'rougher.output.recovery',\n 'rougher.output.tail_ag',\n 'rougher.output.tail_au',\n 'rougher.output.tail_pb',\n 'rougher.output.tail_sol',\n 'secondary_cleaner.output.tail_ag',\n 'secondary_cleaner.output.tail_au',\n 'secondary_cleaner.output.tail_pb',\n 'secondary_cleaner.output.tail_sol'}"
     },
     "execution_count": 60,
     "metadata": {},
     "output_type": "execute_result"
    }
   ],
   "source": [
    "set(train_data.columns) - set(test_data.columns)"
   ],
   "metadata": {
    "collapsed": false
   }
  },
  {
   "cell_type": "code",
   "execution_count": 60,
   "outputs": [],
   "source": [],
   "metadata": {
    "collapsed": false
   }
  },
  {
   "cell_type": "code",
   "execution_count": 60,
   "outputs": [],
   "source": [],
   "metadata": {
    "collapsed": false
   }
  },
  {
   "cell_type": "code",
   "execution_count": 60,
   "outputs": [],
   "source": [],
   "metadata": {
    "collapsed": false
   }
  }
 ],
 "metadata": {
  "kernelspec": {
   "display_name": "Python 3",
   "language": "python",
   "name": "python3"
  },
  "language_info": {
   "codemirror_mode": {
    "name": "ipython",
    "version": 2
   },
   "file_extension": ".py",
   "mimetype": "text/x-python",
   "name": "python",
   "nbconvert_exporter": "python",
   "pygments_lexer": "ipython2",
   "version": "2.7.6"
  }
 },
 "nbformat": 4,
 "nbformat_minor": 0
}
