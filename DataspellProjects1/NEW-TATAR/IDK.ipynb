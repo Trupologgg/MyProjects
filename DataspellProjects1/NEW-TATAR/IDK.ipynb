{
 "cells": [
  {
   "cell_type": "markdown",
   "metadata": {},
   "source": [
    "# HSE 2021: Mathematical Methods for Data Analysis\n",
    "\n",
    "## Homework 4\n",
    "\n",
    "### Attention!\n",
    "* For tasks where <ins>text answer</ins> is required **Russian language** is **allowed**.\n",
    "* If a task asks you to describe something (make coclusions) then **text answer** is **mandatory** and **is** part of the task\n",
    "* **Do not** upload the dataset to the grading system (we already have it)\n",
    "* We **only** accept **ipynb** notebooks. If you use Google Colab then you'll have to download the notebook before passing the homework\n",
    "* **Do not** use python loops instead of NumPy vector operations over NumPy vectors - it significantly decreases performance (see why https://blog.paperspace.com/numpy-optimization-vectorization-and-broadcasting/), will be punished with -0.25 for **every** task. \n",
    "\n",
    "\n",
    "### Contents\n",
    "\n",
    "#### Decision Trees - 7 points\n",
    "* [Task 1](#task1) (0.5 points)\n",
    "* [Task 2](#task2) (0.5 points)\n",
    "* [Task 3](#task3) (2 points)\n",
    "* [Task 4](#task4) (0.5 points)\n",
    "* [Task 5](#task5) (0.5 points)\n",
    "* [Task 6](#task6) (2 points)\n",
    "* [Task 7](#task7) (0.5 points)\n",
    "* [Task 8](#task8) (0.5 points)\n",
    "\n",
    "#### Ensembles - 3 points\n",
    "* [Task 1](#task2_1) (1 point)\n",
    "* [Task 2](#task2_2) (0.7 points)\n",
    "* [Task 3](#task2_3) (0.5 points)\n",
    "* [Task 4](#task2_4) (0.7 points)\n",
    "* [Task 5](#task2_5) (0.1 points)"
   ]
  },
  {
   "cell_type": "code",
   "execution_count": null,
   "metadata": {},
   "outputs": [],
   "source": [
    "import matplotlib.pyplot as plt\n",
    "import numpy as np\n",
    "import pandas as pd\n",
    "\n",
    "plt.rcParams['figure.figsize'] = (11, 5)\n",
    "%matplotlib inline"
   ]
  },
  {
   "cell_type": "markdown",
   "metadata": {},
   "source": [
    "# Part 1. Decision Tree Regressor"
   ]
  },
  {
   "cell_type": "markdown",
   "metadata": {},
   "source": [
    "In this task you will be implementing decision tree for the regression by hands. "
   ]
  },
  {
   "cell_type": "markdown",
   "metadata": {},
   "source": [
    "### Task 1 <a id=\"task1\"></a> (0.5 points)\n",
    "\n",
    "Implement the function `H()` which calculates impurity criterion. We will be training regression tree, therefore, impurity criterion will be variance.\n",
    "\n",
    "* You cannot use loops\n",
    "* If `y` is empty, the function should return 0"
   ]
  },
  {
   "cell_type": "code",
   "execution_count": null,
   "metadata": {},
   "outputs": [],
   "source": [
    "def H(y):\n",
    "    \"\"\"\n",
    "    Calculate impurity criterion\n",
    "    \n",
    "    Parameters\n",
    "    ----------\n",
    "    y : np.array\n",
    "        array of objects target values in the node\n",
    "\n",
    "    Returns\n",
    "    -------\n",
    "    H(R) : float\n",
    "        Impurity in the node (measuread by variance)\n",
    "    \"\"\"\n",
    "    # YOUR CODE HERE\n",
    "    return 0 if len(y) == 0 else np.sum((y - np.mean(y)) ** 2) / len(y)\n"
   ]
  },
  {
   "cell_type": "code",
   "execution_count": null,
   "metadata": {},
   "outputs": [],
   "source": [
    "# Test the function\n",
    "assert np.allclose(H(np.array([4,2,2, 2])), 0.75)\n",
    "assert np.allclose(H(np.array([])), 0.0)"
   ]
  },
  {
   "cell_type": "markdown",
   "metadata": {},
   "source": [
    "### Task 2 <a id=\"task2\"></a>  (0.5 points)\n",
    "\n",
    "To find the best split in the node we need to calculate the cost function. Denote: \n",
    "- `R` all the object in the node\n",
    "- `j` index of the feature selected for the split\n",
    "- `t` threshold\n",
    "- `R_l` and `R_r` objects in the left and right child nodes correspondingly\n",
    "\n",
    "We get the following cost function:\n",
    "\n",
    "$$\n",
    "Q(R, j, t) =\\frac{|R_\\ell|}{|R|}H(R_\\ell) + \\frac{|R_r|}{|R|}H(R_r) \\to \\min_{j, t},\n",
    "$$\n",
    "\n",
    "Implement the function `Q`, which should calculate value of the cost function for a given feature and threshold."
   ]
  },
  {
   "cell_type": "code",
   "execution_count": null,
   "metadata": {},
   "outputs": [],
   "source": [
    "def Q(X, y, j, t):\n",
    "    \"\"\"\n",
    "    Calculate cost function\n",
    "    Parameters\n",
    "    ----------\n",
    "    X : ndarray\n",
    "        array of objects in the node \n",
    "    y : ndarray\n",
    "        array of target values in the node \n",
    "    j : int\n",
    "        feature index (column in X)\n",
    "    t : float\n",
    "        threshold\n",
    "\n",
    "    Returns\n",
    "    -------\n",
    "    Q : float\n",
    "        Value of the cost function\n",
    "    \"\"\"   \n",
    "    # YOUR CODE HERE\n",
    "    R_l = y[X[:, j] <= t]\n",
    "    R_r = y[X[:, j] > t]\n",
    "    return len(R_l) * H(R_l) / len(y) + len(R_r) * H(R_r) / len(y)"
   ]
  },
  {
   "cell_type": "markdown",
   "metadata": {},
   "source": [
    "### Task 3 <a id=\"task3\"></a>  (2 points)\n",
    "\n",
    "Now, let's implement `MyDecisionTreeRegressor` class. More specifically, you need to implement the following methods:\n",
    "\n",
    "- `best_split`\n",
    "- `grow_tree`\n",
    "- `get_prediction`\n",
    "\n",
    "Read docstrings for more details. Do not forget to use function `Q` implemented above, when finding the `best_split`"
   ]
  },
  {
   "cell_type": "code",
   "execution_count": null,
   "metadata": {},
   "outputs": [],
   "source": [
    "class Node(object):\n",
    "    \"\"\"\n",
    "    Class for a decision tree node.\n",
    "    \n",
    "    Parameters\n",
    "    ----------\n",
    "    right : Node() or None\n",
    "        Right child\n",
    "    right : Node() or None\n",
    "        Left child\n",
    "    threshold: float\n",
    "        \n",
    "    column: int\n",
    "        \n",
    "    depth: int\n",
    "        \n",
    "    prediction: float\n",
    "        prediction of the target value in the node (average values calculated on a train dataset)\n",
    "    is_terminal:bool\n",
    "        indicates whether it is a terminal node (leaf) or not\n",
    "    \"\"\"    \n",
    "    def __init__(self):        \n",
    "        self.right = None\n",
    "        self.left = None\n",
    "        self.threshold = None\n",
    "        self.column = None\n",
    "        self.depth = None\n",
    "        self.is_terminal = False\n",
    "        self.prediction = None\n",
    "        \n",
    "    def __repr__(self):\n",
    "        if self.is_terminal:\n",
    "            node_desc = 'Pred: {:.2f}'.format(self.prediction)\n",
    "        else:\n",
    "            node_desc = 'Col {}, t {:.2f}, Pred: {:.2f}'.format(self.column, self.threshold, self.prediction)\n",
    "        return node_desc"
   ]
  },
  {
   "cell_type": "code",
   "execution_count": null,
   "metadata": {},
   "outputs": [],
   "source": [
    "from sklearn.base import BaseEstimator, RegressorMixin\n",
    "from sklearn.utils.validation import check_X_y, check_array, check_is_fitted\n",
    "\n",
    "class MyDecisionTreeRegressor(RegressorMixin, BaseEstimator):\n",
    "    \"\"\"\n",
    "    Class for a Decision Tree Regressor.\n",
    "\n",
    "    Parameters\n",
    "    ----------\n",
    "    max_depth : int\n",
    "        Max depth of a decision tree.\n",
    "    min_samples_split : int\n",
    "        Minimal number of samples (objects) in a node to make a split.\n",
    "    \"\"\" \n",
    "    def __init__(self, max_depth=3, min_samples_split=2):\n",
    "        self.max_depth = max_depth\n",
    "        self.min_samples_split = min_samples_split\n",
    "    \n",
    "    def _more_tags(self):\n",
    "        return {\n",
    "            'requires_y': False\n",
    "        }\n",
    "            \n",
    "    def best_split(self, X, y):\n",
    "        \"\"\"\n",
    "        Find the best split in terms of Q of data in a given decision tree node. \n",
    "        Try all features and thresholds. \n",
    "        \n",
    "        Parameters\n",
    "        ----------\n",
    "        X : ndarray, shape (n_objects, n_features)\n",
    "            Objects in the parent node\n",
    "        y : ndarray, shape (n_objects, )\n",
    "            1D array with the object labels. \n",
    "            \n",
    "        Returns\n",
    "        -------\n",
    "        best_split_column : int\n",
    "            Index of the best split column\n",
    "        best_threshold : float\n",
    "            The best split condition.\n",
    "        X_left : ndarray, shape (n_objects_l, n_features)\n",
    "            Objects in the left child\n",
    "        y_left : ndarray, shape (n_objects_l, )\n",
    "            Objects labels in the left child. \n",
    "        X_right : ndarray, shape (n_objects_r, n_features)\n",
    "            Objects in the right child\n",
    "        y_right : ndarray, shape (n_objects_r, )\n",
    "            Objects labels in the right child. \n",
    "        \"\"\"\n",
    "        \n",
    "        # To store best split parameters\n",
    "        best_split_column = None\n",
    "        best_threshold = None\n",
    "        # without splitting\n",
    "        best_cost = H(y) \n",
    "        best_information_gain = -999\n",
    "        \n",
    "        # YOUR CODE HERE\n",
    "        for split_column in range(X.shape[1]):\n",
    "            \n",
    "            # Select values of the column\n",
    "            x_col = X[:, split_column]\n",
    "            \n",
    "            # For each value in the column ...\n",
    "            for i_x in range(0, len(x_col)):\n",
    "                \n",
    "                # Take the value as a threshold for a split\n",
    "                threshold = x_col[i_x]\n",
    "                \n",
    "                # Calculate information gain of the split\n",
    "                information_gain = best_cost - Q(X, y, split_column, threshold)\n",
    "                # information_gain = 0.2 (example)\n",
    "                \n",
    "                # Is this information_gain the best?\n",
    "                if information_gain > best_information_gain:\n",
    "                    best_split_column = split_column\n",
    "                    best_threshold = threshold\n",
    "                    best_information_gain = information_gain\n",
    "                    \n",
    "        # If no split available\n",
    "        if best_information_gain == -999:\n",
    "            return None, None, None, None, None, None\n",
    "        \n",
    "        # Take the best split parameters and make this split\n",
    "        x_col = X[:, best_split_column]\n",
    "        X_left = X[x_col <= best_threshold, :]\n",
    "        y_left = y[x_col <= best_threshold]\n",
    "        X_right = X[x_col > best_threshold, :]\n",
    "        y_right = y[x_col > best_threshold]\n",
    "        \n",
    "        return best_split_column, best_threshold, X_left, y_left, X_right, y_right\n",
    "    \n",
    "    def is_terminal(self, node, y):\n",
    "        \"\"\"\n",
    "        Check terminality conditions based on `max_depth` and `min_samples_split` parameters for a given node. \n",
    "        \n",
    "        Parameters\n",
    "        ----------\n",
    "        node : Node, \n",
    "            \n",
    "        y : ndarray, shape (n_objects, )\n",
    "            Object labels. \n",
    "            \n",
    "        Returns\n",
    "        -------\n",
    "        Is_termial : bool\n",
    "            If True, node is terminal\n",
    "        \"\"\"\n",
    "        if node.depth >= self.max_depth:    \n",
    "            return True\n",
    "        if len(y) < self.min_samples_split:   \n",
    "            return True\n",
    "        return False\n",
    "        \n",
    "    def grow_tree(self, node, X, y):\n",
    "        \"\"\"\n",
    "        Reccurently grow the tree from the `node` using a `X` and `y` as a dataset:\n",
    "         - check terminality conditions\n",
    "         - find best split if node is not terminal\n",
    "         - add child nodes to the node\n",
    "         - call the function recursively for the added child nodes\n",
    "        \n",
    "        Parameters\n",
    "        ----------\n",
    "        node : Node() object\n",
    "            Current node of the decision tree.\n",
    "        X : ndarray, shape (n_objects, n_features)\n",
    "            Objects \n",
    "        y : ndarray, shape (n_objects)\n",
    "            Labels\n",
    "        \"\"\"\n",
    "        \n",
    "        if self.is_terminal(node, y):\n",
    "            node.is_terminal =True\n",
    "            return\n",
    "                \n",
    "        # YOUR CODE HERE\n",
    "        \n",
    "        if len(np.unique(y)) == 1:\n",
    "            node.is_terminal = True\n",
    "            return\n",
    "        \n",
    "        # Make best split\n",
    "        split_column, threshold, X_left, y_left, X_right, y_right = self.best_split(X, y) # Make a split\n",
    "        \n",
    "        # Check additional termination conditions\n",
    "        if split_column is None:\n",
    "            node.is_terminal = True\n",
    "            return\n",
    "        \n",
    "        \n",
    "        # Add split parameters into the current node\n",
    "        node.column = split_column\n",
    "        node.threshold = threshold\n",
    "        \n",
    "        # Create a left child of the current node\n",
    "        node.left = Node()\n",
    "        node.left.depth = node.depth + 1\n",
    "        node.left.prediction = np.mean(y_left)\n",
    "        \n",
    "        # Create a right child of the current node\n",
    "        node.right = Node()\n",
    "        node.right.depth = node.depth + 1\n",
    "        node.right.prediction = np.mean(y_right)\n",
    "        \n",
    "        # Make splits for the left and right nodes\n",
    "        self.grow_tree(node.right, X_right, y_right)\n",
    "        self.grow_tree(node.left, X_left, y_left)\n",
    "        \n",
    "\n",
    "    def fit(self, X, y):\n",
    "        \"\"\"\n",
    "        Fit the Decision Tree Regressor.\n",
    "            \n",
    "        Parameters\n",
    "        ----------\n",
    "        X : ndarray, shape (n_samples, n_features)\n",
    "            The input samples.\n",
    "        y : ndarray, shape (n_samples,) or (n_samples, n_outputs)\n",
    "            The target values.\n",
    "        Returns\n",
    "        -------\n",
    "        self : object\n",
    "            Returns self.\n",
    "        \"\"\"\n",
    "        # Check the input\n",
    "        if y is None:\n",
    "            raise ValueError('Y should not be None')\n",
    "        X, y = check_X_y(X, y, accept_sparse=False)\n",
    "        self.is_fitted_ = True\n",
    "        self.n_features_in_ = X.shape[1]\n",
    "        \n",
    "        # Initialize the tree (root node, depth = 0)\n",
    "        self.tree_ = Node()                             \n",
    "        self.tree_.depth = 0                            \n",
    "        self.tree_.prediction = np.mean(y)\n",
    "        \n",
    "        # Grow the tree\n",
    "        self.grow_tree(self.tree_, X, y)\n",
    "        return self        \n",
    "    \n",
    "    def get_prediction(self, node, x):\n",
    "        \"\"\"\n",
    "        Get prediction for an object `x`\n",
    "            - Return prediction of the `node` if it is terminal\n",
    "            - Otherwise, recursively call the function to get predictions of the proper child\n",
    "        \n",
    "        Parameters\n",
    "        ----------\n",
    "        node : Node() object\n",
    "            Current node of the decision tree.\n",
    "        x : ndarray, shape (n_features,)\n",
    "            Array of feature values of one object.\n",
    "        Returns\n",
    "        -------\n",
    "        y_pred : float\n",
    "            Prediction for an object x\n",
    "        \"\"\"\n",
    "        # YOUR CODE HERE\n",
    "        \n",
    "        if node.is_terminal:\n",
    "            return node.prediction\n",
    "        return self.get_prediction(node.right, x) if x[node.column] > node.threshold else self.get_prediction(node.left, x)\n",
    "    \n",
    "    def predict(self, X):\n",
    "        \"\"\" \n",
    "        Get prediction for each object in X\n",
    "        \n",
    "        Parameters\n",
    "        ----------\n",
    "        X : ndarray, shape (n_samples, n_features)\n",
    "            The input samples.\n",
    "        Returns\n",
    "        -------\n",
    "        y : ndarray, shape (n_samples,)\n",
    "            Returns predictions.\n",
    "        \"\"\"\n",
    "        # Check input and that `fit` had been called\n",
    "        X = check_array(X, accept_sparse=False)\n",
    "        check_is_fitted(self, 'is_fitted_')\n",
    "        \n",
    "        # Get predictions\n",
    "        y_predicted = []\n",
    "        for x in X:\n",
    "            y_curr = self.get_prediction(self.tree_, x)\n",
    "            y_predicted.append(y_curr)\n",
    "        return np.array(y_predicted)"
   ]
  },
  {
   "cell_type": "code",
   "execution_count": null,
   "metadata": {},
   "outputs": [],
   "source": [
    "# check yourself\n",
    "from sklearn.utils.estimator_checks import check_estimator\n",
    "\n",
    "check_estimator(MyDecisionTreeRegressor())"
   ]
  },
  {
   "cell_type": "markdown",
   "metadata": {},
   "source": [
    "### Task 4 <a id=\"task4\"></a>  (0.5 points)\n",
    "\n",
    "Load boston dataset and split it on the train ($70\\%$) and test ($30\\%$). Fit Decision Tree of depth 1 and make the following plot:\n",
    "\n",
    "- Scatter plot of the traning points (selected for split feature on the x-axis, target variable on the y-axis)\n",
    "- Fitted model \n",
    "\n",
    "P.S. Depth of the tree is equal to the longest path from the root note to the leaf. Thus, tree with depth 1 will have exactly 1 split. \n",
    "\n",
    "P.P.S. Both fitted model and the training points should be on the same plot"
   ]
  },
  {
   "cell_type": "code",
   "execution_count": 19,
   "metadata": {},
   "outputs": [],
   "source": [
    "from sklearn.datasets import load_boston\n",
    "from sklearn.model_selection import train_test_split\n",
    "\n",
    "# YOUR CODE HERE\n",
    "\n",
    "data = load_boston()\n",
    "X_train, X_test, y_train, y_test = train_test_split(data.data, data.target, test_size = 0.3, random_state = 42)"
   ]
  },
  {
   "cell_type": "code",
   "execution_count": null,
   "metadata": {},
   "outputs": [],
   "source": [
    "clf = MyDecisionTreeRegressor(max_depth=1)\n",
    "clf.fit(X_train, y_train)"
   ]
  },
  {
   "cell_type": "code",
   "execution_count": null,
   "metadata": {},
   "outputs": [],
   "source": [
    "print(clf.tree_)\n",
    "print(clf.tree_.column)\n",
    "print(clf.tree_.threshold)\n",
    "print(clf.tree_.right)\n",
    "print(clf.tree_.left)"
   ]
  },
  {
   "cell_type": "code",
   "execution_count": null,
   "metadata": {},
   "outputs": [],
   "source": [
    "X_l = X_train[X_train[:, clf.tree_.column] <= clf.tree_.threshold]\n",
    "y_l = y_train[X_train[:, clf.tree_.column] <= clf.tree_.threshold]\n",
    "X_r = X_train[X_train[:, clf.tree_.column] > clf.tree_.threshold]\n",
    "y_r = y_train[X_train[:, clf.tree_.column] > clf.tree_.threshold]\n",
    "\n",
    "y_pred = clf.predict(X_train)\n",
    "y_l_pred = y_pred[X_train[:, clf.tree_.column] <= clf.tree_.threshold]\n",
    "y_r_pred = y_pred[X_train[:, clf.tree_.column] > clf.tree_.threshold]"
   ]
  },
  {
   "cell_type": "code",
   "execution_count": null,
   "metadata": {},
   "outputs": [],
   "source": [
    "plt.scatter(X_l[:, clf.tree_.column], y_l, color='blue')\n",
    "plt.scatter(X_r[:, clf.tree_.column], y_r, color='green')\n",
    "plt.scatter(X_l[:, clf.tree_.column], y_l_pred, color = 'orange')\n",
    "plt.scatter(X_r[:, clf.tree_.column], y_r_pred, color = 'red')\n",
    "plt.axvline(clf.tree_.threshold, color = 'maroon')\n",
    "plt.title('Train')"
   ]
  },
  {
   "cell_type": "code",
   "execution_count": null,
   "metadata": {},
   "outputs": [],
   "source": [
    "X_l = X_test[X_test[:, clf.tree_.column] <= clf.tree_.threshold]\n",
    "y_l = y_test[X_test[:, clf.tree_.column] <= clf.tree_.threshold]\n",
    "X_r = X_test[X_test[:, clf.tree_.column] > clf.tree_.threshold]\n",
    "y_r = y_test[X_test[:, clf.tree_.column] > clf.tree_.threshold]\n",
    "\n",
    "y_pred = clf.predict(X_test)\n",
    "y_l_pred = y_pred[X_test[:, clf.tree_.column] <= clf.tree_.threshold]\n",
    "y_r_pred = y_pred[X_test[:, clf.tree_.column] > clf.tree_.threshold]"
   ]
  },
  {
   "cell_type": "code",
   "execution_count": null,
   "metadata": {},
   "outputs": [],
   "source": [
    "plt.scatter(X_l[:, clf.tree_.column], y_l, color='blue')\n",
    "plt.scatter(X_r[:, clf.tree_.column], y_r, color='green')\n",
    "plt.scatter(X_l[:, clf.tree_.column], y_l_pred, color = 'orange')\n",
    "plt.scatter(X_r[:, clf.tree_.column], y_r_pred, color = 'red')\n",
    "plt.axvline(clf.tree_.threshold, color = 'maroon')\n",
    "plt.title('Test')"
   ]
  },
  {
   "cell_type": "markdown",
   "metadata": {},
   "source": [
    "### Task 5 <a id=\"task5\"></a>  (0.5 points)\n",
    "\n",
    "Keep working with boston dataset. \n",
    "- Use `GridSearchCV` to find the best hyperparameters (`max_depth` and `min_samples_split`) on 5-Fold cross-validation\n",
    "- Train the model with the best set of hyperparameters on the whole train dataset. \n",
    "- Report `RMSE` on test dataset and hyperparameters of the best estimator. "
   ]
  },
  {
   "cell_type": "code",
   "execution_count": null,
   "metadata": {},
   "outputs": [],
   "source": [
    "# YOUR CODE HERE\n",
    "from sklearn.model_selection import GridSearchCV\n",
    "\n",
    "parameters = {'max_depth': range(1, 10), 'min_samples_split': range(1, 15)}\n",
    "\n",
    "clf = MyDecisionTreeRegressor()\n",
    "gs = GridSearchCV(clf, parameters, scoring='neg_root_mean_squared_error', cv=5, n_jobs=-1)\n",
    "gs.fit(X_train, y_train)\n",
    "\n",
    "print(f\"Best parameters: {gs.best_params_}\")\n",
    "print(f\"Best RMSE: {-1 * gs.best_score_}\")"
   ]
  },
  {
   "cell_type": "markdown",
   "metadata": {},
   "source": [
    "### Task 6 <a id=\"task6\"></a>  (2 points)\n",
    "\n",
    "Recall definition of bias and variance:\n",
    "$$\n",
    "\\text{Bias}^2 = \\mathbb{E}_{p(x, y)} \\left[  (f(x) - \\mathbb{E}_{\\mathbb{X}}a_{\\mathbb{X}}(x))^2 \\right] \\\\\n",
    "\\text{Variance} = \\mathbb{E}_{p(x, y)} \\left[  \\mathbb{V}_{\\mathbb{X}}( a_{\\mathbb{X}}(x))  \\right]\n",
    "$$\n",
    "\n",
    "We wil now use use the following algorithm to estimate bias^2 and variance:\n",
    "\n",
    "1. Use bootsrap to create `n_iter` samples from the original dataset: $X_1, \\dots, X_{n\\_iter}$. Each $X_i$ has $N$ observations (randomly selected from the original dataset with replacement)\n",
    "2. For each bootstrapped sample define out-of-bag (OOB) sample $Z_1, \\dots, Z_{n\\_iter}$, which contains all the observations, which did not appear in the corresponding boostraped sample\n",
    "3. Fit the model on observations from $X_i$s and compute predictions on points from $Z_i$s\n",
    "4. For a given *object* $x_n$:\n",
    "     - bias^2: squared difference between true value $y_n$ and average prediction (average over the algorithms, for which $x_n$ was in OOB)\n",
    "     - variance: variance of the predictions (predictions of the algorithms, for which $x_n$ was in OOB)\n",
    "5. Average bias^2 and variance over all the points\n",
    "\n",
    "\n",
    "**Consider a toy example.** You are given a dataset with 5 observations: $((x_1 ,y_1), (x_2, y_2), (x_3, y_3), (x_4, y_4), (x_5, y_5))$, where $x_i$ is a vector of features, $y_i$ is a target variable . And choose `n_iter` to be 3. \n",
    "* Example of bootstrapped samples:\n",
    "$$X_1 = (x_2, x_5, x_2, x_3, x_2, x_5)$$\n",
    "$$X_2 = (x_5, x_2, x_4, x_4, x_1, x_5)$$\n",
    "$$X_3 = (x_1, x_3, x_1, x_4, x_3, x_1)$$\n",
    "\n",
    "* Corresponding OOB samples:\n",
    "$$Z_1 = (x_1, x_4)$$\n",
    "$$Z_2 = (x_3)$$\n",
    "$$Z_3 = (x_2, x_5)$$\n",
    "\n",
    "* Fit models using $X_1$, $X_2$ and $X_3$ as training data. Use 1st model to make predictions for points from $Z_1$, second - for $Z_2$, etc. and use these predictions to estimate bias and variance. \n",
    "\n",
    "    \n",
    "**Implement `get_bias_variance` function, using the algorithm above**\n",
    "\n",
    "*Note:*  You can only use 1 loop (for bootsrap iterations `n_iter`). All other operations should be vectorized. \n",
    "\n",
    "P.S. These numpy functions might be usefull here `np.nanmean`, `np.nanstd` (but you are not obliged to use them). "
   ]
  },
  {
   "cell_type": "code",
   "execution_count": null,
   "metadata": {},
   "outputs": [],
   "source": [
    "def get_bias_variance(estimator, x, y, n_iter):\n",
    "    \"\"\" \n",
    "    Calculate bias^2 and variance of the `estimator`. Using a given dataset and bootstrap with `n_iter` samples. \n",
    "\n",
    "    Parameters\n",
    "    ----------\n",
    "    x : ndarray, shape (n_samples, n_features)\n",
    "        The input samples.\n",
    "    y : ndarray, shape (n_samples, n_features)\n",
    "        The input samples.\n",
    "    n_iter: int\n",
    "        Number of samples in \n",
    "    Returns\n",
    "    -------\n",
    "    bias2 : float, \n",
    "        Estiamted squared bias\n",
    "    variance : float, \n",
    "        Estiamted variance\n",
    "    \"\"\"\n",
    "    \n",
    "    # YOUR CODE HERE\n",
    "    np.random.seed(42)\n",
    "    all_preds = np.repeat(np.nan, y.shape[0]).reshape(y.shape[0], 1)\n",
    "    for i in range(0, n_iter):\n",
    "        train_indices = np.random.choice(y.shape[0], y.shape[0])\n",
    "        while np.unique(train_indices).shape[0] == y.shape[0]:\n",
    "            train_indices = np.random.choice(y.shape[0], y.shape[0])\n",
    "        test_indices = np.arange(y.shape[0])\n",
    "        test_indices = test_indices[np.isin(test_indices, train_indices, invert=True)]\n",
    "        \n",
    "        x_i = x[train_indices, :]\n",
    "        y_x_i = y[train_indices]\n",
    "        z_i = x[test_indices, :]\n",
    "        y_z_i = y[test_indices]\n",
    "        \n",
    "        estimator.fit(x_i, y_x_i)\n",
    "        y_z_i_pred = estimator.predict(z_i)\n",
    "        \n",
    "        pred_with_nans = np.repeat(np.nan, y.shape[0])\n",
    "        np.put(pred_with_nans, test_indices, y_z_i_pred)\n",
    "        pred_with_nans = pred_with_nans.reshape(y.shape[0], 1)\n",
    "        all_preds = np.hstack((all_preds, pred_with_nans))\n",
    "    all_preds = all_preds[:, 1:]\n",
    "    return np.nanmean(np.square(y - np.nanmean(all_preds, axis=1))), np.nanmean(np.nanstd(all_preds, axis=1) ** 2)"
   ]
  },
  {
   "cell_type": "code",
   "execution_count": null,
   "metadata": {},
   "outputs": [],
   "source": [
    "# Test\n",
    "estimator = MyDecisionTreeRegressor(max_depth=7, min_samples_split=14)\n",
    "\n",
    "get_bias_variance(estimator, X_train, y_train, 10)"
   ]
  },
  {
   "cell_type": "markdown",
   "metadata": {},
   "source": [
    "### Task 7 <a id=\"task7\"></a>  (0.5 points = 0.25 for code + 0.25 for comments)\n",
    "\n",
    "Compute bias and variance for the trees of different depths. Plot how bias and variance change as depth increases. \n",
    "\n",
    "Comment on what you observe, how does your result correspond to what we have discussed in class?"
   ]
  },
  {
   "cell_type": "code",
   "execution_count": null,
   "metadata": {},
   "outputs": [],
   "source": [
    "# YOUR CODE HERE\n",
    "bias2_lst = []\n",
    "var_lst = []\n",
    "for max_depth in range(1, 10):\n",
    "    clf = MyDecisionTreeRegressor(max_depth=max_depth, min_samples_split=14)\n",
    "    bias2, var = get_bias_variance(clf, X_train, y_train, 10)\n",
    "    bias2_lst.append(bias)\n",
    "    var_lst.append(var)"
   ]
  },
  {
   "cell_type": "code",
   "execution_count": null,
   "metadata": {},
   "outputs": [],
   "source": [
    "plt.plot(range(1, 10), bias_lst, color='blue', label='bias')\n",
    "plt.plot(range(1, 10), var_lst, color='green', label='variance')\n",
    "plt.xlabel('max depth')\n",
    "plt.ylabel('values')\n",
    "plt.title('Values of bias and variance depending on max depth')\n",
    "plt.legend()"
   ]
  },
  {
   "cell_type": "markdown",
   "metadata": {},
   "source": [
    "```Как мы видим, с ростом глубины значительно уменьшается bias, что свидетельствует об улучшении точности модели. Увеличение variance говорит об увеличении зависимости от исходных, причём по сравнению со значением при глубине 3 значение при глубине 7 выглядит достаточно большим.```"
   ]
  },
  {
   "cell_type": "markdown",
   "metadata": {},
   "source": [
    "### Task 8 <a id=\"task8\"></a>  (0.5 points = 0.25 for code + 0.25 for comments)\n",
    "\n",
    "Let's try to reduce variance with bagging. Use `sklearn.ensemble.BaggingRegressor` to get an ensemble and compute its bias and variance. \n",
    "\n",
    "Answer the following questions:\n",
    " - How bagging should affect bias and variance in theory?\n",
    " - How bias and variance change (if they change) compared to an individual tree in you experiments? \n",
    " - Do your results align with the theory? Why?"
   ]
  },
  {
   "cell_type": "code",
   "execution_count": null,
   "metadata": {},
   "outputs": [],
   "source": [
    "from sklearn.ensemble import BaggingRegressor\n",
    "\n",
    "# YOUR CODE HERE\n",
    "model = BaggingRegressor(base_estimator=MyDecisionTreeRegressor(max_depth=7, min_samples_split=14), \n",
    "                          n_jobs=-1, n_estimators=100, random_state=42)\n",
    "get_bias_variance(model, X_train, y_train, 10)"
   ]
  },
  {
   "cell_type": "markdown",
   "metadata": {},
   "source": [
    "```Согласно теории, при использовании bagging усредняется некоторое количество деревьев, что должно уменьшить влияние конкретных данных на предсказание, то есть значительно уменьшить variance. Bias при этом, как правило, тоже уменьшается, но может и увеличиться (к примеру, если значение varianca изначально было одним из наилучших возможных). В нашем случае variance уменьшается крайне значительно, и неплохо уменьшается bias, что свидетельствует о согласованности с теорией.```"
   ]
  },
  {
   "cell_type": "markdown",
   "metadata": {},
   "source": [
    "# Part 2. More Ensembles"
   ]
  },
  {
   "cell_type": "markdown",
   "metadata": {},
   "source": [
    "In this part we will be working with [Thyroid Disease Data Set](https://archive.ics.uci.edu/ml/datasets/thyroid+disease) to solve a classification task. "
   ]
  },
  {
   "cell_type": "code",
   "execution_count": 20,
   "metadata": {},
   "outputs": [
    {
     "data": {
      "text/plain": "    age sex on_thyroxine query_on_thyroxine on_antithyroid_medication sick  \\\n0  41.0   F            f                  f                         f    f   \n1  23.0   F            f                  f                         f    f   \n2  46.0   M            f                  f                         f    f   \n3  70.0   F            t                  f                         f    f   \n4  70.0   F            f                  f                         f    f   \n\n  pregnant thyroid_surgery I131_treatment query_hypothyroid  ...   T3  \\\n0        f               f              f                 f  ...  2.5   \n1        f               f              f                 f  ...  2.0   \n2        f               f              f                 f  ...  NaN   \n3        f               f              f                 f  ...  1.9   \n4        f               f              f                 f  ...  1.2   \n\n  TT4_measured    TT4 T4U_measured   T4U FTI_measured    FTI  TBG_measured  \\\n0            t  125.0            t  1.14            t  109.0             f   \n1            t  102.0            f   NaN            f    NaN             f   \n2            t  109.0            t  0.91            t  120.0             f   \n3            t  175.0            f   NaN            f    NaN             f   \n4            t   61.0            t  0.87            t   70.0             f   \n\n  TBG  referral_source  \n0 NaN             SVHC  \n1 NaN            other  \n2 NaN            other  \n3 NaN            other  \n4 NaN              SVI  \n\n[5 rows x 29 columns]",
      "text/html": "<div>\n<style scoped>\n    .dataframe tbody tr th:only-of-type {\n        vertical-align: middle;\n    }\n\n    .dataframe tbody tr th {\n        vertical-align: top;\n    }\n\n    .dataframe thead th {\n        text-align: right;\n    }\n</style>\n<table border=\"1\" class=\"dataframe\">\n  <thead>\n    <tr style=\"text-align: right;\">\n      <th></th>\n      <th>age</th>\n      <th>sex</th>\n      <th>on_thyroxine</th>\n      <th>query_on_thyroxine</th>\n      <th>on_antithyroid_medication</th>\n      <th>sick</th>\n      <th>pregnant</th>\n      <th>thyroid_surgery</th>\n      <th>I131_treatment</th>\n      <th>query_hypothyroid</th>\n      <th>...</th>\n      <th>T3</th>\n      <th>TT4_measured</th>\n      <th>TT4</th>\n      <th>T4U_measured</th>\n      <th>T4U</th>\n      <th>FTI_measured</th>\n      <th>FTI</th>\n      <th>TBG_measured</th>\n      <th>TBG</th>\n      <th>referral_source</th>\n    </tr>\n  </thead>\n  <tbody>\n    <tr>\n      <th>0</th>\n      <td>41.0</td>\n      <td>F</td>\n      <td>f</td>\n      <td>f</td>\n      <td>f</td>\n      <td>f</td>\n      <td>f</td>\n      <td>f</td>\n      <td>f</td>\n      <td>f</td>\n      <td>...</td>\n      <td>2.5</td>\n      <td>t</td>\n      <td>125.0</td>\n      <td>t</td>\n      <td>1.14</td>\n      <td>t</td>\n      <td>109.0</td>\n      <td>f</td>\n      <td>NaN</td>\n      <td>SVHC</td>\n    </tr>\n    <tr>\n      <th>1</th>\n      <td>23.0</td>\n      <td>F</td>\n      <td>f</td>\n      <td>f</td>\n      <td>f</td>\n      <td>f</td>\n      <td>f</td>\n      <td>f</td>\n      <td>f</td>\n      <td>f</td>\n      <td>...</td>\n      <td>2.0</td>\n      <td>t</td>\n      <td>102.0</td>\n      <td>f</td>\n      <td>NaN</td>\n      <td>f</td>\n      <td>NaN</td>\n      <td>f</td>\n      <td>NaN</td>\n      <td>other</td>\n    </tr>\n    <tr>\n      <th>2</th>\n      <td>46.0</td>\n      <td>M</td>\n      <td>f</td>\n      <td>f</td>\n      <td>f</td>\n      <td>f</td>\n      <td>f</td>\n      <td>f</td>\n      <td>f</td>\n      <td>f</td>\n      <td>...</td>\n      <td>NaN</td>\n      <td>t</td>\n      <td>109.0</td>\n      <td>t</td>\n      <td>0.91</td>\n      <td>t</td>\n      <td>120.0</td>\n      <td>f</td>\n      <td>NaN</td>\n      <td>other</td>\n    </tr>\n    <tr>\n      <th>3</th>\n      <td>70.0</td>\n      <td>F</td>\n      <td>t</td>\n      <td>f</td>\n      <td>f</td>\n      <td>f</td>\n      <td>f</td>\n      <td>f</td>\n      <td>f</td>\n      <td>f</td>\n      <td>...</td>\n      <td>1.9</td>\n      <td>t</td>\n      <td>175.0</td>\n      <td>f</td>\n      <td>NaN</td>\n      <td>f</td>\n      <td>NaN</td>\n      <td>f</td>\n      <td>NaN</td>\n      <td>other</td>\n    </tr>\n    <tr>\n      <th>4</th>\n      <td>70.0</td>\n      <td>F</td>\n      <td>f</td>\n      <td>f</td>\n      <td>f</td>\n      <td>f</td>\n      <td>f</td>\n      <td>f</td>\n      <td>f</td>\n      <td>f</td>\n      <td>...</td>\n      <td>1.2</td>\n      <td>t</td>\n      <td>61.0</td>\n      <td>t</td>\n      <td>0.87</td>\n      <td>t</td>\n      <td>70.0</td>\n      <td>f</td>\n      <td>NaN</td>\n      <td>SVI</td>\n    </tr>\n  </tbody>\n</table>\n<p>5 rows × 29 columns</p>\n</div>"
     },
     "execution_count": 20,
     "metadata": {},
     "output_type": "execute_result"
    }
   ],
   "source": [
    "from sklearn.preprocessing import LabelEncoder\n",
    "\n",
    "df = pd.read_csv('C:/Users/Александр/DataspellProjects/HSE-ML/fourth_hw/datasets/thyroid_disease.csv')\n",
    "\n",
    "le = LabelEncoder()\n",
    "y = le.fit_transform(df['Class'])\n",
    "X = df.drop('Class', axis=1)\n",
    "X.head(5)"
   ]
  },
  {
   "cell_type": "markdown",
   "metadata": {},
   "source": [
    "### Task 1 <a id=\"task2_1\"></a> (1 point)\n",
    "\n",
    "Let's start with data preprocessing. \n",
    "\n",
    "0. Drop columns, which are not usefull (e.g. a lot of missing values). Motivate your choice. \n",
    "1. Split dataset into train and test\n",
    "2. You've probably noticed that we have both categorical and numerical columns. Here is what you need to do with them:\n",
    "    - Categorical: Fill missing values and apply one-hot-encoding (take a look at the argument `drop` in [documentation](https://scikit-learn.org/stable/modules/generated/sklearn.preprocessing.OneHotEncoder.html) to figure out the best way to apply OHE to binary variables)\n",
    "    - Numeric: Fill missing values\n",
    "    \n",
    "Use `ColumnTranformer` ([docs](https://scikit-learn.org/stable/modules/generated/sklearn.compose.ColumnTransformer.html#sklearn.compose.ColumnTransformer)) to define a single transformer for all the columns in the dataset. It takes as input a list of tuples\n",
    "\n",
    "```\n",
    "ColumnTransformer([\n",
    "    ('name1', transorm1, column_names1),\n",
    "    ('name2', transorm2, column_names2)\n",
    "])\n",
    "```\n",
    "\n",
    "Pay attention to an argument `remainder='passthrough'`. [Here](https://scikit-learn.org/stable/modules/compose.html#column-transformer) you can find some examples of how to use column transformer. \n",
    "    \n",
    "Since we want to apply 2 transformations to categorical feature, it is very convenient to combine them into a `Pipeline`:\n",
    "\n",
    "```\n",
    "double_transform = make_pipeline(\n",
    "                                 transform_1,\n",
    "                                 transform_2\n",
    "                                )\n",
    "```\n",
    "\n",
    "P.S. Choose your favourite way to fill missing values. \n",
    "\n",
    "*Hint* Categorical column usually have `dtype = 'object'`. This may help to obtain list of categorical and numerical columns in the dataset. "
   ]
  },
  {
   "cell_type": "code",
   "execution_count": 21,
   "metadata": {},
   "outputs": [
    {
     "name": "stdout",
     "output_type": "stream",
     "text": [
      "<class 'pandas.core.frame.DataFrame'>\n",
      "RangeIndex: 3772 entries, 0 to 3771\n",
      "Data columns (total 29 columns):\n",
      " #   Column                     Non-Null Count  Dtype  \n",
      "---  ------                     --------------  -----  \n",
      " 0   age                        3771 non-null   float64\n",
      " 1   sex                        3622 non-null   object \n",
      " 2   on_thyroxine               3772 non-null   object \n",
      " 3   query_on_thyroxine         3772 non-null   object \n",
      " 4   on_antithyroid_medication  3772 non-null   object \n",
      " 5   sick                       3772 non-null   object \n",
      " 6   pregnant                   3772 non-null   object \n",
      " 7   thyroid_surgery            3772 non-null   object \n",
      " 8   I131_treatment             3772 non-null   object \n",
      " 9   query_hypothyroid          3772 non-null   object \n",
      " 10  query_hyperthyroid         3772 non-null   object \n",
      " 11  lithium                    3772 non-null   object \n",
      " 12  goitre                     3772 non-null   object \n",
      " 13  tumor                      3772 non-null   object \n",
      " 14  hypopituitary              3772 non-null   object \n",
      " 15  psych                      3772 non-null   object \n",
      " 16  TSH_measured               3772 non-null   object \n",
      " 17  TSH                        3403 non-null   float64\n",
      " 18  T3_measured                3772 non-null   object \n",
      " 19  T3                         3003 non-null   float64\n",
      " 20  TT4_measured               3772 non-null   object \n",
      " 21  TT4                        3541 non-null   float64\n",
      " 22  T4U_measured               3772 non-null   object \n",
      " 23  T4U                        3385 non-null   float64\n",
      " 24  FTI_measured               3772 non-null   object \n",
      " 25  FTI                        3387 non-null   float64\n",
      " 26  TBG_measured               3772 non-null   object \n",
      " 27  TBG                        0 non-null      float64\n",
      " 28  referral_source            3772 non-null   object \n",
      "dtypes: float64(7), object(22)\n",
      "memory usage: 854.7+ KB\n"
     ]
    }
   ],
   "source": [
    "X.info()"
   ]
  },
  {
   "cell_type": "code",
   "execution_count": 22,
   "metadata": {},
   "outputs": [
    {
     "name": "stdout",
     "output_type": "stream",
     "text": [
      "<class 'pandas.core.frame.DataFrame'>\n",
      "RangeIndex: 3772 entries, 0 to 3771\n",
      "Data columns (total 25 columns):\n",
      " #   Column                     Non-Null Count  Dtype  \n",
      "---  ------                     --------------  -----  \n",
      " 0   age                        3771 non-null   float64\n",
      " 1   sex                        3622 non-null   object \n",
      " 2   on_thyroxine               3772 non-null   object \n",
      " 3   query_on_thyroxine         3772 non-null   object \n",
      " 4   on_antithyroid_medication  3772 non-null   object \n",
      " 5   sick                       3772 non-null   object \n",
      " 6   pregnant                   3772 non-null   object \n",
      " 7   thyroid_surgery            3772 non-null   object \n",
      " 8   I131_treatment             3772 non-null   object \n",
      " 9   query_hypothyroid          3772 non-null   object \n",
      " 10  query_hyperthyroid         3772 non-null   object \n",
      " 11  lithium                    3772 non-null   object \n",
      " 12  goitre                     3772 non-null   object \n",
      " 13  tumor                      3772 non-null   object \n",
      " 14  hypopituitary              3772 non-null   object \n",
      " 15  psych                      3772 non-null   object \n",
      " 16  TSH_measured               3772 non-null   object \n",
      " 17  TSH                        3403 non-null   float64\n",
      " 18  T3_measured                3772 non-null   object \n",
      " 19  TT4_measured               3772 non-null   object \n",
      " 20  TT4                        3541 non-null   float64\n",
      " 21  T4U_measured               3772 non-null   object \n",
      " 22  FTI_measured               3772 non-null   object \n",
      " 23  TBG_measured               3772 non-null   object \n",
      " 24  referral_source            3772 non-null   object \n",
      "dtypes: float64(3), object(22)\n",
      "memory usage: 736.8+ KB\n"
     ]
    }
   ],
   "source": [
    "X = X.drop(columns=X.columns[X.notna().mean() < 3403.0 / 3772.0])\n",
    "X.info()"
   ]
  },
  {
   "cell_type": "code",
   "execution_count": 23,
   "metadata": {},
   "outputs": [
    {
     "name": "stdout",
     "output_type": "stream",
     "text": [
      "sex ['F' 'M' nan]\n",
      "on_thyroxine ['f' 't']\n",
      "query_on_thyroxine ['f' 't']\n",
      "on_antithyroid_medication ['f' 't']\n",
      "sick ['f' 't']\n",
      "pregnant ['f' 't']\n",
      "thyroid_surgery ['f' 't']\n",
      "I131_treatment ['f' 't']\n",
      "query_hypothyroid ['f' 't']\n",
      "query_hyperthyroid ['f' 't']\n",
      "lithium ['f' 't']\n",
      "goitre ['f' 't']\n",
      "tumor ['f' 't']\n",
      "hypopituitary ['f' 't']\n",
      "psych ['f' 't']\n",
      "TSH_measured ['t' 'f']\n",
      "T3_measured ['t' 'f']\n",
      "TT4_measured ['t' 'f']\n",
      "T4U_measured ['t' 'f']\n",
      "FTI_measured ['t' 'f']\n",
      "TBG_measured ['f']\n",
      "referral_source ['SVHC' 'other' 'SVI' 'STMW' 'SVHD']\n"
     ]
    }
   ],
   "source": [
    "for column in X.columns:\n",
    "    if X[column].dtype == 'object':\n",
    "        print(column, pd.unique(X[column]))"
   ]
  },
  {
   "cell_type": "code",
   "execution_count": 24,
   "metadata": {},
   "outputs": [
    {
     "name": "stdout",
     "output_type": "stream",
     "text": [
      "<class 'pandas.core.frame.DataFrame'>\n",
      "RangeIndex: 3772 entries, 0 to 3771\n",
      "Data columns (total 24 columns):\n",
      " #   Column                     Non-Null Count  Dtype  \n",
      "---  ------                     --------------  -----  \n",
      " 0   age                        3771 non-null   float64\n",
      " 1   sex                        3622 non-null   object \n",
      " 2   on_thyroxine               3772 non-null   object \n",
      " 3   query_on_thyroxine         3772 non-null   object \n",
      " 4   on_antithyroid_medication  3772 non-null   object \n",
      " 5   sick                       3772 non-null   object \n",
      " 6   pregnant                   3772 non-null   object \n",
      " 7   thyroid_surgery            3772 non-null   object \n",
      " 8   I131_treatment             3772 non-null   object \n",
      " 9   query_hypothyroid          3772 non-null   object \n",
      " 10  query_hyperthyroid         3772 non-null   object \n",
      " 11  lithium                    3772 non-null   object \n",
      " 12  goitre                     3772 non-null   object \n",
      " 13  tumor                      3772 non-null   object \n",
      " 14  hypopituitary              3772 non-null   object \n",
      " 15  psych                      3772 non-null   object \n",
      " 16  TSH_measured               3772 non-null   object \n",
      " 17  TSH                        3403 non-null   float64\n",
      " 18  T3_measured                3772 non-null   object \n",
      " 19  TT4_measured               3772 non-null   object \n",
      " 20  TT4                        3541 non-null   float64\n",
      " 21  T4U_measured               3772 non-null   object \n",
      " 22  FTI_measured               3772 non-null   object \n",
      " 23  referral_source            3772 non-null   object \n",
      "dtypes: float64(3), object(21)\n",
      "memory usage: 707.4+ KB\n"
     ]
    }
   ],
   "source": [
    "X = X.drop(columns=['TBG_measured'])\n",
    "X.info()"
   ]
  },
  {
   "cell_type": "code",
   "execution_count": 25,
   "metadata": {},
   "outputs": [],
   "source": [
    "X_train, X_test, y_train, y_test = train_test_split(X, y, test_size=0.25, random_state=42)"
   ]
  },
  {
   "cell_type": "code",
   "execution_count": 26,
   "metadata": {},
   "outputs": [],
   "source": [
    "from sklearn.pipeline import make_pipeline\n",
    "from sklearn.compose import ColumnTransformer\n",
    "from sklearn.preprocessing import OneHotEncoder\n",
    "from sklearn.impute import SimpleImputer\n",
    "\n",
    "\n",
    "# YOUR CODE HERE\n",
    "# define column_transformer \n",
    "column_transformer = ColumnTransformer(transformers=[\n",
    "    ('categorical', \n",
    "     make_pipeline(SimpleImputer(strategy='most_frequent'), \n",
    "                   OneHotEncoder(drop='if_binary')), \n",
    "     X.columns[X.dtypes == 'object']), \n",
    "    ('numeric', \n",
    "     SimpleImputer(strategy='mean'), \n",
    "     X.columns[X.dtypes != 'object'])], \n",
    "                                       remainder='passthrough')\n",
    "\n",
    "# Transform the data\n",
    "X_train = column_transformer.fit_transform(X_train)\n",
    "X_test = column_transformer.transform(X_test)"
   ]
  },
  {
   "cell_type": "markdown",
   "metadata": {},
   "source": [
    "### Task 2 <a id=\"task2_2\"></a> (0.7 points  = 0.4 for code + 0.3 for comments)\n",
    "\n",
    "Fit and compare 5 different models (use sklearn): Gradient Boosting, Random Forest, Decision Tree, SVM, Logitics Regression\n",
    "    \n",
    "* Choose one classification metric and justify your choice .\n",
    "* Compare the models using score on cross validation. Mind the class balance when choosing the cross validation. (You can read more about different CV strategies [here](https://scikit-learn.org/stable/modules/cross_validation.html#stratified-k-fold))\n",
    "* Which model has the best performance? Which models overfit or underfit?"
   ]
  },
  {
   "cell_type": "code",
   "execution_count": 27,
   "metadata": {},
   "outputs": [
    {
     "name": "stdout",
     "output_type": "stream",
     "text": [
      "GradientBoostingClassifier test accuracy score estimate using Cross-Validation 0.9307\n",
      "GradientBoostingClassifier actual accuracy test score: 0.9533\n",
      "GradientBoostingClassifier test f1 score estimate using Cross-Validation 0.1566\n",
      "GradientBoostingClassifier actual f1 test score: 0.3714\n",
      "\n",
      "RandomForestClassifier test accuracy score estimate using Cross-Validation 0.9332\n",
      "RandomForestClassifier actual accuracy test score: 0.9480\n",
      "RandomForestClassifier test f1 score estimate using Cross-Validation 0.1730\n",
      "RandomForestClassifier actual f1 test score: 0.3288\n",
      "\n",
      "DecisionTreeClassifier test accuracy score estimate using Cross-Validation 0.9021\n",
      "DecisionTreeClassifier actual accuracy test score: 0.9109\n",
      "DecisionTreeClassifier test f1 score estimate using Cross-Validation 0.2712\n",
      "DecisionTreeClassifier actual f1 test score: 0.3226\n",
      "\n",
      "SVC test accuracy score estimate using Cross-Validation 0.9360\n",
      "SVC actual accuracy test score: 0.9470\n",
      "SVC test f1 score estimate using Cross-Validation 0.0000\n",
      "SVC actual f1 test score: 0.0000\n",
      "\n",
      "LogisticRegression test accuracy score estimate using Cross-Validation 0.9371\n",
      "LogisticRegression actual accuracy test score: 0.9470\n",
      "LogisticRegression test f1 score estimate using Cross-Validation 0.0519\n",
      "LogisticRegression actual f1 test score: 0.0741\n",
      "\n"
     ]
    },
    {
     "name": "stderr",
     "output_type": "stream",
     "text": [
      "C:\\anaconda\\lib\\site-packages\\sklearn\\linear_model\\_logistic.py:814: ConvergenceWarning: lbfgs failed to converge (status=1):\n",
      "STOP: TOTAL NO. of ITERATIONS REACHED LIMIT.\n",
      "\n",
      "Increase the number of iterations (max_iter) or scale the data as shown in:\n",
      "    https://scikit-learn.org/stable/modules/preprocessing.html\n",
      "Please also refer to the documentation for alternative solver options:\n",
      "    https://scikit-learn.org/stable/modules/linear_model.html#logistic-regression\n",
      "  n_iter_i = _check_optimize_result(\n",
      "C:\\anaconda\\lib\\site-packages\\sklearn\\linear_model\\_logistic.py:814: ConvergenceWarning: lbfgs failed to converge (status=1):\n",
      "STOP: TOTAL NO. of ITERATIONS REACHED LIMIT.\n",
      "\n",
      "Increase the number of iterations (max_iter) or scale the data as shown in:\n",
      "    https://scikit-learn.org/stable/modules/preprocessing.html\n",
      "Please also refer to the documentation for alternative solver options:\n",
      "    https://scikit-learn.org/stable/modules/linear_model.html#logistic-regression\n",
      "  n_iter_i = _check_optimize_result(\n",
      "C:\\anaconda\\lib\\site-packages\\sklearn\\linear_model\\_logistic.py:814: ConvergenceWarning: lbfgs failed to converge (status=1):\n",
      "STOP: TOTAL NO. of ITERATIONS REACHED LIMIT.\n",
      "\n",
      "Increase the number of iterations (max_iter) or scale the data as shown in:\n",
      "    https://scikit-learn.org/stable/modules/preprocessing.html\n",
      "Please also refer to the documentation for alternative solver options:\n",
      "    https://scikit-learn.org/stable/modules/linear_model.html#logistic-regression\n",
      "  n_iter_i = _check_optimize_result(\n",
      "C:\\anaconda\\lib\\site-packages\\sklearn\\linear_model\\_logistic.py:814: ConvergenceWarning: lbfgs failed to converge (status=1):\n",
      "STOP: TOTAL NO. of ITERATIONS REACHED LIMIT.\n",
      "\n",
      "Increase the number of iterations (max_iter) or scale the data as shown in:\n",
      "    https://scikit-learn.org/stable/modules/preprocessing.html\n",
      "Please also refer to the documentation for alternative solver options:\n",
      "    https://scikit-learn.org/stable/modules/linear_model.html#logistic-regression\n",
      "  n_iter_i = _check_optimize_result(\n",
      "C:\\anaconda\\lib\\site-packages\\sklearn\\linear_model\\_logistic.py:814: ConvergenceWarning: lbfgs failed to converge (status=1):\n",
      "STOP: TOTAL NO. of ITERATIONS REACHED LIMIT.\n",
      "\n",
      "Increase the number of iterations (max_iter) or scale the data as shown in:\n",
      "    https://scikit-learn.org/stable/modules/preprocessing.html\n",
      "Please also refer to the documentation for alternative solver options:\n",
      "    https://scikit-learn.org/stable/modules/linear_model.html#logistic-regression\n",
      "  n_iter_i = _check_optimize_result(\n"
     ]
    }
   ],
   "source": [
    "# YOUR CODE HERE\n",
    "from sklearn.ensemble import GradientBoostingClassifier, RandomForestClassifier\n",
    "from sklearn.tree import DecisionTreeClassifier\n",
    "from sklearn.svm import SVC\n",
    "from sklearn.linear_model import LogisticRegression\n",
    "\n",
    "from sklearn.model_selection import StratifiedKFold\n",
    "\n",
    "from sklearn.metrics import accuracy_score, f1_score\n",
    "\n",
    "from statistics import mean\n",
    "\n",
    "models = [GradientBoostingClassifier(random_state=42), RandomForestClassifier(random_state=42),\n",
    "         DecisionTreeClassifier(random_state=42), SVC(random_state=42),\n",
    "         LogisticRegression(random_state=42)]\n",
    "model_names = ['GradientBoostingClassifier', 'RandomForestClassifier',\n",
    "         'DecisionTreeClassifier', 'SVC',\n",
    "         'LogisticRegression']\n",
    "\n",
    "for i in range(0, len(models)):\n",
    "    accuracy_scores = []\n",
    "    f1_scores = []\n",
    "    for train, test in StratifiedKFold().split(X_train, y_train):\n",
    "        models[i].fit(X_train[train], y_train[train])\n",
    "        accuracy_scores.append(accuracy_score(models[i].predict(X_train[test]), y_train[test]))\n",
    "        f1_scores.append(f1_score(models[i].predict(X_train[test]), y_train[test]))\n",
    "    print(f'{model_names[i]} test accuracy score estimate using Cross-Validation {mean(accuracy_scores):.4f}')\n",
    "    print(f'{model_names[i]} actual accuracy test score: {accuracy_score(models[i].predict(X_test), y_test):.4f}')\n",
    "    print(f'{model_names[i]} test f1 score estimate using Cross-Validation {mean(f1_scores):.4f}')\n",
    "    print(f'{model_names[i]} actual f1 test score: {f1_score(models[i].predict(X_test), y_test):.4f}')\n",
    "    print()"
   ]
  },
  {
   "cell_type": "code",
   "execution_count": null,
   "metadata": {},
   "outputs": [],
   "source": [
    "print(np.unique(y))\n",
    "print(list(y).count(0))\n",
    "print(list(y).count(1))"
   ]
  },
  {
   "cell_type": "markdown",
   "metadata": {},
   "source": [
    "```Как мы видим, при достаточно высокой accuracy, мы получаем крайне низкие значения f1. Связано это с тем, что f1 является средневзвешенным precision и recall, которые отражают точность попаданий по классу и процент угадываний определённого класса соответственно. Обратим внимание на предсказываемые классы: они крайне несбалансированны. Скорее всего, обученные модели практически всегда предсказывают класс '0', что даёт высокую accuracy (если всегда предсказывать класс '0', то можно получить accuracy = 3541 / (3541+231) ), но низкую f1 (так как recall в таком случае получается низким).\n",
    "Что касается лучшей модели, то на тестовой выборке это Gradient Boosting. Недообученными оказались все модели, если опираться на f1, но хуже всего проявила себя SVC.```"
   ]
  },
  {
   "cell_type": "markdown",
   "metadata": {},
   "source": [
    "### Task 3 <a id=\"task2_3\"></a> (0.5 points = 0.4 for code + 0.1 for comments)\n",
    "\n",
    "More Gradient Boosting. Choose one of the three popular boosting implementations (xgboost, lightgbm, catboost). Select hyperparameters (number of trees, learning rate, depth) on cross-validation and compare with the methods from the previous task. \n",
    "\n"
   ]
  },
  {
   "cell_type": "code",
   "execution_count": null,
   "metadata": {},
   "outputs": [],
   "source": [
    "!pip install catboost"
   ]
  },
  {
   "cell_type": "code",
   "execution_count": null,
   "metadata": {},
   "outputs": [],
   "source": [
    "from catboost import CatBoostClassifier\n",
    "\n",
    "parameters = {'num_trees': np.linspace(200, 1400, 7), \n",
    "              'learning_rate': np.logspace(-3, 0, 4),\n",
    "              'depth': range(1, 10), 'random_state': [42]}\n",
    "\n",
    "clf = CatBoostClassifier()\n",
    "gs = GridSearchCV(clf, parameters, scoring='f1', cv=5, n_jobs=-1)\n",
    "gs.fit(X_train, y_train)"
   ]
  },
  {
   "cell_type": "code",
   "execution_count": null,
   "metadata": {},
   "outputs": [],
   "source": [
    "print(f\"Best parameters: {gs.best_params_}\")\n",
    "print(f\"Best f1-score: {gs.best_score_}\")"
   ]
  },
  {
   "cell_type": "code",
   "execution_count": null,
   "metadata": {},
   "outputs": [],
   "source": [
    "clf = CatBoostClassifier(depth=2, learning_rate=1.0, num_trees=600, random_state=42)\n",
    "clf.fit(X_train, y_train)\n",
    "print(f'Train accuracy score: {accuracy_score(clf.predict(X_train), y_train):.4f}')\n",
    "print(f'Test accuracy score: {accuracy_score(clf.predict(X_test), y_test):.4f}')\n",
    "print(f'Train f1 score: {f1_score(clf.predict(X_train), y_train):.4f}')\n",
    "print(f'Test f1 score: {f1_score(clf.predict(X_test), y_test):.4f}')"
   ]
  },
  {
   "cell_type": "markdown",
   "metadata": {},
   "source": [
    "```Как мы видим, данный метод показал один из лучших результатов по accuracy и даже показал неожиданно высокий результат по f1 на обучающей выборке, однако показал крайне низкий в целом (что свидетельствует о явном переобучении) и средний относительно других моделей.```"
   ]
  },
  {
   "cell_type": "markdown",
   "metadata": {},
   "source": [
    "### Task 4 <a id=\"task2_4\"></a> (0.7 points = 0.4 for code + 0.3 for comments)\n",
    "\n",
    "Now let's train more fancy ensembles:\n",
    "\n",
    "* Bagging with decision trees as base estimators\n",
    "* Bagging with gradient boosting as base estimators (use large amount of trees in gradient boosting, >100)\n",
    "* [Voting classifier](https://scikit-learn.org/stable/modules/generated/sklearn.ensemble.VotingClassifier.html#sklearn.ensemble.VotingClassifier) \n",
    "* [Stacking Classifier](https://scikit-learn.org/stable/modules/generated/sklearn.ensemble.StackingClassifier.html#sklearn.ensemble.StackingClassifier) with Logistic Regression as a final model\n",
    "* [Stacking Classifier](https://scikit-learn.org/stable/modules/generated/sklearn.ensemble.StackingClassifier.html#sklearn.ensemble.StackingClassifier) with Gradeint Boosting as a final model\n",
    "\n",
    "\n",
    "If not stated in the task, feel free to tune / choose hyperparameters and base models.\n",
    "\n",
    "Answer the questions:\n",
    "* Which model has the best performance?\n",
    "* Does bagging reduce overfitting of the gradient boosting with large amount of trees? \n",
    "* What is the difference between voting and staking? "
   ]
  },
  {
   "cell_type": "code",
   "execution_count": null,
   "metadata": {},
   "outputs": [],
   "source": [
    "from sklearn.ensemble import BaggingClassifier\n",
    "\n",
    "parameters = {'base_estimator__max_depth': range(1, 10), 'n_estimators': range(1, 10)}\n",
    "\n",
    "clf = BaggingClassifier(base_estimator=DecisionTreeClassifier(random_state=42), random_state=42)\n",
    "gs = GridSearchCV(clf, parameters, scoring='f1', cv=5, n_jobs=-1)\n",
    "gs.fit(X_train, y_train)\n",
    "\n",
    "print(f\"Best parameters: {gs.best_params_}\")\n",
    "print(f\"Best f1-score: {gs.best_score_}\")"
   ]
  },
  {
   "cell_type": "code",
   "execution_count": null,
   "metadata": {},
   "outputs": [],
   "source": [
    "clf = BaggingClassifier(base_estimator=DecisionTreeClassifier(max_depth=6, random_state=42), \n",
    "                        n_estimators=4, random_state=42)\n",
    "clf.fit(X_train, y_train)\n",
    "print(f'Train accuracy score: {accuracy_score(clf.predict(X_train), y_train):.4f}')\n",
    "print(f'Test accuracy score: {accuracy_score(clf.predict(X_test), y_test):.4f}')\n",
    "print(f'Train f1 score: {f1_score(clf.predict(X_train), y_train):.4f}')\n",
    "print(f'Test f1 score: {f1_score(clf.predict(X_test), y_test):.4f}')"
   ]
  },
  {
   "cell_type": "code",
   "execution_count": null,
   "metadata": {},
   "outputs": [],
   "source": [
    "parameters = {'base_estimator__max_depth': range(1, 10), \n",
    "              'base_estimator__n_estimators': np.linspace(200, 1400, 7, dtype=int), \n",
    "              'n_estimators': range(1, 10)}\n",
    "\n",
    "clf = BaggingClassifier(base_estimator=GradientBoostingClassifier(random_state=42), random_state=42)\n",
    "gs = GridSearchCV(clf, parameters, scoring='f1', cv=5, n_jobs=-1)\n",
    "gs.fit(X_train, y_train)\n",
    "\n",
    "print(f\"Best parameters: {gs.best_params_}\")\n",
    "print(f\"Best f1-score: {gs.best_score_}\")"
   ]
  },
  {
   "cell_type": "code",
   "execution_count": null,
   "metadata": {},
   "outputs": [],
   "source": [
    "clf = BaggingClassifier(base_estimator=GradientBoostingClassifier(max_depth=5, n_estimators=400, random_state=42), \n",
    "                        n_estimators=4, random_state=42)\n",
    "clf.fit(X_train, y_train)\n",
    "print(f'Train accuracy score: {accuracy_score(clf.predict(X_train), y_train):.4f}')\n",
    "print(f'Test accuracy score: {accuracy_score(clf.predict(X_test), y_test):.4f}')\n",
    "print(f'Train f1 score: {f1_score(clf.predict(X_train), y_train):.4f}')\n",
    "print(f'Test f1 score: {f1_score(clf.predict(X_test), y_test):.4f}')"
   ]
  },
  {
   "cell_type": "code",
   "execution_count": null,
   "metadata": {},
   "outputs": [],
   "source": [
    "from sklearn.ensemble import VotingClassifier\n",
    "\n",
    "parameters = {'voting': ['soft', 'hard']}\n",
    "\n",
    "clf = VotingClassifier(estimators=[('GradientBoosting', GradientBoostingClassifier(random_state=42)), \n",
    "                                   ('DecisionTree', DecisionTreeClassifier(random_state=42)), \n",
    "                                   ('RandomForest', RandomForestClassifier(random_state=42))])\n",
    "gs = GridSearchCV(clf, parameters, scoring='f1', cv=5, n_jobs=-1)\n",
    "gs.fit(X_train, y_train)\n",
    "\n",
    "print(f\"Best parameters: {gs.best_params_}\")\n",
    "print(f\"Best f1-score: {gs.best_score_}\")"
   ]
  },
  {
   "cell_type": "code",
   "execution_count": null,
   "metadata": {},
   "outputs": [],
   "source": [
    "clf = VotingClassifier(estimators=[('GradientBoosting', GradientBoostingClassifier(random_state=42)), \n",
    "                                   ('DecisionTree', DecisionTreeClassifier(random_state=42)), \n",
    "                                   ('RandomForest', RandomForestClassifier(random_state=42))], \n",
    "                       voting='soft')\n",
    "clf.fit(X_train, y_train)\n",
    "print(f'Train accuracy score: {accuracy_score(clf.predict(X_train), y_train):.4f}')\n",
    "print(f'Test accuracy score: {accuracy_score(clf.predict(X_test), y_test):.4f}')\n",
    "print(f'Train f1 score: {f1_score(clf.predict(X_train), y_train):.4f}')\n",
    "print(f'Test f1 score: {f1_score(clf.predict(X_test), y_test):.4f}')"
   ]
  },
  {
   "cell_type": "code",
   "execution_count": null,
   "metadata": {},
   "outputs": [],
   "source": [
    "from sklearn.ensemble import StackingClassifier\n",
    "\n",
    "clf = StackingClassifier(estimators=[('DecisionTree', DecisionTreeClassifier(random_state=42)), \n",
    "                                     ('RandomForest', RandomForestClassifier(random_state=42))],\n",
    "                        final_estimator=LogisticRegression(random_state=42),\n",
    "                        n_jobs=-1)\n",
    "clf.fit(X_train, y_train)\n",
    "print(f'Train accuracy score: {accuracy_score(clf.predict(X_train), y_train):.4f}')\n",
    "print(f'Test accuracy score: {accuracy_score(clf.predict(X_test), y_test):.4f}')\n",
    "print(f'Train f1 score: {f1_score(clf.predict(X_train), y_train):.4f}')\n",
    "print(f'Test f1 score: {f1_score(clf.predict(X_test), y_test):.4f}')"
   ]
  },
  {
   "cell_type": "code",
   "execution_count": null,
   "metadata": {},
   "outputs": [],
   "source": [
    "clf = StackingClassifier(estimators=[('DecisionTree', DecisionTreeClassifier(random_state=42)), \n",
    "                                     ('RandomForest', RandomForestClassifier(random_state=42))],\n",
    "                        final_estimator=GradientBoostingClassifier(random_state=42),\n",
    "                        passthrough=True,\n",
    "                        n_jobs=-1)\n",
    "clf.fit(X_train, y_train)\n",
    "print(f'Train accuracy score: {accuracy_score(clf.predict(X_train), y_train):.4f}')\n",
    "print(f'Test accuracy score: {accuracy_score(clf.predict(X_test), y_test):.4f}')\n",
    "print(f'Train f1 score: {f1_score(clf.predict(X_train), y_train):.4f}')\n",
    "print(f'Test f1 score: {f1_score(clf.predict(X_test), y_test):.4f}')"
   ]
  },
  {
   "cell_type": "markdown",
   "metadata": {},
   "source": [
    "```Начнём с отличия между voting и stacking. Основное заключается в том, что в voting объединяются несколько разных моделей и предсказанное значение усредняется. В случае stacking предсказания основных моделей не усредняются и не возвращаются, а подаются на вход финальной модели, которая уже возвращает предсказания.\n",
    "Перейдём к оценке моделей. Во-первых, все они серьёзно страдают от переобучения (в наибольшей степени - voting, в наименьшей - bagging с основной моделью DecisionTrees). Во-вторых, наилучшей моделью на тестовой выборке оказалась voting, несмотря на наибольшее переобучение. Однако, если учитывать переобучение, то необходимо обратить внимание на модель stacking с финальной моделью GradientBoosting - эта модель значительно меньше переобучена, а на тестовой выборке выдаёт не настолько же меньший результат. В-третьих, сравнивая модели, где используется GradientBossting, можно сказать что переобучение в них ослабло по сравнению с CatBoosting.```"
   ]
  },
  {
   "cell_type": "markdown",
   "metadata": {},
   "source": [
    "### Task 5 <a id=\"task2_5\"></a> (0.1 points)\n",
    "\n",
    "Report the test score for the best model, that you were able to get on this dataset. "
   ]
  },
  {
   "cell_type": "markdown",
   "metadata": {},
   "source": [
    "```По итогу, наилучший результат на тестовой выборке, а именно - 3714, оказался у простой модели GradientBoosting из задания 2. Однако судить только по этому показателю было бы не вполне корректно. Дело в том, что на обучающей выборке показатель этой модели ещё в разы меньше, что, скорее всего, свидетельствует о том, что тестовая выборка просто оказалась более подходящей для полученной модели.\n",
    "Если судить более целостно, а именно:\n",
    "* учитывать неплохие показатели на обучающей выборке\n",
    "* учитывать неплохие показатели на тестовой выборке\n",
    "* учитывать наличие переобучения\n",
    "то наилучшей моделью я бы назвал последнюю - stacking с финальной GradientBoosting, поскольку она показала неплохой, но не слишком завышенный (не слишком переобучилась) результат на обучающей выборке и один из лучших результатов на тестовой выборке. Также, стоит обратить внимание на модель voting, у которой лучший показатель на тестовой выборке, но также очень явное переобучение.```"
   ]
  }
 ],
 "metadata": {
  "kernelspec": {
   "display_name": "Python 3 (ipykernel)",
   "language": "python",
   "name": "python3"
  },
  "language_info": {
   "codemirror_mode": {
    "name": "ipython",
    "version": 3
   },
   "file_extension": ".py",
   "mimetype": "text/x-python",
   "name": "python",
   "nbconvert_exporter": "python",
   "pygments_lexer": "ipython3",
   "version": "3.9.7"
  }
 },
 "nbformat": 4,
 "nbformat_minor": 4
}
